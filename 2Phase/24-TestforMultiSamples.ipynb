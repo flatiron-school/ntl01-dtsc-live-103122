{
 "cells": [
  {
   "cell_type": "markdown",
   "metadata": {
    "toc": true
   },
   "source": [
    "<h1>Table of Contents<span class=\"tocSkip\"></span></h1>\n",
    "<div class=\"toc\"><ul class=\"toc-item\"><li><span><a href=\"#Objectives\" data-toc-modified-id=\"Objectives-1\"><span class=\"toc-item-num\">1&nbsp;&nbsp;</span>Objectives</a></span></li><li><span><a href=\"#Preparing-Some-Data\" data-toc-modified-id=\"Preparing-Some-Data-2\"><span class=\"toc-item-num\">2&nbsp;&nbsp;</span>Preparing Some Data</a></span></li><li><span><a href=\"#Comparing-Samples-to-Another\" data-toc-modified-id=\"Comparing-Samples-to-Another-3\"><span class=\"toc-item-num\">3&nbsp;&nbsp;</span>Comparing Samples to Another</a></span><ul class=\"toc-item\"><li><span><a href=\"#Two-Sample-$t$-Test\" data-toc-modified-id=\"Two-Sample-$t$-Test-3.1\"><span class=\"toc-item-num\">3.1&nbsp;&nbsp;</span>Two Sample $t$-Test</a></span><ul class=\"toc-item\"><li><span><a href=\"#Visualization-of-Two-Samples\" data-toc-modified-id=\"Visualization-of-Two-Samples-3.1.1\"><span class=\"toc-item-num\">3.1.1&nbsp;&nbsp;</span>Visualization of Two Samples</a></span></li><li><span><a href=\"#Performing-the-Two-Sample-$t$-Test-(SciPy)\" data-toc-modified-id=\"Performing-the-Two-Sample-$t$-Test-(SciPy)-3.1.2\"><span class=\"toc-item-num\">3.1.2&nbsp;&nbsp;</span>Performing the Two-Sample $t$-Test (SciPy)</a></span></li></ul></li><li><span><a href=\"#But-I-Want-It-All!\" data-toc-modified-id=\"But-I-Want-It-All!-3.2\"><span class=\"toc-item-num\">3.2&nbsp;&nbsp;</span>But I Want It All!</a></span><ul class=\"toc-item\"><li><span><a href=\"#Visualization-of-More-Samples\" data-toc-modified-id=\"Visualization-of-More-Samples-3.2.1\"><span class=\"toc-item-num\">3.2.1&nbsp;&nbsp;</span>Visualization of More Samples</a></span></li><li><span><a href=\"#Performing-Multiple-$t$-tests-←-DO-NOT-DO!\" data-toc-modified-id=\"Performing-Multiple-$t$-tests-←-DO-NOT-DO!-3.2.2\"><span class=\"toc-item-num\">3.2.2&nbsp;&nbsp;</span>Performing Multiple $t$-tests ← DO NOT DO!</a></span></li><li><span><a href=\"#Issues?\" data-toc-modified-id=\"Issues?-3.2.3\"><span class=\"toc-item-num\">3.2.3&nbsp;&nbsp;</span>Issues?</a></span></li></ul></li></ul></li><li><span><a href=\"#ANOVA---Analysis-of-Variance\" data-toc-modified-id=\"ANOVA---Analysis-of-Variance-4\"><span class=\"toc-item-num\">4&nbsp;&nbsp;</span>ANOVA - Analysis of Variance</a></span><ul class=\"toc-item\"><li><span><a href=\"#The-$F$-Statistic\" data-toc-modified-id=\"The-$F$-Statistic-4.1\"><span class=\"toc-item-num\">4.1&nbsp;&nbsp;</span>The $F$-Statistic</a></span><ul class=\"toc-item\"><li><span><a href=\"#Visualizing-the-Data-and-$F$-Statistic\" data-toc-modified-id=\"Visualizing-the-Data-and-$F$-Statistic-4.1.1\"><span class=\"toc-item-num\">4.1.1&nbsp;&nbsp;</span>Visualizing the Data and $F$-Statistic</a></span><ul class=\"toc-item\"><li><span><a href=\"#More-Details-on-Variance-Between-and-Within-Groups\" data-toc-modified-id=\"More-Details-on-Variance-Between-and-Within-Groups-4.1.1.1\"><span class=\"toc-item-num\">4.1.1.1&nbsp;&nbsp;</span>More Details on Variance Between and Within Groups</a></span></li></ul></li><li><span><a href=\"#Between-Group-Variability\" data-toc-modified-id=\"Between-Group-Variability-4.1.2\"><span class=\"toc-item-num\">4.1.2&nbsp;&nbsp;</span>Between Group Variability</a></span></li><li><span><a href=\"#Within-Group-Variability\" data-toc-modified-id=\"Within-Group-Variability-4.1.3\"><span class=\"toc-item-num\">4.1.3&nbsp;&nbsp;</span>Within Group Variability</a></span></li></ul></li><li><span><a href=\"#Performing-One-Way-ANOVA\" data-toc-modified-id=\"Performing-One-Way-ANOVA-4.2\"><span class=\"toc-item-num\">4.2&nbsp;&nbsp;</span>Performing One-Way ANOVA</a></span><ul class=\"toc-item\"><li><span><a href=\"#Note:-Excluding-One-Group\" data-toc-modified-id=\"Note:-Excluding-One-Group-4.2.1\"><span class=\"toc-item-num\">4.2.1&nbsp;&nbsp;</span>Note: Excluding One Group</a></span></li></ul></li><li><span><a href=\"#ANOVA-is-an-Omnibus-Test\" data-toc-modified-id=\"ANOVA-is-an-Omnibus-Test-4.3\"><span class=\"toc-item-num\">4.3&nbsp;&nbsp;</span>ANOVA is an Omnibus Test</a></span></li></ul></li><li><span><a href=\"#Exercise:-Two-Sample-T-Test\" data-toc-modified-id=\"Exercise:-Two-Sample-T-Test-5\"><span class=\"toc-item-num\">5&nbsp;&nbsp;</span>Exercise: Two-Sample T-Test</a></span></li><li><span><a href=\"#Level-Up---statsmodels\" data-toc-modified-id=\"Level-Up---statsmodels-6\"><span class=\"toc-item-num\">6&nbsp;&nbsp;</span>Level Up - <code>statsmodels</code></a></span></li><li><span><a href=\"#Level-Up---Follow-Up-with-Post-Hoc-Tests\" data-toc-modified-id=\"Level-Up---Follow-Up-with-Post-Hoc-Tests-7\"><span class=\"toc-item-num\">7&nbsp;&nbsp;</span>Level Up - Follow-Up with Post-Hoc Tests</a></span></li><li><span><a href=\"#Level-Up---Two-Way-ANOVA\" data-toc-modified-id=\"Level-Up---Two-Way-ANOVA-8\"><span class=\"toc-item-num\">8&nbsp;&nbsp;</span>Level Up - Two-Way ANOVA</a></span></li></ul></div>"
   ]
  },
  {
   "cell_type": "code",
   "execution_count": 2,
   "metadata": {
    "ExecuteTime": {
     "end_time": "2022-11-28T01:22:50.001589Z",
     "start_time": "2022-11-28T01:22:48.647238Z"
    },
    "slideshow": {
     "slide_type": "slide"
    }
   },
   "outputs": [],
   "source": [
    "import numpy as np\n",
    "from scipy import stats\n",
    "import pandas as pd\n",
    "import matplotlib.pyplot as plt\n",
    "import seaborn as sns"
   ]
  },
  {
   "cell_type": "markdown",
   "metadata": {
    "heading_collapsed": true,
    "slideshow": {
     "slide_type": "slide"
    }
   },
   "source": [
    "# Objectives"
   ]
  },
  {
   "cell_type": "markdown",
   "metadata": {
    "hidden": true,
    "slideshow": {
     "slide_type": "fragment"
    }
   },
   "source": [
    "- Understand the issues of multiple comparisons\n",
    "- Compare and contrast $t$-tests with ANOVA\n",
    "- Implement ANOVA in Python"
   ]
  },
  {
   "cell_type": "markdown",
   "metadata": {
    "heading_collapsed": true,
    "slideshow": {
     "slide_type": "slide"
    }
   },
   "source": [
    "# Preparing Some Data"
   ]
  },
  {
   "cell_type": "markdown",
   "metadata": {
    "hidden": true,
    "slideshow": {
     "slide_type": "fragment"
    }
   },
   "source": [
    "> We will use the data from this [documentation on SciPy's `f_oneway()`](https://docs.scipy.org/doc/scipy/reference/generated/scipy.stats.f_oneway.html) \"on a shell measurement (the length of the anterior adductor muscle scar, standardized by dividing by length) in the mussel *Mytilus trossulus* from five locations: Tillamook, Oregon; Newport, Oregon; Petersburg, Alaska; Magadan, Russia; and Tvarminne, Finland, taken from a much larger data set\""
   ]
  },
  {
   "cell_type": "markdown",
   "metadata": {
    "hidden": true,
    "slideshow": {
     "slide_type": "fragment"
    }
   },
   "source": [
    "<img alt=\"mytilus trossulus mussel shell\" src=\"images/mytilus_trossulus_inside.jpg\" width=50%/>\n",
    "\n",
    "> Image from Walla Walla University: https://inverts.wallawalla.edu/Mollusca/Bivalvia/Mytiloida/Mytilidae/Mytilus_trossulus.html"
   ]
  },
  {
   "cell_type": "code",
   "execution_count": 3,
   "metadata": {
    "ExecuteTime": {
     "end_time": "2022-11-28T01:22:50.032590Z",
     "start_time": "2022-11-28T01:22:50.003085Z"
    },
    "hidden": true,
    "slideshow": {
     "slide_type": "slide"
    }
   },
   "outputs": [
    {
     "data": {
      "text/html": [
       "<div>\n",
       "<style scoped>\n",
       "    .dataframe tbody tr th:only-of-type {\n",
       "        vertical-align: middle;\n",
       "    }\n",
       "\n",
       "    .dataframe tbody tr th {\n",
       "        vertical-align: top;\n",
       "    }\n",
       "\n",
       "    .dataframe thead th {\n",
       "        text-align: right;\n",
       "    }\n",
       "</style>\n",
       "<table border=\"1\" class=\"dataframe\">\n",
       "  <thead>\n",
       "    <tr style=\"text-align: right;\">\n",
       "      <th></th>\n",
       "      <th>area</th>\n",
       "      <th>shell_standardized</th>\n",
       "    </tr>\n",
       "  </thead>\n",
       "  <tbody>\n",
       "    <tr>\n",
       "      <th>0</th>\n",
       "      <td>tillamook</td>\n",
       "      <td>0.0571</td>\n",
       "    </tr>\n",
       "    <tr>\n",
       "      <th>1</th>\n",
       "      <td>tillamook</td>\n",
       "      <td>0.0813</td>\n",
       "    </tr>\n",
       "    <tr>\n",
       "      <th>2</th>\n",
       "      <td>tillamook</td>\n",
       "      <td>0.0831</td>\n",
       "    </tr>\n",
       "    <tr>\n",
       "      <th>3</th>\n",
       "      <td>tillamook</td>\n",
       "      <td>0.0976</td>\n",
       "    </tr>\n",
       "    <tr>\n",
       "      <th>4</th>\n",
       "      <td>tillamook</td>\n",
       "      <td>0.0817</td>\n",
       "    </tr>\n",
       "    <tr>\n",
       "      <th>5</th>\n",
       "      <td>tillamook</td>\n",
       "      <td>0.0859</td>\n",
       "    </tr>\n",
       "    <tr>\n",
       "      <th>6</th>\n",
       "      <td>tillamook</td>\n",
       "      <td>0.0735</td>\n",
       "    </tr>\n",
       "    <tr>\n",
       "      <th>7</th>\n",
       "      <td>tillamook</td>\n",
       "      <td>0.0659</td>\n",
       "    </tr>\n",
       "    <tr>\n",
       "      <th>8</th>\n",
       "      <td>tillamook</td>\n",
       "      <td>0.0923</td>\n",
       "    </tr>\n",
       "    <tr>\n",
       "      <th>9</th>\n",
       "      <td>tillamook</td>\n",
       "      <td>0.0836</td>\n",
       "    </tr>\n",
       "    <tr>\n",
       "      <th>10</th>\n",
       "      <td>newport</td>\n",
       "      <td>0.0873</td>\n",
       "    </tr>\n",
       "    <tr>\n",
       "      <th>11</th>\n",
       "      <td>newport</td>\n",
       "      <td>0.0662</td>\n",
       "    </tr>\n",
       "    <tr>\n",
       "      <th>12</th>\n",
       "      <td>newport</td>\n",
       "      <td>0.0672</td>\n",
       "    </tr>\n",
       "    <tr>\n",
       "      <th>13</th>\n",
       "      <td>newport</td>\n",
       "      <td>0.0819</td>\n",
       "    </tr>\n",
       "    <tr>\n",
       "      <th>14</th>\n",
       "      <td>newport</td>\n",
       "      <td>0.0749</td>\n",
       "    </tr>\n",
       "    <tr>\n",
       "      <th>15</th>\n",
       "      <td>newport</td>\n",
       "      <td>0.0649</td>\n",
       "    </tr>\n",
       "    <tr>\n",
       "      <th>16</th>\n",
       "      <td>newport</td>\n",
       "      <td>0.0835</td>\n",
       "    </tr>\n",
       "    <tr>\n",
       "      <th>17</th>\n",
       "      <td>newport</td>\n",
       "      <td>0.0725</td>\n",
       "    </tr>\n",
       "    <tr>\n",
       "      <th>18</th>\n",
       "      <td>petersburg</td>\n",
       "      <td>0.0974</td>\n",
       "    </tr>\n",
       "    <tr>\n",
       "      <th>19</th>\n",
       "      <td>petersburg</td>\n",
       "      <td>0.1352</td>\n",
       "    </tr>\n",
       "    <tr>\n",
       "      <th>20</th>\n",
       "      <td>petersburg</td>\n",
       "      <td>0.0817</td>\n",
       "    </tr>\n",
       "    <tr>\n",
       "      <th>21</th>\n",
       "      <td>petersburg</td>\n",
       "      <td>0.1016</td>\n",
       "    </tr>\n",
       "    <tr>\n",
       "      <th>22</th>\n",
       "      <td>petersburg</td>\n",
       "      <td>0.0968</td>\n",
       "    </tr>\n",
       "    <tr>\n",
       "      <th>23</th>\n",
       "      <td>petersburg</td>\n",
       "      <td>0.1064</td>\n",
       "    </tr>\n",
       "    <tr>\n",
       "      <th>24</th>\n",
       "      <td>petersburg</td>\n",
       "      <td>0.1050</td>\n",
       "    </tr>\n",
       "    <tr>\n",
       "      <th>25</th>\n",
       "      <td>magadan</td>\n",
       "      <td>0.1033</td>\n",
       "    </tr>\n",
       "    <tr>\n",
       "      <th>26</th>\n",
       "      <td>magadan</td>\n",
       "      <td>0.0915</td>\n",
       "    </tr>\n",
       "    <tr>\n",
       "      <th>27</th>\n",
       "      <td>magadan</td>\n",
       "      <td>0.0781</td>\n",
       "    </tr>\n",
       "    <tr>\n",
       "      <th>28</th>\n",
       "      <td>magadan</td>\n",
       "      <td>0.0685</td>\n",
       "    </tr>\n",
       "    <tr>\n",
       "      <th>29</th>\n",
       "      <td>magadan</td>\n",
       "      <td>0.0677</td>\n",
       "    </tr>\n",
       "    <tr>\n",
       "      <th>30</th>\n",
       "      <td>magadan</td>\n",
       "      <td>0.0697</td>\n",
       "    </tr>\n",
       "    <tr>\n",
       "      <th>31</th>\n",
       "      <td>magadan</td>\n",
       "      <td>0.0764</td>\n",
       "    </tr>\n",
       "    <tr>\n",
       "      <th>32</th>\n",
       "      <td>magadan</td>\n",
       "      <td>0.0689</td>\n",
       "    </tr>\n",
       "    <tr>\n",
       "      <th>33</th>\n",
       "      <td>tvarminne</td>\n",
       "      <td>0.0703</td>\n",
       "    </tr>\n",
       "    <tr>\n",
       "      <th>34</th>\n",
       "      <td>tvarminne</td>\n",
       "      <td>0.1026</td>\n",
       "    </tr>\n",
       "    <tr>\n",
       "      <th>35</th>\n",
       "      <td>tvarminne</td>\n",
       "      <td>0.0956</td>\n",
       "    </tr>\n",
       "    <tr>\n",
       "      <th>36</th>\n",
       "      <td>tvarminne</td>\n",
       "      <td>0.0973</td>\n",
       "    </tr>\n",
       "    <tr>\n",
       "      <th>37</th>\n",
       "      <td>tvarminne</td>\n",
       "      <td>0.1039</td>\n",
       "    </tr>\n",
       "    <tr>\n",
       "      <th>38</th>\n",
       "      <td>tvarminne</td>\n",
       "      <td>0.1045</td>\n",
       "    </tr>\n",
       "  </tbody>\n",
       "</table>\n",
       "</div>"
      ],
      "text/plain": [
       "          area  shell_standardized\n",
       "0    tillamook              0.0571\n",
       "1    tillamook              0.0813\n",
       "2    tillamook              0.0831\n",
       "3    tillamook              0.0976\n",
       "4    tillamook              0.0817\n",
       "5    tillamook              0.0859\n",
       "6    tillamook              0.0735\n",
       "7    tillamook              0.0659\n",
       "8    tillamook              0.0923\n",
       "9    tillamook              0.0836\n",
       "10     newport              0.0873\n",
       "11     newport              0.0662\n",
       "12     newport              0.0672\n",
       "13     newport              0.0819\n",
       "14     newport              0.0749\n",
       "15     newport              0.0649\n",
       "16     newport              0.0835\n",
       "17     newport              0.0725\n",
       "18  petersburg              0.0974\n",
       "19  petersburg              0.1352\n",
       "20  petersburg              0.0817\n",
       "21  petersburg              0.1016\n",
       "22  petersburg              0.0968\n",
       "23  petersburg              0.1064\n",
       "24  petersburg              0.1050\n",
       "25     magadan              0.1033\n",
       "26     magadan              0.0915\n",
       "27     magadan              0.0781\n",
       "28     magadan              0.0685\n",
       "29     magadan              0.0677\n",
       "30     magadan              0.0697\n",
       "31     magadan              0.0764\n",
       "32     magadan              0.0689\n",
       "33   tvarminne              0.0703\n",
       "34   tvarminne              0.1026\n",
       "35   tvarminne              0.0956\n",
       "36   tvarminne              0.0973\n",
       "37   tvarminne              0.1039\n",
       "38   tvarminne              0.1045"
      ]
     },
     "execution_count": 3,
     "metadata": {},
     "output_type": "execute_result"
    }
   ],
   "source": [
    "# Data found from above URL\n",
    "tillamook = [0.0571, 0.0813, 0.0831, 0.0976, 0.0817, 0.0859, 0.0735,\n",
    "             0.0659, 0.0923, 0.0836]\n",
    "newport = [0.0873, 0.0662, 0.0672, 0.0819, 0.0749, 0.0649, 0.0835,\n",
    "           0.0725]\n",
    "petersburg = [0.0974, 0.1352, 0.0817, 0.1016, 0.0968, 0.1064, 0.105]\n",
    "magadan = [0.1033, 0.0915, 0.0781, 0.0685, 0.0677, 0.0697, 0.0764,\n",
    "           0.0689]\n",
    "tvarminne = [0.0703, 0.1026, 0.0956, 0.0973, 0.1039, 0.1045]\n",
    "\n",
    "# Nice DF for us\n",
    "data = []\n",
    "data += [('tillamook', v) for v in tillamook]\n",
    "data += [('newport', v) for v in newport]\n",
    "data += [('petersburg', v) for v in petersburg]\n",
    "data += [('magadan', v) for v in magadan]\n",
    "data += [('tvarminne', v) for v in tvarminne]\n",
    "\n",
    "df = pd.DataFrame(data=data, columns=['area','shell_standardized'])\n",
    "df.sample(8)\n",
    "df"
   ]
  },
  {
   "cell_type": "code",
   "execution_count": 4,
   "metadata": {
    "ExecuteTime": {
     "end_time": "2022-11-28T01:22:50.063584Z",
     "start_time": "2022-11-28T01:22:50.036085Z"
    },
    "hidden": true,
    "slideshow": {
     "slide_type": "slide"
    }
   },
   "outputs": [
    {
     "data": {
      "text/html": [
       "<div>\n",
       "<style scoped>\n",
       "    .dataframe tbody tr th:only-of-type {\n",
       "        vertical-align: middle;\n",
       "    }\n",
       "\n",
       "    .dataframe tbody tr th {\n",
       "        vertical-align: top;\n",
       "    }\n",
       "\n",
       "    .dataframe thead tr th {\n",
       "        text-align: left;\n",
       "    }\n",
       "\n",
       "    .dataframe thead tr:last-of-type th {\n",
       "        text-align: right;\n",
       "    }\n",
       "</style>\n",
       "<table border=\"1\" class=\"dataframe\">\n",
       "  <thead>\n",
       "    <tr>\n",
       "      <th></th>\n",
       "      <th colspan=\"2\" halign=\"left\">shell_standardized</th>\n",
       "    </tr>\n",
       "    <tr>\n",
       "      <th></th>\n",
       "      <th>mean</th>\n",
       "      <th>std</th>\n",
       "    </tr>\n",
       "    <tr>\n",
       "      <th>area</th>\n",
       "      <th></th>\n",
       "      <th></th>\n",
       "    </tr>\n",
       "  </thead>\n",
       "  <tbody>\n",
       "    <tr>\n",
       "      <th>magadan</th>\n",
       "      <td>0.078012</td>\n",
       "      <td>0.012945</td>\n",
       "    </tr>\n",
       "    <tr>\n",
       "      <th>newport</th>\n",
       "      <td>0.074800</td>\n",
       "      <td>0.008597</td>\n",
       "    </tr>\n",
       "    <tr>\n",
       "      <th>petersburg</th>\n",
       "      <td>0.103443</td>\n",
       "      <td>0.016209</td>\n",
       "    </tr>\n",
       "    <tr>\n",
       "      <th>tillamook</th>\n",
       "      <td>0.080200</td>\n",
       "      <td>0.011963</td>\n",
       "    </tr>\n",
       "    <tr>\n",
       "      <th>tvarminne</th>\n",
       "      <td>0.095700</td>\n",
       "      <td>0.012962</td>\n",
       "    </tr>\n",
       "  </tbody>\n",
       "</table>\n",
       "</div>"
      ],
      "text/plain": [
       "           shell_standardized          \n",
       "                         mean       std\n",
       "area                                   \n",
       "magadan              0.078012  0.012945\n",
       "newport              0.074800  0.008597\n",
       "petersburg           0.103443  0.016209\n",
       "tillamook            0.080200  0.011963\n",
       "tvarminne            0.095700  0.012962"
      ]
     },
     "execution_count": 4,
     "metadata": {},
     "output_type": "execute_result"
    }
   ],
   "source": [
    "# Looking at the different groups\n",
    "df.groupby('area').agg(['mean', 'std'])"
   ]
  },
  {
   "cell_type": "markdown",
   "metadata": {
    "heading_collapsed": true,
    "slideshow": {
     "slide_type": "slide"
    }
   },
   "source": [
    "# Comparing Samples to Another"
   ]
  },
  {
   "cell_type": "markdown",
   "metadata": {
    "hidden": true,
    "slideshow": {
     "slide_type": "fragment"
    }
   },
   "source": [
    "In the past lectures, we focused on 1-sample tests where we compare a sample with the population.\n",
    "\n",
    "But sometimes we really want to compare two or more samples together. That's going to be our main focus today."
   ]
  },
  {
   "cell_type": "markdown",
   "metadata": {
    "hidden": true,
    "slideshow": {
     "slide_type": "fragment"
    }
   },
   "source": [
    "We'll start with the two sample $t$-test and then discuss its limitations."
   ]
  },
  {
   "cell_type": "markdown",
   "metadata": {
    "heading_collapsed": true,
    "hidden": true,
    "slideshow": {
     "slide_type": "slide"
    }
   },
   "source": [
    "## Two Sample $t$-Test"
   ]
  },
  {
   "cell_type": "markdown",
   "metadata": {
    "hidden": true,
    "slideshow": {
     "slide_type": "fragment"
    }
   },
   "source": [
    "> Sometimes we want to do a hypothesis test to compare two samples to see if they're not significantly different from another (they come from the same overlying population)."
   ]
  },
  {
   "cell_type": "markdown",
   "metadata": {
    "hidden": true,
    "slideshow": {
     "slide_type": "slide"
    }
   },
   "source": [
    "We won't go into the details of performing a two sample $t$-test, but know that we must consider the means, samples' standard deviations, and number of observations for each sample to perform the test."
   ]
  },
  {
   "cell_type": "markdown",
   "metadata": {
    "hidden": true,
    "slideshow": {
     "slide_type": "fragment"
    }
   },
   "source": [
    "> **MATH**\n",
    "> \n",
    "> Here is the formula for the two sample $t$-test:\n",
    "> \n",
    "> $$ t = \\frac{\\bar{x_1} - \\bar{x_2}}{\\sqrt{s^2 \\left( \\frac{1}{n_1} + \\frac{1}{n_2} \\right)}}$$\n",
    ">\n",
    "> where $s^2$ is the pooled sample variance:\n",
    ">\n",
    "> $$ s^2 = \\frac{\\sum_{i=1}^{n_1} \\left(x_i - \\bar{x_1}\\right)^2 + \\sum_{j=1}^{n_2} \\left(x_j - \\bar{x_2}\\right)^2 }{n_1 + n_2 - 2} $$"
   ]
  },
  {
   "cell_type": "markdown",
   "metadata": {
    "hidden": true,
    "slideshow": {
     "slide_type": "slide"
    }
   },
   "source": [
    "We can use SciPy's implementation using either the samples (`scipy.stat.ttest_ind()`) or the statistics of the samples (`scipy.stat.ttest_ind_from_stats()`). Here are their respective documentations:\n",
    "\n",
    "- https://docs.scipy.org/doc/scipy/reference/generated/scipy.stats.ttest_ind.html\n",
    "- https://docs.scipy.org/doc/scipy/reference/generated/scipy.stats.ttest_ind_from_stats.html"
   ]
  },
  {
   "cell_type": "markdown",
   "metadata": {
    "heading_collapsed": true,
    "hidden": true,
    "slideshow": {
     "slide_type": "slide"
    }
   },
   "source": [
    "### Visualization of Two Samples"
   ]
  },
  {
   "cell_type": "markdown",
   "metadata": {
    "hidden": true,
    "slideshow": {
     "slide_type": "fragment"
    }
   },
   "source": [
    "Let's isolate the two Oregon locations and observe what these two groups look like:"
   ]
  },
  {
   "cell_type": "code",
   "execution_count": 5,
   "metadata": {
    "ExecuteTime": {
     "end_time": "2022-11-28T01:22:50.094584Z",
     "start_time": "2022-11-28T01:22:50.065085Z"
    },
    "hidden": true,
    "slideshow": {
     "slide_type": "slide"
    }
   },
   "outputs": [
    {
     "name": "stdout",
     "output_type": "stream",
     "text": [
      "tillamook:\n"
     ]
    },
    {
     "data": {
      "text/html": [
       "<div>\n",
       "<style scoped>\n",
       "    .dataframe tbody tr th:only-of-type {\n",
       "        vertical-align: middle;\n",
       "    }\n",
       "\n",
       "    .dataframe tbody tr th {\n",
       "        vertical-align: top;\n",
       "    }\n",
       "\n",
       "    .dataframe thead th {\n",
       "        text-align: right;\n",
       "    }\n",
       "</style>\n",
       "<table border=\"1\" class=\"dataframe\">\n",
       "  <thead>\n",
       "    <tr style=\"text-align: right;\">\n",
       "      <th></th>\n",
       "      <th>shell_standardized</th>\n",
       "    </tr>\n",
       "  </thead>\n",
       "  <tbody>\n",
       "    <tr>\n",
       "      <th>count</th>\n",
       "      <td>10.000000</td>\n",
       "    </tr>\n",
       "    <tr>\n",
       "      <th>mean</th>\n",
       "      <td>0.080200</td>\n",
       "    </tr>\n",
       "    <tr>\n",
       "      <th>std</th>\n",
       "      <td>0.011963</td>\n",
       "    </tr>\n",
       "    <tr>\n",
       "      <th>min</th>\n",
       "      <td>0.057100</td>\n",
       "    </tr>\n",
       "    <tr>\n",
       "      <th>25%</th>\n",
       "      <td>0.075450</td>\n",
       "    </tr>\n",
       "    <tr>\n",
       "      <th>50%</th>\n",
       "      <td>0.082400</td>\n",
       "    </tr>\n",
       "    <tr>\n",
       "      <th>75%</th>\n",
       "      <td>0.085325</td>\n",
       "    </tr>\n",
       "    <tr>\n",
       "      <th>max</th>\n",
       "      <td>0.097600</td>\n",
       "    </tr>\n",
       "  </tbody>\n",
       "</table>\n",
       "</div>"
      ],
      "text/plain": [
       "       shell_standardized\n",
       "count           10.000000\n",
       "mean             0.080200\n",
       "std              0.011963\n",
       "min              0.057100\n",
       "25%              0.075450\n",
       "50%              0.082400\n",
       "75%              0.085325\n",
       "max              0.097600"
      ]
     },
     "metadata": {},
     "output_type": "display_data"
    },
    {
     "name": "stdout",
     "output_type": "stream",
     "text": [
      "\n",
      "----------------------\n",
      "\n",
      "newport:\n"
     ]
    },
    {
     "data": {
      "text/html": [
       "<div>\n",
       "<style scoped>\n",
       "    .dataframe tbody tr th:only-of-type {\n",
       "        vertical-align: middle;\n",
       "    }\n",
       "\n",
       "    .dataframe tbody tr th {\n",
       "        vertical-align: top;\n",
       "    }\n",
       "\n",
       "    .dataframe thead th {\n",
       "        text-align: right;\n",
       "    }\n",
       "</style>\n",
       "<table border=\"1\" class=\"dataframe\">\n",
       "  <thead>\n",
       "    <tr style=\"text-align: right;\">\n",
       "      <th></th>\n",
       "      <th>shell_standardized</th>\n",
       "    </tr>\n",
       "  </thead>\n",
       "  <tbody>\n",
       "    <tr>\n",
       "      <th>count</th>\n",
       "      <td>8.000000</td>\n",
       "    </tr>\n",
       "    <tr>\n",
       "      <th>mean</th>\n",
       "      <td>0.074800</td>\n",
       "    </tr>\n",
       "    <tr>\n",
       "      <th>std</th>\n",
       "      <td>0.008597</td>\n",
       "    </tr>\n",
       "    <tr>\n",
       "      <th>min</th>\n",
       "      <td>0.064900</td>\n",
       "    </tr>\n",
       "    <tr>\n",
       "      <th>25%</th>\n",
       "      <td>0.066950</td>\n",
       "    </tr>\n",
       "    <tr>\n",
       "      <th>50%</th>\n",
       "      <td>0.073700</td>\n",
       "    </tr>\n",
       "    <tr>\n",
       "      <th>75%</th>\n",
       "      <td>0.082300</td>\n",
       "    </tr>\n",
       "    <tr>\n",
       "      <th>max</th>\n",
       "      <td>0.087300</td>\n",
       "    </tr>\n",
       "  </tbody>\n",
       "</table>\n",
       "</div>"
      ],
      "text/plain": [
       "       shell_standardized\n",
       "count            8.000000\n",
       "mean             0.074800\n",
       "std              0.008597\n",
       "min              0.064900\n",
       "25%              0.066950\n",
       "50%              0.073700\n",
       "75%              0.082300\n",
       "max              0.087300"
      ]
     },
     "metadata": {},
     "output_type": "display_data"
    }
   ],
   "source": [
    "print('tillamook:')\n",
    "df_tillamook = df[df['area'] == 'tillamook']\n",
    "display(df_tillamook.describe())\n",
    "print('\\n----------------------\\n')\n",
    "print('newport:')\n",
    "df_newport = df[df['area'] == 'newport']\n",
    "display(df_newport.describe())"
   ]
  },
  {
   "cell_type": "code",
   "execution_count": 6,
   "metadata": {
    "ExecuteTime": {
     "end_time": "2022-11-28T01:22:50.295856Z",
     "start_time": "2022-11-28T01:22:50.096085Z"
    },
    "hidden": true,
    "slideshow": {
     "slide_type": "slide"
    }
   },
   "outputs": [
    {
     "data": {
      "image/png": "[encoded data removed]",
      "text/plain": [
       "<Figure size 720x576 with 1 Axes>"
      ]
     },
     "metadata": {
      "needs_background": "light"
     },
     "output_type": "display_data"
    }
   ],
   "source": [
    "f, ax = plt.subplots(figsize=(10, 8))\n",
    "\n",
    "# Use specific set of colors\n",
    "colors = sns.color_palette('husl')\n",
    "\n",
    "# Select only two areas\n",
    "selection_mask = (df['area'] == 'tillamook') | (df['area'] == 'newport')\n",
    "data_subset = df[selection_mask]\n",
    "\n",
    "# Data Points\n",
    "ax = sns.swarmplot(\n",
    "    data=data_subset,\n",
    "    x=\"area\",\n",
    "    y=\"shell_standardized\",\n",
    "    ax=ax,\n",
    "    alpha=0.6, \n",
    "    marker='^',\n",
    "    size=8,\n",
    "    palette=colors\n",
    ")\n",
    "\n",
    "ax.axhline(\n",
    "    data_subset['shell_standardized'].mean(), label='Overall mean',\n",
    "    lw=3, ls='--', color='black', alpha=0.7\n",
    ")\n",
    "\n",
    "# Look at each specifc group (by area)\n",
    "areas = data_subset['area'].unique()\n",
    "for i, area in enumerate(areas):\n",
    "    mean = df[df['area']==area]['shell_standardized'].mean()\n",
    "    # Make these lines short and near each group\n",
    "    xmin = 1/len(areas) * i + 0.2\n",
    "    xmax = xmin + 0.1\n",
    "    ax.axhline(\n",
    "        mean, xmin=xmin, xmax=xmax, label=f'`{area}` mean',\n",
    "        lw=5, ls='-', color=colors[i]\n",
    "    ) \n",
    "    \n",
    "ax.legend()\n",
    "plt.tight_layout();"
   ]
  },
  {
   "cell_type": "markdown",
   "metadata": {
    "heading_collapsed": true,
    "hidden": true,
    "slideshow": {
     "slide_type": "slide"
    }
   },
   "source": [
    "### Performing the Two-Sample $t$-Test (SciPy)"
   ]
  },
  {
   "cell_type": "markdown",
   "metadata": {
    "hidden": true,
    "slideshow": {
     "slide_type": "subslide"
    }
   },
   "source": [
    "Before getting our test statistic and p-value, we should define our significance level $\\alpha$. In this case we'll set to a conservative $\\alpha=0.01$"
   ]
  },
  {
   "cell_type": "code",
   "execution_count": 7,
   "metadata": {
    "ExecuteTime": {
     "end_time": "2022-11-28T01:22:50.311480Z",
     "start_time": "2022-11-28T01:22:50.297361Z"
    },
    "hidden": true,
    "slideshow": {
     "slide_type": "slide"
    }
   },
   "outputs": [
    {
     "name": "stdout",
     "output_type": "stream",
     "text": [
      "Ttest_indResult(statistic=1.0716884657515315, pvalue=0.2997596910660225)\n",
      "Ttest_indResult(statistic=1.1127298593199562, pvalue=0.28239787866845545)\n"
     ]
    }
   ],
   "source": [
    "# Peform the two-sample t-test (are the samples different?)\n",
    "print(stats.ttest_ind(tillamook, newport))\n",
    "print(stats.ttest_ind(tillamook, newport, equal_var=False))"
   ]
  },
  {
   "cell_type": "markdown",
   "metadata": {
    "hidden": true,
    "slideshow": {
     "slide_type": "fragment"
    }
   },
   "source": [
    "And we see that we don't have a significant result between these two (don't reject $H_0$)"
   ]
  },
  {
   "cell_type": "markdown",
   "metadata": {
    "heading_collapsed": true,
    "hidden": true,
    "slideshow": {
     "slide_type": "slide"
    }
   },
   "source": [
    "## But I Want It All!"
   ]
  },
  {
   "cell_type": "markdown",
   "metadata": {
    "hidden": true,
    "slideshow": {
     "slide_type": "fragment"
    }
   },
   "source": [
    "> We could compare multiple times with $t$-tests. \n",
    "> \n",
    "> What's the worst that can happen...? ***foreshadowing***"
   ]
  },
  {
   "cell_type": "markdown",
   "metadata": {
    "heading_collapsed": true,
    "hidden": true,
    "slideshow": {
     "slide_type": "slide"
    }
   },
   "source": [
    "### Visualization of More Samples"
   ]
  },
  {
   "cell_type": "code",
   "execution_count": 8,
   "metadata": {
    "ExecuteTime": {
     "end_time": "2022-11-28T01:22:50.698874Z",
     "start_time": "2022-11-28T01:22:50.313894Z"
    },
    "hidden": true,
    "slideshow": {
     "slide_type": "slide"
    }
   },
   "outputs": [
    {
     "data": {
      "image/png": "[encoded data removed]",
      "text/plain": [
       "<Figure size 1152x1152 with 2 Axes>"
      ]
     },
     "metadata": {
      "needs_background": "light"
     },
     "output_type": "display_data"
    }
   ],
   "source": [
    "fig, (ax0,ax1) = plt.subplots(nrows=2, figsize=(16, 16))\n",
    "\n",
    "sns.boxplot(\n",
    "    x=\"area\",\n",
    "    y=\"shell_standardized\",\n",
    "    data=df,\n",
    "    ax=ax0,\n",
    "    color='aqua', \n",
    "    linewidth=3\n",
    ")\n",
    "\n",
    "sns.swarmplot(\n",
    "    x=\"area\",\n",
    "    y=\"shell_standardized\",\n",
    "    data=df,\n",
    "    ax=ax0,\n",
    "    color='orange', \n",
    "    alpha=0.9, \n",
    "    size=12\n",
    ")\n",
    "\n",
    "\n",
    "\n",
    "sns.violinplot(\n",
    "    y=\"shell_standardized\", \n",
    "    x=\"area\", \n",
    "    data=df, \n",
    "    ax=ax1,\n",
    "    color='aqua',\n",
    "    inner=\"quartile\",  # Seeing the mean and quartiles\n",
    "    bw=.3              # How much smoothing do we use\n",
    ")\n",
    "\n",
    "sns.swarmplot(\n",
    "    x=\"area\",\n",
    "    y=\"shell_standardized\",\n",
    "    data=df,\n",
    "    ax=ax1,\n",
    "    color='orange', \n",
    "    alpha=0.9, \n",
    "    size=12\n",
    ")\n",
    "\n",
    "plt.tight_layout();"
   ]
  },
  {
   "cell_type": "markdown",
   "metadata": {
    "heading_collapsed": true,
    "hidden": true,
    "slideshow": {
     "slide_type": "slide"
    }
   },
   "source": [
    "### Performing Multiple $t$-tests ← DO NOT DO!"
   ]
  },
  {
   "cell_type": "markdown",
   "metadata": {
    "hidden": true,
    "slideshow": {
     "slide_type": "fragment"
    }
   },
   "source": [
    "> ☠️ ***WARNING*** ☠️\n",
    ">\n",
    "> You shouldn't perform multiple $t$-tests! We do this for illustrative purposes!\n",
    ">\n",
    "> We are trained data science stunt-statisticians; do not try this at home, workplace, or in front of stakeholders"
   ]
  },
  {
   "cell_type": "code",
   "execution_count": 9,
   "metadata": {
    "ExecuteTime": {
     "end_time": "2022-11-28T01:22:50.714118Z",
     "start_time": "2022-11-28T01:22:50.700762Z"
    },
    "hidden": true,
    "slideshow": {
     "slide_type": "slide"
    }
   },
   "outputs": [
    {
     "name": "stdout",
     "output_type": "stream",
     "text": [
      "t-test on tillamook & newport\n",
      "\t t:1.07, p:0.300\n",
      "\n",
      "\n",
      "t-test on tillamook & magadan\n",
      "\t t:0.37, p:0.715\n",
      "\n",
      "\n",
      "t-test on tillamook & tvarminne\n",
      "\t t:-2.43, p:0.029\n",
      "\n",
      "\n",
      "t-test on tillamook & petersburg\n",
      "\t t:-3.41, p:0.004\n",
      "\t***** SIGNIFICANT AT 0.01 LEVEL****\n",
      "\n",
      "\n",
      "t-test on newport & magadan\n",
      "\t t:-0.58, p:0.568\n",
      "\n",
      "\n",
      "t-test on newport & tvarminne\n",
      "\t t:-3.64, p:0.003\n",
      "\t***** SIGNIFICANT AT 0.01 LEVEL****\n",
      "\n",
      "\n",
      "t-test on newport & petersburg\n",
      "\t t:-4.36, p:0.001\n",
      "\t***** SIGNIFICANT AT 0.01 LEVEL****\n",
      "\n",
      "\n",
      "t-test on magadan & tvarminne\n",
      "\t t:-2.53, p:0.026\n",
      "\n",
      "\n",
      "t-test on magadan & petersburg\n",
      "\t t:-3.38, p:0.005\n",
      "\t***** SIGNIFICANT AT 0.01 LEVEL****\n",
      "\n",
      "\n",
      "t-test on tvarminne & petersburg\n",
      "\t t:-0.94, p:0.368\n",
      "\n",
      "\n"
     ]
    }
   ],
   "source": [
    "# Extra tools to make this stunt easier to do\n",
    "from itertools import combinations\n",
    "groups = {'tillamook':tillamook, 'newport':newport, 'magadan':magadan,\n",
    "          'tvarminne':tvarminne, 'petersburg':petersburg}\n",
    "\n",
    "# Our signifance level\n",
    "alpha = 0.01\n",
    "\n",
    "# Perform two sample t-tests on all combination pairs\n",
    "for group_a, group_b in combinations(groups,2):\n",
    "    # Make it easy for us to identify\n",
    "    print(f't-test on {group_a} & {group_b}')\n",
    "    \n",
    "    # Easy reference of samples\n",
    "    X_a = groups.get(group_a)\n",
    "    X_b = groups.get(group_b)\n",
    "    # Perform our test on pair\n",
    "    t, p = stats.ttest_ind(X_a, X_b)\n",
    "    \n",
    "    # Print our values\n",
    "    print(f'\\t t:{t:.2f}, p:{p:.3f}')\n",
    "    if p < alpha:\n",
    "        print(f'\\t***** SIGNIFICANT AT {alpha} LEVEL****')\n",
    "    print('\\n')"
   ]
  },
  {
   "cell_type": "markdown",
   "metadata": {
    "hidden": true,
    "slideshow": {
     "slide_type": "slide"
    }
   },
   "source": [
    "So it looks like **newport and tvarminne** are significantly different from one another and every group except tvarminne is significantly different from **petersburg**! So there is a difference, right?\n",
    "\n",
    "Turns out there are some issues with the little stunt we pulled 🤕"
   ]
  },
  {
   "cell_type": "markdown",
   "metadata": {
    "heading_collapsed": true,
    "hidden": true,
    "slideshow": {
     "slide_type": "slide"
    }
   },
   "source": [
    "### Issues?"
   ]
  },
  {
   "cell_type": "markdown",
   "metadata": {
    "hidden": true,
    "slideshow": {
     "slide_type": "fragment"
    }
   },
   "source": [
    "There are some concerns in what we just did:\n",
    "\n",
    "- If we test _every_ combination, this can be a lot of $t$-tests\n",
    "    + You would need $\\frac{n(n-1)}{2}$ $t$-tests\n",
    "- If there really isn't a difference, we're more likely to have false positives (type 1 errors)\n",
    "    + If our original probability of making a Type 1 error was $\\alpha$ and we do $n$ tests, then the probability of getting a Type 1 error would grow to $1-(1-\\alpha)^n$. In our case of $10$ tests & $\\alpha=0.05$, we have $1-(1-0.05)^{10}$ or $40\\%$ chance of making an error!"
   ]
  },
  {
   "cell_type": "markdown",
   "metadata": {
    "hidden": true,
    "slideshow": {
     "slide_type": "notes"
    }
   },
   "source": [
    "![](https://imgs.xkcd.com/comics/significant.png)"
   ]
  },
  {
   "cell_type": "markdown",
   "metadata": {
    "heading_collapsed": true,
    "slideshow": {
     "slide_type": "slide"
    }
   },
   "source": [
    "# ANOVA - Analysis of Variance"
   ]
  },
  {
   "cell_type": "markdown",
   "metadata": {
    "hidden": true,
    "slideshow": {
     "slide_type": "fragment"
    }
   },
   "source": [
    "One solution to the multiple comparison problem is to perform a statistical test that looks at _all_ the samples together to determine if they are statistically different. \n",
    "\n",
    "One such test is the **analysis of variance** or **ANOVA test** (also called the **$F$ one-way test**)."
   ]
  },
  {
   "cell_type": "markdown",
   "metadata": {
    "hidden": true,
    "slideshow": {
     "slide_type": "slide"
    }
   },
   "source": [
    "![](https://upload.wikimedia.org/wikipedia/commons/thumb/d/d3/V838_Mon_HST.jpg/480px-V838_Mon_HST.jpg)\n",
    "<!-- \n",
    "https://commons.wikimedia.org/wiki/File:V838_Mon_HST.jpg\n",
    "The Hubble material you see on this page is copyright-free. Material credited to STScI on this site was created, authored, and/or prepared for NASA under Contract NAS5-26555.\n",
    "-->\n",
    "\n",
    "> ANOVA: an acronym, not a stellar object. Well, it is pretty stellar but not in the space sense."
   ]
  },
  {
   "cell_type": "markdown",
   "metadata": {
    "heading_collapsed": true,
    "hidden": true,
    "slideshow": {
     "slide_type": "slide"
    }
   },
   "source": [
    "## The $F$-Statistic"
   ]
  },
  {
   "cell_type": "markdown",
   "metadata": {
    "hidden": true,
    "slideshow": {
     "slide_type": "fragment"
    }
   },
   "source": [
    "At the heart of ANOVA is the **$F$-statistic** **$F$-ratio**."
   ]
  },
  {
   "cell_type": "markdown",
   "metadata": {
    "hidden": true,
    "slideshow": {
     "slide_type": "fragment"
    }
   },
   "source": [
    "We won't dig into the math, since honestly we don't need to do it by hand generally. But know the $F$-statistic is trying to capture the variance _between groups_ and _within groups_. This is done by comparing the individuals with the group means and the overall mean.\n",
    "\n",
    "The $F$-distribution therefore has **two** degrees-of-freedom parameters, and can in fact be thought of as a ratio of $\\chi^2$ distributions."
   ]
  },
  {
   "cell_type": "markdown",
   "metadata": {
    "hidden": true,
    "slideshow": {
     "slide_type": "slide"
    }
   },
   "source": [
    "For more on how the $F$-distribution is relevant to ANOVA, see [this post](https://blog.minitab.com/en/adventures-in-statistics-2/understanding-analysis-of-variance-anova-and-the-f-test)."
   ]
  },
  {
   "cell_type": "markdown",
   "metadata": {
    "hidden": true,
    "slideshow": {
     "slide_type": "fragment"
    }
   },
   "source": [
    "Just like with $t$ and $z$ tests, we calculate a test statistic, then compare it to a critical value associated with a probability distribution. In this case, that distribution is the [$F$-distribution](https://en.wikipedia.org/wiki/F-distribution).\n",
    "\n",
    "Let's draw some $F$ curves:"
   ]
  },
  {
   "cell_type": "code",
   "execution_count": 10,
   "metadata": {
    "ExecuteTime": {
     "end_time": "2022-11-28T01:22:51.132258Z",
     "start_time": "2022-11-28T01:22:50.715627Z"
    },
    "hidden": true,
    "slideshow": {
     "slide_type": "slide"
    }
   },
   "outputs": [
    {
     "data": {
      "image/png": "[encoded data removed]",
      "text/plain": [
       "<Figure size 576x432 with 1 Axes>"
      ]
     },
     "metadata": {
      "needs_background": "light"
     },
     "output_type": "display_data"
    }
   ],
   "source": [
    "f_11 = stats.f(dfn=1, dfd=1)\n",
    "f_21 = stats.f(dfn=2, dfd=1)\n",
    "f_52 = stats.f(dfn=5, dfd=2)\n",
    "f_101 = stats.f(dfn=10, dfd=1)\n",
    "f_100100 = stats.f(dfn=100, dfd=100)\n",
    "x = np.linspace(0, 5, 200)\n",
    "\n",
    "fig, ax = plt.subplots(figsize=(8, 6))\n",
    "ax.plot(x, f_11.pdf(x), label='F(1, 1)')\n",
    "ax.plot(x, f_21.pdf(x), label='F(2, 1)')\n",
    "ax.plot(x, f_52.pdf(x), label='F(5, 2)')\n",
    "ax.plot(x, f_101.pdf(x), label='F(10, 1)')\n",
    "ax.plot(x, f_100100.pdf(x), label='F(100, 100)')\n",
    "ax.set_title('Some $F$ distribution curves')\n",
    "\n",
    "ax.legend();"
   ]
  },
  {
   "cell_type": "markdown",
   "metadata": {
    "heading_collapsed": true,
    "hidden": true,
    "slideshow": {
     "slide_type": "slide"
    }
   },
   "source": [
    "### Visualizing the Data and $F$-Statistic"
   ]
  },
  {
   "cell_type": "code",
   "execution_count": 11,
   "metadata": {
    "ExecuteTime": {
     "end_time": "2022-11-28T01:22:51.380291Z",
     "start_time": "2022-11-28T01:22:51.133731Z"
    },
    "hidden": true
   },
   "outputs": [
    {
     "data": {
      "image/png": "[encoded data removed]",
      "text/plain": [
       "<Figure size 720x576 with 1 Axes>"
      ]
     },
     "metadata": {
      "needs_background": "light"
     },
     "output_type": "display_data"
    }
   ],
   "source": [
    "f, ax = plt.subplots(figsize=(10,8))\n",
    "\n",
    "# Use specific set of colors\n",
    "colors = sns.color_palette('husl')\n",
    "\n",
    "# Data Points\n",
    "ax = sns.swarmplot(\n",
    "    data=df,\n",
    "    x=\"area\",\n",
    "    y=\"shell_standardized\",\n",
    "    ax=ax,\n",
    "    alpha=0.6, \n",
    "    marker='^',\n",
    "    size=8,\n",
    "    palette=colors\n",
    ")\n",
    "\n",
    "# Overall mean line\n",
    "ax.axhline(\n",
    "    df['shell_standardized'].mean(), label='Overall mean',\n",
    "    lw=3, ls='--', color='black', alpha=0.7\n",
    ")\n",
    "\n",
    "# Look at each specifc group (by area)\n",
    "areas = df['area'].unique()\n",
    "for i,area in enumerate(areas):\n",
    "    mean = df[df['area']==area]['shell_standardized'].mean()\n",
    "    # Make these lines short and near each group\n",
    "    xmin = 1/len(areas) * i + 0.05\n",
    "    xmax = xmin + 0.1\n",
    "    ax.axhline(\n",
    "        mean, xmin=xmin, xmax=xmax, label=f'`{area}` mean',\n",
    "        lw=5, ls='-', color=colors[i]\n",
    "    ) \n",
    "    \n",
    "ax.legend()\n",
    "plt.tight_layout();"
   ]
  },
  {
   "cell_type": "markdown",
   "metadata": {
    "heading_collapsed": true,
    "hidden": true,
    "slideshow": {
     "slide_type": "slide"
    }
   },
   "source": [
    "#### More Details on Variance Between and Within Groups"
   ]
  },
  {
   "cell_type": "markdown",
   "metadata": {
    "hidden": true,
    "slideshow": {
     "slide_type": "fragment"
    }
   },
   "source": [
    "<img src=\"https://s3-ap-south-1.amazonaws.com/av-blog-media/wp-content/uploads/2017/12/image046.png\" width=\"500\">"
   ]
  },
  {
   "cell_type": "markdown",
   "metadata": {
    "heading_collapsed": true,
    "hidden": true,
    "slideshow": {
     "slide_type": "slide"
    }
   },
   "source": [
    "### Between Group Variability"
   ]
  },
  {
   "cell_type": "markdown",
   "metadata": {
    "hidden": true,
    "slideshow": {
     "slide_type": "fragment"
    }
   },
   "source": [
    "Measures how much the means of each group vary from the mean of the overall population\n",
    "\n",
    "\n",
    "\n",
    "<img src=\"https://s3-ap-south-1.amazonaws.com/av-blog-media/wp-content/uploads/2017/12/image0171.png\" width=\"500\">\n",
    "    "
   ]
  },
  {
   "cell_type": "markdown",
   "metadata": {
    "heading_collapsed": true,
    "hidden": true,
    "slideshow": {
     "slide_type": "slide"
    }
   },
   "source": [
    "### Within Group Variability"
   ]
  },
  {
   "cell_type": "markdown",
   "metadata": {
    "hidden": true,
    "slideshow": {
     "slide_type": "fragment"
    }
   },
   "source": [
    "Refers to variations caused by differences within individual groups.  "
   ]
  },
  {
   "cell_type": "markdown",
   "metadata": {
    "hidden": true,
    "slideshow": {
     "slide_type": "slide"
    }
   },
   "source": [
    "Consider the given distributions of three samples below. As the spread (variability) of each sample is increased, their distributions overlap and they become part of a big population.\n",
    "<img src=\"https://s3-ap-south-1.amazonaws.com/av-blog-media/wp-content/uploads/2017/12/image031.png\" width=\"500\">"
   ]
  },
  {
   "cell_type": "markdown",
   "metadata": {
    "hidden": true,
    "slideshow": {
     "slide_type": "fragment"
    }
   },
   "source": [
    "Now consider another distribution of the same three samples but with less variability. Although the means of samples are similar to the samples in the above image, they seem to belong to different populations.\n",
    "\n",
    "<img src=\"https://s3-ap-south-1.amazonaws.com/av-blog-media/wp-content/uploads/2017/12/image033.png\" width=\"500\">\n"
   ]
  },
  {
   "cell_type": "markdown",
   "metadata": {
    "heading_collapsed": true,
    "hidden": true,
    "slideshow": {
     "slide_type": "slide"
    }
   },
   "source": [
    "## Performing One-Way ANOVA"
   ]
  },
  {
   "cell_type": "markdown",
   "metadata": {
    "hidden": true,
    "slideshow": {
     "slide_type": "subslide"
    }
   },
   "source": [
    "We saw from above that it probably isn't immediately obvious if these groups are in fact different. We still do our normal steps for hypothesis steps but use the [`scipy.stats.f_oneway()` function](https://docs.scipy.org/doc/scipy/reference/generated/scipy.stats.f_oneway.html) to get our test statistic ($F$-statistic)  and p-value."
   ]
  },
  {
   "cell_type": "markdown",
   "metadata": {
    "hidden": true,
    "slideshow": {
     "slide_type": "subslide"
    }
   },
   "source": [
    "- $H_0$ : $\\mu_{tillamook} = \\mu_{newport} = \\mu_{magadan} = \\mu_{tvarminne} = \\mu_{petersburg}$\n",
    "- $H_a$ : $H_0$ is not true"
   ]
  },
  {
   "cell_type": "code",
   "execution_count": 12,
   "metadata": {
    "ExecuteTime": {
     "end_time": "2022-11-28T01:22:51.395757Z",
     "start_time": "2022-11-28T01:22:51.381762Z"
    },
    "hidden": true,
    "slideshow": {
     "slide_type": "slide"
    }
   },
   "outputs": [],
   "source": [
    "# Define our alpha significance level\n",
    "alpha = 0.01"
   ]
  },
  {
   "cell_type": "code",
   "execution_count": 13,
   "metadata": {
    "ExecuteTime": {
     "end_time": "2022-11-28T01:22:51.411312Z",
     "start_time": "2022-11-28T01:22:51.397258Z"
    },
    "hidden": true,
    "slideshow": {
     "slide_type": "subslide"
    }
   },
   "outputs": [
    {
     "data": {
      "text/plain": [
       "F_onewayResult(statistic=7.121019471642445, pvalue=0.0002812242314534552)"
      ]
     },
     "execution_count": 13,
     "metadata": {},
     "output_type": "execute_result"
    }
   ],
   "source": [
    "groups = {'tillamook':tillamook, 'newport':newport, 'magadan':magadan,\n",
    "          'tvarminne':tvarminne, 'petersburg':petersburg}\n",
    "\n",
    "# Note I'm simply unpacking the iterator instead of typing each out\n",
    "result = stats.f_oneway(*groups.values())\n",
    "f_stat, p = result\n",
    "# Printing out the result just to show what it looks like\n",
    "result"
   ]
  },
  {
   "cell_type": "code",
   "execution_count": 14,
   "metadata": {
    "ExecuteTime": {
     "end_time": "2022-11-28T01:22:51.426764Z",
     "start_time": "2022-11-28T01:22:51.412732Z"
    },
    "hidden": true,
    "slideshow": {
     "slide_type": "slide"
    }
   },
   "outputs": [
    {
     "name": "stdout",
     "output_type": "stream",
     "text": [
      "\n",
      "The difference between the different groups was significant for a significance\n",
      "level of 0.01.\n",
      "\n"
     ]
    }
   ],
   "source": [
    "conclusion = 'significant' if p < alpha else 'not significant'\n",
    "\n",
    "print(f'''\n",
    "The difference between the different groups was {conclusion} for a significance\n",
    "level of {alpha}.\n",
    "''')"
   ]
  },
  {
   "cell_type": "markdown",
   "metadata": {
    "heading_collapsed": true,
    "hidden": true,
    "slideshow": {
     "slide_type": "slide"
    }
   },
   "source": [
    "### Note: Excluding One Group"
   ]
  },
  {
   "cell_type": "markdown",
   "metadata": {
    "hidden": true,
    "slideshow": {
     "slide_type": "subslide"
    }
   },
   "source": [
    "> Note that we could have an _insignificant_ result if we removed \"petersburg\" from the group"
   ]
  },
  {
   "cell_type": "code",
   "execution_count": 15,
   "metadata": {
    "ExecuteTime": {
     "end_time": "2022-11-28T01:22:51.442256Z",
     "start_time": "2022-11-28T01:22:51.428231Z"
    },
    "hidden": true,
    "slideshow": {
     "slide_type": "slide"
    }
   },
   "outputs": [
    {
     "name": "stdout",
     "output_type": "stream",
     "text": [
      "F_onewayResult(statistic=4.10752164748393, pvalue=0.015554878284932846)\n",
      "\n",
      "The difference between the different groups was not significant for a significance\n",
      "level of 0.01.\n",
      "\n"
     ]
    }
   ],
   "source": [
    "groups = {'tillamook':tillamook, 'newport':newport, 'magadan':magadan, 'tvarminne':tvarminne}\n",
    "\n",
    "# Note I'm simply unpacking the iterator instead of typing each out\n",
    "result = stats.f_oneway(*groups.values())\n",
    "f_stat, p = result\n",
    "\n",
    "print(result)\n",
    "\n",
    "conclusion = 'significant' if p < alpha else 'not significant'\n",
    "\n",
    "print(f'''\n",
    "The difference between the different groups was {conclusion} for a significance\n",
    "level of {alpha}.\n",
    "''')"
   ]
  },
  {
   "cell_type": "markdown",
   "metadata": {
    "heading_collapsed": true,
    "hidden": true,
    "slideshow": {
     "slide_type": "slide"
    }
   },
   "source": [
    "## ANOVA is an Omnibus Test"
   ]
  },
  {
   "cell_type": "markdown",
   "metadata": {
    "hidden": true,
    "slideshow": {
     "slide_type": "subslide"
    }
   },
   "source": [
    "Remember that ANOVA only tells us _if_ there is significant difference in the groups, not _which_ group is significant."
   ]
  },
  {
   "cell_type": "markdown",
   "metadata": {
    "hidden": true,
    "slideshow": {
     "slide_type": "subslide"
    }
   },
   "source": [
    "> **NOTE** \n",
    ">\n",
    ">If we follow up with trying to find which groups are significantly different from each other, you have to consider *post-hoc* tests. You should avoid doing _multiple_ tests.\n",
    ">\n",
    "> More information can be found in a [Level Up section](#Level-Up---Follow-Up-with-Post-Hoc-Tests) below."
   ]
  },
  {
   "cell_type": "markdown",
   "metadata": {
    "heading_collapsed": true,
    "slideshow": {
     "slide_type": "slide"
    }
   },
   "source": [
    "# Exercise: Two-Sample T-Test"
   ]
  },
  {
   "cell_type": "markdown",
   "metadata": {
    "hidden": true,
    "slideshow": {
     "slide_type": "subslide"
    }
   },
   "source": [
    "A sample of 20 data science students from Dr. Venkman's Data Science 101 lecture course showed an average of 80.5 points on the last test, with a standard deviation of 9.9 points. Meanwhile, a sample of 28 students from Dr. Yates's Data Science 101 lecture course showed an average of 86.3 points on the same test, with a standard deviation of 11.2 points. Are Dr. Yates's students performing (significantly) better than Dr. Venkman's? Assume the two student populations have equal variances and use an alpha level of 0.05.\n",
    "\n",
    "Bonus:\n",
    "- How can we calculate the pooled variance for these samples?\n",
    "- How can we calculate the t-statistic by hand?"
   ]
  },
  {
   "cell_type": "code",
   "execution_count": null,
   "metadata": {
    "hidden": true,
    "slideshow": {
     "slide_type": "slide"
    }
   },
   "outputs": [],
   "source": []
  },
  {
   "cell_type": "markdown",
   "metadata": {
    "heading_collapsed": true
   },
   "source": [
    "# Level Up - `statsmodels`"
   ]
  },
  {
   "cell_type": "code",
   "execution_count": 16,
   "metadata": {
    "ExecuteTime": {
     "end_time": "2022-11-28T01:22:52.030771Z",
     "start_time": "2022-11-28T01:22:51.443266Z"
    },
    "hidden": true
   },
   "outputs": [],
   "source": [
    "import statsmodels.api as sm\n",
    "from statsmodels.formula.api import ols"
   ]
  },
  {
   "cell_type": "markdown",
   "metadata": {
    "hidden": true
   },
   "source": [
    "> The OLS method from `statsmodels` gives an ANOVA table"
   ]
  },
  {
   "cell_type": "code",
   "execution_count": null,
   "metadata": {},
   "outputs": [],
   "source": []
  },
  {
   "cell_type": "markdown",
   "metadata": {},
   "source": [
    "**this is saying take shell_standardized and regress that over C(area)**"
   ]
  },
  {
   "cell_type": "code",
   "execution_count": 17,
   "metadata": {
    "ExecuteTime": {
     "end_time": "2022-11-28T01:22:52.077230Z",
     "start_time": "2022-11-28T01:22:52.031745Z"
    },
    "hidden": true
   },
   "outputs": [
    {
     "data": {
      "text/html": [
       "<table class=\"simpletable\">\n",
       "<caption>OLS Regression Results</caption>\n",
       "<tr>\n",
       "  <th>Dep. Variable:</th>    <td>shell_standardized</td> <th>  R-squared:         </th> <td>   0.456</td>\n",
       "</tr>\n",
       "<tr>\n",
       "  <th>Model:</th>                    <td>OLS</td>        <th>  Adj. R-squared:    </th> <td>   0.392</td>\n",
       "</tr>\n",
       "<tr>\n",
       "  <th>Method:</th>              <td>Least Squares</td>   <th>  F-statistic:       </th> <td>   7.121</td>\n",
       "</tr>\n",
       "<tr>\n",
       "  <th>Date:</th>              <td>Mon, 28 Nov 2022</td>  <th>  Prob (F-statistic):</th> <td>0.000281</td>\n",
       "</tr>\n",
       "<tr>\n",
       "  <th>Time:</th>                  <td>11:47:24</td>      <th>  Log-Likelihood:    </th> <td>  117.94</td>\n",
       "</tr>\n",
       "<tr>\n",
       "  <th>No. Observations:</th>       <td>    39</td>       <th>  AIC:               </th> <td>  -225.9</td>\n",
       "</tr>\n",
       "<tr>\n",
       "  <th>Df Residuals:</th>           <td>    34</td>       <th>  BIC:               </th> <td>  -217.6</td>\n",
       "</tr>\n",
       "<tr>\n",
       "  <th>Df Model:</th>               <td>     4</td>       <th>                     </th>     <td> </td>   \n",
       "</tr>\n",
       "<tr>\n",
       "  <th>Covariance Type:</th>       <td>nonrobust</td>     <th>                     </th>     <td> </td>   \n",
       "</tr>\n",
       "</table>\n",
       "<table class=\"simpletable\">\n",
       "<tr>\n",
       "            <td></td>               <th>coef</th>     <th>std err</th>      <th>t</th>      <th>P>|t|</th>  <th>[0.025</th>    <th>0.975]</th>  \n",
       "</tr>\n",
       "<tr>\n",
       "  <th>Intercept</th>             <td>    0.0780</td> <td>    0.004</td> <td>   17.517</td> <td> 0.000</td> <td>    0.069</td> <td>    0.087</td>\n",
       "</tr>\n",
       "<tr>\n",
       "  <th>C(area)[T.newport]</th>    <td>   -0.0032</td> <td>    0.006</td> <td>   -0.510</td> <td> 0.613</td> <td>   -0.016</td> <td>    0.010</td>\n",
       "</tr>\n",
       "<tr>\n",
       "  <th>C(area)[T.petersburg]</th> <td>    0.0254</td> <td>    0.007</td> <td>    3.901</td> <td> 0.000</td> <td>    0.012</td> <td>    0.039</td>\n",
       "</tr>\n",
       "<tr>\n",
       "  <th>C(area)[T.tillamook]</th>  <td>    0.0022</td> <td>    0.006</td> <td>    0.366</td> <td> 0.717</td> <td>   -0.010</td> <td>    0.014</td>\n",
       "</tr>\n",
       "<tr>\n",
       "  <th>C(area)[T.tvarminne]</th>  <td>    0.0177</td> <td>    0.007</td> <td>    2.600</td> <td> 0.014</td> <td>    0.004</td> <td>    0.032</td>\n",
       "</tr>\n",
       "</table>\n",
       "<table class=\"simpletable\">\n",
       "<tr>\n",
       "  <th>Omnibus:</th>       <td> 1.746</td> <th>  Durbin-Watson:     </th> <td>   1.987</td>\n",
       "</tr>\n",
       "<tr>\n",
       "  <th>Prob(Omnibus):</th> <td> 0.418</td> <th>  Jarque-Bera (JB):  </th> <td>   0.806</td>\n",
       "</tr>\n",
       "<tr>\n",
       "  <th>Skew:</th>          <td> 0.227</td> <th>  Prob(JB):          </th> <td>   0.668</td>\n",
       "</tr>\n",
       "<tr>\n",
       "  <th>Kurtosis:</th>      <td> 3.538</td> <th>  Cond. No.          </th> <td>    5.80</td>\n",
       "</tr>\n",
       "</table><br/><br/>Notes:<br/>[1] Standard Errors assume that the covariance matrix of the errors is correctly specified."
      ],
      "text/plain": [
       "<class 'statsmodels.iolib.summary.Summary'>\n",
       "\"\"\"\n",
       "                            OLS Regression Results                            \n",
       "==============================================================================\n",
       "Dep. Variable:     shell_standardized   R-squared:                       0.456\n",
       "Model:                            OLS   Adj. R-squared:                  0.392\n",
       "Method:                 Least Squares   F-statistic:                     7.121\n",
       "Date:                Mon, 28 Nov 2022   Prob (F-statistic):           0.000281\n",
       "Time:                        11:47:24   Log-Likelihood:                 117.94\n",
       "No. Observations:                  39   AIC:                            -225.9\n",
       "Df Residuals:                      34   BIC:                            -217.6\n",
       "Df Model:                           4                                         \n",
       "Covariance Type:            nonrobust                                         \n",
       "=========================================================================================\n",
       "                            coef    std err          t      P>|t|      [0.025      0.975]\n",
       "-----------------------------------------------------------------------------------------\n",
       "Intercept                 0.0780      0.004     17.517      0.000       0.069       0.087\n",
       "C(area)[T.newport]       -0.0032      0.006     -0.510      0.613      -0.016       0.010\n",
       "C(area)[T.petersburg]     0.0254      0.007      3.901      0.000       0.012       0.039\n",
       "C(area)[T.tillamook]      0.0022      0.006      0.366      0.717      -0.010       0.014\n",
       "C(area)[T.tvarminne]      0.0177      0.007      2.600      0.014       0.004       0.032\n",
       "==============================================================================\n",
       "Omnibus:                        1.746   Durbin-Watson:                   1.987\n",
       "Prob(Omnibus):                  0.418   Jarque-Bera (JB):                0.806\n",
       "Skew:                           0.227   Prob(JB):                        0.668\n",
       "Kurtosis:                       3.538   Cond. No.                         5.80\n",
       "==============================================================================\n",
       "\n",
       "Notes:\n",
       "[1] Standard Errors assume that the covariance matrix of the errors is correctly specified.\n",
       "\"\"\""
      ]
     },
     "execution_count": 17,
     "metadata": {},
     "output_type": "execute_result"
    }
   ],
   "source": [
    "anova_season = ols('shell_standardized ~ C(area)', data=df).fit()\n",
    "anova_season.summary()"
   ]
  },
  {
   "cell_type": "markdown",
   "metadata": {
    "heading_collapsed": true
   },
   "source": [
    "# Level Up - Follow-Up with Post-Hoc Tests"
   ]
  },
  {
   "cell_type": "markdown",
   "metadata": {
    "hidden": true
   },
   "source": [
    "Just because we have rejected the null hypothesis, it doesn't mean we have conclusively shown which group is significantly different from which - remember, the alternative hypothesis says simply that the null hypothesis is not true.\n",
    "\n",
    "We need to conduct post-hoc tests for multiple comparisons to find out which groups are different. The most prominent post-hoc tests are:\n",
    "- LSD (Least significant difference)\n",
    "    - $t\\sqrt \\frac{MSE}{n^2}$\n",
    "- Tukey's HSD \n",
    "    - $q\\sqrt \\frac{MSE}{n}$\n",
    "    \n",
    "https://www.statisticshowto.com/studentized-range-distribution/#qtable\n",
    "    \n",
    "After calculating a value for LSD or HSD, we compare each pair wise mean difference with the LSD or HSD difference. If the pairwise mean difference exceeds the LSD/HSD, then they are significantly different."
   ]
  },
  {
   "cell_type": "code",
   "execution_count": 19,
   "metadata": {
    "ExecuteTime": {
     "end_time": "2022-11-28T01:22:52.185732Z",
     "start_time": "2022-11-28T01:22:52.078232Z"
    },
    "hidden": true
   },
   "outputs": [
    {
     "name": "stdout",
     "output_type": "stream",
     "text": [
      "    Multiple Comparison of Means - Tukey HSD, FWER=0.01     \n",
      "============================================================\n",
      "  group1     group2   meandiff p-adj   lower   upper  reject\n",
      "------------------------------------------------------------\n",
      "   magadan    newport  -0.0032    0.9 -0.0254   0.019  False\n",
      "   magadan petersburg   0.0254 0.0037  0.0024  0.0484   True\n",
      "   magadan  tillamook   0.0022    0.9 -0.0189  0.0233  False\n",
      "   magadan  tvarminne   0.0177 0.0928 -0.0063  0.0417  False\n",
      "   newport petersburg   0.0286  0.001  0.0056  0.0517   True\n",
      "   newport  tillamook   0.0054 0.8898 -0.0157  0.0265  False\n",
      "   newport  tvarminne   0.0209 0.0318 -0.0031  0.0449  False\n",
      "petersburg  tillamook  -0.0232 0.0057 -0.0452 -0.0013   True\n",
      "petersburg  tvarminne  -0.0077 0.7791 -0.0325   0.017  False\n",
      " tillamook  tvarminne   0.0155 0.1446 -0.0075  0.0385  False\n",
      "------------------------------------------------------------\n"
     ]
    }
   ],
   "source": [
    "from statsmodels.stats.multicomp import pairwise_tukeyhsd\n",
    "\n",
    "print(pairwise_tukeyhsd(df['shell_standardized'], df['area'], alpha=alpha))"
   ]
  },
  {
   "cell_type": "markdown",
   "metadata": {
    "heading_collapsed": true
   },
   "source": [
    "# Level Up - Two-Way ANOVA"
   ]
  },
  {
   "cell_type": "markdown",
   "metadata": {
    "hidden": true
   },
   "source": [
    "Returning to the example at the very beginning of the lesson, say \n",
    "we found out, using one-way ANOVA, that the season was impactful on the mood of different people. What if the season was to affect different groups of people differently?  Maybe older people were affected more by the seasons than younger people.\n",
    "\n",
    "Moreover, how can we be sure as to which factor(s) is affecting the mood more? Maybe the age group is a more dominant factor responsible for a person's mood than the season.\n",
    "\n",
    "For such cases, when the outcome or dependent variable is affected by two independent variables/factors we use a slightly modified technique called two-way ANOVA."
   ]
  }
 ],
 "metadata": {
  "kernelspec": {
   "display_name": "Python (learn-env)",
   "language": "python",
   "name": "learn-env"
  },
  "language_info": {
   "codemirror_mode": {
    "name": "ipython",
    "version": 3
   },
   "file_extension": ".py",
   "mimetype": "text/x-python",
   "name": "python",
   "nbconvert_exporter": "python",
   "pygments_lexer": "ipython3",
   "version": "3.8.5"
  },
  "toc": {
   "base_numbering": 1,
   "nav_menu": {},
   "number_sections": true,
   "sideBar": true,
   "skip_h1_title": false,
   "title_cell": "Table of Contents",
   "title_sidebar": "TOC",
   "toc_cell": true,
   "toc_position": {
    "height": "calc(100% - 180px)",
    "left": "10px",
    "top": "150px",
    "width": "165px"
   },
   "toc_section_display": true,
   "toc_window_display": false
  },
  "varInspector": {
   "cols": {
    "lenName": 16,
    "lenType": 16,
    "lenVar": 40
   },
   "kernels_config": {
    "python": {
     "delete_cmd_postfix": "",
     "delete_cmd_prefix": "del ",
     "library": "var_list.py",
     "varRefreshCmd": "print(var_dic_list())"
    },
    "r": {
     "delete_cmd_postfix": ") ",
     "delete_cmd_prefix": "rm(",
     "library": "var_list.r",
     "varRefreshCmd": "cat(var_dic_list()) "
    }
   },
   "position": {
    "height": "144.848px",
    "left": "1256.09px",
    "right": "20px",
    "top": "121px",
    "width": "350px"
   },
   "types_to_exclude": [
    "module",
    "function",
    "builtin_function_or_method",
    "instance",
    "_Feature"
   ],
   "window_display": false
  }
 },
 "nbformat": 4,
 "nbformat_minor": 4
}

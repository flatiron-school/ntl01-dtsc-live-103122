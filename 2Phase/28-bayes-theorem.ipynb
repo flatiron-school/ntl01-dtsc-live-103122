{
 "cells": [
  {
   "cell_type": "markdown",
   "metadata": {
    "toc": true
   },
   "source": [
    "<h1>Table of Contents<span class=\"tocSkip\"></span></h1>\n",
    "<div class=\"toc\"><ul class=\"toc-item\"><li><span><a href=\"#Objectives\" data-toc-modified-id=\"Objectives-1\"><span class=\"toc-item-num\">1&nbsp;&nbsp;</span>Objectives</a></span></li><li><span><a href=\"#Thomas-Bayes:-The-Badass-of-Probability-😎\" data-toc-modified-id=\"Thomas-Bayes:-The-Badass-of-Probability-😎-2\"><span class=\"toc-item-num\">2&nbsp;&nbsp;</span>Thomas Bayes: The Badass of Probability 😎</a></span></li><li><span><a href=\"#So-What-Do-These-Bayesians-Say?\" data-toc-modified-id=\"So-What-Do-These-Bayesians-Say?-3\"><span class=\"toc-item-num\">3&nbsp;&nbsp;</span>So What Do These Bayesians Say?</a></span><ul class=\"toc-item\"><li><span><a href=\"#Sidebar:-Bayes'-Original-Thought-Experiment\" data-toc-modified-id=\"Sidebar:-Bayes'-Original-Thought-Experiment-3.1\"><span class=\"toc-item-num\">3.1&nbsp;&nbsp;</span>Sidebar: Bayes' Original Thought Experiment</a></span></li><li><span><a href=\"#Sidebar:-Why-C3P0-is-Wrong-&amp;-Han-Solo-is-a-Badass\" data-toc-modified-id=\"Sidebar:-Why-C3P0-is-Wrong-&amp;-Han-Solo-is-a-Badass-3.2\"><span class=\"toc-item-num\">3.2&nbsp;&nbsp;</span>Sidebar: Why C3P0 is Wrong &amp; Han Solo is a Badass</a></span></li><li><span><a href=\"#Sidebar:-Interpreting-Reviews\" data-toc-modified-id=\"Sidebar:-Interpreting-Reviews-3.3\"><span class=\"toc-item-num\">3.3&nbsp;&nbsp;</span>Sidebar: Interpreting Reviews</a></span></li><li><span><a href=\"#The-Other-Faction---Frequentists\" data-toc-modified-id=\"The-Other-Faction---Frequentists-3.4\"><span class=\"toc-item-num\">3.4&nbsp;&nbsp;</span>The Other Faction - Frequentists</a></span></li></ul></li><li><span><a href=\"#Bayes'-Theorem\" data-toc-modified-id=\"Bayes'-Theorem-4\"><span class=\"toc-item-num\">4&nbsp;&nbsp;</span>Bayes' Theorem</a></span><ul class=\"toc-item\"><li><span><a href=\"#Drumroll-Please-🥁…-Presenting,-Bayes'-Theorem!\" data-toc-modified-id=\"Drumroll-Please-🥁…-Presenting,-Bayes'-Theorem!-4.1\"><span class=\"toc-item-num\">4.1&nbsp;&nbsp;</span>Drumroll Please 🥁… Presenting, Bayes' Theorem!</a></span></li><li><span><a href=\"#The-Example:-Fan-of-a-Movie-🌙\" data-toc-modified-id=\"The-Example:-Fan-of-a-Movie-🌙-4.2\"><span class=\"toc-item-num\">4.2&nbsp;&nbsp;</span>The Example: Fan of a Movie 🌙</a></span></li><li><span><a href=\"#Visualizing-Probabilities-&amp;-Bayes\" data-toc-modified-id=\"Visualizing-Probabilities-&amp;-Bayes-4.3\"><span class=\"toc-item-num\">4.3&nbsp;&nbsp;</span>Visualizing Probabilities &amp; Bayes</a></span></li></ul></li><li><span><a href=\"#Bayes'-Theorem-Examples\" data-toc-modified-id=\"Bayes'-Theorem-Examples-5\"><span class=\"toc-item-num\">5&nbsp;&nbsp;</span>Bayes' Theorem Examples</a></span><ul class=\"toc-item\"><li><span><a href=\"#Scenario:-Diagnostic-Testing-🤢\" data-toc-modified-id=\"Scenario:-Diagnostic-Testing-🤢-5.1\"><span class=\"toc-item-num\">5.1&nbsp;&nbsp;</span>Scenario: Diagnostic Testing 🤢</a></span></li><li><span><a href=\"#The-Setup\" data-toc-modified-id=\"The-Setup-5.2\"><span class=\"toc-item-num\">5.2&nbsp;&nbsp;</span>The Setup</a></span></li><li><span><a href=\"#Defining-Events-&amp;-Probabilities\" data-toc-modified-id=\"Defining-Events-&amp;-Probabilities-5.3\"><span class=\"toc-item-num\">5.3&nbsp;&nbsp;</span>Defining Events &amp; Probabilities</a></span></li><li><span><a href=\"#Use-Bayes'-Theorem\" data-toc-modified-id=\"Use-Bayes'-Theorem-5.4\"><span class=\"toc-item-num\">5.4&nbsp;&nbsp;</span>Use Bayes' Theorem</a></span></li><li><span><a href=\"#Calculate-Posterior-Probability\" data-toc-modified-id=\"Calculate-Posterior-Probability-5.5\"><span class=\"toc-item-num\">5.5&nbsp;&nbsp;</span>Calculate Posterior Probability</a></span></li><li><span><a href=\"#Interpretation\" data-toc-modified-id=\"Interpretation-5.6\"><span class=\"toc-item-num\">5.6&nbsp;&nbsp;</span>Interpretation</a></span></li></ul></li><li><span><a href=\"#Exercises\" data-toc-modified-id=\"Exercises-6\"><span class=\"toc-item-num\">6&nbsp;&nbsp;</span>Exercises</a></span><ul class=\"toc-item\"><li><span><a href=\"#Prostate-Cancer\" data-toc-modified-id=\"Prostate-Cancer-6.1\"><span class=\"toc-item-num\">6.1&nbsp;&nbsp;</span>Prostate Cancer</a></span></li><li><span><a href=\"#Common-Diseases\" data-toc-modified-id=\"Common-Diseases-6.2\"><span class=\"toc-item-num\">6.2&nbsp;&nbsp;</span>Common Diseases</a></span></li><li><span><a href=\"#Better-Tests\" data-toc-modified-id=\"Better-Tests-6.3\"><span class=\"toc-item-num\">6.3&nbsp;&nbsp;</span>Better Tests</a></span></li></ul></li><li><span><a href=\"#Level-Up:-Harder-Exercise\" data-toc-modified-id=\"Level-Up:-Harder-Exercise-7\"><span class=\"toc-item-num\">7&nbsp;&nbsp;</span>Level Up: Harder Exercise</a></span><ul class=\"toc-item\"><li><span><a href=\"#Two-Tests\" data-toc-modified-id=\"Two-Tests-7.1\"><span class=\"toc-item-num\">7.1&nbsp;&nbsp;</span>Two Tests</a></span></li></ul></li><li><span><a href=\"#Level-Up:-The-Bayes-Factor\" data-toc-modified-id=\"Level-Up:-The-Bayes-Factor-8\"><span class=\"toc-item-num\">8&nbsp;&nbsp;</span>Level Up: The Bayes Factor</a></span><ul class=\"toc-item\"><li><span><a href=\"#Using-the-Previous-Example\" data-toc-modified-id=\"Using-the-Previous-Example-8.1\"><span class=\"toc-item-num\">8.1&nbsp;&nbsp;</span>Using the Previous Example</a></span></li><li><span><a href=\"#Going-back-to-the-visual-example\" data-toc-modified-id=\"Going-back-to-the-visual-example-8.2\"><span class=\"toc-item-num\">8.2&nbsp;&nbsp;</span>Going back to the visual example</a></span></li><li><span><a href=\"#Interpreting-further\" data-toc-modified-id=\"Interpreting-further-8.3\"><span class=\"toc-item-num\">8.3&nbsp;&nbsp;</span>Interpreting further</a></span></li></ul></li></ul></div>"
   ]
  },
  {
   "cell_type": "markdown",
   "metadata": {
    "heading_collapsed": true
   },
   "source": [
    "# Objectives"
   ]
  },
  {
   "cell_type": "markdown",
   "metadata": {
    "hidden": true
   },
   "source": [
    "- Contrast Bayesian and Frequentist philosophies of probability\n",
    "- Use Bayes' Theorem to update a prior belief"
   ]
  },
  {
   "cell_type": "markdown",
   "metadata": {
    "heading_collapsed": true
   },
   "source": [
    "# Thomas Bayes: The Badass of Probability 😎"
   ]
  },
  {
   "cell_type": "markdown",
   "metadata": {
    "hidden": true
   },
   "source": [
    "![\"Bayes since badass isn't an official last name\"](images/badass_bayes_tshirt.jpg)\n",
    "\n",
    "> [Shirt from SunFrog](https://www.sunfrog.com/Names/BadAss-BAYES-zilyjxurkm.html?86448) #notsponsored 😉 "
   ]
  },
  {
   "cell_type": "markdown",
   "metadata": {
    "heading_collapsed": true
   },
   "source": [
    "# So What Do These Bayesians Say?"
   ]
  },
  {
   "cell_type": "markdown",
   "metadata": {
    "hidden": true
   },
   "source": [
    "**Bayesian inference** calculates the probability of an outcome using _prior_ knowledge or belief."
   ]
  },
  {
   "cell_type": "markdown",
   "metadata": {
    "heading_collapsed": true,
    "hidden": true
   },
   "source": [
    "## Sidebar: Bayes' Original Thought Experiment"
   ]
  },
  {
   "cell_type": "markdown",
   "metadata": {
    "hidden": true
   },
   "source": [
    "Good explanation & demo of Bayes' first thought experiment: https://www.youtube.com/watch?v=7GgLSnQ48os\n",
    "\n",
    "- Sit facing away a table\n",
    "- Place an initial ball on table\n",
    "- Toss another ball & assistant says where in relation the 1st ball lies\n",
    "- Repeat & continuously update the belief where the ball is"
   ]
  },
  {
   "cell_type": "markdown",
   "metadata": {
    "heading_collapsed": true,
    "hidden": true
   },
   "source": [
    "## Sidebar: Why C3P0 is Wrong & Han Solo is a Badass"
   ]
  },
  {
   "cell_type": "markdown",
   "metadata": {
    "hidden": true
   },
   "source": [
    "\"Never tell me the odds!\" https://www.countbayesie.com/blog/2015/2/18/hans-solo-and-bayesian-priors\n",
    "\n",
    "Han is a one great pilot, so he likely will get through the asteroid field even if others will fail (crash and blow-up)"
   ]
  },
  {
   "cell_type": "markdown",
   "metadata": {
    "heading_collapsed": true,
    "hidden": true
   },
   "source": [
    "## Sidebar: Interpreting Reviews "
   ]
  },
  {
   "cell_type": "markdown",
   "metadata": {
    "hidden": true
   },
   "source": [
    "Imagine two similar products, one with one 5 star review and another with 1,000 reviews averaging 4.6 stars. Which would you buy?"
   ]
  },
  {
   "cell_type": "markdown",
   "metadata": {
    "heading_collapsed": true,
    "hidden": true
   },
   "source": [
    "## The Other Faction - Frequentists"
   ]
  },
  {
   "cell_type": "markdown",
   "metadata": {
    "hidden": true
   },
   "source": [
    "![Star Wars Empire Symbol](images/star_wars_empire_symbol.jpg)\n",
    "\n",
    "\n",
    "**Frequentists** interpretation of probability: the limit of frequency after many, many trials.\n",
    "\n",
    "Basically, the Bayesians assign a probability to a hypothesis but Frequentists test a hypothesis and determine probability with repeated trials.\n",
    "\n",
    "Some days you're a Frequentist, other days you're a Bayesian."
   ]
  },
  {
   "cell_type": "markdown",
   "metadata": {
    "heading_collapsed": true
   },
   "source": [
    "# Bayes' Theorem"
   ]
  },
  {
   "cell_type": "markdown",
   "metadata": {
    "hidden": true
   },
   "source": [
    "Fun fact: Bayes never published or even wrote the theorem down. He felt it was so obvious (because, once again, Bayes is a badass). \n",
    "\n",
    "Richard Price (friend of Mr. Badass) went through papers after Bayes' death to see if anything was worth publishing."
   ]
  },
  {
   "cell_type": "markdown",
   "metadata": {
    "heading_collapsed": true,
    "hidden": true
   },
   "source": [
    "## Drumroll Please 🥁… Presenting, Bayes' Theorem!"
   ]
  },
  {
   "cell_type": "markdown",
   "metadata": {
    "hidden": true
   },
   "source": [
    "$$P(A|B) = \\frac{P(B|A)}{P(B)}\\ P(A) $$\n",
    "\n",
    "$$P(A|B) =  \\frac{P(B|A)P(A)}{P(B)}$$"
   ]
  },
  {
   "cell_type": "markdown",
   "metadata": {
    "hidden": true
   },
   "source": [
    "Each part (note, depending how you approach this, you might group different parts together):\n",
    "\n",
    "- $P(A)$: *prior*\n",
    "- $P(A|B)$: *posterior*\n",
    "- $P(B|A)$: *likelihood*\n",
    "- $\\frac{1}{P(B)}$: *normalization*"
   ]
  },
  {
   "cell_type": "markdown",
   "metadata": {
    "hidden": true
   },
   "source": [
    "## The Example: Fan of a Movie 🌙"
   ]
  },
  {
   "cell_type": "markdown",
   "metadata": {
    "hidden": true
   },
   "source": [
    "I'm a big fan of _Twilight_ and I want to be able to share my love for the series! Based on my experience, I found about 1 in 5 people (or 20%) also are fans of this vampire-werewolf saga.\n",
    "\n",
    "When I met Rory, they told me they just watched _The Twilight Saga: New Moon_ (the second movie) at a friend's house!"
   ]
  },
  {
   "cell_type": "markdown",
   "metadata": {
    "hidden": true
   },
   "source": [
    "![](https://upload.wikimedia.org/wikipedia/en/9/93/The_Twilight_Saga-_New_Moon_poster.JPG)"
   ]
  },
  {
   "cell_type": "markdown",
   "metadata": {
    "hidden": true
   },
   "source": [
    "There are two possible scenarios here:\n",
    "\n",
    "1. Rory is a fan and watched the beloved sequel to _Twilight_. I estimate that if you're a fan, the chances of you watching one the five awe-inspiring movies is about 60%. (It would be more, but we fans get busy.)\n",
    "\n",
    "2. Rory isn't a fan and watched the sequel because it was just on. I estimate that if you're not a fan, there's only a 5% chance of you watching one of the movies (about 10x less likely)."
   ]
  },
  {
   "cell_type": "markdown",
   "metadata": {
    "hidden": true
   },
   "source": [
    "Let's define two events:\n",
    "\n",
    "* $A$ = 🌙 fan\n",
    "* $B$ = watched 🌙"
   ]
  },
  {
   "cell_type": "markdown",
   "metadata": {
    "hidden": true
   },
   "source": [
    "Reviewing Bayes' Theorem, we get:"
   ]
  },
  {
   "cell_type": "markdown",
   "metadata": {
    "hidden": true
   },
   "source": [
    "$P(A) = P(\\text{🌙 fan}) = 0.20$\n",
    "\n",
    "$P(B|A) = P(\\text{watched 🌙, given you are a 🌙 fan}) = 0.60$\n",
    "\n",
    "$P(B|\\neg A) = P(\\text{watched 🌙, given you are NOT a 🌙 fan}) = 0.05$\n",
    "\n",
    "$\\begin{aligned}\n",
    "P(B) &= P(\\text{watched 🌙})  \\\\\n",
    "     &= P(B|A)\\cdot P(A) + P(B|\\neg A)\\cdot P(\\neg A) \\\\\n",
    "     &= 0.60\\cdot 0.20 + 0.05\\cdot 0.80 \\\\\n",
    "     &= 0.16 \n",
    "\\end{aligned}$"
   ]
  },
  {
   "cell_type": "markdown",
   "metadata": {
    "hidden": true
   },
   "source": [
    "So we get that the chances of someone like Rory is a _Twilight_ fan is:\n",
    "\n",
    "$$\\begin{aligned}\n",
    "P(A|B) &= P(\\text{🌙 fan, given you watched 🌙}) \\\\ \n",
    "       &= \\frac{P(B|A)P(A)}{P(B)} \\\\\n",
    "       &= \\frac{0.60 \\cdot 0.20}{0.16} \\\\\n",
    "       &= 0.75\n",
    "\\end{aligned}$$"
   ]
  },
  {
   "cell_type": "markdown",
   "metadata": {
    "ExecuteTime": {
     "end_time": "2021-02-28T19:25:14.437546Z",
     "start_time": "2021-02-28T19:25:14.434283Z"
    },
    "hidden": true
   },
   "source": [
    "So there's a $75\\%$ chance Rory is a fan too!"
   ]
  },
  {
   "cell_type": "markdown",
   "metadata": {
    "hidden": true
   },
   "source": [
    "## Visualizing Probabilities & Bayes"
   ]
  },
  {
   "cell_type": "markdown",
   "metadata": {
    "hidden": true
   },
   "source": [
    "We are very visual creatures, so it can help if we try to visualize this same scenario."
   ]
  },
  {
   "cell_type": "markdown",
   "metadata": {
    "hidden": true
   },
   "source": [
    "Imagine we have a population of $50$ people. We'd get:\n",
    "\n",
    "-  $0.2\\cdot 50 = 10$ are _Twilight_ fans\n",
    "    - 4 haven't watched: 🌙\n",
    "    - 6 have watched: 🧛\n",
    "-  $0.8\\cdot 50 = 40$ are not _Twilight_ fans: \n",
    "    - 38 haven't watched: 🙂\n",
    "    - 2 have watched: 👁\n",
    "\n",
    "<pre>\n",
    "\n",
    "🧛🧛👁👁🙂🙂🙂🙂🙂🙂\n",
    "🧛🧛🙂🙂🙂🙂🙂🙂🙂🙂\n",
    "🧛🧛🙂🙂🙂🙂🙂🙂🙂🙂\n",
    "🌙🌙🙂🙂🙂🙂🙂🙂🙂🙂\n",
    "🌙🌙🙂🙂🙂🙂🙂🙂🙂🙂\n",
    "\n",
    "</pre>"
   ]
  },
  {
   "cell_type": "markdown",
   "metadata": {
    "hidden": true
   },
   "source": [
    "But we only care about those who watched (🧛 & 👁). So given that Rory watched one of the movies, we only care about this subset:\n",
    "\n",
    "<pre>\n",
    "\n",
    "🧛🧛👁👁\n",
    "🧛🧛\n",
    "🧛🧛\n",
    "\n",
    "</pre>\n",
    "\n",
    "Thus there is a $6$ out of $8$ chance Rory also is a _Twilight_ fan or simply $75\\%$"
   ]
  },
  {
   "cell_type": "markdown",
   "metadata": {
    "hidden": true
   },
   "source": [
    "\n",
    "# Bayes' Theorem Examples "
   ]
  },
  {
   "cell_type": "markdown",
   "metadata": {
    "hidden": true
   },
   "source": [
    "## Scenario: Diagnostic Testing 🤢"
   ]
  },
  {
   "cell_type": "markdown",
   "metadata": {
    "hidden": true
   },
   "source": [
    "Pretend we test positive for a rare disease. What are the chances that we actually have the disease?"
   ]
  },
  {
   "cell_type": "markdown",
   "metadata": {
    "hidden": true
   },
   "source": [
    "## The Setup"
   ]
  },
  {
   "cell_type": "markdown",
   "metadata": {
    "hidden": true
   },
   "source": [
    "- The disease is rare: only 0.01% of the population has it\n",
    "- The test will be correct 99% of the time, whether or not you have the disease "
   ]
  },
  {
   "cell_type": "markdown",
   "metadata": {
    "hidden": true
   },
   "source": [
    "## Defining Events & Probabilities"
   ]
  },
  {
   "cell_type": "markdown",
   "metadata": {
    "hidden": true
   },
   "source": [
    "$A$ → I have the disease\n",
    "\n",
    "$B$ → I test positive\n",
    "\n",
    "----------\n",
    "\n",
    "$P(A) = P(\\text{have the disease}) = 0.0001$\n",
    "\n",
    "$P(B)$ = $P(\\text{test positive})$\n",
    "\n",
    "$P(A|B)$ = $P(\\text{having the disease given that test positive})$\n",
    "\n",
    "\n",
    "\n",
    "\n",
    "\n"
   ]
  },
  {
   "cell_type": "markdown",
   "metadata": {
    "hidden": true
   },
   "source": [
    "## Use Bayes' Theorem"
   ]
  },
  {
   "cell_type": "markdown",
   "metadata": {
    "hidden": true
   },
   "source": [
    "$P(sick | positive) =  \\frac{P(positive | sick)\\ P(sick)}{P(positive)}$"
   ]
  },
  {
   "cell_type": "markdown",
   "metadata": {
    "hidden": true
   },
   "source": [
    "But we can be more specific by knowing the probability of testing positive for each case"
   ]
  },
  {
   "cell_type": "markdown",
   "metadata": {
    "hidden": true
   },
   "source": [
    "$P(positive) = P(sick)\\ P(positive | sick) + P(not\\ sick)\\ P(positive|not\\ sick)$"
   ]
  },
  {
   "cell_type": "markdown",
   "metadata": {
    "hidden": true
   },
   "source": [
    "This leads to our ultimate equation"
   ]
  },
  {
   "cell_type": "markdown",
   "metadata": {
    "hidden": true
   },
   "source": [
    "$P(sick | positive) =  \\frac{P(positive | sick)\\ P(sick)}{P(sick)\\ P(positive | sick) + P(not\\ sick)\\ P(positive|not\\ sick)}$"
   ]
  },
  {
   "cell_type": "markdown",
   "metadata": {
    "hidden": true
   },
   "source": [
    "## Calculate Posterior Probability"
   ]
  },
  {
   "cell_type": "code",
   "execution_count": null,
   "metadata": {
    "hidden": true
   },
   "outputs": [],
   "source": [
    "# probability of sick & healthy\n",
    "p_sick = 0.0001\n",
    "p_not_sick = 1 - p_sick\n",
    "\n",
    "# probability of test being correct (accuracy)\n",
    "p_positive_sick = 0.99\n",
    "p_positive_not_sick = 1 - p_positive_sick\n",
    "\n",
    "# probability of positive test (whether or not you are sick)\n",
    "p_positive = p_sick*p_positive_sick + p_not_sick*p_positive_not_sick"
   ]
  },
  {
   "cell_type": "markdown",
   "metadata": {
    "hidden": true
   },
   "source": [
    "Next, we defining the parts for Bayes' Theorem"
   ]
  },
  {
   "cell_type": "code",
   "execution_count": null,
   "metadata": {
    "hidden": true
   },
   "outputs": [],
   "source": [
    "# belief before hand\n",
    "sick_prior = p_sick\n",
    "\n",
    "# how likely are we to test positive and be sick\n",
    "pos_sick_likelihood = p_positive_sick \n",
    "\n",
    "# Add normalization\n",
    "pos_norm = p_positive"
   ]
  },
  {
   "cell_type": "markdown",
   "metadata": {
    "hidden": true
   },
   "source": [
    "For convenience, I've created a function that combines all three parts to calculate the **posterior** probability"
   ]
  },
  {
   "cell_type": "code",
   "execution_count": null,
   "metadata": {
    "hidden": true
   },
   "outputs": [],
   "source": [
    "# handy dandy function\n",
    "def find_posterior(prior, likelihood, norm):\n",
    "    return prior * likelihood / norm"
   ]
  },
  {
   "cell_type": "markdown",
   "metadata": {
    "hidden": true
   },
   "source": [
    "Lastly, we use the function to calculate our result"
   ]
  },
  {
   "cell_type": "code",
   "execution_count": null,
   "metadata": {
    "hidden": true
   },
   "outputs": [],
   "source": [
    "prob_youre_sick = find_posterior(sick_prior, pos_sick_likelihood, pos_norm)\n",
    "\n",
    "print(f'You have a {prob_youre_sick*100:.2f}% chance of actually being sick')"
   ]
  },
  {
   "cell_type": "markdown",
   "metadata": {
    "heading_collapsed": true,
    "hidden": true
   },
   "source": [
    "## Interpretation\n",
    "\n",
    "**Discussion:** Does this make sense?"
   ]
  },
  {
   "cell_type": "markdown",
   "metadata": {
    "hidden": true
   },
   "source": [
    "<!-- Space to illustrate -->\n",
    "<pre>\n",
    "\n",
    "\n",
    "\n",
    "\n",
    "\n",
    "\n",
    "\n",
    "\n",
    "\n",
    "\n",
    "\n",
    "\n",
    "\n",
    "\n",
    "\n",
    "\n",
    "\n",
    "</pre>"
   ]
  },
  {
   "cell_type": "markdown",
   "metadata": {
    "heading_collapsed": true
   },
   "source": [
    "# Exercises"
   ]
  },
  {
   "cell_type": "markdown",
   "metadata": {
    "heading_collapsed": true,
    "hidden": true
   },
   "source": [
    "## Prostate Cancer\n"
   ]
  },
  {
   "cell_type": "markdown",
   "metadata": {
    "hidden": true
   },
   "source": [
    "A study has shown that 12% of men will likely develop prostate cancer at some point in their lives. A man with prostate cancer as a 95% of a positive test result from a medical screening exam. A man without cancer has a 6& chance of getting a false positive test result. What is probability that a man has cancer given a positive test result?"
   ]
  },
  {
   "cell_type": "markdown",
   "metadata": {
    "ExecuteTime": {
     "end_time": "2022-11-30T03:27:36.898651Z",
     "start_time": "2022-11-30T03:27:36.880149Z"
    },
    "heading_collapsed": true,
    "hidden": true
   },
   "source": [
    "## Common Diseases\n",
    "\n",
    "How would the calculation in the Diagnostic Testing scenario change if 2% of the population had the disease?\n",
    "\n",
    "<details>\n",
    "    <summary><b><u>Click Here for Answer Code</u></b></summary>\n",
    "\n",
    "    # probability of sick & healthy\n",
    "    p_sick = 0.02\n",
    "    p_not_sick = 1 - p_sick\n",
    "\n",
    "    # probability of test being correct (accuracy)\n",
    "    p_positive_sick = 0.99\n",
    "    p_positive_not_sick = 1 - p_positive_sick\n",
    "\n",
    "    # probability of positive test (whether or not you are sick)\n",
    "    p_positive = p_sick*p_positive_sick + p_not_sick*p_positive_not_sick\n",
    "\n",
    "    # belief before hand\n",
    "    sick_prior = p_sick\n",
    "\n",
    "    # how likely are we to test positive and be sick\n",
    "    pos_sick_likelihood = p_positive_sick \n",
    "\n",
    "    # Add normalization\n",
    "    pos_norm = p_positive\n",
    "\n",
    "    prob_youre_sick = find_posterior(sick_prior, pos_sick_likelihood, pos_norm)\n",
    "\n",
    "    print(f'You have a {prob_youre_sick*100:.2f}% chance of actually being sick')\n",
    "    \n",
    "</details>"
   ]
  },
  {
   "cell_type": "code",
   "execution_count": null,
   "metadata": {
    "hidden": true
   },
   "outputs": [],
   "source": [
    "# Your work here\n"
   ]
  },
  {
   "cell_type": "markdown",
   "metadata": {
    "heading_collapsed": true,
    "hidden": true
   },
   "source": [
    "## Better Tests\n",
    "\n",
    "How would the calculation in the Diagnostic Testing scenario change if the test were 99.9% correct?\n",
    "\n",
    "\n",
    "<details>\n",
    "    <summary><b><u>Click Here for Answer Code</u></b></summary>\n",
    "\n",
    "    # probability of sick & healthy\n",
    "    p_sick = 0.0001\n",
    "    p_not_sick = 1 - p_sick\n",
    "\n",
    "    # probability of test being correct (accuracy)\n",
    "    p_positive_sick = 0.999\n",
    "    p_positive_not_sick = 1 - p_positive_sick\n",
    "\n",
    "    # probability of positive test (whether or not you are sick)\n",
    "    p_positive = p_sick*p_positive_sick + p_not_sick*p_positive_not_sick\n",
    "\n",
    "    # belief before hand\n",
    "    sick_prior = p_sick\n",
    "\n",
    "    # how likely are we to test positive and be sick\n",
    "    pos_sick_likelihood = p_positive_sick \n",
    "\n",
    "    # Add normalization\n",
    "    pos_norm = p_positive\n",
    "\n",
    "    prob_youre_sick = find_posterior(sick_prior, pos_sick_likelihood, pos_norm)\n",
    "\n",
    "    print(f'You have a {prob_youre_sick*100:.2f}% chance of actually being sick')\n",
    "    \n",
    "</details>"
   ]
  },
  {
   "cell_type": "code",
   "execution_count": null,
   "metadata": {
    "hidden": true
   },
   "outputs": [],
   "source": [
    "# Your work here\n"
   ]
  },
  {
   "cell_type": "markdown",
   "metadata": {
    "heading_collapsed": true
   },
   "source": [
    "# Level Up: Harder Exercise"
   ]
  },
  {
   "cell_type": "markdown",
   "metadata": {
    "heading_collapsed": true,
    "hidden": true
   },
   "source": [
    "## Two Tests\n",
    "\n",
    "In the original Diagnostic Testing scenario above, what are the chances that we have the disease if we take the test twice and it is positive both times? (Assume the tests are independent.)\n",
    "\n",
    "\n",
    "<details>\n",
    "    <summary><b><u>Click Here for Answer Code</u></b></summary>\n",
    "\n",
    "    # probability of sick & healthy\n",
    "    p_sick = 0.0001\n",
    "    p_not_sick = 1 - p_sick\n",
    "\n",
    "    # probability of 2 tests being correct\n",
    "    p_positive_sick = 0.99\n",
    "    p_2positive_sick = p_positive_sick**2\n",
    "    \n",
    "    # probability of 2 tests being incorrect\n",
    "    p_positive_not_sick = 1 - p_positive_sick\n",
    "    p_2positive_not_sick = p_positive_not_sick**2\n",
    "\n",
    "    # probability of positive test (whether or not you are sick)\n",
    "    p_2positive = p_sick*p_2positive_sick + p_not_sick*p_2positive_not_sick\n",
    "\n",
    "    # belief before hand\n",
    "    sick_prior = p_sick\n",
    "\n",
    "    # how likely are we to test positive and be sick\n",
    "    pos_sick_likelihood = p_2positive_sick \n",
    "\n",
    "    # Add normalization\n",
    "    pos_norm = p_2positive\n",
    "\n",
    "    prob_youre_sick = find_posterior(sick_prior, pos_sick_likelihood, pos_norm)\n",
    "\n",
    "    print(f'You have a {prob_youre_sick*100:.2f}% chance of actually being sick')\n",
    "    \n",
    "</details>"
   ]
  },
  {
   "cell_type": "code",
   "execution_count": null,
   "metadata": {
    "hidden": true
   },
   "outputs": [],
   "source": [
    "# Your work here"
   ]
  },
  {
   "cell_type": "markdown",
   "metadata": {
    "heading_collapsed": true
   },
   "source": [
    "# Level Up: The Bayes Factor"
   ]
  },
  {
   "cell_type": "markdown",
   "metadata": {
    "hidden": true
   },
   "source": [
    "Another method for using Bayesian reasoning relies on _odds_ over _probability_. This can feel more intuitive.\n",
    "\n",
    "If we rearrange Bayes' Theorem, we can use the odds:\n",
    "\n",
    "$$P(A|B) =  \\frac{P(B|A)P(A)}{P(B)}$$\n",
    "\n",
    "$$O(A|B) =  O(A)\\frac{P(B|A)}{P(B|\\neg A)}$$\n"
   ]
  },
  {
   "cell_type": "markdown",
   "metadata": {
    "hidden": true
   },
   "source": [
    "We call this $\\frac{P(B|A)}{P(B|\\neg A)}$ the **Bayes factor** and can be seen how we update the prior odds."
   ]
  },
  {
   "cell_type": "markdown",
   "metadata": {
    "hidden": true
   },
   "source": [
    "To use this we, say what we want is the _odds_ that $A$ is true given $B$ is true (observed)"
   ]
  },
  {
   "cell_type": "markdown",
   "metadata": {
    "heading_collapsed": true,
    "hidden": true
   },
   "source": [
    "## Using the Previous Example"
   ]
  },
  {
   "cell_type": "markdown",
   "metadata": {
    "hidden": true
   },
   "source": [
    "Going back to our _Twilight_ example:"
   ]
  },
  {
   "cell_type": "markdown",
   "metadata": {
    "hidden": true
   },
   "source": [
    "* $P(A) = 20\\%$ (or $O(A)= \\frac{1}{4}$ or {$1:4$}) of all people are _Twilight_ fans \n",
    "* $P(B|A) = 60\\%$ of all _Twilight_ fans have seen one of the movies in the past month\n",
    "* $P(B|\\neg A) = 5\\%$ of all non-_Twilight_ fans have seen one of the movies in the past month"
   ]
  },
  {
   "cell_type": "markdown",
   "metadata": {
    "hidden": true
   },
   "source": [
    "Well, then our odds form turns to:\n",
    "\n",
    "$$\\begin{aligned}\n",
    "O(A|B) &= O(A)\\frac{P(B|A)}{P(B|\\neg A)} \\\\\n",
    "\\\\\n",
    "       &= \\frac{1}{4} \\cdot \\frac{0.60}{0.05} \\\\\n",
    "       &= \\frac{1}{4} \\cdot 12 \\\\\n",
    "       &= \\frac{12}{4} \\\\\n",
    "       &= \\frac{3}{1} \\\\\n",
    "       & = 3:1 \\text{ odds}\n",
    "\\end{aligned}$$\n",
    "\n",
    "Or simply $3$ out of $4$ people who watched a movie from the _Twilight_ saga is a fan. That's the same $75\\%$ we found from before!"
   ]
  },
  {
   "cell_type": "markdown",
   "metadata": {
    "heading_collapsed": true,
    "hidden": true
   },
   "source": [
    "## Going back to the visual example"
   ]
  },
  {
   "cell_type": "markdown",
   "metadata": {
    "hidden": true
   },
   "source": [
    "Using a pretend population of $50$ random people we still get:\n",
    "\n",
    "-  $0.2\\cdot 50 = 10$ are _Twilight_ fans\n",
    "    - 4 haven't watched in the past month: 🌙\n",
    "    - 6 have watched in the past month: 🧛\n",
    "-  $0.8\\cdot 50 = 40$ are not _Twilight_ fans: \n",
    "    - 38 haven't watched in the past month: 🙂\n",
    "    - 2 have watched in the past month: 👁\n",
    "\n",
    "<pre>\n",
    "\n",
    "🧛🧛👁👁🙂🙂🙂🙂🙂🙂\n",
    "🧛🧛🙂🙂🙂🙂🙂🙂🙂🙂\n",
    "🧛🧛🙂🙂🙂🙂🙂🙂🙂🙂\n",
    "🌙🌙🙂🙂🙂🙂🙂🙂🙂🙂\n",
    "🌙🌙🙂🙂🙂🙂🙂🙂🙂🙂\n",
    "\n",
    "</pre>"
   ]
  },
  {
   "cell_type": "markdown",
   "metadata": {
    "heading_collapsed": true,
    "hidden": true
   },
   "source": [
    "## Interpreting further\n",
    "\n",
    "- There's $1$:$4$ odds you are a fan given no information\n",
    "- But if you watched a _Twilight_ movie in the past month, we know you're more likely to be a fan by the **Bayes factor** of 12 \n",
    "- We update our _prior_ belief with that knowledge to find we expect that there are 3 times **more** fans who watched in the past month than non-fans who watched in the past month"
   ]
  }
 ],
 "metadata": {
  "kernelspec": {
   "display_name": "Python 3 (ipykernel)",
   "language": "python",
   "name": "python3"
  },
  "language_info": {
   "codemirror_mode": {
    "name": "ipython",
    "version": 3
   },
   "file_extension": ".py",
   "mimetype": "text/x-python",
   "name": "python",
   "nbconvert_exporter": "python",
   "pygments_lexer": "ipython3",
   "version": "3.8.5"
  },
  "toc": {
   "base_numbering": 1,
   "nav_menu": {},
   "number_sections": true,
   "sideBar": false,
   "skip_h1_title": false,
   "title_cell": "Table of Contents",
   "title_sidebar": "Contents",
   "toc_cell": true,
   "toc_position": {
    "height": "calc(100% - 180px)",
    "left": "10px",
    "top": "150px",
    "width": "177.391px"
   },
   "toc_section_display": false,
   "toc_window_display": false
  },
  "varInspector": {
   "cols": {
    "lenName": 16,
    "lenType": 16,
    "lenVar": 40
   },
   "kernels_config": {
    "python": {
     "delete_cmd_postfix": "",
     "delete_cmd_prefix": "del ",
     "library": "var_list.py",
     "varRefreshCmd": "print(var_dic_list())"
    },
    "r": {
     "delete_cmd_postfix": ") ",
     "delete_cmd_prefix": "rm(",
     "library": "var_list.r",
     "varRefreshCmd": "cat(var_dic_list()) "
    }
   },
   "types_to_exclude": [
    "module",
    "function",
    "builtin_function_or_method",
    "instance",
    "_Feature"
   ],
   "window_display": false
  }
 },
 "nbformat": 4,
 "nbformat_minor": 2
}

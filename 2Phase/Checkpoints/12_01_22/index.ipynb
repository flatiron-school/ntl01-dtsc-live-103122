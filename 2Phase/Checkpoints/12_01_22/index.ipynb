{
 "cells": [
  {
   "cell_type": "markdown",
   "metadata": {
    "nbgrader": {
     "grade": false,
     "grade_id": "cell-7b4408ef8f4495a8",
     "locked": true,
     "schema_version": 3,
     "solution": false,
     "task": false
    }
   },
   "source": [
    "# Bayesian Statistics\n",
    "\n",
    "This checkpoint is designed to test your understanding of applying Bayes' theorem.\n",
    "\n",
    "Specifically, this will cover:\n",
    "\n",
    "* Interpreting a word problem and applying Bayes' theorem\n",
    "* Manipulating the elements of Bayes' theorem to a given problem context"
   ]
  },
  {
   "cell_type": "markdown",
   "metadata": {
    "nbgrader": {
     "grade": false,
     "grade_id": "cell-8718dd5f7f3772b0",
     "locked": true,
     "schema_version": 3,
     "solution": false,
     "task": false
    }
   },
   "source": [
    "## Your Task: Calculate Probabilities Using Bayes' Theorem\n",
    "\n",
    "### Problem Context\n",
    "\n",
    "Thomas is going to get a new puppy. There are two major decisions involved: what _location_ he gets the puppy from, and what _size_ the puppy is.\n",
    "\n",
    "The possible **locations** for getting the puppy are the **pet store** or the **pound**. These are mutually exclusive and collectively exhaustive probabilities, meaning that Thomas will only go to one location, and there is a 100% probability that he will go to one of these two locations. We'll represent those probabilities as $P(Pet Store)$ and $P(Pound)$ as needed.\n",
    "\n",
    "The possible puppy **sizes** are **small**, **medium**, or **large**. Again, these are mutually exclusive and collectively exhaustive probabilities, so a given puppy has only one size and there is a 100% probability that Thomas will get a puppy with one of these three sizes. We'll represent those probabilities as $P(Small)$, $P(Medium)$, and $P(Large)$ as needed.\n",
    "\n",
    "### Known Probabilities\n",
    "\n",
    "1. $P(Pet Store) = 0.2$\n",
    "   * The probability of Thomas going to the pet store is 20%\n",
    "2. $P(Small \\mid Pet Store) = 0.6$\n",
    "   * If he goes to the pet store, the probability of him getting a small puppy is 60%\n",
    "3. $P(Medium \\mid Pet Store) = 0.3$\n",
    "   * If he goes to the pet store, the probability of him getting a medium puppy is 30%\n",
    "4. $P(Large \\mid Pet Store) = 0.1$\n",
    "   * If he goes to the pet store, the probability of him getting a large puppy is 10%\n",
    "5. $P(Small \\mid Pound) = 0.1$\n",
    "   * If he goes to the pound, the probability of him getting a small puppy is 10%\n",
    "6. $P(Medium \\mid Pound) = 0.35$\n",
    "   * If he goes to the pound, the probability of him getting a medium puppy is 35%\n",
    "7. $P(Large \\mid Pound) = 0.55$\n",
    "   * If he goes to the pound, the probability of him getting a large puppy is 55%\n",
    "\n",
    "### Formula Reminders\n",
    "\n",
    "This is the formula for Bayes' theorem:\n",
    "\n",
    "$$P(A \\mid B) = \\dfrac{P(B \\mid A)P(A)}{P(B)}$$\n",
    "\n",
    "In other words, the probability of A given B is the probability of B given A times the probability of A, divided by the probability of B.\n",
    "\n",
    "Additionally, recall the law of total probability:\n",
    "\n",
    "$$P(A) = \\sum_i P(A \\mid B_i)P(B_i)$$\n",
    "\n",
    "In other words, the probability of A is the sum of all (probability of A given B times the probability of B) for all B.\n",
    "\n",
    "### Requirements\n",
    "\n",
    "#### 1. What is the probability of Thomas getting a small puppy?\n",
    "\n",
    "#### 2. Given that he got a large puppy, what is the probability that Thomas went to the pet store?"
   ]
  },
  {
   "cell_type": "markdown",
   "metadata": {
    "nbgrader": {
     "grade": false,
     "grade_id": "cell-f8f520a0a0b8652a",
     "locked": true,
     "schema_version": 3,
     "solution": false,
     "task": false
    }
   },
   "source": [
    "## 1. What is the probability of Thomas getting a small puppy?\n",
    "\n",
    "In other words, what is $P(Small)$?\n",
    "\n",
    "We recommend that you make as many intermediate variables as you need, to represent the known probabilities listed above and to plug them into the appropriate formula. It is also helpful to include comments to help you keep track of your logic.\n",
    "\n",
    "Assign your answer to `p_small`."
   ]
  },
  {
   "cell_type": "code",
   "execution_count": 1,
   "metadata": {},
   "outputs": [],
   "source": [
    "p_petstore = .2\n",
    "p_s_given_petstore = .6\n",
    "p_m_given_petstore = .3\n",
    "p_l_given_petstore = .1\n",
    "\n",
    "p_pound = .8\n",
    "p_s_given_pound = .1\n",
    "p_m_given_pound = .35\n",
    "p_l_given_pound = .55"
   ]
  },
  {
   "cell_type": "code",
   "execution_count": 2,
   "metadata": {
    "nbgrader": {
     "grade": false,
     "grade_id": "cell-26e7a79fe3b157f0",
     "locked": false,
     "schema_version": 3,
     "solution": true,
     "task": false
    }
   },
   "outputs": [
    {
     "data": {
      "text/plain": [
       "0.2"
      ]
     },
     "execution_count": 2,
     "metadata": {},
     "output_type": "execute_result"
    }
   ],
   "source": [
    "# CodeGrade step1\n",
    "# Replace None with appropriate code\n",
    "p_small = (p_s_given_petstore * p_petstore) + (p_s_given_pound * p_pound)\n",
    "p_small"
   ]
  },
  {
   "cell_type": "code",
   "execution_count": 3,
   "metadata": {},
   "outputs": [],
   "source": [
    "# p_small should be a floating point probability between 0 and 1\n",
    "assert type(p_small) == float\n",
    "assert 0 <= p_small and p_small <= 1"
   ]
  },
  {
   "cell_type": "markdown",
   "metadata": {
    "nbgrader": {
     "grade": false,
     "grade_id": "cell-f861fb23efe118f1",
     "locked": true,
     "schema_version": 3,
     "solution": false,
     "task": false
    }
   },
   "source": [
    "## 2. Given that he got a large puppy, what is the probability that Thomas went to the pet store?\n",
    "\n",
    "In other words, what is $P(Pet Store \\mid Large)$?\n",
    "\n",
    "Hint: In order to calculate this answer, you will need to calculate $P(Large)$. Note that there are 3 sizes of puppy (small, medium, and large), so you can't just subtract $P(Small)$ from 1.\n",
    "\n",
    "Assign your answer to `p_pet_store_given_large`."
   ]
  },
  {
   "cell_type": "code",
   "execution_count": 4,
   "metadata": {
    "scrolled": true
   },
   "outputs": [
    {
     "data": {
      "text/plain": [
       "0.33999999999999997"
      ]
     },
     "execution_count": 4,
     "metadata": {},
     "output_type": "execute_result"
    }
   ],
   "source": [
    "p_med = (p_m_given_petstore * p_petstore) + (p_m_given_pound * p_pound)\n",
    "p_med"
   ]
  },
  {
   "cell_type": "code",
   "execution_count": 5,
   "metadata": {
    "scrolled": true
   },
   "outputs": [
    {
     "data": {
      "text/plain": [
       "0.4600000000000001"
      ]
     },
     "execution_count": 5,
     "metadata": {},
     "output_type": "execute_result"
    }
   ],
   "source": [
    "p_large = (p_l_given_petstore * p_petstore) + (p_l_given_pound * p_pound)\n",
    "p_large"
   ]
  },
  {
   "cell_type": "code",
   "execution_count": 6,
   "metadata": {},
   "outputs": [
    {
     "data": {
      "text/plain": [
       "1.0"
      ]
     },
     "execution_count": 6,
     "metadata": {},
     "output_type": "execute_result"
    }
   ],
   "source": [
    "#checking work\n",
    "p_anysize = p_large + p_med + p_small\n",
    "p_anysize"
   ]
  },
  {
   "cell_type": "code",
   "execution_count": 7,
   "metadata": {
    "nbgrader": {
     "grade": false,
     "grade_id": "cell-b53fe8cfa2dfdaf6",
     "locked": false,
     "schema_version": 3,
     "solution": true,
     "task": false
    }
   },
   "outputs": [
    {
     "data": {
      "text/plain": [
       "0.043478260869565216"
      ]
     },
     "execution_count": 7,
     "metadata": {},
     "output_type": "execute_result"
    }
   ],
   "source": [
    "# CodeGrade step2\n",
    "# Replace None with appropriate code\n",
    "p_pet_store_given_large = (p_l_given_petstore * p_petstore) / p_large\n",
    "\n",
    "p_pet_store_given_large"
   ]
  },
  {
   "cell_type": "code",
   "execution_count": 8,
   "metadata": {},
   "outputs": [],
   "source": [
    "# p_small should be a floating point probability between 0 and 1\n",
    "assert type(p_pet_store_given_large) == float\n",
    "assert 0 <= p_pet_store_given_large and p_pet_store_given_large <= 1"
   ]
  },
  {
   "cell_type": "code",
   "execution_count": null,
   "metadata": {},
   "outputs": [],
   "source": []
  }
 ],
 "metadata": {
  "celltoolbar": "Create Assignment",
  "kernelspec": {
   "display_name": "Python (learn-env)",
   "language": "python",
   "name": "learn-env"
  },
  "language_info": {
   "codemirror_mode": {
    "name": "ipython",
    "version": 3
   },
   "file_extension": ".py",
   "mimetype": "text/x-python",
   "name": "python",
   "nbconvert_exporter": "python",
   "pygments_lexer": "ipython3",
   "version": "3.8.5"
  },
  "toc": {
   "base_numbering": 1,
   "nav_menu": {},
   "number_sections": true,
   "sideBar": true,
   "skip_h1_title": false,
   "title_cell": "Table of Contents",
   "title_sidebar": "Contents",
   "toc_cell": false,
   "toc_position": {},
   "toc_section_display": true,
   "toc_window_display": false
  }
 },
 "nbformat": 4,
 "nbformat_minor": 4
}

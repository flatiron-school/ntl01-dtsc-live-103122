{
 "cells": [
  {
   "cell_type": "markdown",
   "metadata": {
    "toc": true
   },
   "source": [
    "<h1>Table of Contents<span class=\"tocSkip\"></span></h1>\n",
    "<div class=\"toc\"><ul class=\"toc-item\"><li><span><a href=\"#Objectives\" data-toc-modified-id=\"Objectives-1\"><span class=\"toc-item-num\">1&nbsp;&nbsp;</span>Objectives</a></span></li><li><span><a href=\"#Motivation-for-Hypothesis-Testing\" data-toc-modified-id=\"Motivation-for-Hypothesis-Testing-2\"><span class=\"toc-item-num\">2&nbsp;&nbsp;</span>Motivation for Hypothesis Testing</a></span></li><li><span><a href=\"#Experiment-Design\" data-toc-modified-id=\"Experiment-Design-3\"><span class=\"toc-item-num\">3&nbsp;&nbsp;</span>Experiment Design</a></span><ul class=\"toc-item\"><li><span><a href=\"#The-Scientific-Method\" data-toc-modified-id=\"The-Scientific-Method-3.1\"><span class=\"toc-item-num\">3.1&nbsp;&nbsp;</span>The Scientific Method</a></span></li><li><span><a href=\"#Making-a-Good-Experiment\" data-toc-modified-id=\"Making-a-Good-Experiment-3.2\"><span class=\"toc-item-num\">3.2&nbsp;&nbsp;</span>Making a Good Experiment</a></span><ul class=\"toc-item\"><li><span><a href=\"#Control-Groups\" data-toc-modified-id=\"Control-Groups-3.2.1\"><span class=\"toc-item-num\">3.2.1&nbsp;&nbsp;</span>Control Groups</a></span></li><li><span><a href=\"#Random-Trials\" data-toc-modified-id=\"Random-Trials-3.2.2\"><span class=\"toc-item-num\">3.2.2&nbsp;&nbsp;</span>Random Trials</a></span></li><li><span><a href=\"#Sample-Size\" data-toc-modified-id=\"Sample-Size-3.2.3\"><span class=\"toc-item-num\">3.2.3&nbsp;&nbsp;</span>Sample Size</a></span></li><li><span><a href=\"#Reproducible\" data-toc-modified-id=\"Reproducible-3.2.4\"><span class=\"toc-item-num\">3.2.4&nbsp;&nbsp;</span>Reproducible</a></span></li></ul></li><li><span><a href=\"#Scenarios\" data-toc-modified-id=\"Scenarios-3.3\"><span class=\"toc-item-num\">3.3&nbsp;&nbsp;</span>Scenarios</a></span></li></ul></li><li><span><a href=\"#Introducing-Hypothesis-Testing\" data-toc-modified-id=\"Introducing-Hypothesis-Testing-4\"><span class=\"toc-item-num\">4&nbsp;&nbsp;</span>Introducing Hypothesis Testing</a></span><ul class=\"toc-item\"><li><span><a href=\"#Intuition\" data-toc-modified-id=\"Intuition-4.1\"><span class=\"toc-item-num\">4.1&nbsp;&nbsp;</span>Intuition</a></span></li><li><span><a href=\"#Scenario\" data-toc-modified-id=\"Scenario-4.2\"><span class=\"toc-item-num\">4.2&nbsp;&nbsp;</span>Scenario</a></span></li><li><span><a href=\"#High-Level-Hypothesis-Testing\" data-toc-modified-id=\"High-Level-Hypothesis-Testing-4.3\"><span class=\"toc-item-num\">4.3&nbsp;&nbsp;</span>High-Level Hypothesis Testing</a></span></li></ul></li><li><span><a href=\"#Steps-of-a-Hypothesis-Test\" data-toc-modified-id=\"Steps-of-a-Hypothesis-Test-5\"><span class=\"toc-item-num\">5&nbsp;&nbsp;</span>Steps of a Hypothesis Test</a></span><ul class=\"toc-item\"><li><span><a href=\"#STEP-1:-State-the-Null-and-Alternative-Hypotheses\" data-toc-modified-id=\"STEP-1:-State-the-Null-and-Alternative-Hypotheses-5.1\"><span class=\"toc-item-num\">5.1&nbsp;&nbsp;</span>STEP 1: State the Null and Alternative Hypotheses</a></span><ul class=\"toc-item\"><li><span><a href=\"#The-Null-Hypothesis\" data-toc-modified-id=\"The-Null-Hypothesis-5.1.1\"><span class=\"toc-item-num\">5.1.1&nbsp;&nbsp;</span>The Null Hypothesis</a></span></li><li><span><a href=\"#The-Alternative-Hypothesis\" data-toc-modified-id=\"The-Alternative-Hypothesis-5.1.2\"><span class=\"toc-item-num\">5.1.2&nbsp;&nbsp;</span>The Alternative Hypothesis</a></span></li><li><span><a href=\"#🧠-Knowledge-Check\" data-toc-modified-id=\"🧠-Knowledge-Check-5.1.3\"><span class=\"toc-item-num\">5.1.3&nbsp;&nbsp;</span>🧠 Knowledge Check</a></span></li></ul></li><li><span><a href=\"#STEP-2:-Specify-Significance-Level\" data-toc-modified-id=\"STEP-2:-Specify-Significance-Level-5.2\"><span class=\"toc-item-num\">5.2&nbsp;&nbsp;</span>STEP 2: Specify Significance Level</a></span></li><li><span><a href=\"#STEP-3:-Calculate-the-Test-Statistic\" data-toc-modified-id=\"STEP-3:-Calculate-the-Test-Statistic-5.3\"><span class=\"toc-item-num\">5.3&nbsp;&nbsp;</span>STEP 3: Calculate the Test Statistic</a></span><ul class=\"toc-item\"><li><span><a href=\"#Calculating-the-$z$-statistic\" data-toc-modified-id=\"Calculating-the-$z$-statistic-5.3.1\"><span class=\"toc-item-num\">5.3.1&nbsp;&nbsp;</span>Calculating the $z$-statistic</a></span></li></ul></li><li><span><a href=\"#STEP-4:-Calculate-p-value\" data-toc-modified-id=\"STEP-4:-Calculate-p-value-5.4\"><span class=\"toc-item-num\">5.4&nbsp;&nbsp;</span>STEP 4: Calculate p-value</a></span></li><li><span><a href=\"#STEP-5:-Interpret-p-value\" data-toc-modified-id=\"STEP-5:-Interpret-p-value-5.5\"><span class=\"toc-item-num\">5.5&nbsp;&nbsp;</span>STEP 5: Interpret p-value</a></span><ul class=\"toc-item\"><li><span><a href=\"#Another-Warning\" data-toc-modified-id=\"Another-Warning-5.5.1\"><span class=\"toc-item-num\">5.5.1&nbsp;&nbsp;</span>Another Warning</a></span></li></ul></li><li><span><a href=\"#Summary\" data-toc-modified-id=\"Summary-5.6\"><span class=\"toc-item-num\">5.6&nbsp;&nbsp;</span>Summary</a></span></li></ul></li><li><span><a href=\"#Performing-a-$z$-test\" data-toc-modified-id=\"Performing-a-$z$-test-6\"><span class=\"toc-item-num\">6&nbsp;&nbsp;</span>Performing a $z$-test</a></span><ul class=\"toc-item\"><li><span><a href=\"#$z$-Tests\" data-toc-modified-id=\"$z$-Tests-6.1\"><span class=\"toc-item-num\">6.1&nbsp;&nbsp;</span>$z$-Tests</a></span><ul class=\"toc-item\"><li><span><a href=\"#Working-with-Just-the-Sample\" data-toc-modified-id=\"Working-with-Just-the-Sample-6.1.1\"><span class=\"toc-item-num\">6.1.1&nbsp;&nbsp;</span>Working with Just the Sample</a></span></li><li><span><a href=\"#Example\" data-toc-modified-id=\"Example-6.1.2\"><span class=\"toc-item-num\">6.1.2&nbsp;&nbsp;</span>Example</a></span></li></ul></li></ul></li></ul></div>"
   ]
  },
  {
   "cell_type": "code",
   "execution_count": 1,
   "metadata": {
    "ExecuteTime": {
     "end_time": "2022-11-23T16:31:13.409918Z",
     "start_time": "2022-11-23T16:31:11.834449Z"
    }
   },
   "outputs": [],
   "source": [
    "from scipy import stats\n",
    "import numpy as np\n",
    "import seaborn as sns\n",
    "import matplotlib.pyplot as plt"
   ]
  },
  {
   "cell_type": "markdown",
   "metadata": {},
   "source": [
    "# Objectives"
   ]
  },
  {
   "cell_type": "markdown",
   "metadata": {},
   "source": [
    "- Describe the basic framework and vocabulary for hypothesis testing\n",
    "- Define Null and Alternative Hypotheses\n",
    "- Define p-value, $\\alpha$\n",
    "- Perform z-tests"
   ]
  },
  {
   "cell_type": "markdown",
   "metadata": {},
   "source": [
    "# Motivation for Hypothesis Testing"
   ]
  },
  {
   "cell_type": "markdown",
   "metadata": {},
   "source": [
    "When we want to be able to determine something about the world, we typically turn to science. And science is really built upon the idea testing ideas through **experiments**. If we have an idea, but our experiment(s) shows that it's unlikely to be true, then we learned something about our world!"
   ]
  },
  {
   "cell_type": "markdown",
   "metadata": {},
   "source": [
    "<img src=\"https://upload.wikimedia.org/wikipedia/commons/8/89/Beaker_-_The_Noun_Project.svg\" width=50%/>"
   ]
  },
  {
   "cell_type": "markdown",
   "metadata": {},
   "source": [
    "Data _science_ can use this same process and it can be formalized through a statistical process called a **hypothesis test**. But before we can talk about performing these tests, we need to talk about how we design our experiments."
   ]
  },
  {
   "cell_type": "markdown",
   "metadata": {},
   "source": [
    "# Experiment Design"
   ]
  },
  {
   "cell_type": "markdown",
   "metadata": {},
   "source": [
    "Experiments are how we get the data we need to determine if our observations are worthwhile! But if you have a poorly designed experiment, you can't trust the observations/data to say anything useful."
   ]
  },
  {
   "cell_type": "markdown",
   "metadata": {},
   "source": [
    "> **NOTE**\n",
    ">\n",
    "> We typically use the term \"experiment\" when doing a hypothesis test. This can be a little confusing when the data has been collected _before_ any other step. This is fine but we should consider if this experiment follows the general criteria of a \"good\" design."
   ]
  },
  {
   "cell_type": "markdown",
   "metadata": {},
   "source": [
    "## The Scientific Method"
   ]
  },
  {
   "cell_type": "markdown",
   "metadata": {},
   "source": [
    "You should consider if the question you're looking to answer can be investigated with the **scientific method**. If it is, we can feel better that we're asking a _scientific question_ (compared to a question that is *unverifiable*)."
   ]
  },
  {
   "cell_type": "markdown",
   "metadata": {},
   "source": [
    "There is no completely agreed upon \"scientific method\" but the following should help us know if we're on the right track:"
   ]
  },
  {
   "cell_type": "markdown",
   "metadata": {},
   "source": [
    "- Question/Observation\n",
    "- Background Knowledge\n",
    "- Hypothesis\n",
    "- Experiment\n",
    "- Analysis\n",
    "- Conclusions"
   ]
  },
  {
   "cell_type": "markdown",
   "metadata": {},
   "source": [
    "## Making a Good Experiment"
   ]
  },
  {
   "cell_type": "markdown",
   "metadata": {},
   "source": [
    "We strive to make the best we can which is a perfectly designed experiment that would test every possible answer to a question. Of course this is unrealistic, though we strive towards the best experiment we can to answer questions."
   ]
  },
  {
   "cell_type": "markdown",
   "metadata": {},
   "source": [
    "Below are a few items to consider for a good experiment. An experiment doesn't have to fulfill everything to still be useful, though the more items off the checkoff list the more certain we'll feel about our results. "
   ]
  },
  {
   "cell_type": "markdown",
   "metadata": {},
   "source": [
    "### Control Groups"
   ]
  },
  {
   "cell_type": "markdown",
   "metadata": {},
   "source": [
    "> Your experiment should consider other factors that could affect the outcome and try to account for (or *control*) those factors"
   ]
  },
  {
   "cell_type": "markdown",
   "metadata": {},
   "source": [
    "### Random Trials"
   ]
  },
  {
   "cell_type": "markdown",
   "metadata": {},
   "source": [
    "> By having random trials/samples, you're less likely to have bias in your observations/data"
   ]
  },
  {
   "cell_type": "markdown",
   "metadata": {},
   "source": [
    "### Sample Size"
   ]
  },
  {
   "cell_type": "markdown",
   "metadata": {},
   "source": [
    "> A large enough sample size that we can reasonably extrapolate to the population of interest"
   ]
  },
  {
   "cell_type": "markdown",
   "metadata": {},
   "source": [
    "### Reproducible"
   ]
  },
  {
   "cell_type": "markdown",
   "metadata": {},
   "source": [
    "> Being able to reproduce the experiment means we can test again and ensure are results are valid."
   ]
  },
  {
   "cell_type": "markdown",
   "metadata": {},
   "source": [
    "## Scenarios"
   ]
  },
  {
   "cell_type": "markdown",
   "metadata": {},
   "source": [
    "- Chemistry - do inputs from two different barley fields produce different\n",
    "yields?\n",
    "- Astrophysics - do star systems with near-orbiting gas giants have hotter\n",
    "stars?\n",
    "- Medicine - BMI vs. Hypertension, etc.\n",
    "- Business - which ad is more effective given engagement?"
   ]
  },
  {
   "cell_type": "markdown",
   "metadata": {},
   "source": [
    "![img1](./images/img1.png)"
   ]
  },
  {
   "cell_type": "markdown",
   "metadata": {},
   "source": [
    "![img2](./images/img2.png)"
   ]
  },
  {
   "cell_type": "markdown",
   "metadata": {},
   "source": [
    "# Introducing Hypothesis Testing"
   ]
  },
  {
   "cell_type": "markdown",
   "metadata": {},
   "source": [
    "## Intuition"
   ]
  },
  {
   "cell_type": "markdown",
   "metadata": {},
   "source": [
    "Suppose we gather a sample of data. We want to know if the sample is a good representation of some known population. How can we make an appropriate guess about how *representative* the sample is of that population?"
   ]
  },
  {
   "cell_type": "markdown",
   "metadata": {},
   "source": [
    "## Scenario"
   ]
  },
  {
   "cell_type": "markdown",
   "metadata": {},
   "source": [
    "Imagine we're driving down the road of our hometown and see a local high school's school bus broken down at the side of the road. All of the students are safely waiting outside of the bus and you notice that they seem a bit on the taller side.\n",
    "\n",
    "\n",
    "![](img/off_the_bus.gif)"
   ]
  },
  {
   "cell_type": "markdown",
   "metadata": {},
   "source": [
    "You wonder if these students are representative of the full student body or are particularly special in terms of height (maybe they could all be on the basketball team 🏀).\n",
    "\n",
    "We can quantify how _\"weird\"_ this group is compared to the student body knowing/measuring the means and standard deviations of the population and sample. "
   ]
  },
  {
   "cell_type": "markdown",
   "metadata": {},
   "source": [
    "> This is at heart what hypothesis testing is: ***\"Does our sample come from the population or is it a special set?\"***"
   ]
  },
  {
   "cell_type": "markdown",
   "metadata": {},
   "source": [
    "Suppose we already know that high school students are on average $65$ inches with a standard deviation of $3$ inches.\n",
    "\n",
    "If we measured everyone on that bus, we would have found that their average height was $73$ inches. Through standardization, we know then the $z$-score for these particular students is $\\frac{73-65}{3}=\\frac{8}{3}\\approx 2.7$."
   ]
  },
  {
   "cell_type": "markdown",
   "metadata": {},
   "source": [
    "According to the empirical (68–95–99.7) rule for normal distributions there is only roughly a $0.1\\%$ chance that the sample came from the same population, because it is roughly 3 standard deviations above the mean. \n",
    "\n",
    "\n",
    "Seems unlikely that these students aren't a special subset of the student population.\n",
    "\n",
    "<img src=\"images/normal_sd_new.png\" width=\"500\">\n",
    " "
   ]
  },
  {
   "cell_type": "markdown",
   "metadata": {},
   "source": [
    "> **NOTE**\n",
    "> \n",
    "> We will later formalize this by defining a _threshold value_ $\\alpha$ (called the **significance level**) to decide whether we believe that the sample is from the same underlying population or not."
   ]
  },
  {
   "cell_type": "markdown",
   "metadata": {},
   "source": [
    "## High-Level Hypothesis Testing"
   ]
  },
  {
   "cell_type": "markdown",
   "metadata": {},
   "source": [
    "We will go deeper into in the parts & steps of hypothesis tests, but here is a high-level understanding of what a hypothesis test will look like:"
   ]
  },
  {
   "cell_type": "markdown",
   "metadata": {},
   "source": [
    "1. Start with a Scientific Question (yes/no)\n",
    "2. Take the skeptical stance (**null hypothesis**) \n",
    "3. State the complement (**alternative hypothesis**)\n",
    "4. Set a threshold for errors (**$\\alpha$ significance level**)\n",
    "5. Create a model (*test statistic*) of the situation *assuming the null hypothesis is true*\n",
    "6. Decide whether or not to *reject the null hypothesis* by comparing the *threshold* and *test statistic*"
   ]
  },
  {
   "cell_type": "markdown",
   "metadata": {},
   "source": [
    "# Steps of a Hypothesis Test"
   ]
  },
  {
   "cell_type": "markdown",
   "metadata": {},
   "source": [
    "Let's go through the steps of the hypothesis test one-by-one and define what we need as we go.\n",
    "\n",
    "Below are the general steps of the hypothesis test (we'll focus on the one-sample $z$-test)"
   ]
  },
  {
   "cell_type": "markdown",
   "metadata": {},
   "source": [
    "1. State the null hypothesis and the alternative hypothesis\n",
    "2. Specify significance level ($\\alpha$)\n",
    "3. Calculate test statistic (z-statistic)\n",
    "4. Calculate p-value\n",
    "5. Interpret p-value (reject or fail to reject the null hypothesis) \n"
   ]
  },
  {
   "cell_type": "markdown",
   "metadata": {},
   "source": [
    "## STEP 1: State the Null and Alternative Hypotheses"
   ]
  },
  {
   "cell_type": "markdown",
   "metadata": {},
   "source": [
    "It's important to state both the **null hypothesis** $H_0$ and **alternative hypothesis** $H_a$ (or $H_1$) so we can be clear in what we can learn from our hypothesis test."
   ]
  },
  {
   "cell_type": "markdown",
   "metadata": {},
   "source": [
    "### The Null Hypothesis"
   ]
  },
  {
   "cell_type": "markdown",
   "metadata": {},
   "source": [
    "> There is NOTHING, **no** difference.\n",
    "![gmonk](https://vignette.wikia.nocookie.net/villains/images/2/2f/Ogmork.jpg/revision/latest?cb=20120217040244)"
   ]
  },
  {
   "cell_type": "markdown",
   "metadata": {},
   "source": [
    "> The **null hypothesis** $H_0$ is what we would expect if there is no difference from our sample to our comparison group (population in many cases)."
   ]
  },
  {
   "cell_type": "markdown",
   "metadata": {},
   "source": [
    "If we're testing the function of a new drug, then the null hypothesis will say something like: \n",
    "\n",
    "> The drug has _no effect_ on patients (does not speed up recovery)"
   ]
  },
  {
   "cell_type": "markdown",
   "metadata": {},
   "source": [
    "If we're testing whether Peeps cause dementia, then the null hypothesis will say:\n",
    "> There is _no correlation_ between Peeps consumption and the rate of dementia development"
   ]
  },
  {
   "cell_type": "markdown",
   "metadata": {},
   "source": [
    "### The Alternative Hypothesis "
   ]
  },
  {
   "cell_type": "markdown",
   "metadata": {},
   "source": [
    "> The **alternative hypothesis** $H_a$ or $H_1$ says the sample is _different_ from the comparison group. It is essentially the opposite of the null hypothesis (there is an _effect_)."
   ]
  },
  {
   "cell_type": "markdown",
   "metadata": {},
   "source": [
    "Going back to our drug example, our alternative hypothesis could be:\n",
    "> The drug _decreases_ the time of recovery (versus not using the drug)"
   ]
  },
  {
   "cell_type": "markdown",
   "metadata": {},
   "source": [
    "Going back to our Peeps & dementia example, our alternative hypothesis could be:\n",
    "> There is a _positive correlation_ between Peeps consumption and the rate of dementia development (as Peep consumption increases, the rate of dementia increases)."
   ]
  },
  {
   "cell_type": "markdown",
   "metadata": {},
   "source": [
    "### 🧠 Knowledge Check"
   ]
  },
  {
   "cell_type": "markdown",
   "metadata": {},
   "source": [
    "1. A drug manufacturer claims that a drug increases memory. It designs an experiment where both control and experimental groups are shown a series of images, and records the number of correct recollections until an error is made for each group. "
   ]
  },
  {
   "cell_type": "markdown",
   "metadata": {},
   "source": [
    "<details>\n",
    "    <summary>Answer:</summary>\n",
    "\n",
    "    Null: People who took the drug don't have more correct recollections than people who didn't take the drug.\n",
    "\n",
    "    Alternative: People who took the drug do have more correct recollections than people who didn't take the drug."
   ]
  },
  {
   "cell_type": "markdown",
   "metadata": {},
   "source": [
    "2. An online toystore claims that putting a 5 minute timer on the checkout page of its website decreases conversion rate. It sets up two versions of its site, one with a timer and one with no timer. "
   ]
  },
  {
   "cell_type": "markdown",
   "metadata": {},
   "source": [
    "<details>\n",
    "    <summary>Answer:</summary>\n",
    "    \n",
    "    Null: The 5-minute timer does not decrease conversion rate (or, even better: the 5-minute timer is not correlated with a decrease in conversion rate).\n",
    "    \n",
    "    Alternative: The 5-minute timer decreases conversion rate."
   ]
  },
  {
   "cell_type": "markdown",
   "metadata": {},
   "source": [
    "3. The Kansas City public school system wants to test whether the scores of students who take standardized tests under the supervision of teachers differ from the scores of students who take them in rooms with school administrators."
   ]
  },
  {
   "cell_type": "markdown",
   "metadata": {},
   "source": [
    "<details>\n",
    "    <summary>Answer:</summary>\n",
    "    \n",
    "    Null: The scores of students who take standardized tests under the supervision of teachers do not differ from the scores of students who take standardized tests under the supervision of school administrators.\n",
    "    \n",
    "    Alternative: The scores of students who take standardized tests under the supervision of teachers differ from the scores of students who take standardized tests under the supervision of school administrators."
   ]
  },
  {
   "cell_type": "markdown",
   "metadata": {},
   "source": [
    "4. A pest control company believes that the length of cockroach legs in colonies which have persisted after two or more insecticide treatements are longer than those in colonies which have not been treated with insecticide."
   ]
  },
  {
   "cell_type": "markdown",
   "metadata": {},
   "source": [
    "<details>\n",
    "    <summary>Answer:</summary>\n",
    "    \n",
    "    Null: The legs of cockroaches in colonies that have persisted after two or more insecticide treatments are not longer than the legs of cockroaches in colonies that have not been treated with insecticide.\n",
    "    \n",
    "    Alternative: The legs of cockroaches in colonies that have persisted after two or more insecticide treatments are longer than the legs of cockroaches in colonies that have not been treated with insecticide.\n",
    "</details>"
   ]
  },
  {
   "cell_type": "markdown",
   "metadata": {},
   "source": [
    "5. A healthcare company believes patients between the ages of 18 and 25 participate in annual checkups less than all other age groups."
   ]
  },
  {
   "cell_type": "markdown",
   "metadata": {},
   "source": [
    "<details>\n",
    "    <summary>Answer:</summary>\n",
    "    \n",
    "    Null: Patients between the ages of 18 and 25 participate in annual checkups less than patients in other age groups.\n",
    "    \n",
    "    Alternative: Patients between the ages of 18 and 25 do not participate in annual checkups less than patients in other age groups.\n",
    "    \n",
    "</details>"
   ]
  },
  {
   "cell_type": "markdown",
   "metadata": {},
   "source": [
    "## STEP 2: Specify Significance Level"
   ]
  },
  {
   "cell_type": "markdown",
   "metadata": {},
   "source": [
    "Now that we have our hypotheses defined, we have to determine when do we say an observation is **statistically significant**. Basically, how \"weird\" do things have to be until we reject $H_0$."
   ]
  },
  {
   "cell_type": "markdown",
   "metadata": {},
   "source": [
    "We choose a threshold called the **significance level** $\\alpha$. The smaller the value, the more \"weirdness\" we're willing to accept before reject the null hypothesis.\n",
    "\n",
    "If the probability of observing a weird value (our sample) is smaller than $\\alpha$, then we will reject the null-hypothesis."
   ]
  },
  {
   "cell_type": "markdown",
   "metadata": {},
   "source": [
    "Typically we choose $\\alpha$ to be $0.05$ which means that we have to observe a sample that would occur less than $5\\%$ of the time if the null hypothesis is true."
   ]
  },
  {
   "cell_type": "markdown",
   "metadata": {},
   "source": [
    "## STEP 3: Calculate the Test Statistic"
   ]
  },
  {
   "cell_type": "markdown",
   "metadata": {},
   "source": [
    "With the setup from the prior steps, we can now look at our sample. We'll want to find a **test statistic** that can be compared to our distribution (usually something like the normal distribution)."
   ]
  },
  {
   "cell_type": "markdown",
   "metadata": {},
   "source": [
    "Today we will focus on performing a **$z$-test** which is a hypothesis test that uses the normal curve. So we will find the $z$-score of our sample's mean also known as our **$z$-statistic** in the context of hypothesis testing.\n",
    "\n",
    "> **NOTE**\n",
    ">\n",
    "> Just know that we'll see there are other hypothesis tests that follow the same steps but differ in how we calculate their test statistics. We'll see more types of tests later on."
   ]
  },
  {
   "cell_type": "markdown",
   "metadata": {},
   "source": [
    "### Calculating the $z$-statistic"
   ]
  },
  {
   "cell_type": "markdown",
   "metadata": {},
   "source": [
    "We first need to find the mean value of the sample $\\bar{x}$\n",
    "\n",
    "> **NOTE**\n",
    "> \n",
    "> We use $\\bar{x}$ for a sample over $\\mu$ which is reserved for a population mean. This is to remind us not to confuse the two."
   ]
  },
  {
   "cell_type": "markdown",
   "metadata": {},
   "source": [
    "After finding the mean, we need the standard deviation of the population $\\sigma$ to get our $z$-statistic. "
   ]
  },
  {
   "cell_type": "markdown",
   "metadata": {},
   "source": [
    "-----------"
   ]
  },
  {
   "cell_type": "markdown",
   "metadata": {},
   "source": [
    "If we already know it, great! But what if we don't?\n",
    "\n",
    "Well, we can _estimate_ the standard deviation from our sample. We call this the **standard error** $s_\\bar{x}$ (or $\\hat{\\sigma_x}$) and is defined like below:\n",
    "\n",
    "$$ \\large \\sigma \\approx s_\\bar{x} = \\frac{s}{\\sqrt{n}} $$\n",
    "\n",
    "where $n$ is the number of data points in the sample and $s$ is the standard deviation of the sample or **sample standard deviation** (sometimes denoted as $\\sigma_x$)"
   ]
  },
  {
   "cell_type": "markdown",
   "metadata": {},
   "source": [
    "We won't dig too deep into this, but notice that the square-root in the denominator. This is because we're saying that the sample standard deviation $s$ is an estimate of the population standard deviation $\\sigma$, but as we get more data points in our sample our estimate gets narrower/smaller."
   ]
  },
  {
   "cell_type": "markdown",
   "metadata": {},
   "source": [
    "-----------"
   ]
  },
  {
   "cell_type": "markdown",
   "metadata": {},
   "source": [
    "And finally, we can calculate our $z$-statistic:\n",
    "\n",
    "$$ \\large z = \\frac{\\bar{x} - \\mu}{\\sigma} $$\n",
    "\n",
    "> Remember that our $\\mu$ comes from the null hypothesis; we expect our sample to have about the same mean as the population if the null hypothesis is true."
   ]
  },
  {
   "cell_type": "markdown",
   "metadata": {},
   "source": [
    "## STEP 4: Calculate p-value"
   ]
  },
  {
   "cell_type": "markdown",
   "metadata": {},
   "source": [
    "The basic idea of a $p$-value is to quantify the probability that the results seen are in fact the result of mere random chance.\n",
    "\n",
    "This is connected with the null hypothesis: If the null hypothesis is true and there is _**no** significant_ correlation between the population variables and our samples observed variable and would have to be the result of mere random chance."
   ]
  },
  {
   "cell_type": "markdown",
   "metadata": {},
   "source": [
    "The p-value is _probability_ that we would observe the sample measurement ($\\bar{x}$) assuming the null hypothesis (the standard normal curve). This tells us how _likely or unlikely_ our sample measurement is"
   ]
  },
  {
   "cell_type": "markdown",
   "metadata": {},
   "source": [
    "----------------------------"
   ]
  },
  {
   "cell_type": "markdown",
   "metadata": {},
   "source": [
    "For the $z$-test, we can use the CDF of the normal distribution to find this probability (`p = 1 - scipy.stats.norm.cdf(z_score)`). Shortcut: `p = scipy.stats.norm.sf(z_score)`."
   ]
  },
  {
   "cell_type": "markdown",
   "metadata": {},
   "source": [
    "## STEP 5: Interpret p-value"
   ]
  },
  {
   "cell_type": "markdown",
   "metadata": {},
   "source": [
    "Suppose we calculate a $p$-value for some statistic we've measured and we get a $p$-value of 20%. This would mean that there is a 20% chance that the results we observed were the result of mere random chance. Probably this is high enough that we ought _not_ to reject the null hypothesis that our variables are uncorrelated."
   ]
  },
  {
   "cell_type": "markdown",
   "metadata": {},
   "source": [
    "If $p \\lt \\alpha$, we reject the null hypothesis.:\n",
    "\n",
    "If $p \\geq \\alpha$, we fail to reject the null hypothesis."
   ]
  },
  {
   "cell_type": "markdown",
   "metadata": {},
   "source": [
    "> **NOTE** \n",
    ">\n",
    "> This only tells us if there is a statistically significant difference not to what _degree_\n",
    "> ![](https://imgs.xkcd.com/comics/p_values.png)\n",
    "> ☝️ _Be careful how you interpret your p-value_"
   ]
  },
  {
   "cell_type": "markdown",
   "metadata": {},
   "source": [
    "> **We never _accept_ the null hypothesis, because future experiments may yield significant results.**\n",
    "\n",
    "* We do not throw out \"failed\" experiments! \n",
    "* We say \"this methodology, with this data, does not produce significant results\" \n",
    "    * Maybe we need more data!\n",
    "    "
   ]
  },
  {
   "cell_type": "markdown",
   "metadata": {},
   "source": [
    "In practice, a $p$-value _threshold_ ($\\alpha$) of $5\\%$ is very often the default value for these tests of statistical significance. Thus, if it is calculated that the chance that the results we observed were actually the result of randomness is less than 1 in 20, then we would _reject_ the null hypothesis."
   ]
  },
  {
   "cell_type": "markdown",
   "metadata": {},
   "source": [
    "### Another Warning"
   ]
  },
  {
   "cell_type": "markdown",
   "metadata": {},
   "source": [
    "The choice of $\\alpha = 0.05$ is arbitrary and has survived as a pseudo-standard largely because of traditions in teaching.\n",
    "\n",
    "The [American Statistical Association](https://www.amstat.org) has [recently been questioning this standard](https://www.tandfonline.com/toc/utas20/73/sup1?nav=tocList&) and in fact there are movements to reject hypothesis testing in a more wholesale way.\n",
    "\n",
    "The chief thing to keep in mind is that binary test results are often misleading. And as for an appropriate $p$-level: This really depends on the case. In some scenarios, false positives are more costly than in others. We must also determine our $\\alpha$ level *before* we conduct our tests. Otherwise, we will be accused of $p$-hacking."
   ]
  },
  {
   "cell_type": "markdown",
   "metadata": {},
   "source": [
    "---------------"
   ]
  },
  {
   "cell_type": "markdown",
   "metadata": {},
   "source": [
    "A cautionary study, the weight-loss chocolate study conducted by John Bohannon: https://www.scribd.com/doc/266969860/Chocolate-causes-weight-loss\n",
    "\n",
    "> Article on explaining the whole ordeal https://io9.gizmodo.com/i-fooled-millions-into-thinking-chocolate-helps-weight-1707251800"
   ]
  },
  {
   "cell_type": "markdown",
   "metadata": {},
   "source": [
    "## Summary"
   ]
  },
  {
   "cell_type": "markdown",
   "metadata": {},
   "source": [
    "Steps in doing hypothesis test (one-sample z-test):\n",
    "\n",
    "1. State alternative hypothesis (and null)\n",
    "  * example: sample mean is greater than population mean (mu)\n",
    "2. Specify significance level (alpha)\n",
    "  * alpha is the probability of rejecting null even though its true (!)\n",
    "3. Calculate test statistic (z-statistic)\n",
    "  * $z = \\frac{\\bar{x}-\\mu}{\\sigma}$\n",
    "4. Calculate p-value\n",
    "  * p = 1 - CDF(z-stat)\n",
    "  * Probability we'd find this value given null is true\n",
    "  * `1 - scipy.stats.norm.cdf(z_score)`\n",
    "5. Interpret p-value\n",
    "\n",
    "  \n"
   ]
  },
  {
   "cell_type": "code",
   "execution_count": null,
   "metadata": {},
   "outputs": [],
   "source": [
    "stats.norm.sf()"
   ]
  },
  {
   "cell_type": "markdown",
   "metadata": {},
   "source": [
    "# Performing a $z$-test"
   ]
  },
  {
   "cell_type": "markdown",
   "metadata": {},
   "source": [
    "## $z$-Tests "
   ]
  },
  {
   "cell_type": "markdown",
   "metadata": {},
   "source": [
    "A $z$-test is used when you know the population mean and standard deviation."
   ]
  },
  {
   "cell_type": "markdown",
   "metadata": {},
   "source": [
    "Our test statistic is the $z$-statistic."
   ]
  },
  {
   "cell_type": "markdown",
   "metadata": {},
   "source": [
    "For a single point in relation to a distribution of points:\n",
    "\n",
    "$z = \\dfrac{{x} - \\mu}{\\sigma}$\n",
    "\n"
   ]
  },
  {
   "cell_type": "markdown",
   "metadata": {},
   "source": [
    "<br>Our $z$-score tells us how many standard deviations away from the mean our point is.\n",
    "<br>We assume that the sample population is normally destributed, and we are familiar with the empirical rule: <br>66:95:99.7\n",
    "\n",
    "![](img/Empirical_Rule.png)\n"
   ]
  },
  {
   "cell_type": "markdown",
   "metadata": {},
   "source": [
    "Because of this, we can say, with a $z$-score of approximately 2, our data point is 2 standard deviations from the mean, and therefore has a probability of appearing of 1-.95, or .05. "
   ]
  },
  {
   "cell_type": "markdown",
   "metadata": {},
   "source": [
    "Recall the following example: Assume the mean height for women is normally distributed with a mean of 65 inches and a standard deviation of 4 inches. What is the $z$-score of a woman who is 75 inches tall?"
   ]
  },
  {
   "cell_type": "code",
   "execution_count": 2,
   "metadata": {
    "ExecuteTime": {
     "end_time": "2022-11-23T17:12:14.016831Z",
     "start_time": "2022-11-23T17:12:14.013331Z"
    }
   },
   "outputs": [
    {
     "name": "stdout",
     "output_type": "stream",
     "text": [
      "2.5\n"
     ]
    }
   ],
   "source": [
    "z_score = (75 - 65)/4\n",
    "print(z_score)"
   ]
  },
  {
   "cell_type": "markdown",
   "metadata": {},
   "source": [
    "### Working with Just the Sample"
   ]
  },
  {
   "cell_type": "markdown",
   "metadata": {},
   "source": [
    "When we are working with a sampling distribution, the z score is equal to <br><br>  $\\Large z = \\dfrac{{\\bar{x}} - \\mu_{0}}{\\dfrac{\\sigma}{\\sqrt{n}}}$"
   ]
  },
  {
   "cell_type": "markdown",
   "metadata": {},
   "source": [
    "$\\bar{x}$ equals the sample mean.\n",
    "<br>$\\mu_{0}$ is the mean associated with the null hypothesis.\n",
    "<br>$\\sigma$ is the population standard deviation\n",
    "<br>$\\sqrt{n}$ is the sample size, which reflects that we are dealing with a sample of the population, not the entire population."
   ]
  },
  {
   "cell_type": "markdown",
   "metadata": {},
   "source": [
    "The denominator $\\frac{\\sigma}{\\sqrt{n}}$, is the standard error\n",
    "\n",
    "Standard error is the standard deviation of the sampling mean. We will go into that further below."
   ]
  },
  {
   "cell_type": "code",
   "execution_count": 3,
   "metadata": {
    "ExecuteTime": {
     "end_time": "2022-11-23T17:14:13.748726Z",
     "start_time": "2022-11-23T17:14:13.726226Z"
    }
   },
   "outputs": [
    {
     "data": {
      "text/plain": [
       "2.3499999999999943"
      ]
     },
     "execution_count": 3,
     "metadata": {},
     "output_type": "execute_result"
    }
   ],
   "source": [
    "sample_female_heights = [68, 65, 69, 70, 70, \n",
    "                         61, 59, 65, 64, 66,\n",
    "                         72, 71, 68, 66, 64,\n",
    "                         65, 65, 70, 71, 63, \n",
    "                         72, 66, 65, 65, 72]\n",
    "\n",
    "x_bar = np.mean(sample_female_heights)\n",
    "mu = 65\n",
    "n = len(sample_female_heights)\n",
    "std = 4\n",
    "\n",
    "z = (x_bar - mu)/(4/np.sqrt(n))\n",
    "z"
   ]
  },
  {
   "cell_type": "code",
   "execution_count": 5,
   "metadata": {
    "ExecuteTime": {
     "end_time": "2022-11-23T17:14:33.296737Z",
     "start_time": "2022-11-23T17:14:33.292237Z"
    }
   },
   "outputs": [
    {
     "name": "stdout",
     "output_type": "stream",
     "text": [
      "0.009386705534838669\n",
      "0.009386705534838714\n"
     ]
    }
   ],
   "source": [
    "# we can use stats to calculate the percentile\n",
    "print(1 - stats.norm.cdf(z))\n",
    "\n",
    "# We can also use the survival function to calculate the probability\n",
    "print(stats.norm.sf(z))"
   ]
  },
  {
   "cell_type": "code",
   "execution_count": null,
   "metadata": {},
   "outputs": [],
   "source": [
    "alpha = .05"
   ]
  },
  {
   "cell_type": "markdown",
   "metadata": {},
   "source": [
    "### Example"
   ]
  },
  {
   "cell_type": "markdown",
   "metadata": {},
   "source": [
    "Let's work with the normal distribution, since it's so useful. Suppose we are told that African elephants have weights distributed normally around a mean of 9000 lbs., with a standard deviation of 900 lbs. Pachyderm Adventures has recently measured the weights of 40 African elephants in Gabon and has calculated their average weight at 8637 lbs. They claim that these statistics on the Gabonese elephants are significant. Let's find out!"
   ]
  },
  {
   "cell_type": "markdown",
   "metadata": {},
   "source": [
    "What is our null hypothesis?"
   ]
  },
  {
   "cell_type": "code",
   "execution_count": null,
   "metadata": {},
   "outputs": [],
   "source": [
    "H_0: There is NO difference between African and Gabonese (they are the same)"
   ]
  },
  {
   "cell_type": "markdown",
   "metadata": {},
   "source": [
    "<details>\n",
    "    <summary>Answer</summary>\n",
    "    Null hypothesis: The Gabonese elephants have the same weight as other African elephants.\n",
    "    </details>"
   ]
  },
  {
   "cell_type": "markdown",
   "metadata": {},
   "source": [
    "What is our alternative hypothesis?"
   ]
  },
  {
   "cell_type": "code",
   "execution_count": null,
   "metadata": {},
   "outputs": [],
   "source": [
    "H_A: There IS a difference between the two groups (they are not the same)"
   ]
  },
  {
   "cell_type": "markdown",
   "metadata": {},
   "source": [
    "<details>\n",
    "    <summary>Answer</summary>\n",
    "    Alternative hypothesis: The Gabonese elephants do not have the same weight as other African elephants.\n",
    "    </details>"
   ]
  },
  {
   "cell_type": "markdown",
   "metadata": {},
   "source": [
    "What is our alpha?"
   ]
  },
  {
   "cell_type": "code",
   "execution_count": null,
   "metadata": {},
   "outputs": [],
   "source": [
    "alpha = .05"
   ]
  },
  {
   "cell_type": "markdown",
   "metadata": {},
   "source": [
    "<details>\n",
    "    <summary>Answer</summary>\n",
    "    Since there is no specification in the problem, let's go with $\\alpha=0.05$."
   ]
  },
  {
   "cell_type": "markdown",
   "metadata": {},
   "source": [
    "Remember we gave the formula for standard error before as $\\frac{\\sigma}{\\sqrt{n}}$.\n",
    "<br> Let's calculate that with our elephant numbers."
   ]
  },
  {
   "cell_type": "code",
   "execution_count": 6,
   "metadata": {
    "ExecuteTime": {
     "end_time": "2022-11-23T17:25:57.669218Z",
     "start_time": "2022-11-23T17:25:57.664718Z"
    }
   },
   "outputs": [
    {
     "data": {
      "text/plain": [
       "142.30249470757707"
      ]
     },
     "execution_count": 6,
     "metadata": {},
     "output_type": "execute_result"
    }
   ],
   "source": [
    "se = 900 / np.sqrt(40)\n",
    "se"
   ]
  },
  {
   "cell_type": "markdown",
   "metadata": {},
   "source": [
    "Now let's calculate the z-score analytically.\n",
    "Remember the formula for z-score:\n",
    "$z = \\dfrac{{\\bar{x}} - \\mu_{0}}{\\dfrac{\\sigma}{\\sqrt{n}}}$"
   ]
  },
  {
   "cell_type": "code",
   "execution_count": null,
   "metadata": {},
   "outputs": [],
   "source": [
    "N(0,1) =    z-score = std\n",
    "\n",
    "N(9000,900) = z-score != std"
   ]
  },
  {
   "cell_type": "code",
   "execution_count": 7,
   "metadata": {
    "ExecuteTime": {
     "end_time": "2022-11-23T17:26:17.159365Z",
     "start_time": "2022-11-23T17:26:17.155864Z"
    }
   },
   "outputs": [
    {
     "data": {
      "text/plain": [
       "-2.5509486999297257"
      ]
     },
     "execution_count": 7,
     "metadata": {},
     "output_type": "execute_result"
    }
   ],
   "source": [
    "x_bar = 8637\n",
    "mu = 9000\n",
    "sd= 900\n",
    "se = 142.3\n",
    "\n",
    "z = (x_bar - mu) / se\n",
    "z"
   ]
  },
  {
   "cell_type": "code",
   "execution_count": 10,
   "metadata": {
    "ExecuteTime": {
     "end_time": "2022-11-23T17:28:41.929780Z",
     "start_time": "2022-11-23T17:28:41.918750Z"
    }
   },
   "outputs": [
    {
     "data": {
      "text/plain": [
       "(0.9946284931238197, 0.9946284931238197)"
      ]
     },
     "execution_count": 10,
     "metadata": {},
     "output_type": "execute_result"
    }
   ],
   "source": [
    "# Now we get our p-value from the test statistic:\n",
    "(1- stats.norm.cdf(z)), stats.norm.sf(z)"
   ]
  },
  {
   "cell_type": "code",
   "execution_count": 9,
   "metadata": {
    "ExecuteTime": {
     "end_time": "2022-11-23T17:28:00.202137Z",
     "start_time": "2022-11-23T17:28:00.196138Z"
    }
   },
   "outputs": [
    {
     "data": {
      "text/plain": [
       "(0.9946284931238197, 0.05)"
      ]
     },
     "execution_count": 9,
     "metadata": {},
     "output_type": "execute_result"
    }
   ],
   "source": [
    "p_value = stats.norm.sf(z)\n",
    "alpha = .05\n",
    "\n",
    "p_value, alpha"
   ]
  },
  {
   "cell_type": "code",
   "execution_count": null,
   "metadata": {},
   "outputs": [],
   "source": [
    "Fail to Reject\n",
    "\n",
    "\"We fail to reject the Null, there is no evidence of a difference in the data\""
   ]
  }
 ],
 "metadata": {
  "hide_input": false,
  "kernelspec": {
   "display_name": "learn-env",
   "language": "python",
   "name": "learn-env"
  },
  "language_info": {
   "codemirror_mode": {
    "name": "ipython",
    "version": 3
   },
   "file_extension": ".py",
   "mimetype": "text/x-python",
   "name": "python",
   "nbconvert_exporter": "python",
   "pygments_lexer": "ipython3",
   "version": "3.8.5"
  },
  "latex_envs": {
   "LaTeX_envs_menu_present": true,
   "autoclose": false,
   "autocomplete": true,
   "bibliofile": "biblio.bib",
   "cite_by": "apalike",
   "current_citInitial": 1,
   "eqLabelWithNumbers": true,
   "eqNumInitial": 1,
   "hotkeys": {
    "equation": "Ctrl-E",
    "itemize": "Ctrl-I"
   },
   "labels_anchors": false,
   "latex_user_defs": false,
   "report_style_numbering": false,
   "user_envs_cfg": false
  },
  "nbTranslate": {
   "displayLangs": [
    "*"
   ],
   "hotkey": "alt-t",
   "langInMainMenu": true,
   "sourceLang": "en",
   "targetLang": "fr",
   "useGoogleTranslate": true
  },
  "toc": {
   "base_numbering": 1,
   "nav_menu": {},
   "number_sections": true,
   "sideBar": true,
   "skip_h1_title": false,
   "title_cell": "Table of Contents",
   "title_sidebar": "TOC",
   "toc_cell": true,
   "toc_position": {
    "height": "calc(100% - 180px)",
    "left": "10px",
    "top": "150px",
    "width": "288px"
   },
   "toc_section_display": true,
   "toc_window_display": false
  },
  "varInspector": {
   "cols": {
    "lenName": 16,
    "lenType": 16,
    "lenVar": 40
   },
   "kernels_config": {
    "python": {
     "delete_cmd_postfix": "",
     "delete_cmd_prefix": "del ",
     "library": "var_list.py",
     "varRefreshCmd": "print(var_dic_list())"
    },
    "r": {
     "delete_cmd_postfix": ") ",
     "delete_cmd_prefix": "rm(",
     "library": "var_list.r",
     "varRefreshCmd": "cat(var_dic_list()) "
    }
   },
   "types_to_exclude": [
    "module",
    "function",
    "builtin_function_or_method",
    "instance",
    "_Feature"
   ],
   "window_display": false
  }
 },
 "nbformat": 4,
 "nbformat_minor": 4
}

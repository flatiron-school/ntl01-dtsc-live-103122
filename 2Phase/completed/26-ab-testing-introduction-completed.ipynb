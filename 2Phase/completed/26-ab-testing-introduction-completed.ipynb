{
 "cells": [
  {
   "cell_type": "markdown",
   "metadata": {
    "toc": true
   },
   "source": [
    "<h1>Table of Contents<span class=\"tocSkip\"></span></h1>\n",
    "<div class=\"toc\"><ul class=\"toc-item\"><li><span><a href=\"#Learning-Goals\" data-toc-modified-id=\"Learning-Goals-1\"><span class=\"toc-item-num\">1&nbsp;&nbsp;</span>Learning Goals</a></span></li><li><span><a href=\"#Introduction-to-A/B-Testing\" data-toc-modified-id=\"Introduction-to-A/B-Testing-2\"><span class=\"toc-item-num\">2&nbsp;&nbsp;</span>Introduction to A/B Testing</a></span><ul class=\"toc-item\"><li><span><a href=\"#What-Is-It-Exactly?\" data-toc-modified-id=\"What-Is-It-Exactly?-2.1\"><span class=\"toc-item-num\">2.1&nbsp;&nbsp;</span>What Is It Exactly?</a></span></li><li><span><a href=\"#How-Does-It-Relate-to-What-We've-Learned?\" data-toc-modified-id=\"How-Does-It-Relate-to-What-We've-Learned?-2.2\"><span class=\"toc-item-num\">2.2&nbsp;&nbsp;</span>How Does It Relate to What We've Learned?</a></span></li></ul></li><li><span><a href=\"#Designing-an-Experiment\" data-toc-modified-id=\"Designing-an-Experiment-3\"><span class=\"toc-item-num\">3&nbsp;&nbsp;</span>Designing an Experiment</a></span><ul class=\"toc-item\"><li><span><a href=\"#Consider-Whom-You're-Testing\" data-toc-modified-id=\"Consider-Whom-You're-Testing-3.1\"><span class=\"toc-item-num\">3.1&nbsp;&nbsp;</span>Consider Whom You're Testing</a></span></li><li><span><a href=\"#Be-Aware-of-Initial-Launch\" data-toc-modified-id=\"Be-Aware-of-Initial-Launch-3.2\"><span class=\"toc-item-num\">3.2&nbsp;&nbsp;</span>Be Aware of Initial Launch</a></span><ul class=\"toc-item\"><li><span><a href=\"#Novelty-Effect\" data-toc-modified-id=\"Novelty-Effect-3.2.1\"><span class=\"toc-item-num\">3.2.1&nbsp;&nbsp;</span>Novelty Effect</a></span></li><li><span><a href=\"#Change-Aversion\" data-toc-modified-id=\"Change-Aversion-3.2.2\"><span class=\"toc-item-num\">3.2.2&nbsp;&nbsp;</span>Change Aversion</a></span></li><li><span><a href=\"#Avoiding-These-Issues?\" data-toc-modified-id=\"Avoiding-These-Issues?-3.2.3\"><span class=\"toc-item-num\">3.2.3&nbsp;&nbsp;</span>Avoiding These Issues?</a></span></li></ul></li><li><span><a href=\"#Determining-Size-of-Experiment\" data-toc-modified-id=\"Determining-Size-of-Experiment-3.3\"><span class=\"toc-item-num\">3.3&nbsp;&nbsp;</span>Determining Size of Experiment</a></span><ul class=\"toc-item\"><li><span><a href=\"#We-Need-More-Power!-⚡️\" data-toc-modified-id=\"We-Need-More-Power!-⚡️-3.3.1\"><span class=\"toc-item-num\">3.3.1&nbsp;&nbsp;</span>We Need More Power! ⚡️</a></span></li></ul></li></ul></li><li><span><a href=\"#Example-A/B-Test\" data-toc-modified-id=\"Example-A/B-Test-4\"><span class=\"toc-item-num\">4&nbsp;&nbsp;</span>Example A/B Test</a></span><ul class=\"toc-item\"><li><span><a href=\"#The-Scenario\" data-toc-modified-id=\"The-Scenario-4.1\"><span class=\"toc-item-num\">4.1&nbsp;&nbsp;</span>The Scenario</a></span></li><li><span><a href=\"#What's-Our-Goal?\" data-toc-modified-id=\"What's-Our-Goal?-4.2\"><span class=\"toc-item-num\">4.2&nbsp;&nbsp;</span>What's Our Goal?</a></span><ul class=\"toc-item\"><li><span><a href=\"#Here's-What-We-Asked-&amp;-This-Is-What-They-Said:\" data-toc-modified-id=\"Here's-What-We-Asked-&amp;-This-Is-What-They-Said:-4.2.1\"><span class=\"toc-item-num\">4.2.1&nbsp;&nbsp;</span>Here's What We Asked &amp; This Is What They Said:</a></span></li></ul></li><li><span><a href=\"#Design-the-Experiment\" data-toc-modified-id=\"Design-the-Experiment-4.3\"><span class=\"toc-item-num\">4.3&nbsp;&nbsp;</span>Design the Experiment</a></span><ul class=\"toc-item\"><li><span><a href=\"#What-We-Decided:\" data-toc-modified-id=\"What-We-Decided:-4.3.1\"><span class=\"toc-item-num\">4.3.1&nbsp;&nbsp;</span>What We Decided:</a></span></li></ul></li><li><span><a href=\"#Experiment-Time!-🧪\" data-toc-modified-id=\"Experiment-Time!-🧪-4.4\"><span class=\"toc-item-num\">4.4&nbsp;&nbsp;</span>Experiment Time! 🧪</a></span><ul class=\"toc-item\"><li><span><a href=\"#Visualize-Our-Data\" data-toc-modified-id=\"Visualize-Our-Data-4.4.1\"><span class=\"toc-item-num\">4.4.1&nbsp;&nbsp;</span>Visualize Our Data</a></span></li><li><span><a href=\"#Perform-Statistical-Test\" data-toc-modified-id=\"Perform-Statistical-Test-4.4.2\"><span class=\"toc-item-num\">4.4.2&nbsp;&nbsp;</span>Perform Statistical Test</a></span></li></ul></li><li><span><a href=\"#Conclusion?\" data-toc-modified-id=\"Conclusion?-4.5\"><span class=\"toc-item-num\">4.5&nbsp;&nbsp;</span>Conclusion?</a></span></li></ul></li><li><span><a href=\"#Level-Up:-Fisher's-Test\" data-toc-modified-id=\"Level-Up:-Fisher's-Test-5\"><span class=\"toc-item-num\">5&nbsp;&nbsp;</span>Level Up: Fisher's Test</a></span></li></ul></div>"
   ]
  },
  {
   "cell_type": "code",
   "execution_count": 2,
   "metadata": {
    "ExecuteTime": {
     "end_time": "2022-11-29T16:48:31.087601Z",
     "start_time": "2022-11-29T16:48:29.732100Z"
    }
   },
   "outputs": [],
   "source": [
    "import pandas as pd\n",
    "import numpy as np\n",
    "\n",
    "# Plotting \n",
    "import seaborn as sns\n",
    "import matplotlib.pyplot as plt\n",
    "\n",
    "# Stats stuff\n",
    "import scipy.stats as stats"
   ]
  },
  {
   "cell_type": "markdown",
   "metadata": {},
   "source": [
    "# Learning Goals"
   ]
  },
  {
   "cell_type": "markdown",
   "metadata": {},
   "source": [
    "- Explain how A/B testing relates to hypothesis testing\n",
    "- Describe the considerations in designing an A/B test\n",
    "- Explain how to conduct an A/B test "
   ]
  },
  {
   "cell_type": "markdown",
   "metadata": {},
   "source": [
    "# Introduction to A/B Testing"
   ]
  },
  {
   "cell_type": "markdown",
   "metadata": {},
   "source": [
    "> **A/B testing** is a general methodology when you want to test a new feature and/or product (especially for online products)."
   ]
  },
  {
   "cell_type": "markdown",
   "metadata": {},
   "source": [
    "## What Is It Exactly?"
   ]
  },
  {
   "cell_type": "markdown",
   "metadata": {},
   "source": [
    "Rolling out new features and products can be exciting but also nerve-wracking! An organization hopes that new features, updates, etc. are going to be useful to their customers/users but there's the possibility they weren't as great as they hoped."
   ]
  },
  {
   "cell_type": "markdown",
   "metadata": {},
   "source": [
    "A lot of times, we can make smaller, iterative improvements to a product before committing fully to making the change for all users or dedicating time committing to the new changes.\n",
    "\n",
    "What we can do is give out these changes to a relatively small group in order to gain insights on how we might want to proceed in making changes. "
   ]
  },
  {
   "cell_type": "markdown",
   "metadata": {},
   "source": [
    "These changes can include changes to the user-interface (UI) of a website, new recommendation models, new features, etc."
   ]
  },
  {
   "cell_type": "markdown",
   "metadata": {},
   "source": [
    "![](./images/mountains.png)"
   ]
  },
  {
   "cell_type": "markdown",
   "metadata": {},
   "source": [
    "> A/B testing is best suited for informing us what improvements we can make on something we already have. It's not really meant to tell us what _new direction_ we should go.\n",
    ">\n",
    "> An analogy: A/B testing is meant to tell us how to climb up the mountain we're already on, but not necessarily _what_ mountain we should be on."
   ]
  },
  {
   "cell_type": "markdown",
   "metadata": {},
   "source": [
    "## How Does It Relate to What We've Learned?"
   ]
  },
  {
   "cell_type": "markdown",
   "metadata": {},
   "source": [
    "At this point, you probably realized this is related to hypothesis testing! In fact, A/B testing is essentially **hypothesis testing** but applied to a business problem!"
   ]
  },
  {
   "cell_type": "markdown",
   "metadata": {},
   "source": [
    "We typically will carry out _experiments_ by comparing different groups to some control group. The simplest case is comparing a group exposed to the new changes to a group where no changes were made. But you can also have _many_ different groups each with slight variations!"
   ]
  },
  {
   "cell_type": "markdown",
   "metadata": {},
   "source": [
    "![](https://images.ctfassets.net/zw48pl1isxmc/4QYN7VubAAgEAGs0EuWguw/165749ef2fa01c1c004b6a167fd27835/ab-testing.png)\n",
    "> Image source from [Optimizely](https://www.optimizely.com/optimization-glossary/ab-testing/)"
   ]
  },
  {
   "cell_type": "markdown",
   "metadata": {},
   "source": [
    "When we have these groups, we can use an appropriate hypothesis test to determine if it is _significant_ enough to warrant making the change. "
   ]
  },
  {
   "cell_type": "markdown",
   "metadata": {},
   "source": [
    "![](./images/huh.png)"
   ]
  },
  {
   "cell_type": "markdown",
   "metadata": {},
   "source": [
    "And this is where your skills of a data scientist can shine. It's not just doing the technical stuff correctly (though it is important!), but also how you communicate your findings to stakeholders who likely have limited knowledge of statistics."
   ]
  },
  {
   "cell_type": "markdown",
   "metadata": {},
   "source": [
    "# Designing an Experiment"
   ]
  },
  {
   "cell_type": "markdown",
   "metadata": {},
   "source": [
    "## Consider Whom You're Testing"
   ]
  },
  {
   "cell_type": "markdown",
   "metadata": {},
   "source": [
    "It's important to consider _whom_ you're testing! You want to ensure that the participants in your experiment will be useful when drawing conclusions as the experiment concludes."
   ]
  },
  {
   "cell_type": "markdown",
   "metadata": {},
   "source": [
    "![\"Who me?\" gif happy to be chosen](./images/who_me.gif)\n",
    "> _User happy you chose them for your experiment_"
   ]
  },
  {
   "cell_type": "markdown",
   "metadata": {},
   "source": [
    "But note sometimes when we do A/B testing we might take the attitude of _\"well... close enough!\"_ when thinking about targeting our test. This is because sometimes it's not feasible or worth the time to segment the population."
   ]
  },
  {
   "cell_type": "markdown",
   "metadata": {},
   "source": [
    "## Be Aware of Initial Launch"
   ]
  },
  {
   "cell_type": "markdown",
   "metadata": {},
   "source": [
    "### Novelty Effect"
   ]
  },
  {
   "cell_type": "markdown",
   "metadata": {},
   "source": [
    "> When users love the newest and latest but eventually the \"newness\" wears off"
   ]
  },
  {
   "cell_type": "markdown",
   "metadata": {},
   "source": [
    "![\"That Hansel's so hot right now\" gif from Zoolander](images/hansel_is_hot.gif)"
   ]
  },
  {
   "cell_type": "markdown",
   "metadata": {},
   "source": [
    "### Change Aversion"
   ]
  },
  {
   "cell_type": "markdown",
   "metadata": {},
   "source": [
    "![Old man yells at cloud newspaper clipping from the Simpsons TV show](./images/old_man_yells_at_cloud.jpg)"
   ]
  },
  {
   "cell_type": "markdown",
   "metadata": {},
   "source": [
    "> Users are used to the the way things are and don't want to change!"
   ]
  },
  {
   "cell_type": "markdown",
   "metadata": {},
   "source": [
    "![](https://imgs.xkcd.com/comics/workflow.png)\n",
    "> [xkcd \"Workflow\"](https://xkcd.com/1172/)"
   ]
  },
  {
   "cell_type": "markdown",
   "metadata": {},
   "source": [
    "### Avoiding These Issues?"
   ]
  },
  {
   "cell_type": "markdown",
   "metadata": {},
   "source": [
    "* Wait for users to \"die\" and be replaced by new users\n",
    "* Wait for old users to get used to it"
   ]
  },
  {
   "cell_type": "markdown",
   "metadata": {},
   "source": [
    "In other words we need to take **time** for the users to adopt the changes. This is where a **[cohort analysis](https://en.wikipedia.org/wiki/Cohort_analysis)** can be very useful by keeping track of behavior of groups as the new features are introduced."
   ]
  },
  {
   "cell_type": "markdown",
   "metadata": {},
   "source": [
    "## Determining Size of Experiment"
   ]
  },
  {
   "cell_type": "markdown",
   "metadata": {},
   "source": [
    "When talking about hypothesis tests, typically the larger the sample the better! Does the same apply for A/B testing?"
   ]
  },
  {
   "cell_type": "markdown",
   "metadata": {},
   "source": [
    "Well in an A/B test, there's likely more to consider beyond getting a significant result. \n",
    "\n",
    "For example, if it takes a long time to collect data from an individual then it might be a better idea to limit the number of participants in an experiment."
   ]
  },
  {
   "cell_type": "markdown",
   "metadata": {},
   "source": [
    "It also might not be worth experimenting with many individuals since it might cost the business. For example, imagine if we test on a substantial number of participants but it turns out the users react _negatively_ to that change and they quit using the product completely! "
   ]
  },
  {
   "cell_type": "markdown",
   "metadata": {},
   "source": [
    "So we really want to ensure we determine the size of the experiment so we can still observe a significant difference without any negative effects!"
   ]
  },
  {
   "cell_type": "markdown",
   "metadata": {},
   "source": [
    "### We Need More Power! ⚡️"
   ]
  },
  {
   "cell_type": "markdown",
   "metadata": {},
   "source": [
    "We really need to figure out a sample size but still keep the integrity of our hypothesis test to identify a signal in our experiment."
   ]
  },
  {
   "cell_type": "markdown",
   "metadata": {},
   "source": [
    "We can probably think of the opposite based on what we learned; what things change as we increase/decrease our sample size?\n",
    "\n",
    "You probably thought of confidence level (related to $\\alpha$) but it turns out the sample size can also affect $\\beta$ (related to the probability of a type 2 error) and something called **effect size**.\n",
    "\n"
   ]
  },
  {
   "cell_type": "markdown",
   "metadata": {},
   "source": [
    "> **NOTE**\n",
    ">\n",
    "> $\\beta$ is the probability of a type II error occurring and is generally set to $20\\%$, similar to how $\\alpha$ is the probability of a type II error occurring and generally set to $5\\%$.\n",
    ">\n",
    "> Typically, we talk about **statistical power** which is simply $1-\\beta$.\n"
   ]
  },
  {
   "cell_type": "markdown",
   "metadata": {},
   "source": [
    "There's a great interactive tool showing how all of these ($\\alpha$, $\\beta$, effect size, and sample size) are all related: https://rpsychologist.com/d3/nhst/"
   ]
  },
  {
   "cell_type": "markdown",
   "metadata": {},
   "source": [
    "![](images/power_relationship.png)"
   ]
  },
  {
   "cell_type": "markdown",
   "metadata": {},
   "source": [
    "For A/B tests, we can specify what confidence/significance level we want ($\\alpha$), the statistical power, and what effect we want to detect to determine the sample size. Sometimes we may need to limit the number of samples because of some constraint of the test and can sacrifice one of the other values like our confidence or effect size we hope to detect.\n",
    "\n",
    "Finding one of the parameters by setting the other three is called a **power analysis**. This can sometimes be a complicated process because we have to consider what kind of statistical test we'll use.\n",
    "\n",
    "\n",
    "Need a big difference, then fewer observations are needed"
   ]
  },
  {
   "cell_type": "markdown",
   "metadata": {},
   "source": [
    "# Example A/B Test"
   ]
  },
  {
   "cell_type": "markdown",
   "metadata": {},
   "source": [
    "Let's try out an A/B test with some data!"
   ]
  },
  {
   "cell_type": "markdown",
   "metadata": {},
   "source": [
    "## The Scenario"
   ]
  },
  {
   "cell_type": "markdown",
   "metadata": {},
   "source": [
    "We've been hired on by a company looking to see if they can change out their UI to get more website visitors to create an account. \n",
    "\n",
    "Their innovative idea? Modify their sign-up button from pink to slightly more pink! 🤯"
   ]
  },
  {
   "cell_type": "markdown",
   "metadata": {},
   "source": [
    "## What's Our Goal?"
   ]
  },
  {
   "cell_type": "markdown",
   "metadata": {},
   "source": [
    "They've tasked us to figure out if it's worth them making the change. They say their developers really don't want to put in the effort unless we're confident it has an effect."
   ]
  },
  {
   "cell_type": "markdown",
   "metadata": {},
   "source": [
    "***What information do we need before designing our experiment?***"
   ]
  },
  {
   "cell_type": "markdown",
   "metadata": {},
   "source": [
    "### Here's What We Asked & This Is What They Said:"
   ]
  },
  {
   "cell_type": "markdown",
   "metadata": {},
   "source": [
    "There's plenty we can ask the company, but here's a few things we asked:"
   ]
  },
  {
   "cell_type": "markdown",
   "metadata": {},
   "source": [
    "* _How much of an increase in sign-ups is \"worth\" the change?_\n",
    "> The company says if they have an absolute increase in the conversion rate of **just $2\\%$**, it'd be worth making the change for the whole site!"
   ]
  },
  {
   "cell_type": "markdown",
   "metadata": {},
   "source": [
    "* _What's the time frame for this experiment?_\n",
    "> The company says we really can afford running the experiment for **a month** since they need to make a decision soon so they can focus on the next UI updates. (*I hear they're thinking of making the button a circle next!!*)"
   ]
  },
  {
   "cell_type": "markdown",
   "metadata": {},
   "source": [
    "* _How many users visit the site per day?_\n",
    "> The company says they have about **$40,000$ unique visitors per day**."
   ]
  },
  {
   "cell_type": "markdown",
   "metadata": {},
   "source": [
    "* _As a baseline, about how many visitors actually end up signing-up?_\n",
    "> Turns out it was easier to look this up ourselves, and we find there's an **$8\\%$ chance** a visitor viewing the page will sign up."
   ]
  },
  {
   "cell_type": "markdown",
   "metadata": {},
   "source": [
    "## Design the Experiment "
   ]
  },
  {
   "cell_type": "markdown",
   "metadata": {},
   "source": [
    "Obviously we won't be designing the experiment before the data are collected but we should still consider what has to go into this."
   ]
  },
  {
   "cell_type": "markdown",
   "metadata": {},
   "source": [
    "***What would you consider before running the experiment?***"
   ]
  },
  {
   "cell_type": "markdown",
   "metadata": {},
   "source": [
    "### What We Decided:"
   ]
  },
  {
   "cell_type": "markdown",
   "metadata": {},
   "source": [
    "- If we want to see an increase of $2\\%$ from $8\\%$ and we choose a typical power $0.8$ and a conservative $\\alpha=0.01$, we can do a power analysis to find the minimum number of samples needed is about $4,700$ samples. For more on this see this [statsmodels documentation](https://www.statsmodels.org/stable/_modules/statsmodels/stats/power.html).\n",
    "- Since we're running for just a month and we have about $40,000$ visitors per day, we probably can sample a decent number of visitors without changing a lot of visitors' UI.\n",
    "- We'll have two groups: a control group that will have no change and an experiment group that will have the updated sign-up button."
   ]
  },
  {
   "cell_type": "code",
   "execution_count": 28,
   "metadata": {
    "ExecuteTime": {
     "end_time": "2022-11-29T17:06:23.313875Z",
     "start_time": "2022-11-29T17:06:23.298875Z"
    }
   },
   "outputs": [
    {
     "name": "stdout",
     "output_type": "stream",
     "text": [
      "Sample Size: 4635.251\n"
     ]
    }
   ],
   "source": [
    "# Machine Learning Mastery\n",
    "\n",
    "from statsmodels.stats.power import TTestIndPower\n",
    "# parameters for power analysis\n",
    "effect_size = .071\n",
    "alpha = 0.01\n",
    "power = 0.8\n",
    "nobs=None\n",
    "# perform power analysis\n",
    "analysis = TTestIndPower()\n",
    "result = analysis.solve_power(effect_size=effect_size, power=power, nobs1=nobs, alpha=alpha)\n",
    "print('Sample Size: %.3f' % result)"
   ]
  },
  {
   "cell_type": "markdown",
   "metadata": {},
   "source": [
    "## Experiment Time! 🧪"
   ]
  },
  {
   "cell_type": "markdown",
   "metadata": {},
   "source": [
    "Let's pretend we already collected about a month's worth of data for the control and experiment groups.\n",
    "\n",
    "We have the data aggregated in separate files for the two groups. In the file, we have a new day on each line where we recorded the number of pageviews (for the visitors assigned to a group) and the number of conversions (sign-ups)."
   ]
  },
  {
   "cell_type": "code",
   "execution_count": 3,
   "metadata": {
    "ExecuteTime": {
     "end_time": "2022-11-29T16:48:35.580661Z",
     "start_time": "2022-11-29T16:48:35.560161Z"
    }
   },
   "outputs": [],
   "source": [
    "# Load the data\n",
    "df_control = pd.read_csv('data/control.csv')\n",
    "df_experiment = pd.read_csv('data/experiment.csv')"
   ]
  },
  {
   "cell_type": "code",
   "execution_count": 4,
   "metadata": {
    "ExecuteTime": {
     "end_time": "2022-11-29T16:48:43.729593Z",
     "start_time": "2022-11-29T16:48:43.711561Z"
    }
   },
   "outputs": [
    {
     "data": {
      "text/html": [
       "<div>\n",
       "<style scoped>\n",
       "    .dataframe tbody tr th:only-of-type {\n",
       "        vertical-align: middle;\n",
       "    }\n",
       "\n",
       "    .dataframe tbody tr th {\n",
       "        vertical-align: top;\n",
       "    }\n",
       "\n",
       "    .dataframe thead th {\n",
       "        text-align: right;\n",
       "    }\n",
       "</style>\n",
       "<table border=\"1\" class=\"dataframe\">\n",
       "  <thead>\n",
       "    <tr style=\"text-align: right;\">\n",
       "      <th></th>\n",
       "      <th>views</th>\n",
       "      <th>conversions</th>\n",
       "    </tr>\n",
       "  </thead>\n",
       "  <tbody>\n",
       "    <tr>\n",
       "      <th>0</th>\n",
       "      <td>7779</td>\n",
       "      <td>696</td>\n",
       "    </tr>\n",
       "    <tr>\n",
       "      <th>1</th>\n",
       "      <td>9150</td>\n",
       "      <td>790</td>\n",
       "    </tr>\n",
       "    <tr>\n",
       "      <th>2</th>\n",
       "      <td>10564</td>\n",
       "      <td>917</td>\n",
       "    </tr>\n",
       "    <tr>\n",
       "      <th>3</th>\n",
       "      <td>9923</td>\n",
       "      <td>847</td>\n",
       "    </tr>\n",
       "    <tr>\n",
       "      <th>4</th>\n",
       "      <td>10065</td>\n",
       "      <td>842</td>\n",
       "    </tr>\n",
       "  </tbody>\n",
       "</table>\n",
       "</div>"
      ],
      "text/plain": [
       "   views  conversions\n",
       "0   7779          696\n",
       "1   9150          790\n",
       "2  10564          917\n",
       "3   9923          847\n",
       "4  10065          842"
      ]
     },
     "execution_count": 4,
     "metadata": {},
     "output_type": "execute_result"
    }
   ],
   "source": [
    "df_control.head()"
   ]
  },
  {
   "cell_type": "code",
   "execution_count": 5,
   "metadata": {
    "ExecuteTime": {
     "end_time": "2022-11-29T16:48:52.557986Z",
     "start_time": "2022-11-29T16:48:52.548985Z"
    }
   },
   "outputs": [
    {
     "data": {
      "text/html": [
       "<div>\n",
       "<style scoped>\n",
       "    .dataframe tbody tr th:only-of-type {\n",
       "        vertical-align: middle;\n",
       "    }\n",
       "\n",
       "    .dataframe tbody tr th {\n",
       "        vertical-align: top;\n",
       "    }\n",
       "\n",
       "    .dataframe thead th {\n",
       "        text-align: right;\n",
       "    }\n",
       "</style>\n",
       "<table border=\"1\" class=\"dataframe\">\n",
       "  <thead>\n",
       "    <tr style=\"text-align: right;\">\n",
       "      <th></th>\n",
       "      <th>views</th>\n",
       "      <th>conversions</th>\n",
       "    </tr>\n",
       "  </thead>\n",
       "  <tbody>\n",
       "    <tr>\n",
       "      <th>0</th>\n",
       "      <td>7766</td>\n",
       "      <td>716</td>\n",
       "    </tr>\n",
       "    <tr>\n",
       "      <th>1</th>\n",
       "      <td>9338</td>\n",
       "      <td>815</td>\n",
       "    </tr>\n",
       "    <tr>\n",
       "      <th>2</th>\n",
       "      <td>10529</td>\n",
       "      <td>914</td>\n",
       "    </tr>\n",
       "    <tr>\n",
       "      <th>3</th>\n",
       "      <td>9917</td>\n",
       "      <td>857</td>\n",
       "    </tr>\n",
       "    <tr>\n",
       "      <th>4</th>\n",
       "      <td>9844</td>\n",
       "      <td>862</td>\n",
       "    </tr>\n",
       "  </tbody>\n",
       "</table>\n",
       "</div>"
      ],
      "text/plain": [
       "   views  conversions\n",
       "0   7766          716\n",
       "1   9338          815\n",
       "2  10529          914\n",
       "3   9917          857\n",
       "4   9844          862"
      ]
     },
     "execution_count": 5,
     "metadata": {},
     "output_type": "execute_result"
    }
   ],
   "source": [
    "df_experiment.head()"
   ]
  },
  {
   "cell_type": "markdown",
   "metadata": {},
   "source": [
    "### Visualize Our Data"
   ]
  },
  {
   "cell_type": "markdown",
   "metadata": {},
   "source": [
    "Let's look at the data and see if we can notice anything visually"
   ]
  },
  {
   "cell_type": "code",
   "execution_count": 6,
   "metadata": {
    "ExecuteTime": {
     "end_time": "2022-11-29T16:49:13.935691Z",
     "start_time": "2022-11-29T16:49:13.496689Z"
    },
    "scrolled": false
   },
   "outputs": [
    {
     "data": {
      "image/png": "[encoded data removed]",
      "text/plain": [
       "<Figure size 720x432 with 2 Axes>"
      ]
     },
     "metadata": {
      "needs_background": "light"
     },
     "output_type": "display_data"
    }
   ],
   "source": [
    "f, (ax0,ax1) = plt.subplots(nrows=2, figsize=(10,6))\n",
    "\n",
    "# Views\n",
    "ax0.set_title('Views')\n",
    "sns.kdeplot(data=df_control.views, ax=ax0, label='Control')\n",
    "sns.kdeplot(data=df_experiment.views, ax=ax0, label='Experiment')\n",
    "ax0.legend()\n",
    "\n",
    "# Conversions\n",
    "ax1.set_title('Conversions')\n",
    "sns.kdeplot(data=df_control.conversions, ax=ax1, label='Control')\n",
    "sns.kdeplot(data=df_experiment.conversions, ax=ax1, label='Experiment')\n",
    "ax1.legend()\n",
    "\n",
    "plt.tight_layout()"
   ]
  },
  {
   "cell_type": "markdown",
   "metadata": {},
   "source": [
    "### Perform Statistical Test"
   ]
  },
  {
   "cell_type": "markdown",
   "metadata": {},
   "source": [
    "Since we are looking at the **frequency of conversions from views**, we can use the $\\chi^2$ goodness-of-fit test."
   ]
  },
  {
   "cell_type": "markdown",
   "metadata": {},
   "source": [
    "So the first step is to get our data into a format of \"observed\" (experiment) vs \"expected\" (control)"
   ]
  },
  {
   "cell_type": "code",
   "execution_count": 17,
   "metadata": {
    "ExecuteTime": {
     "end_time": "2022-11-29T16:53:45.534384Z",
     "start_time": "2022-11-29T16:53:45.526384Z"
    }
   },
   "outputs": [],
   "source": [
    "# We'll just sum all the days together to see an overall change\n",
    "control_views = sum(df_control.views)\n",
    "control_conv = sum(df_control.conversions)\n",
    "\n",
    "experiment_views = sum(df_experiment.views)\n",
    "experiment_conv = sum(df_experiment.conversions)\n"
   ]
  },
  {
   "cell_type": "code",
   "execution_count": 18,
   "metadata": {
    "ExecuteTime": {
     "end_time": "2022-11-29T16:53:45.735884Z",
     "start_time": "2022-11-29T16:53:45.721415Z"
    }
   },
   "outputs": [
    {
     "name": "stdout",
     "output_type": "stream",
     "text": [
      "OBSERVED (expermiment): [ 17950 194564]\n",
      "EXPECTED (control): [ 17531 195796]\n"
     ]
    }
   ],
   "source": [
    "# This should be \"converted\" and \"not converted\"\n",
    "observations = np.array([experiment_conv, experiment_views - experiment_conv])\n",
    "\n",
    "expectations = np.array([control_conv, control_views - control_conv])\n",
    "\n",
    "print('OBSERVED (expermiment):', observations)\n",
    "print('EXPECTED (control):', expectations)"
   ]
  },
  {
   "cell_type": "code",
   "execution_count": null,
   "metadata": {},
   "outputs": [],
   "source": [
    "Null = There is no difference between overserved and expected"
   ]
  },
  {
   "cell_type": "code",
   "execution_count": 19,
   "metadata": {
    "ExecuteTime": {
     "end_time": "2022-11-29T16:56:15.278780Z",
     "start_time": "2022-11-29T16:56:15.268754Z"
    },
    "scrolled": true
   },
   "outputs": [
    {
     "data": {
      "text/plain": [
       "Power_divergenceResult(statistic=17.766385974161416, pvalue=2.4975705608443254e-05)"
      ]
     },
     "execution_count": 19,
     "metadata": {},
     "output_type": "execute_result"
    }
   ],
   "source": [
    "#chi^2 squared!\n",
    "\n",
    "stats.chisquare(f_obs=observations, f_exp=expectations)\n"
   ]
  },
  {
   "cell_type": "markdown",
   "metadata": {},
   "source": [
    "Is it statistically significant? "
   ]
  },
  {
   "cell_type": "markdown",
   "metadata": {},
   "source": [
    "Would it be worth making the change based on the observed effect?"
   ]
  },
  {
   "cell_type": "code",
   "execution_count": 20,
   "metadata": {
    "ExecuteTime": {
     "end_time": "2022-11-29T16:57:09.430497Z",
     "start_time": "2022-11-29T16:57:09.420998Z"
    }
   },
   "outputs": [
    {
     "name": "stdout",
     "output_type": "stream",
     "text": [
      "Percent Experiment Converted: 8.4465%\n",
      "Percent Control Converted: 8.2179%\n",
      "Difference between experiment & control 0.229%\n"
     ]
    }
   ],
   "source": [
    "experiment_percent = experiment_conv/experiment_views*100\n",
    "print(f'Percent Experiment Converted: {experiment_percent:.5}%')\n",
    "control_percent = control_conv/control_views*100\n",
    "print(f'Percent Control Converted: {control_percent:.5}%')\n",
    "\n",
    "print(f'Difference between experiment & control {experiment_percent-control_percent:.3}%')"
   ]
  },
  {
   "cell_type": "markdown",
   "metadata": {},
   "source": [
    "## Conclusion?"
   ]
  },
  {
   "cell_type": "markdown",
   "metadata": {},
   "source": [
    "We got a significant result with $99\\%$ confidence! But we're certain the effect isn't large enough for the company to make the change (at least based on what they told us)."
   ]
  },
  {
   "cell_type": "markdown",
   "metadata": {},
   "source": [
    "We might break the news like this:\n",
    "\n",
    "> _We're very confident that there was an observable effect in conversions by changing the button's color. However, the observed effect was smaller than what was stated to make the change site-wide valuable._ \n",
    ">\n",
    "> _The difference in button color was observed to increase sign-ups by an absolute amount of about $0.2\\%$. Perhaps this change can still be made valuable since we are confident that the effect was real._"
   ]
  },
  {
   "cell_type": "markdown",
   "metadata": {},
   "source": [
    "# Level Up: Fisher's Test"
   ]
  },
  {
   "cell_type": "markdown",
   "metadata": {},
   "source": [
    "Another option for a hypothesis test for this example is [Fisher's exact test](https://en.wikipedia.org/wiki/Fisher%27s_exact_test). This is typically used for _small_ frequencies but has some advantages over the $\\chi^2$ test."
   ]
  },
  {
   "cell_type": "markdown",
   "metadata": {},
   "source": [
    "Fisher's Test tells us that the $p$-value corresponding to our distribution is given by:\n",
    "\n",
    "$$\\Large p = \\frac{(a+b)!(c+d)!(a+c)!(b+d)!}{a!b!c!d!n!}$$"
   ]
  },
  {
   "cell_type": "markdown",
   "metadata": {},
   "source": [
    "These values $a$, $b$, $c$, and $d$ are given by the frequencies of a $2\\times2$ contingency table, namely:\n",
    "\n",
    "|                     |Category 1, choice #1|Category 1, choice #2|\n",
    "|---------------------|---------------------|---------------------|\n",
    "|Category 2, choice #1|          $a$        |          $b$        |\n",
    "|Category 2, choice #2|          $c$        |          $d$        |"
   ]
  },
  {
   "cell_type": "markdown",
   "metadata": {},
   "source": [
    "At this point, you likely can see how this can be used for the above example."
   ]
  },
  {
   "cell_type": "code",
   "execution_count": 21,
   "metadata": {
    "ExecuteTime": {
     "end_time": "2022-11-29T17:00:12.052654Z",
     "start_time": "2022-11-29T17:00:12.045174Z"
    }
   },
   "outputs": [
    {
     "data": {
      "text/plain": [
       "array([[ 17950, 194564],\n",
       "       [ 17531, 195796]])"
      ]
     },
     "execution_count": 21,
     "metadata": {},
     "output_type": "execute_result"
    }
   ],
   "source": [
    "# We'll use our observations (experiment group) & expecations (control group) as\n",
    "# defined earlier in the lecture\n",
    "contingency_table = np.array([observations, expectations])\n",
    "contingency_table"
   ]
  },
  {
   "cell_type": "markdown",
   "metadata": {},
   "source": [
    "Using SciPy's function:"
   ]
  },
  {
   "cell_type": "code",
   "execution_count": 31,
   "metadata": {
    "ExecuteTime": {
     "end_time": "2022-11-29T17:09:08.878237Z",
     "start_time": "2022-11-29T17:09:06.190237Z"
    }
   },
   "outputs": [
    {
     "data": {
      "text/plain": [
       "(1.0303839663755003, 0.007041963060184108)"
      ]
     },
     "execution_count": 31,
     "metadata": {},
     "output_type": "execute_result"
    }
   ],
   "source": [
    "# Note the slowness of the method (due to large factorials)\n",
    "result = stats.fisher_exact(contingency_table)\n",
    "_, p = result\n",
    "result"
   ]
  },
  {
   "cell_type": "code",
   "execution_count": 32,
   "metadata": {
    "ExecuteTime": {
     "end_time": "2022-11-29T17:09:16.973072Z",
     "start_time": "2022-11-29T17:09:16.964574Z"
    }
   },
   "outputs": [
    {
     "data": {
      "text/plain": [
       "0.007041963060184108"
      ]
     },
     "execution_count": 32,
     "metadata": {},
     "output_type": "execute_result"
    }
   ],
   "source": [
    "p"
   ]
  },
  {
   "cell_type": "code",
   "execution_count": 29,
   "metadata": {
    "ExecuteTime": {
     "end_time": "2022-11-29T17:08:21.209038Z",
     "start_time": "2022-11-29T17:08:21.204538Z"
    }
   },
   "outputs": [
    {
     "name": "stdout",
     "output_type": "stream",
     "text": [
      "hello\n",
      "hello\n",
      "hello\n",
      "hello\n",
      "hello\n",
      "hello\n",
      "hello\n",
      "hello\n",
      "hello\n"
     ]
    }
   ],
   "source": [
    "for _ in range(1,10):\n",
    "    print('hello')"
   ]
  },
  {
   "cell_type": "code",
   "execution_count": null,
   "metadata": {},
   "outputs": [],
   "source": []
  },
  {
   "cell_type": "code",
   "execution_count": null,
   "metadata": {},
   "outputs": [],
   "source": []
  },
  {
   "cell_type": "code",
   "execution_count": 23,
   "metadata": {
    "ExecuteTime": {
     "end_time": "2022-11-29T17:00:46.349482Z",
     "start_time": "2022-11-29T17:00:46.343452Z"
    }
   },
   "outputs": [
    {
     "data": {
      "text/plain": [
       "0.007041963060184108"
      ]
     },
     "execution_count": 23,
     "metadata": {},
     "output_type": "execute_result"
    }
   ],
   "source": [
    "p"
   ]
  },
  {
   "cell_type": "markdown",
   "metadata": {},
   "source": [
    "We still find a significant result at our significance level."
   ]
  },
  {
   "cell_type": "code",
   "execution_count": null,
   "metadata": {},
   "outputs": [],
   "source": []
  }
 ],
 "metadata": {
  "kernelspec": {
   "display_name": "learn-env",
   "language": "python",
   "name": "learn-env"
  },
  "language_info": {
   "codemirror_mode": {
    "name": "ipython",
    "version": 3
   },
   "file_extension": ".py",
   "mimetype": "text/x-python",
   "name": "python",
   "nbconvert_exporter": "python",
   "pygments_lexer": "ipython3",
   "version": "3.8.5"
  },
  "toc": {
   "base_numbering": 1,
   "nav_menu": {},
   "number_sections": true,
   "sideBar": true,
   "skip_h1_title": false,
   "title_cell": "Table of Contents",
   "title_sidebar": "TOC",
   "toc_cell": true,
   "toc_position": {
    "height": "calc(100% - 180px)",
    "left": "10px",
    "top": "150px",
    "width": "302px"
   },
   "toc_section_display": true,
   "toc_window_display": false
  },
  "varInspector": {
   "cols": {
    "lenName": 16,
    "lenType": 16,
    "lenVar": 40
   },
   "kernels_config": {
    "python": {
     "delete_cmd_postfix": "",
     "delete_cmd_prefix": "del ",
     "library": "var_list.py",
     "varRefreshCmd": "print(var_dic_list())"
    },
    "r": {
     "delete_cmd_postfix": ") ",
     "delete_cmd_prefix": "rm(",
     "library": "var_list.r",
     "varRefreshCmd": "cat(var_dic_list()) "
    }
   },
   "types_to_exclude": [
    "module",
    "function",
    "builtin_function_or_method",
    "instance",
    "_Feature"
   ],
   "window_display": false
  }
 },
 "nbformat": 4,
 "nbformat_minor": 4
}

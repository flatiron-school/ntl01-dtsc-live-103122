{
 "cells": [
  {
   "cell_type": "markdown",
   "metadata": {},
   "source": [
    "# An Illustration of Gradient Boosting"
   ]
  },
  {
   "cell_type": "code",
   "execution_count": null,
   "metadata": {
    "ExecuteTime": {
     "end_time": "2022-08-17T21:58:36.525697Z",
     "start_time": "2022-08-17T21:58:35.157928Z"
    }
   },
   "outputs": [],
   "source": [
    "import pandas as pd\n",
    "import numpy as np\n",
    "import matplotlib.pyplot as plt\n",
    "from sklearn.tree import DecisionTreeRegressor, plot_tree\n",
    "\n",
    "%matplotlib inline"
   ]
  },
  {
   "cell_type": "code",
   "execution_count": null,
   "metadata": {
    "ExecuteTime": {
     "end_time": "2022-08-17T21:58:36.758077Z",
     "start_time": "2022-08-17T21:58:36.589076Z"
    },
    "scrolled": true
   },
   "outputs": [],
   "source": [
    "X = np.linspace(0, 20, 201)\n",
    "y = np.sin(X)\n",
    "\n",
    "fig, ax = plt.subplots()\n",
    "ax.plot(X, y);"
   ]
  },
  {
   "cell_type": "markdown",
   "metadata": {},
   "source": [
    "### Step 1 \n",
    "\n",
    "Here, all we are doing is using an average of our values as a model of our data. Note that the \"actual function\" of our data is a sine curve. We are going to try to approximate that by way of gradient boosting and a decision tree regressor!"
   ]
  },
  {
   "cell_type": "code",
   "execution_count": null,
   "metadata": {
    "ExecuteTime": {
     "end_time": "2022-08-17T21:58:36.974912Z",
     "start_time": "2022-08-17T21:58:36.821577Z"
    },
    "scrolled": true
   },
   "outputs": [],
   "source": [
    "fig, ax = plt.subplots()\n",
    "ax.plot(X, y)\n",
    "f0 = y.mean()\n",
    "ax.hlines(f0, 0, 20);"
   ]
  },
  {
   "cell_type": "markdown",
   "metadata": {},
   "source": [
    "##### OK, so we have our extremely basic, extremely inaccurate model. Let's go ahead and build off of that."
   ]
  },
  {
   "cell_type": "code",
   "execution_count": null,
   "metadata": {
    "ExecuteTime": {
     "end_time": "2022-08-17T21:58:37.605600Z",
     "start_time": "2022-08-17T21:58:37.588626Z"
    }
   },
   "outputs": [],
   "source": [
    "f0"
   ]
  },
  {
   "cell_type": "code",
   "execution_count": null,
   "metadata": {
    "ExecuteTime": {
     "end_time": "2022-08-17T21:58:38.084281Z",
     "start_time": "2022-08-17T21:58:38.065281Z"
    }
   },
   "outputs": [],
   "source": [
    "# Residuals\n",
    "\n",
    "e0 = y - f0\n",
    "e0"
   ]
  },
  {
   "cell_type": "code",
   "execution_count": null,
   "metadata": {
    "ExecuteTime": {
     "end_time": "2022-08-17T21:58:38.885118Z",
     "start_time": "2022-08-17T21:58:38.736643Z"
    },
    "scrolled": true
   },
   "outputs": [],
   "source": [
    "## Plotting residuals\n",
    "\n",
    "fig, ax = plt.subplots()\n",
    "ax.scatter(X, e0);"
   ]
  },
  {
   "cell_type": "markdown",
   "metadata": {},
   "source": [
    "### Step 2: fitting a \"stump\" to the residuals"
   ]
  },
  {
   "cell_type": "code",
   "execution_count": null,
   "metadata": {
    "ExecuteTime": {
     "end_time": "2022-08-17T21:58:40.552469Z",
     "start_time": "2022-08-17T21:58:40.407440Z"
    },
    "scrolled": false
   },
   "outputs": [],
   "source": [
    "data = X.reshape(-1, 1)\n",
    "f1 = DecisionTreeRegressor(max_depth=1)\n",
    "\n",
    "f1.fit(data, e0)\n",
    "ensemble_preds_1 = f1.predict(data) + f0\n",
    "\n",
    "fig, ax = plt.subplots()\n",
    "ax.plot(X, y)\n",
    "ax.scatter(X, ensemble_preds_1,\n",
    "          c='r');"
   ]
  },
  {
   "cell_type": "code",
   "execution_count": null,
   "metadata": {
    "ExecuteTime": {
     "end_time": "2022-08-17T21:58:41.942038Z",
     "start_time": "2022-08-17T21:58:41.919943Z"
    }
   },
   "outputs": [],
   "source": [
    "# The DecisionTreeRegressor is minimizing\n",
    "# mean squared error. Since we're only\n",
    "# splitting once, we're simply predicting\n",
    "# the mean of each of the two groups formed\n",
    "# by the split.\n",
    "\n",
    "mses = []\n",
    "for j in range(1, 63):\n",
    "    mse = sum((e0[:j] - e0[:j].mean())**2)\n",
    "    mse += sum((e0[j:] - e0[j:].mean())**2)\n",
    "    mses.append(mse)\n",
    "mses.index(min(mses))"
   ]
  },
  {
   "cell_type": "code",
   "execution_count": null,
   "metadata": {
    "ExecuteTime": {
     "end_time": "2022-08-17T21:58:42.789615Z",
     "start_time": "2022-08-17T21:58:42.775613Z"
    }
   },
   "outputs": [],
   "source": [
    "mses"
   ]
  },
  {
   "cell_type": "code",
   "execution_count": null,
   "metadata": {
    "ExecuteTime": {
     "end_time": "2022-08-17T21:58:43.454349Z",
     "start_time": "2022-08-17T21:58:43.316851Z"
    }
   },
   "outputs": [],
   "source": [
    "plot_tree(f1);"
   ]
  },
  {
   "cell_type": "code",
   "execution_count": null,
   "metadata": {
    "ExecuteTime": {
     "end_time": "2022-08-17T21:58:44.165199Z",
     "start_time": "2022-08-17T21:58:44.156168Z"
    }
   },
   "outputs": [],
   "source": [
    "e0[:29].mean()"
   ]
  },
  {
   "cell_type": "code",
   "execution_count": null,
   "metadata": {
    "ExecuteTime": {
     "end_time": "2022-08-17T21:58:44.721890Z",
     "start_time": "2022-08-17T21:58:44.714890Z"
    }
   },
   "outputs": [],
   "source": [
    "e0[29:].mean()"
   ]
  },
  {
   "cell_type": "code",
   "execution_count": null,
   "metadata": {
    "ExecuteTime": {
     "end_time": "2022-08-17T21:58:45.386219Z",
     "start_time": "2022-08-17T21:58:45.377720Z"
    },
    "scrolled": true
   },
   "outputs": [],
   "source": [
    "f1.predict(data)"
   ]
  },
  {
   "cell_type": "markdown",
   "metadata": {},
   "source": [
    "### Step 3: fitting another \"stump\" to the residuals of the previous model"
   ]
  },
  {
   "cell_type": "code",
   "execution_count": null,
   "metadata": {
    "ExecuteTime": {
     "end_time": "2022-08-17T21:58:46.961471Z",
     "start_time": "2022-08-17T21:58:46.947468Z"
    }
   },
   "outputs": [],
   "source": [
    "e1 = y - (f0 + f1.predict(data))"
   ]
  },
  {
   "cell_type": "code",
   "execution_count": null,
   "metadata": {
    "ExecuteTime": {
     "end_time": "2022-08-17T21:58:47.719152Z",
     "start_time": "2022-08-17T21:58:47.549652Z"
    }
   },
   "outputs": [],
   "source": [
    "f2 = DecisionTreeRegressor(max_depth=1)\n",
    "f2.fit(data, e1)\n",
    "ensemble_preds_2 = f1.predict(data) + f2.predict(data) + f0\n",
    "\n",
    "fig, ax = plt.subplots()\n",
    "ax.scatter(X, e1)\n",
    "ax.scatter(X, ensemble_preds_2)\n",
    "plt.title('fitting to residuals (y - (f0(x) + f1(x)))');"
   ]
  },
  {
   "cell_type": "code",
   "execution_count": null,
   "metadata": {
    "ExecuteTime": {
     "end_time": "2022-08-17T21:58:49.433320Z",
     "start_time": "2022-08-17T21:58:49.224819Z"
    }
   },
   "outputs": [],
   "source": [
    "fig, ax = plt.subplots()\n",
    "ax.plot(X, y)\n",
    "ax.scatter(X, ensemble_preds_2,\n",
    "          c='r')\n",
    "plt.title('Model v. our data');"
   ]
  },
  {
   "cell_type": "markdown",
   "metadata": {},
   "source": [
    "### Fitting yet another \"stump\""
   ]
  },
  {
   "cell_type": "code",
   "execution_count": null,
   "metadata": {
    "ExecuteTime": {
     "end_time": "2022-08-17T21:58:50.865803Z",
     "start_time": "2022-08-17T21:58:50.713297Z"
    }
   },
   "outputs": [],
   "source": [
    "e2 = y - (f2.predict(data) + f1.predict(data) + f0)\n",
    "f3 = DecisionTreeRegressor(max_depth=1)\n",
    "f3.fit(data, e2)\n",
    "\n",
    "fig, ax = plt.subplots()\n",
    "ax.scatter(X, e2)\n",
    "ensemble_preds_3 = f3.predict(data) + f2.predict(data) + f1.predict(data) + f0\n",
    "ax.scatter(X, ensemble_preds_3)\n",
    "plt.title('fitting to residuals (y - (f0(x) + f1(x) + f2(x)))');"
   ]
  },
  {
   "cell_type": "code",
   "execution_count": null,
   "metadata": {
    "ExecuteTime": {
     "end_time": "2022-08-17T21:58:51.638055Z",
     "start_time": "2022-08-17T21:58:51.476084Z"
    },
    "scrolled": true
   },
   "outputs": [],
   "source": [
    "fig, ax = plt.subplots()\n",
    "ax.plot(X, np.sin(X))\n",
    "ax.scatter(X, ensemble_preds_3,\n",
    "          c='r')\n",
    "plt.title('Model v. our data');"
   ]
  },
  {
   "cell_type": "markdown",
   "metadata": {},
   "source": [
    "### Another one"
   ]
  },
  {
   "cell_type": "code",
   "execution_count": null,
   "metadata": {
    "ExecuteTime": {
     "end_time": "2022-08-17T21:58:54.381777Z",
     "start_time": "2022-08-17T21:58:54.236776Z"
    }
   },
   "outputs": [],
   "source": [
    "e3 = y - (f3.predict(data) + f2.predict(data) + f1.predict(data) + f0)\n",
    "f4 = DecisionTreeRegressor(max_depth=1)\n",
    "f4.fit(data, e3)\n",
    "\n",
    "fig, ax = plt.subplots()\n",
    "ax.scatter(X, e3)\n",
    "ensemble_preds_4 = f4.predict(data) + f3.predict(data) + f2.predict(data)\\\n",
    "    + f1.predict(data) + f0\n",
    "ax.scatter(X, ensemble_preds_4);"
   ]
  },
  {
   "cell_type": "code",
   "execution_count": null,
   "metadata": {
    "ExecuteTime": {
     "end_time": "2022-08-17T21:58:55.879885Z",
     "start_time": "2022-08-17T21:58:55.714887Z"
    },
    "scrolled": true
   },
   "outputs": [],
   "source": [
    "fig, ax = plt.subplots()\n",
    "ax.plot(X, np.sin(X))\n",
    "ax.scatter(X, ensemble_preds_4,\n",
    "          c='r')\n",
    "plt.title('Model v. our data');"
   ]
  },
  {
   "cell_type": "markdown",
   "metadata": {},
   "source": [
    "### and another"
   ]
  },
  {
   "cell_type": "code",
   "execution_count": null,
   "metadata": {
    "ExecuteTime": {
     "end_time": "2022-08-17T21:58:57.931363Z",
     "start_time": "2022-08-17T21:58:57.763832Z"
    }
   },
   "outputs": [],
   "source": [
    "e4 = np.sin(X) - (f4.predict(data) + f3.predict(data) + f2.predict(data)\\\n",
    "                  + f1.predict(data) + f0)\n",
    "f5 = DecisionTreeRegressor(max_depth=1)\n",
    "f5.fit(data, e4)\n",
    "\n",
    "fig, ax = plt.subplots()\n",
    "ax.scatter(X, e4)\n",
    "ensemble_preds_5 = f5.predict(data) + f4.predict(data) + f3.predict(data)\\\n",
    "    + f2.predict(data) + f1.predict(data) + f0\n",
    "ax.scatter(X, ensemble_preds_5);"
   ]
  },
  {
   "cell_type": "code",
   "execution_count": null,
   "metadata": {
    "ExecuteTime": {
     "end_time": "2022-08-17T21:58:58.857990Z",
     "start_time": "2022-08-17T21:58:58.709492Z"
    }
   },
   "outputs": [],
   "source": [
    "fig, ax = plt.subplots()\n",
    "ax.plot(X, np.sin(X))\n",
    "ax.scatter(X, ensemble_preds_5,\n",
    "          c='r')\n",
    "plt.title('Model v. our data');"
   ]
  },
  {
   "cell_type": "markdown",
   "metadata": {},
   "source": [
    "### Let's make a function already!"
   ]
  },
  {
   "cell_type": "code",
   "execution_count": null,
   "metadata": {
    "ExecuteTime": {
     "end_time": "2022-08-17T21:59:00.554729Z",
     "start_time": "2022-08-17T21:59:00.545222Z"
    }
   },
   "outputs": [],
   "source": [
    "def simple_boosting_algorithm(X, y, n_learners, learner,\n",
    "                              learning_rate, show_each_step=True):\n",
    "    \"\"\"Performs a simple ensemble boosting model \n",
    "    params: show_each_step - if True, will show with each additional learner\"\"\"\n",
    "    f0 = y.mean()\n",
    "    residuals = y - f0\n",
    "    \n",
    "    # This next line fills an array of len(y) with the mean of y.\n",
    "    ensemble_predictions = np.full(len(y), fill_value=f0)\n",
    "    fig, ax = plt.subplots(figsize=(20, 10))\n",
    "\n",
    "    for i in range(n_learners):\n",
    "        residuals = y - ensemble_predictions\n",
    "        f = learner.fit(X.reshape(-1, 1), residuals)\n",
    "        ensemble_predictions = learning_rate * f.predict(X.reshape(-1, 1)) +\\\n",
    "        ensemble_predictions\n",
    "        if show_each_step:\n",
    "            ax.plot(X, y)\n",
    "            ax.scatter(X, ensemble_predictions,\n",
    "                      c='r')\n",
    "            \n",
    "    ax.plot(X, y)\n",
    "    ax.scatter(X, ensemble_predictions,\n",
    "              c='r')\n",
    "            \n",
    "    plt.title('With ' + str(n_learners) + ' learners with a depth of '+\\\n",
    "              str(learner.max_depth) +\\\n",
    "              ' and a learning rate of '+ str(learning_rate))\n",
    "    \n",
    "   "
   ]
  },
  {
   "cell_type": "code",
   "execution_count": null,
   "metadata": {
    "ExecuteTime": {
     "end_time": "2022-08-17T21:52:41.917912Z",
     "start_time": "2022-08-17T21:52:41.718885Z"
    },
    "scrolled": false
   },
   "outputs": [],
   "source": [
    "simple_boosting_algorithm(X=X,\n",
    "                          y=y,\n",
    "                          n_learners=1,\n",
    "                          learner=DecisionTreeRegressor(max_depth=1),\n",
    "                          learning_rate=0.001,\n",
    "                          show_each_step=False)"
   ]
  },
  {
   "cell_type": "code",
   "execution_count": null,
   "metadata": {
    "ExecuteTime": {
     "end_time": "2022-08-17T21:59:04.303203Z",
     "start_time": "2022-08-17T21:59:04.083744Z"
    }
   },
   "outputs": [],
   "source": [
    "simple_boosting_algorithm(X=X,\n",
    "                          y=y,\n",
    "                          n_learners=100,\n",
    "                          learner=DecisionTreeRegressor(max_depth=1),\n",
    "                          learning_rate=0.01,\n",
    "                          show_each_step=False)"
   ]
  },
  {
   "cell_type": "code",
   "execution_count": null,
   "metadata": {
    "ExecuteTime": {
     "end_time": "2022-08-17T22:02:33.316365Z",
     "start_time": "2022-08-17T21:59:08.196555Z"
    }
   },
   "outputs": [],
   "source": [
    "simple_boosting_algorithm(X=X,\n",
    "                          y=y,\n",
    "                          n_learners=10000,\n",
    "                          learner=DecisionTreeRegressor(max_depth=1),\n",
    "                          learning_rate=0.001,\n",
    "                          show_each_step=True)"
   ]
  },
  {
   "cell_type": "code",
   "execution_count": null,
   "metadata": {
    "ExecuteTime": {
     "end_time": "2022-08-17T22:02:33.323363Z",
     "start_time": "2022-08-17T22:01:45.807Z"
    }
   },
   "outputs": [],
   "source": [
    "simple_boosting_algorithm(X=X,\n",
    "                          y=y,\n",
    "                          n_learners=100000,\n",
    "                          learner=DecisionTreeRegressor(max_depth=1),\n",
    "                          learning_rate=0.01,\n",
    "                          show_each_step=False)"
   ]
  },
  {
   "cell_type": "code",
   "execution_count": null,
   "metadata": {
    "ExecuteTime": {
     "end_time": "2022-08-17T22:02:48.808817Z",
     "start_time": "2022-08-17T22:02:48.433798Z"
    }
   },
   "outputs": [],
   "source": [
    "simple_boosting_algorithm(X=X,\n",
    "                          y=y,\n",
    "                          n_learners=20,\n",
    "                          learner=DecisionTreeRegressor(max_depth=1),\n",
    "                          learning_rate=0.1,\n",
    "                          show_each_step=True)"
   ]
  },
  {
   "cell_type": "code",
   "execution_count": null,
   "metadata": {
    "ExecuteTime": {
     "end_time": "2022-08-17T22:03:32.900227Z",
     "start_time": "2022-08-17T22:03:32.135726Z"
    }
   },
   "outputs": [],
   "source": [
    "simple_boosting_algorithm(X=X,\n",
    "                          y=y,\n",
    "                          n_learners=60,\n",
    "                          learner=DecisionTreeRegressor(max_depth=1),\n",
    "                          learning_rate=0.1,\n",
    "                          show_each_step=True)"
   ]
  },
  {
   "cell_type": "code",
   "execution_count": null,
   "metadata": {
    "ExecuteTime": {
     "end_time": "2022-08-17T22:03:36.419974Z",
     "start_time": "2022-08-17T22:03:35.492014Z"
    }
   },
   "outputs": [],
   "source": [
    "simple_boosting_algorithm(X=X,\n",
    "                          y=y,\n",
    "                          n_learners=80,\n",
    "                          learner=DecisionTreeRegressor(max_depth=1),\n",
    "                          learning_rate=0.1,\n",
    "                          show_each_step=True)"
   ]
  },
  {
   "cell_type": "code",
   "execution_count": null,
   "metadata": {
    "ExecuteTime": {
     "end_time": "2022-08-17T22:03:41.724593Z",
     "start_time": "2022-08-17T22:03:38.997592Z"
    },
    "scrolled": false
   },
   "outputs": [],
   "source": [
    "simple_boosting_algorithm(X=X,\n",
    "                          y=y,\n",
    "                          n_learners=200,\n",
    "                          learner=DecisionTreeRegressor(max_depth=1),\n",
    "                          learning_rate=0.1,\n",
    "                          show_each_step=True)"
   ]
  },
  {
   "cell_type": "code",
   "execution_count": null,
   "metadata": {
    "ExecuteTime": {
     "end_time": "2022-08-17T22:03:56.650581Z",
     "start_time": "2022-08-17T22:03:45.184416Z"
    },
    "scrolled": false
   },
   "outputs": [],
   "source": [
    "simple_boosting_algorithm(X=X,\n",
    "                          y=y,\n",
    "                          n_learners=1000,\n",
    "                          learner=DecisionTreeRegressor(max_depth=1),\n",
    "                          learning_rate=0.1,\n",
    "                          show_each_step=True)"
   ]
  },
  {
   "cell_type": "code",
   "execution_count": null,
   "metadata": {},
   "outputs": [],
   "source": []
  }
 ],
 "metadata": {
  "kernelspec": {
   "display_name": "learn-env",
   "language": "python",
   "name": "learn-env"
  },
  "language_info": {
   "codemirror_mode": {
    "name": "ipython",
    "version": 3
   },
   "file_extension": ".py",
   "mimetype": "text/x-python",
   "name": "python",
   "nbconvert_exporter": "python",
   "pygments_lexer": "ipython3",
   "version": "3.8.5"
  },
  "toc": {
   "base_numbering": 1,
   "nav_menu": {},
   "number_sections": true,
   "sideBar": true,
   "skip_h1_title": false,
   "title_cell": "Table of Contents",
   "title_sidebar": "Contents",
   "toc_cell": false,
   "toc_position": {},
   "toc_section_display": true,
   "toc_window_display": false
  },
  "varInspector": {
   "cols": {
    "lenName": 16,
    "lenType": 16,
    "lenVar": 40
   },
   "kernels_config": {
    "python": {
     "delete_cmd_postfix": "",
     "delete_cmd_prefix": "del ",
     "library": "var_list.py",
     "varRefreshCmd": "print(var_dic_list())"
    },
    "r": {
     "delete_cmd_postfix": ") ",
     "delete_cmd_prefix": "rm(",
     "library": "var_list.r",
     "varRefreshCmd": "cat(var_dic_list()) "
    }
   },
   "position": {
    "height": "144.85px",
    "left": "1102.6px",
    "right": "20px",
    "top": "121px",
    "width": "350px"
   },
   "types_to_exclude": [
    "module",
    "function",
    "builtin_function_or_method",
    "instance",
    "_Feature"
   ],
   "window_display": false
  }
 },
 "nbformat": 4,
 "nbformat_minor": 2
}

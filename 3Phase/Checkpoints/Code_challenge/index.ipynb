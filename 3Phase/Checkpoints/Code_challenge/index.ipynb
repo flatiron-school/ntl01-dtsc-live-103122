{
 "cells": [
  {
   "cell_type": "markdown",
   "metadata": {
    "nbgrader": {
     "grade": false,
     "grade_id": "cell-6899ad425e03acd4",
     "locked": true,
     "schema_version": 3,
     "solution": false,
     "task": false
    }
   },
   "source": [
    "# Phase 3 Code Challenge\n",
    "\n",
    "This assessment is designed to test your understanding of Module 3 material. It covers:\n",
    "\n",
    "* Gradient Descent\n",
    "* Logistic Regression\n",
    "* Classification Metrics\n",
    "* Decision Trees\n",
    "\n",
    "_Read the instructions carefully_. You will be asked both to write code and to answer short answer questions.\n",
    "\n",
    "## Code Tests\n",
    "\n",
    "We have provided some code tests for you to run to check that your work meets the item specifications. Passing these tests does not necessarily mean that you have gotten the item correct - there are additional hidden tests. However, if any of the tests do not pass, this tells you that your code is incorrect and needs changes to meet the specification. To determine what the issue is, read the comments in the code test cells, the error message you receive, and the item instructions.\n",
    "\n",
    "## Short Answer Questions \n",
    "\n",
    "For the short answer questions...\n",
    "\n",
    "* _Use your own words_. It is OK to refer to outside resources when crafting your response, but _do not copy text from another source_.\n",
    "\n",
    "* _Communicate clearly_. We are not grading your writing skills, but you can only receive full credit if your teacher is able to fully understand your response. \n",
    "\n",
    "* _Be concise_. You should be able to answer most short answer questions in a sentence or two. Writing unnecessarily long answers increases the risk of you being unclear or saying something incorrect."
   ]
  },
  {
   "cell_type": "code",
   "execution_count": 1,
   "metadata": {
    "ExecuteTime": {
     "end_time": "2022-12-23T17:41:05.872064Z",
     "start_time": "2022-12-23T17:41:05.870338Z"
    },
    "nbgrader": {
     "grade": false,
     "grade_id": "cell-c2a2bae912a0e147",
     "locked": true,
     "schema_version": 3,
     "solution": false,
     "task": false
    }
   },
   "outputs": [],
   "source": [
    "# Run this cell without changes to import the necessary libraries\n",
    "\n",
    "from numbers import Number"
   ]
  },
  {
   "cell_type": "markdown",
   "metadata": {
    "nbgrader": {
     "grade": false,
     "grade_id": "cell-962cbb6c01caf427",
     "locked": true,
     "schema_version": 3,
     "solution": false,
     "task": false
    }
   },
   "source": [
    "---\n",
    "## Part 1: Gradient Descent [Suggested Time: 20 min]\n",
    "---\n",
    "In this part, you will describe how gradient descent works to calculate a parameter estimate. Below is an image of a best fit line from a linear regression model using TV advertising spending to predict product sales.\n",
    "\n",
    "![best fit line](https://raw.githubusercontent.com/learn-co-curriculum/dsc-cc-images/main/phase_3/best_fit_line.png)\n",
    "\n",
    "This best fit line can be described by the equation $y = mx + b$. Below is the RSS cost curve associated with the slope parameter $m$:\n",
    "\n",
    "![cost curve](https://raw.githubusercontent.com/learn-co-curriculum/dsc-cc-images/main/phase_3/cost_curve.png)\n",
    "\n",
    "where RSS is the residual sum of squares: $RSS = \\sum_{i=1}^n(y_i - (mx_i + b))^2$ "
   ]
  },
  {
   "cell_type": "markdown",
   "metadata": {
    "nbgrader": {
     "grade": false,
     "grade_id": "cell-f5be777299f6d5be",
     "locked": true,
     "schema_version": 3,
     "solution": false,
     "task": false
    }
   },
   "source": [
    "### 1.1) Short Answer: Explain how the RSS curve above could be used to find an optimal value for the slope parameter $m$. \n",
    "\n",
    "Your answer should provide a one sentence summary, not every step of the process."
   ]
  },
  {
   "cell_type": "code",
   "execution_count": 2,
   "metadata": {
    "ExecuteTime": {
     "end_time": "2022-12-23T17:41:05.874868Z",
     "start_time": "2022-12-23T17:41:05.873616Z"
    }
   },
   "outputs": [],
   "source": [
    "# # Your answer here\n",
    "\n",
    "# Moving toward the bottom of the curve, it is geting closer to \n",
    "# finding an optimal value for the slope. "
   ]
  },
  {
   "cell_type": "markdown",
   "metadata": {
    "nbgrader": {
     "grade": false,
     "grade_id": "cell-04569212f96246b5",
     "locked": true,
     "schema_version": 3,
     "solution": false,
     "task": false
    }
   },
   "source": [
    "Below is a visualization showing the iterations of a gradient descent algorithm applied the RSS curve. Each yellow marker represents an estimate, and the lines between markers represent the steps taken between estimates in each iteration. Numeric labels identify the iteration numbers.\n",
    "\n",
    "![gradient descent](https://raw.githubusercontent.com/learn-co-curriculum/dsc-cc-images/main/phase_3/gd.png)"
   ]
  },
  {
   "cell_type": "markdown",
   "metadata": {
    "nbgrader": {
     "grade": false,
     "grade_id": "cell-8f8743b8bb5caf43",
     "locked": true,
     "schema_version": 3,
     "solution": false,
     "task": false
    }
   },
   "source": [
    "### 1.2) Short Answer: Explain why the distances between markers get smaller over successive iterations."
   ]
  },
  {
   "cell_type": "code",
   "execution_count": 3,
   "metadata": {
    "ExecuteTime": {
     "end_time": "2022-12-23T17:41:05.877442Z",
     "start_time": "2022-12-23T17:41:05.875904Z"
    }
   },
   "outputs": [],
   "source": [
    "# Your answer here\n",
    "# The distances between markers get smaller because the step size is\n",
    "#    scaled by the learning rate after each step.\n"
   ]
  },
  {
   "cell_type": "markdown",
   "metadata": {
    "nbgrader": {
     "grade": false,
     "grade_id": "cell-f38904edac3e34ba",
     "locked": true,
     "schema_version": 3,
     "solution": false,
     "task": false
    }
   },
   "source": [
    "### 1.3) Short Answer: What would be the effect of decreasing the learning rate for this application of gradient descent?"
   ]
  },
  {
   "cell_type": "code",
   "execution_count": 4,
   "metadata": {
    "ExecuteTime": {
     "end_time": "2022-12-23T17:41:05.879912Z",
     "start_time": "2022-12-23T17:41:05.878672Z"
    }
   },
   "outputs": [],
   "source": [
    "# Your answer here\n",
    "# Step size would be smaller. It would take more steps to reach the minimum\n",
    "#    error.\n"
   ]
  },
  {
   "cell_type": "markdown",
   "metadata": {
    "nbgrader": {
     "grade": false,
     "grade_id": "cell-58cbc9e518eda9a5",
     "locked": true,
     "schema_version": 3,
     "solution": false,
     "task": false
    }
   },
   "source": [
    "---\n",
    "## Part 2: Logistic Regression [Suggested Time: 15 min]\n",
    "---\n",
    "In this part, you will answer general questions about logistic regression."
   ]
  },
  {
   "cell_type": "markdown",
   "metadata": {
    "nbgrader": {
     "grade": false,
     "grade_id": "cell-a5eed21ce4450ee7",
     "locked": true,
     "schema_version": 3,
     "solution": false,
     "task": false
    }
   },
   "source": [
    "### 2.1) Short Answer: Provide one reason why logistic regression is better than linear regression for modeling a binary target/outcome."
   ]
  },
  {
   "cell_type": "code",
   "execution_count": 5,
   "metadata": {
    "ExecuteTime": {
     "end_time": "2022-12-23T17:41:05.882089Z",
     "start_time": "2022-12-23T17:41:05.880904Z"
    }
   },
   "outputs": [],
   "source": [
    "# Your answer here\n",
    "# Linear regression provides a continuous output while\n",
    "# logistic regression provides discreet output specifically for\n",
    "# categorization.\n"
   ]
  },
  {
   "cell_type": "markdown",
   "metadata": {
    "nbgrader": {
     "grade": false,
     "grade_id": "cell-fc85e3d7f84c78d9",
     "locked": true,
     "schema_version": 3,
     "solution": false,
     "task": false
    }
   },
   "source": [
    "### 2.2) Short Answer: Compare logistic regression to another classification model of your choice (e.g. KNN, Decision Tree, etc.). What is one advantage and one disadvantage logistic regression has when compared with the other model?"
   ]
  },
  {
   "cell_type": "code",
   "execution_count": 6,
   "metadata": {
    "ExecuteTime": {
     "end_time": "2022-12-23T17:41:05.884103Z",
     "start_time": "2022-12-23T17:41:05.882869Z"
    }
   },
   "outputs": [],
   "source": [
    "# Your answer here\n",
    "# Both Logistic Regression and Decision trees solve classification problems \n",
    "#    and can be easily interpreted.\n",
    "\n",
    "# Advantage Logistic Regression: \n",
    "#     Logistic Regression is less inclined to overfitting than Decision Trees\n",
    "\n",
    "# Disadvantage Logistic Regression:\n",
    "#     Assumes data can be separated linearly while Decision trees do not require \n",
    "#        data to be separated linearly\n"
   ]
  },
  {
   "cell_type": "markdown",
   "metadata": {
    "nbgrader": {
     "grade": false,
     "grade_id": "cell-0d9d765be95e6cc0",
     "locked": true,
     "schema_version": 3,
     "solution": false,
     "task": false
    }
   },
   "source": [
    "---\n",
    "## Part 3: Classification Metrics [Suggested Time: 20 min]\n",
    "---\n",
    "In this part, you will make sense of classification metrics produced by various classifiers."
   ]
  },
  {
   "cell_type": "markdown",
   "metadata": {
    "nbgrader": {
     "grade": false,
     "grade_id": "cell-d2ad4f31491e50b6",
     "locked": true,
     "schema_version": 3,
     "solution": false,
     "task": false
    }
   },
   "source": [
    "The confusion matrix below represents the predictions generated by a classisification model on a small testing dataset.\n",
    "\n",
    "![cnf matrix](https://raw.githubusercontent.com/learn-co-curriculum/dsc-cc-images/main/phase_3/cnf_matrix.png)"
   ]
  },
  {
   "cell_type": "markdown",
   "metadata": {
    "nbgrader": {
     "grade": false,
     "grade_id": "cell-e4b5c09376d185ce",
     "locked": true,
     "schema_version": 3,
     "solution": false,
     "task": false
    }
   },
   "source": [
    "### 3.1) Create a numeric variable `precision` containing the precision of the classifier."
   ]
  },
  {
   "cell_type": "code",
   "execution_count": 7,
   "metadata": {
    "ExecuteTime": {
     "end_time": "2022-12-23T17:41:05.890105Z",
     "start_time": "2022-12-23T17:41:05.885272Z"
    }
   },
   "outputs": [
    {
     "data": {
      "text/plain": [
       "0.8823529411764706"
      ]
     },
     "execution_count": 7,
     "metadata": {},
     "output_type": "execute_result"
    }
   ],
   "source": [
    "# CodeGrade step3.1\n",
    "# Replace None with appropriate code\n",
    "\n",
    "#prec = tp / (tp + fp)\n",
    "tp = 30\n",
    "tn = 54\n",
    "fp = 4\n",
    "fn = 12\n",
    "\n",
    "\n",
    "precision = tp / (tp + fp)\n",
    "precision"
   ]
  },
  {
   "cell_type": "code",
   "execution_count": 8,
   "metadata": {
    "ExecuteTime": {
     "end_time": "2022-12-23T17:41:05.892332Z",
     "start_time": "2022-12-23T17:41:05.891135Z"
    }
   },
   "outputs": [],
   "source": [
    "# This test confirms that you have created a numeric variable named precision\n",
    "\n",
    "assert isinstance(precision, Number)"
   ]
  },
  {
   "cell_type": "markdown",
   "metadata": {
    "nbgrader": {
     "grade": false,
     "grade_id": "cell-09e2fa2bf91d1c95",
     "locked": true,
     "schema_version": 3,
     "solution": false,
     "task": false
    }
   },
   "source": [
    "### 3.2) Create a numeric variable `f1score` containing the F-1 score of the classifier."
   ]
  },
  {
   "cell_type": "code",
   "execution_count": 9,
   "metadata": {
    "ExecuteTime": {
     "end_time": "2022-12-23T17:41:05.895154Z",
     "start_time": "2022-12-23T17:41:05.892991Z"
    },
    "nbgrader": {
     "grade": false,
     "grade_id": "cell-6bce80c352c6ad99",
     "locked": true,
     "schema_version": 3,
     "solution": false,
     "task": false
    }
   },
   "outputs": [
    {
     "data": {
      "text/plain": [
       "0.7894736842105262"
      ]
     },
     "execution_count": 9,
     "metadata": {},
     "output_type": "execute_result"
    }
   ],
   "source": [
    "# CodeGrade step3.2\n",
    "# Replace None with appropriate code\n",
    "accuracy = (tp + tn)/(tp + fp +tn + fn)\n",
    "recall = tp / (tp + fn)\n",
    "\n",
    "\n",
    "f1score = (2 * recall * precision) / (precision + recall)\n",
    "f1score"
   ]
  },
  {
   "cell_type": "code",
   "execution_count": 10,
   "metadata": {
    "ExecuteTime": {
     "end_time": "2022-12-23T17:41:05.897093Z",
     "start_time": "2022-12-23T17:41:05.895890Z"
    }
   },
   "outputs": [],
   "source": [
    "# This test confirms that you have created a numeric variable named f1score\n",
    "\n",
    "assert isinstance(f1score, Number)"
   ]
  },
  {
   "cell_type": "markdown",
   "metadata": {
    "nbgrader": {
     "grade": false,
     "grade_id": "cell-8c9611b7378f9cd8",
     "locked": true,
     "schema_version": 3,
     "solution": false,
     "task": false
    }
   },
   "source": [
    "The ROC curves below were calculated for three different models applied to one dataset.\n",
    "\n",
    "1. Only Age was used as a feature in the model\n",
    "2. Only Estimated Salary was used as a feature in the model\n",
    "3. All features were used in the model\n",
    "\n",
    "![roc](https://raw.githubusercontent.com/learn-co-curriculum/dsc-cc-images/main/phase_3/many_roc.png)"
   ]
  },
  {
   "cell_type": "markdown",
   "metadata": {
    "nbgrader": {
     "grade": false,
     "grade_id": "cell-6b2fccd135d7bd12",
     "locked": true,
     "schema_version": 3,
     "solution": false,
     "task": false
    }
   },
   "source": [
    "### 3.3) Short Answer: Identify the best ROC curve in the above graph and explain why it is the best. "
   ]
  },
  {
   "cell_type": "code",
   "execution_count": 11,
   "metadata": {
    "ExecuteTime": {
     "end_time": "2022-12-23T17:41:05.899995Z",
     "start_time": "2022-12-23T17:41:05.898629Z"
    }
   },
   "outputs": [],
   "source": [
    "# Your answer here\n",
    "# all features is the best ROC curve in the graph above\n",
    "#\n",
    "# it's the best because it has the closest AUC to 1 (hugs the upper \n",
    "#    left part of the graph)\n"
   ]
  },
  {
   "cell_type": "markdown",
   "metadata": {
    "nbgrader": {
     "grade": false,
     "grade_id": "cell-9a2e4b682abfc6ec",
     "locked": true,
     "schema_version": 3,
     "solution": false,
     "task": false
    }
   },
   "source": [
    "Run the following cells to load a sample dataset, run a classification model on it, and perform some EDA."
   ]
  },
  {
   "cell_type": "code",
   "execution_count": 12,
   "metadata": {
    "ExecuteTime": {
     "end_time": "2022-12-23T17:41:06.783248Z",
     "start_time": "2022-12-23T17:41:05.902121Z"
    },
    "nbgrader": {
     "grade": false,
     "grade_id": "cell-9e7642482fd78eb5",
     "locked": true,
     "schema_version": 3,
     "solution": false,
     "task": false
    }
   },
   "outputs": [
    {
     "name": "stdout",
     "output_type": "stream",
     "text": [
      "The classifier has an accuracy score of 0.956.\n"
     ]
    }
   ],
   "source": [
    "# Run this cell without changes\n",
    "\n",
    "# Include relevant imports\n",
    "import pickle, sklearn\n",
    "from sklearn.model_selection import train_test_split\n",
    "from sklearn.preprocessing import StandardScaler \n",
    "from sklearn.linear_model import LogisticRegression\n",
    "from sklearn.metrics import accuracy_score, roc_curve, roc_auc_score\n",
    "\n",
    "network_df = pickle.load(open('sample_network_data.pkl', 'rb'))\n",
    "\n",
    "# partion features and target \n",
    "X = network_df.drop('Purchased', axis=1)\n",
    "y = network_df['Purchased']\n",
    "\n",
    "# train test split\n",
    "X_train, X_test, y_train, y_test = train_test_split(X, y, random_state=2019)\n",
    "\n",
    "# scale features\n",
    "scale = StandardScaler()\n",
    "scale.fit(X_train)\n",
    "X_train = scale.transform(X_train)\n",
    "X_test = scale.transform(X_test)\n",
    "\n",
    "# build classifier\n",
    "model = LogisticRegression(C=1e5, solver='lbfgs')\n",
    "model.fit(X_train, y_train)\n",
    "y_test_pred = model.predict(X_test)\n",
    "\n",
    "# get the accuracy score\n",
    "print(f'The classifier has an accuracy score of {round(accuracy_score(y_test, y_test_pred), 3)}.')"
   ]
  },
  {
   "cell_type": "code",
   "execution_count": 13,
   "metadata": {
    "ExecuteTime": {
     "end_time": "2022-12-23T17:41:06.787392Z",
     "start_time": "2022-12-23T17:41:06.784696Z"
    },
    "nbgrader": {
     "grade": false,
     "grade_id": "cell-e21cfbd2172b791a",
     "locked": true,
     "schema_version": 3,
     "solution": false,
     "task": false
    }
   },
   "outputs": [
    {
     "data": {
      "text/plain": [
       "0    257\n",
       "1     13\n",
       "Name: Purchased, dtype: int64"
      ]
     },
     "execution_count": 13,
     "metadata": {},
     "output_type": "execute_result"
    }
   ],
   "source": [
    "# Run this cell without changes\n",
    "\n",
    "y.value_counts()"
   ]
  },
  {
   "cell_type": "markdown",
   "metadata": {
    "nbgrader": {
     "grade": false,
     "grade_id": "cell-b3dee6c580108f26",
     "locked": true,
     "schema_version": 3,
     "solution": false,
     "task": false
    }
   },
   "source": [
    "### 3.4) Short Answer: Explain how the distribution of `y` shown above could explain the high accuracy score of the classification model."
   ]
  },
  {
   "cell_type": "code",
   "execution_count": 14,
   "metadata": {
    "ExecuteTime": {
     "end_time": "2022-12-23T17:41:06.791353Z",
     "start_time": "2022-12-23T17:41:06.788071Z"
    }
   },
   "outputs": [
    {
     "data": {
      "text/plain": [
       "0    0.951852\n",
       "1    0.048148\n",
       "Name: Purchased, dtype: float64"
      ]
     },
     "execution_count": 14,
     "metadata": {},
     "output_type": "execute_result"
    }
   ],
   "source": [
    "# Your answer here\n",
    "y.value_counts(normalize=True)\n",
    "#the data already has a baseline accuracy of 95.2% because of the\n",
    "#imbalance of data\n"
   ]
  },
  {
   "cell_type": "markdown",
   "metadata": {
    "nbgrader": {
     "grade": false,
     "grade_id": "cell-15288334b184b850",
     "locked": true,
     "schema_version": 3,
     "solution": false,
     "task": false
    }
   },
   "source": [
    "### 3.5) Short Answer: What is one method you could use to improve your model to address the issue discovered in Question 3.4?"
   ]
  },
  {
   "cell_type": "code",
   "execution_count": 15,
   "metadata": {
    "ExecuteTime": {
     "end_time": "2022-12-23T17:41:06.793068Z",
     "start_time": "2022-12-23T17:41:06.791993Z"
    }
   },
   "outputs": [],
   "source": [
    "# Your answer here\n",
    "# You can use oversampling, specifically SMOTE to \n",
    "#    address the imbalance issue\n"
   ]
  },
  {
   "cell_type": "markdown",
   "metadata": {
    "nbgrader": {
     "grade": false,
     "grade_id": "cell-6bdb41dda25eb6b0",
     "locked": true,
     "schema_version": 3,
     "solution": false,
     "task": false
    }
   },
   "source": [
    "---\n",
    "## Part 4: Decision Trees [Suggested Time: 20 min]\n",
    "---\n",
    "In this part, you will use decision trees to fit a classification model to a wine dataset. The data contain the results of a chemical analysis of wines grown in one region in Italy using three different cultivars (grape types). There are thirteen features from the measurements taken, and the wines are classified by cultivar in the `target` variable."
   ]
  },
  {
   "cell_type": "code",
   "execution_count": 16,
   "metadata": {
    "ExecuteTime": {
     "end_time": "2022-12-23T17:41:06.873935Z",
     "start_time": "2022-12-23T17:41:06.793764Z"
    },
    "nbgrader": {
     "grade": false,
     "grade_id": "cell-15de0bc4280a2aac",
     "locked": true,
     "schema_version": 3,
     "solution": false,
     "task": false
    },
    "scrolled": true
   },
   "outputs": [],
   "source": [
    "# Run this cell without changes\n",
    "\n",
    "# Relevant imports \n",
    "import pandas as pd \n",
    "import numpy as np \n",
    "from sklearn.datasets import load_wine\n",
    "from sklearn.tree import DecisionTreeClassifier\n",
    "\n",
    "# Load the data \n",
    "wine = load_wine()\n",
    "X, y = load_wine(return_X_y=True)\n",
    "X = pd.DataFrame(X, columns=wine.feature_names)\n",
    "y = pd.Series(y)\n",
    "y.name = 'target'"
   ]
  },
  {
   "cell_type": "markdown",
   "metadata": {
    "nbgrader": {
     "grade": false,
     "grade_id": "cell-561128e9ee6b0299",
     "locked": true,
     "schema_version": 3,
     "solution": false,
     "task": false
    }
   },
   "source": [
    "### 4.1) Use `train_test_split()` to evenly split `X` and `y` data between training sets (`X_train` and `y_train`) and test sets (`X_test` and `y_test`), with `random_state=1`.\n",
    "\n",
    "Do not alter `X` or `y` before performing the split."
   ]
  },
  {
   "cell_type": "code",
   "execution_count": 17,
   "metadata": {
    "ExecuteTime": {
     "end_time": "2022-12-23T17:41:06.877445Z",
     "start_time": "2022-12-23T17:41:06.874783Z"
    },
    "nbgrader": {
     "grade": false,
     "grade_id": "cell-0be055a675c0a674",
     "locked": true,
     "schema_version": 3,
     "solution": false,
     "task": false
    }
   },
   "outputs": [],
   "source": [
    "# CodeGrade step4.1\n",
    "# Replace None with appropriate code\n",
    "\n",
    "X_train, X_test, y_train, y_test = train_test_split(X, y, test_size=0.5, random_state=1)"
   ]
  },
  {
   "cell_type": "code",
   "execution_count": 18,
   "metadata": {
    "ExecuteTime": {
     "end_time": "2022-12-23T17:41:06.880269Z",
     "start_time": "2022-12-23T17:41:06.878315Z"
    }
   },
   "outputs": [],
   "source": [
    "# These tests confirm that you have created DataFrames named X_train, X_test and Series named y_train, and y_test\n",
    "\n",
    "assert type(X_train) == pd.DataFrame\n",
    "assert type(X_test) == pd.DataFrame\n",
    "assert type(y_train) == pd.Series\n",
    "assert type(y_test) == pd.Series\n",
    "\n",
    "# These tests confirm that you have split the data evenly between train and test sets\n",
    "\n",
    "assert X_train.shape[0] == X_test.shape[0]\n",
    "assert y_train.shape[0] == y_test.shape[0]"
   ]
  },
  {
   "cell_type": "markdown",
   "metadata": {
    "nbgrader": {
     "grade": false,
     "grade_id": "cell-eac2fc7be9725bf0",
     "locked": true,
     "schema_version": 3,
     "solution": false,
     "task": false
    }
   },
   "source": [
    "### 4.2) Create an untuned decision tree classifier `wine_dt` and fit it using `X_train` and `y_train`, with `random_state=1`. \n",
    "\n",
    "Use parameter defaults for your classifier. You must use the Scikit-learn DecisionTreeClassifier (docs [here](https://scikit-learn.org/stable/modules/generated/sklearn.tree.DecisionTreeClassifier.html))"
   ]
  },
  {
   "cell_type": "code",
   "execution_count": 19,
   "metadata": {
    "ExecuteTime": {
     "end_time": "2022-12-23T17:41:06.887339Z",
     "start_time": "2022-12-23T17:41:06.881058Z"
    },
    "nbgrader": {
     "grade": false,
     "grade_id": "cell-28bca1a3b0de0dd8",
     "locked": true,
     "schema_version": 3,
     "solution": false,
     "task": false
    }
   },
   "outputs": [],
   "source": [
    "# CodeGrade step4.2\n",
    "# Replace None with appropriate code\n",
    "\n",
    "wine_dt = DecisionTreeClassifier(random_state=1).fit(X_train, y_train)"
   ]
  },
  {
   "cell_type": "code",
   "execution_count": 20,
   "metadata": {
    "ExecuteTime": {
     "end_time": "2022-12-23T17:41:06.889752Z",
     "start_time": "2022-12-23T17:41:06.888129Z"
    }
   },
   "outputs": [],
   "source": [
    "# This test confirms that you have created a DecisionTreeClassifier named wine_dt\n",
    "\n",
    "assert type(wine_dt) == DecisionTreeClassifier\n",
    "\n",
    "# This test confirms that you have set random_state to 1\n",
    "\n",
    "assert wine_dt.get_params()['random_state'] == 1\n",
    "\n",
    "# This test confirms that wine_dt has been fit\n",
    "\n",
    "sklearn.utils.validation.check_is_fitted(wine_dt)"
   ]
  },
  {
   "cell_type": "markdown",
   "metadata": {
    "nbgrader": {
     "grade": false,
     "grade_id": "cell-55b417dc67abb7c6",
     "locked": true,
     "schema_version": 3,
     "solution": false,
     "task": false
    }
   },
   "source": [
    "### 4.3) Create an array `y_pred` generated by using `wine_dt` to make predictions for the test data."
   ]
  },
  {
   "cell_type": "code",
   "execution_count": 21,
   "metadata": {
    "ExecuteTime": {
     "end_time": "2022-12-23T17:41:06.893403Z",
     "start_time": "2022-12-23T17:41:06.890471Z"
    }
   },
   "outputs": [
    {
     "data": {
      "text/plain": [
       "array([2, 1, 1, 1, 0, 2, 1, 0, 2, 1, 0, 1, 1, 0, 1, 1, 2, 1, 1, 0, 0, 2,\n",
       "       2, 0, 1, 2, 0, 0, 0, 2, 1, 2, 2, 0, 1, 1, 1, 1, 1, 0, 0, 2, 2, 0,\n",
       "       0, 1, 1, 0, 0, 0, 1, 2, 2, 0, 1, 0, 0, 1, 2, 1, 1, 0, 2, 1, 2, 0,\n",
       "       1, 0, 1, 0, 2, 1, 2, 2, 1, 1, 1, 2, 0, 1, 2, 0, 1, 0, 2, 1, 1, 0,\n",
       "       1])"
      ]
     },
     "execution_count": 21,
     "metadata": {},
     "output_type": "execute_result"
    }
   ],
   "source": [
    "# CodeGrade step4.3\n",
    "# Replace None with appropriate code\n",
    "\n",
    "y_pred = wine_dt.predict(X_test)\n",
    "y_pred"
   ]
  },
  {
   "cell_type": "code",
   "execution_count": 22,
   "metadata": {
    "ExecuteTime": {
     "end_time": "2022-12-23T17:41:06.895500Z",
     "start_time": "2022-12-23T17:41:06.894197Z"
    }
   },
   "outputs": [],
   "source": [
    "# This test confirms that you have created an array-like object named y_pred\n",
    "\n",
    "assert type(np.asarray(y_pred)) == np.ndarray"
   ]
  },
  {
   "cell_type": "markdown",
   "metadata": {
    "nbgrader": {
     "grade": false,
     "grade_id": "cell-536526728a8066e2",
     "locked": true,
     "schema_version": 3,
     "solution": false,
     "task": false
    }
   },
   "source": [
    "### 4.4) Create a numeric variable `wine_dt_acc` containing the accuracy score for your predictions. \n",
    "\n",
    "Hint: You can use the `sklearn.metrics` module."
   ]
  },
  {
   "cell_type": "code",
   "execution_count": 23,
   "metadata": {
    "ExecuteTime": {
     "end_time": "2022-12-23T17:41:06.898880Z",
     "start_time": "2022-12-23T17:41:06.896244Z"
    },
    "nbgrader": {
     "grade": false,
     "grade_id": "cell-67272706fb08c3bf",
     "locked": true,
     "schema_version": 3,
     "solution": false,
     "task": false
    }
   },
   "outputs": [
    {
     "data": {
      "text/plain": [
       "0.8764044943820225"
      ]
     },
     "execution_count": 23,
     "metadata": {},
     "output_type": "execute_result"
    }
   ],
   "source": [
    "# CodeGrade step4.4\n",
    "# Replace None with appropriate code\n",
    "\n",
    "wine_dt_acc = accuracy_score(y_test, y_pred)\n",
    "wine_dt_acc"
   ]
  },
  {
   "cell_type": "code",
   "execution_count": 24,
   "metadata": {
    "ExecuteTime": {
     "end_time": "2022-12-23T17:41:06.901331Z",
     "start_time": "2022-12-23T17:41:06.899615Z"
    }
   },
   "outputs": [],
   "source": [
    "# This test confirms that you have created a numeric variable named wine_dt_acc\n",
    "\n",
    "assert isinstance(wine_dt_acc, Number)"
   ]
  },
  {
   "cell_type": "markdown",
   "metadata": {
    "nbgrader": {
     "grade": false,
     "grade_id": "cell-266fbd755dbbb4c2",
     "locked": true,
     "schema_version": 3,
     "solution": false,
     "task": false
    }
   },
   "source": [
    "### 4.5) Short Answer: Based on the accuracy score, does the model seem to be performing well or to have substantial performance issues? Explain your answer."
   ]
  },
  {
   "cell_type": "code",
   "execution_count": 25,
   "metadata": {
    "ExecuteTime": {
     "end_time": "2022-12-23T17:41:06.905066Z",
     "start_time": "2022-12-23T17:41:06.902059Z"
    }
   },
   "outputs": [
    {
     "data": {
      "text/plain": [
       "1    71\n",
       "0    59\n",
       "2    48\n",
       "Name: target, dtype: int64"
      ]
     },
     "execution_count": 25,
     "metadata": {},
     "output_type": "execute_result"
    }
   ],
   "source": [
    "y.value_counts()"
   ]
  },
  {
   "cell_type": "code",
   "execution_count": 26,
   "metadata": {
    "ExecuteTime": {
     "end_time": "2022-12-23T17:41:06.907708Z",
     "start_time": "2022-12-23T17:41:06.905835Z"
    }
   },
   "outputs": [],
   "source": [
    "# Your answer here\n",
    "\n",
    "# The data does not appear to have a significant class imbalance (which can lead \n",
    "# to misleadingly high accuracy scores) so it appears to be performing well. \n"
   ]
  },
  {
   "cell_type": "code",
   "execution_count": null,
   "metadata": {},
   "outputs": [],
   "source": []
  }
 ],
 "metadata": {
  "celltoolbar": "Create Assignment",
  "kernelspec": {
   "display_name": "Python (learn-env)",
   "language": "python",
   "name": "learn-env"
  },
  "language_info": {
   "codemirror_mode": {
    "name": "ipython",
    "version": 3
   },
   "file_extension": ".py",
   "mimetype": "text/x-python",
   "name": "python",
   "nbconvert_exporter": "python",
   "pygments_lexer": "ipython3",
   "version": "3.8.5"
  },
  "toc": {
   "base_numbering": 1,
   "nav_menu": {},
   "number_sections": true,
   "sideBar": true,
   "skip_h1_title": false,
   "title_cell": "Table of Contents",
   "title_sidebar": "Contents",
   "toc_cell": false,
   "toc_position": {},
   "toc_section_display": true,
   "toc_window_display": false
  }
 },
 "nbformat": 4,
 "nbformat_minor": 4
}

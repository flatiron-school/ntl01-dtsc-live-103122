{
 "cells": [
  {
   "cell_type": "markdown",
   "metadata": {},
   "source": [
    "## Object Oriented Programming\n",
    "\n",
    "In this exercise you will primarily be exploring a Pokemon dataset. Pokemon are fictional creatures from the [Nintendo franchise](https://en.wikipedia.org/wiki/Pok%C3%A9mon) of the same name.\n",
    "\n",
    "Some Pokemon facts that might be useful:\n",
    "* The word \"pokemon\" is both singular and plural. You may refer to \"one pokemon\" or \"many pokemon\".\n",
    "* Pokemon have attributes such as a name, weight, and height.\n",
    "* Pokemon have one or multiple \"types\". A type is something like \"electric\", \"water\", \"ghost\", or \"normal\" that indicates the abilities that pokemon may possess.\n",
    "* The humans who collect pokemon are called \"trainers\".\n",
    "\n",
    "As a pokemon trainer we want to make sure our pokemon are performing at their peak. To measure this, we want to calculate a pokemon's Body Mass Index (or BMI). This is a statistic calculated using the pokemon's height and weight. \n",
    "\n",
    "To help with this task we we will create Pokemon objects that methods can be called on. \n",
    "\n",
    "You'll be working with following dictionaries to create the `Pokemon` objects"
   ]
  },
  {
   "cell_type": "code",
   "execution_count": 1,
   "metadata": {
    "ExecuteTime": {
     "end_time": "2022-12-13T19:52:59.112284Z",
     "start_time": "2022-12-13T19:52:59.107793Z"
    }
   },
   "outputs": [],
   "source": [
    "# Run this cell without changes\n",
    "bulbasaur_data = {\"name\": 'bulbasaur', \"weight\": 69, \"height\": 7, \"base_experience\": 64, \"types\": [\"grass\", \"poison\"]}\n",
    "charmander_data = {\"name\": 'charmander', \"weight\": 85, \"height\": 6, \"base_experience\": 62, \"types\": [\"fire\"]}\n",
    "squirtle_data = {\"name\": 'squirtle', \"weight\": 90, \"height\": 5, \"base_experience\": 63, \"types\": [\"water\"]}"
   ]
  },
  {
   "cell_type": "markdown",
   "metadata": {},
   "source": [
    "### 1. Creating a Class\n",
    "\n",
    "Create a class called `Pokemon` with an `__init__` method. \n",
    "\n",
    "Along with the necessary `self` parameter, the `__init__` method should \n",
    "take in `data` as a parameter.\n",
    "\n",
    "With the idea that one of the dictionaries above will be passed in as `data`, \n",
    "assign these specific attributes within the `__init__` method:\n",
    " \n",
    "* `name` : values from the 'name' key of the dictionary passed in `data`\n",
    "* `weight`: values from the 'weight' key of the dictionary passed in `data`\n",
    "* `height`values from the 'height' key of the dictionary passed in `data`"
   ]
  },
  {
   "cell_type": "code",
   "execution_count": 2,
   "metadata": {
    "ExecuteTime": {
     "end_time": "2022-12-13T19:52:59.115837Z",
     "start_time": "2022-12-13T19:52:59.113408Z"
    }
   },
   "outputs": [],
   "source": [
    "# CodeGrade step1\n",
    "# Create your class in this cell.  Remember to use the correct syntax, and include an __init__ method!\n",
    "\n",
    "class Pokemon():\n",
    "    \n",
    "    def __init__(self, data):\n",
    "        self.name = data['name']\n",
    "        self.weight = data['weight']\n",
    "        self.height = data['height']\n"
   ]
  },
  {
   "cell_type": "code",
   "execution_count": 3,
   "metadata": {
    "ExecuteTime": {
     "end_time": "2022-12-13T19:52:59.118986Z",
     "start_time": "2022-12-13T19:52:59.117547Z"
    }
   },
   "outputs": [],
   "source": [
    "assert type(Pokemon) == type"
   ]
  },
  {
   "cell_type": "markdown",
   "metadata": {},
   "source": [
    "    \n",
    "### 2. Instantiating Objects\n",
    "\n",
    "Using the `bulbasaur_data`, `charmander_data` and `squirtle_data` variables, create the corresponding pokemon objects."
   ]
  },
  {
   "cell_type": "code",
   "execution_count": 4,
   "metadata": {
    "ExecuteTime": {
     "end_time": "2022-12-13T19:52:59.125305Z",
     "start_time": "2022-12-13T19:52:59.120059Z"
    }
   },
   "outputs": [],
   "source": [
    "bulbasaur_data"
   ]
  },
  {
   "cell_type": "code",
   "execution_count": 5,
   "metadata": {
    "ExecuteTime": {
     "end_time": "2022-12-13T19:52:59.128263Z",
     "start_time": "2022-12-13T19:52:59.126431Z"
    }
   },
   "outputs": [],
   "source": [
    "# CodeGrade step2\n",
    "# Your code here\n",
    "bulbasaur = Pokemon(bulbasaur_data)\n",
    "charmander = Pokemon(charmander_data)\n",
    "squirtle = Pokemon(squirtle_data)"
   ]
  },
  {
   "cell_type": "code",
   "execution_count": 6,
   "metadata": {
    "ExecuteTime": {
     "end_time": "2022-12-13T19:52:59.131215Z",
     "start_time": "2022-12-13T19:52:59.129111Z"
    }
   },
   "outputs": [
    {
     "data": {
      "text/plain": [
       "'bulbasaur'"
      ]
     },
     "execution_count": 6,
     "metadata": {},
     "output_type": "execute_result"
    }
   ],
   "source": [
    "bulbasaur.name"
   ]
  },
  {
   "cell_type": "code",
   "execution_count": 7,
   "metadata": {
    "ExecuteTime": {
     "end_time": "2022-12-13T19:52:59.134678Z",
     "start_time": "2022-12-13T19:52:59.132341Z"
    }
   },
   "outputs": [
    {
     "name": "stdout",
     "output_type": "stream",
     "text": [
      "Name: bulbasaur\n",
      "Weight: 69\n",
      "Height: 7\n",
      "\n",
      "\n",
      "Name: charmander\n",
      "Weight: 85\n",
      "Height: 6\n",
      "\n",
      "\n",
      "Name: squirtle\n",
      "Weight: 90\n",
      "Height: 5\n",
      "\n",
      "\n"
     ]
    }
   ],
   "source": [
    "'''\n",
    "run this cell to test and check your code\n",
    "\n",
    "make sure that the printed information matches the dictionaries above\n",
    "\n",
    "you may need to change the attribute variable names in the print statement \n",
    "if you named them differently!\n",
    "'''\n",
    "\n",
    "def print_pokeinfo(pkmn):\n",
    "    print('Name: ' + pkmn.name)\n",
    "    print('Weight: ' + str(pkmn.weight))\n",
    "    print('Height: ' + str(pkmn.height))\n",
    "    print('\\n')\n",
    "    \n",
    "print_pokeinfo(bulbasaur)\n",
    "print_pokeinfo(charmander)\n",
    "print_pokeinfo(squirtle)"
   ]
  },
  {
   "cell_type": "code",
   "execution_count": 8,
   "metadata": {
    "ExecuteTime": {
     "end_time": "2022-12-13T19:52:59.138698Z",
     "start_time": "2022-12-13T19:52:59.136778Z"
    }
   },
   "outputs": [],
   "source": [
    "assert type(bulbasaur) == Pokemon\n",
    "assert type(charmander) == Pokemon\n",
    "assert type(squirtle) == Pokemon"
   ]
  },
  {
   "cell_type": "markdown",
   "metadata": {},
   "source": [
    "### 3. Update an instance attribute\n",
    "\n",
    "Using the charmander instance, increase the weight attribute by 5. "
   ]
  },
  {
   "cell_type": "code",
   "execution_count": 9,
   "metadata": {
    "ExecuteTime": {
     "end_time": "2022-12-13T19:52:59.142567Z",
     "start_time": "2022-12-13T19:52:59.140820Z"
    }
   },
   "outputs": [
    {
     "data": {
      "text/plain": [
       "90"
      ]
     },
     "execution_count": 9,
     "metadata": {},
     "output_type": "execute_result"
    }
   ],
   "source": [
    "# CodeGrade step3\n",
    "charmander.weight += 5\n",
    "charmander.weight"
   ]
  },
  {
   "cell_type": "markdown",
   "metadata": {},
   "source": [
    "### 4. Instance Methods\n",
    "\n",
    "Write an instance method called `bmi` within the class `Pokemon` defined above to calculate the BMI of a Pokemon. \n",
    "\n",
    "BMI is defined by the formula: $\\frac{weight}{height^{2}}$ \n",
    "\n",
    "The BMI should be calculated with weight in **kilograms** and height in **meters**. \n",
    "\n",
    "The height and weight data of Pokemon from the API is in **decimeters** and **hectograms**, respectively. \n",
    "\n",
    "You will have to convert the given values of height and weight to kilgrams and meters to make the BMI calculations correct.\n",
    "\n",
    "For your convenience, here are the conversions:\n",
    "\n",
    "```\n",
    "1 decimeter = 0.1 meters\n",
    "1 hectogram = 0.1 kilograms\n",
    "```\n",
    "\n",
    "**Don't forget**: since you change the `Pokemon` class, you will have to create **new objects** of this **new class**. \n",
    "\n",
    "If you use the objects created by the first class you wrote, they will not have the `bmi` instance!\n",
    "\n",
    "You can assign these new objects the same names as you assigned the old ones:\n",
    "`bulbasaur`, `charmander` and `squirtle`"
   ]
  },
  {
   "cell_type": "code",
   "execution_count": 10,
   "metadata": {
    "ExecuteTime": {
     "end_time": "2022-12-13T19:52:59.145377Z",
     "start_time": "2022-12-13T19:52:59.143295Z"
    }
   },
   "outputs": [],
   "source": [
    "# CodeGrade step4\n",
    "# Your work here\n",
    "decimeter_to_m = .1\n",
    "hectogram_to_kg = .1\n",
    "\n",
    "class Pokemon():\n",
    "    \n",
    "    def __init__(self, data):\n",
    "        self.name = data['name']\n",
    "        self.weight = data['weight']\n",
    "        self.height = data['height']\n",
    "        \n",
    "    def bmi(self):\n",
    "        bmi = (self.weight * hectogram_to_kg) / (self.height * decimeter_to_m)**2\n",
    "        return bmi"
   ]
  },
  {
   "cell_type": "code",
   "execution_count": 11,
   "metadata": {
    "ExecuteTime": {
     "end_time": "2022-12-13T19:52:59.147846Z",
     "start_time": "2022-12-13T19:52:59.146321Z"
    }
   },
   "outputs": [],
   "source": [
    "bulbasaur = Pokemon(bulbasaur_data)\n",
    "charmander = Pokemon(charmander_data)\n",
    "squirtle = Pokemon(squirtle_data)"
   ]
  },
  {
   "cell_type": "code",
   "execution_count": 12,
   "metadata": {
    "ExecuteTime": {
     "end_time": "2022-12-13T19:52:59.150496Z",
     "start_time": "2022-12-13T19:52:59.148587Z"
    }
   },
   "outputs": [
    {
     "data": {
      "text/plain": [
       "85"
      ]
     },
     "execution_count": 12,
     "metadata": {},
     "output_type": "execute_result"
    }
   ],
   "source": [
    "charmander.weight"
   ]
  },
  {
   "cell_type": "code",
   "execution_count": null,
   "metadata": {},
   "outputs": [],
   "source": []
  },
  {
   "cell_type": "code",
   "execution_count": 13,
   "metadata": {
    "ExecuteTime": {
     "end_time": "2022-12-13T19:52:59.153210Z",
     "start_time": "2022-12-13T19:52:59.151185Z"
    }
   },
   "outputs": [
    {
     "name": "stdout",
     "output_type": "stream",
     "text": [
      "14.081632653061222\n",
      "23.611111111111104\n",
      "36.0\n"
     ]
    }
   ],
   "source": [
    "# run this cell to test and check your code\n",
    "\n",
    "# don't forget to create new objects after adding the `bmi` instance to the `Pokemon` class!\n",
    "\n",
    "print(bulbasaur.bmi()) # you should get 14.08\n",
    "print(charmander.bmi()) # you should get 23.61\n",
    "print(squirtle.bmi()) # you should get 36.0"
   ]
  },
  {
   "cell_type": "code",
   "execution_count": 14,
   "metadata": {
    "ExecuteTime": {
     "end_time": "2022-12-13T19:52:59.155928Z",
     "start_time": "2022-12-13T19:52:59.154102Z"
    }
   },
   "outputs": [],
   "source": [
    "# bulbasaur.bmi should be a method on an instance of type Pokemon\n",
    "import types\n",
    "assert type(bulbasaur.bmi) == types.MethodType\n",
    "# bulbasaur.bmi() should return a floating point number\n",
    "assert type(bulbasaur.bmi()) == float"
   ]
  },
  {
   "cell_type": "code",
   "execution_count": null,
   "metadata": {},
   "outputs": [],
   "source": []
  }
 ],
 "metadata": {
  "kernelspec": {
   "display_name": "Python (learn-env)",
   "language": "python",
   "name": "learn-env"
  },
  "language_info": {
   "codemirror_mode": {
    "name": "ipython",
    "version": 3
   },
   "file_extension": ".py",
   "mimetype": "text/x-python",
   "name": "python",
   "nbconvert_exporter": "python",
   "pygments_lexer": "ipython3",
   "version": "3.8.5"
  }
 },
 "nbformat": 4,
 "nbformat_minor": 4
}

{
 "cells": [
  {
   "cell_type": "markdown",
   "metadata": {
    "toc": true
   },
   "source": [
    "<h1>Table of Contents<span class=\"tocSkip\"></span></h1>\n",
    "<div class=\"toc\"><ul class=\"toc-item\"><li><span><a href=\"#Objectives\" data-toc-modified-id=\"Objectives-1\"><span class=\"toc-item-num\">1&nbsp;&nbsp;</span>Objectives</a></span></li><li><span><a href=\"#Motivating--The-Bayesian-Classifier-🧐\" data-toc-modified-id=\"Motivating--The-Bayesian-Classifier-🧐-2\"><span class=\"toc-item-num\">2&nbsp;&nbsp;</span>Motivating  The Bayesian Classifier 🧐</a></span><ul class=\"toc-item\"><li><span><a href=\"#Naive-Bayes-Setup\" data-toc-modified-id=\"Naive-Bayes-Setup-2.1\"><span class=\"toc-item-num\">2.1&nbsp;&nbsp;</span>Naive Bayes Setup</a></span><ul class=\"toc-item\"><li><span><a href=\"#What's-So-Great-About-This?\" data-toc-modified-id=\"What's-So-Great-About-This?-2.1.1\"><span class=\"toc-item-num\">2.1.1&nbsp;&nbsp;</span>What's So Great About This?</a></span></li></ul></li><li><span><a href=\"#The-Naive-Assumption\" data-toc-modified-id=\"The-Naive-Assumption-2.2\"><span class=\"toc-item-num\">2.2&nbsp;&nbsp;</span>The Naive Assumption</a></span></li><li><span><a href=\"#The-Formula\" data-toc-modified-id=\"The-Formula-2.3\"><span class=\"toc-item-num\">2.3&nbsp;&nbsp;</span>The Formula</a></span><ul class=\"toc-item\"><li><span><a href=\"#What-Parts-Can-We-Find?\" data-toc-modified-id=\"What-Parts-Can-We-Find?-2.3.1\"><span class=\"toc-item-num\">2.3.1&nbsp;&nbsp;</span>What Parts Can We Find?</a></span></li></ul></li><li><span><a href=\"#Calculating-the-Probability-That-Our-Email-Is-Spam\" data-toc-modified-id=\"Calculating-the-Probability-That-Our-Email-Is-Spam-2.4\"><span class=\"toc-item-num\">2.4&nbsp;&nbsp;</span>Calculating the Probability That Our Email Is Spam</a></span></li><li><span><a href=\"#Extending-It-With-Multiple-Words\" data-toc-modified-id=\"Extending-It-With-Multiple-Words-2.5\"><span class=\"toc-item-num\">2.5&nbsp;&nbsp;</span>Extending It With Multiple Words</a></span></li></ul></li><li><span><a href=\"#Naive-Bayes-Modeling-Example\" data-toc-modified-id=\"Naive-Bayes-Modeling-Example-3\"><span class=\"toc-item-num\">3&nbsp;&nbsp;</span>Naive Bayes Modeling Example</a></span><ul class=\"toc-item\"><li><span><a href=\"#Using-Bayes's-Theorem-for-Classification\" data-toc-modified-id=\"Using-Bayes's-Theorem-for-Classification-3.1\"><span class=\"toc-item-num\">3.1&nbsp;&nbsp;</span>Using Bayes's Theorem for Classification</a></span><ul class=\"toc-item\"><li><span><a href=\"#Does-this-look-like-a-classification-problem?\" data-toc-modified-id=\"Does-this-look-like-a-classification-problem?-3.1.1\"><span class=\"toc-item-num\">3.1.1&nbsp;&nbsp;</span>Does this look like a classification problem?</a></span></li></ul></li><li><span><a href=\"#Elephant-Example\" data-toc-modified-id=\"Elephant-Example-3.2\"><span class=\"toc-item-num\">3.2&nbsp;&nbsp;</span>Elephant Example</a></span><ul class=\"toc-item\"><li><span><a href=\"#Naive-Bayes-by-Hand\" data-toc-modified-id=\"Naive-Bayes-by-Hand-3.2.1\"><span class=\"toc-item-num\">3.2.1&nbsp;&nbsp;</span>Naive Bayes by Hand</a></span></li><li><span><a href=\"#Priors\" data-toc-modified-id=\"Priors-3.2.2\"><span class=\"toc-item-num\">3.2.2&nbsp;&nbsp;</span>Priors</a></span></li><li><span><a href=\"#Calculation-of-Likelihoods\" data-toc-modified-id=\"Calculation-of-Likelihoods-3.2.3\"><span class=\"toc-item-num\">3.2.3&nbsp;&nbsp;</span>Calculation of Likelihoods</a></span></li><li><span><a href=\"#Posteriors\" data-toc-modified-id=\"Posteriors-3.2.4\"><span class=\"toc-item-num\">3.2.4&nbsp;&nbsp;</span>Posteriors</a></span></li><li><span><a href=\"#More-Dimensions\" data-toc-modified-id=\"More-Dimensions-3.2.5\"><span class=\"toc-item-num\">3.2.5&nbsp;&nbsp;</span>More Dimensions</a></span><ul class=\"toc-item\"><li><span><a href=\"#What's-&quot;Naive&quot;-about-This?\" data-toc-modified-id=\"What's-&quot;Naive&quot;-about-This?-3.2.5.1\"><span class=\"toc-item-num\">3.2.5.1&nbsp;&nbsp;</span>What's \"Naive\" about This?</a></span></li><li><span><a href=\"#Priors\" data-toc-modified-id=\"Priors-3.2.5.2\"><span class=\"toc-item-num\">3.2.5.2&nbsp;&nbsp;</span>Priors</a></span></li><li><span><a href=\"#Likelihoods\" data-toc-modified-id=\"Likelihoods-3.2.5.3\"><span class=\"toc-item-num\">3.2.5.3&nbsp;&nbsp;</span>Likelihoods</a></span></li><li><span><a href=\"#Posteriors\" data-toc-modified-id=\"Posteriors-3.2.5.4\"><span class=\"toc-item-num\">3.2.5.4&nbsp;&nbsp;</span>Posteriors</a></span></li></ul></li><li><span><a href=\"#GaussianNB\" data-toc-modified-id=\"GaussianNB-3.2.6\"><span class=\"toc-item-num\">3.2.6&nbsp;&nbsp;</span><a href=\"https://scikit-learn.org/stable/modules/generated/sklearn.naive_bayes.GaussianNB.html\" target=\"_blank\"><code>GaussianNB</code></a></a></span></li></ul></li><li><span><a href=\"#Comma-Survey-Example\" data-toc-modified-id=\"Comma-Survey-Example-3.3\"><span class=\"toc-item-num\">3.3&nbsp;&nbsp;</span>Comma Survey Example</a></span><ul class=\"toc-item\"><li><span><a href=\"#Calculating-Priors-and-Likelihoods\" data-toc-modified-id=\"Calculating-Priors-and-Likelihoods-3.3.1\"><span class=\"toc-item-num\">3.3.1&nbsp;&nbsp;</span>Calculating Priors and Likelihoods</a></span></li><li><span><a href=\"#Calculating-Posteriors\" data-toc-modified-id=\"Calculating-Posteriors-3.3.2\"><span class=\"toc-item-num\">3.3.2&nbsp;&nbsp;</span>Calculating Posteriors</a></span></li><li><span><a href=\"#Comparison-with-MultinomialNB\" data-toc-modified-id=\"Comparison-with-MultinomialNB-3.3.3\"><span class=\"toc-item-num\">3.3.3&nbsp;&nbsp;</span>Comparison with <a href=\"https://scikit-learn.org/stable/modules/generated/sklearn.naive_bayes.MultinomialNB.html\" target=\"_blank\"><code>MultinomialNB</code></a></a></span></li></ul></li></ul></li></ul></div>"
   ]
  },
  {
   "cell_type": "code",
   "execution_count": 1,
   "metadata": {
    "ExecuteTime": {
     "end_time": "2022-12-20T20:32:27.406610Z",
     "start_time": "2022-12-20T20:32:25.905076Z"
    }
   },
   "outputs": [],
   "source": [
    "import numpy as np\n",
    "import pandas as pd\n",
    "from scipy import stats\n",
    "from sklearn.naive_bayes import MultinomialNB, GaussianNB\n",
    "    # There is also a BernoulliNB for a dataset with binary predictors\n",
    "import seaborn as sns\n",
    "from matplotlib import pyplot as plt\n",
    "from sklearn.model_selection import train_test_split\n",
    "from sklearn.metrics import plot_confusion_matrix\n",
    "from sklearn.preprocessing import OneHotEncoder\n",
    "\n",
    "%matplotlib inline"
   ]
  },
  {
   "cell_type": "markdown",
   "metadata": {},
   "source": [
    "# Objectives"
   ]
  },
  {
   "cell_type": "markdown",
   "metadata": {},
   "source": [
    "- Describe how Bayes's Theorem can be used to make predictions of a target\n",
    "- Identify the appropriate variant of Naive Bayes models for a particular business problem"
   ]
  },
  {
   "cell_type": "markdown",
   "metadata": {},
   "source": [
    "# Motivating  The Bayesian Classifier 🧐"
   ]
  },
  {
   "cell_type": "markdown",
   "metadata": {},
   "source": [
    "> Let's take a second to go through an example to get a feel for how Bayes' Theorem can help us with classification. Specifically about document classification"
   ]
  },
  {
   "cell_type": "markdown",
   "metadata": {},
   "source": [
    "Spam, Spam, Spam, Spam, Spam..."
   ]
  },
  {
   "cell_type": "markdown",
   "metadata": {},
   "source": [
    "![Many cans of spam](images/wall_of_spam.jpeg)\n",
    "\n",
    "> This is the classic example: detecting email spam!"
   ]
  },
  {
   "cell_type": "markdown",
   "metadata": {},
   "source": [
    "**The Problem Setup**\n",
    "\n",
    "> We get emails that can be either emails we care about (***ham*** 🐷) or emails we don't care about (***spam*** 🥫). \n",
    ">\n",
    "> We can probably look at the words in the email and get an idea of whether they are spam or not just by observing if they contain red-flag words 🚩\n",
    "> \n",
    "> We won't always be right, but if we see an email that uses word(s) that are more often associated with spam, then we can feel more confident as labeling that email as spam!"
   ]
  },
  {
   "cell_type": "markdown",
   "metadata": {},
   "source": [
    "## Naive Bayes Setup"
   ]
  },
  {
   "cell_type": "markdown",
   "metadata": {},
   "source": [
    "What we gotta do:"
   ]
  },
  {
   "cell_type": "markdown",
   "metadata": {},
   "source": [
    "1. Look at spam and not spam (ham) emails\n",
    "2. Identify words that suggest classification\n",
    "3. Determine probability that words occur in each classification\n",
    "4. Profit (classify new emails as \"spam\" or \"ham\")"
   ]
  },
  {
   "cell_type": "markdown",
   "metadata": {},
   "source": [
    "### What's So Great About This?"
   ]
  },
  {
   "cell_type": "markdown",
   "metadata": {},
   "source": [
    "- We can keep updating our belief based on the emails we detect\n",
    "- Relatively simple\n",
    "- Can expand to multiple words"
   ]
  },
  {
   "cell_type": "markdown",
   "metadata": {},
   "source": [
    "## The Naive Assumption"
   ]
  },
  {
   "cell_type": "markdown",
   "metadata": {},
   "source": [
    "$P(A,B) = P(A\\cap B) = P(A)\\ P(B)$ only if independent \n",
    "\n",
    "In practice, makes sense & is usually pretty good assumption"
   ]
  },
  {
   "cell_type": "markdown",
   "metadata": {},
   "source": [
    "## The Formula"
   ]
  },
  {
   "cell_type": "markdown",
   "metadata": {},
   "source": [
    "Let's say the word that occurs is \"cash\":\n",
    "\n",
    "$$ P(🥫 | \"cash\") = \\frac{P(\"cash\" | 🥫)P(🥫)}{P(\"cash\")}$$"
   ]
  },
  {
   "cell_type": "markdown",
   "metadata": {},
   "source": [
    "### What Parts Can We Find?"
   ]
  },
  {
   "cell_type": "markdown",
   "metadata": {},
   "source": [
    "- $P(\"cash\")$\n",
    "    * That's just the probability of finding the word \"cash\"! Frequency of the word!\n",
    "- $P(🥫)$\n",
    "    * Well, we start with some data (*prior knowledge*): The frequency of the spam occurring!\n",
    "- $P(\"cash\" | 🥫)$\n",
    "    * How frequently \"cash\" is used in known spam emails. Count the frequency across all spam emails\n",
    "    "
   ]
  },
  {
   "cell_type": "markdown",
   "metadata": {},
   "source": [
    "## Calculating the Probability That Our Email Is Spam"
   ]
  },
  {
   "cell_type": "code",
   "execution_count": 2,
   "metadata": {
    "ExecuteTime": {
     "end_time": "2022-12-20T20:37:39.171429Z",
     "start_time": "2022-12-20T20:37:39.160446Z"
    }
   },
   "outputs": [],
   "source": [
    "# Let's just say 2% of all emails have the word \"cash\" in them\n",
    "p_cash = 0.02\n",
    "\n",
    "# We normally would measure this from our data, but we'll take \n",
    "# it that 10% of all emails we collected were spam\n",
    "p_spam = 0.10\n",
    "\n",
    "# 12% of all spam emails have the word \"cash\"\n",
    "p_cash_given_its_spam = 0.12"
   ]
  },
  {
   "cell_type": "code",
   "execution_count": 3,
   "metadata": {
    "ExecuteTime": {
     "end_time": "2022-12-20T20:37:40.098907Z",
     "start_time": "2022-12-20T20:37:40.092409Z"
    }
   },
   "outputs": [
    {
     "name": "stdout",
     "output_type": "stream",
     "text": [
      "If the email has the word \"cash\" in it, there is a 60.0% chance the email is spam\n"
     ]
    }
   ],
   "source": [
    "p_spam_given_cash = p_cash_given_its_spam * p_spam / p_cash\n",
    "\n",
    "print(f'If the email has the word \"cash\" in it, there is a {p_spam_given_cash*100}% chance the email is spam')"
   ]
  },
  {
   "cell_type": "markdown",
   "metadata": {},
   "source": [
    "> **Check it**: Does this make sense? <br>\n",
    "> Suppose I had 250 total emails.\n",
    "> - How many should I expect to have the word 'cash' in them?\n",
    "> - How many should I expect to be spam?\n",
    "> - How many *of the spam emails* should I expect to have the word 'cash' in them?"
   ]
  },
  {
   "cell_type": "code",
   "execution_count": 4,
   "metadata": {
    "ExecuteTime": {
     "end_time": "2022-12-20T20:38:21.105645Z",
     "start_time": "2022-12-20T20:38:21.094146Z"
    }
   },
   "outputs": [
    {
     "data": {
      "text/plain": [
       "5.0"
      ]
     },
     "execution_count": 4,
     "metadata": {},
     "output_type": "execute_result"
    }
   ],
   "source": [
    "250 * .02"
   ]
  },
  {
   "cell_type": "code",
   "execution_count": 5,
   "metadata": {
    "ExecuteTime": {
     "end_time": "2022-12-20T20:38:33.910353Z",
     "start_time": "2022-12-20T20:38:33.894854Z"
    }
   },
   "outputs": [
    {
     "data": {
      "text/plain": [
       "25.0"
      ]
     },
     "execution_count": 5,
     "metadata": {},
     "output_type": "execute_result"
    }
   ],
   "source": [
    "250 * .1"
   ]
  },
  {
   "cell_type": "code",
   "execution_count": 6,
   "metadata": {
    "ExecuteTime": {
     "end_time": "2022-12-20T20:39:11.046335Z",
     "start_time": "2022-12-20T20:39:11.035835Z"
    }
   },
   "outputs": [
    {
     "data": {
      "text/plain": [
       "3.0"
      ]
     },
     "execution_count": 6,
     "metadata": {},
     "output_type": "execute_result"
    }
   ],
   "source": [
    "25 * .12\n"
   ]
  },
  {
   "cell_type": "markdown",
   "metadata": {
    "ExecuteTime": {
     "end_time": "2022-08-16T17:11:38.861341Z",
     "start_time": "2022-08-16T17:11:38.853342Z"
    }
   },
   "source": [
    "<details>\n",
    "    <summary> Answers </summary>\n",
    "    \n",
    "    5\n",
    "    25\n",
    "    3\n",
    "</details>"
   ]
  },
  {
   "cell_type": "markdown",
   "metadata": {},
   "source": [
    "## Extending It With Multiple Words"
   ]
  },
  {
   "cell_type": "markdown",
   "metadata": {},
   "source": [
    "> With more words, the more certain we can be if it is/isn't spam"
   ]
  },
  {
   "cell_type": "markdown",
   "metadata": {},
   "source": [
    "Spam:\n",
    "\n",
    "$$ P(🥫\\ |\"buy\",\\ \"cash\") \\propto P(\"buy\",\\ \"cash\"|\\ 🥫)\\ P(🥫)$$\n",
    "\n",
    "\n",
    "But because of independence: \n",
    "    \n",
    "$$ P(\"buy\",\\ \"cash\"|\\ 🥫) = P(\"buy\"|\\ 🥫)\\ P(\"cash\"|\\ 🥫)$$"
   ]
  },
  {
   "cell_type": "markdown",
   "metadata": {},
   "source": [
    "Normalize by dividing!\n",
    "\n",
    "$$\n",
    "P(🥫\\ |\"buy\",\\ \"cash\")  =\n",
    "    \\frac\n",
    "        {P(\"buy\"|\\ 🥫)P(\"cash\"|\\ 🥫)\\ P(🥫)}\n",
    "        {P(\"buy\"|\\ 🥫)P(\"cash\"|\\ 🥫)\\ P(🥫) + P(\"buy\"|\\ 🐷)P(\"cash\"|\\ 🐷)\\ P(🐷)}\n",
    "$$\n",
    "\n"
   ]
  },
  {
   "cell_type": "markdown",
   "metadata": {},
   "source": [
    "> **Note:** If we wanted to find the most probable class (especially useful for *multiclass*), we find the maximum numerator for the given criteria"
   ]
  },
  {
   "cell_type": "markdown",
   "metadata": {},
   "source": [
    "# Naive Bayes Modeling Example"
   ]
  },
  {
   "cell_type": "markdown",
   "metadata": {},
   "source": [
    "## Using Bayes's Theorem for Classification"
   ]
  },
  {
   "cell_type": "markdown",
   "metadata": {},
   "source": [
    "Let's recall Bayes's Theorem:\n",
    "\n",
    "$\\large P(h|e) = \\frac{P(h)P(e|h)}{P(e)}$"
   ]
  },
  {
   "cell_type": "markdown",
   "metadata": {},
   "source": [
    "### Does this look like a classification problem?"
   ]
  },
  {
   "cell_type": "markdown",
   "metadata": {},
   "source": [
    "- Suppose we have three competing hypotheses $\\{h_1, h_2, h_3\\}$ that would explain our evidence $e$.\n",
    "    - Then we could use Bayes's Theorem to calculate the posterior probabilities for each of these three:\n",
    "        - $P(h_1|e) = \\frac{P(h_1)P(e|h_1)}{P(e)}$\n",
    "        - $P(h_2|e) = \\frac{P(h_2)P(e|h_2)}{P(e)}$\n",
    "        - $P(h_3|e) = \\frac{P(h_3)P(e|h_3)}{P(e)}$\n",
    "        \n",
    "- Suppose the evidence is a collection of elephant heights.\n",
    "- Suppose each of the three hypotheses claims that the elephant whose measurements we have belongs to one of the three extant elephant species (*L. africana*, *L. cyclotis*, and *E. maximus*)."
   ]
  },
  {
   "cell_type": "markdown",
   "metadata": {},
   "source": [
    "In that case the left-hand sides of these equations represent the probability that the elephant in question belongs to a given species.\n",
    "\n",
    "If we think of the species as our target, then **this is just an ordinary classification problem**."
   ]
  },
  {
   "cell_type": "markdown",
   "metadata": {},
   "source": [
    "What about the right-hand sides of the equations? **These other probabilities we can calculate from our dataset.**\n",
    "\n",
    "- The priors can simply be taken to be the percentages of the different classes in the dataset.\n",
    "- What about the likelihoods?\n",
    "    - If the relevant features are **categorical**, we can simply count the numbers of each category in the dataset. For example, if the features are whether the elephant has tusks or not, then, to calculate the likelihoods, we'll just count the tusked and non-tuksed elephants per species.\n",
    "    - If the relevant features are **numerical**, we'll have to do something else. A good way of proceeding is to rely on (presumed) underlying distributions of the data. [Here](https://medium.com/analytics-vidhya/use-naive-bayes-algorithm-for-categorical-and-numerical-data-classification-935d90ab273f) is an example of using the normal distribution to calculate likelihoods. We'll follow this idea below for our elephant data."
   ]
  },
  {
   "cell_type": "markdown",
   "metadata": {},
   "source": [
    "## Elephant Example"
   ]
  },
  {
   "cell_type": "markdown",
   "metadata": {},
   "source": [
    "Suppose we have a dataset that looks like this:"
   ]
  },
  {
   "cell_type": "code",
   "execution_count": 7,
   "metadata": {
    "ExecuteTime": {
     "end_time": "2022-12-20T20:45:49.054635Z",
     "start_time": "2022-12-20T20:45:49.025634Z"
    }
   },
   "outputs": [],
   "source": [
    "elephs = pd.read_csv('data/elephants.csv', usecols=['height (cm)',\n",
    "                                                   'species'])"
   ]
  },
  {
   "cell_type": "code",
   "execution_count": 8,
   "metadata": {
    "ExecuteTime": {
     "end_time": "2022-12-20T20:45:49.720634Z",
     "start_time": "2022-12-20T20:45:49.703136Z"
    }
   },
   "outputs": [
    {
     "data": {
      "text/html": [
       "<div>\n",
       "<style scoped>\n",
       "    .dataframe tbody tr th:only-of-type {\n",
       "        vertical-align: middle;\n",
       "    }\n",
       "\n",
       "    .dataframe tbody tr th {\n",
       "        vertical-align: top;\n",
       "    }\n",
       "\n",
       "    .dataframe thead th {\n",
       "        text-align: right;\n",
       "    }\n",
       "</style>\n",
       "<table border=\"1\" class=\"dataframe\">\n",
       "  <thead>\n",
       "    <tr style=\"text-align: right;\">\n",
       "      <th></th>\n",
       "      <th>height (cm)</th>\n",
       "      <th>species</th>\n",
       "    </tr>\n",
       "  </thead>\n",
       "  <tbody>\n",
       "    <tr>\n",
       "      <th>0</th>\n",
       "      <td>231.683867</td>\n",
       "      <td>maximus</td>\n",
       "    </tr>\n",
       "    <tr>\n",
       "      <th>1</th>\n",
       "      <td>277.714843</td>\n",
       "      <td>cyclotis</td>\n",
       "    </tr>\n",
       "    <tr>\n",
       "      <th>2</th>\n",
       "      <td>268.228131</td>\n",
       "      <td>africana</td>\n",
       "    </tr>\n",
       "    <tr>\n",
       "      <th>3</th>\n",
       "      <td>267.334322</td>\n",
       "      <td>cyclotis</td>\n",
       "    </tr>\n",
       "    <tr>\n",
       "      <th>4</th>\n",
       "      <td>270.165582</td>\n",
       "      <td>maximus</td>\n",
       "    </tr>\n",
       "  </tbody>\n",
       "</table>\n",
       "</div>"
      ],
      "text/plain": [
       "   height (cm)   species\n",
       "0   231.683867   maximus\n",
       "1   277.714843  cyclotis\n",
       "2   268.228131  africana\n",
       "3   267.334322  cyclotis\n",
       "4   270.165582   maximus"
      ]
     },
     "execution_count": 8,
     "metadata": {},
     "output_type": "execute_result"
    }
   ],
   "source": [
    "elephs.head()"
   ]
  },
  {
   "cell_type": "code",
   "execution_count": 9,
   "metadata": {
    "ExecuteTime": {
     "end_time": "2022-12-20T20:45:50.478396Z",
     "start_time": "2022-12-20T20:45:50.464396Z"
    }
   },
   "outputs": [
    {
     "data": {
      "text/plain": [
       "(150, 2)"
      ]
     },
     "execution_count": 9,
     "metadata": {},
     "output_type": "execute_result"
    }
   ],
   "source": [
    "elephs.shape"
   ]
  },
  {
   "cell_type": "code",
   "execution_count": 10,
   "metadata": {
    "ExecuteTime": {
     "end_time": "2022-12-20T20:45:53.367349Z",
     "start_time": "2022-12-20T20:45:53.140348Z"
    },
    "scrolled": true
   },
   "outputs": [
    {
     "data": {
      "image/png": "[encoded data removed]",
      "text/plain": [
       "<Figure size 432x288 with 1 Axes>"
      ]
     },
     "metadata": {},
     "output_type": "display_data"
    }
   ],
   "source": [
    "plt.style.use('fivethirtyeight')\n",
    "\n",
    "fig, ax = plt.subplots()\n",
    "\n",
    "sns.kdeplot(data=elephs[elephs['species'] == 'maximus']['height (cm)'],\n",
    "            ax=ax, label='maximus')\n",
    "sns.kdeplot(data=elephs[elephs['species'] == 'africana']['height (cm)'],\n",
    "            ax=ax, label='africana')\n",
    "sns.kdeplot(data=elephs[elephs['species'] == 'cyclotis']['height (cm)'],\n",
    "            ax=ax, label='cyclotis')\n",
    "\n",
    "plt.legend();"
   ]
  },
  {
   "cell_type": "markdown",
   "metadata": {},
   "source": [
    "### Naive Bayes by Hand"
   ]
  },
  {
   "cell_type": "markdown",
   "metadata": {},
   "source": [
    "Let's first do a train-test split:"
   ]
  },
  {
   "cell_type": "code",
   "execution_count": 11,
   "metadata": {
    "ExecuteTime": {
     "end_time": "2022-12-20T20:46:28.100602Z",
     "start_time": "2022-12-20T20:46:28.084102Z"
    }
   },
   "outputs": [],
   "source": [
    "train, test = train_test_split(elephs, random_state=42)"
   ]
  },
  {
   "cell_type": "markdown",
   "metadata": {},
   "source": [
    "Suppose we want to make prediction of species for some new elephant whose height we've just recorded. We'll suppose the new elephant has a height of:"
   ]
  },
  {
   "cell_type": "code",
   "execution_count": 12,
   "metadata": {
    "ExecuteTime": {
     "end_time": "2022-12-20T20:46:32.525895Z",
     "start_time": "2022-12-20T20:46:32.508925Z"
    }
   },
   "outputs": [
    {
     "data": {
      "text/plain": [
       "271.97994435839485"
      ]
     },
     "execution_count": 12,
     "metadata": {},
     "output_type": "execute_result"
    }
   ],
   "source": [
    "test_pt = test.tail(1)\n",
    "new_ht = test_pt['height (cm)'].values[0]\n",
    "new_ht"
   ]
  },
  {
   "cell_type": "markdown",
   "metadata": {},
   "source": [
    "What we want to calculate is the mean and standard deviation for height for each elephant species in our training data. We'll use these to calculate the relevant likelihoods.\n",
    "\n",
    "So:"
   ]
  },
  {
   "cell_type": "code",
   "execution_count": 13,
   "metadata": {
    "ExecuteTime": {
     "end_time": "2022-12-20T20:47:08.480515Z",
     "start_time": "2022-12-20T20:47:08.460985Z"
    }
   },
   "outputs": [
    {
     "data": {
      "text/html": [
       "<div>\n",
       "<style scoped>\n",
       "    .dataframe tbody tr th:only-of-type {\n",
       "        vertical-align: middle;\n",
       "    }\n",
       "\n",
       "    .dataframe tbody tr th {\n",
       "        vertical-align: top;\n",
       "    }\n",
       "\n",
       "    .dataframe thead th {\n",
       "        text-align: right;\n",
       "    }\n",
       "</style>\n",
       "<table border=\"1\" class=\"dataframe\">\n",
       "  <thead>\n",
       "    <tr style=\"text-align: right;\">\n",
       "      <th></th>\n",
       "      <th>height (cm)</th>\n",
       "    </tr>\n",
       "  </thead>\n",
       "  <tbody>\n",
       "    <tr>\n",
       "      <th>mean</th>\n",
       "      <td>256.759730</td>\n",
       "    </tr>\n",
       "    <tr>\n",
       "      <th>std</th>\n",
       "      <td>19.310858</td>\n",
       "    </tr>\n",
       "  </tbody>\n",
       "</table>\n",
       "</div>"
      ],
      "text/plain": [
       "      height (cm)\n",
       "mean   256.759730\n",
       "std     19.310858"
      ]
     },
     "execution_count": 13,
     "metadata": {},
     "output_type": "execute_result"
    }
   ],
   "source": [
    "max_stats = train[train['species'] == 'maximus'].describe().loc[['mean', 'std'], :]\n",
    "max_stats"
   ]
  },
  {
   "cell_type": "code",
   "execution_count": 14,
   "metadata": {
    "ExecuteTime": {
     "end_time": "2022-12-20T20:47:09.704403Z",
     "start_time": "2022-12-20T20:47:09.687429Z"
    }
   },
   "outputs": [
    {
     "data": {
      "text/html": [
       "<div>\n",
       "<style scoped>\n",
       "    .dataframe tbody tr th:only-of-type {\n",
       "        vertical-align: middle;\n",
       "    }\n",
       "\n",
       "    .dataframe tbody tr th {\n",
       "        vertical-align: top;\n",
       "    }\n",
       "\n",
       "    .dataframe thead th {\n",
       "        text-align: right;\n",
       "    }\n",
       "</style>\n",
       "<table border=\"1\" class=\"dataframe\">\n",
       "  <thead>\n",
       "    <tr style=\"text-align: right;\">\n",
       "      <th></th>\n",
       "      <th>height (cm)</th>\n",
       "    </tr>\n",
       "  </thead>\n",
       "  <tbody>\n",
       "    <tr>\n",
       "      <th>mean</th>\n",
       "      <td>280.66868</td>\n",
       "    </tr>\n",
       "    <tr>\n",
       "      <th>std</th>\n",
       "      <td>13.88397</td>\n",
       "    </tr>\n",
       "  </tbody>\n",
       "</table>\n",
       "</div>"
      ],
      "text/plain": [
       "      height (cm)\n",
       "mean    280.66868\n",
       "std      13.88397"
      ]
     },
     "execution_count": 14,
     "metadata": {},
     "output_type": "execute_result"
    }
   ],
   "source": [
    "cyc_stats = train[train['species'] == 'cyclotis'].describe().loc[['mean', 'std'], :]\n",
    "cyc_stats"
   ]
  },
  {
   "cell_type": "code",
   "execution_count": 15,
   "metadata": {
    "ExecuteTime": {
     "end_time": "2022-12-20T20:47:10.324219Z",
     "start_time": "2022-12-20T20:47:10.310718Z"
    }
   },
   "outputs": [
    {
     "data": {
      "text/html": [
       "<div>\n",
       "<style scoped>\n",
       "    .dataframe tbody tr th:only-of-type {\n",
       "        vertical-align: middle;\n",
       "    }\n",
       "\n",
       "    .dataframe tbody tr th {\n",
       "        vertical-align: top;\n",
       "    }\n",
       "\n",
       "    .dataframe thead th {\n",
       "        text-align: right;\n",
       "    }\n",
       "</style>\n",
       "<table border=\"1\" class=\"dataframe\">\n",
       "  <thead>\n",
       "    <tr style=\"text-align: right;\">\n",
       "      <th></th>\n",
       "      <th>height (cm)</th>\n",
       "    </tr>\n",
       "  </thead>\n",
       "  <tbody>\n",
       "    <tr>\n",
       "      <th>mean</th>\n",
       "      <td>287.361523</td>\n",
       "    </tr>\n",
       "    <tr>\n",
       "      <th>std</th>\n",
       "      <td>15.803853</td>\n",
       "    </tr>\n",
       "  </tbody>\n",
       "</table>\n",
       "</div>"
      ],
      "text/plain": [
       "      height (cm)\n",
       "mean   287.361523\n",
       "std     15.803853"
      ]
     },
     "execution_count": 15,
     "metadata": {},
     "output_type": "execute_result"
    }
   ],
   "source": [
    "afr_stats = train[train['species'] == 'africana'].describe().loc[['mean', 'std'], :]\n",
    "afr_stats"
   ]
  },
  {
   "cell_type": "markdown",
   "metadata": {},
   "source": [
    "$Posterior = \\frac{Likelihood * Prior}{Marginalization}$"
   ]
  },
  {
   "cell_type": "markdown",
   "metadata": {},
   "source": [
    "### Priors"
   ]
  },
  {
   "cell_type": "markdown",
   "metadata": {},
   "source": [
    "The priors we just take directly from the distribution in our data:"
   ]
  },
  {
   "cell_type": "code",
   "execution_count": 16,
   "metadata": {
    "ExecuteTime": {
     "end_time": "2022-12-20T20:47:31.532945Z",
     "start_time": "2022-12-20T20:47:31.514478Z"
    }
   },
   "outputs": [
    {
     "data": {
      "text/plain": [
       "maximus     39\n",
       "cyclotis    39\n",
       "africana    34\n",
       "Name: species, dtype: int64"
      ]
     },
     "execution_count": 16,
     "metadata": {},
     "output_type": "execute_result"
    }
   ],
   "source": [
    "train['species'].value_counts()"
   ]
  },
  {
   "cell_type": "code",
   "execution_count": 17,
   "metadata": {
    "ExecuteTime": {
     "end_time": "2022-12-20T20:47:46.876506Z",
     "start_time": "2022-12-20T20:47:46.861975Z"
    }
   },
   "outputs": [
    {
     "data": {
      "text/plain": [
       "0.3482142857142857"
      ]
     },
     "execution_count": 17,
     "metadata": {},
     "output_type": "execute_result"
    }
   ],
   "source": [
    "max_prior = len(train[ train['species'] == 'maximus']) / len(train)\n",
    "max_prior"
   ]
  },
  {
   "cell_type": "code",
   "execution_count": 18,
   "metadata": {
    "ExecuteTime": {
     "end_time": "2022-12-20T20:47:47.232752Z",
     "start_time": "2022-12-20T20:47:47.217751Z"
    }
   },
   "outputs": [
    {
     "data": {
      "text/plain": [
       "0.3482142857142857"
      ]
     },
     "execution_count": 18,
     "metadata": {},
     "output_type": "execute_result"
    }
   ],
   "source": [
    "cyc_prior = len(train[ train['species'] == 'cyclotis']) / len(train)\n",
    "cyc_prior"
   ]
  },
  {
   "cell_type": "code",
   "execution_count": 19,
   "metadata": {
    "ExecuteTime": {
     "end_time": "2022-12-20T20:47:47.712275Z",
     "start_time": "2022-12-20T20:47:47.692774Z"
    }
   },
   "outputs": [
    {
     "data": {
      "text/plain": [
       "0.30357142857142855"
      ]
     },
     "execution_count": 19,
     "metadata": {},
     "output_type": "execute_result"
    }
   ],
   "source": [
    "afr_prior = len(train[ train['species'] == 'africana']) / len(train)\n",
    "afr_prior"
   ]
  },
  {
   "cell_type": "markdown",
   "metadata": {},
   "source": [
    "### Calculation of Likelihoods"
   ]
  },
  {
   "cell_type": "markdown",
   "metadata": {},
   "source": [
    "We'll use the PDFs of the normal distributions with the discovered means and standard deviations to calculate likelihoods:"
   ]
  },
  {
   "cell_type": "code",
   "execution_count": 20,
   "metadata": {
    "ExecuteTime": {
     "end_time": "2022-12-20T20:49:06.423911Z",
     "start_time": "2022-12-20T20:49:06.416406Z"
    }
   },
   "outputs": [
    {
     "data": {
      "text/plain": [
       "0.015143088932356271"
      ]
     },
     "execution_count": 20,
     "metadata": {},
     "output_type": "execute_result"
    }
   ],
   "source": [
    "max_likelihood = stats.norm(loc=max_stats['height (cm)'][0],\n",
    "           scale=max_stats['height (cm)'][1]).pdf(new_ht)\n",
    "max_likelihood"
   ]
  },
  {
   "cell_type": "code",
   "execution_count": 21,
   "metadata": {
    "ExecuteTime": {
     "end_time": "2022-12-20T20:49:08.728558Z",
     "start_time": "2022-12-20T20:49:08.711557Z"
    }
   },
   "outputs": [
    {
     "data": {
      "text/plain": [
       "0.02362398076835127"
      ]
     },
     "execution_count": 21,
     "metadata": {},
     "output_type": "execute_result"
    }
   ],
   "source": [
    "cyc_likelihood = stats.norm(loc=cyc_stats['height (cm)'][0],\n",
    "          scale=cyc_stats['height (cm)'][1]).pdf(new_ht)\n",
    "cyc_likelihood"
   ]
  },
  {
   "cell_type": "code",
   "execution_count": 22,
   "metadata": {
    "ExecuteTime": {
     "end_time": "2022-12-20T20:49:09.224556Z",
     "start_time": "2022-12-20T20:49:09.214557Z"
    }
   },
   "outputs": [
    {
     "data": {
      "text/plain": [
       "0.015719872724821355"
      ]
     },
     "execution_count": 22,
     "metadata": {},
     "output_type": "execute_result"
    }
   ],
   "source": [
    "afr_likelihood = stats.norm(loc=afr_stats['height (cm)'][0],\n",
    "          scale=afr_stats['height (cm)'][1]).pdf(new_ht)\n",
    "afr_likelihood"
   ]
  },
  {
   "cell_type": "markdown",
   "metadata": {},
   "source": [
    "### Posteriors"
   ]
  },
  {
   "cell_type": "markdown",
   "metadata": {},
   "source": [
    "What we have just calculated are (approximations of) the likelihoods, i.e.:\n",
    "\n",
    "- $P(height=263 | species=maximus) = 1.51\\%$\n",
    "- $P(height=263 | species=cyclotis) = 2.36\\%$\n",
    "- $P(height=263 | species=africana) = 1.57\\%$"
   ]
  },
  {
   "cell_type": "markdown",
   "metadata": {},
   "source": [
    "(Notice that they do NOT sum to 1!) But what we'd really like to know are the posteriors. I.e. what are:\n",
    "\n",
    "- $P(species=maximus | height=263)$?\n",
    "- $P(species=cyclotis | height=263)$?\n",
    "- $P(species=africana | height=263)$?"
   ]
  },
  {
   "cell_type": "markdown",
   "metadata": {},
   "source": [
    "To get these we can simply apply Bayes's Theorem! Now our priors (based on our training data) are $\\frac{39}{112}$ for both maximus and cyclotis and $\\frac{34}{112}$ for africana.\n",
    "\n",
    "So we can calculate the probability of the evidence (the denominator in Bayes's Theorem) as:\n",
    "\n",
    "$P(height=263) = \\frac{39}{112}(0.0151 + 0.0236) + \\frac{34}{112}(0.0157) = 0.0183$"
   ]
  },
  {
   "cell_type": "code",
   "execution_count": 23,
   "metadata": {
    "ExecuteTime": {
     "end_time": "2022-12-20T20:50:14.918306Z",
     "start_time": "2022-12-20T20:50:14.899765Z"
    }
   },
   "outputs": [
    {
     "data": {
      "text/plain": [
       "0.018271351705102856"
      ]
     },
     "execution_count": 23,
     "metadata": {},
     "output_type": "execute_result"
    }
   ],
   "source": [
    "prob_evidence = (max_prior * max_likelihood) + (cyc_prior * cyc_likelihood) + (afr_prior * afr_likelihood)\n",
    "prob_evidence"
   ]
  },
  {
   "cell_type": "markdown",
   "metadata": {},
   "source": [
    "And therefore calculate the posteriors using Bayes's Theorem:\n",
    "\n",
    "- $P(species=maximus | height=263) = \\frac{39}{112}\\frac{0.0151}{0.0183} = 28.9\\%$;\n",
    "\n",
    "\n",
    "- $P(species=cyclotis | height=263) = \\frac{39}{112}\\frac{0.0236}{0.0183} = 45.0\\%$;\n",
    "\n",
    "\n",
    "- $P(species=africana | height=263) = \\frac{34}{112}\\frac{0.0157}{0.0183} = 26.1\\%$."
   ]
  },
  {
   "cell_type": "code",
   "execution_count": 25,
   "metadata": {
    "ExecuteTime": {
     "end_time": "2022-12-20T20:50:50.398377Z",
     "start_time": "2022-12-20T20:50:50.387878Z"
    }
   },
   "outputs": [
    {
     "name": "stdout",
     "output_type": "stream",
     "text": [
      "0.2885960481301271\n",
      "0.4502243578772571\n",
      "0.26117959399261587\n"
     ]
    }
   ],
   "source": [
    "print(max_prior * max_likelihood / prob_evidence)\n",
    "print(cyc_prior * cyc_likelihood / prob_evidence)\n",
    "print(afr_prior * afr_likelihood / prob_evidence)"
   ]
  },
  {
   "cell_type": "code",
   "execution_count": 26,
   "metadata": {
    "ExecuteTime": {
     "end_time": "2022-12-20T20:50:51.311324Z",
     "start_time": "2022-12-20T20:50:51.298322Z"
    }
   },
   "outputs": [
    {
     "data": {
      "text/plain": [
       "1.0"
      ]
     },
     "execution_count": 26,
     "metadata": {},
     "output_type": "execute_result"
    }
   ],
   "source": [
    "(max_prior * max_likelihood / prob_evidence) + (cyc_prior * cyc_likelihood / prob_evidence) +(afr_prior * afr_likelihood / prob_evidence)"
   ]
  },
  {
   "cell_type": "markdown",
   "metadata": {},
   "source": [
    "Bayes's Theorem shows us that the largest posterior belongs to the *cyclotis* species.\n",
    "\n",
    "Therefore, **the *cyclotis* species will be our prediction** for an elephant of this height."
   ]
  },
  {
   "cell_type": "markdown",
   "metadata": {},
   "source": [
    "Is that prediction correct? Let's check!"
   ]
  },
  {
   "cell_type": "code",
   "execution_count": 27,
   "metadata": {
    "ExecuteTime": {
     "end_time": "2022-12-20T20:51:15.874570Z",
     "start_time": "2022-12-20T20:51:15.860044Z"
    },
    "scrolled": true
   },
   "outputs": [
    {
     "data": {
      "text/plain": [
       "27    africana\n",
       "Name: species, dtype: object"
      ]
     },
     "execution_count": 27,
     "metadata": {},
     "output_type": "execute_result"
    }
   ],
   "source": [
    "test_pt['species']"
   ]
  },
  {
   "cell_type": "markdown",
   "metadata": {},
   "source": [
    "Turns out we were dealing with a shorter-than-average member of the *africana* species rather than a more typical member of the *cyclotis* species.\n",
    "\n",
    "Let's see if we can get a better model by adding more complexity!"
   ]
  },
  {
   "cell_type": "markdown",
   "metadata": {},
   "source": [
    "### More Dimensions"
   ]
  },
  {
   "cell_type": "markdown",
   "metadata": {},
   "source": [
    "In fact, we also have elephant *weight* data available in addition to their heights. To accommodate multiple features we can make use of **multivariate normal** distributions."
   ]
  },
  {
   "cell_type": "markdown",
   "metadata": {},
   "source": [
    "![multivariate-normal](https://upload.wikimedia.org/wikipedia/commons/thumb/8/8e/MultivariateNormal.png/440px-MultivariateNormal.png)"
   ]
  },
  {
   "cell_type": "markdown",
   "metadata": {},
   "source": [
    "#### What's \"Naive\" about This?"
   ]
  },
  {
   "cell_type": "markdown",
   "metadata": {},
   "source": [
    "For multiple predictors, we make the simplifying assumption that **our predictors are probablistically independent**. This will often be unrealistic, but it simplifies our calculations a great deal."
   ]
  },
  {
   "cell_type": "code",
   "execution_count": 28,
   "metadata": {
    "ExecuteTime": {
     "end_time": "2022-12-20T20:53:24.256355Z",
     "start_time": "2022-12-20T20:53:24.247811Z"
    }
   },
   "outputs": [],
   "source": [
    "elephants = pd.read_csv('data/elephants.csv',\n",
    "                       usecols=['height (cm)', 'weight (lbs)', 'species'])"
   ]
  },
  {
   "cell_type": "code",
   "execution_count": 29,
   "metadata": {
    "ExecuteTime": {
     "end_time": "2022-12-20T20:53:24.827853Z",
     "start_time": "2022-12-20T20:53:24.809639Z"
    }
   },
   "outputs": [
    {
     "data": {
      "text/html": [
       "<div>\n",
       "<style scoped>\n",
       "    .dataframe tbody tr th:only-of-type {\n",
       "        vertical-align: middle;\n",
       "    }\n",
       "\n",
       "    .dataframe tbody tr th {\n",
       "        vertical-align: top;\n",
       "    }\n",
       "\n",
       "    .dataframe thead th {\n",
       "        text-align: right;\n",
       "    }\n",
       "</style>\n",
       "<table border=\"1\" class=\"dataframe\">\n",
       "  <thead>\n",
       "    <tr style=\"text-align: right;\">\n",
       "      <th></th>\n",
       "      <th>height (cm)</th>\n",
       "      <th>weight (lbs)</th>\n",
       "      <th>species</th>\n",
       "    </tr>\n",
       "  </thead>\n",
       "  <tbody>\n",
       "    <tr>\n",
       "      <th>0</th>\n",
       "      <td>231.683867</td>\n",
       "      <td>6469.491895</td>\n",
       "      <td>maximus</td>\n",
       "    </tr>\n",
       "    <tr>\n",
       "      <th>1</th>\n",
       "      <td>277.714843</td>\n",
       "      <td>7639.806953</td>\n",
       "      <td>cyclotis</td>\n",
       "    </tr>\n",
       "    <tr>\n",
       "      <th>2</th>\n",
       "      <td>268.228131</td>\n",
       "      <td>8561.517693</td>\n",
       "      <td>africana</td>\n",
       "    </tr>\n",
       "    <tr>\n",
       "      <th>3</th>\n",
       "      <td>267.334322</td>\n",
       "      <td>7673.608014</td>\n",
       "      <td>cyclotis</td>\n",
       "    </tr>\n",
       "    <tr>\n",
       "      <th>4</th>\n",
       "      <td>270.165582</td>\n",
       "      <td>7259.901759</td>\n",
       "      <td>maximus</td>\n",
       "    </tr>\n",
       "  </tbody>\n",
       "</table>\n",
       "</div>"
      ],
      "text/plain": [
       "   height (cm)  weight (lbs)   species\n",
       "0   231.683867   6469.491895   maximus\n",
       "1   277.714843   7639.806953  cyclotis\n",
       "2   268.228131   8561.517693  africana\n",
       "3   267.334322   7673.608014  cyclotis\n",
       "4   270.165582   7259.901759   maximus"
      ]
     },
     "execution_count": 29,
     "metadata": {},
     "output_type": "execute_result"
    }
   ],
   "source": [
    "elephants.head()"
   ]
  },
  {
   "cell_type": "code",
   "execution_count": 30,
   "metadata": {
    "ExecuteTime": {
     "end_time": "2022-12-20T20:53:27.807784Z",
     "start_time": "2022-12-20T20:53:27.791784Z"
    }
   },
   "outputs": [],
   "source": [
    "two_dim_train, two_dim_test = train_test_split(elephants, random_state=42)"
   ]
  },
  {
   "cell_type": "code",
   "execution_count": 31,
   "metadata": {
    "ExecuteTime": {
     "end_time": "2022-12-20T20:53:30.437316Z",
     "start_time": "2022-12-20T20:53:30.425786Z"
    }
   },
   "outputs": [],
   "source": [
    "maximus = two_dim_train[two_dim_train['species'] == 'maximus']\n",
    "cyclotis = two_dim_train[two_dim_train['species'] == 'cyclotis']\n",
    "africana = two_dim_train[two_dim_train['species'] == 'africana']"
   ]
  },
  {
   "cell_type": "markdown",
   "metadata": {},
   "source": [
    "Suppose our new elephant with a height of 272 cm also has a weight of 8590 lbs."
   ]
  },
  {
   "cell_type": "code",
   "execution_count": 32,
   "metadata": {
    "ExecuteTime": {
     "end_time": "2022-12-20T20:53:37.078498Z",
     "start_time": "2022-12-20T20:53:37.061500Z"
    }
   },
   "outputs": [
    {
     "data": {
      "text/plain": [
       "(271.97994435839485, 8589.730878685596)"
      ]
     },
     "execution_count": 32,
     "metadata": {},
     "output_type": "execute_result"
    }
   ],
   "source": [
    "test_pt_2 = two_dim_test.tail(1)\n",
    "\n",
    "test_ht, test_wt = test_pt_2['height (cm)'].values[0], test_pt_2['weight (lbs)'].values[0]\n",
    "test_ht, test_wt"
   ]
  },
  {
   "cell_type": "markdown",
   "metadata": {},
   "source": [
    "#### Priors"
   ]
  },
  {
   "cell_type": "code",
   "execution_count": 33,
   "metadata": {
    "ExecuteTime": {
     "end_time": "2022-12-20T20:53:42.899989Z",
     "start_time": "2022-12-20T20:53:42.887490Z"
    }
   },
   "outputs": [
    {
     "data": {
      "text/plain": [
       "maximus     39\n",
       "cyclotis    39\n",
       "africana    34\n",
       "Name: species, dtype: int64"
      ]
     },
     "execution_count": 33,
     "metadata": {},
     "output_type": "execute_result"
    }
   ],
   "source": [
    "two_dim_train['species'].value_counts()"
   ]
  },
  {
   "cell_type": "code",
   "execution_count": 34,
   "metadata": {
    "ExecuteTime": {
     "end_time": "2022-12-20T20:53:43.658568Z",
     "start_time": "2022-12-20T20:53:43.644539Z"
    }
   },
   "outputs": [],
   "source": [
    "max__prior = len(train[ train['species'] == 'maximus']) / len(train)"
   ]
  },
  {
   "cell_type": "code",
   "execution_count": 35,
   "metadata": {
    "ExecuteTime": {
     "end_time": "2022-12-20T20:53:44.324652Z",
     "start_time": "2022-12-20T20:53:44.318152Z"
    }
   },
   "outputs": [],
   "source": [
    "cyc_prior = len(train[ train['species'] == 'cyclotis']) / len(train)"
   ]
  },
  {
   "cell_type": "code",
   "execution_count": 36,
   "metadata": {
    "ExecuteTime": {
     "end_time": "2022-12-20T20:53:44.836169Z",
     "start_time": "2022-12-20T20:53:44.822670Z"
    }
   },
   "outputs": [],
   "source": [
    "afr_prior = len(train[ train['species'] == 'africana']) / len(train)"
   ]
  },
  {
   "cell_type": "markdown",
   "metadata": {},
   "source": [
    "#### Likelihoods"
   ]
  },
  {
   "cell_type": "code",
   "execution_count": 37,
   "metadata": {
    "ExecuteTime": {
     "end_time": "2022-12-20T20:54:18.003284Z",
     "start_time": "2022-12-20T20:54:17.986818Z"
    }
   },
   "outputs": [
    {
     "data": {
      "text/plain": [
       "4.895550119031081e-09"
      ]
     },
     "execution_count": 37,
     "metadata": {},
     "output_type": "execute_result"
    }
   ],
   "source": [
    "likeli_max = stats.multivariate_normal(mean=maximus.mean(),\n",
    "                          cov=maximus.cov()).pdf([test_ht, test_wt])\n",
    "likeli_max"
   ]
  },
  {
   "cell_type": "code",
   "execution_count": 38,
   "metadata": {
    "ExecuteTime": {
     "end_time": "2022-12-20T20:54:18.605601Z",
     "start_time": "2022-12-20T20:54:18.595605Z"
    }
   },
   "outputs": [
    {
     "data": {
      "text/plain": [
       "3.198475540986167e-06"
      ]
     },
     "execution_count": 38,
     "metadata": {},
     "output_type": "execute_result"
    }
   ],
   "source": [
    "likeli_cyc = stats.multivariate_normal(mean=cyclotis.mean(),\n",
    "                         cov=cyclotis.cov()).pdf([test_ht, test_wt])\n",
    "likeli_cyc"
   ]
  },
  {
   "cell_type": "code",
   "execution_count": 39,
   "metadata": {
    "ExecuteTime": {
     "end_time": "2022-12-20T20:54:19.147135Z",
     "start_time": "2022-12-20T20:54:19.137133Z"
    }
   },
   "outputs": [
    {
     "data": {
      "text/plain": [
       "1.226897058133714e-05"
      ]
     },
     "execution_count": 39,
     "metadata": {},
     "output_type": "execute_result"
    }
   ],
   "source": [
    "likeli_afr = stats.multivariate_normal(mean=africana.mean(),\n",
    "                         cov=africana.cov()).pdf([test_ht, test_wt])\n",
    "likeli_afr"
   ]
  },
  {
   "cell_type": "markdown",
   "metadata": {},
   "source": [
    "#### Posteriors"
   ]
  },
  {
   "cell_type": "code",
   "execution_count": 40,
   "metadata": {
    "ExecuteTime": {
     "end_time": "2022-12-20T20:54:35.994997Z",
     "start_time": "2022-12-20T20:54:35.980999Z"
    }
   },
   "outputs": [
    {
     "name": "stdout",
     "output_type": "stream",
     "text": [
      "0.00031640654160000267\n",
      "0.20672213739197257\n",
      "0.7929614560664275\n"
     ]
    }
   ],
   "source": [
    "post_max = likeli_max / sum([likeli_max, likeli_cyc, likeli_afr])\n",
    "post_cyc = likeli_cyc / sum([likeli_max, likeli_cyc, likeli_afr])\n",
    "post_afr = likeli_afr / sum([likeli_max, likeli_cyc, likeli_afr])\n",
    "\n",
    "print(post_max)\n",
    "print(post_cyc)\n",
    "print(post_afr)"
   ]
  },
  {
   "cell_type": "markdown",
   "metadata": {},
   "source": [
    "### [`GaussianNB`](https://scikit-learn.org/stable/modules/generated/sklearn.naive_bayes.GaussianNB.html)"
   ]
  },
  {
   "cell_type": "code",
   "execution_count": 41,
   "metadata": {
    "ExecuteTime": {
     "end_time": "2022-12-20T20:55:28.874067Z",
     "start_time": "2022-12-20T20:55:28.871568Z"
    }
   },
   "outputs": [],
   "source": [
    "# Note that this sets priors based on the training data\n",
    "# distribution by default!\n",
    "\n",
    "gnb = GaussianNB()"
   ]
  },
  {
   "cell_type": "code",
   "execution_count": 42,
   "metadata": {
    "ExecuteTime": {
     "end_time": "2022-12-20T20:56:08.025540Z",
     "start_time": "2022-12-20T20:56:08.007066Z"
    }
   },
   "outputs": [],
   "source": [
    "X = two_dim_train.drop('species', axis=1)\n",
    "y = two_dim_train['species']"
   ]
  },
  {
   "cell_type": "code",
   "execution_count": 44,
   "metadata": {
    "ExecuteTime": {
     "end_time": "2022-12-20T20:56:16.286503Z",
     "start_time": "2022-12-20T20:56:16.266472Z"
    }
   },
   "outputs": [
    {
     "data": {
      "text/plain": [
       "4       maximus\n",
       "32      maximus\n",
       "142     maximus\n",
       "85     cyclotis\n",
       "86     africana\n",
       "         ...   \n",
       "71     cyclotis\n",
       "106     maximus\n",
       "14     africana\n",
       "92      maximus\n",
       "102     maximus\n",
       "Name: species, Length: 112, dtype: object"
      ]
     },
     "execution_count": 44,
     "metadata": {},
     "output_type": "execute_result"
    }
   ],
   "source": [
    "y"
   ]
  },
  {
   "cell_type": "code",
   "execution_count": 43,
   "metadata": {
    "ExecuteTime": {
     "end_time": "2022-12-20T20:56:09.803587Z",
     "start_time": "2022-12-20T20:56:09.783588Z"
    }
   },
   "outputs": [
    {
     "data": {
      "text/plain": [
       "GaussianNB()"
      ]
     },
     "execution_count": 43,
     "metadata": {},
     "output_type": "execute_result"
    }
   ],
   "source": [
    "gnb.fit(X, y)"
   ]
  },
  {
   "cell_type": "code",
   "execution_count": 45,
   "metadata": {
    "ExecuteTime": {
     "end_time": "2022-12-20T20:56:56.203410Z",
     "start_time": "2022-12-20T20:56:56.187913Z"
    }
   },
   "outputs": [
    {
     "data": {
      "text/plain": [
       "array([[7.71114574e-01, 2.28678233e-01, 2.07192909e-04]])"
      ]
     },
     "execution_count": 45,
     "metadata": {},
     "output_type": "execute_result"
    }
   ],
   "source": [
    "gnb.predict_proba(np.array([test_ht, test_wt]).reshape(1, -1))"
   ]
  },
  {
   "cell_type": "markdown",
   "metadata": {},
   "source": [
    "Did we get it right this time?"
   ]
  },
  {
   "cell_type": "code",
   "execution_count": 46,
   "metadata": {
    "ExecuteTime": {
     "end_time": "2022-12-20T20:57:00.117621Z",
     "start_time": "2022-12-20T20:57:00.104091Z"
    }
   },
   "outputs": [
    {
     "data": {
      "text/plain": [
       "'africana'"
      ]
     },
     "execution_count": 46,
     "metadata": {},
     "output_type": "execute_result"
    }
   ],
   "source": [
    "gnb.predict(np.array([test_ht, test_wt]).reshape(1, -1))[0]"
   ]
  },
  {
   "cell_type": "code",
   "execution_count": 47,
   "metadata": {
    "ExecuteTime": {
     "end_time": "2022-12-20T20:57:01.465278Z",
     "start_time": "2022-12-20T20:57:01.447248Z"
    }
   },
   "outputs": [
    {
     "data": {
      "text/plain": [
       "'africana'"
      ]
     },
     "execution_count": 47,
     "metadata": {},
     "output_type": "execute_result"
    }
   ],
   "source": [
    "test_pt_2['species'].values[0]"
   ]
  },
  {
   "cell_type": "markdown",
   "metadata": {},
   "source": [
    "All right! Note that the class names are arranged alphabetically:"
   ]
  },
  {
   "cell_type": "code",
   "execution_count": 48,
   "metadata": {
    "ExecuteTime": {
     "end_time": "2022-12-20T20:57:04.050182Z",
     "start_time": "2022-12-20T20:57:04.033182Z"
    }
   },
   "outputs": [
    {
     "data": {
      "text/plain": [
       "array(['africana', 'cyclotis', 'maximus'], dtype='<U8')"
      ]
     },
     "execution_count": 48,
     "metadata": {},
     "output_type": "execute_result"
    }
   ],
   "source": [
    "gnb.classes_"
   ]
  },
  {
   "cell_type": "markdown",
   "metadata": {},
   "source": [
    "Let's check the model's accuracy on our test data:"
   ]
  },
  {
   "cell_type": "code",
   "execution_count": 49,
   "metadata": {
    "ExecuteTime": {
     "end_time": "2022-12-20T20:57:56.379630Z",
     "start_time": "2022-12-20T20:57:56.363630Z"
    }
   },
   "outputs": [
    {
     "data": {
      "text/plain": [
       "0.8947368421052632"
      ]
     },
     "execution_count": 49,
     "metadata": {},
     "output_type": "execute_result"
    }
   ],
   "source": [
    "X_test, y_test = two_dim_test.drop('species', axis=1), two_dim_test['species']\n",
    "gnb.score(X_test, y_test)"
   ]
  },
  {
   "cell_type": "markdown",
   "metadata": {},
   "source": [
    "What about the confusion matrix?"
   ]
  },
  {
   "cell_type": "code",
   "execution_count": 50,
   "metadata": {
    "ExecuteTime": {
     "end_time": "2022-12-20T20:57:59.369064Z",
     "start_time": "2022-12-20T20:57:59.169564Z"
    }
   },
   "outputs": [
    {
     "data": {
      "image/png": "[encoded data removed]",
      "text/plain": [
       "<Figure size 432x288 with 2 Axes>"
      ]
     },
     "metadata": {},
     "output_type": "display_data"
    }
   ],
   "source": [
    "plot_confusion_matrix(gnb, X_test, y_test);"
   ]
  },
  {
   "cell_type": "markdown",
   "metadata": {},
   "source": [
    "## Comma Survey Example"
   ]
  },
  {
   "cell_type": "code",
   "execution_count": 51,
   "metadata": {
    "ExecuteTime": {
     "end_time": "2022-12-20T21:02:28.586608Z",
     "start_time": "2022-12-20T21:02:28.551609Z"
    }
   },
   "outputs": [],
   "source": [
    "commas = pd.read_csv('data/comma-survey.csv')"
   ]
  },
  {
   "cell_type": "code",
   "execution_count": 52,
   "metadata": {
    "ExecuteTime": {
     "end_time": "2022-12-20T21:02:29.979680Z",
     "start_time": "2022-12-20T21:02:29.956181Z"
    }
   },
   "outputs": [
    {
     "data": {
      "text/html": [
       "<div>\n",
       "<style scoped>\n",
       "    .dataframe tbody tr th:only-of-type {\n",
       "        vertical-align: middle;\n",
       "    }\n",
       "\n",
       "    .dataframe tbody tr th {\n",
       "        vertical-align: top;\n",
       "    }\n",
       "\n",
       "    .dataframe thead th {\n",
       "        text-align: right;\n",
       "    }\n",
       "</style>\n",
       "<table border=\"1\" class=\"dataframe\">\n",
       "  <thead>\n",
       "    <tr style=\"text-align: right;\">\n",
       "      <th></th>\n",
       "      <th>RespondentID</th>\n",
       "      <th>In your opinion, which sentence is more gramatically correct?</th>\n",
       "      <th>Prior to reading about it above, had you heard of the serial (or Oxford) comma?</th>\n",
       "      <th>How much, if at all, do you care about the use (or lack thereof) of the serial (or Oxford) comma in grammar?</th>\n",
       "      <th>How would you write the following sentence?</th>\n",
       "      <th>When faced with using the word \"data\", have you ever spent time considering if the word was a singular or plural noun?</th>\n",
       "      <th>How much, if at all, do you care about the debate over the use of the word \"data\" as a singluar or plural noun?</th>\n",
       "      <th>In your opinion, how important or unimportant is proper use of grammar?</th>\n",
       "      <th>Gender</th>\n",
       "      <th>Age</th>\n",
       "      <th>Household Income</th>\n",
       "      <th>Education</th>\n",
       "      <th>Location (Census Region)</th>\n",
       "    </tr>\n",
       "  </thead>\n",
       "  <tbody>\n",
       "    <tr>\n",
       "      <th>0</th>\n",
       "      <td>3292953864</td>\n",
       "      <td>It's important for a person to be honest, kind...</td>\n",
       "      <td>Yes</td>\n",
       "      <td>Some</td>\n",
       "      <td>Some experts say it's important to drink milk,...</td>\n",
       "      <td>No</td>\n",
       "      <td>Not much</td>\n",
       "      <td>Somewhat important</td>\n",
       "      <td>Male</td>\n",
       "      <td>30-44</td>\n",
       "      <td>$50,000 - $99,999</td>\n",
       "      <td>Bachelor degree</td>\n",
       "      <td>South Atlantic</td>\n",
       "    </tr>\n",
       "    <tr>\n",
       "      <th>1</th>\n",
       "      <td>3292950324</td>\n",
       "      <td>It's important for a person to be honest, kind...</td>\n",
       "      <td>No</td>\n",
       "      <td>Not much</td>\n",
       "      <td>Some experts say it's important to drink milk,...</td>\n",
       "      <td>No</td>\n",
       "      <td>Not much</td>\n",
       "      <td>Somewhat unimportant</td>\n",
       "      <td>Male</td>\n",
       "      <td>30-44</td>\n",
       "      <td>$50,000 - $99,999</td>\n",
       "      <td>Graduate degree</td>\n",
       "      <td>Mountain</td>\n",
       "    </tr>\n",
       "    <tr>\n",
       "      <th>2</th>\n",
       "      <td>3292942669</td>\n",
       "      <td>It's important for a person to be honest, kind...</td>\n",
       "      <td>Yes</td>\n",
       "      <td>Some</td>\n",
       "      <td>Some experts say it's important to drink milk,...</td>\n",
       "      <td>Yes</td>\n",
       "      <td>Not at all</td>\n",
       "      <td>Very important</td>\n",
       "      <td>Male</td>\n",
       "      <td>30-44</td>\n",
       "      <td>NaN</td>\n",
       "      <td>NaN</td>\n",
       "      <td>East North Central</td>\n",
       "    </tr>\n",
       "    <tr>\n",
       "      <th>3</th>\n",
       "      <td>3292932796</td>\n",
       "      <td>It's important for a person to be honest, kind...</td>\n",
       "      <td>Yes</td>\n",
       "      <td>Some</td>\n",
       "      <td>Some experts say it's important to drink milk,...</td>\n",
       "      <td>No</td>\n",
       "      <td>Some</td>\n",
       "      <td>Somewhat important</td>\n",
       "      <td>Male</td>\n",
       "      <td>18-29</td>\n",
       "      <td>NaN</td>\n",
       "      <td>Less than high school degree</td>\n",
       "      <td>Middle Atlantic</td>\n",
       "    </tr>\n",
       "    <tr>\n",
       "      <th>4</th>\n",
       "      <td>3292932522</td>\n",
       "      <td>It's important for a person to be honest, kind...</td>\n",
       "      <td>No</td>\n",
       "      <td>Not much</td>\n",
       "      <td>Some experts say it's important to drink milk,...</td>\n",
       "      <td>No</td>\n",
       "      <td>Not much</td>\n",
       "      <td>NaN</td>\n",
       "      <td>NaN</td>\n",
       "      <td>NaN</td>\n",
       "      <td>NaN</td>\n",
       "      <td>NaN</td>\n",
       "      <td>NaN</td>\n",
       "    </tr>\n",
       "  </tbody>\n",
       "</table>\n",
       "</div>"
      ],
      "text/plain": [
       "   RespondentID In your opinion, which sentence is more gramatically correct?  \\\n",
       "0    3292953864  It's important for a person to be honest, kind...              \n",
       "1    3292950324  It's important for a person to be honest, kind...              \n",
       "2    3292942669  It's important for a person to be honest, kind...              \n",
       "3    3292932796  It's important for a person to be honest, kind...              \n",
       "4    3292932522  It's important for a person to be honest, kind...              \n",
       "\n",
       "  Prior to reading about it above, had you heard of the serial (or Oxford) comma?  \\\n",
       "0                                                Yes                                \n",
       "1                                                 No                                \n",
       "2                                                Yes                                \n",
       "3                                                Yes                                \n",
       "4                                                 No                                \n",
       "\n",
       "  How much, if at all, do you care about the use (or lack thereof) of the serial (or Oxford) comma in grammar?  \\\n",
       "0                                               Some                                                             \n",
       "1                                           Not much                                                             \n",
       "2                                               Some                                                             \n",
       "3                                               Some                                                             \n",
       "4                                           Not much                                                             \n",
       "\n",
       "         How would you write the following sentence?  \\\n",
       "0  Some experts say it's important to drink milk,...   \n",
       "1  Some experts say it's important to drink milk,...   \n",
       "2  Some experts say it's important to drink milk,...   \n",
       "3  Some experts say it's important to drink milk,...   \n",
       "4  Some experts say it's important to drink milk,...   \n",
       "\n",
       "  When faced with using the word \"data\", have you ever spent time considering if the word was a singular or plural noun?  \\\n",
       "0                                                 No                                                                       \n",
       "1                                                 No                                                                       \n",
       "2                                                Yes                                                                       \n",
       "3                                                 No                                                                       \n",
       "4                                                 No                                                                       \n",
       "\n",
       "  How much, if at all, do you care about the debate over the use of the word \"data\" as a singluar or plural noun?  \\\n",
       "0                                           Not much                                                                \n",
       "1                                           Not much                                                                \n",
       "2                                         Not at all                                                                \n",
       "3                                               Some                                                                \n",
       "4                                           Not much                                                                \n",
       "\n",
       "  In your opinion, how important or unimportant is proper use of grammar?  \\\n",
       "0                                 Somewhat important                        \n",
       "1                               Somewhat unimportant                        \n",
       "2                                     Very important                        \n",
       "3                                 Somewhat important                        \n",
       "4                                                NaN                        \n",
       "\n",
       "  Gender    Age   Household Income                     Education  \\\n",
       "0   Male  30-44  $50,000 - $99,999               Bachelor degree   \n",
       "1   Male  30-44  $50,000 - $99,999               Graduate degree   \n",
       "2   Male  30-44                NaN                           NaN   \n",
       "3   Male  18-29                NaN  Less than high school degree   \n",
       "4    NaN    NaN                NaN                           NaN   \n",
       "\n",
       "  Location (Census Region)  \n",
       "0           South Atlantic  \n",
       "1                 Mountain  \n",
       "2       East North Central  \n",
       "3          Middle Atlantic  \n",
       "4                      NaN  "
      ]
     },
     "execution_count": 52,
     "metadata": {},
     "output_type": "execute_result"
    }
   ],
   "source": [
    "commas.head()"
   ]
  },
  {
   "cell_type": "code",
   "execution_count": 53,
   "metadata": {
    "ExecuteTime": {
     "end_time": "2022-12-20T21:02:33.553344Z",
     "start_time": "2022-12-20T21:02:33.541845Z"
    }
   },
   "outputs": [
    {
     "data": {
      "text/plain": [
       "924"
      ]
     },
     "execution_count": 53,
     "metadata": {},
     "output_type": "execute_result"
    }
   ],
   "source": [
    "commas.isna().sum().sum()"
   ]
  },
  {
   "cell_type": "markdown",
   "metadata": {},
   "source": [
    "We'll go ahead and drop the NaNs:"
   ]
  },
  {
   "cell_type": "code",
   "execution_count": 54,
   "metadata": {
    "ExecuteTime": {
     "end_time": "2022-12-20T21:02:35.334649Z",
     "start_time": "2022-12-20T21:02:35.314148Z"
    }
   },
   "outputs": [],
   "source": [
    "commas = commas.dropna()"
   ]
  },
  {
   "cell_type": "code",
   "execution_count": 55,
   "metadata": {
    "ExecuteTime": {
     "end_time": "2022-12-20T21:02:35.861648Z",
     "start_time": "2022-12-20T21:02:35.847149Z"
    }
   },
   "outputs": [
    {
     "data": {
      "text/plain": [
       "(825, 13)"
      ]
     },
     "execution_count": 55,
     "metadata": {},
     "output_type": "execute_result"
    }
   ],
   "source": [
    "commas.shape"
   ]
  },
  {
   "cell_type": "markdown",
   "metadata": {},
   "source": [
    "We'll call this our total dataset. Let's do a train-test split:"
   ]
  },
  {
   "cell_type": "code",
   "execution_count": 56,
   "metadata": {
    "ExecuteTime": {
     "end_time": "2022-12-20T21:02:38.929147Z",
     "start_time": "2022-12-20T21:02:38.917149Z"
    }
   },
   "outputs": [],
   "source": [
    "train, test = train_test_split(commas, random_state=42)"
   ]
  },
  {
   "cell_type": "markdown",
   "metadata": {},
   "source": [
    "The first question on the survey was about the Oxford comma."
   ]
  },
  {
   "cell_type": "code",
   "execution_count": 57,
   "metadata": {
    "ExecuteTime": {
     "end_time": "2022-12-20T21:02:40.336798Z",
     "start_time": "2022-12-20T21:02:40.320298Z"
    },
    "scrolled": true
   },
   "outputs": [
    {
     "data": {
      "text/plain": [
       "It's important for a person to be honest, kind, and loyal.    350\n",
       "It's important for a person to be honest, kind and loyal.     268\n",
       "Name: In your opinion, which sentence is more gramatically correct?, dtype: int64"
      ]
     },
     "execution_count": 57,
     "metadata": {},
     "output_type": "execute_result"
    }
   ],
   "source": [
    "X_train = train['Age']\n",
    "y_train = train['In your opinion, which sentence is more gramatically correct?']\n",
    "y_train.value_counts()"
   ]
  },
  {
   "cell_type": "markdown",
   "metadata": {},
   "source": [
    "Personally, I like the Oxford comma, since it can help eliminate ambiguities, such as:\n",
    "\n",
    "\"This book is dedicated to my parents, Ayn Rand, and God\" <br/> vs. <br/>\n",
    "\"This book is dedicated to my parents, Ayn Rand and God\""
   ]
  },
  {
   "cell_type": "markdown",
   "metadata": {},
   "source": [
    "Let's see how a Naive Bayes model would make a prediction here. We'll think of the comma preference as our target."
   ]
  },
  {
   "cell_type": "code",
   "execution_count": 58,
   "metadata": {
    "ExecuteTime": {
     "end_time": "2022-12-20T21:03:34.405319Z",
     "start_time": "2022-12-20T21:03:34.390679Z"
    }
   },
   "outputs": [
    {
     "data": {
      "text/plain": [
       "45-60    186\n",
       "30-44    160\n",
       "> 60     140\n",
       "18-29    132\n",
       "Name: Age, dtype: int64"
      ]
     },
     "execution_count": 58,
     "metadata": {},
     "output_type": "execute_result"
    }
   ],
   "source": [
    "X_train.value_counts()"
   ]
  },
  {
   "cell_type": "markdown",
   "metadata": {},
   "source": [
    "Suppose we want to make a prediction about Oxford comma usage for a new person who falls into the **45-60 age group**."
   ]
  },
  {
   "cell_type": "markdown",
   "metadata": {},
   "source": [
    "### Calculating Priors and Likelihoods"
   ]
  },
  {
   "cell_type": "markdown",
   "metadata": {},
   "source": [
    "The following code makes a table of values that count up the number of survey respondents who fall into each of eight bins (the four age groups and the two answers to the first comma question). "
   ]
  },
  {
   "cell_type": "code",
   "execution_count": 59,
   "metadata": {
    "ExecuteTime": {
     "end_time": "2022-12-20T21:04:23.388876Z",
     "start_time": "2022-12-20T21:04:23.377875Z"
    }
   },
   "outputs": [],
   "source": [
    "table = np.zeros((2, 4))\n",
    "\n",
    "for idx, value in enumerate(X_train.value_counts().index):\n",
    "    table[0, idx] = len(train[(train['In your opinion, which sentence is '\\\n",
    "                                       'more gramatically correct?'] ==\\\n",
    "                                        'It\\'s important for a person to be '\\\n",
    "                                'honest, kind, and loyal.') & (train['Age'] == value)])\n",
    "    table[1, idx] = len(train[(train['In your opinion, which sentence is '\\\n",
    "                                       'more gramatically correct?'] ==\\\n",
    "                                        'It\\'s important for a person to be '\\\n",
    "                                'honest, kind and loyal.') & (train['Age'] == value)])"
   ]
  },
  {
   "cell_type": "code",
   "execution_count": 60,
   "metadata": {
    "ExecuteTime": {
     "end_time": "2022-12-20T21:04:23.993456Z",
     "start_time": "2022-12-20T21:04:23.983375Z"
    }
   },
   "outputs": [
    {
     "data": {
      "text/plain": [
       "array([[ 90.,  95.,  62., 103.],\n",
       "       [ 96.,  65.,  78.,  29.]])"
      ]
     },
     "execution_count": 60,
     "metadata": {},
     "output_type": "execute_result"
    }
   ],
   "source": [
    "table"
   ]
  },
  {
   "cell_type": "markdown",
   "metadata": {},
   "source": [
    "Which age group is which?"
   ]
  },
  {
   "cell_type": "code",
   "execution_count": 61,
   "metadata": {
    "ExecuteTime": {
     "end_time": "2022-12-20T21:05:12.990538Z",
     "start_time": "2022-12-20T21:05:12.983539Z"
    }
   },
   "outputs": [
    {
     "data": {
      "text/plain": [
       "Index(['45-60', '30-44', '> 60', '18-29'], dtype='object')"
      ]
     },
     "execution_count": 61,
     "metadata": {},
     "output_type": "execute_result"
    }
   ],
   "source": [
    "X_train.value_counts().index"
   ]
  },
  {
   "cell_type": "code",
   "execution_count": 62,
   "metadata": {
    "ExecuteTime": {
     "end_time": "2022-12-20T21:05:20.840269Z",
     "start_time": "2022-12-20T21:05:20.832270Z"
    }
   },
   "outputs": [
    {
     "data": {
      "text/html": [
       "<div>\n",
       "<style scoped>\n",
       "    .dataframe tbody tr th:only-of-type {\n",
       "        vertical-align: middle;\n",
       "    }\n",
       "\n",
       "    .dataframe tbody tr th {\n",
       "        vertical-align: top;\n",
       "    }\n",
       "\n",
       "    .dataframe thead th {\n",
       "        text-align: right;\n",
       "    }\n",
       "</style>\n",
       "<table border=\"1\" class=\"dataframe\">\n",
       "  <thead>\n",
       "    <tr style=\"text-align: right;\">\n",
       "      <th></th>\n",
       "      <th>Age45-60</th>\n",
       "      <th>Age30-44</th>\n",
       "      <th>Age&gt;60</th>\n",
       "      <th>Age18-29</th>\n",
       "    </tr>\n",
       "  </thead>\n",
       "  <tbody>\n",
       "    <tr>\n",
       "      <th>0</th>\n",
       "      <td>90.0</td>\n",
       "      <td>95.0</td>\n",
       "      <td>62.0</td>\n",
       "      <td>103.0</td>\n",
       "    </tr>\n",
       "    <tr>\n",
       "      <th>1</th>\n",
       "      <td>96.0</td>\n",
       "      <td>65.0</td>\n",
       "      <td>78.0</td>\n",
       "      <td>29.0</td>\n",
       "    </tr>\n",
       "  </tbody>\n",
       "</table>\n",
       "</div>"
      ],
      "text/plain": [
       "   Age45-60  Age30-44  Age>60  Age18-29\n",
       "0      90.0      95.0    62.0     103.0\n",
       "1      96.0      65.0    78.0      29.0"
      ]
     },
     "execution_count": 62,
     "metadata": {},
     "output_type": "execute_result"
    }
   ],
   "source": [
    "df = pd.DataFrame(table, columns=['Age45-60',\n",
    "                            'Age30-44',\n",
    "                            'Age>60',\n",
    "                            'Age18-29'])\n",
    "df"
   ]
  },
  {
   "cell_type": "markdown",
   "metadata": {},
   "source": [
    "Which comma preference is which?"
   ]
  },
  {
   "cell_type": "code",
   "execution_count": 63,
   "metadata": {
    "ExecuteTime": {
     "end_time": "2022-12-20T21:05:50.075196Z",
     "start_time": "2022-12-20T21:05:50.066196Z"
    }
   },
   "outputs": [
    {
     "data": {
      "text/plain": [
       "It's important for a person to be honest, kind, and loyal.    350\n",
       "It's important for a person to be honest, kind and loyal.     268\n",
       "Name: In your opinion, which sentence is more gramatically correct?, dtype: int64"
      ]
     },
     "execution_count": 63,
     "metadata": {},
     "output_type": "execute_result"
    }
   ],
   "source": [
    "y_train.value_counts()"
   ]
  },
  {
   "cell_type": "code",
   "execution_count": 64,
   "metadata": {
    "ExecuteTime": {
     "end_time": "2022-12-20T21:05:53.833884Z",
     "start_time": "2022-12-20T21:05:53.807391Z"
    }
   },
   "outputs": [
    {
     "data": {
      "text/html": [
       "<div>\n",
       "<style scoped>\n",
       "    .dataframe tbody tr th:only-of-type {\n",
       "        vertical-align: middle;\n",
       "    }\n",
       "\n",
       "    .dataframe tbody tr th {\n",
       "        vertical-align: top;\n",
       "    }\n",
       "\n",
       "    .dataframe thead th {\n",
       "        text-align: right;\n",
       "    }\n",
       "</style>\n",
       "<table border=\"1\" class=\"dataframe\">\n",
       "  <thead>\n",
       "    <tr style=\"text-align: right;\">\n",
       "      <th></th>\n",
       "      <th>Age&gt;60</th>\n",
       "      <th>Age45-60</th>\n",
       "      <th>Age30-44</th>\n",
       "      <th>Age18-29</th>\n",
       "      <th>Oxford</th>\n",
       "    </tr>\n",
       "  </thead>\n",
       "  <tbody>\n",
       "    <tr>\n",
       "      <th>0</th>\n",
       "      <td>62.0</td>\n",
       "      <td>90.0</td>\n",
       "      <td>95.0</td>\n",
       "      <td>103.0</td>\n",
       "      <td>True</td>\n",
       "    </tr>\n",
       "    <tr>\n",
       "      <th>1</th>\n",
       "      <td>78.0</td>\n",
       "      <td>96.0</td>\n",
       "      <td>65.0</td>\n",
       "      <td>29.0</td>\n",
       "      <td>False</td>\n",
       "    </tr>\n",
       "  </tbody>\n",
       "</table>\n",
       "</div>"
      ],
      "text/plain": [
       "   Age>60  Age45-60  Age30-44  Age18-29  Oxford\n",
       "0    62.0      90.0      95.0     103.0    True\n",
       "1    78.0      96.0      65.0      29.0   False"
      ]
     },
     "execution_count": 64,
     "metadata": {},
     "output_type": "execute_result"
    }
   ],
   "source": [
    "df_copy = df.copy()\n",
    "df_copy = df_copy[['Age>60', 'Age45-60', 'Age30-44', 'Age18-29']]\n",
    "df_copy['Oxford'] = [True, False]\n",
    "df_copy"
   ]
  },
  {
   "cell_type": "markdown",
   "metadata": {},
   "source": [
    "Since all we have is a single categorical feature here we can just read our likelihoods and priors right off of this table:\n",
    "\n",
    "Likelihoods:\n",
    "\n",
    "Age 45-60:\n",
    "- P(Age45-60 | Oxford=True) = $\\frac{90}{350} = 0.2571$\n",
    "    \n",
    "    \n",
    "- P(Age45-60 | Oxford=False) = $\\frac{96}{268} = 0.3582$\n",
    "\n",
    "\n",
    "\n",
    "Priors:\n",
    "\n",
    "- P(Oxford=True) = $\\frac{350}{618} = 0.5663$\n",
    "\n",
    "\n",
    "\n",
    "- P(Oxford=False) = $\\frac{268}{618} = 0.4337$"
   ]
  },
  {
   "cell_type": "code",
   "execution_count": 65,
   "metadata": {
    "ExecuteTime": {
     "end_time": "2022-12-20T21:06:26.264480Z",
     "start_time": "2022-12-20T21:06:26.254980Z"
    }
   },
   "outputs": [
    {
     "name": "stdout",
     "output_type": "stream",
     "text": [
      "Likelihood for those with a preference for the Oxford comma: 0.2571428571428571\n",
      "Likelihood for those with a preference for no Oxford comma: 0.3582089552238806\n",
      "Size of training data: 618\n"
     ]
    }
   ],
   "source": [
    "print(f\"Likelihood for those with a preference for the Oxford comma: {90 / 350}\")\n",
    "print(f\"Likelihood for those with a preference for no Oxford comma: {96 / 268}\")\n",
    "print(f\"Size of training data: {len(y_train)}\")"
   ]
  },
  {
   "cell_type": "code",
   "execution_count": 66,
   "metadata": {
    "ExecuteTime": {
     "end_time": "2022-12-20T21:06:27.069626Z",
     "start_time": "2022-12-20T21:06:27.066625Z"
    }
   },
   "outputs": [
    {
     "name": "stdout",
     "output_type": "stream",
     "text": [
      "Prior for those with a preference for the Oxford comma: 0.5663430420711975\n",
      "Prior for those with a preference for no Oxford comma: 0.4336569579288026\n"
     ]
    }
   ],
   "source": [
    "print(f\"Prior for those with a preference for the Oxford comma: {350 / 618}\")\n",
    "print(f\"Prior for those with a preference for no Oxford comma: {268 / 618}\")"
   ]
  },
  {
   "cell_type": "markdown",
   "metadata": {},
   "source": [
    "### Calculating Posteriors"
   ]
  },
  {
   "cell_type": "markdown",
   "metadata": {},
   "source": [
    "First we'll calculate the probability of the evidence:\n",
    "\n",
    "$$\\begin{align} \n",
    "    P(Age45-60) &= P(Age45-60 | Oxford=True) \\times P(Oxford=True) \\\\\n",
    "                & \\hspace{1cm} + P(Age45-60 | Oxford=False) \\times P(Oxford=False)\\\\ \n",
    "                &= 0.2571 \\times 0.5663 + 0.3582 \\times 0.4337 \\\\\n",
    "                &= 0.3010\n",
    "\\end{align}$$"
   ]
  },
  {
   "cell_type": "code",
   "execution_count": 67,
   "metadata": {
    "ExecuteTime": {
     "end_time": "2022-12-20T21:07:15.480722Z",
     "start_time": "2022-12-20T21:07:15.474722Z"
    }
   },
   "outputs": [
    {
     "data": {
      "text/plain": [
       "0.30097087378640774"
      ]
     },
     "execution_count": 67,
     "metadata": {},
     "output_type": "execute_result"
    }
   ],
   "source": [
    "# This calculation should also yield P(e):\n",
    "# It's the proportion of 45-60-yr.-olds\n",
    "# in the data.\n",
    "\n",
    "90 / 618 + 96 / 618"
   ]
  },
  {
   "cell_type": "markdown",
   "metadata": {},
   "source": [
    "Now use Bayes's Theorem to calculate the posteriors:\n",
    "\n",
    "$$\\begin{align}\n",
    "P(Oxford=True | Age45-60) &= \\frac{P(Oxford=True) \\times P(Age45-60 | Oxford=True)}{P(Age45-60)} \\\\\n",
    "                          &= \\frac{0.5663 \\times 0.2571}{0.3010} \\\\\n",
    "                          &= 0.4839 \\\\\n",
    "                          \\\\\n",
    "P(Oxford=False | Age45-60) &= \\frac{P(Oxford=False) \\times P(Age45-60 | Oxford=False)}{P(Age45-60)} \\\\ \n",
    "                          &= \\frac{0.4337 \\times 0.3582}{0.3010} \\\\\n",
    "                          &= 0.5161\n",
    "\\end{align}$$"
   ]
  },
  {
   "cell_type": "code",
   "execution_count": 68,
   "metadata": {
    "ExecuteTime": {
     "end_time": "2022-12-20T21:07:29.013653Z",
     "start_time": "2022-12-20T21:07:29.002185Z"
    }
   },
   "outputs": [
    {
     "name": "stdout",
     "output_type": "stream",
     "text": [
      "0.4838709677419355\n",
      "0.5161290322580645\n"
     ]
    }
   ],
   "source": [
    "print((90/618) / (90/618 +  96/618))\n",
    "print((96/618) / (90/618 + 96/618))"
   ]
  },
  {
   "cell_type": "markdown",
   "metadata": {},
   "source": [
    "Close! But our prediction for someone in the 45-60 age group will be that they **do not** favor the Oxford comma."
   ]
  },
  {
   "cell_type": "markdown",
   "metadata": {},
   "source": [
    "### Comparison with [`MultinomialNB`](https://scikit-learn.org/stable/modules/generated/sklearn.naive_bayes.MultinomialNB.html)"
   ]
  },
  {
   "cell_type": "code",
   "execution_count": 69,
   "metadata": {
    "ExecuteTime": {
     "end_time": "2022-12-20T21:09:00.282435Z",
     "start_time": "2022-12-20T21:09:00.270436Z"
    }
   },
   "outputs": [],
   "source": [
    "comma_model = MultinomialNB()\n",
    "\n",
    "ohe = OneHotEncoder()\n",
    "ohe.fit(X_train.values.reshape(-1, 1))\n",
    "\n",
    "X_train_coded = ohe.transform(X_train.values.reshape(-1, 1)).todense()"
   ]
  },
  {
   "cell_type": "code",
   "execution_count": 72,
   "metadata": {
    "ExecuteTime": {
     "end_time": "2022-12-20T21:09:30.064923Z",
     "start_time": "2022-12-20T21:09:30.048924Z"
    }
   },
   "outputs": [
    {
     "data": {
      "text/html": [
       "<div>\n",
       "<style scoped>\n",
       "    .dataframe tbody tr th:only-of-type {\n",
       "        vertical-align: middle;\n",
       "    }\n",
       "\n",
       "    .dataframe tbody tr th {\n",
       "        vertical-align: top;\n",
       "    }\n",
       "\n",
       "    .dataframe thead th {\n",
       "        text-align: right;\n",
       "    }\n",
       "</style>\n",
       "<table border=\"1\" class=\"dataframe\">\n",
       "  <thead>\n",
       "    <tr style=\"text-align: right;\">\n",
       "      <th></th>\n",
       "      <th>x0_18-29</th>\n",
       "      <th>x0_30-44</th>\n",
       "      <th>x0_45-60</th>\n",
       "      <th>x0_&gt; 60</th>\n",
       "    </tr>\n",
       "  </thead>\n",
       "  <tbody>\n",
       "    <tr>\n",
       "      <th>0</th>\n",
       "      <td>0.0</td>\n",
       "      <td>0.0</td>\n",
       "      <td>1.0</td>\n",
       "      <td>0.0</td>\n",
       "    </tr>\n",
       "    <tr>\n",
       "      <th>1</th>\n",
       "      <td>0.0</td>\n",
       "      <td>1.0</td>\n",
       "      <td>0.0</td>\n",
       "      <td>0.0</td>\n",
       "    </tr>\n",
       "    <tr>\n",
       "      <th>2</th>\n",
       "      <td>1.0</td>\n",
       "      <td>0.0</td>\n",
       "      <td>0.0</td>\n",
       "      <td>0.0</td>\n",
       "    </tr>\n",
       "    <tr>\n",
       "      <th>3</th>\n",
       "      <td>0.0</td>\n",
       "      <td>0.0</td>\n",
       "      <td>1.0</td>\n",
       "      <td>0.0</td>\n",
       "    </tr>\n",
       "    <tr>\n",
       "      <th>4</th>\n",
       "      <td>0.0</td>\n",
       "      <td>0.0</td>\n",
       "      <td>1.0</td>\n",
       "      <td>0.0</td>\n",
       "    </tr>\n",
       "    <tr>\n",
       "      <th>...</th>\n",
       "      <td>...</td>\n",
       "      <td>...</td>\n",
       "      <td>...</td>\n",
       "      <td>...</td>\n",
       "    </tr>\n",
       "    <tr>\n",
       "      <th>613</th>\n",
       "      <td>0.0</td>\n",
       "      <td>0.0</td>\n",
       "      <td>0.0</td>\n",
       "      <td>1.0</td>\n",
       "    </tr>\n",
       "    <tr>\n",
       "      <th>614</th>\n",
       "      <td>0.0</td>\n",
       "      <td>0.0</td>\n",
       "      <td>0.0</td>\n",
       "      <td>1.0</td>\n",
       "    </tr>\n",
       "    <tr>\n",
       "      <th>615</th>\n",
       "      <td>0.0</td>\n",
       "      <td>0.0</td>\n",
       "      <td>1.0</td>\n",
       "      <td>0.0</td>\n",
       "    </tr>\n",
       "    <tr>\n",
       "      <th>616</th>\n",
       "      <td>0.0</td>\n",
       "      <td>0.0</td>\n",
       "      <td>0.0</td>\n",
       "      <td>1.0</td>\n",
       "    </tr>\n",
       "    <tr>\n",
       "      <th>617</th>\n",
       "      <td>0.0</td>\n",
       "      <td>0.0</td>\n",
       "      <td>0.0</td>\n",
       "      <td>1.0</td>\n",
       "    </tr>\n",
       "  </tbody>\n",
       "</table>\n",
       "<p>618 rows × 4 columns</p>\n",
       "</div>"
      ],
      "text/plain": [
       "     x0_18-29  x0_30-44  x0_45-60  x0_> 60\n",
       "0         0.0       0.0       1.0      0.0\n",
       "1         0.0       1.0       0.0      0.0\n",
       "2         1.0       0.0       0.0      0.0\n",
       "3         0.0       0.0       1.0      0.0\n",
       "4         0.0       0.0       1.0      0.0\n",
       "..        ...       ...       ...      ...\n",
       "613       0.0       0.0       0.0      1.0\n",
       "614       0.0       0.0       0.0      1.0\n",
       "615       0.0       0.0       1.0      0.0\n",
       "616       0.0       0.0       0.0      1.0\n",
       "617       0.0       0.0       0.0      1.0\n",
       "\n",
       "[618 rows x 4 columns]"
      ]
     },
     "execution_count": 72,
     "metadata": {},
     "output_type": "execute_result"
    }
   ],
   "source": [
    "pd.DataFrame(X_train_coded, columns=ohe.get_feature_names())"
   ]
  },
  {
   "cell_type": "code",
   "execution_count": 73,
   "metadata": {
    "ExecuteTime": {
     "end_time": "2022-12-20T21:10:24.790288Z",
     "start_time": "2022-12-20T21:10:24.769789Z"
    }
   },
   "outputs": [
    {
     "data": {
      "text/plain": [
       "251    It's important for a person to be honest, kind...\n",
       "593    It's important for a person to be honest, kind...\n",
       "516    It's important for a person to be honest, kind...\n",
       "752    It's important for a person to be honest, kind...\n",
       "221    It's important for a person to be honest, kind...\n",
       "                             ...                        \n",
       "99     It's important for a person to be honest, kind...\n",
       "152    It's important for a person to be honest, kind...\n",
       "372    It's important for a person to be honest, kind...\n",
       "614    It's important for a person to be honest, kind...\n",
       "145    It's important for a person to be honest, kind...\n",
       "Name: In your opinion, which sentence is more gramatically correct?, Length: 618, dtype: object"
      ]
     },
     "execution_count": 73,
     "metadata": {},
     "output_type": "execute_result"
    }
   ],
   "source": [
    "y_train"
   ]
  },
  {
   "cell_type": "code",
   "execution_count": 74,
   "metadata": {
    "ExecuteTime": {
     "end_time": "2022-12-20T21:10:39.523318Z",
     "start_time": "2022-12-20T21:10:39.502817Z"
    }
   },
   "outputs": [
    {
     "data": {
      "text/plain": [
       "MultinomialNB()"
      ]
     },
     "execution_count": 74,
     "metadata": {},
     "output_type": "execute_result"
    }
   ],
   "source": [
    "comma_model.fit(X_train_coded, y_train)"
   ]
  },
  {
   "cell_type": "code",
   "execution_count": null,
   "metadata": {
    "ExecuteTime": {
     "end_time": "2022-12-20T18:22:39.487653Z",
     "start_time": "2022-12-20T18:22:39.474122Z"
    }
   },
   "outputs": [],
   "source": [
    "X_train_coded"
   ]
  },
  {
   "cell_type": "markdown",
   "metadata": {},
   "source": [
    "Which age group is which?"
   ]
  },
  {
   "cell_type": "code",
   "execution_count": null,
   "metadata": {
    "ExecuteTime": {
     "end_time": "2022-12-20T18:22:39.503145Z",
     "start_time": "2022-12-20T18:22:39.489623Z"
    }
   },
   "outputs": [],
   "source": [
    "ohe.get_feature_names()"
   ]
  },
  {
   "cell_type": "code",
   "execution_count": 75,
   "metadata": {
    "ExecuteTime": {
     "end_time": "2022-12-20T21:10:44.446579Z",
     "start_time": "2022-12-20T21:10:44.430579Z"
    }
   },
   "outputs": [
    {
     "data": {
      "text/plain": [
       "array([[0.51509545, 0.48490455]])"
      ]
     },
     "execution_count": 75,
     "metadata": {},
     "output_type": "execute_result"
    }
   ],
   "source": [
    "comma_model.predict_proba(np.array([0, 0, 1, 0]).reshape(1, -1))"
   ]
  },
  {
   "cell_type": "code",
   "execution_count": 79,
   "metadata": {
    "ExecuteTime": {
     "end_time": "2022-12-20T21:11:58.056842Z",
     "start_time": "2022-12-20T21:11:58.046843Z"
    }
   },
   "outputs": [
    {
     "data": {
      "text/plain": [
       "array([\"It's important for a person to be honest, kind and loyal.\"],\n",
       "      dtype='<U58')"
      ]
     },
     "execution_count": 79,
     "metadata": {},
     "output_type": "execute_result"
    }
   ],
   "source": [
    "comma_model.predict(np.array([0,0,1,0]).reshape(1,-1))"
   ]
  },
  {
   "cell_type": "markdown",
   "metadata": {},
   "source": [
    "Which comma-group is which?"
   ]
  },
  {
   "cell_type": "code",
   "execution_count": 76,
   "metadata": {
    "ExecuteTime": {
     "end_time": "2022-12-20T21:10:48.982142Z",
     "start_time": "2022-12-20T21:10:48.965144Z"
    }
   },
   "outputs": [
    {
     "data": {
      "text/plain": [
       "array([\"It's important for a person to be honest, kind and loyal.\",\n",
       "       \"It's important for a person to be honest, kind, and loyal.\"],\n",
       "      dtype='<U58')"
      ]
     },
     "execution_count": 76,
     "metadata": {},
     "output_type": "execute_result"
    }
   ],
   "source": [
    "comma_model.classes_"
   ]
  },
  {
   "cell_type": "markdown",
   "metadata": {},
   "source": [
    "These results agree very closely with ours."
   ]
  },
  {
   "cell_type": "code",
   "execution_count": null,
   "metadata": {},
   "outputs": [],
   "source": []
  }
 ],
 "metadata": {
  "kernelspec": {
   "display_name": "learn-env",
   "language": "python",
   "name": "learn-env"
  },
  "language_info": {
   "codemirror_mode": {
    "name": "ipython",
    "version": 3
   },
   "file_extension": ".py",
   "mimetype": "text/x-python",
   "name": "python",
   "nbconvert_exporter": "python",
   "pygments_lexer": "ipython3",
   "version": "3.8.5"
  },
  "toc": {
   "base_numbering": 1,
   "nav_menu": {},
   "number_sections": true,
   "sideBar": true,
   "skip_h1_title": false,
   "title_cell": "Table of Contents",
   "title_sidebar": "TOC",
   "toc_cell": true,
   "toc_position": {
    "height": "calc(100% - 180px)",
    "left": "10px",
    "top": "150px",
    "width": "220.994px"
   },
   "toc_section_display": true,
   "toc_window_display": false
  },
  "varInspector": {
   "cols": {
    "lenName": 16,
    "lenType": 16,
    "lenVar": 40
   },
   "kernels_config": {
    "python": {
     "delete_cmd_postfix": "",
     "delete_cmd_prefix": "del ",
     "library": "var_list.py",
     "varRefreshCmd": "print(var_dic_list())"
    },
    "r": {
     "delete_cmd_postfix": ") ",
     "delete_cmd_prefix": "rm(",
     "library": "var_list.r",
     "varRefreshCmd": "cat(var_dic_list()) "
    }
   },
   "types_to_exclude": [
    "module",
    "function",
    "builtin_function_or_method",
    "instance",
    "_Feature"
   ],
   "window_display": false
  }
 },
 "nbformat": 4,
 "nbformat_minor": 4
}

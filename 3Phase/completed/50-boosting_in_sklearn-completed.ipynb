{
 "cells": [
  {
   "cell_type": "markdown",
   "metadata": {
    "toc": true
   },
   "source": [
    "<h1>Table of Contents<span class=\"tocSkip\"></span></h1>\n",
    "<div class=\"toc\"><ul class=\"toc-item\"><li><span><a href=\"#Objectives\" data-toc-modified-id=\"Objectives-1\"><span class=\"toc-item-num\">1&nbsp;&nbsp;</span>Objectives</a></span></li><li><span><a href=\"#Intro\" data-toc-modified-id=\"Intro-2\"><span class=\"toc-item-num\">2&nbsp;&nbsp;</span>Intro</a></span><ul class=\"toc-item\"><li><span><a href=\"#Two-Types\" data-toc-modified-id=\"Two-Types-2.1\"><span class=\"toc-item-num\">2.1&nbsp;&nbsp;</span>Two Types</a></span></li></ul></li><li><span><a href=\"#Create-Some-Noisy-Data\" data-toc-modified-id=\"Create-Some-Noisy-Data-3\"><span class=\"toc-item-num\">3&nbsp;&nbsp;</span>Create Some Noisy Data</a></span></li><li><span><a href=\"#AdaBoost-(Adaptive-Boosting)\" data-toc-modified-id=\"AdaBoost-(Adaptive-Boosting)-4\"><span class=\"toc-item-num\">4&nbsp;&nbsp;</span>AdaBoost (Adaptive Boosting)</a></span><ul class=\"toc-item\"><li><span><a href=\"#Algorithm\" data-toc-modified-id=\"Algorithm-4.1\"><span class=\"toc-item-num\">4.1&nbsp;&nbsp;</span>Algorithm</a></span></li><li><span><a href=\"#Voting\" data-toc-modified-id=\"Voting-4.2\"><span class=\"toc-item-num\">4.2&nbsp;&nbsp;</span>Voting</a></span></li><li><span><a href=\"#AdaBoost-in-Scikit-Learn\" data-toc-modified-id=\"AdaBoost-in-Scikit-Learn-4.3\"><span class=\"toc-item-num\">4.3&nbsp;&nbsp;</span>AdaBoost in Scikit-Learn</a></span><ul class=\"toc-item\"><li><ul class=\"toc-item\"><li><span><a href=\"#Hyperparameters\" data-toc-modified-id=\"Hyperparameters-4.3.0.1\"><span class=\"toc-item-num\">4.3.0.1&nbsp;&nbsp;</span>Hyperparameters</a></span></li></ul></li><li><span><a href=\"#Galaxy-Data\" data-toc-modified-id=\"Galaxy-Data-4.3.1\"><span class=\"toc-item-num\">4.3.1&nbsp;&nbsp;</span>Galaxy Data</a></span><ul class=\"toc-item\"><li><span><a href=\"#Hyperparameter-Tuning\" data-toc-modified-id=\"Hyperparameter-Tuning-4.3.1.1\"><span class=\"toc-item-num\">4.3.1.1&nbsp;&nbsp;</span>Hyperparameter Tuning</a></span></li></ul></li></ul></li></ul></li><li><span><a href=\"#Gradient-Boosting\" data-toc-modified-id=\"Gradient-Boosting-5\"><span class=\"toc-item-num\">5&nbsp;&nbsp;</span>Gradient Boosting</a></span><ul class=\"toc-item\"><li><span><a href=\"#Algorithm\" data-toc-modified-id=\"Algorithm-5.1\"><span class=\"toc-item-num\">5.1&nbsp;&nbsp;</span>Algorithm</a></span></li><li><span><a href=\"#Example-of-Iterative-Steps\" data-toc-modified-id=\"Example-of-Iterative-Steps-5.2\"><span class=\"toc-item-num\">5.2&nbsp;&nbsp;</span>Example of Iterative Steps</a></span><ul class=\"toc-item\"><li><span><a href=\"#Recall-our-noisy-data-from-earlier\" data-toc-modified-id=\"Recall-our-noisy-data-from-earlier-5.2.1\"><span class=\"toc-item-num\">5.2.1&nbsp;&nbsp;</span>Recall our noisy data from earlier</a></span></li><li><span><a href=\"#Train-iteratively-on-the-residuals-of-its-predecessor\" data-toc-modified-id=\"Train-iteratively-on-the-residuals-of-its-predecessor-5.2.2\"><span class=\"toc-item-num\">5.2.2&nbsp;&nbsp;</span>Train iteratively on the residuals of its predecessor</a></span></li><li><span><a href=\"#Observe-how-the-regressor-gets-better\" data-toc-modified-id=\"Observe-how-the-regressor-gets-better-5.2.3\"><span class=\"toc-item-num\">5.2.3&nbsp;&nbsp;</span>Observe how the regressor gets better</a></span></li><li><span><a href=\"#Using-SciKit-learn's-Gradient-Boosting\" data-toc-modified-id=\"Using-SciKit-learn's-Gradient-Boosting-5.2.4\"><span class=\"toc-item-num\">5.2.4&nbsp;&nbsp;</span>Using SciKit-learn's Gradient Boosting</a></span></li></ul></li><li><span><a href=\"#Comparing-gradient-boosting-with-many-estimators\" data-toc-modified-id=\"Comparing-gradient-boosting-with-many-estimators-5.3\"><span class=\"toc-item-num\">5.3&nbsp;&nbsp;</span>Comparing gradient boosting with many estimators</a></span></li></ul></li><li><span><a href=\"#XGBoost\" data-toc-modified-id=\"XGBoost-6\"><span class=\"toc-item-num\">6&nbsp;&nbsp;</span>XGBoost</a></span><ul class=\"toc-item\"><li><span><a href=\"#XGBoost-Regression\" data-toc-modified-id=\"XGBoost-Regression-6.1\"><span class=\"toc-item-num\">6.1&nbsp;&nbsp;</span>XGBoost Regression</a></span></li></ul></li><li><span><a href=\"#Level-Up:-Regression-or-Classification?\" data-toc-modified-id=\"Level-Up:-Regression-or-Classification?-7\"><span class=\"toc-item-num\">7&nbsp;&nbsp;</span>Level Up: Regression or Classification?</a></span><ul class=\"toc-item\"><li><span><a href=\"#Adaboost-Classification\" data-toc-modified-id=\"Adaboost-Classification-7.1\"><span class=\"toc-item-num\">7.1&nbsp;&nbsp;</span>Adaboost Classification</a></span></li><li><span><a href=\"#GradientBoosting\" data-toc-modified-id=\"GradientBoosting-7.2\"><span class=\"toc-item-num\">7.2&nbsp;&nbsp;</span>GradientBoosting</a></span></li><li><span><a href=\"#XGBoost-Classification\" data-toc-modified-id=\"XGBoost-Classification-7.3\"><span class=\"toc-item-num\">7.3&nbsp;&nbsp;</span>XGBoost Classification</a></span></li></ul></li></ul></div>"
   ]
  },
  {
   "cell_type": "code",
   "execution_count": 108,
   "metadata": {
    "ExecuteTime": {
     "end_time": "2022-12-22T17:20:59.963567Z",
     "start_time": "2022-12-22T17:20:59.950567Z"
    }
   },
   "outputs": [],
   "source": [
    "import pandas as pd\n",
    "import numpy as np\n",
    "import matplotlib.pyplot as plt\n",
    "import matplotlib as mpl\n",
    "import seaborn as sns\n",
    "seed = 42\n",
    "np.random.seed(seed)\n",
    "\n",
    "from sklearn.ensemble import AdaBoostRegressor, GradientBoostingRegressor, \\\n",
    "AdaBoostClassifier, GradientBoostingClassifier\n",
    "from sklearn.tree import DecisionTreeRegressor\n",
    "\n",
    "import xgboost\n",
    "\n",
    "from sklearn.model_selection import train_test_split, cross_val_score, GridSearchCV\n",
    "from sklearn.metrics import precision_score, recall_score, confusion_matrix, plot_confusion_matrix\n",
    "\n",
    "\n",
    "%matplotlib inline"
   ]
  },
  {
   "cell_type": "code",
   "execution_count": null,
   "metadata": {},
   "outputs": [],
   "source": []
  },
  {
   "cell_type": "markdown",
   "metadata": {},
   "source": [
    "# Objectives"
   ]
  },
  {
   "cell_type": "markdown",
   "metadata": {},
   "source": [
    "- Describe boosting algorithms\n",
    "- Implement boosting models with `sklearn` \n",
    "- Implement boosting models with `XGBoost`"
   ]
  },
  {
   "cell_type": "markdown",
   "metadata": {},
   "source": [
    "# Intro"
   ]
  },
  {
   "cell_type": "markdown",
   "metadata": {},
   "source": [
    "One of the problems with using single decision trees and random forests is that, once I make a split, I can't go back and consider how another feature varies across the whole dataset. But suppose I were to consider **my tree's errors**. The fundamental idea of ***boosting*** is to start with a weak learner and then to use information about its errors to build a new model that can supplement the original model."
   ]
  },
  {
   "cell_type": "markdown",
   "metadata": {},
   "source": [
    "## Two Types"
   ]
  },
  {
   "cell_type": "markdown",
   "metadata": {},
   "source": [
    "The two main types of boosting available in Scikit-Learn are adaptive boosting (AdaBoostClassifier, AdaBoostRegressor) and gradient boosting (GradientBoostingClassifier, GradientBoostingRegressor).\n",
    "\n",
    "Again, the fundamental idea of boosting is to use a sequence of **weak** learners to build a model. Though the individual learners are weak, the idea is to train iteratively in order to produce a better predictor. More specifically, the first learner will be trained on the data as it stands, but future learners will be trained on modified versions of the data. The point of the modifications is to highlight the \"hard-to-predict-accurately\" portions of the data."
   ]
  },
  {
   "cell_type": "markdown",
   "metadata": {},
   "source": [
    "# Create Some Noisy Data"
   ]
  },
  {
   "cell_type": "code",
   "execution_count": 2,
   "metadata": {
    "ExecuteTime": {
     "end_time": "2022-12-22T16:34:07.148131Z",
     "start_time": "2022-12-22T16:34:07.009630Z"
    }
   },
   "outputs": [
    {
     "data": {
      "image/png": "[encoded data removed]",
      "text/plain": [
       "<Figure size 432x288 with 1 Axes>"
      ]
     },
     "metadata": {
      "needs_background": "light"
     },
     "output_type": "display_data"
    }
   ],
   "source": [
    "n = 200\n",
    "X = np.random.rand(n, 1) - 0.5\n",
    "y = 3*X[:, 0]**2 + 0.05 * np.random.randn(n)\n",
    "\n",
    "fig, ax = plt.subplots()\n",
    "ax.scatter(X, y, alpha=0.3);"
   ]
  },
  {
   "cell_type": "code",
   "execution_count": 3,
   "metadata": {
    "ExecuteTime": {
     "end_time": "2022-12-22T16:34:07.954160Z",
     "start_time": "2022-12-22T16:34:07.937131Z"
    }
   },
   "outputs": [],
   "source": [
    "X_train, X_test, y_train, y_test = train_test_split(X, y, random_state=seed)"
   ]
  },
  {
   "cell_type": "code",
   "execution_count": 4,
   "metadata": {
    "ExecuteTime": {
     "end_time": "2022-12-22T16:34:08.620631Z",
     "start_time": "2022-12-22T16:34:08.422132Z"
    }
   },
   "outputs": [
    {
     "data": {
      "image/png": "[encoded data removed]",
      "text/plain": [
       "<Figure size 864x288 with 2 Axes>"
      ]
     },
     "metadata": {
      "needs_background": "light"
     },
     "output_type": "display_data"
    }
   ],
   "source": [
    "f, (ax0,ax1) = plt.subplots(ncols=2, figsize=(12,4))\n",
    "ax0.scatter(X_train, y_train, alpha=0.3)\n",
    "ax1.scatter(X_test, y_test, alpha=0.3);"
   ]
  },
  {
   "cell_type": "markdown",
   "metadata": {},
   "source": [
    "# AdaBoost (Adaptive Boosting)"
   ]
  },
  {
   "cell_type": "markdown",
   "metadata": {},
   "source": [
    "- **AdaBoost** works by iteratively adapting two related series of weights, one attached to the datapoints and the other attached to the learners themselves. Datapoints that are incorrectly classified receive greater weights for the next learner in the sequence. That way, future learners will be more likely to focus on those datapoints. At the end of the sequence, the learners that make better predictions, especially on the datapoints that are more resistant to correct classification, receive more weight in the final \"vote\" that determines the ensemble's prediction. <br/> Suppose we have a binary classification problem and we represent the two classes with 1 and -1. (This is standard for describing the algorithm of AdaBoost.) <br/>\n",
    "Then, in a nutshell: <br/>\n",
    "    1. Train a weak learner. <br/>\n",
    "    2. Calculate its error $\\epsilon$. <br/>\n",
    "    3. Use that error as a weight on the classifier: $\\theta = \\frac{1}{2}ln\\left(\\frac{1-\\epsilon}{\\epsilon}\\right)$. <br/>\n",
    "    Note that $\\theta$ CAN be negative. This represents a classifier whose accuracy is _worse_ than chance. <br/>\n",
    "    4. Use _that_ to adjust the data points' weights: $w_{n+1} = w_n\\left(\\frac{e^{\\pm\\theta}}{scaler}\\right)$. Use $+\\theta$ for incorrect predictions, $-\\theta$ for correct predictions. <br/>  $\\rightarrow$ For more detail on AdaBoost, see [here](https://www.analyticsvidhya.com/blog/2021/09/adaboost-algorithm-a-complete-guide-for-beginners/)."
   ]
  },
  {
   "cell_type": "markdown",
   "metadata": {},
   "source": [
    "## Algorithm"
   ]
  },
  {
   "cell_type": "markdown",
   "metadata": {},
   "source": [
    "- Train model\n",
    "- Inflate errors\n",
    "- Retrain model using errors (repeat)"
   ]
  },
  {
   "cell_type": "markdown",
   "metadata": {},
   "source": [
    "![](images/adaboost.png)"
   ]
  },
  {
   "cell_type": "markdown",
   "metadata": {},
   "source": [
    "## Voting"
   ]
  },
  {
   "cell_type": "markdown",
   "metadata": {},
   "source": [
    "Combine weak learners"
   ]
  },
  {
   "cell_type": "markdown",
   "metadata": {},
   "source": [
    "+ Vote by combining these calculated $y$ for each crossed-area (negative for \"not blue\" or whatever)"
   ]
  },
  {
   "cell_type": "markdown",
   "metadata": {},
   "source": [
    "## AdaBoost in Scikit-Learn"
   ]
  },
  {
   "cell_type": "markdown",
   "metadata": {},
   "source": [
    "https://scikit-learn.org/stable/modules/generated/sklearn.ensemble.AdaBoostRegressor.html"
   ]
  },
  {
   "cell_type": "code",
   "execution_count": 13,
   "metadata": {
    "ExecuteTime": {
     "end_time": "2022-12-22T16:42:06.235495Z",
     "start_time": "2022-12-22T16:42:06.209993Z"
    }
   },
   "outputs": [],
   "source": [
    "# Base Adaboost\n",
    "\n",
    "model = AdaBoostRegressor().fit(X_train, y_train)"
   ]
  },
  {
   "cell_type": "code",
   "execution_count": 14,
   "metadata": {
    "ExecuteTime": {
     "end_time": "2022-12-22T16:42:07.707827Z",
     "start_time": "2022-12-22T16:42:06.721345Z"
    }
   },
   "outputs": [
    {
     "data": {
      "text/plain": [
       "array([[ 0.13340376],\n",
       "       [-0.27350422],\n",
       "       [-0.34400548],\n",
       "       [ 0.31801477],\n",
       "       [-0.31342994],\n",
       "       [ 0.31546143],\n",
       "       [ 0.46244729],\n",
       "       [-0.47458087],\n",
       "       [ 0.01209306],\n",
       "       [ 0.02273283],\n",
       "       [ 0.09089294],\n",
       "       [-0.07245898],\n",
       "       [-0.32947588],\n",
       "       [ 0.33244264],\n",
       "       [ 0.30839735],\n",
       "       [ 0.03934224],\n",
       "       [-0.46561148],\n",
       "       [-0.25814771],\n",
       "       [-0.38040575],\n",
       "       [ 0.01879062],\n",
       "       [ 0.27513282],\n",
       "       [ 0.36073058],\n",
       "       [ 0.13352971],\n",
       "       [-0.00482309],\n",
       "       [ 0.392559  ],\n",
       "       [ 0.30812038],\n",
       "       [-0.30032622],\n",
       "       [ 0.47178208],\n",
       "       [-0.46857081],\n",
       "       [-0.33877871],\n",
       "       [ 0.23199394],\n",
       "       [-0.42595535],\n",
       "       [-0.18828892],\n",
       "       [ 0.05520081],\n",
       "       [ 0.39721576],\n",
       "       [-0.17481668],\n",
       "       [ 0.13230583],\n",
       "       [-0.19538623],\n",
       "       [-0.40689723],\n",
       "       [-0.22865097],\n",
       "       [-0.20785535],\n",
       "       [-0.2482177 ],\n",
       "       [ 0.13641041],\n",
       "       [ 0.44888554],\n",
       "       [ 0.46990985],\n",
       "       [-0.16097021],\n",
       "       [ 0.22821635],\n",
       "       [-0.44191639],\n",
       "       [ 0.01423444],\n",
       "       [ 0.30744016],\n",
       "       [-0.34398136],\n",
       "       [-0.43494841],\n",
       "       [-0.00275149],\n",
       "       [-0.46311305],\n",
       "       [-0.42302009],\n",
       "       [-0.21515951],\n",
       "       [-0.47941551],\n",
       "       [ 0.32873751],\n",
       "       [ 0.42969765],\n",
       "       [ 0.10956433],\n",
       "       [-0.17921994],\n",
       "       [-0.12545988],\n",
       "       [ 0.38708642],\n",
       "       [-0.01054724],\n",
       "       [ 0.27224477],\n",
       "       [-0.38994808],\n",
       "       [-0.21906549],\n",
       "       [-0.24122002],\n",
       "       [ 0.03577468],\n",
       "       [ 0.09241457],\n",
       "       [-0.37796177],\n",
       "       [-0.27120183],\n",
       "       [-0.25794473],\n",
       "       [ 0.17213555],\n",
       "       [ 0.28517596],\n",
       "       [-0.13363816],\n",
       "       [-0.24205837],\n",
       "       [ 0.00267902],\n",
       "       [ 0.12329813],\n",
       "       [-0.05984751],\n",
       "       [-0.45922486],\n",
       "       [ 0.02006802],\n",
       "       [ 0.27096718],\n",
       "       [ 0.48565045],\n",
       "       [ 0.4093204 ],\n",
       "       [-0.1363704 ],\n",
       "       [ 0.09865848],\n",
       "       [-0.25070777],\n",
       "       [ 0.39482735],\n",
       "       [-0.16238483],\n",
       "       [-0.15893365],\n",
       "       [ 0.43672999],\n",
       "       [ 0.15998405],\n",
       "       [-0.31514554],\n",
       "       [ 0.36310343],\n",
       "       [ 0.46563203],\n",
       "       [ 0.36617615],\n",
       "       [-0.21024855],\n",
       "       [ 0.21324479],\n",
       "       [-0.43644165],\n",
       "       [ 0.19093774],\n",
       "       [-0.38652648],\n",
       "       [-0.02778507],\n",
       "       [ 0.10111501],\n",
       "       [-0.28766089],\n",
       "       [-0.17466967],\n",
       "       [-0.48341217],\n",
       "       [-0.27789219],\n",
       "       [ 0.02475643],\n",
       "       [-0.49447788],\n",
       "       [-0.32563357],\n",
       "       [ 0.4429097 ],\n",
       "       [-0.31348149],\n",
       "       [ 0.37733935],\n",
       "       [-0.14324667],\n",
       "       [ 0.09789998],\n",
       "       [ 0.25555114],\n",
       "       [ 0.46958463],\n",
       "       [ 0.22595568],\n",
       "       [-0.45477271],\n",
       "       [ 0.04671028],\n",
       "       [ 0.38721274],\n",
       "       [-0.36050614],\n",
       "       [-0.30401714],\n",
       "       [-0.13221687],\n",
       "       [ 0.40041806],\n",
       "       [ 0.0107473 ],\n",
       "       [-0.40232789],\n",
       "       [ 0.26161962],\n",
       "       [ 0.13310146],\n",
       "       [ 0.45071431],\n",
       "       [ 0.43949894],\n",
       "       [-0.22135354],\n",
       "       [-0.082589  ],\n",
       "       [-0.26043811],\n",
       "       [ 0.00857069],\n",
       "       [-0.39210857],\n",
       "       [ 0.30367208],\n",
       "       [ 0.13755747],\n",
       "       [ 0.20685734],\n",
       "       [ 0.3960913 ],\n",
       "       [ 0.27987555],\n",
       "       [ 0.11185289],\n",
       "       [ 0.02965058],\n",
       "       [-0.30128432],\n",
       "       [-0.08961708],\n",
       "       [-0.31817503],\n",
       "       [ 0.26078505],\n",
       "       [-0.36247906],\n",
       "       [-0.18564402]])"
      ]
     },
     "execution_count": 14,
     "metadata": {},
     "output_type": "execute_result"
    }
   ],
   "source": [
    "model.predict\n",
    "(X_train)"
   ]
  },
  {
   "cell_type": "code",
   "execution_count": 15,
   "metadata": {
    "ExecuteTime": {
     "end_time": "2022-12-22T16:42:18.072053Z",
     "start_time": "2022-12-22T16:42:18.064021Z"
    }
   },
   "outputs": [
    {
     "data": {
      "text/plain": [
       "0.916144933068309"
      ]
     },
     "execution_count": 15,
     "metadata": {},
     "output_type": "execute_result"
    }
   ],
   "source": [
    "model.score(X_test,y_test)"
   ]
  },
  {
   "cell_type": "markdown",
   "metadata": {},
   "source": [
    "#### Hyperparameters"
   ]
  },
  {
   "cell_type": "markdown",
   "metadata": {},
   "source": [
    "```python\n",
    "model = AdaBoostClassifier(base_estimator = DecisionTreeClassifier(max_depth=4), n_estimators = 5)\n",
    "```"
   ]
  },
  {
   "cell_type": "markdown",
   "metadata": {},
   "source": [
    "`base_estimator`: The model utilized for the weak learners (Warning: Don't forget to import the model that you decide to use for the weak learner).\n",
    "`n_estimators`: The maximum number of weak learners used."
   ]
  },
  {
   "cell_type": "code",
   "execution_count": 10,
   "metadata": {
    "ExecuteTime": {
     "end_time": "2022-12-22T16:41:52.215901Z",
     "start_time": "2022-12-22T16:41:52.212399Z"
    }
   },
   "outputs": [],
   "source": [
    "# Tuned Adaboost\n",
    "\n",
    "model = AdaBoostRegressor(base_estimator=DecisionTreeRegressor(max_depth=6),\n",
    "                          n_estimators = 200,\n",
    "                          random_state=42)\n"
   ]
  },
  {
   "cell_type": "code",
   "execution_count": 11,
   "metadata": {
    "ExecuteTime": {
     "end_time": "2022-12-22T16:41:53.005815Z",
     "start_time": "2022-12-22T16:41:52.758314Z"
    }
   },
   "outputs": [
    {
     "data": {
      "text/plain": [
       "AdaBoostRegressor(base_estimator=DecisionTreeRegressor(max_depth=6),\n",
       "                  n_estimators=200, random_state=42)"
      ]
     },
     "execution_count": 11,
     "metadata": {},
     "output_type": "execute_result"
    }
   ],
   "source": [
    "model.fit(X_train, y_train)"
   ]
  },
  {
   "cell_type": "code",
   "execution_count": 12,
   "metadata": {
    "ExecuteTime": {
     "end_time": "2022-12-22T16:42:03.120857Z",
     "start_time": "2022-12-22T16:42:03.100358Z"
    }
   },
   "outputs": [
    {
     "data": {
      "text/plain": [
       "0.9448129389159958"
      ]
     },
     "execution_count": 12,
     "metadata": {},
     "output_type": "execute_result"
    }
   ],
   "source": [
    "model.score(X_test, y_test)"
   ]
  },
  {
   "cell_type": "code",
   "execution_count": null,
   "metadata": {},
   "outputs": [],
   "source": [
    "DecisionTreeRegressor()"
   ]
  },
  {
   "cell_type": "code",
   "execution_count": 23,
   "metadata": {
    "ExecuteTime": {
     "end_time": "2022-12-22T16:45:48.888608Z",
     "start_time": "2022-12-22T16:45:48.883607Z"
    }
   },
   "outputs": [],
   "source": [
    "params = {\n",
    "    'base_estimator__max_depth' : [1,3,5,7],\n",
    "    'n_estimators' : [50,100,200,300] \n",
    "}"
   ]
  },
  {
   "cell_type": "code",
   "execution_count": 55,
   "metadata": {
    "ExecuteTime": {
     "end_time": "2022-12-22T16:53:25.480440Z",
     "start_time": "2022-12-22T16:53:25.477439Z"
    }
   },
   "outputs": [],
   "source": [
    "ada = AdaBoostRegressor(base_estimator=DecisionTreeRegressor())"
   ]
  },
  {
   "cell_type": "code",
   "execution_count": 56,
   "metadata": {
    "ExecuteTime": {
     "end_time": "2022-12-22T16:53:29.432439Z",
     "start_time": "2022-12-22T16:53:29.421965Z"
    }
   },
   "outputs": [],
   "source": [
    "gs = GridSearchCV(ada, params, verbose=2)"
   ]
  },
  {
   "cell_type": "code",
   "execution_count": 57,
   "metadata": {
    "ExecuteTime": {
     "end_time": "2022-12-22T16:53:39.475439Z",
     "start_time": "2022-12-22T16:53:30.285941Z"
    }
   },
   "outputs": [
    {
     "name": "stdout",
     "output_type": "stream",
     "text": [
      "Fitting 5 folds for each of 16 candidates, totalling 80 fits\n",
      "[CV] base_estimator__max_depth=1, n_estimators=50 ....................\n",
      "[CV] ..... base_estimator__max_depth=1, n_estimators=50, total=   0.0s\n",
      "[CV] base_estimator__max_depth=1, n_estimators=50 ....................\n",
      "[CV] ..... base_estimator__max_depth=1, n_estimators=50, total=   0.0s\n",
      "[CV] base_estimator__max_depth=1, n_estimators=50 ....................\n",
      "[CV] ..... base_estimator__max_depth=1, n_estimators=50, total=   0.0s\n",
      "[CV] base_estimator__max_depth=1, n_estimators=50 ....................\n",
      "[CV] ..... base_estimator__max_depth=1, n_estimators=50, total=   0.0s\n",
      "[CV] base_estimator__max_depth=1, n_estimators=50 ....................\n",
      "[CV] ..... base_estimator__max_depth=1, n_estimators=50, total=   0.0s\n",
      "[CV] base_estimator__max_depth=1, n_estimators=100 ...................\n",
      "[CV] .... base_estimator__max_depth=1, n_estimators=100, total=   0.0s\n",
      "[CV] base_estimator__max_depth=1, n_estimators=100 ...................\n",
      "[CV] .... base_estimator__max_depth=1, n_estimators=100, total=   0.0s\n",
      "[CV] base_estimator__max_depth=1, n_estimators=100 ...................\n",
      "[CV] .... base_estimator__max_depth=1, n_estimators=100, total=   0.0s\n",
      "[CV] base_estimator__max_depth=1, n_estimators=100 ...................\n",
      "[CV] .... base_estimator__max_depth=1, n_estimators=100, total=   0.0s\n",
      "[CV] base_estimator__max_depth=1, n_estimators=100 ...................\n",
      "[CV] .... base_estimator__max_depth=1, n_estimators=100, total=   0.0s"
     ]
    },
    {
     "name": "stderr",
     "output_type": "stream",
     "text": [
      "[Parallel(n_jobs=1)]: Using backend SequentialBackend with 1 concurrent workers.\n",
      "[Parallel(n_jobs=1)]: Done   1 out of   1 | elapsed:    0.0s remaining:    0.0s\n"
     ]
    },
    {
     "name": "stdout",
     "output_type": "stream",
     "text": [
      "\n",
      "[CV] base_estimator__max_depth=1, n_estimators=200 ...................\n",
      "[CV] .... base_estimator__max_depth=1, n_estimators=200, total=   0.0s\n",
      "[CV] base_estimator__max_depth=1, n_estimators=200 ...................\n",
      "[CV] .... base_estimator__max_depth=1, n_estimators=200, total=   0.0s\n",
      "[CV] base_estimator__max_depth=1, n_estimators=200 ...................\n",
      "[CV] .... base_estimator__max_depth=1, n_estimators=200, total=   0.0s\n",
      "[CV] base_estimator__max_depth=1, n_estimators=200 ...................\n",
      "[CV] .... base_estimator__max_depth=1, n_estimators=200, total=   0.0s\n",
      "[CV] base_estimator__max_depth=1, n_estimators=200 ...................\n",
      "[CV] .... base_estimator__max_depth=1, n_estimators=200, total=   0.0s\n",
      "[CV] base_estimator__max_depth=1, n_estimators=300 ...................\n",
      "[CV] .... base_estimator__max_depth=1, n_estimators=300, total=   0.0s\n",
      "[CV] base_estimator__max_depth=1, n_estimators=300 ...................\n",
      "[CV] .... base_estimator__max_depth=1, n_estimators=300, total=   0.0s\n",
      "[CV] base_estimator__max_depth=1, n_estimators=300 ...................\n",
      "[CV] .... base_estimator__max_depth=1, n_estimators=300, total=   0.0s\n",
      "[CV] base_estimator__max_depth=1, n_estimators=300 ...................\n",
      "[CV] .... base_estimator__max_depth=1, n_estimators=300, total=   0.0s\n",
      "[CV] base_estimator__max_depth=1, n_estimators=300 ...................\n",
      "[CV] .... base_estimator__max_depth=1, n_estimators=300, total=   0.0s\n",
      "[CV] base_estimator__max_depth=3, n_estimators=50 ....................\n",
      "[CV] ..... base_estimator__max_depth=3, n_estimators=50, total=   0.1s\n",
      "[CV] base_estimator__max_depth=3, n_estimators=50 ....................\n",
      "[CV] ..... base_estimator__max_depth=3, n_estimators=50, total=   0.1s\n",
      "[CV] base_estimator__max_depth=3, n_estimators=50 ....................\n",
      "[CV] ..... base_estimator__max_depth=3, n_estimators=50, total=   0.0s\n",
      "[CV] base_estimator__max_depth=3, n_estimators=50 ....................\n",
      "[CV] ..... base_estimator__max_depth=3, n_estimators=50, total=   0.1s\n",
      "[CV] base_estimator__max_depth=3, n_estimators=50 ....................\n",
      "[CV] ..... base_estimator__max_depth=3, n_estimators=50, total=   0.1s\n",
      "[CV] base_estimator__max_depth=3, n_estimators=100 ...................\n",
      "[CV] .... base_estimator__max_depth=3, n_estimators=100, total=   0.0s\n",
      "[CV] base_estimator__max_depth=3, n_estimators=100 ...................\n",
      "[CV] .... base_estimator__max_depth=3, n_estimators=100, total=   0.0s\n",
      "[CV] base_estimator__max_depth=3, n_estimators=100 ...................\n",
      "[CV] .... base_estimator__max_depth=3, n_estimators=100, total=   0.0s\n",
      "[CV] base_estimator__max_depth=3, n_estimators=100 ...................\n",
      "[CV] .... base_estimator__max_depth=3, n_estimators=100, total=   0.0s\n",
      "[CV] base_estimator__max_depth=3, n_estimators=100 ...................\n",
      "[CV] .... base_estimator__max_depth=3, n_estimators=100, total=   0.0s\n",
      "[CV] base_estimator__max_depth=3, n_estimators=200 ...................\n",
      "[CV] .... base_estimator__max_depth=3, n_estimators=200, total=   0.1s\n",
      "[CV] base_estimator__max_depth=3, n_estimators=200 ...................\n",
      "[CV] .... base_estimator__max_depth=3, n_estimators=200, total=   0.0s\n",
      "[CV] base_estimator__max_depth=3, n_estimators=200 ...................\n",
      "[CV] .... base_estimator__max_depth=3, n_estimators=200, total=   0.2s\n",
      "[CV] base_estimator__max_depth=3, n_estimators=200 ...................\n",
      "[CV] .... base_estimator__max_depth=3, n_estimators=200, total=   0.0s\n",
      "[CV] base_estimator__max_depth=3, n_estimators=200 ...................\n",
      "[CV] .... base_estimator__max_depth=3, n_estimators=200, total=   0.0s\n",
      "[CV] base_estimator__max_depth=3, n_estimators=300 ...................\n",
      "[CV] .... base_estimator__max_depth=3, n_estimators=300, total=   0.1s\n",
      "[CV] base_estimator__max_depth=3, n_estimators=300 ...................\n",
      "[CV] .... base_estimator__max_depth=3, n_estimators=300, total=   0.1s\n",
      "[CV] base_estimator__max_depth=3, n_estimators=300 ...................\n",
      "[CV] .... base_estimator__max_depth=3, n_estimators=300, total=   0.1s\n",
      "[CV] base_estimator__max_depth=3, n_estimators=300 ...................\n",
      "[CV] .... base_estimator__max_depth=3, n_estimators=300, total=   0.0s\n",
      "[CV] base_estimator__max_depth=3, n_estimators=300 ...................\n",
      "[CV] .... base_estimator__max_depth=3, n_estimators=300, total=   0.2s\n",
      "[CV] base_estimator__max_depth=5, n_estimators=50 ....................\n",
      "[CV] ..... base_estimator__max_depth=5, n_estimators=50, total=   0.1s\n",
      "[CV] base_estimator__max_depth=5, n_estimators=50 ....................\n",
      "[CV] ..... base_estimator__max_depth=5, n_estimators=50, total=   0.1s\n",
      "[CV] base_estimator__max_depth=5, n_estimators=50 ....................\n",
      "[CV] ..... base_estimator__max_depth=5, n_estimators=50, total=   0.1s\n",
      "[CV] base_estimator__max_depth=5, n_estimators=50 ....................\n",
      "[CV] ..... base_estimator__max_depth=5, n_estimators=50, total=   0.1s\n",
      "[CV] base_estimator__max_depth=5, n_estimators=50 ....................\n",
      "[CV] ..... base_estimator__max_depth=5, n_estimators=50, total=   0.1s\n",
      "[CV] base_estimator__max_depth=5, n_estimators=100 ...................\n",
      "[CV] .... base_estimator__max_depth=5, n_estimators=100, total=   0.1s\n",
      "[CV] base_estimator__max_depth=5, n_estimators=100 ...................\n",
      "[CV] .... base_estimator__max_depth=5, n_estimators=100, total=   0.1s\n",
      "[CV] base_estimator__max_depth=5, n_estimators=100 ...................\n",
      "[CV] .... base_estimator__max_depth=5, n_estimators=100, total=   0.1s\n",
      "[CV] base_estimator__max_depth=5, n_estimators=100 ...................\n",
      "[CV] .... base_estimator__max_depth=5, n_estimators=100, total=   0.1s\n",
      "[CV] base_estimator__max_depth=5, n_estimators=100 ...................\n",
      "[CV] .... base_estimator__max_depth=5, n_estimators=100, total=   0.1s\n",
      "[CV] base_estimator__max_depth=5, n_estimators=200 ...................\n",
      "[CV] .... base_estimator__max_depth=5, n_estimators=200, total=   0.2s\n",
      "[CV] base_estimator__max_depth=5, n_estimators=200 ...................\n",
      "[CV] .... base_estimator__max_depth=5, n_estimators=200, total=   0.2s\n",
      "[CV] base_estimator__max_depth=5, n_estimators=200 ...................\n",
      "[CV] .... base_estimator__max_depth=5, n_estimators=200, total=   0.2s\n",
      "[CV] base_estimator__max_depth=5, n_estimators=200 ...................\n",
      "[CV] .... base_estimator__max_depth=5, n_estimators=200, total=   0.2s\n",
      "[CV] base_estimator__max_depth=5, n_estimators=200 ...................\n",
      "[CV] .... base_estimator__max_depth=5, n_estimators=200, total=   0.2s\n",
      "[CV] base_estimator__max_depth=5, n_estimators=300 ...................\n",
      "[CV] .... base_estimator__max_depth=5, n_estimators=300, total=   0.3s\n",
      "[CV] base_estimator__max_depth=5, n_estimators=300 ...................\n",
      "[CV] .... base_estimator__max_depth=5, n_estimators=300, total=   0.3s\n",
      "[CV] base_estimator__max_depth=5, n_estimators=300 ...................\n",
      "[CV] .... base_estimator__max_depth=5, n_estimators=300, total=   0.1s\n",
      "[CV] base_estimator__max_depth=5, n_estimators=300 ...................\n",
      "[CV] .... base_estimator__max_depth=5, n_estimators=300, total=   0.3s\n",
      "[CV] base_estimator__max_depth=5, n_estimators=300 ...................\n",
      "[CV] .... base_estimator__max_depth=5, n_estimators=300, total=   0.2s\n",
      "[CV] base_estimator__max_depth=7, n_estimators=50 ....................\n",
      "[CV] ..... base_estimator__max_depth=7, n_estimators=50, total=   0.1s\n",
      "[CV] base_estimator__max_depth=7, n_estimators=50 ....................\n",
      "[CV] ..... base_estimator__max_depth=7, n_estimators=50, total=   0.1s\n",
      "[CV] base_estimator__max_depth=7, n_estimators=50 ....................\n",
      "[CV] ..... base_estimator__max_depth=7, n_estimators=50, total=   0.1s\n",
      "[CV] base_estimator__max_depth=7, n_estimators=50 ....................\n",
      "[CV] ..... base_estimator__max_depth=7, n_estimators=50, total=   0.1s\n",
      "[CV] base_estimator__max_depth=7, n_estimators=50 ....................\n",
      "[CV] ..... base_estimator__max_depth=7, n_estimators=50, total=   0.1s\n",
      "[CV] base_estimator__max_depth=7, n_estimators=100 ...................\n",
      "[CV] .... base_estimator__max_depth=7, n_estimators=100, total=   0.1s\n",
      "[CV] base_estimator__max_depth=7, n_estimators=100 ...................\n",
      "[CV] .... base_estimator__max_depth=7, n_estimators=100, total=   0.1s\n",
      "[CV] base_estimator__max_depth=7, n_estimators=100 ...................\n",
      "[CV] .... base_estimator__max_depth=7, n_estimators=100, total=   0.1s\n",
      "[CV] base_estimator__max_depth=7, n_estimators=100 ...................\n",
      "[CV] .... base_estimator__max_depth=7, n_estimators=100, total=   0.1s\n",
      "[CV] base_estimator__max_depth=7, n_estimators=100 ...................\n"
     ]
    },
    {
     "name": "stdout",
     "output_type": "stream",
     "text": [
      "[CV] .... base_estimator__max_depth=7, n_estimators=100, total=   0.1s\n",
      "[CV] base_estimator__max_depth=7, n_estimators=200 ...................\n",
      "[CV] .... base_estimator__max_depth=7, n_estimators=200, total=   0.2s\n",
      "[CV] base_estimator__max_depth=7, n_estimators=200 ...................\n",
      "[CV] .... base_estimator__max_depth=7, n_estimators=200, total=   0.2s\n",
      "[CV] base_estimator__max_depth=7, n_estimators=200 ...................\n",
      "[CV] .... base_estimator__max_depth=7, n_estimators=200, total=   0.2s\n",
      "[CV] base_estimator__max_depth=7, n_estimators=200 ...................\n",
      "[CV] .... base_estimator__max_depth=7, n_estimators=200, total=   0.3s\n",
      "[CV] base_estimator__max_depth=7, n_estimators=200 ...................\n",
      "[CV] .... base_estimator__max_depth=7, n_estimators=200, total=   0.2s\n",
      "[CV] base_estimator__max_depth=7, n_estimators=300 ...................\n",
      "[CV] .... base_estimator__max_depth=7, n_estimators=300, total=   0.4s\n",
      "[CV] base_estimator__max_depth=7, n_estimators=300 ...................\n",
      "[CV] .... base_estimator__max_depth=7, n_estimators=300, total=   0.3s\n",
      "[CV] base_estimator__max_depth=7, n_estimators=300 ...................\n",
      "[CV] .... base_estimator__max_depth=7, n_estimators=300, total=   0.4s\n",
      "[CV] base_estimator__max_depth=7, n_estimators=300 ...................\n",
      "[CV] .... base_estimator__max_depth=7, n_estimators=300, total=   0.5s\n",
      "[CV] base_estimator__max_depth=7, n_estimators=300 ...................\n",
      "[CV] .... base_estimator__max_depth=7, n_estimators=300, total=   0.4s\n"
     ]
    },
    {
     "name": "stderr",
     "output_type": "stream",
     "text": [
      "[Parallel(n_jobs=1)]: Done  80 out of  80 | elapsed:    9.0s finished\n"
     ]
    },
    {
     "data": {
      "text/plain": [
       "GridSearchCV(estimator=AdaBoostRegressor(base_estimator=DecisionTreeRegressor()),\n",
       "             param_grid={'base_estimator__max_depth': [1, 3, 5, 7],\n",
       "                         'n_estimators': [50, 100, 200, 300]},\n",
       "             verbose=2)"
      ]
     },
     "execution_count": 57,
     "metadata": {},
     "output_type": "execute_result"
    }
   ],
   "source": [
    "gs.fit(X_train, y_train)"
   ]
  },
  {
   "cell_type": "code",
   "execution_count": 30,
   "metadata": {
    "ExecuteTime": {
     "end_time": "2022-12-22T16:47:00.111220Z",
     "start_time": "2022-12-22T16:47:00.098689Z"
    }
   },
   "outputs": [
    {
     "data": {
      "text/plain": [
       "{'base_estimator__max_depth': 5, 'n_estimators': 50}"
      ]
     },
     "execution_count": 30,
     "metadata": {},
     "output_type": "execute_result"
    }
   ],
   "source": [
    "gs.best_params_\n"
   ]
  },
  {
   "cell_type": "code",
   "execution_count": 32,
   "metadata": {
    "ExecuteTime": {
     "end_time": "2022-12-22T16:47:11.086930Z",
     "start_time": "2022-12-22T16:47:11.069455Z"
    }
   },
   "outputs": [
    {
     "data": {
      "text/plain": [
       "0.9254631046247986"
      ]
     },
     "execution_count": 32,
     "metadata": {},
     "output_type": "execute_result"
    }
   ],
   "source": [
    "gs.best_score_"
   ]
  },
  {
   "cell_type": "markdown",
   "metadata": {},
   "source": [
    "### Galaxy Data"
   ]
  },
  {
   "cell_type": "code",
   "execution_count": 33,
   "metadata": {
    "ExecuteTime": {
     "end_time": "2022-12-22T16:48:12.630610Z",
     "start_time": "2022-12-22T16:48:12.545082Z"
    }
   },
   "outputs": [
    {
     "data": {
      "text/html": [
       "<div>\n",
       "<style scoped>\n",
       "    .dataframe tbody tr th:only-of-type {\n",
       "        vertical-align: middle;\n",
       "    }\n",
       "\n",
       "    .dataframe tbody tr th {\n",
       "        vertical-align: top;\n",
       "    }\n",
       "\n",
       "    .dataframe thead th {\n",
       "        text-align: right;\n",
       "    }\n",
       "</style>\n",
       "<table border=\"1\" class=\"dataframe\">\n",
       "  <thead>\n",
       "    <tr style=\"text-align: right;\">\n",
       "      <th></th>\n",
       "      <th>Nr</th>\n",
       "      <th>Rmag</th>\n",
       "      <th>e.Rmag</th>\n",
       "      <th>ApDRmag</th>\n",
       "      <th>mumax</th>\n",
       "      <th>Mcz</th>\n",
       "      <th>e.Mcz</th>\n",
       "      <th>MCzml</th>\n",
       "      <th>chi2red</th>\n",
       "      <th>UjMAG</th>\n",
       "      <th>...</th>\n",
       "      <th>UFS</th>\n",
       "      <th>e.UFS</th>\n",
       "      <th>BFS</th>\n",
       "      <th>e.BFS</th>\n",
       "      <th>VFD</th>\n",
       "      <th>e.VFD</th>\n",
       "      <th>RFS</th>\n",
       "      <th>e.RFS</th>\n",
       "      <th>IFD</th>\n",
       "      <th>e.IFD</th>\n",
       "    </tr>\n",
       "  </thead>\n",
       "  <tbody>\n",
       "    <tr>\n",
       "      <th>0</th>\n",
       "      <td>6</td>\n",
       "      <td>24.995</td>\n",
       "      <td>0.097</td>\n",
       "      <td>0.935</td>\n",
       "      <td>24.214</td>\n",
       "      <td>0.832</td>\n",
       "      <td>0.036</td>\n",
       "      <td>1.400</td>\n",
       "      <td>0.64</td>\n",
       "      <td>-17.67</td>\n",
       "      <td>...</td>\n",
       "      <td>0.01870</td>\n",
       "      <td>0.00239</td>\n",
       "      <td>0.01630</td>\n",
       "      <td>0.00129</td>\n",
       "      <td>0.017300</td>\n",
       "      <td>0.00141</td>\n",
       "      <td>0.01650</td>\n",
       "      <td>0.000434</td>\n",
       "      <td>0.02470</td>\n",
       "      <td>0.00483</td>\n",
       "    </tr>\n",
       "    <tr>\n",
       "      <th>1</th>\n",
       "      <td>9</td>\n",
       "      <td>25.013</td>\n",
       "      <td>0.181</td>\n",
       "      <td>-0.135</td>\n",
       "      <td>25.303</td>\n",
       "      <td>0.927</td>\n",
       "      <td>0.122</td>\n",
       "      <td>0.864</td>\n",
       "      <td>0.41</td>\n",
       "      <td>-18.28</td>\n",
       "      <td>...</td>\n",
       "      <td>0.00706</td>\n",
       "      <td>0.00238</td>\n",
       "      <td>0.00420</td>\n",
       "      <td>0.00115</td>\n",
       "      <td>0.003930</td>\n",
       "      <td>0.00182</td>\n",
       "      <td>0.00723</td>\n",
       "      <td>0.000500</td>\n",
       "      <td>0.00973</td>\n",
       "      <td>0.00460</td>\n",
       "    </tr>\n",
       "    <tr>\n",
       "      <th>2</th>\n",
       "      <td>16</td>\n",
       "      <td>24.246</td>\n",
       "      <td>0.054</td>\n",
       "      <td>0.821</td>\n",
       "      <td>23.511</td>\n",
       "      <td>1.202</td>\n",
       "      <td>0.037</td>\n",
       "      <td>1.217</td>\n",
       "      <td>0.92</td>\n",
       "      <td>-19.75</td>\n",
       "      <td>...</td>\n",
       "      <td>0.01260</td>\n",
       "      <td>0.00184</td>\n",
       "      <td>0.01830</td>\n",
       "      <td>0.00115</td>\n",
       "      <td>0.018800</td>\n",
       "      <td>0.00167</td>\n",
       "      <td>0.02880</td>\n",
       "      <td>0.000655</td>\n",
       "      <td>0.05700</td>\n",
       "      <td>0.00465</td>\n",
       "    </tr>\n",
       "    <tr>\n",
       "      <th>3</th>\n",
       "      <td>21</td>\n",
       "      <td>25.203</td>\n",
       "      <td>0.128</td>\n",
       "      <td>0.639</td>\n",
       "      <td>24.948</td>\n",
       "      <td>0.912</td>\n",
       "      <td>0.177</td>\n",
       "      <td>0.776</td>\n",
       "      <td>0.39</td>\n",
       "      <td>-17.83</td>\n",
       "      <td>...</td>\n",
       "      <td>0.01410</td>\n",
       "      <td>0.00186</td>\n",
       "      <td>0.01180</td>\n",
       "      <td>0.00110</td>\n",
       "      <td>0.009670</td>\n",
       "      <td>0.00204</td>\n",
       "      <td>0.01050</td>\n",
       "      <td>0.000416</td>\n",
       "      <td>0.01340</td>\n",
       "      <td>0.00330</td>\n",
       "    </tr>\n",
       "    <tr>\n",
       "      <th>4</th>\n",
       "      <td>26</td>\n",
       "      <td>25.504</td>\n",
       "      <td>0.112</td>\n",
       "      <td>-1.588</td>\n",
       "      <td>24.934</td>\n",
       "      <td>0.848</td>\n",
       "      <td>0.067</td>\n",
       "      <td>1.330</td>\n",
       "      <td>1.45</td>\n",
       "      <td>-17.69</td>\n",
       "      <td>...</td>\n",
       "      <td>0.00514</td>\n",
       "      <td>0.00170</td>\n",
       "      <td>0.00102</td>\n",
       "      <td>0.00127</td>\n",
       "      <td>0.000039</td>\n",
       "      <td>0.00160</td>\n",
       "      <td>0.00139</td>\n",
       "      <td>0.000499</td>\n",
       "      <td>0.00590</td>\n",
       "      <td>0.00444</td>\n",
       "    </tr>\n",
       "  </tbody>\n",
       "</table>\n",
       "<p>5 rows × 65 columns</p>\n",
       "</div>"
      ],
      "text/plain": [
       "   Nr    Rmag  e.Rmag  ApDRmag   mumax    Mcz  e.Mcz  MCzml  chi2red  UjMAG  \\\n",
       "0   6  24.995   0.097    0.935  24.214  0.832  0.036  1.400     0.64 -17.67   \n",
       "1   9  25.013   0.181   -0.135  25.303  0.927  0.122  0.864     0.41 -18.28   \n",
       "2  16  24.246   0.054    0.821  23.511  1.202  0.037  1.217     0.92 -19.75   \n",
       "3  21  25.203   0.128    0.639  24.948  0.912  0.177  0.776     0.39 -17.83   \n",
       "4  26  25.504   0.112   -1.588  24.934  0.848  0.067  1.330     1.45 -17.69   \n",
       "\n",
       "   ...      UFS    e.UFS      BFS    e.BFS       VFD    e.VFD      RFS  \\\n",
       "0  ...  0.01870  0.00239  0.01630  0.00129  0.017300  0.00141  0.01650   \n",
       "1  ...  0.00706  0.00238  0.00420  0.00115  0.003930  0.00182  0.00723   \n",
       "2  ...  0.01260  0.00184  0.01830  0.00115  0.018800  0.00167  0.02880   \n",
       "3  ...  0.01410  0.00186  0.01180  0.00110  0.009670  0.00204  0.01050   \n",
       "4  ...  0.00514  0.00170  0.00102  0.00127  0.000039  0.00160  0.00139   \n",
       "\n",
       "      e.RFS      IFD    e.IFD  \n",
       "0  0.000434  0.02470  0.00483  \n",
       "1  0.000500  0.00973  0.00460  \n",
       "2  0.000655  0.05700  0.00465  \n",
       "3  0.000416  0.01340  0.00330  \n",
       "4  0.000499  0.00590  0.00444  \n",
       "\n",
       "[5 rows x 65 columns]"
      ]
     },
     "execution_count": 33,
     "metadata": {},
     "output_type": "execute_result"
    }
   ],
   "source": [
    "galaxies = pd.read_csv('data/COMBO17.csv')\n",
    "galaxies.head()"
   ]
  },
  {
   "cell_type": "markdown",
   "metadata": {},
   "source": [
    "This is a dataset about galaxies. The Mcz and MCzml columns are measures of redshift, which is our target. Mcz is usually understood to be a better measure, so that will be our target column. Many of the other columns have to do with various measures of galaxies' magnitudes. For more on the dataset, see [here](https://astrostatistics.psu.edu/datasets/COMBO17.html)."
   ]
  },
  {
   "cell_type": "code",
   "execution_count": 34,
   "metadata": {
    "ExecuteTime": {
     "end_time": "2022-12-22T16:48:34.270596Z",
     "start_time": "2022-12-22T16:48:34.258595Z"
    }
   },
   "outputs": [
    {
     "data": {
      "text/plain": [
       "Index(['Nr', 'Rmag', 'e.Rmag', 'ApDRmag', 'mumax', 'Mcz', 'e.Mcz', 'MCzml',\n",
       "       'chi2red', 'UjMAG', 'e.UjMAG', 'BjMAG', 'e.BjMAG', 'VjMAG', 'e.VjMAG',\n",
       "       'usMAG', 'e.usMAG', 'gsMAG', 'e.gsMAG', 'rsMAG', 'e.rsMAG', 'UbMAG',\n",
       "       'e.UbMAG', 'BbMAG', 'e.BbMAG', 'VnMAG', 'e.VbMAG', 'S280MAG',\n",
       "       'e.S280MA', 'W420FE', 'e.W420FE', 'W462FE', 'e.W462FE', 'W485FD',\n",
       "       'e.W485FD', 'W518FE', 'e.W518FE', 'W571FS', 'e.W571FS', 'W604FE',\n",
       "       'e.W604FE', 'W646FD', 'e.W646FD', 'W696FE', 'e.W696FE', 'W753FE',\n",
       "       'e.W753FE', 'W815FS', 'e.W815FS', 'W856FD', 'e.W856FD', 'W914FD',\n",
       "       'e.W914FD', 'W914FE', 'e.W914FE', 'UFS', 'e.UFS', 'BFS', 'e.BFS', 'VFD',\n",
       "       'e.VFD', 'RFS', 'e.RFS', 'IFD', 'e.IFD'],\n",
       "      dtype='object')"
      ]
     },
     "execution_count": 34,
     "metadata": {},
     "output_type": "execute_result"
    }
   ],
   "source": [
    "galaxies.columns"
   ]
  },
  {
   "cell_type": "code",
   "execution_count": 35,
   "metadata": {
    "ExecuteTime": {
     "end_time": "2022-12-22T16:48:37.571657Z",
     "start_time": "2022-12-22T16:48:37.550127Z"
    }
   },
   "outputs": [
    {
     "data": {
      "text/plain": [
       "50"
      ]
     },
     "execution_count": 35,
     "metadata": {},
     "output_type": "execute_result"
    }
   ],
   "source": [
    "galaxies.isnull().sum().sum()"
   ]
  },
  {
   "cell_type": "code",
   "execution_count": 36,
   "metadata": {
    "ExecuteTime": {
     "end_time": "2022-12-22T16:48:38.731412Z",
     "start_time": "2022-12-22T16:48:38.710884Z"
    },
    "scrolled": true
   },
   "outputs": [
    {
     "name": "stdout",
     "output_type": "stream",
     "text": [
      "<class 'pandas.core.frame.DataFrame'>\n",
      "RangeIndex: 3462 entries, 0 to 3461\n",
      "Data columns (total 65 columns):\n",
      " #   Column    Non-Null Count  Dtype  \n",
      "---  ------    --------------  -----  \n",
      " 0   Nr        3462 non-null   int64  \n",
      " 1   Rmag      3462 non-null   float64\n",
      " 2   e.Rmag    3462 non-null   float64\n",
      " 3   ApDRmag   3462 non-null   float64\n",
      " 4   mumax     3462 non-null   float64\n",
      " 5   Mcz       3462 non-null   float64\n",
      " 6   e.Mcz     3462 non-null   float64\n",
      " 7   MCzml     3462 non-null   float64\n",
      " 8   chi2red   3462 non-null   float64\n",
      " 9   UjMAG     3462 non-null   float64\n",
      " 10  e.UjMAG   3462 non-null   float64\n",
      " 11  BjMAG     3462 non-null   float64\n",
      " 12  e.BjMAG   3462 non-null   float64\n",
      " 13  VjMAG     3462 non-null   float64\n",
      " 14  e.VjMAG   3462 non-null   float64\n",
      " 15  usMAG     3462 non-null   float64\n",
      " 16  e.usMAG   3462 non-null   float64\n",
      " 17  gsMAG     3462 non-null   float64\n",
      " 18  e.gsMAG   3462 non-null   float64\n",
      " 19  rsMAG     3462 non-null   float64\n",
      " 20  e.rsMAG   3462 non-null   float64\n",
      " 21  UbMAG     3462 non-null   float64\n",
      " 22  e.UbMAG   3462 non-null   float64\n",
      " 23  BbMAG     3462 non-null   float64\n",
      " 24  e.BbMAG   3462 non-null   float64\n",
      " 25  VnMAG     3461 non-null   float64\n",
      " 26  e.VbMAG   3461 non-null   float64\n",
      " 27  S280MAG   3438 non-null   float64\n",
      " 28  e.S280MA  3438 non-null   float64\n",
      " 29  W420FE    3462 non-null   float64\n",
      " 30  e.W420FE  3462 non-null   object \n",
      " 31  W462FE    3462 non-null   float64\n",
      " 32  e.W462FE  3462 non-null   float64\n",
      " 33  W485FD    3462 non-null   float64\n",
      " 34  e.W485FD  3462 non-null   float64\n",
      " 35  W518FE    3462 non-null   float64\n",
      " 36  e.W518FE  3462 non-null   float64\n",
      " 37  W571FS    3462 non-null   float64\n",
      " 38  e.W571FS  3462 non-null   float64\n",
      " 39  W604FE    3462 non-null   float64\n",
      " 40  e.W604FE  3462 non-null   float64\n",
      " 41  W646FD    3462 non-null   float64\n",
      " 42  e.W646FD  3462 non-null   float64\n",
      " 43  W696FE    3462 non-null   float64\n",
      " 44  e.W696FE  3462 non-null   float64\n",
      " 45  W753FE    3462 non-null   float64\n",
      " 46  e.W753FE  3462 non-null   float64\n",
      " 47  W815FS    3462 non-null   float64\n",
      " 48  e.W815FS  3462 non-null   float64\n",
      " 49  W856FD    3462 non-null   float64\n",
      " 50  e.W856FD  3462 non-null   float64\n",
      " 51  W914FD    3462 non-null   float64\n",
      " 52  e.W914FD  3462 non-null   float64\n",
      " 53  W914FE    3462 non-null   float64\n",
      " 54  e.W914FE  3462 non-null   float64\n",
      " 55  UFS       3462 non-null   float64\n",
      " 56  e.UFS     3462 non-null   float64\n",
      " 57  BFS       3462 non-null   float64\n",
      " 58  e.BFS     3462 non-null   float64\n",
      " 59  VFD       3462 non-null   float64\n",
      " 60  e.VFD     3462 non-null   float64\n",
      " 61  RFS       3462 non-null   float64\n",
      " 62  e.RFS     3462 non-null   float64\n",
      " 63  IFD       3462 non-null   float64\n",
      " 64  e.IFD     3462 non-null   float64\n",
      "dtypes: float64(63), int64(1), object(1)\n",
      "memory usage: 1.7+ MB\n"
     ]
    }
   ],
   "source": [
    "galaxies.info()"
   ]
  },
  {
   "cell_type": "code",
   "execution_count": 37,
   "metadata": {
    "ExecuteTime": {
     "end_time": "2022-12-22T16:48:39.289192Z",
     "start_time": "2022-12-22T16:48:39.276222Z"
    }
   },
   "outputs": [],
   "source": [
    "galaxies = galaxies.dropna()"
   ]
  },
  {
   "cell_type": "markdown",
   "metadata": {},
   "source": [
    "Let's collect together the columns that have high correlation with Mcz, our target:"
   ]
  },
  {
   "cell_type": "code",
   "execution_count": 38,
   "metadata": {
    "ExecuteTime": {
     "end_time": "2022-12-22T16:48:53.740859Z",
     "start_time": "2022-12-22T16:48:51.766360Z"
    }
   },
   "outputs": [],
   "source": [
    "preds = []\n",
    "for ind in galaxies.corr()['Mcz'].index:\n",
    "    if abs(galaxies.corr()['Mcz'][ind]) > 0.5:\n",
    "        preds.append(ind)"
   ]
  },
  {
   "cell_type": "code",
   "execution_count": 39,
   "metadata": {
    "ExecuteTime": {
     "end_time": "2022-12-22T16:48:55.848524Z",
     "start_time": "2022-12-22T16:48:55.842024Z"
    }
   },
   "outputs": [
    {
     "data": {
      "text/plain": [
       "['Mcz',\n",
       " 'e.Mcz',\n",
       " 'MCzml',\n",
       " 'UjMAG',\n",
       " 'BjMAG',\n",
       " 'VjMAG',\n",
       " 'usMAG',\n",
       " 'gsMAG',\n",
       " 'rsMAG',\n",
       " 'UbMAG',\n",
       " 'BbMAG',\n",
       " 'VnMAG',\n",
       " 'S280MAG']"
      ]
     },
     "execution_count": 39,
     "metadata": {},
     "output_type": "execute_result"
    }
   ],
   "source": [
    "preds"
   ]
  },
  {
   "cell_type": "code",
   "execution_count": 40,
   "metadata": {
    "ExecuteTime": {
     "end_time": "2022-12-22T16:49:05.589232Z",
     "start_time": "2022-12-22T16:49:04.717731Z"
    },
    "scrolled": false
   },
   "outputs": [
    {
     "data": {
      "text/plain": [
       "<AxesSubplot:>"
      ]
     },
     "execution_count": 40,
     "metadata": {},
     "output_type": "execute_result"
    },
    {
     "data": {
      "image/png": "[encoded data removed]",
      "text/plain": [
       "<Figure size 864x864 with 2 Axes>"
      ]
     },
     "metadata": {
      "needs_background": "light"
     },
     "output_type": "display_data"
    }
   ],
   "source": [
    "corr = galaxies[preds].corr()\n",
    "\n",
    "mask = np.zeros_like(corr)\n",
    "mask[np.triu_indices_from(mask)] = True\n",
    "\n",
    "fig,ax = plt.subplots(figsize=(12,12))\n",
    "\n",
    "sns.heatmap(corr, mask=mask, annot=True, ax=ax)"
   ]
  },
  {
   "cell_type": "markdown",
   "metadata": {},
   "source": [
    "These various magnitude columns all have high correlations **with one another**! Let's try a simple model with just the MCzml column, since it has the highest correlation with Mcz."
   ]
  },
  {
   "cell_type": "code",
   "execution_count": 41,
   "metadata": {
    "ExecuteTime": {
     "end_time": "2022-12-22T16:49:29.333180Z",
     "start_time": "2022-12-22T16:49:29.321680Z"
    }
   },
   "outputs": [],
   "source": [
    "galaxies_x = galaxies['MCzml']\n",
    "galaxies_y = galaxies['Mcz']"
   ]
  },
  {
   "cell_type": "markdown",
   "metadata": {},
   "source": [
    "Since we only have one predictor, we can visualize the correlation with the target! We can also reshape it for modeling purposes!"
   ]
  },
  {
   "cell_type": "code",
   "execution_count": 42,
   "metadata": {
    "ExecuteTime": {
     "end_time": "2022-12-22T16:49:33.639712Z",
     "start_time": "2022-12-22T16:49:33.635246Z"
    }
   },
   "outputs": [],
   "source": [
    "galaxies_x_rev = galaxies_x.values.reshape(-1, 1)"
   ]
  },
  {
   "cell_type": "code",
   "execution_count": 43,
   "metadata": {
    "ExecuteTime": {
     "end_time": "2022-12-22T16:50:04.041603Z",
     "start_time": "2022-12-22T16:50:04.024603Z"
    }
   },
   "outputs": [
    {
     "data": {
      "text/plain": [
       "(3438,)"
      ]
     },
     "execution_count": 43,
     "metadata": {},
     "output_type": "execute_result"
    }
   ],
   "source": [
    "galaxies_x.shape"
   ]
  },
  {
   "cell_type": "code",
   "execution_count": 45,
   "metadata": {
    "ExecuteTime": {
     "end_time": "2022-12-22T16:50:21.559154Z",
     "start_time": "2022-12-22T16:50:21.551652Z"
    }
   },
   "outputs": [
    {
     "data": {
      "text/plain": [
       "(3438, 1)"
      ]
     },
     "execution_count": 45,
     "metadata": {},
     "output_type": "execute_result"
    }
   ],
   "source": [
    "galaxies_x_rev.shape"
   ]
  },
  {
   "cell_type": "code",
   "execution_count": 46,
   "metadata": {
    "ExecuteTime": {
     "end_time": "2022-12-22T16:50:38.334444Z",
     "start_time": "2022-12-22T16:50:38.167943Z"
    }
   },
   "outputs": [
    {
     "data": {
      "image/png": "[encoded data removed]",
      "text/plain": [
       "<Figure size 432x288 with 1 Axes>"
      ]
     },
     "metadata": {
      "needs_background": "light"
     },
     "output_type": "display_data"
    }
   ],
   "source": [
    "fig, ax = plt.subplots()\n",
    "\n",
    "ax.scatter(galaxies_x_rev, galaxies_y, alpha=0.1);"
   ]
  },
  {
   "cell_type": "code",
   "execution_count": 47,
   "metadata": {
    "ExecuteTime": {
     "end_time": "2022-12-22T16:50:45.027151Z",
     "start_time": "2022-12-22T16:50:45.015650Z"
    }
   },
   "outputs": [],
   "source": [
    "galaxies_x_train, galaxies_x_test, galaxies_y_train, galaxies_y_test =\\\n",
    "train_test_split(galaxies_x_rev, galaxies_y, random_state=42)"
   ]
  },
  {
   "cell_type": "code",
   "execution_count": 48,
   "metadata": {
    "ExecuteTime": {
     "end_time": "2022-12-22T16:51:21.004655Z",
     "start_time": "2022-12-22T16:51:20.975656Z"
    }
   },
   "outputs": [
    {
     "data": {
      "text/plain": [
       "AdaBoostRegressor(random_state=42)"
      ]
     },
     "execution_count": 48,
     "metadata": {},
     "output_type": "execute_result"
    }
   ],
   "source": [
    "# Adaboost Regressor\n",
    "\n",
    "abr = AdaBoostRegressor(random_state=42)\n",
    "\n",
    "abr.fit(galaxies_x_train, galaxies_y_train)"
   ]
  },
  {
   "cell_type": "code",
   "execution_count": 50,
   "metadata": {
    "ExecuteTime": {
     "end_time": "2022-12-22T16:51:44.184943Z",
     "start_time": "2022-12-22T16:51:44.071444Z"
    }
   },
   "outputs": [
    {
     "data": {
      "text/plain": [
       "0.7135533663577616"
      ]
     },
     "execution_count": 50,
     "metadata": {},
     "output_type": "execute_result"
    }
   ],
   "source": [
    "np.mean(cross_val_score(abr, galaxies_x_train, galaxies_y_train))"
   ]
  },
  {
   "cell_type": "code",
   "execution_count": 51,
   "metadata": {
    "ExecuteTime": {
     "end_time": "2022-12-22T16:51:55.512613Z",
     "start_time": "2022-12-22T16:51:55.498082Z"
    }
   },
   "outputs": [
    {
     "data": {
      "text/plain": [
       "0.7134813505820434"
      ]
     },
     "execution_count": 51,
     "metadata": {},
     "output_type": "execute_result"
    }
   ],
   "source": [
    "abr.score(galaxies_x_test, galaxies_y_test)"
   ]
  },
  {
   "cell_type": "markdown",
   "metadata": {},
   "source": [
    "#### Hyperparameter Tuning"
   ]
  },
  {
   "cell_type": "markdown",
   "metadata": {},
   "source": [
    "Let's see if we can do better by trying different hyperparameter values:"
   ]
  },
  {
   "cell_type": "code",
   "execution_count": 58,
   "metadata": {
    "ExecuteTime": {
     "end_time": "2022-12-22T16:54:16.617436Z",
     "start_time": "2022-12-22T16:54:16.600936Z"
    }
   },
   "outputs": [],
   "source": [
    "# GRID IT!\n",
    "gs = GridSearchCV(estimator=abr,\n",
    "                 param_grid={\n",
    "                     'n_estimators': [25, 50, 100],\n",
    "                     'loss': ['linear', 'square']\n",
    "                 }, cv=5)"
   ]
  },
  {
   "cell_type": "code",
   "execution_count": 59,
   "metadata": {
    "ExecuteTime": {
     "end_time": "2022-12-22T16:54:33.966275Z",
     "start_time": "2022-12-22T16:54:33.319274Z"
    }
   },
   "outputs": [
    {
     "data": {
      "text/plain": [
       "GridSearchCV(cv=5, estimator=AdaBoostRegressor(random_state=42),\n",
       "             param_grid={'loss': ['linear', 'square'],\n",
       "                         'n_estimators': [25, 50, 100]})"
      ]
     },
     "execution_count": 59,
     "metadata": {},
     "output_type": "execute_result"
    }
   ],
   "source": [
    "gs.fit(galaxies_x_train, galaxies_y_train)"
   ]
  },
  {
   "cell_type": "code",
   "execution_count": 60,
   "metadata": {
    "ExecuteTime": {
     "end_time": "2022-12-22T16:54:38.100285Z",
     "start_time": "2022-12-22T16:54:38.085284Z"
    }
   },
   "outputs": [
    {
     "data": {
      "text/plain": [
       "AdaBoostRegressor(n_estimators=25, random_state=42)"
      ]
     },
     "execution_count": 60,
     "metadata": {},
     "output_type": "execute_result"
    }
   ],
   "source": [
    "gs.best_estimator_"
   ]
  },
  {
   "cell_type": "code",
   "execution_count": 61,
   "metadata": {
    "ExecuteTime": {
     "end_time": "2022-12-22T16:54:43.364620Z",
     "start_time": "2022-12-22T16:54:43.353579Z"
    }
   },
   "outputs": [
    {
     "data": {
      "text/plain": [
       "0.7135533663577616"
      ]
     },
     "execution_count": 61,
     "metadata": {},
     "output_type": "execute_result"
    }
   ],
   "source": [
    "gs.best_score_"
   ]
  },
  {
   "cell_type": "code",
   "execution_count": 62,
   "metadata": {
    "ExecuteTime": {
     "end_time": "2022-12-22T16:54:54.980292Z",
     "start_time": "2022-12-22T16:54:54.972292Z"
    }
   },
   "outputs": [
    {
     "data": {
      "text/plain": [
       "0.7134813505820434"
      ]
     },
     "execution_count": 62,
     "metadata": {},
     "output_type": "execute_result"
    }
   ],
   "source": [
    "gs.best_estimator_.score(galaxies_x_test, galaxies_y_test)"
   ]
  },
  {
   "cell_type": "markdown",
   "metadata": {},
   "source": [
    "\n",
    "# Gradient Boosting"
   ]
  },
  {
   "cell_type": "markdown",
   "metadata": {},
   "source": [
    "> Use gradient descent to improve the model\n",
    "\n",
    "![](images/gradient_boosting_residuals.png)"
   ]
  },
  {
   "cell_type": "markdown",
   "metadata": {},
   "source": [
    "- **Gradient Boosting** works instead by training each new learner on the residuals of the model built with the learners that have so far been constructed. That is, Model $n+1$ (with $n+1$ learners) will focus on the predictions of Model $n$ (with only $n$ learners) that were **most off the mark**. As the training process repeats, the learners learn and the residuals get smaller. I would get a sequence going: a<br/> Model 0 is very simple. Perhaps it merely predicts the mean: <br/>\n",
    "$\\hat{y}_0 = \\bar{y}$; <br/>\n",
    "Model 1's predictions would then be the sum of (i) Model 0's predictions and (ii) the predictions of the model fitted to Model 0's residuals: <br/> $\\hat{y}_1 = \\hat{y}_0 + \\hat{(y - \\hat{y})}_{err0}$; <br/>\n",
    "Now iterate: Model 2's predictions will be the sum of (i) Model 0's predictions, (ii) the predictions of the model fitted to Model 0's residuals, and (iii) the predictions of the model fitted to Model 1's residuals: <br/> $\\hat{y}_2 = \\hat{y}_0 + \\hat{(y - \\hat{y})}_{err0} + \\hat{(y - \\hat{y})}_{err1}$<br/>\n",
    "Etc.\n",
    "<br/>"
   ]
  },
  {
   "cell_type": "markdown",
   "metadata": {},
   "source": [
    "$\\rightarrow$ How does gradient boosting work for a classification problem? How do we even make sense of the notion of a gradient in that context? The short answer is that we appeal to the probabilities associated with the predictions for the various classes. See more on this topic [here](https://sefiks.com/2018/10/29/a-step-by-step-gradient-boosting-example-for-classification/). <br/> $\\rightarrow$ Why is this called \"_gradient_ boosting\"? Because using a model's residuals to build a new model is using information about the derivative of that model's loss function. See more on this topic [here](https://www.ritchievink.com/blog/2018/11/19/algorithm-breakdown-why-do-we-call-it-gradient-boosting/)."
   ]
  },
  {
   "cell_type": "markdown",
   "metadata": {},
   "source": [
    "## Algorithm"
   ]
  },
  {
   "cell_type": "markdown",
   "metadata": {},
   "source": [
    "Use mean squared error (MSE) and want to minimize that <-- done by gradient descent\n",
    "\n",
    "Use the residuals (pattern in the residuals) to create an even better model\n",
    "\n",
    "1. Fit a model to the data, $F_1(x) = y$\n",
    "2. Fit a model to the residuals, $h_1(x) = y - F_1(x)$\n",
    "3. Create a new model, $F_2(x) = F_1(x) + h_1(x)$\n",
    "4. Repeat"
   ]
  },
  {
   "cell_type": "markdown",
   "metadata": {},
   "source": [
    "## Example of Iterative Steps"
   ]
  },
  {
   "cell_type": "markdown",
   "metadata": {},
   "source": [
    "https://scikit-learn.org/stable/modules/generated/sklearn.ensemble.GradientBoostingClassifier.html"
   ]
  },
  {
   "cell_type": "markdown",
   "metadata": {},
   "source": [
    "> Parts adapted from https://github.com/ageron/handson-ml/blob/master/07_ensemble_learning_and_random_forests.ipynb"
   ]
  },
  {
   "cell_type": "markdown",
   "metadata": {},
   "source": [
    "### Recall our noisy data from earlier"
   ]
  },
  {
   "cell_type": "code",
   "execution_count": 63,
   "metadata": {
    "ExecuteTime": {
     "end_time": "2022-12-22T17:02:12.054099Z",
     "start_time": "2022-12-22T17:02:11.898125Z"
    },
    "scrolled": true
   },
   "outputs": [
    {
     "data": {
      "image/png": "[encoded data removed]",
      "text/plain": [
       "<Figure size 432x288 with 1 Axes>"
      ]
     },
     "metadata": {
      "needs_background": "light"
     },
     "output_type": "display_data"
    }
   ],
   "source": [
    "fig, ax = plt.subplots()\n",
    "ax.scatter(X, y, alpha=0.3);"
   ]
  },
  {
   "cell_type": "code",
   "execution_count": 64,
   "metadata": {
    "ExecuteTime": {
     "end_time": "2022-12-22T17:02:12.503598Z",
     "start_time": "2022-12-22T17:02:12.223599Z"
    }
   },
   "outputs": [
    {
     "data": {
      "image/png": "[encoded data removed]",
      "text/plain": [
       "<Figure size 864x288 with 2 Axes>"
      ]
     },
     "metadata": {
      "needs_background": "light"
     },
     "output_type": "display_data"
    }
   ],
   "source": [
    "f, (ax0, ax1) = plt.subplots(ncols=2, figsize=(12,4))\n",
    "ax0.scatter(X_train, y_train, alpha=0.3)\n",
    "ax1.scatter(X_test, y_test, alpha=0.3);"
   ]
  },
  {
   "cell_type": "code",
   "execution_count": 65,
   "metadata": {
    "ExecuteTime": {
     "end_time": "2022-12-22T17:02:13.061599Z",
     "start_time": "2022-12-22T17:02:12.740099Z"
    }
   },
   "outputs": [
    {
     "data": {
      "image/png": "[encoded data removed]",
      "text/plain": [
       "<Figure size 864x288 with 3 Axes>"
      ]
     },
     "metadata": {
      "needs_background": "light"
     },
     "output_type": "display_data"
    }
   ],
   "source": [
    "f, (ax0, ax1, ax2) = plt.subplots(ncols=3, figsize=(12,4))\n",
    "ax0.scatter(X, y, alpha=0.3)\n",
    "ax1.scatter(X_train, y_train, alpha=0.3)\n",
    "ax2.scatter(X_test, y_test, alpha=0.3);"
   ]
  },
  {
   "cell_type": "markdown",
   "metadata": {},
   "source": [
    "### Train iteratively on the residuals of its predecessor"
   ]
  },
  {
   "cell_type": "code",
   "execution_count": 66,
   "metadata": {
    "ExecuteTime": {
     "end_time": "2022-12-22T17:02:18.763916Z",
     "start_time": "2022-12-22T17:02:18.748415Z"
    }
   },
   "outputs": [
    {
     "data": {
      "text/plain": [
       "DecisionTreeRegressor(max_depth=2, random_state=42)"
      ]
     },
     "execution_count": 66,
     "metadata": {},
     "output_type": "execute_result"
    }
   ],
   "source": [
    "# First iteration\n",
    "tree_reg1 = DecisionTreeRegressor(max_depth=2, random_state=seed)\n",
    "tree_reg1.fit(X_train, y_train)"
   ]
  },
  {
   "cell_type": "code",
   "execution_count": 67,
   "metadata": {
    "ExecuteTime": {
     "end_time": "2022-12-22T17:02:23.800078Z",
     "start_time": "2022-12-22T17:02:23.789050Z"
    },
    "scrolled": true
   },
   "outputs": [
    {
     "data": {
      "text/plain": [
       "array([ 3.30154798e-03,  3.19955483e-02, -9.62530084e-02,  1.75181574e-01,\n",
       "        1.69543309e-01,  2.21286564e-01,  8.26686747e-02, -8.12316769e-02,\n",
       "       -1.81570847e-01, -4.18856474e-02, -7.71662713e-02, -9.57087064e-02,\n",
       "        2.18077976e-01, -1.49712455e-01,  1.49976623e-01, -1.98858376e-01,\n",
       "       -3.48273009e-02,  8.03963757e-02, -1.55889874e-02, -1.16599848e-01,\n",
       "        1.48075610e-01, -1.58321608e-01, -1.29442126e-02, -1.93925856e-01,\n",
       "        4.93577707e-03,  9.07166418e-02,  1.25645966e-01,  1.13649365e-01,\n",
       "        7.09151390e-02,  1.61384963e-01,  4.44084868e-02,  1.03329799e-01,\n",
       "       -2.24401114e-02, -1.50753543e-01, -8.14416729e-02, -3.07033755e-02,\n",
       "       -3.85187237e-02, -5.95210523e-02,  3.39804367e-02,  5.77046544e-02,\n",
       "        1.17373774e-02,  9.56074869e-02, -2.42620400e-02,  1.10759112e-01,\n",
       "        9.19761023e-02, -1.26378697e-01,  7.94782440e-02,  5.13411421e-02,\n",
       "        4.90761207e-03,  2.10007831e-01, -2.67057118e-02,  8.14032465e-02,\n",
       "       -1.13835218e-01, -3.50824203e-02,  5.88977577e-02,  5.21521284e-02,\n",
       "        5.35789653e-02,  1.76732884e-01,  1.18562204e-02, -5.50525682e-02,\n",
       "       -1.91410310e-02, -1.18489395e-01, -6.43825114e-02, -1.25508602e-01,\n",
       "        1.24955949e-01,  4.31971384e-03, -2.63808976e-02, -1.34028395e-03,\n",
       "       -1.26819028e-01, -7.48039790e-02, -3.56939896e-02,  4.25960776e-02,\n",
       "        3.83191755e-02, -1.54618949e-02,  1.84943987e-01, -3.67720707e-02,\n",
       "        2.79320297e-03, -1.00205730e-01, -1.18681437e-01, -7.81435922e-02,\n",
       "       -5.63562849e-02, -1.87649042e-01,  6.48136683e-02,  2.42016746e-01,\n",
       "       -7.54014561e-03, -8.63241604e-02, -1.38225785e-01,  2.14709818e-02,\n",
       "       -1.08660931e-01, -1.50206596e-01, -5.21387618e-02,  4.21513213e-02,\n",
       "       -7.09933111e-02,  1.94280665e-01, -1.31624704e-01,  1.44665863e-01,\n",
       "       -9.43529996e-02, -1.61158716e-01,  4.79990736e-02,  1.28175927e-01,\n",
       "        8.86894638e-03, -6.06138938e-02, -1.35129495e-01, -1.49770051e-01,\n",
       "        1.37176704e-01,  1.65980581e-02,  1.11812850e-01,  3.80727281e-02,\n",
       "       -1.67556869e-01,  1.60600417e-02,  2.25986098e-01,  5.14821734e-02,\n",
       "        1.56596076e-01, -1.09633496e-01, -3.22014147e-02, -7.72037231e-02,\n",
       "        1.02942152e-01,  1.86246141e-01, -1.44630086e-02, -4.48693132e-02,\n",
       "       -1.07273785e-01, -1.19260502e-01, -6.80123363e-02,  3.38207130e-01,\n",
       "       -3.79939865e-02, -7.19836430e-02, -9.82556567e-02, -6.51031423e-02,\n",
       "        6.35161328e-02, -6.69582133e-02,  9.16072536e-02, -1.88410988e-02,\n",
       "       -1.27255926e-02, -3.19450360e-02,  1.02293836e-01, -1.55700037e-01,\n",
       "        3.21765319e-02,  1.22939263e-01, -3.23208635e-02, -1.24820901e-04,\n",
       "       -5.82589826e-02,  1.77050070e-01, -9.80305793e-02, -1.70182253e-01,\n",
       "        5.99722241e-02, -8.54240711e-02,  2.13100359e-01,  1.23030004e-02,\n",
       "       -1.25653485e-01, -1.04286097e-01])"
      ]
     },
     "execution_count": 67,
     "metadata": {},
     "output_type": "execute_result"
    }
   ],
   "source": [
    "# Second iteration\n",
    "y2 = y_train - tree_reg1.predict(X_train)\n",
    "y2"
   ]
  },
  {
   "cell_type": "code",
   "execution_count": 68,
   "metadata": {
    "ExecuteTime": {
     "end_time": "2022-12-22T17:02:24.575079Z",
     "start_time": "2022-12-22T17:02:24.556072Z"
    }
   },
   "outputs": [
    {
     "data": {
      "text/plain": [
       "DecisionTreeRegressor(max_depth=2, random_state=42)"
      ]
     },
     "execution_count": 68,
     "metadata": {},
     "output_type": "execute_result"
    }
   ],
   "source": [
    "tree_reg2 = DecisionTreeRegressor(max_depth=2, random_state=seed)\n",
    "tree_reg2.fit(X_train, y2)"
   ]
  },
  {
   "cell_type": "markdown",
   "metadata": {},
   "source": [
    "Let's make a function that will repeat this process for us"
   ]
  },
  {
   "cell_type": "code",
   "execution_count": 69,
   "metadata": {
    "ExecuteTime": {
     "end_time": "2022-12-22T17:02:27.520080Z",
     "start_time": "2022-12-22T17:02:27.502049Z"
    }
   },
   "outputs": [],
   "source": [
    "def my_gradient_boosting_regressor(n_estimators, X, y, random_state=27):\n",
    "    # Save the iteratively trained models and residuals\n",
    "    trained_weak_learners = []\n",
    "    past_residuals = []\n",
    "    \n",
    "    # Initial conditions\n",
    "    new_y = y\n",
    "    past_residuals.append(new_y)\n",
    "    # Iteratively train model\n",
    "    for n in range(n_estimators):\n",
    "        # Train the new model on past residuals (note first model trains on y)\n",
    "        new_model = DecisionTreeRegressor(max_depth=2, random_state=random_state)\n",
    "        new_model.fit(X, new_y)\n",
    "        # Find the new residuals (used to train the next model)\n",
    "        new_y = new_y - new_model.predict(X) \n",
    "        # Save the (trained) model and the new residuals\n",
    "        trained_weak_learners.append(new_model)\n",
    "        past_residuals.append(new_y)\n",
    "        \n",
    "    return trained_weak_learners, past_residuals"
   ]
  },
  {
   "cell_type": "code",
   "execution_count": 70,
   "metadata": {
    "ExecuteTime": {
     "end_time": "2022-12-22T17:02:30.279049Z",
     "start_time": "2022-12-22T17:02:30.272049Z"
    }
   },
   "outputs": [],
   "source": [
    "m, ys = my_gradient_boosting_regressor(3, X_train, y_train)"
   ]
  },
  {
   "cell_type": "markdown",
   "metadata": {},
   "source": [
    "### Observe how the regressor gets better"
   ]
  },
  {
   "cell_type": "code",
   "execution_count": 71,
   "metadata": {
    "ExecuteTime": {
     "end_time": "2022-12-22T17:02:34.541549Z",
     "start_time": "2022-12-22T17:02:34.520078Z"
    }
   },
   "outputs": [],
   "source": [
    "def plot_preds(regressors, X, y, axes, label=None, style='r-', data_style='b.',\n",
    "               data_label=None, ax=None):\n",
    "    x1 = np.linspace(axes[0], axes[1], 500)\n",
    "    y_pred = sum(regressor.predict(x1.reshape(-1, 1)) for regressor in regressors)\n",
    "    ax.plot(X[:, 0], y, data_style, label=data_label)\n",
    "    ax.plot(x1, y_pred, style, linewidth=2, label=label)\n",
    "    if label or data_label:\n",
    "        ax.legend(loc='upper center')\n",
    "\n",
    "def gradient_boost_and_plot(n_estimators, X, y):\n",
    "    \n",
    "    fig_size = (16, 4*n_estimators)\n",
    "    model_list, resid_list = my_gradient_boosting_regressor(16, X, y)\n",
    "    f, axes = plt.subplots(nrows=n_estimators, ncols=2, figsize=fig_size)\n",
    "\n",
    "    base_label ='h(x_1) = '\n",
    "    iterative_label = 'y'\n",
    "    for i in range(n_estimators):\n",
    "        # Next set of residuals\n",
    "        y = resid_list[i]\n",
    "        # Must be a list of one item\n",
    "        past_model = [model_list[i]]\n",
    "        # Includes current model\n",
    "        past_models = model_list[:(i+1)]\n",
    "        # New labels\n",
    "        new_label = f'h_{i}(x_{i})'\n",
    "        base_label = f'{base_label} + {new_label}'\n",
    "\n",
    "        plot_preds(\n",
    "            past_model,\n",
    "            X,\n",
    "            y,\n",
    "            axes=[-0.5, 0.5, -0.1, 0.8], \n",
    "            label=f'${iterative_label}$',\n",
    "            style=\"g-\",\n",
    "            data_label='Training set',\n",
    "            ax=axes[i][0]\n",
    "        )\n",
    "        axes[i][0].set_title('Residuals and tree predictions')\n",
    "\n",
    "        plot_preds(\n",
    "            past_models,\n",
    "            X,\n",
    "            resid_list[0],\n",
    "            axes=[-0.5, 0.5, -0.1, 0.8],\n",
    "            label=f'${base_label}$',\n",
    "            data_label='Training set',\n",
    "            ax=axes[i][1]\n",
    "        )\n",
    "        axes[i][1].set_ylabel('$y$', fontsize=16, rotation=0)\n",
    "        axes[i][1].set_title('Ensemble predictions')\n",
    "\n",
    "        # Update labels for next round\n",
    "        base_label = f'{base_label} + '\n",
    "        iterative_label = f'{iterative_label} - {new_label}'\n",
    "        \n",
    "    return f, model_list, resid_list;"
   ]
  },
  {
   "cell_type": "code",
   "execution_count": 72,
   "metadata": {
    "ExecuteTime": {
     "end_time": "2022-12-22T17:02:37.517589Z",
     "start_time": "2022-12-22T17:02:36.308089Z"
    },
    "scrolled": false
   },
   "outputs": [
    {
     "data": {
      "image/png": "[encoded data removed]",
      "text/plain": [
       "<Figure size 1152x864 with 6 Axes>"
      ]
     },
     "metadata": {
      "needs_background": "light"
     },
     "output_type": "display_data"
    }
   ],
   "source": [
    "gradient_boost_and_plot(3, X_train, y_train);"
   ]
  },
  {
   "cell_type": "markdown",
   "metadata": {},
   "source": [
    "### Using SciKit-learn's Gradient Boosting"
   ]
  },
  {
   "cell_type": "code",
   "execution_count": 73,
   "metadata": {
    "ExecuteTime": {
     "end_time": "2022-12-22T17:03:52.373867Z",
     "start_time": "2022-12-22T17:03:52.364365Z"
    }
   },
   "outputs": [
    {
     "data": {
      "text/plain": [
       "GradientBoostingRegressor(learning_rate=1.0, max_depth=2, n_estimators=3)"
      ]
     },
     "execution_count": 73,
     "metadata": {},
     "output_type": "execute_result"
    }
   ],
   "source": [
    "gbrt = GradientBoostingRegressor(max_depth=2, n_estimators=3, learning_rate=1.0)\n",
    "gbrt.fit(X_train, y_train)"
   ]
  },
  {
   "cell_type": "markdown",
   "metadata": {},
   "source": [
    "## Comparing gradient boosting with many estimators "
   ]
  },
  {
   "cell_type": "code",
   "execution_count": 89,
   "metadata": {
    "ExecuteTime": {
     "end_time": "2022-12-22T17:06:13.921844Z",
     "start_time": "2022-12-22T17:06:13.675844Z"
    }
   },
   "outputs": [
    {
     "data": {
      "text/plain": [
       "GradientBoostingRegressor(learning_rate=1, max_depth=2, n_estimators=1000,\n",
       "                          random_state=42)"
      ]
     },
     "execution_count": 89,
     "metadata": {},
     "output_type": "execute_result"
    }
   ],
   "source": [
    "# More estimators\n",
    "gbrt_slow = GradientBoostingRegressor(max_depth=2,\n",
    "                                      n_estimators=100,\n",
    "                                      learning_rate=1,\n",
    "                                      random_state=seed)\n",
    "gbrt_slow.fit(X_train, y_train)\n",
    "\n",
    "# Even more estimators\n",
    "gbrt_slower = GradientBoostingRegressor(max_depth=2,\n",
    "                                        n_estimators=1000,\n",
    "                                        learning_rate=1,\n",
    "                                        random_state=seed)\n",
    "gbrt_slower.fit(X_train, y_train)"
   ]
  },
  {
   "cell_type": "code",
   "execution_count": 90,
   "metadata": {
    "ExecuteTime": {
     "end_time": "2022-12-22T17:06:14.433345Z",
     "start_time": "2022-12-22T17:06:14.090844Z"
    }
   },
   "outputs": [
    {
     "data": {
      "image/png": "[encoded data removed]",
      "text/plain": [
       "<Figure size 864x288 with 3 Axes>"
      ]
     },
     "metadata": {
      "needs_background": "light"
     },
     "output_type": "display_data"
    }
   ],
   "source": [
    "f, (ax0, ax1, ax2) = plt.subplots(ncols=3, figsize=(12, 4))\n",
    "\n",
    "axes = [-0.5, 0.5, -0.1, 0.8]\n",
    "plot_preds([gbrt], X, y, axes=axes, ax=ax0)\n",
    "ax0.set_title(\n",
    "    f\"learning_rate={gbrt.learning_rate}, n_estimators={gbrt.n_estimators}\",\n",
    "              fontsize=14)\n",
    "\n",
    "plot_preds([gbrt_slow], X, y, axes=axes, ax=ax1)\n",
    "ax1.set_title(\n",
    "    f\"learning_rate={gbrt_slow.learning_rate}, n_estimators={gbrt_slow.n_estimators}\",\n",
    "              fontsize=14)\n",
    "\n",
    "plot_preds([gbrt_slower], X, y, axes=axes, ax=ax2)\n",
    "ax2.set_title(\n",
    "    f\"learning_rate={gbrt_slower.learning_rate}, n_estimators={gbrt_slower.n_estimators}\",\n",
    "              fontsize=14)\n",
    "\n",
    "plt.tight_layout()"
   ]
  },
  {
   "cell_type": "code",
   "execution_count": 91,
   "metadata": {
    "ExecuteTime": {
     "end_time": "2022-12-22T17:06:14.665845Z",
     "start_time": "2022-12-22T17:06:14.646845Z"
    }
   },
   "outputs": [
    {
     "data": {
      "text/plain": [
       "(0.9222140680658134, 0.8760083308223039)"
      ]
     },
     "execution_count": 91,
     "metadata": {},
     "output_type": "execute_result"
    }
   ],
   "source": [
    "gbrt.score(X_train, y_train), gbrt.score(X_test, y_test)"
   ]
  },
  {
   "cell_type": "code",
   "execution_count": 92,
   "metadata": {
    "ExecuteTime": {
     "end_time": "2022-12-22T17:06:15.889583Z",
     "start_time": "2022-12-22T17:06:15.883084Z"
    }
   },
   "outputs": [
    {
     "data": {
      "text/plain": [
       "(0.9998875398826385, 0.9303216894188009)"
      ]
     },
     "execution_count": 92,
     "metadata": {},
     "output_type": "execute_result"
    }
   ],
   "source": [
    "gbrt_slow.score(X_train, y_train), gbrt_slow.score(X_test, y_test)"
   ]
  },
  {
   "cell_type": "code",
   "execution_count": 93,
   "metadata": {
    "ExecuteTime": {
     "end_time": "2022-12-22T17:06:16.308082Z",
     "start_time": "2022-12-22T17:06:16.296584Z"
    }
   },
   "outputs": [
    {
     "data": {
      "text/plain": [
       "(1.0, 0.9292117994209551)"
      ]
     },
     "execution_count": 93,
     "metadata": {},
     "output_type": "execute_result"
    }
   ],
   "source": [
    "gbrt_slower.score(X_train, y_train), gbrt_slower.score(X_test, y_test)"
   ]
  },
  {
   "cell_type": "markdown",
   "metadata": {},
   "source": [
    "# XGBoost"
   ]
  },
  {
   "cell_type": "markdown",
   "metadata": {},
   "source": [
    "From [XGBoost's documentation](https://xgboost.readthedocs.io/):\n",
    "\n",
    ">_**XGBoost** is an optimized distributed gradient boosting library designed to be highly **efficient**, **flexible** and **portable**. It implements machine learning algorithms under the Gradient Boosting framework. XGBoost provides a parallel tree boosting (also known as GBDT, GBM) that solve many data science problems in a fast and accurate way. The same code runs on major distributed environment (Hadoop, SGE, MPI) and can solve problems beyond billions of examples._"
   ]
  },
  {
   "cell_type": "markdown",
   "metadata": {},
   "source": [
    "## XGBoost Regression"
   ]
  },
  {
   "cell_type": "code",
   "execution_count": 96,
   "metadata": {
    "ExecuteTime": {
     "end_time": "2022-12-22T17:11:26.740144Z",
     "start_time": "2022-12-22T17:11:26.704645Z"
    },
    "scrolled": true
   },
   "outputs": [
    {
     "data": {
      "text/plain": [
       "XGBRFRegressor(base_score=0.5, booster='gbtree', colsample_bylevel=1,\n",
       "               colsample_bytree=1, gamma=0, gpu_id=-1, importance_type='gain',\n",
       "               interaction_constraints='', max_delta_step=0, max_depth=6,\n",
       "               min_child_weight=1, missing=nan, monotone_constraints='()',\n",
       "               n_estimators=100, n_jobs=0, num_parallel_tree=100,\n",
       "               objective='reg:squarederror', random_state=42, reg_alpha=0,\n",
       "               scale_pos_weight=1, tree_method='exact', validate_parameters=1,\n",
       "               verbosity=None)"
      ]
     },
     "execution_count": 96,
     "metadata": {},
     "output_type": "execute_result"
    }
   ],
   "source": [
    "# XGBoost\n",
    "\n",
    "xgb = xgboost.XGBRFRegressor(random_state=42, objective='reg:squarederror')\n",
    "\n",
    "xgb.fit(X_train,y_train)"
   ]
  },
  {
   "cell_type": "code",
   "execution_count": 97,
   "metadata": {
    "ExecuteTime": {
     "end_time": "2022-12-22T17:11:32.287214Z",
     "start_time": "2022-12-22T17:11:32.275215Z"
    }
   },
   "outputs": [
    {
     "data": {
      "text/plain": [
       "0.9777544884675813"
      ]
     },
     "execution_count": 97,
     "metadata": {},
     "output_type": "execute_result"
    }
   ],
   "source": [
    "xgb.score(X_train,y_train)"
   ]
  },
  {
   "cell_type": "code",
   "execution_count": 98,
   "metadata": {
    "ExecuteTime": {
     "end_time": "2022-12-22T17:11:41.800544Z",
     "start_time": "2022-12-22T17:11:41.789546Z"
    }
   },
   "outputs": [
    {
     "data": {
      "text/plain": [
       "0.9455613826941037"
      ]
     },
     "execution_count": 98,
     "metadata": {},
     "output_type": "execute_result"
    }
   ],
   "source": [
    "xgb.score(X_test, y_test)"
   ]
  },
  {
   "cell_type": "markdown",
   "metadata": {},
   "source": [
    "# Level Up: Regression or Classification?"
   ]
  },
  {
   "cell_type": "markdown",
   "metadata": {},
   "source": [
    "What does my target look like?"
   ]
  },
  {
   "cell_type": "code",
   "execution_count": 99,
   "metadata": {
    "ExecuteTime": {
     "end_time": "2022-12-22T17:13:42.271674Z",
     "start_time": "2022-12-22T17:13:42.089674Z"
    },
    "scrolled": true
   },
   "outputs": [
    {
     "data": {
      "image/png": "[encoded data removed]",
      "text/plain": [
       "<Figure size 432x288 with 1 Axes>"
      ]
     },
     "metadata": {
      "needs_background": "light"
     },
     "output_type": "display_data"
    }
   ],
   "source": [
    "galaxies['Mcz'].hist();"
   ]
  },
  {
   "cell_type": "markdown",
   "metadata": {},
   "source": [
    "There seems to be a bit of a bimodal shape here. We might therefore try predicting whether the redshift factor is likely to be greater or less than 0.5:"
   ]
  },
  {
   "cell_type": "code",
   "execution_count": 100,
   "metadata": {
    "ExecuteTime": {
     "end_time": "2022-12-22T17:13:59.331747Z",
     "start_time": "2022-12-22T17:13:59.316747Z"
    }
   },
   "outputs": [],
   "source": [
    "galaxies['bool'] = galaxies['Mcz'] > 0.5"
   ]
  },
  {
   "cell_type": "code",
   "execution_count": 101,
   "metadata": {
    "ExecuteTime": {
     "end_time": "2022-12-22T17:13:59.874248Z",
     "start_time": "2022-12-22T17:13:59.846248Z"
    },
    "scrolled": true
   },
   "outputs": [
    {
     "data": {
      "text/html": [
       "<div>\n",
       "<style scoped>\n",
       "    .dataframe tbody tr th:only-of-type {\n",
       "        vertical-align: middle;\n",
       "    }\n",
       "\n",
       "    .dataframe tbody tr th {\n",
       "        vertical-align: top;\n",
       "    }\n",
       "\n",
       "    .dataframe thead th {\n",
       "        text-align: right;\n",
       "    }\n",
       "</style>\n",
       "<table border=\"1\" class=\"dataframe\">\n",
       "  <thead>\n",
       "    <tr style=\"text-align: right;\">\n",
       "      <th></th>\n",
       "      <th>Nr</th>\n",
       "      <th>Rmag</th>\n",
       "      <th>e.Rmag</th>\n",
       "      <th>ApDRmag</th>\n",
       "      <th>mumax</th>\n",
       "      <th>Mcz</th>\n",
       "      <th>e.Mcz</th>\n",
       "      <th>MCzml</th>\n",
       "      <th>chi2red</th>\n",
       "      <th>UjMAG</th>\n",
       "      <th>...</th>\n",
       "      <th>e.UFS</th>\n",
       "      <th>BFS</th>\n",
       "      <th>e.BFS</th>\n",
       "      <th>VFD</th>\n",
       "      <th>e.VFD</th>\n",
       "      <th>RFS</th>\n",
       "      <th>e.RFS</th>\n",
       "      <th>IFD</th>\n",
       "      <th>e.IFD</th>\n",
       "      <th>bool</th>\n",
       "    </tr>\n",
       "  </thead>\n",
       "  <tbody>\n",
       "    <tr>\n",
       "      <th>3457</th>\n",
       "      <td>9990</td>\n",
       "      <td>24.962</td>\n",
       "      <td>0.186</td>\n",
       "      <td>-0.113</td>\n",
       "      <td>25.189</td>\n",
       "      <td>0.960</td>\n",
       "      <td>0.190</td>\n",
       "      <td>0.951</td>\n",
       "      <td>0.89</td>\n",
       "      <td>-18.21</td>\n",
       "      <td>...</td>\n",
       "      <td>0.00170</td>\n",
       "      <td>0.00361</td>\n",
       "      <td>0.001150</td>\n",
       "      <td>0.00489</td>\n",
       "      <td>0.00147</td>\n",
       "      <td>0.00625</td>\n",
       "      <td>0.000413</td>\n",
       "      <td>0.00987</td>\n",
       "      <td>0.00323</td>\n",
       "      <td>True</td>\n",
       "    </tr>\n",
       "    <tr>\n",
       "      <th>3458</th>\n",
       "      <td>9992</td>\n",
       "      <td>21.918</td>\n",
       "      <td>0.017</td>\n",
       "      <td>-0.562</td>\n",
       "      <td>23.063</td>\n",
       "      <td>0.770</td>\n",
       "      <td>0.031</td>\n",
       "      <td>0.766</td>\n",
       "      <td>0.90</td>\n",
       "      <td>-20.47</td>\n",
       "      <td>...</td>\n",
       "      <td>0.00218</td>\n",
       "      <td>0.04500</td>\n",
       "      <td>0.001310</td>\n",
       "      <td>0.05130</td>\n",
       "      <td>0.00173</td>\n",
       "      <td>0.07210</td>\n",
       "      <td>0.000542</td>\n",
       "      <td>0.10200</td>\n",
       "      <td>0.00477</td>\n",
       "      <td>True</td>\n",
       "    </tr>\n",
       "    <tr>\n",
       "      <th>3459</th>\n",
       "      <td>9995</td>\n",
       "      <td>23.701</td>\n",
       "      <td>0.051</td>\n",
       "      <td>-0.437</td>\n",
       "      <td>24.053</td>\n",
       "      <td>0.775</td>\n",
       "      <td>0.121</td>\n",
       "      <td>1.330</td>\n",
       "      <td>0.60</td>\n",
       "      <td>-18.76</td>\n",
       "      <td>...</td>\n",
       "      <td>0.00223</td>\n",
       "      <td>0.01850</td>\n",
       "      <td>0.001090</td>\n",
       "      <td>0.01450</td>\n",
       "      <td>0.00182</td>\n",
       "      <td>0.01580</td>\n",
       "      <td>0.000468</td>\n",
       "      <td>0.01860</td>\n",
       "      <td>0.00484</td>\n",
       "      <td>True</td>\n",
       "    </tr>\n",
       "    <tr>\n",
       "      <th>3460</th>\n",
       "      <td>9996</td>\n",
       "      <td>23.473</td>\n",
       "      <td>0.098</td>\n",
       "      <td>-1.114</td>\n",
       "      <td>25.075</td>\n",
       "      <td>0.926</td>\n",
       "      <td>0.087</td>\n",
       "      <td>0.870</td>\n",
       "      <td>1.01</td>\n",
       "      <td>-19.67</td>\n",
       "      <td>...</td>\n",
       "      <td>0.00225</td>\n",
       "      <td>0.00809</td>\n",
       "      <td>0.001190</td>\n",
       "      <td>0.01140</td>\n",
       "      <td>0.00166</td>\n",
       "      <td>0.01070</td>\n",
       "      <td>0.000454</td>\n",
       "      <td>0.01930</td>\n",
       "      <td>0.00390</td>\n",
       "      <td>True</td>\n",
       "    </tr>\n",
       "    <tr>\n",
       "      <th>3461</th>\n",
       "      <td>9997</td>\n",
       "      <td>25.621</td>\n",
       "      <td>0.298</td>\n",
       "      <td>-0.224</td>\n",
       "      <td>25.488</td>\n",
       "      <td>0.968</td>\n",
       "      <td>0.139</td>\n",
       "      <td>0.957</td>\n",
       "      <td>1.13</td>\n",
       "      <td>-17.70</td>\n",
       "      <td>...</td>\n",
       "      <td>0.00165</td>\n",
       "      <td>0.00315</td>\n",
       "      <td>0.000949</td>\n",
       "      <td>0.00247</td>\n",
       "      <td>0.00131</td>\n",
       "      <td>0.00317</td>\n",
       "      <td>0.000426</td>\n",
       "      <td>0.00746</td>\n",
       "      <td>0.00415</td>\n",
       "      <td>True</td>\n",
       "    </tr>\n",
       "  </tbody>\n",
       "</table>\n",
       "<p>5 rows × 66 columns</p>\n",
       "</div>"
      ],
      "text/plain": [
       "        Nr    Rmag  e.Rmag  ApDRmag   mumax    Mcz  e.Mcz  MCzml  chi2red  \\\n",
       "3457  9990  24.962   0.186   -0.113  25.189  0.960  0.190  0.951     0.89   \n",
       "3458  9992  21.918   0.017   -0.562  23.063  0.770  0.031  0.766     0.90   \n",
       "3459  9995  23.701   0.051   -0.437  24.053  0.775  0.121  1.330     0.60   \n",
       "3460  9996  23.473   0.098   -1.114  25.075  0.926  0.087  0.870     1.01   \n",
       "3461  9997  25.621   0.298   -0.224  25.488  0.968  0.139  0.957     1.13   \n",
       "\n",
       "      UjMAG  ...    e.UFS      BFS     e.BFS      VFD    e.VFD      RFS  \\\n",
       "3457 -18.21  ...  0.00170  0.00361  0.001150  0.00489  0.00147  0.00625   \n",
       "3458 -20.47  ...  0.00218  0.04500  0.001310  0.05130  0.00173  0.07210   \n",
       "3459 -18.76  ...  0.00223  0.01850  0.001090  0.01450  0.00182  0.01580   \n",
       "3460 -19.67  ...  0.00225  0.00809  0.001190  0.01140  0.00166  0.01070   \n",
       "3461 -17.70  ...  0.00165  0.00315  0.000949  0.00247  0.00131  0.00317   \n",
       "\n",
       "         e.RFS      IFD    e.IFD  bool  \n",
       "3457  0.000413  0.00987  0.00323  True  \n",
       "3458  0.000542  0.10200  0.00477  True  \n",
       "3459  0.000468  0.01860  0.00484  True  \n",
       "3460  0.000454  0.01930  0.00390  True  \n",
       "3461  0.000426  0.00746  0.00415  True  \n",
       "\n",
       "[5 rows x 66 columns]"
      ]
     },
     "execution_count": 101,
     "metadata": {},
     "output_type": "execute_result"
    }
   ],
   "source": [
    "galaxies.tail()"
   ]
  },
  {
   "cell_type": "code",
   "execution_count": 102,
   "metadata": {
    "ExecuteTime": {
     "end_time": "2022-12-22T17:14:00.881749Z",
     "start_time": "2022-12-22T17:14:00.876779Z"
    }
   },
   "outputs": [],
   "source": [
    "X_train2, X_test2, y_train2, y_test2 = train_test_split(galaxies_x_rev, galaxies['bool'])"
   ]
  },
  {
   "cell_type": "code",
   "execution_count": 103,
   "metadata": {
    "ExecuteTime": {
     "end_time": "2022-12-22T17:14:02.431777Z",
     "start_time": "2022-12-22T17:14:02.414278Z"
    }
   },
   "outputs": [],
   "source": [
    "def scoring(estimator, X, y):\n",
    "    '''\n",
    "    Prints the accuracy, precision, and recall of the given fitted estimator and data.\n",
    "    \n",
    "    Prints the confusion matrix.\n",
    "    '''\n",
    "    p_score = precision_score(y, estimator.predict(X))\n",
    "    r_score = recall_score(y, estimator.predict(X))\n",
    "    \n",
    "    print(f'Accuracy: {estimator.score(X, y)}')\n",
    "    print(f'Precision: {p_score}')\n",
    "    print(f'Recall: {r_score}')\n",
    "    \n",
    "    plot_confusion_matrix(estimator, X, y)"
   ]
  },
  {
   "cell_type": "markdown",
   "metadata": {},
   "source": [
    "## Adaboost Classification"
   ]
  },
  {
   "cell_type": "code",
   "execution_count": 104,
   "metadata": {
    "ExecuteTime": {
     "end_time": "2022-12-22T17:14:39.469048Z",
     "start_time": "2022-12-22T17:14:39.152049Z"
    }
   },
   "outputs": [
    {
     "name": "stdout",
     "output_type": "stream",
     "text": [
      "Accuracy: 0.9767441860465116\n",
      "Precision: 0.9894259818731118\n",
      "Recall: 0.9805389221556886\n"
     ]
    },
    {
     "data": {
      "image/png": "[encoded data removed]",
      "text/plain": [
       "<Figure size 432x288 with 2 Axes>"
      ]
     },
     "metadata": {
      "needs_background": "light"
     },
     "output_type": "display_data"
    }
   ],
   "source": [
    "# Adaboost\n",
    "\n",
    "abc = AdaBoostClassifier(random_state=42).fit(X_train2, y_train2)\n",
    "\n",
    "scoring(abc, X_test2,y_test2)"
   ]
  },
  {
   "cell_type": "markdown",
   "metadata": {},
   "source": [
    "## GradientBoosting"
   ]
  },
  {
   "cell_type": "code",
   "execution_count": 105,
   "metadata": {
    "ExecuteTime": {
     "end_time": "2022-12-22T17:15:14.318699Z",
     "start_time": "2022-12-22T17:15:14.002700Z"
    }
   },
   "outputs": [
    {
     "name": "stdout",
     "output_type": "stream",
     "text": [
      "Accuracy: 0.9755813953488373\n",
      "Precision: 0.989409984871407\n",
      "Recall: 0.9790419161676647\n"
     ]
    },
    {
     "data": {
      "image/png": "[encoded data removed]",
      "text/plain": [
       "<Figure size 432x288 with 2 Axes>"
      ]
     },
     "metadata": {
      "needs_background": "light"
     },
     "output_type": "display_data"
    }
   ],
   "source": [
    "# GadBoostClass\n",
    "\n",
    "gbc = GradientBoostingClassifier(random_state=42).fit(X_train2, y_train2)\n",
    "\n",
    "scoring(gbc, X_test2, y_test2)"
   ]
  },
  {
   "cell_type": "markdown",
   "metadata": {},
   "source": [
    "## XGBoost Classification"
   ]
  },
  {
   "cell_type": "code",
   "execution_count": 106,
   "metadata": {
    "ExecuteTime": {
     "end_time": "2022-12-22T17:16:22.893234Z",
     "start_time": "2022-12-22T17:16:22.634730Z"
    }
   },
   "outputs": [
    {
     "name": "stdout",
     "output_type": "stream",
     "text": [
      "Accuracy: 0.9732558139534884\n",
      "Precision: 0.9820627802690582\n",
      "Recall: 0.9835329341317365\n"
     ]
    },
    {
     "data": {
      "image/png": "[encoded data removed]",
      "text/plain": [
       "<Figure size 432x288 with 2 Axes>"
      ]
     },
     "metadata": {
      "needs_background": "light"
     },
     "output_type": "display_data"
    }
   ],
   "source": [
    "# XGBoost Class\n",
    "\n",
    "xgbc = xgboost.XGBClassifier(random_state=42, objective='binary:logistic').fit(X_train2, y_train2)\n",
    "\n",
    "scoring(xgbc, X_test2, y_test2)"
   ]
  },
  {
   "cell_type": "code",
   "execution_count": null,
   "metadata": {},
   "outputs": [],
   "source": []
  }
 ],
 "metadata": {
  "kernelspec": {
   "display_name": "Python (learn-env)",
   "language": "python",
   "name": "learn-env"
  },
  "language_info": {
   "codemirror_mode": {
    "name": "ipython",
    "version": 3
   },
   "file_extension": ".py",
   "mimetype": "text/x-python",
   "name": "python",
   "nbconvert_exporter": "python",
   "pygments_lexer": "ipython3",
   "version": "3.8.5"
  },
  "toc": {
   "base_numbering": 1,
   "nav_menu": {},
   "number_sections": true,
   "sideBar": true,
   "skip_h1_title": false,
   "title_cell": "Table of Contents",
   "title_sidebar": "Contents",
   "toc_cell": true,
   "toc_position": {
    "height": "884px",
    "left": "120px",
    "top": "146px",
    "width": "341px"
   },
   "toc_section_display": true,
   "toc_window_display": false
  },
  "varInspector": {
   "cols": {
    "lenName": 16,
    "lenType": 16,
    "lenVar": 40
   },
   "kernels_config": {
    "python": {
     "delete_cmd_postfix": "",
     "delete_cmd_prefix": "del ",
     "library": "var_list.py",
     "varRefreshCmd": "print(var_dic_list())"
    },
    "r": {
     "delete_cmd_postfix": ") ",
     "delete_cmd_prefix": "rm(",
     "library": "var_list.r",
     "varRefreshCmd": "cat(var_dic_list()) "
    }
   },
   "types_to_exclude": [
    "module",
    "function",
    "builtin_function_or_method",
    "instance",
    "_Feature"
   ],
   "window_display": false
  }
 },
 "nbformat": 4,
 "nbformat_minor": 2
}

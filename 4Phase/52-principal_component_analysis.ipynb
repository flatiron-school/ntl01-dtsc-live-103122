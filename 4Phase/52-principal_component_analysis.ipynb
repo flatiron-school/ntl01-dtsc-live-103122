{
 "cells": [
  {
   "cell_type": "markdown",
   "metadata": {
    "toc": true
   },
   "source": [
    "<h1>Table of Contents<span class=\"tocSkip\"></span></h1>\n",
    "<div class=\"toc\"><ul class=\"toc-item\"><li><span><a href=\"#Principal-Component-Analysis\" data-toc-modified-id=\"Principal-Component-Analysis-1\"><span class=\"toc-item-num\">1&nbsp;&nbsp;</span>Principal Component Analysis</a></span></li><li><span><a href=\"#Learning-Goals\" data-toc-modified-id=\"Learning-Goals-2\"><span class=\"toc-item-num\">2&nbsp;&nbsp;</span>Learning Goals</a></span></li><li><span><a href=\"#Motivation\" data-toc-modified-id=\"Motivation-3\"><span class=\"toc-item-num\">3&nbsp;&nbsp;</span>Motivation</a></span></li><li><span><a href=\"#Scenario:-Shipping-Costs\" data-toc-modified-id=\"Scenario:-Shipping-Costs-4\"><span class=\"toc-item-num\">4&nbsp;&nbsp;</span>Scenario: Shipping Costs</a></span><ul class=\"toc-item\"><li><span><a href=\"#Dimensionality\" data-toc-modified-id=\"Dimensionality-4.1\"><span class=\"toc-item-num\">4.1&nbsp;&nbsp;</span>Dimensionality</a></span></li><li><span><a href=\"#Correlation-and-Covariance-Matrices\" data-toc-modified-id=\"Correlation-and-Covariance-Matrices-4.2\"><span class=\"toc-item-num\">4.2&nbsp;&nbsp;</span>Correlation and Covariance Matrices</a></span></li><li><span><a href=\"#Eigendecomposition\" data-toc-modified-id=\"Eigendecomposition-4.3\"><span class=\"toc-item-num\">4.3&nbsp;&nbsp;</span>Eigendecomposition</a></span></li><li><span><a href=\"#Eigenvalues\" data-toc-modified-id=\"Eigenvalues-4.4\"><span class=\"toc-item-num\">4.4&nbsp;&nbsp;</span>Eigenvalues</a></span><ul class=\"toc-item\"><li><span><a href=\"#Proportion-of-Variance\" data-toc-modified-id=\"Proportion-of-Variance-4.4.1\"><span class=\"toc-item-num\">4.4.1&nbsp;&nbsp;</span>Proportion of Variance</a></span></li></ul></li><li><span><a href=\"#Eigenvectors-(aka-Principal-Components)\" data-toc-modified-id=\"Eigenvectors-(aka-Principal-Components)-4.5\"><span class=\"toc-item-num\">4.5&nbsp;&nbsp;</span>Eigenvectors (aka Principal Components)</a></span><ul class=\"toc-item\"><li><span><a href=\"#Orthogonality\" data-toc-modified-id=\"Orthogonality-4.5.1\"><span class=\"toc-item-num\">4.5.1&nbsp;&nbsp;</span>Orthogonality</a></span></li><li><span><a href=\"#First-Principal-Component\" data-toc-modified-id=\"First-Principal-Component-4.5.2\"><span class=\"toc-item-num\">4.5.2&nbsp;&nbsp;</span>First Principal Component</a></span></li><li><span><a href=\"#Second-Principal-Component\" data-toc-modified-id=\"Second-Principal-Component-4.5.3\"><span class=\"toc-item-num\">4.5.3&nbsp;&nbsp;</span>Second Principal Component</a></span></li><li><span><a href=\"#Remaining-Principal-Components\" data-toc-modified-id=\"Remaining-Principal-Components-4.5.4\"><span class=\"toc-item-num\">4.5.4&nbsp;&nbsp;</span>Remaining Principal Components</a></span></li></ul></li><li><span><a href=\"#Sidebar:-Properties-of-Eigenvectors\" data-toc-modified-id=\"Sidebar:-Properties-of-Eigenvectors-4.6\"><span class=\"toc-item-num\">4.6&nbsp;&nbsp;</span>Sidebar: Properties of Eigenvectors</a></span></li><li><span><a href=\"#Transforming-Data\" data-toc-modified-id=\"Transforming-Data-4.7\"><span class=\"toc-item-num\">4.7&nbsp;&nbsp;</span>Transforming Data</a></span><ul class=\"toc-item\"><li><span><a href=\"#First-Component\" data-toc-modified-id=\"First-Component-4.7.1\"><span class=\"toc-item-num\">4.7.1&nbsp;&nbsp;</span>First Component</a></span></li><li><span><a href=\"#All-Components\" data-toc-modified-id=\"All-Components-4.7.2\"><span class=\"toc-item-num\">4.7.2&nbsp;&nbsp;</span>All Components</a></span></li></ul></li><li><span><a href=\"#Feature-Correlations\" data-toc-modified-id=\"Feature-Correlations-4.8\"><span class=\"toc-item-num\">4.8&nbsp;&nbsp;</span>Feature Correlations</a></span></li><li><span><a href=\"#Modeling\" data-toc-modified-id=\"Modeling-4.9\"><span class=\"toc-item-num\">4.9&nbsp;&nbsp;</span>Modeling</a></span></li><li><span><a href=\"#PCA-in-sklearn\" data-toc-modified-id=\"PCA-in-sklearn-4.10\"><span class=\"toc-item-num\">4.10&nbsp;&nbsp;</span>PCA in <code>sklearn</code></a></span></li></ul></li><li><span><a href=\"#Scenario:-Car-Properties\" data-toc-modified-id=\"Scenario:-Car-Properties-5\"><span class=\"toc-item-num\">5&nbsp;&nbsp;</span>Scenario: Car Properties</a></span><ul class=\"toc-item\"><li><span><a href=\"#Data-Prep\" data-toc-modified-id=\"Data-Prep-5.1\"><span class=\"toc-item-num\">5.1&nbsp;&nbsp;</span>Data Prep</a></span></li><li><span><a href=\"#First-Model-w/o-PCA\" data-toc-modified-id=\"First-Model-w/o-PCA-5.2\"><span class=\"toc-item-num\">5.2&nbsp;&nbsp;</span>First Model w/o PCA</a></span><ul class=\"toc-item\"><li><span><a href=\"#Modeling-with-New-Dimensions\" data-toc-modified-id=\"Modeling-with-New-Dimensions-5.2.1\"><span class=\"toc-item-num\">5.2.1&nbsp;&nbsp;</span>Modeling with New Dimensions</a></span></li></ul></li><li><span><a href=\"#Visualizations\" data-toc-modified-id=\"Visualizations-5.3\"><span class=\"toc-item-num\">5.3&nbsp;&nbsp;</span>Visualizations</a></span></li><li><span><a href=\"#Level-Up:-Relation-to-Linear-Regression\" data-toc-modified-id=\"Level-Up:-Relation-to-Linear-Regression-5.4\"><span class=\"toc-item-num\">5.4&nbsp;&nbsp;</span>Level Up: Relation to Linear Regression</a></span></li><li><span><a href=\"#Level-Up:-Diagonalization\" data-toc-modified-id=\"Level-Up:-Diagonalization-5.5\"><span class=\"toc-item-num\">5.5&nbsp;&nbsp;</span>Level Up: Diagonalization</a></span><ul class=\"toc-item\"><li><span><a href=\"#Eigenvalues\" data-toc-modified-id=\"Eigenvalues-5.5.1\"><span class=\"toc-item-num\">5.5.1&nbsp;&nbsp;</span>Eigenvalues</a></span></li><li><span><a href=\"#Eigenvectors\" data-toc-modified-id=\"Eigenvectors-5.5.2\"><span class=\"toc-item-num\">5.5.2&nbsp;&nbsp;</span>Eigenvectors</a></span></li><li><span><a href=\"#Level-Up:-Diagonalization-In-Code\" data-toc-modified-id=\"Level-Up:-Diagonalization-In-Code-5.5.3\"><span class=\"toc-item-num\">5.5.3&nbsp;&nbsp;</span>Level Up: Diagonalization In Code</a></span></li></ul></li><li><span><a href=\"#Extra-Resource\" data-toc-modified-id=\"Extra-Resource-5.6\"><span class=\"toc-item-num\">5.6&nbsp;&nbsp;</span>Extra Resource</a></span></li></ul></li></ul></div>"
   ]
  },
  {
   "cell_type": "markdown",
   "metadata": {},
   "source": [
    "# Principal Component Analysis"
   ]
  },
  {
   "cell_type": "code",
   "execution_count": 1,
   "metadata": {
    "ExecuteTime": {
     "end_time": "2023-01-09T16:51:21.781580Z",
     "start_time": "2023-01-09T16:51:20.530807Z"
    }
   },
   "outputs": [],
   "source": [
    "import pandas as pd\n",
    "import numpy as np\n",
    "from sklearn.preprocessing import StandardScaler, OneHotEncoder\n",
    "from sklearn.impute import SimpleImputer\n",
    "from sklearn.model_selection import train_test_split\n",
    "from sklearn.linear_model import LinearRegression\n",
    "from sklearn.compose import ColumnTransformer\n",
    "from sklearn.pipeline import Pipeline\n",
    "from sklearn.decomposition import PCA\n",
    "from matplotlib import pyplot as plt\n",
    "import seaborn as sns\n",
    "import statsmodels as sm\n",
    "from statsmodels.regression.linear_model import OLS\n",
    "from sklearn.metrics import mean_squared_error as mse\n",
    "\n",
    "%matplotlib inline"
   ]
  },
  {
   "cell_type": "markdown",
   "metadata": {},
   "source": [
    "# Learning Goals"
   ]
  },
  {
   "cell_type": "markdown",
   "metadata": {},
   "source": [
    "- Explain the concepts behind principal component analysis (PCA)\n",
    "- Explain how PCA addresses the problem of multicollinearity\n",
    "- Explain the idea of eigendecomposition\n",
    "- Implement PCA using `sklearn`"
   ]
  },
  {
   "cell_type": "markdown",
   "metadata": {},
   "source": [
    "# Motivation"
   ]
  },
  {
   "cell_type": "markdown",
   "metadata": {},
   "source": [
    "So far, you have dealt with datasets with a moderate number of predictors. What would happen if you had thousands of predictors? A few problems can arise:\n",
    "\n",
    "* Requires a ton of computing power/time\n",
    "* Computational problems caused by multicollinearity\n",
    "* Can overfit your data\n",
    "\n",
    "How could we address this problem?\n",
    "\n",
    "* You could drop a bunch of predictors at random, but you would potentially lose useful information that way \n",
    "* You could drop predictors that have weak correlations with your target, but they may still be useful in combination with other features in non-linear models (e.g. interaction terms, decision trees) \n",
    "* You could combine a bunch of features together, such as by multiplying them, but it's not clear how you would do this to best preseve information\n",
    "\n",
    "Principal Component Analysis (PCA) is a tool for reducing the dimensionality of our data in a way that tries to preserve information. It does this by projecting our data from a higher-dimensional space onto a lower-dimensional space. The PCA algorithm chooses a lower-dimensional space to project to that will preserve as much variance as possible from our original dataset."
   ]
  },
  {
   "cell_type": "markdown",
   "metadata": {},
   "source": [
    "# Scenario: Shipping Costs"
   ]
  },
  {
   "cell_type": "markdown",
   "metadata": {},
   "source": [
    "Let's say that we want to predict the cost to ship a package based on its properties. "
   ]
  },
  {
   "cell_type": "code",
   "execution_count": 2,
   "metadata": {
    "ExecuteTime": {
     "end_time": "2023-01-09T16:53:29.193749Z",
     "start_time": "2023-01-09T16:53:29.161310Z"
    }
   },
   "outputs": [
    {
     "data": {
      "text/html": [
       "<div>\n",
       "<style scoped>\n",
       "    .dataframe tbody tr th:only-of-type {\n",
       "        vertical-align: middle;\n",
       "    }\n",
       "\n",
       "    .dataframe tbody tr th {\n",
       "        vertical-align: top;\n",
       "    }\n",
       "\n",
       "    .dataframe thead th {\n",
       "        text-align: right;\n",
       "    }\n",
       "</style>\n",
       "<table border=\"1\" class=\"dataframe\">\n",
       "  <thead>\n",
       "    <tr style=\"text-align: right;\">\n",
       "      <th></th>\n",
       "      <th>Shipping Cost ($)</th>\n",
       "      <th>Length (in)</th>\n",
       "      <th>Width (in)</th>\n",
       "      <th>Height (in)</th>\n",
       "      <th>Weight (lb)</th>\n",
       "      <th>Distance (mi)</th>\n",
       "    </tr>\n",
       "  </thead>\n",
       "  <tbody>\n",
       "    <tr>\n",
       "      <th>0</th>\n",
       "      <td>24</td>\n",
       "      <td>36</td>\n",
       "      <td>32</td>\n",
       "      <td>9</td>\n",
       "      <td>18</td>\n",
       "      <td>1079</td>\n",
       "    </tr>\n",
       "    <tr>\n",
       "      <th>1</th>\n",
       "      <td>38</td>\n",
       "      <td>41</td>\n",
       "      <td>31</td>\n",
       "      <td>12</td>\n",
       "      <td>18</td>\n",
       "      <td>1797</td>\n",
       "    </tr>\n",
       "    <tr>\n",
       "      <th>2</th>\n",
       "      <td>38</td>\n",
       "      <td>34</td>\n",
       "      <td>34</td>\n",
       "      <td>15</td>\n",
       "      <td>24</td>\n",
       "      <td>1722</td>\n",
       "    </tr>\n",
       "    <tr>\n",
       "      <th>3</th>\n",
       "      <td>20</td>\n",
       "      <td>32</td>\n",
       "      <td>22</td>\n",
       "      <td>8</td>\n",
       "      <td>8</td>\n",
       "      <td>461</td>\n",
       "    </tr>\n",
       "    <tr>\n",
       "      <th>4</th>\n",
       "      <td>24</td>\n",
       "      <td>37</td>\n",
       "      <td>24</td>\n",
       "      <td>14</td>\n",
       "      <td>19</td>\n",
       "      <td>491</td>\n",
       "    </tr>\n",
       "    <tr>\n",
       "      <th>5</th>\n",
       "      <td>21</td>\n",
       "      <td>32</td>\n",
       "      <td>20</td>\n",
       "      <td>3</td>\n",
       "      <td>6</td>\n",
       "      <td>1029</td>\n",
       "    </tr>\n",
       "    <tr>\n",
       "      <th>6</th>\n",
       "      <td>27</td>\n",
       "      <td>33</td>\n",
       "      <td>23</td>\n",
       "      <td>7</td>\n",
       "      <td>11</td>\n",
       "      <td>945</td>\n",
       "    </tr>\n",
       "    <tr>\n",
       "      <th>7</th>\n",
       "      <td>31</td>\n",
       "      <td>40</td>\n",
       "      <td>31</td>\n",
       "      <td>16</td>\n",
       "      <td>22</td>\n",
       "      <td>1649</td>\n",
       "    </tr>\n",
       "    <tr>\n",
       "      <th>8</th>\n",
       "      <td>30</td>\n",
       "      <td>37</td>\n",
       "      <td>28</td>\n",
       "      <td>12</td>\n",
       "      <td>20</td>\n",
       "      <td>1310</td>\n",
       "    </tr>\n",
       "    <tr>\n",
       "      <th>9</th>\n",
       "      <td>26</td>\n",
       "      <td>29</td>\n",
       "      <td>29</td>\n",
       "      <td>11</td>\n",
       "      <td>11</td>\n",
       "      <td>161</td>\n",
       "    </tr>\n",
       "  </tbody>\n",
       "</table>\n",
       "</div>"
      ],
      "text/plain": [
       "   Shipping Cost ($)  Length (in)  Width (in)  Height (in)  Weight (lb)  \\\n",
       "0                 24           36          32            9           18   \n",
       "1                 38           41          31           12           18   \n",
       "2                 38           34          34           15           24   \n",
       "3                 20           32          22            8            8   \n",
       "4                 24           37          24           14           19   \n",
       "5                 21           32          20            3            6   \n",
       "6                 27           33          23            7           11   \n",
       "7                 31           40          31           16           22   \n",
       "8                 30           37          28           12           20   \n",
       "9                 26           29          29           11           11   \n",
       "\n",
       "   Distance (mi)  \n",
       "0           1079  \n",
       "1           1797  \n",
       "2           1722  \n",
       "3            461  \n",
       "4            491  \n",
       "5           1029  \n",
       "6            945  \n",
       "7           1649  \n",
       "8           1310  \n",
       "9            161  "
      ]
     },
     "execution_count": 2,
     "metadata": {},
     "output_type": "execute_result"
    }
   ],
   "source": [
    "packages = pd.read_csv('data/packages.csv')\n",
    "packages.head(10)"
   ]
  },
  {
   "cell_type": "markdown",
   "metadata": {},
   "source": [
    "## Dimensionality"
   ]
  },
  {
   "cell_type": "markdown",
   "metadata": {},
   "source": [
    "You can think about each variable as a dimension, and thus each package as a data point. If we take just one feature, we can easily visualize this in 2 dimensional space"
   ]
  },
  {
   "cell_type": "code",
   "execution_count": 3,
   "metadata": {
    "ExecuteTime": {
     "end_time": "2023-01-09T16:54:04.240093Z",
     "start_time": "2023-01-09T16:54:04.109449Z"
    }
   },
   "outputs": [
    {
     "data": {
      "image/png": "[encoded data removed]",
      "text/plain": [
       "<Figure size 432x288 with 1 Axes>"
      ]
     },
     "metadata": {
      "needs_background": "light"
     },
     "output_type": "display_data"
    }
   ],
   "source": [
    "packages.plot(kind='scatter', y='Shipping Cost ($)', x='Length (in)');"
   ]
  },
  {
   "cell_type": "markdown",
   "metadata": {},
   "source": [
    "You can think of each package as a point in six-dimensional space - 5 dimensions for our features and 1 for our target."
   ]
  },
  {
   "cell_type": "markdown",
   "metadata": {},
   "source": [
    "## Correlation and Covariance Matrices"
   ]
  },
  {
   "cell_type": "markdown",
   "metadata": {},
   "source": [
    "The first four features in this dataset all relate to package size, so we might expect them to be strongly related."
   ]
  },
  {
   "cell_type": "code",
   "execution_count": 4,
   "metadata": {
    "ExecuteTime": {
     "end_time": "2023-01-09T16:54:25.675850Z",
     "start_time": "2023-01-09T16:54:25.494004Z"
    }
   },
   "outputs": [
    {
     "data": {
      "image/png": "[encoded data removed]",
      "text/plain": [
       "<Figure size 432x288 with 2 Axes>"
      ]
     },
     "metadata": {
      "needs_background": "light"
     },
     "output_type": "display_data"
    }
   ],
   "source": [
    "mask = np.triu(np.ones_like(packages.corr(), dtype=bool))\n",
    "\n",
    "sns.heatmap(packages.corr(),\n",
    "            mask=mask,\n",
    "            annot=True,\n",
    "            fmt='0.2g',\n",
    "            vmin=-1,\n",
    "            vmax=1,\n",
    "            center=0,\n",
    "            cmap='coolwarm');"
   ]
  },
  {
   "cell_type": "markdown",
   "metadata": {},
   "source": [
    "PCA does not use this **correlation matrix**, which is conveniently scaled between -1 and 1. Rather, it uses the **covariance matrix**, which is scaled in square units of the original variables. This makes PCA very sensitive to the scale of the variables."
   ]
  },
  {
   "cell_type": "code",
   "execution_count": 5,
   "metadata": {
    "ExecuteTime": {
     "end_time": "2023-01-09T16:54:27.293703Z",
     "start_time": "2023-01-09T16:54:27.130071Z"
    }
   },
   "outputs": [
    {
     "data": {
      "image/png": "[encoded data removed]",
      "text/plain": [
       "<Figure size 432x288 with 2 Axes>"
      ]
     },
     "metadata": {
      "needs_background": "light"
     },
     "output_type": "display_data"
    }
   ],
   "source": [
    "sns.heatmap(packages.cov(),\n",
    "            mask=mask,\n",
    "            annot=True,\n",
    "            fmt='0.2g',\n",
    "            center=0,\n",
    "            cmap='coolwarm');"
   ]
  },
  {
   "cell_type": "markdown",
   "metadata": {},
   "source": [
    "Let's normalize our variables to mean = 0 & SD = 1, which will make our covariance matrix equal the correlation matrix."
   ]
  },
  {
   "cell_type": "code",
   "execution_count": 6,
   "metadata": {
    "ExecuteTime": {
     "end_time": "2023-01-09T16:56:07.780166Z",
     "start_time": "2023-01-09T16:56:07.611037Z"
    }
   },
   "outputs": [
    {
     "data": {
      "image/png": "[encoded data removed]",
      "text/plain": [
       "<Figure size 432x288 with 2 Axes>"
      ]
     },
     "metadata": {
      "needs_background": "light"
     },
     "output_type": "display_data"
    }
   ],
   "source": [
    "packages_scaled = (packages - packages.mean())/packages.std()\n",
    "\n",
    "sns.heatmap(packages_scaled.cov(),\n",
    "            mask=mask,\n",
    "            annot=True,\n",
    "            fmt='0.2g',\n",
    "            center=0,\n",
    "            cmap='coolwarm');"
   ]
  },
  {
   "cell_type": "markdown",
   "metadata": {},
   "source": [
    "Notice that, for the centered data matrix $X$, the covariance matrix $C$ is equal to $\\frac{1}{n-1}X^TX$:"
   ]
  },
  {
   "cell_type": "code",
   "execution_count": 7,
   "metadata": {
    "ExecuteTime": {
     "end_time": "2023-01-09T16:56:09.365463Z",
     "start_time": "2023-01-09T16:56:09.347975Z"
    }
   },
   "outputs": [
    {
     "data": {
      "text/html": [
       "<div>\n",
       "<style scoped>\n",
       "    .dataframe tbody tr th:only-of-type {\n",
       "        vertical-align: middle;\n",
       "    }\n",
       "\n",
       "    .dataframe tbody tr th {\n",
       "        vertical-align: top;\n",
       "    }\n",
       "\n",
       "    .dataframe thead th {\n",
       "        text-align: right;\n",
       "    }\n",
       "</style>\n",
       "<table border=\"1\" class=\"dataframe\">\n",
       "  <thead>\n",
       "    <tr style=\"text-align: right;\">\n",
       "      <th></th>\n",
       "      <th>Shipping Cost ($)</th>\n",
       "      <th>Length (in)</th>\n",
       "      <th>Width (in)</th>\n",
       "      <th>Height (in)</th>\n",
       "      <th>Weight (lb)</th>\n",
       "      <th>Distance (mi)</th>\n",
       "    </tr>\n",
       "  </thead>\n",
       "  <tbody>\n",
       "    <tr>\n",
       "      <th>Shipping Cost ($)</th>\n",
       "      <td>1.000000</td>\n",
       "      <td>0.826989</td>\n",
       "      <td>0.849963</td>\n",
       "      <td>0.800307</td>\n",
       "      <td>0.774526</td>\n",
       "      <td>0.266277</td>\n",
       "    </tr>\n",
       "    <tr>\n",
       "      <th>Length (in)</th>\n",
       "      <td>0.826989</td>\n",
       "      <td>1.000000</td>\n",
       "      <td>0.862847</td>\n",
       "      <td>0.746525</td>\n",
       "      <td>0.738311</td>\n",
       "      <td>0.026250</td>\n",
       "    </tr>\n",
       "    <tr>\n",
       "      <th>Width (in)</th>\n",
       "      <td>0.849963</td>\n",
       "      <td>0.862847</td>\n",
       "      <td>1.000000</td>\n",
       "      <td>0.837949</td>\n",
       "      <td>0.747395</td>\n",
       "      <td>0.017698</td>\n",
       "    </tr>\n",
       "    <tr>\n",
       "      <th>Height (in)</th>\n",
       "      <td>0.800307</td>\n",
       "      <td>0.746525</td>\n",
       "      <td>0.837949</td>\n",
       "      <td>1.000000</td>\n",
       "      <td>0.861819</td>\n",
       "      <td>-0.032043</td>\n",
       "    </tr>\n",
       "    <tr>\n",
       "      <th>Weight (lb)</th>\n",
       "      <td>0.774526</td>\n",
       "      <td>0.738311</td>\n",
       "      <td>0.747395</td>\n",
       "      <td>0.861819</td>\n",
       "      <td>1.000000</td>\n",
       "      <td>-0.024568</td>\n",
       "    </tr>\n",
       "    <tr>\n",
       "      <th>Distance (mi)</th>\n",
       "      <td>0.266277</td>\n",
       "      <td>0.026250</td>\n",
       "      <td>0.017698</td>\n",
       "      <td>-0.032043</td>\n",
       "      <td>-0.024568</td>\n",
       "      <td>1.000000</td>\n",
       "    </tr>\n",
       "  </tbody>\n",
       "</table>\n",
       "</div>"
      ],
      "text/plain": [
       "                   Shipping Cost ($)  Length (in)  Width (in)  Height (in)  \\\n",
       "Shipping Cost ($)           1.000000     0.826989    0.849963     0.800307   \n",
       "Length (in)                 0.826989     1.000000    0.862847     0.746525   \n",
       "Width (in)                  0.849963     0.862847    1.000000     0.837949   \n",
       "Height (in)                 0.800307     0.746525    0.837949     1.000000   \n",
       "Weight (lb)                 0.774526     0.738311    0.747395     0.861819   \n",
       "Distance (mi)               0.266277     0.026250    0.017698    -0.032043   \n",
       "\n",
       "                   Weight (lb)  Distance (mi)  \n",
       "Shipping Cost ($)     0.774526       0.266277  \n",
       "Length (in)           0.738311       0.026250  \n",
       "Width (in)            0.747395       0.017698  \n",
       "Height (in)           0.861819      -0.032043  \n",
       "Weight (lb)           1.000000      -0.024568  \n",
       "Distance (mi)        -0.024568       1.000000  "
      ]
     },
     "execution_count": 7,
     "metadata": {},
     "output_type": "execute_result"
    }
   ],
   "source": [
    "packages_scaled.cov()"
   ]
  },
  {
   "cell_type": "code",
   "execution_count": 8,
   "metadata": {
    "ExecuteTime": {
     "end_time": "2023-01-09T16:56:09.725629Z",
     "start_time": "2023-01-09T16:56:09.709484Z"
    }
   },
   "outputs": [
    {
     "data": {
      "text/html": [
       "<div>\n",
       "<style scoped>\n",
       "    .dataframe tbody tr th:only-of-type {\n",
       "        vertical-align: middle;\n",
       "    }\n",
       "\n",
       "    .dataframe tbody tr th {\n",
       "        vertical-align: top;\n",
       "    }\n",
       "\n",
       "    .dataframe thead th {\n",
       "        text-align: right;\n",
       "    }\n",
       "</style>\n",
       "<table border=\"1\" class=\"dataframe\">\n",
       "  <thead>\n",
       "    <tr style=\"text-align: right;\">\n",
       "      <th></th>\n",
       "      <th>Shipping Cost ($)</th>\n",
       "      <th>Length (in)</th>\n",
       "      <th>Width (in)</th>\n",
       "      <th>Height (in)</th>\n",
       "      <th>Weight (lb)</th>\n",
       "      <th>Distance (mi)</th>\n",
       "    </tr>\n",
       "  </thead>\n",
       "  <tbody>\n",
       "    <tr>\n",
       "      <th>Shipping Cost ($)</th>\n",
       "      <td>1.000000</td>\n",
       "      <td>0.826989</td>\n",
       "      <td>0.849963</td>\n",
       "      <td>0.800307</td>\n",
       "      <td>0.774526</td>\n",
       "      <td>0.266277</td>\n",
       "    </tr>\n",
       "    <tr>\n",
       "      <th>Length (in)</th>\n",
       "      <td>0.826989</td>\n",
       "      <td>1.000000</td>\n",
       "      <td>0.862847</td>\n",
       "      <td>0.746525</td>\n",
       "      <td>0.738311</td>\n",
       "      <td>0.026250</td>\n",
       "    </tr>\n",
       "    <tr>\n",
       "      <th>Width (in)</th>\n",
       "      <td>0.849963</td>\n",
       "      <td>0.862847</td>\n",
       "      <td>1.000000</td>\n",
       "      <td>0.837949</td>\n",
       "      <td>0.747395</td>\n",
       "      <td>0.017698</td>\n",
       "    </tr>\n",
       "    <tr>\n",
       "      <th>Height (in)</th>\n",
       "      <td>0.800307</td>\n",
       "      <td>0.746525</td>\n",
       "      <td>0.837949</td>\n",
       "      <td>1.000000</td>\n",
       "      <td>0.861819</td>\n",
       "      <td>-0.032043</td>\n",
       "    </tr>\n",
       "    <tr>\n",
       "      <th>Weight (lb)</th>\n",
       "      <td>0.774526</td>\n",
       "      <td>0.738311</td>\n",
       "      <td>0.747395</td>\n",
       "      <td>0.861819</td>\n",
       "      <td>1.000000</td>\n",
       "      <td>-0.024568</td>\n",
       "    </tr>\n",
       "    <tr>\n",
       "      <th>Distance (mi)</th>\n",
       "      <td>0.266277</td>\n",
       "      <td>0.026250</td>\n",
       "      <td>0.017698</td>\n",
       "      <td>-0.032043</td>\n",
       "      <td>-0.024568</td>\n",
       "      <td>1.000000</td>\n",
       "    </tr>\n",
       "  </tbody>\n",
       "</table>\n",
       "</div>"
      ],
      "text/plain": [
       "                   Shipping Cost ($)  Length (in)  Width (in)  Height (in)  \\\n",
       "Shipping Cost ($)           1.000000     0.826989    0.849963     0.800307   \n",
       "Length (in)                 0.826989     1.000000    0.862847     0.746525   \n",
       "Width (in)                  0.849963     0.862847    1.000000     0.837949   \n",
       "Height (in)                 0.800307     0.746525    0.837949     1.000000   \n",
       "Weight (lb)                 0.774526     0.738311    0.747395     0.861819   \n",
       "Distance (mi)               0.266277     0.026250    0.017698    -0.032043   \n",
       "\n",
       "                   Weight (lb)  Distance (mi)  \n",
       "Shipping Cost ($)     0.774526       0.266277  \n",
       "Length (in)           0.738311       0.026250  \n",
       "Width (in)            0.747395       0.017698  \n",
       "Height (in)           0.861819      -0.032043  \n",
       "Weight (lb)           1.000000      -0.024568  \n",
       "Distance (mi)        -0.024568       1.000000  "
      ]
     },
     "execution_count": 8,
     "metadata": {},
     "output_type": "execute_result"
    }
   ],
   "source": [
    "packages_scaled.T.dot(packages_scaled) / (len(packages_scaled)-1)"
   ]
  },
  {
   "cell_type": "markdown",
   "metadata": {},
   "source": [
    "That means that the covariance matrix preserves the information about the spread of our dataset. What we want to do now is to explain that spread, one linear transformation (one **eigenvector**) at a time. For more see [this useful blog post](https://datascienceplus.com/understanding-the-covariance-matrix/).\n",
    "\n",
    "Let's try to reduce the dimensionality of our dataset. Since the features capturing size are strongly correlated, we might expect to be able to reduce our feature dimensions down to two without losing much information (i.e. variance in our features)."
   ]
  },
  {
   "cell_type": "markdown",
   "metadata": {},
   "source": [
    "## Eigendecomposition"
   ]
  },
  {
   "cell_type": "markdown",
   "metadata": {},
   "source": [
    "We will use an **eigendecomposition** of the covariance matrix to create a new set of dimensions. We can then decide how many of these dimensions to keep based on how much variance is captured by each dimension.\n",
    "\n",
    "Here, we show you how to do this using the NumPy `.eig()` function, but we will learn how to do PCA more easily in `sklearn` later."
   ]
  },
  {
   "cell_type": "code",
   "execution_count": 9,
   "metadata": {
    "ExecuteTime": {
     "end_time": "2023-01-09T16:57:21.771203Z",
     "start_time": "2023-01-09T16:57:21.761824Z"
    }
   },
   "outputs": [],
   "source": [
    "y_packages_scaled = packages_scaled['Shipping Cost ($)']\n",
    "X_packages_scaled = packages_scaled.drop('Shipping Cost ($)', axis=1)"
   ]
  },
  {
   "cell_type": "code",
   "execution_count": 11,
   "metadata": {
    "ExecuteTime": {
     "end_time": "2023-01-09T16:58:53.274387Z",
     "start_time": "2023-01-09T16:58:53.269324Z"
    }
   },
   "outputs": [],
   "source": [
    "# Decompose the covariance matrix\n",
    "cov_mat = X_packages_scaled.cov().values"
   ]
  },
  {
   "cell_type": "code",
   "execution_count": 12,
   "metadata": {
    "ExecuteTime": {
     "end_time": "2023-01-09T16:58:57.384649Z",
     "start_time": "2023-01-09T16:58:57.378701Z"
    }
   },
   "outputs": [],
   "source": [
    "eigvals, eigvecs = np.linalg.eig(cov_mat)"
   ]
  },
  {
   "cell_type": "code",
   "execution_count": 13,
   "metadata": {
    "ExecuteTime": {
     "end_time": "2023-01-09T16:59:08.949070Z",
     "start_time": "2023-01-09T16:59:08.944237Z"
    }
   },
   "outputs": [
    {
     "data": {
      "text/plain": [
       "array([3.39821068, 1.00381562, 0.3338863 , 0.08609481, 0.17799259])"
      ]
     },
     "execution_count": 13,
     "metadata": {},
     "output_type": "execute_result"
    }
   ],
   "source": [
    "eigvals"
   ]
  },
  {
   "cell_type": "code",
   "execution_count": 14,
   "metadata": {
    "ExecuteTime": {
     "end_time": "2023-01-09T16:59:14.802099Z",
     "start_time": "2023-01-09T16:59:14.794800Z"
    }
   },
   "outputs": [
    {
     "data": {
      "text/plain": [
       "array([[-0.49219397, -0.04575099,  0.58937372,  0.39011986,  0.50606033],\n",
       "       [-0.50780159, -0.03152634,  0.38635373, -0.59429315, -0.48855918],\n",
       "       [-0.5075545 ,  0.03825687, -0.38501594,  0.58895092, -0.49580679],\n",
       "       [-0.49220305,  0.03337828, -0.59133959, -0.38424744,  0.50920864],\n",
       "       [ 0.00268878, -0.9971636 , -0.07382155,  0.01062355, -0.00974944]])"
      ]
     },
     "execution_count": 14,
     "metadata": {},
     "output_type": "execute_result"
    }
   ],
   "source": [
    "eigvecs"
   ]
  },
  {
   "cell_type": "markdown",
   "metadata": {},
   "source": [
    "This decomposition gives us two things: eigenvalues and eigenvectors."
   ]
  },
  {
   "cell_type": "markdown",
   "metadata": {},
   "source": [
    "## Eigenvalues"
   ]
  },
  {
   "cell_type": "markdown",
   "metadata": {},
   "source": [
    "**Eigenvalues** represent the relative amount of variance captured by each new dimension. The average eigenvalue will be 1, so we look for values over 1 to identify dimensions that capture more variance than average. "
   ]
  },
  {
   "cell_type": "code",
   "execution_count": 15,
   "metadata": {
    "ExecuteTime": {
     "end_time": "2023-01-09T16:59:30.058344Z",
     "start_time": "2023-01-09T16:59:30.053014Z"
    }
   },
   "outputs": [
    {
     "data": {
      "text/plain": [
       "array([3.39821068, 1.00381562, 0.3338863 , 0.08609481, 0.17799259])"
      ]
     },
     "execution_count": 15,
     "metadata": {},
     "output_type": "execute_result"
    }
   ],
   "source": [
    "# Eigenvalues\n",
    "eigvals"
   ]
  },
  {
   "cell_type": "markdown",
   "metadata": {},
   "source": [
    "It looks like we have one great dimension capturing 3.4x more variance than average, one OK dimension capturing an average amount of variance, and three other dimensions that don't capture much variance. This is in line with what we were expecting! It means that we can just use the first two dimensions - and drop the last three - without losing much variance/information from our predictors."
   ]
  },
  {
   "cell_type": "markdown",
   "metadata": {},
   "source": [
    "### Proportion of Variance"
   ]
  },
  {
   "cell_type": "markdown",
   "metadata": {},
   "source": [
    "You can also divide your eigenvalues by the number of features and then interpret them as the _proportion of variance in the features_ captured by each dimension."
   ]
  },
  {
   "cell_type": "code",
   "execution_count": 17,
   "metadata": {
    "ExecuteTime": {
     "end_time": "2023-01-09T17:00:28.445971Z",
     "start_time": "2023-01-09T17:00:28.439866Z"
    }
   },
   "outputs": [
    {
     "data": {
      "text/plain": [
       "array([0.67964214, 0.20076312, 0.06677726, 0.01721896, 0.03559852])"
      ]
     },
     "execution_count": 17,
     "metadata": {},
     "output_type": "execute_result"
    }
   ],
   "source": [
    "# porportion of variance\n",
    "eigvals/len(eigvals)"
   ]
  },
  {
   "cell_type": "markdown",
   "metadata": {},
   "source": [
    "## Eigenvectors (aka Principal Components)"
   ]
  },
  {
   "cell_type": "markdown",
   "metadata": {},
   "source": [
    "**Eigenvectors** represent the new dimensions, which we call **principal components** when doing PCA. There is one eigenvector for each dimension, and they are all combined together into one matrix."
   ]
  },
  {
   "cell_type": "code",
   "execution_count": 18,
   "metadata": {
    "ExecuteTime": {
     "end_time": "2023-01-09T17:00:50.851719Z",
     "start_time": "2023-01-09T17:00:50.846458Z"
    },
    "scrolled": true
   },
   "outputs": [
    {
     "data": {
      "text/plain": [
       "array([[-0.49219397, -0.04575099,  0.58937372,  0.39011986,  0.50606033],\n",
       "       [-0.50780159, -0.03152634,  0.38635373, -0.59429315, -0.48855918],\n",
       "       [-0.5075545 ,  0.03825687, -0.38501594,  0.58895092, -0.49580679],\n",
       "       [-0.49220305,  0.03337828, -0.59133959, -0.38424744,  0.50920864],\n",
       "       [ 0.00268878, -0.9971636 , -0.07382155,  0.01062355, -0.00974944]])"
      ]
     },
     "execution_count": 18,
     "metadata": {},
     "output_type": "execute_result"
    }
   ],
   "source": [
    "# Eigenvectors\n",
    "eigvecs"
   ]
  },
  {
   "cell_type": "code",
   "execution_count": 22,
   "metadata": {
    "ExecuteTime": {
     "end_time": "2023-01-09T17:03:38.838339Z",
     "start_time": "2023-01-09T17:03:38.835555Z"
    }
   },
   "outputs": [],
   "source": [
    "eigvec1 = eigvecs[:,0]\n",
    "eigvec2 = eigvecs[:,1]"
   ]
  },
  {
   "cell_type": "code",
   "execution_count": 23,
   "metadata": {
    "ExecuteTime": {
     "end_time": "2023-01-09T17:03:43.498137Z",
     "start_time": "2023-01-09T17:03:43.493036Z"
    }
   },
   "outputs": [
    {
     "data": {
      "text/plain": [
       "array([-0.49219397, -0.50780159, -0.5075545 , -0.49220305,  0.00268878])"
      ]
     },
     "execution_count": 23,
     "metadata": {},
     "output_type": "execute_result"
    }
   ],
   "source": [
    "eigvec1"
   ]
  },
  {
   "cell_type": "code",
   "execution_count": 24,
   "metadata": {
    "ExecuteTime": {
     "end_time": "2023-01-09T17:04:06.629992Z",
     "start_time": "2023-01-09T17:04:06.624752Z"
    }
   },
   "outputs": [
    {
     "data": {
      "text/plain": [
       "array([-0.04575099, -0.03152634,  0.03825687,  0.03337828, -0.9971636 ])"
      ]
     },
     "execution_count": 24,
     "metadata": {},
     "output_type": "execute_result"
    }
   ],
   "source": [
    "eigvec2"
   ]
  },
  {
   "cell_type": "markdown",
   "metadata": {},
   "source": [
    "In PCA, the values in our eigenvectors are called **component weights**, and they tell us how much variance of each feature is captured by that dimension. These weights range from -1 to 1, but the relative sizes are what matter."
   ]
  },
  {
   "cell_type": "markdown",
   "metadata": {},
   "source": [
    "### Orthogonality"
   ]
  },
  {
   "cell_type": "markdown",
   "metadata": {},
   "source": [
    "These eigenvectors are **orthogonal**, meaning their dot product is zero. Think of it like being at right angles, like the x and y axes of a graph, but in higher-dimensional space. "
   ]
  },
  {
   "cell_type": "code",
   "execution_count": 25,
   "metadata": {
    "ExecuteTime": {
     "end_time": "2023-01-09T17:06:24.020320Z",
     "start_time": "2023-01-09T17:06:24.012291Z"
    }
   },
   "outputs": [
    {
     "data": {
      "text/plain": [
       "0.9999999999999999"
      ]
     },
     "execution_count": 25,
     "metadata": {},
     "output_type": "execute_result"
    }
   ],
   "source": [
    "np.linalg.norm(eigvec1)"
   ]
  },
  {
   "cell_type": "code",
   "execution_count": 26,
   "metadata": {
    "ExecuteTime": {
     "end_time": "2023-01-09T17:07:17.926654Z",
     "start_time": "2023-01-09T17:07:17.921866Z"
    }
   },
   "outputs": [
    {
     "data": {
      "text/plain": [
       "-1.5178830414797062e-17"
      ]
     },
     "execution_count": 26,
     "metadata": {},
     "output_type": "execute_result"
    }
   ],
   "source": [
    "# Prove orthoganality\n",
    "eigvec1.dot(eigvec2)"
   ]
  },
  {
   "cell_type": "markdown",
   "metadata": {},
   "source": [
    "### First Principal Component"
   ]
  },
  {
   "cell_type": "markdown",
   "metadata": {},
   "source": [
    "The first column of `eigvecs` is our first eigenvector, corresponding to the eigenvalue of 3.4. Let's look at it."
   ]
  },
  {
   "cell_type": "code",
   "execution_count": 27,
   "metadata": {
    "ExecuteTime": {
     "end_time": "2023-01-09T17:07:45.262540Z",
     "start_time": "2023-01-09T17:07:45.257445Z"
    }
   },
   "outputs": [
    {
     "data": {
      "text/plain": [
       "array([-0.49219397, -0.50780159, -0.5075545 , -0.49220305,  0.00268878])"
      ]
     },
     "execution_count": 27,
     "metadata": {},
     "output_type": "execute_result"
    }
   ],
   "source": [
    "eigvec1"
   ]
  },
  {
   "cell_type": "markdown",
   "metadata": {},
   "source": [
    "Notice that the first four numbers are relatively large, while the fifth is near zero. This means that this first dimension is almost entirely capturing the shared variance in our four size features, as we hoped! It's also interesting to note that the weights for the four features are almost equal, so they are equally represented in this dimension."
   ]
  },
  {
   "cell_type": "markdown",
   "metadata": {},
   "source": [
    "### Second Principal Component"
   ]
  },
  {
   "cell_type": "markdown",
   "metadata": {},
   "source": [
    "Let's look at our second eigenvector and see what features it seems to be capturing."
   ]
  },
  {
   "cell_type": "code",
   "execution_count": 28,
   "metadata": {
    "ExecuteTime": {
     "end_time": "2023-01-09T17:07:56.019219Z",
     "start_time": "2023-01-09T17:07:56.014156Z"
    }
   },
   "outputs": [
    {
     "data": {
      "text/plain": [
       "array([-0.04575099, -0.03152634,  0.03825687,  0.03337828, -0.9971636 ])"
      ]
     },
     "execution_count": 28,
     "metadata": {},
     "output_type": "execute_result"
    }
   ],
   "source": [
    "eigvec2"
   ]
  },
  {
   "cell_type": "markdown",
   "metadata": {},
   "source": [
    "Looks like it is almost entirely capturing the distance dimension, which makes sense, since that is not related to the package size at all. It has an eigenvalue of 1, which is appropriate, since the eigenvector only captures one feature, which wasn't captured at all in the first principal component."
   ]
  },
  {
   "cell_type": "code",
   "execution_count": 30,
   "metadata": {
    "ExecuteTime": {
     "end_time": "2023-01-09T17:08:24.137319Z",
     "start_time": "2023-01-09T17:08:24.131351Z"
    }
   },
   "outputs": [
    {
     "data": {
      "text/plain": [
       "array([0.67964214, 0.20076312, 0.06677726, 0.01721896, 0.03559852])"
      ]
     },
     "execution_count": 30,
     "metadata": {},
     "output_type": "execute_result"
    }
   ],
   "source": [
    "eigvals/5"
   ]
  },
  {
   "cell_type": "markdown",
   "metadata": {},
   "source": [
    "### Remaining Principal Components"
   ]
  },
  {
   "cell_type": "markdown",
   "metadata": {},
   "source": [
    "Since the remaining eigenvalues were all much less than 1, we can ignore the eigenvectors associated with them. We will not include components corresponding to them in our model."
   ]
  },
  {
   "cell_type": "markdown",
   "metadata": {},
   "source": [
    "## Sidebar: Properties of Eigenvectors"
   ]
  },
  {
   "cell_type": "markdown",
   "metadata": {},
   "source": [
    "These eigenvectors have **unit length** (length 1) in multi-dimensional space."
   ]
  },
  {
   "cell_type": "code",
   "execution_count": null,
   "metadata": {},
   "outputs": [],
   "source": [
    "# Vector Norm"
   ]
  },
  {
   "cell_type": "markdown",
   "metadata": {},
   "source": [
    "Eigenvectors are related to eigenvalues by the following property: $\\vec{x}$ is an eigenvector of the matrix $A$ if $A\\vec{x} = \\lambda\\vec{x}$, for some eigenvalue $\\lambda$."
   ]
  },
  {
   "cell_type": "markdown",
   "metadata": {},
   "source": [
    "$A\\vec{x}$"
   ]
  },
  {
   "cell_type": "code",
   "execution_count": 31,
   "metadata": {
    "ExecuteTime": {
     "end_time": "2023-01-09T17:09:16.459753Z",
     "start_time": "2023-01-09T17:09:16.453962Z"
    }
   },
   "outputs": [
    {
     "data": {
      "text/plain": [
       "array([-1.67257881, -1.72561679, -1.72477713, -1.67260965,  0.00913704])"
      ]
     },
     "execution_count": 31,
     "metadata": {},
     "output_type": "execute_result"
    }
   ],
   "source": [
    "cov_mat.dot(eigvec1)"
   ]
  },
  {
   "cell_type": "markdown",
   "metadata": {},
   "source": [
    "$\\lambda\\vec{x}$"
   ]
  },
  {
   "cell_type": "code",
   "execution_count": 34,
   "metadata": {
    "ExecuteTime": {
     "end_time": "2023-01-09T17:11:06.644793Z",
     "start_time": "2023-01-09T17:11:06.638223Z"
    }
   },
   "outputs": [
    {
     "data": {
      "text/plain": [
       "array([-1.67257881, -1.72561679, -1.72477713, -1.67260965,  0.00913704])"
      ]
     },
     "execution_count": 34,
     "metadata": {},
     "output_type": "execute_result"
    }
   ],
   "source": [
    "eigvals[0]*eigvec1"
   ]
  },
  {
   "cell_type": "markdown",
   "metadata": {},
   "source": [
    "### Transforming Data"
   ]
  },
  {
   "cell_type": "markdown",
   "metadata": {},
   "source": [
    "We will now use these principal components to create new features. These features will be weighted sums (aka **linear combinations**) of existing features, using the component weights from the eigenvectors."
   ]
  },
  {
   "cell_type": "markdown",
   "metadata": {},
   "source": [
    "### First Component"
   ]
  },
  {
   "cell_type": "markdown",
   "metadata": {},
   "source": [
    "We will now create a new feature using the first principal component. "
   ]
  },
  {
   "cell_type": "code",
   "execution_count": 35,
   "metadata": {
    "ExecuteTime": {
     "end_time": "2023-01-09T17:12:00.844400Z",
     "start_time": "2023-01-09T17:12:00.839559Z"
    }
   },
   "outputs": [
    {
     "data": {
      "text/plain": [
       "array([-0.49219397, -0.50780159, -0.5075545 , -0.49220305,  0.00268878])"
      ]
     },
     "execution_count": 35,
     "metadata": {},
     "output_type": "execute_result"
    }
   ],
   "source": [
    "eigvec1"
   ]
  },
  {
   "cell_type": "markdown",
   "metadata": {},
   "source": [
    "Our first feature will be calculated as follows:\n",
    "\n",
    "**PC1** = 0.492 * Length + 0.508 * Width + 0.508 * Height + 0.492 * Weight - 0.003 * Distance\n",
    "\n",
    "We use a dot product between the data and the eigenvector to do the arithmetic for us."
   ]
  },
  {
   "cell_type": "code",
   "execution_count": 36,
   "metadata": {
    "ExecuteTime": {
     "end_time": "2023-01-09T17:12:21.781776Z",
     "start_time": "2023-01-09T17:12:21.769944Z"
    }
   },
   "outputs": [
    {
     "data": {
      "text/html": [
       "<div>\n",
       "<style scoped>\n",
       "    .dataframe tbody tr th:only-of-type {\n",
       "        vertical-align: middle;\n",
       "    }\n",
       "\n",
       "    .dataframe tbody tr th {\n",
       "        vertical-align: top;\n",
       "    }\n",
       "\n",
       "    .dataframe thead th {\n",
       "        text-align: right;\n",
       "    }\n",
       "</style>\n",
       "<table border=\"1\" class=\"dataframe\">\n",
       "  <thead>\n",
       "    <tr style=\"text-align: right;\">\n",
       "      <th></th>\n",
       "      <th>PC1</th>\n",
       "    </tr>\n",
       "  </thead>\n",
       "  <tbody>\n",
       "    <tr>\n",
       "      <th>0</th>\n",
       "      <td>-1.192513</td>\n",
       "    </tr>\n",
       "    <tr>\n",
       "      <th>1</th>\n",
       "      <td>-1.688493</td>\n",
       "    </tr>\n",
       "    <tr>\n",
       "      <th>2</th>\n",
       "      <td>-2.234645</td>\n",
       "    </tr>\n",
       "    <tr>\n",
       "      <th>3</th>\n",
       "      <td>0.290959</td>\n",
       "    </tr>\n",
       "    <tr>\n",
       "      <th>4</th>\n",
       "      <td>-1.414106</td>\n",
       "    </tr>\n",
       "  </tbody>\n",
       "</table>\n",
       "</div>"
      ],
      "text/plain": [
       "        PC1\n",
       "0 -1.192513\n",
       "1 -1.688493\n",
       "2 -2.234645\n",
       "3  0.290959\n",
       "4 -1.414106"
      ]
     },
     "execution_count": 36,
     "metadata": {},
     "output_type": "execute_result"
    }
   ],
   "source": [
    "data_array = X_packages_scaled.values\n",
    "pc1 = data_array.dot(eigvec1)\n",
    "X_packages_pca = pd.DataFrame(data=pc1, columns=['PC1'])\n",
    "X_packages_pca.head()"
   ]
  },
  {
   "cell_type": "markdown",
   "metadata": {},
   "source": [
    "### All Components\n",
    "\n",
    "You can calculate all the new features at once using a dot product with the `eigvecs` matrix, which has all the eigenvectors in it."
   ]
  },
  {
   "cell_type": "code",
   "execution_count": 37,
   "metadata": {
    "ExecuteTime": {
     "end_time": "2023-01-09T17:15:26.221040Z",
     "start_time": "2023-01-09T17:15:25.972122Z"
    }
   },
   "outputs": [
    {
     "ename": "ValueError",
     "evalue": "Shape of passed values is (30, 1), indices imply (30, 5)",
     "output_type": "error",
     "traceback": [
      "\u001b[0;31m---------------------------------------------------------------------------\u001b[0m",
      "\u001b[0;31mValueError\u001b[0m                                Traceback (most recent call last)",
      "\u001b[0;32m/opt/anaconda3/envs/learn-env/lib/python3.8/site-packages/pandas/core/internals/managers.py\u001b[0m in \u001b[0;36mcreate_block_manager_from_blocks\u001b[0;34m(blocks, axes)\u001b[0m\n\u001b[1;32m   1661\u001b[0m                 blocks = [\n\u001b[0;32m-> 1662\u001b[0;31m                     \u001b[0mmake_block\u001b[0m\u001b[0;34m(\u001b[0m\u001b[0mvalues\u001b[0m\u001b[0;34m=\u001b[0m\u001b[0mblocks\u001b[0m\u001b[0;34m[\u001b[0m\u001b[0;36m0\u001b[0m\u001b[0;34m]\u001b[0m\u001b[0;34m,\u001b[0m \u001b[0mplacement\u001b[0m\u001b[0;34m=\u001b[0m\u001b[0mslice\u001b[0m\u001b[0;34m(\u001b[0m\u001b[0;36m0\u001b[0m\u001b[0;34m,\u001b[0m \u001b[0mlen\u001b[0m\u001b[0;34m(\u001b[0m\u001b[0maxes\u001b[0m\u001b[0;34m[\u001b[0m\u001b[0;36m0\u001b[0m\u001b[0;34m]\u001b[0m\u001b[0;34m)\u001b[0m\u001b[0;34m)\u001b[0m\u001b[0;34m)\u001b[0m\u001b[0;34m\u001b[0m\u001b[0;34m\u001b[0m\u001b[0m\n\u001b[0m\u001b[1;32m   1663\u001b[0m                 ]\n",
      "\u001b[0;32m/opt/anaconda3/envs/learn-env/lib/python3.8/site-packages/pandas/core/internals/blocks.py\u001b[0m in \u001b[0;36mmake_block\u001b[0;34m(values, placement, klass, ndim, dtype)\u001b[0m\n\u001b[1;32m   2721\u001b[0m \u001b[0;34m\u001b[0m\u001b[0m\n\u001b[0;32m-> 2722\u001b[0;31m     \u001b[0;32mreturn\u001b[0m \u001b[0mklass\u001b[0m\u001b[0;34m(\u001b[0m\u001b[0mvalues\u001b[0m\u001b[0;34m,\u001b[0m \u001b[0mndim\u001b[0m\u001b[0;34m=\u001b[0m\u001b[0mndim\u001b[0m\u001b[0;34m,\u001b[0m \u001b[0mplacement\u001b[0m\u001b[0;34m=\u001b[0m\u001b[0mplacement\u001b[0m\u001b[0;34m)\u001b[0m\u001b[0;34m\u001b[0m\u001b[0;34m\u001b[0m\u001b[0m\n\u001b[0m\u001b[1;32m   2723\u001b[0m \u001b[0;34m\u001b[0m\u001b[0m\n",
      "\u001b[0;32m/opt/anaconda3/envs/learn-env/lib/python3.8/site-packages/pandas/core/internals/blocks.py\u001b[0m in \u001b[0;36m__init__\u001b[0;34m(self, values, placement, ndim)\u001b[0m\n\u001b[1;32m    129\u001b[0m         \u001b[0;32mif\u001b[0m \u001b[0mself\u001b[0m\u001b[0;34m.\u001b[0m\u001b[0m_validate_ndim\u001b[0m \u001b[0;32mand\u001b[0m \u001b[0mself\u001b[0m\u001b[0;34m.\u001b[0m\u001b[0mndim\u001b[0m \u001b[0;32mand\u001b[0m \u001b[0mlen\u001b[0m\u001b[0;34m(\u001b[0m\u001b[0mself\u001b[0m\u001b[0;34m.\u001b[0m\u001b[0mmgr_locs\u001b[0m\u001b[0;34m)\u001b[0m \u001b[0;34m!=\u001b[0m \u001b[0mlen\u001b[0m\u001b[0;34m(\u001b[0m\u001b[0mself\u001b[0m\u001b[0;34m.\u001b[0m\u001b[0mvalues\u001b[0m\u001b[0;34m)\u001b[0m\u001b[0;34m:\u001b[0m\u001b[0;34m\u001b[0m\u001b[0;34m\u001b[0m\u001b[0m\n\u001b[0;32m--> 130\u001b[0;31m             raise ValueError(\n\u001b[0m\u001b[1;32m    131\u001b[0m                 \u001b[0;34mf\"Wrong number of items passed {len(self.values)}, \"\u001b[0m\u001b[0;34m\u001b[0m\u001b[0;34m\u001b[0m\u001b[0m\n",
      "\u001b[0;31mValueError\u001b[0m: Wrong number of items passed 1, placement implies 5",
      "\nDuring handling of the above exception, another exception occurred:\n",
      "\u001b[0;31mValueError\u001b[0m                                Traceback (most recent call last)",
      "\u001b[0;32m<ipython-input-37-cd93ada5a815>\u001b[0m in \u001b[0;36m<module>\u001b[0;34m\u001b[0m\n\u001b[1;32m      1\u001b[0m \u001b[0mdata_array\u001b[0m \u001b[0;34m=\u001b[0m \u001b[0mX_packages_scaled\u001b[0m\u001b[0;34m.\u001b[0m\u001b[0mvalues\u001b[0m\u001b[0;34m\u001b[0m\u001b[0;34m\u001b[0m\u001b[0m\n\u001b[1;32m      2\u001b[0m \u001b[0mpc1\u001b[0m \u001b[0;34m=\u001b[0m \u001b[0mdata_array\u001b[0m\u001b[0;34m.\u001b[0m\u001b[0mdot\u001b[0m\u001b[0;34m(\u001b[0m\u001b[0meigvec1\u001b[0m\u001b[0;34m)\u001b[0m\u001b[0;34m\u001b[0m\u001b[0;34m\u001b[0m\u001b[0m\n\u001b[0;32m----> 3\u001b[0;31m \u001b[0mX_packages_pca\u001b[0m \u001b[0;34m=\u001b[0m \u001b[0mpd\u001b[0m\u001b[0;34m.\u001b[0m\u001b[0mDataFrame\u001b[0m\u001b[0;34m(\u001b[0m\u001b[0mdata\u001b[0m\u001b[0;34m=\u001b[0m\u001b[0mpc1\u001b[0m\u001b[0;34m,\u001b[0m \u001b[0mcolumns\u001b[0m\u001b[0;34m=\u001b[0m\u001b[0;34m[\u001b[0m\u001b[0;34m'PC1'\u001b[0m\u001b[0;34m,\u001b[0m \u001b[0;34m'PC2'\u001b[0m\u001b[0;34m,\u001b[0m \u001b[0;34m'PC3'\u001b[0m\u001b[0;34m,\u001b[0m \u001b[0;34m'PC4'\u001b[0m\u001b[0;34m,\u001b[0m \u001b[0;34m'PC5'\u001b[0m\u001b[0;34m]\u001b[0m\u001b[0;34m)\u001b[0m\u001b[0;34m\u001b[0m\u001b[0;34m\u001b[0m\u001b[0m\n\u001b[0m\u001b[1;32m      4\u001b[0m \u001b[0mX_packages_pca\u001b[0m\u001b[0;34m.\u001b[0m\u001b[0mhead\u001b[0m\u001b[0;34m(\u001b[0m\u001b[0;34m)\u001b[0m\u001b[0;34m\u001b[0m\u001b[0;34m\u001b[0m\u001b[0m\n",
      "\u001b[0;32m/opt/anaconda3/envs/learn-env/lib/python3.8/site-packages/pandas/core/frame.py\u001b[0m in \u001b[0;36m__init__\u001b[0;34m(self, data, index, columns, dtype, copy)\u001b[0m\n\u001b[1;32m    495\u001b[0m                 \u001b[0mmgr\u001b[0m \u001b[0;34m=\u001b[0m \u001b[0minit_dict\u001b[0m\u001b[0;34m(\u001b[0m\u001b[0;34m{\u001b[0m\u001b[0mdata\u001b[0m\u001b[0;34m.\u001b[0m\u001b[0mname\u001b[0m\u001b[0;34m:\u001b[0m \u001b[0mdata\u001b[0m\u001b[0;34m}\u001b[0m\u001b[0;34m,\u001b[0m \u001b[0mindex\u001b[0m\u001b[0;34m,\u001b[0m \u001b[0mcolumns\u001b[0m\u001b[0;34m,\u001b[0m \u001b[0mdtype\u001b[0m\u001b[0;34m=\u001b[0m\u001b[0mdtype\u001b[0m\u001b[0;34m)\u001b[0m\u001b[0;34m\u001b[0m\u001b[0;34m\u001b[0m\u001b[0m\n\u001b[1;32m    496\u001b[0m             \u001b[0;32melse\u001b[0m\u001b[0;34m:\u001b[0m\u001b[0;34m\u001b[0m\u001b[0;34m\u001b[0m\u001b[0m\n\u001b[0;32m--> 497\u001b[0;31m                 \u001b[0mmgr\u001b[0m \u001b[0;34m=\u001b[0m \u001b[0minit_ndarray\u001b[0m\u001b[0;34m(\u001b[0m\u001b[0mdata\u001b[0m\u001b[0;34m,\u001b[0m \u001b[0mindex\u001b[0m\u001b[0;34m,\u001b[0m \u001b[0mcolumns\u001b[0m\u001b[0;34m,\u001b[0m \u001b[0mdtype\u001b[0m\u001b[0;34m=\u001b[0m\u001b[0mdtype\u001b[0m\u001b[0;34m,\u001b[0m \u001b[0mcopy\u001b[0m\u001b[0;34m=\u001b[0m\u001b[0mcopy\u001b[0m\u001b[0;34m)\u001b[0m\u001b[0;34m\u001b[0m\u001b[0;34m\u001b[0m\u001b[0m\n\u001b[0m\u001b[1;32m    498\u001b[0m \u001b[0;34m\u001b[0m\u001b[0m\n\u001b[1;32m    499\u001b[0m         \u001b[0;31m# For data is list-like, or Iterable (will consume into list)\u001b[0m\u001b[0;34m\u001b[0m\u001b[0;34m\u001b[0m\u001b[0;34m\u001b[0m\u001b[0m\n",
      "\u001b[0;32m/opt/anaconda3/envs/learn-env/lib/python3.8/site-packages/pandas/core/internals/construction.py\u001b[0m in \u001b[0;36minit_ndarray\u001b[0;34m(values, index, columns, dtype, copy)\u001b[0m\n\u001b[1;32m    232\u001b[0m         \u001b[0mblock_values\u001b[0m \u001b[0;34m=\u001b[0m \u001b[0;34m[\u001b[0m\u001b[0mvalues\u001b[0m\u001b[0;34m]\u001b[0m\u001b[0;34m\u001b[0m\u001b[0;34m\u001b[0m\u001b[0m\n\u001b[1;32m    233\u001b[0m \u001b[0;34m\u001b[0m\u001b[0m\n\u001b[0;32m--> 234\u001b[0;31m     \u001b[0;32mreturn\u001b[0m \u001b[0mcreate_block_manager_from_blocks\u001b[0m\u001b[0;34m(\u001b[0m\u001b[0mblock_values\u001b[0m\u001b[0;34m,\u001b[0m \u001b[0;34m[\u001b[0m\u001b[0mcolumns\u001b[0m\u001b[0;34m,\u001b[0m \u001b[0mindex\u001b[0m\u001b[0;34m]\u001b[0m\u001b[0;34m)\u001b[0m\u001b[0;34m\u001b[0m\u001b[0;34m\u001b[0m\u001b[0m\n\u001b[0m\u001b[1;32m    235\u001b[0m \u001b[0;34m\u001b[0m\u001b[0m\n\u001b[1;32m    236\u001b[0m \u001b[0;34m\u001b[0m\u001b[0m\n",
      "\u001b[0;32m/opt/anaconda3/envs/learn-env/lib/python3.8/site-packages/pandas/core/internals/managers.py\u001b[0m in \u001b[0;36mcreate_block_manager_from_blocks\u001b[0;34m(blocks, axes)\u001b[0m\n\u001b[1;32m   1670\u001b[0m         \u001b[0mblocks\u001b[0m \u001b[0;34m=\u001b[0m \u001b[0;34m[\u001b[0m\u001b[0mgetattr\u001b[0m\u001b[0;34m(\u001b[0m\u001b[0mb\u001b[0m\u001b[0;34m,\u001b[0m \u001b[0;34m\"values\"\u001b[0m\u001b[0;34m,\u001b[0m \u001b[0mb\u001b[0m\u001b[0;34m)\u001b[0m \u001b[0;32mfor\u001b[0m \u001b[0mb\u001b[0m \u001b[0;32min\u001b[0m \u001b[0mblocks\u001b[0m\u001b[0;34m]\u001b[0m\u001b[0;34m\u001b[0m\u001b[0;34m\u001b[0m\u001b[0m\n\u001b[1;32m   1671\u001b[0m         \u001b[0mtot_items\u001b[0m \u001b[0;34m=\u001b[0m \u001b[0msum\u001b[0m\u001b[0;34m(\u001b[0m\u001b[0mb\u001b[0m\u001b[0;34m.\u001b[0m\u001b[0mshape\u001b[0m\u001b[0;34m[\u001b[0m\u001b[0;36m0\u001b[0m\u001b[0;34m]\u001b[0m \u001b[0;32mfor\u001b[0m \u001b[0mb\u001b[0m \u001b[0;32min\u001b[0m \u001b[0mblocks\u001b[0m\u001b[0;34m)\u001b[0m\u001b[0;34m\u001b[0m\u001b[0;34m\u001b[0m\u001b[0m\n\u001b[0;32m-> 1672\u001b[0;31m         \u001b[0;32mraise\u001b[0m \u001b[0mconstruction_error\u001b[0m\u001b[0;34m(\u001b[0m\u001b[0mtot_items\u001b[0m\u001b[0;34m,\u001b[0m \u001b[0mblocks\u001b[0m\u001b[0;34m[\u001b[0m\u001b[0;36m0\u001b[0m\u001b[0;34m]\u001b[0m\u001b[0;34m.\u001b[0m\u001b[0mshape\u001b[0m\u001b[0;34m[\u001b[0m\u001b[0;36m1\u001b[0m\u001b[0;34m:\u001b[0m\u001b[0;34m]\u001b[0m\u001b[0;34m,\u001b[0m \u001b[0maxes\u001b[0m\u001b[0;34m,\u001b[0m \u001b[0me\u001b[0m\u001b[0;34m)\u001b[0m\u001b[0;34m\u001b[0m\u001b[0;34m\u001b[0m\u001b[0m\n\u001b[0m\u001b[1;32m   1673\u001b[0m \u001b[0;34m\u001b[0m\u001b[0m\n\u001b[1;32m   1674\u001b[0m \u001b[0;34m\u001b[0m\u001b[0m\n",
      "\u001b[0;31mValueError\u001b[0m: Shape of passed values is (30, 1), indices imply (30, 5)"
     ]
    }
   ],
   "source": [
    "data_array = X_packages_scaled.values\n",
    "pc1 = data_array.dot(eigvec1)\n",
    "X_packages_pca = pd.DataFrame(data=pc1, columns=['PC1', 'PC2', 'PC3', 'PC4', 'PC5'])\n",
    "X_packages_pca.head()"
   ]
  },
  {
   "cell_type": "markdown",
   "metadata": {},
   "source": [
    "## Feature Correlations"
   ]
  },
  {
   "cell_type": "markdown",
   "metadata": {},
   "source": [
    "Because we used eigenvectors to construct our new features, we have completely solved any multicollinearity issues. This is because the eigenvectors define new, uncorrelated dimensions:"
   ]
  },
  {
   "cell_type": "code",
   "execution_count": 38,
   "metadata": {
    "ExecuteTime": {
     "end_time": "2023-01-09T17:15:40.370463Z",
     "start_time": "2023-01-09T17:15:40.258091Z"
    }
   },
   "outputs": [
    {
     "data": {
      "image/png": "[encoded data removed]",
      "text/plain": [
       "<Figure size 432x288 with 2 Axes>"
      ]
     },
     "metadata": {
      "needs_background": "light"
     },
     "output_type": "display_data"
    }
   ],
   "source": [
    "mask = np.triu(np.ones_like(X_packages_pca.corr(), dtype=bool))\n",
    "\n",
    "sns.heatmap(X_packages_pca.corr(),\n",
    "            mask=mask,\n",
    "            annot=True,\n",
    "            fmt='0.2g',\n",
    "            vmin=-1,\n",
    "            vmax=1,\n",
    "            center=0,\n",
    "            cmap= 'coolwarm');"
   ]
  },
  {
   "cell_type": "markdown",
   "metadata": {},
   "source": [
    "## Modeling"
   ]
  },
  {
   "cell_type": "markdown",
   "metadata": {},
   "source": [
    "Now let's compare linear regression models with...\n",
    "\n",
    "* All five original features \n",
    "* All five new features\n",
    "* Only 2 best new features\n",
    "* Only 1 best new feature"
   ]
  },
  {
   "cell_type": "code",
   "execution_count": 39,
   "metadata": {
    "ExecuteTime": {
     "end_time": "2023-01-09T17:15:55.593163Z",
     "start_time": "2023-01-09T17:15:55.584384Z"
    }
   },
   "outputs": [],
   "source": [
    "X_train, X_test, y_train, y_test = train_test_split(X_packages_scaled, y_packages_scaled, random_state=42)"
   ]
  },
  {
   "cell_type": "code",
   "execution_count": 40,
   "metadata": {
    "ExecuteTime": {
     "end_time": "2023-01-09T17:15:57.659366Z",
     "start_time": "2023-01-09T17:15:57.653779Z"
    }
   },
   "outputs": [],
   "source": [
    "def fit_print_scores(model, X_train, X_test, y_train, y_test):\n",
    "    '''\n",
    "    Takes an istantiated model and fits it then scores it.\n",
    "    '''\n",
    "    model.fit(X_train, y_train)\n",
    "    tr_r2 = model.score(X_train, y_train)\n",
    "    te_r2 = model.score(X_test, y_test)\n",
    "    te_mse = mse(y_test, model.predict(X_test))\n",
    "    \n",
    "    print(f'Train R^2: {tr_r2}')\n",
    "    print(f'Test R^2: {te_r2}')\n",
    "    print(f'Test MSE: {te_mse}')"
   ]
  },
  {
   "cell_type": "markdown",
   "metadata": {},
   "source": [
    "**Model 1: All base features**:"
   ]
  },
  {
   "cell_type": "code",
   "execution_count": 41,
   "metadata": {
    "ExecuteTime": {
     "end_time": "2023-01-09T17:16:33.817279Z",
     "start_time": "2023-01-09T17:16:33.808307Z"
    }
   },
   "outputs": [],
   "source": [
    "sm1 = OLS(exog=X_train, endog=y_train).fit()"
   ]
  },
  {
   "cell_type": "code",
   "execution_count": 42,
   "metadata": {
    "ExecuteTime": {
     "end_time": "2023-01-09T17:16:46.573236Z",
     "start_time": "2023-01-09T17:16:46.568674Z"
    }
   },
   "outputs": [
    {
     "data": {
      "text/plain": [
       "0.8198832487038371"
      ]
     },
     "execution_count": 42,
     "metadata": {},
     "output_type": "execute_result"
    }
   ],
   "source": [
    "sm1.rsquared"
   ]
  },
  {
   "cell_type": "code",
   "execution_count": 43,
   "metadata": {
    "ExecuteTime": {
     "end_time": "2023-01-09T17:17:19.292810Z",
     "start_time": "2023-01-09T17:17:19.285084Z"
    }
   },
   "outputs": [
    {
     "data": {
      "text/plain": [
       "0.18183819388423655"
      ]
     },
     "execution_count": 43,
     "metadata": {},
     "output_type": "execute_result"
    }
   ],
   "source": [
    "y_test_hat = sm1.predict(X_test)\n",
    "mse(y_test, y_test_hat)"
   ]
  },
  {
   "cell_type": "code",
   "execution_count": null,
   "metadata": {},
   "outputs": [],
   "source": []
  },
  {
   "cell_type": "markdown",
   "metadata": {},
   "source": [
    "**Model 2: All PCs**:\n",
    "\n",
    "hint: use the dot product!"
   ]
  },
  {
   "cell_type": "code",
   "execution_count": 44,
   "metadata": {
    "ExecuteTime": {
     "end_time": "2023-01-09T17:21:24.452052Z",
     "start_time": "2023-01-09T17:21:24.446490Z"
    }
   },
   "outputs": [],
   "source": [
    "tr_eigval, tr_eigvec = np.linalg.eig(X_train.cov())"
   ]
  },
  {
   "cell_type": "code",
   "execution_count": 58,
   "metadata": {
    "ExecuteTime": {
     "end_time": "2023-01-09T17:34:10.455413Z",
     "start_time": "2023-01-09T17:34:10.451915Z"
    }
   },
   "outputs": [],
   "source": [
    "X_tr_pca = X_train.dot(tr_eigvec)"
   ]
  },
  {
   "cell_type": "code",
   "execution_count": 59,
   "metadata": {
    "ExecuteTime": {
     "end_time": "2023-01-09T17:34:19.971501Z",
     "start_time": "2023-01-09T17:34:19.968387Z"
    }
   },
   "outputs": [],
   "source": [
    "X_te_pca = X_test.dot(tr_eigvec)"
   ]
  },
  {
   "cell_type": "code",
   "execution_count": 60,
   "metadata": {
    "ExecuteTime": {
     "end_time": "2023-01-09T17:34:20.421159Z",
     "start_time": "2023-01-09T17:34:20.417319Z"
    }
   },
   "outputs": [],
   "source": [
    "lr2 = LinearRegression()"
   ]
  },
  {
   "cell_type": "code",
   "execution_count": 61,
   "metadata": {
    "ExecuteTime": {
     "end_time": "2023-01-09T17:34:21.070701Z",
     "start_time": "2023-01-09T17:34:21.051310Z"
    }
   },
   "outputs": [
    {
     "name": "stdout",
     "output_type": "stream",
     "text": [
      "Train R^2: 0.8145505443645276\n",
      "Test R^2: 0.38601771040438004\n",
      "Test MSE: 0.43813259954522876\n"
     ]
    }
   ],
   "source": [
    "fit_print_scores(lr2, X_tr_pca, X_te_pca, y_train, y_test)"
   ]
  },
  {
   "cell_type": "markdown",
   "metadata": {},
   "source": [
    "**Model 3 (Exercise!): Only PCs 1 and 2**:"
   ]
  },
  {
   "cell_type": "markdown",
   "metadata": {},
   "source": [
    "**Model 4 (Exercise!): Only PC 1**:"
   ]
  },
  {
   "cell_type": "markdown",
   "metadata": {},
   "source": [
    "## PCA in `sklearn`"
   ]
  },
  {
   "cell_type": "markdown",
   "metadata": {},
   "source": [
    "As always, `sklearn` makes this all much easier, this time with the `PCA()` class."
   ]
  },
  {
   "cell_type": "code",
   "execution_count": 53,
   "metadata": {
    "ExecuteTime": {
     "end_time": "2023-01-09T17:31:42.737632Z",
     "start_time": "2023-01-09T17:31:42.717329Z"
    }
   },
   "outputs": [],
   "source": [
    "# PCA!\n",
    "pca = PCA(n_components=2)\n",
    "\n",
    "X_packages_pca2 = pca.fit_transform(X_packages_scaled)\n"
   ]
  },
  {
   "cell_type": "code",
   "execution_count": 54,
   "metadata": {
    "ExecuteTime": {
     "end_time": "2023-01-09T17:31:51.294722Z",
     "start_time": "2023-01-09T17:31:51.287558Z"
    }
   },
   "outputs": [
    {
     "data": {
      "text/plain": [
       "array([[-1.19251259,  0.01165027],\n",
       "       [-1.6884926 , -1.20593195],\n",
       "       [-2.23464529, -1.00658678],\n",
       "       [ 0.29095897,  1.06168599],\n",
       "       [-1.41410555,  1.07954109],\n",
       "       [ 1.06139346,  0.05187855],\n",
       "       [ 0.10019837,  0.23513497],\n",
       "       [-2.33093407, -0.89957135],\n",
       "       [-1.47676838, -0.34010063],\n",
       "       [-0.45682559,  1.60018876],\n",
       "       [-0.13423325, -0.62088431],\n",
       "       [-3.30507484,  1.08235958],\n",
       "       [-2.74505571, -0.10572725],\n",
       "       [-1.30678544,  0.94313531],\n",
       "       [ 2.66563386, -0.71880228],\n",
       "       [ 3.42953579,  1.71828969],\n",
       "       [ 1.4983111 , -1.27903623],\n",
       "       [ 2.86966913, -0.6486711 ],\n",
       "       [ 0.78626632, -1.0041735 ],\n",
       "       [-2.23314991, -0.69829523],\n",
       "       [ 0.3895979 , -1.19424825],\n",
       "       [ 0.65923367, -1.00208593],\n",
       "       [-1.3171193 ,  0.11452609],\n",
       "       [ 2.43488118, -1.3849151 ],\n",
       "       [ 2.05249803,  1.28496817],\n",
       "       [-0.24303515,  1.56166047],\n",
       "       [-0.5784901 , -0.26137659],\n",
       "       [-0.05086261,  1.0017095 ],\n",
       "       [ 1.88019062,  1.20898171],\n",
       "       [ 2.58972197, -0.58530364]])"
      ]
     },
     "execution_count": 54,
     "metadata": {},
     "output_type": "execute_result"
    }
   ],
   "source": [
    "X_packages_pca2"
   ]
  },
  {
   "cell_type": "code",
   "execution_count": 55,
   "metadata": {
    "ExecuteTime": {
     "end_time": "2023-01-09T17:32:10.754781Z",
     "start_time": "2023-01-09T17:32:10.750488Z"
    }
   },
   "outputs": [
    {
     "data": {
      "text/plain": [
       "array([0.67964214, 0.20076312])"
      ]
     },
     "execution_count": 55,
     "metadata": {},
     "output_type": "execute_result"
    }
   ],
   "source": [
    "pca.explained_variance_ratio_"
   ]
  },
  {
   "cell_type": "code",
   "execution_count": 56,
   "metadata": {
    "ExecuteTime": {
     "end_time": "2023-01-09T17:32:26.571767Z",
     "start_time": "2023-01-09T17:32:26.567402Z"
    }
   },
   "outputs": [
    {
     "data": {
      "text/plain": [
       "array([3.39821068, 1.00381562])"
      ]
     },
     "execution_count": 56,
     "metadata": {},
     "output_type": "execute_result"
    }
   ],
   "source": [
    "pca.explained_variance_"
   ]
  },
  {
   "cell_type": "code",
   "execution_count": 57,
   "metadata": {
    "ExecuteTime": {
     "end_time": "2023-01-09T17:32:43.798900Z",
     "start_time": "2023-01-09T17:32:43.794053Z"
    }
   },
   "outputs": [
    {
     "data": {
      "text/plain": [
       "array([[-0.49219397, -0.50780159, -0.5075545 , -0.49220305,  0.00268878],\n",
       "       [-0.04575099, -0.03152634,  0.03825687,  0.03337828, -0.9971636 ]])"
      ]
     },
     "execution_count": 57,
     "metadata": {},
     "output_type": "execute_result"
    }
   ],
   "source": [
    "pca.components_"
   ]
  },
  {
   "cell_type": "code",
   "execution_count": null,
   "metadata": {},
   "outputs": [],
   "source": []
  },
  {
   "cell_type": "markdown",
   "metadata": {},
   "source": [
    "You can get the eigenvalues and eigenvectors out, too "
   ]
  },
  {
   "cell_type": "code",
   "execution_count": null,
   "metadata": {},
   "outputs": [],
   "source": [
    "pca."
   ]
  },
  {
   "cell_type": "markdown",
   "metadata": {},
   "source": [
    "Sometimes the signs get flipped on the eigenvectors - don't worry about it. Think of \"up\" and \"down\" as both representing the same dimension, just in opposite directions."
   ]
  },
  {
   "cell_type": "markdown",
   "metadata": {},
   "source": [
    "Then you can use your transformed data as you would in any model"
   ]
  },
  {
   "cell_type": "code",
   "execution_count": 62,
   "metadata": {
    "ExecuteTime": {
     "end_time": "2023-01-09T17:43:12.391560Z",
     "start_time": "2023-01-09T17:43:12.369450Z"
    }
   },
   "outputs": [
    {
     "data": {
      "text/plain": [
       "LinearRegression()"
      ]
     },
     "execution_count": 62,
     "metadata": {},
     "output_type": "execute_result"
    }
   ],
   "source": [
    "# Linear Regression and PCA\n",
    "lr_pca = LinearRegression()\n",
    "lr_pca.fit(X_packages_pca2, y_packages_scaled)"
   ]
  },
  {
   "cell_type": "code",
   "execution_count": 63,
   "metadata": {
    "ExecuteTime": {
     "end_time": "2023-01-09T17:43:31.820261Z",
     "start_time": "2023-01-09T17:43:31.812096Z"
    }
   },
   "outputs": [
    {
     "data": {
      "text/plain": [
       "0.8520244462637743"
      ]
     },
     "execution_count": 63,
     "metadata": {},
     "output_type": "execute_result"
    }
   ],
   "source": [
    "lr_pca.score(X_packages_pca2, y_packages_scaled)"
   ]
  },
  {
   "cell_type": "markdown",
   "metadata": {},
   "source": [
    "# Scenario: Car Properties"
   ]
  },
  {
   "cell_type": "markdown",
   "metadata": {},
   "source": [
    "Use PCA to reduce the dimensionality of features in the example below: Predict car mpg using car properties. We've done the data prep. Now you practice the modeling, including scoring on the test set."
   ]
  },
  {
   "cell_type": "markdown",
   "metadata": {},
   "source": [
    "## Data Prep"
   ]
  },
  {
   "cell_type": "code",
   "execution_count": 64,
   "metadata": {
    "ExecuteTime": {
     "end_time": "2023-01-09T17:43:54.421462Z",
     "start_time": "2023-01-09T17:43:54.400960Z"
    },
    "scrolled": true
   },
   "outputs": [],
   "source": [
    "cars = pd.read_csv('data/cars.csv')"
   ]
  },
  {
   "cell_type": "code",
   "execution_count": 65,
   "metadata": {
    "ExecuteTime": {
     "end_time": "2023-01-09T17:43:54.937798Z",
     "start_time": "2023-01-09T17:43:54.918773Z"
    }
   },
   "outputs": [
    {
     "data": {
      "text/html": [
       "<div>\n",
       "<style scoped>\n",
       "    .dataframe tbody tr th:only-of-type {\n",
       "        vertical-align: middle;\n",
       "    }\n",
       "\n",
       "    .dataframe tbody tr th {\n",
       "        vertical-align: top;\n",
       "    }\n",
       "\n",
       "    .dataframe thead th {\n",
       "        text-align: right;\n",
       "    }\n",
       "</style>\n",
       "<table border=\"1\" class=\"dataframe\">\n",
       "  <thead>\n",
       "    <tr style=\"text-align: right;\">\n",
       "      <th></th>\n",
       "      <th>mpg</th>\n",
       "      <th>cylinders</th>\n",
       "      <th>cubicinches</th>\n",
       "      <th>hp</th>\n",
       "      <th>weightlbs</th>\n",
       "      <th>time-to-60</th>\n",
       "      <th>year</th>\n",
       "      <th>brand</th>\n",
       "    </tr>\n",
       "  </thead>\n",
       "  <tbody>\n",
       "    <tr>\n",
       "      <th>0</th>\n",
       "      <td>14.0</td>\n",
       "      <td>8</td>\n",
       "      <td>350</td>\n",
       "      <td>165</td>\n",
       "      <td>4209</td>\n",
       "      <td>12</td>\n",
       "      <td>1972</td>\n",
       "      <td>US.</td>\n",
       "    </tr>\n",
       "    <tr>\n",
       "      <th>1</th>\n",
       "      <td>31.9</td>\n",
       "      <td>4</td>\n",
       "      <td>89</td>\n",
       "      <td>71</td>\n",
       "      <td>1925</td>\n",
       "      <td>14</td>\n",
       "      <td>1980</td>\n",
       "      <td>Europe.</td>\n",
       "    </tr>\n",
       "    <tr>\n",
       "      <th>2</th>\n",
       "      <td>17.0</td>\n",
       "      <td>8</td>\n",
       "      <td>302</td>\n",
       "      <td>140</td>\n",
       "      <td>3449</td>\n",
       "      <td>11</td>\n",
       "      <td>1971</td>\n",
       "      <td>US.</td>\n",
       "    </tr>\n",
       "    <tr>\n",
       "      <th>3</th>\n",
       "      <td>15.0</td>\n",
       "      <td>8</td>\n",
       "      <td>400</td>\n",
       "      <td>150</td>\n",
       "      <td>3761</td>\n",
       "      <td>10</td>\n",
       "      <td>1971</td>\n",
       "      <td>US.</td>\n",
       "    </tr>\n",
       "    <tr>\n",
       "      <th>4</th>\n",
       "      <td>30.5</td>\n",
       "      <td>4</td>\n",
       "      <td>98</td>\n",
       "      <td>63</td>\n",
       "      <td>2051</td>\n",
       "      <td>17</td>\n",
       "      <td>1978</td>\n",
       "      <td>US.</td>\n",
       "    </tr>\n",
       "  </tbody>\n",
       "</table>\n",
       "</div>"
      ],
      "text/plain": [
       "    mpg   cylinders  cubicinches   hp  weightlbs   time-to-60   year     brand\n",
       "0  14.0           8          350  165       4209           12   1972       US.\n",
       "1  31.9           4           89   71       1925           14   1980   Europe.\n",
       "2  17.0           8          302  140       3449           11   1971       US.\n",
       "3  15.0           8          400  150       3761           10   1971       US.\n",
       "4  30.5           4           98   63       2051           17   1978       US."
      ]
     },
     "execution_count": 65,
     "metadata": {},
     "output_type": "execute_result"
    }
   ],
   "source": [
    "cars.head()"
   ]
  },
  {
   "cell_type": "code",
   "execution_count": 66,
   "metadata": {
    "ExecuteTime": {
     "end_time": "2023-01-09T17:43:55.328600Z",
     "start_time": "2023-01-09T17:43:55.321194Z"
    }
   },
   "outputs": [
    {
     "data": {
      "text/plain": [
       "mpg             float64\n",
       " cylinders        int64\n",
       " cubicinches     object\n",
       " hp               int64\n",
       " weightlbs       object\n",
       " time-to-60       int64\n",
       " year             int64\n",
       " brand           object\n",
       "dtype: object"
      ]
     },
     "execution_count": 66,
     "metadata": {},
     "output_type": "execute_result"
    }
   ],
   "source": [
    "cars.dtypes"
   ]
  },
  {
   "cell_type": "code",
   "execution_count": 67,
   "metadata": {
    "ExecuteTime": {
     "end_time": "2023-01-09T17:43:55.992494Z",
     "start_time": "2023-01-09T17:43:55.982107Z"
    }
   },
   "outputs": [],
   "source": [
    "cars[' cubicinches'].replace(' ', np.nan, inplace=True)\n",
    "cars[' cubicinches'] = cars[' cubicinches'].astype(float)"
   ]
  },
  {
   "cell_type": "code",
   "execution_count": 68,
   "metadata": {
    "ExecuteTime": {
     "end_time": "2023-01-09T17:43:58.793398Z",
     "start_time": "2023-01-09T17:43:58.788086Z"
    }
   },
   "outputs": [],
   "source": [
    "cars[' weightlbs'].replace(' ', np.nan, inplace=True)\n",
    "cars[' weightlbs'] = cars[' weightlbs'].astype(float)"
   ]
  },
  {
   "cell_type": "code",
   "execution_count": 69,
   "metadata": {
    "ExecuteTime": {
     "end_time": "2023-01-09T17:44:00.601746Z",
     "start_time": "2023-01-09T17:44:00.587858Z"
    }
   },
   "outputs": [],
   "source": [
    "X_train, X_test, y_train, y_test = train_test_split(cars.drop('mpg', axis=1),\n",
    "                                                    cars['mpg'],\n",
    "                                                   random_state=20)"
   ]
  },
  {
   "cell_type": "code",
   "execution_count": 70,
   "metadata": {
    "ExecuteTime": {
     "end_time": "2023-01-09T17:44:02.732433Z",
     "start_time": "2023-01-09T17:44:02.727434Z"
    }
   },
   "outputs": [],
   "source": [
    "ct1 = ColumnTransformer(transformers=[\n",
    "    ('imputer', SimpleImputer(), [1, 3])],\n",
    "    remainder='passthrough')"
   ]
  },
  {
   "cell_type": "code",
   "execution_count": 71,
   "metadata": {
    "ExecuteTime": {
     "end_time": "2023-01-09T17:44:03.085279Z",
     "start_time": "2023-01-09T17:44:03.080025Z"
    }
   },
   "outputs": [],
   "source": [
    "ct2 = ColumnTransformer(transformers=[\n",
    "    ('scaler', StandardScaler(), [0, 1, 2, 3, 4, 5]),\n",
    "    ('ohe', OneHotEncoder(), [6])],\n",
    "    remainder='passthrough')"
   ]
  },
  {
   "cell_type": "code",
   "execution_count": 72,
   "metadata": {
    "ExecuteTime": {
     "end_time": "2023-01-09T17:44:03.470011Z",
     "start_time": "2023-01-09T17:44:03.464209Z"
    }
   },
   "outputs": [],
   "source": [
    "pipe = Pipeline(steps=[\n",
    "    ('ct1', ct1),\n",
    "    ('ct2', ct2)\n",
    "])"
   ]
  },
  {
   "cell_type": "code",
   "execution_count": 73,
   "metadata": {
    "ExecuteTime": {
     "end_time": "2023-01-09T17:44:04.337962Z",
     "start_time": "2023-01-09T17:44:04.301932Z"
    }
   },
   "outputs": [
    {
     "data": {
      "text/plain": [
       "Pipeline(steps=[('ct1',\n",
       "                 ColumnTransformer(remainder='passthrough',\n",
       "                                   transformers=[('imputer', SimpleImputer(),\n",
       "                                                  [1, 3])])),\n",
       "                ('ct2',\n",
       "                 ColumnTransformer(remainder='passthrough',\n",
       "                                   transformers=[('scaler', StandardScaler(),\n",
       "                                                  [0, 1, 2, 3, 4, 5]),\n",
       "                                                 ('ohe', OneHotEncoder(),\n",
       "                                                  [6])]))])"
      ]
     },
     "execution_count": 73,
     "metadata": {},
     "output_type": "execute_result"
    }
   ],
   "source": [
    "pipe.fit(X_train)"
   ]
  },
  {
   "cell_type": "code",
   "execution_count": 74,
   "metadata": {
    "ExecuteTime": {
     "end_time": "2023-01-09T17:44:07.200543Z",
     "start_time": "2023-01-09T17:44:07.183003Z"
    }
   },
   "outputs": [],
   "source": [
    "X_tr_pp = pipe.transform(X_train)\n",
    "X_te_pp = pipe.transform(X_test)"
   ]
  },
  {
   "cell_type": "markdown",
   "metadata": {},
   "source": [
    "## First Model w/o PCA"
   ]
  },
  {
   "cell_type": "code",
   "execution_count": 75,
   "metadata": {
    "ExecuteTime": {
     "end_time": "2023-01-09T17:45:37.375826Z",
     "start_time": "2023-01-09T17:45:37.363318Z"
    }
   },
   "outputs": [],
   "source": [
    "## Let's start with a linear regression\n",
    "lr = LinearRegression().fit(X_tr_pp, y_train)"
   ]
  },
  {
   "cell_type": "code",
   "execution_count": 76,
   "metadata": {
    "ExecuteTime": {
     "end_time": "2023-01-09T17:45:55.505965Z",
     "start_time": "2023-01-09T17:45:55.497735Z"
    }
   },
   "outputs": [
    {
     "data": {
      "text/plain": [
       "0.8194994945551486"
      ]
     },
     "execution_count": 76,
     "metadata": {},
     "output_type": "execute_result"
    }
   ],
   "source": [
    "lr.score(X_tr_pp, y_train)"
   ]
  },
  {
   "cell_type": "code",
   "execution_count": 77,
   "metadata": {
    "ExecuteTime": {
     "end_time": "2023-01-09T17:46:12.424673Z",
     "start_time": "2023-01-09T17:46:12.417272Z"
    }
   },
   "outputs": [
    {
     "data": {
      "text/plain": [
       "0.7735358857922057"
      ]
     },
     "execution_count": 77,
     "metadata": {},
     "output_type": "execute_result"
    }
   ],
   "source": [
    "lr.score(X_te_pp, y_test)"
   ]
  },
  {
   "cell_type": "code",
   "execution_count": null,
   "metadata": {},
   "outputs": [],
   "source": []
  },
  {
   "cell_type": "code",
   "execution_count": null,
   "metadata": {},
   "outputs": [],
   "source": []
  },
  {
   "cell_type": "code",
   "execution_count": null,
   "metadata": {},
   "outputs": [],
   "source": [
    "# Get the coefficients of the best-fit hyperplane"
   ]
  },
  {
   "cell_type": "code",
   "execution_count": 78,
   "metadata": {
    "ExecuteTime": {
     "end_time": "2023-01-09T17:46:28.401053Z",
     "start_time": "2023-01-09T17:46:28.395102Z"
    }
   },
   "outputs": [
    {
     "data": {
      "text/plain": [
       "array([ 2.17732336, -4.6448535 , -1.55471557, -1.15449626, -0.26656104,\n",
       "        2.60363016,  0.70774264,  0.91202361, -1.61976625])"
      ]
     },
     "execution_count": 78,
     "metadata": {},
     "output_type": "execute_result"
    }
   ],
   "source": [
    "lr.coef_"
   ]
  },
  {
   "cell_type": "markdown",
   "metadata": {},
   "source": [
    "Thus, our best-fit hyperplane is given by:\n",
    "\n",
    "$2.177\\times in^3\\_sd - 4.645\\times lbs.\\_sd - 1.555\\times cyl\\_sd - 1.154\\times hp\\_sd -  0.267\\times time_{60}\\_sd + 2.604\\times yr\\_sd + 0.708\\times brand_{Europe} + 0.912\\times brand_{Japan} - 1.620\\times brand_{US}$"
   ]
  },
  {
   "cell_type": "code",
   "execution_count": 79,
   "metadata": {
    "ExecuteTime": {
     "end_time": "2023-01-09T17:47:38.328398Z",
     "start_time": "2023-01-09T17:47:38.325636Z"
    }
   },
   "outputs": [],
   "source": [
    "# PCA!\n",
    "\n",
    "cars_pca = PCA(n_components=3)"
   ]
  },
  {
   "cell_type": "code",
   "execution_count": 81,
   "metadata": {
    "ExecuteTime": {
     "end_time": "2023-01-09T17:48:48.444567Z",
     "start_time": "2023-01-09T17:48:48.439298Z"
    }
   },
   "outputs": [],
   "source": [
    "X_train_new = cars_pca.fit_transform(X_tr_pp)\n",
    "X_test_new = cars_pca.transform(X_te_pp)"
   ]
  },
  {
   "cell_type": "code",
   "execution_count": 82,
   "metadata": {
    "ExecuteTime": {
     "end_time": "2023-01-09T17:48:56.994110Z",
     "start_time": "2023-01-09T17:48:56.987224Z"
    }
   },
   "outputs": [
    {
     "data": {
      "text/plain": [
       "array([[ 0.46506451,  0.43518467,  0.44943159,  0.45378187, -0.34911855,\n",
       "        -0.18689228, -0.06760958, -0.07285705,  0.14046662],\n",
       "       [-0.09930756, -0.19558568, -0.1307369 ,  0.00607634, -0.12532964,\n",
       "        -0.93748658,  0.12914047,  0.02246622, -0.15160669],\n",
       "       [ 0.14145019,  0.34167073,  0.18676559, -0.14371985,  0.8507263 ,\n",
       "        -0.23865846,  0.04252368, -0.13151308,  0.08898941]])"
      ]
     },
     "execution_count": 82,
     "metadata": {},
     "output_type": "execute_result"
    }
   ],
   "source": [
    "cars_pca.components_"
   ]
  },
  {
   "cell_type": "code",
   "execution_count": null,
   "metadata": {},
   "outputs": [],
   "source": []
  },
  {
   "cell_type": "markdown",
   "metadata": {},
   "source": [
    "The results of our PCA are as follows:\n",
    "\n",
    "**PC1** = 0.465 * cubicinches_sd + 0.435 * weightlbs_sd + 0.449 * cylinders_sd + 0.454 * hp_sd - 0.349 * time-to-60_sd - 0.187 * year_sd - 0.068 * Europe - 0.073 * Japan + 0.140 * US\n",
    "\n",
    "**PC2** = -0.099 * cubicinches_sd - 0.196 * weightlbs_sd - 0.131 * cylinders_sd + 0.006 * hp_sd - 0.125 * time-to-60_sd - 0.937 * year_sd + 0.129 * Europe + 0.022 * Japan - 0.152 * US\n",
    "\n",
    "**PC3** = 0.141 * cubicinches_sd + 0.342 * weightlbs_sd + 0.187 * cylinders_sd - 0.144 * hp_sd + 0.851 * time-to-60_sd - 0.239 * year_sd + 0.043 * Europe - 0.132 * Japan + 0.089 * US"
   ]
  },
  {
   "cell_type": "markdown",
   "metadata": {},
   "source": [
    "### Modeling with New Dimensions"
   ]
  },
  {
   "cell_type": "markdown",
   "metadata": {},
   "source": [
    "Now that we have optimized our features, we can build a new model with them!"
   ]
  },
  {
   "cell_type": "code",
   "execution_count": 83,
   "metadata": {
    "ExecuteTime": {
     "end_time": "2023-01-09T17:50:15.092362Z",
     "start_time": "2023-01-09T17:50:15.085287Z"
    }
   },
   "outputs": [
    {
     "data": {
      "text/plain": [
       "LinearRegression()"
      ]
     },
     "execution_count": 83,
     "metadata": {},
     "output_type": "execute_result"
    }
   ],
   "source": [
    "# LR and PCA! \n",
    "lr_pca = LinearRegression()\n",
    "lr_pca.fit(X_train_new, y_train)"
   ]
  },
  {
   "cell_type": "code",
   "execution_count": 84,
   "metadata": {
    "ExecuteTime": {
     "end_time": "2023-01-09T17:50:34.657074Z",
     "start_time": "2023-01-09T17:50:34.649305Z"
    }
   },
   "outputs": [
    {
     "data": {
      "text/plain": [
       "0.7163008514674979"
      ]
     },
     "execution_count": 84,
     "metadata": {},
     "output_type": "execute_result"
    }
   ],
   "source": [
    "lr_pca.score(X_test_new, y_test)"
   ]
  },
  {
   "cell_type": "code",
   "execution_count": 86,
   "metadata": {
    "ExecuteTime": {
     "end_time": "2023-01-09T17:51:07.676247Z",
     "start_time": "2023-01-09T17:51:07.669854Z"
    }
   },
   "outputs": [
    {
     "data": {
      "text/plain": [
       "array([-2.96675854, -1.16151928, -2.48560914])"
      ]
     },
     "execution_count": 86,
     "metadata": {},
     "output_type": "execute_result"
    }
   ],
   "source": [
    "#how much of each component creates our line of best fit\n",
    "lr_pca.coef_"
   ]
  },
  {
   "cell_type": "code",
   "execution_count": null,
   "metadata": {},
   "outputs": [],
   "source": []
  },
  {
   "cell_type": "markdown",
   "metadata": {},
   "source": [
    "Thus, our best-fit hyperplane is given by:\n",
    "\n",
    "$-2.967\\times PC1 - 1.162\\times PC2 -2.486\\times PC3$\n",
    "\n",
    "Of course, since the principal components are just linear combinations of our original predictors, we could re-express this hyperplane in terms of those original predictors!\n",
    "\n",
    "And if the PCA was worth anything, we should expect the new linear model to be *different from* the first!\n",
    "\n",
    "Recall that we had:\n",
    "\n",
    "**PC1** = 0.465 * cubicinches_sd + 0.435 * weightlbs_sd + 0.449 * cylinders_sd + 0.454 * hp_sd - 0.349 * time-to-60_sd - 0.187 * year_sd - 0.068 * Europe - 0.073 * Japan + 0.140 * US\n",
    "\n",
    "**PC2** = -0.099 * cubicinches_sd - 0.196 * weightlbs_sd - 0.131 * cylinders_sd + 0.006 * hp_sd - 0.125 * time-to-60_sd - 0.937 * year_sd + 0.129 * Europe + 0.022 * Japan - 0.152 * US\n",
    "\n",
    "**PC3** = 0.141 * cubicinches_sd + 0.342 * weightlbs_sd + 0.187 * cylinders_sd - 0.144 * hp_sd + 0.851 * time-to-60_sd - 0.239 * year_sd + 0.043 * Europe - 0.132 * Japan + 0.089 * US\n",
    "\n",
    "Therefore, our new PCA-made hyperplane can be expressed as:\n",
    "\n",
    "$-2.967\\times(0.465\\times in^3\\_sd + 0.435\\times lbs.\\_sd + 0.449\\times cyl\\_sd + 0.454\\times hp\\_sd - 0.349\\times time_{60}\\_sd - 0.187\\times yr\\_sd - 0.068\\times brand_{Europe} - 0.073\\times brand_{Japan} + 0.140\\times brand_{US})$ <br/> $- 1.162\\times(-0.099\\times in^3\\_sd - 0.196\\times lbs.\\_sd - 0.131\\times cyl\\_sd + 0.006\\times hp\\_sd - 0.125\\times time_{60}\\_sd - 0.937\\times yr\\_sd + 0.129\\times brand_{Europe} + 0.022\\times brand_{Japan} - 0.152\\times brand_{US})$ <br/> $- 2.486\\times(0.141\\times in^3\\_sd + 0.342\\times lbs.\\_sd + 0.187\\times cyl\\_sd -0.144\\times hp\\_sd + 0.851\\times time_{60}\\_sd - 0.239\\times yr\\_sd + 0.043\\times brand_{Europe} - 0.132\\times brand_{Japan} + 0.089\\times brand_{US})$\n",
    "\n",
    "Let's make these calculations:"
   ]
  },
  {
   "cell_type": "code",
   "execution_count": 87,
   "metadata": {
    "ExecuteTime": {
     "end_time": "2023-01-09T17:51:14.449187Z",
     "start_time": "2023-01-09T17:51:14.440945Z"
    }
   },
   "outputs": [
    {
     "name": "stdout",
     "output_type": "stream",
     "text": [
      "cubicinches_sd coef: -1.616\n",
      "weightlbs_sd coef: -1.913\n",
      "cylinders_sd coef: -1.646\n",
      "horsepower_sd coef: -0.996\n",
      "timeto60_sd coef: -0.933\n",
      "year_sd coef: 2.237\n",
      "Europe coef: -0.055\n",
      "Japan coef: 0.517\n",
      "US coef: -0.462\n"
     ]
    }
   ],
   "source": [
    "print(f'cubicinches_sd coef: {round(lr_pca.coef_ @ cars_pca.components_[:, 0], 3)}')\n",
    "print(f'weightlbs_sd coef: {round(lr_pca.coef_ @ cars_pca.components_[:, 1], 3)}')\n",
    "print(f'cylinders_sd coef: {round(lr_pca.coef_ @ cars_pca.components_[:, 2], 3)}')\n",
    "print(f'horsepower_sd coef: {round(lr_pca.coef_ @ cars_pca.components_[:, 3], 3)}')\n",
    "print(f'timeto60_sd coef: {round(lr_pca.coef_ @ cars_pca.components_[:, 4], 3)}')\n",
    "print(f'year_sd coef: {round(lr_pca.coef_ @ cars_pca.components_[:, 5], 3)}')\n",
    "print(f'Europe coef: {round(lr_pca.coef_ @ cars_pca.components_[:, 6], 3)}')\n",
    "print(f'Japan coef: {round(lr_pca.coef_ @ cars_pca.components_[:, 7], 3)}')\n",
    "print(f'US coef: {round(lr_pca.coef_ @ cars_pca.components_[:, 8], 3)}')"
   ]
  },
  {
   "cell_type": "markdown",
   "metadata": {},
   "source": [
    "So our best-fit hyperplane using PCA is:\n",
    "\n",
    "$-1.616\\times in^3\\_sd - 1.913\\times lbs.\\_sd - 1.646\\times cyl\\_sd - 0.996\\times hp\\_sd - 0.933\\times time_{60}\\_sd + 2.237\\times yr\\_sd - 0.055\\times brand_{Europe} + 0.517\\times brand_{Japan} - 0.462\\times brand_{US}$\n",
    "\n",
    "Recall that our first linear regression model had:\n",
    "\n",
    "$2.177\\times in^3\\_sd - 4.645\\times lbs.\\_sd - 1.555\\times cyl\\_sd - 1.154\\times hp\\_sd -  0.267\\times time_{60}\\_sd + 2.604\\times yr\\_sd + 0.708\\times brand_{Europe} + 0.912\\times brand_{Japan} - 1.620\\times brand_{US}$\n",
    "\n",
    "which is clearly a different hyperplane."
   ]
  },
  {
   "cell_type": "markdown",
   "metadata": {},
   "source": [
    "## Visualizations"
   ]
  },
  {
   "cell_type": "code",
   "execution_count": 88,
   "metadata": {
    "ExecuteTime": {
     "end_time": "2023-01-09T17:51:21.872635Z",
     "start_time": "2023-01-09T17:51:21.868575Z"
    }
   },
   "outputs": [],
   "source": [
    "# Reassembling the whole dataset for the sake of visualization\n",
    "X_transformed = np.vstack([X_train_new, X_test_new])\n",
    "y_new = np.concatenate([y_train, y_test])"
   ]
  },
  {
   "cell_type": "code",
   "execution_count": 89,
   "metadata": {
    "ExecuteTime": {
     "end_time": "2023-01-09T17:51:23.017410Z",
     "start_time": "2023-01-09T17:51:22.923713Z"
    }
   },
   "outputs": [
    {
     "data": {
      "image/png": "[encoded data removed]",
      "text/plain": [
       "<Figure size 432x288 with 1 Axes>"
      ]
     },
     "metadata": {
      "needs_background": "light"
     },
     "output_type": "display_data"
    }
   ],
   "source": [
    "f, a = plt.subplots()\n",
    "a.plot(X_transformed[:, 0], y_new, 'r.');"
   ]
  },
  {
   "cell_type": "code",
   "execution_count": 90,
   "metadata": {
    "ExecuteTime": {
     "end_time": "2023-01-09T17:51:23.772965Z",
     "start_time": "2023-01-09T17:51:23.670680Z"
    }
   },
   "outputs": [
    {
     "data": {
      "image/png": "[encoded data removed]",
      "text/plain": [
       "<Figure size 432x288 with 1 Axes>"
      ]
     },
     "metadata": {
      "needs_background": "light"
     },
     "output_type": "display_data"
    }
   ],
   "source": [
    "f, a = plt.subplots()\n",
    "a.plot(X_transformed[:, 1], y_new, 'g.');"
   ]
  },
  {
   "cell_type": "code",
   "execution_count": 91,
   "metadata": {
    "ExecuteTime": {
     "end_time": "2023-01-09T17:51:24.223990Z",
     "start_time": "2023-01-09T17:51:24.133747Z"
    }
   },
   "outputs": [
    {
     "data": {
      "image/png": "[encoded data removed]",
      "text/plain": [
       "<Figure size 432x288 with 1 Axes>"
      ]
     },
     "metadata": {
      "needs_background": "light"
     },
     "output_type": "display_data"
    }
   ],
   "source": [
    "f, a = plt.subplots()\n",
    "a.plot(X_transformed[:, 2], y_new, 'k.');"
   ]
  },
  {
   "cell_type": "code",
   "execution_count": 92,
   "metadata": {
    "ExecuteTime": {
     "end_time": "2023-01-09T17:51:56.041097Z",
     "start_time": "2023-01-09T17:51:56.025251Z"
    }
   },
   "outputs": [
    {
     "data": {
      "text/html": [
       "<div>\n",
       "<style scoped>\n",
       "    .dataframe tbody tr th:only-of-type {\n",
       "        vertical-align: middle;\n",
       "    }\n",
       "\n",
       "    .dataframe tbody tr th {\n",
       "        vertical-align: top;\n",
       "    }\n",
       "\n",
       "    .dataframe thead th {\n",
       "        text-align: right;\n",
       "    }\n",
       "</style>\n",
       "<table border=\"1\" class=\"dataframe\">\n",
       "  <thead>\n",
       "    <tr style=\"text-align: right;\">\n",
       "      <th></th>\n",
       "      <th>PC1</th>\n",
       "      <th>PC2</th>\n",
       "      <th>PC3</th>\n",
       "      <th>y</th>\n",
       "    </tr>\n",
       "  </thead>\n",
       "  <tbody>\n",
       "    <tr>\n",
       "      <th>0</th>\n",
       "      <td>-1.964657</td>\n",
       "      <td>-0.799510</td>\n",
       "      <td>-0.120081</td>\n",
       "      <td>31.3</td>\n",
       "    </tr>\n",
       "    <tr>\n",
       "      <th>1</th>\n",
       "      <td>-2.697423</td>\n",
       "      <td>1.117819</td>\n",
       "      <td>1.210028</td>\n",
       "      <td>26.0</td>\n",
       "    </tr>\n",
       "    <tr>\n",
       "      <th>2</th>\n",
       "      <td>-1.521356</td>\n",
       "      <td>1.870060</td>\n",
       "      <td>-0.475974</td>\n",
       "      <td>30.0</td>\n",
       "    </tr>\n",
       "    <tr>\n",
       "      <th>3</th>\n",
       "      <td>4.196965</td>\n",
       "      <td>1.192402</td>\n",
       "      <td>-1.005452</td>\n",
       "      <td>14.0</td>\n",
       "    </tr>\n",
       "    <tr>\n",
       "      <th>4</th>\n",
       "      <td>2.851495</td>\n",
       "      <td>0.150932</td>\n",
       "      <td>0.227496</td>\n",
       "      <td>15.0</td>\n",
       "    </tr>\n",
       "  </tbody>\n",
       "</table>\n",
       "</div>"
      ],
      "text/plain": [
       "        PC1       PC2       PC3     y\n",
       "0 -1.964657 -0.799510 -0.120081  31.3\n",
       "1 -2.697423  1.117819  1.210028  26.0\n",
       "2 -1.521356  1.870060 -0.475974  30.0\n",
       "3  4.196965  1.192402 -1.005452  14.0\n",
       "4  2.851495  0.150932  0.227496  15.0"
      ]
     },
     "execution_count": 92,
     "metadata": {},
     "output_type": "execute_result"
    }
   ],
   "source": [
    "df = pd.DataFrame(np.hstack([X_transformed, y_new[:, np.newaxis]]),\n",
    "                  columns=['PC1', 'PC2', 'PC3', 'y'])\n",
    "df.head()"
   ]
  },
  {
   "cell_type": "code",
   "execution_count": 93,
   "metadata": {
    "ExecuteTime": {
     "end_time": "2023-01-09T17:51:56.545462Z",
     "start_time": "2023-01-09T17:51:56.269229Z"
    },
    "scrolled": false
   },
   "outputs": [
    {
     "data": {
      "image/png": "[encoded data removed]",
      "text/plain": [
       "<Figure size 408.75x360 with 1 Axes>"
      ]
     },
     "metadata": {
      "needs_background": "light"
     },
     "output_type": "display_data"
    }
   ],
   "source": [
    "sns.relplot(data=df,\n",
    "            x='PC1',\n",
    "            y='PC2',\n",
    "           hue='y');"
   ]
  },
  {
   "cell_type": "markdown",
   "metadata": {},
   "source": [
    "## Level Up: Relation to Linear Regression"
   ]
  },
  {
   "cell_type": "markdown",
   "metadata": {},
   "source": [
    "Question: Is the first principal component the same line we would get if we constructed an ordinary least-squares regression line?\n",
    "\n",
    "Answer: No. The best-fit line minimizes the sum of squared errors, i.e. the minimum sum of (\"vertical\") distances between the predictions and the real values of the dependent variable. Principal Component Analysis, by contrast, is not a modeling procedure and so has no target. The first principal component thus cannot minimize the sum of distances between predictions and real values; instead, it minimizes the sum of (\"perpendicular\") distances between the data points and *it (the line) itself*.\n",
    "\n",
    "Suppose we look at MPG vs. z-scores of weight in lbs. Let's make a scatter plot:"
   ]
  },
  {
   "cell_type": "code",
   "execution_count": 94,
   "metadata": {
    "ExecuteTime": {
     "end_time": "2023-01-09T17:52:01.951475Z",
     "start_time": "2023-01-09T17:52:01.838964Z"
    }
   },
   "outputs": [
    {
     "data": {
      "image/png": "[encoded data removed]",
      "text/plain": [
       "<Figure size 432x288 with 1 Axes>"
      ]
     },
     "metadata": {
      "needs_background": "light"
     },
     "output_type": "display_data"
    }
   ],
   "source": [
    "f, a = plt.subplots()\n",
    "\n",
    "a.scatter(X_tr_pp[:, 1], y_train)\n",
    "a.set_xlabel('weight z-scores (lbs.)')\n",
    "a.set_ylabel('efficiency (MPG)')\n",
    "a.set_title('MPG vs. Weight');"
   ]
  },
  {
   "cell_type": "markdown",
   "metadata": {},
   "source": [
    "Let's add the best-fit line:"
   ]
  },
  {
   "cell_type": "code",
   "execution_count": 95,
   "metadata": {
    "ExecuteTime": {
     "end_time": "2023-01-09T17:52:02.443273Z",
     "start_time": "2023-01-09T17:52:02.435508Z"
    }
   },
   "outputs": [],
   "source": [
    "beta1 = LinearRegression().fit(X_tr_pp[:, 1].reshape(-1, 1),\n",
    "                               y_train).coef_\n",
    "beta0 = LinearRegression().fit(X_tr_pp[:, 1].reshape(-1, 1),\n",
    "                               y_train).intercept_"
   ]
  },
  {
   "cell_type": "code",
   "execution_count": 96,
   "metadata": {
    "ExecuteTime": {
     "end_time": "2023-01-09T17:52:02.925938Z",
     "start_time": "2023-01-09T17:52:02.803527Z"
    }
   },
   "outputs": [
    {
     "data": {
      "image/png": "[encoded data removed]",
      "text/plain": [
       "<Figure size 432x288 with 1 Axes>"
      ]
     },
     "metadata": {
      "needs_background": "light"
     },
     "output_type": "display_data"
    }
   ],
   "source": [
    "f, a = plt.subplots()\n",
    "\n",
    "a.scatter(X_tr_pp[:, 1], y_train)\n",
    "a.plot(X_tr_pp[:, 1],\n",
    "       beta1[0] * X_tr_pp[:, 1] + beta0,\n",
    "      c='r', label='best-fit line')\n",
    "a.set_xlabel('weight z-scores (lbs.)')\n",
    "a.set_ylabel('efficiency (MPG)')\n",
    "a.set_title('MPG vs. Weight')\n",
    "plt.legend();"
   ]
  },
  {
   "cell_type": "markdown",
   "metadata": {},
   "source": [
    "Now let's see what the principal component looks like. We'll make use of the `inverse_transform()` method of `PCA()` objects."
   ]
  },
  {
   "cell_type": "code",
   "execution_count": 97,
   "metadata": {
    "ExecuteTime": {
     "end_time": "2023-01-09T17:52:03.434071Z",
     "start_time": "2023-01-09T17:52:03.425538Z"
    }
   },
   "outputs": [],
   "source": [
    "pc1 = PCA(n_components=1).fit(np.concatenate((X_tr_pp[:, 1].reshape(-1, 1),\n",
    "                                 y_train.values.reshape(-1, 1)),\n",
    "                                axis=1))\n",
    "\n",
    "pc = pc1.transform(np.concatenate((X_tr_pp[:, 1].reshape(-1, 1),\n",
    "                                 y_train.values.reshape(-1, 1)),\n",
    "                                axis=1))\n",
    "\n",
    "pc_inv = pc1.inverse_transform(pc)"
   ]
  },
  {
   "cell_type": "code",
   "execution_count": 98,
   "metadata": {
    "ExecuteTime": {
     "end_time": "2023-01-09T17:52:03.873740Z",
     "start_time": "2023-01-09T17:52:03.751796Z"
    }
   },
   "outputs": [
    {
     "data": {
      "image/png": "[encoded data removed]",
      "text/plain": [
       "<Figure size 432x288 with 1 Axes>"
      ]
     },
     "metadata": {
      "needs_background": "light"
     },
     "output_type": "display_data"
    }
   ],
   "source": [
    "f, a = plt.subplots()\n",
    "\n",
    "a.scatter(X_tr_pp[:, 1], y_train)\n",
    "a.plot(X_tr_pp[:, 1],\n",
    "       beta1[0] * X_tr_pp[:, 1] + beta0,\n",
    "      c='r', label='best-fit line')\n",
    "a.plot(pc_inv[:, 0],\n",
    "       pc_inv[:, 1],\n",
    "      c='b', label='principal component')\n",
    "a.set_xlabel('weight z-scores (lbs.)')\n",
    "a.set_ylabel('efficiency (MPG)')\n",
    "a.set_title('MPG vs. Weight')\n",
    "plt.legend();"
   ]
  },
  {
   "cell_type": "markdown",
   "metadata": {},
   "source": [
    "Check out this post, to which the preceding is indebted, for more on this subtle point: https://shankarmsy.github.io/posts/pca-vs-lr.html"
   ]
  },
  {
   "cell_type": "markdown",
   "metadata": {},
   "source": [
    "## Level Up: Diagonalization"
   ]
  },
  {
   "cell_type": "markdown",
   "metadata": {},
   "source": [
    "The key idea is to diagonalize (i.e. find the eigendecomposition of) the covariance matrix. The decomposition will produce a set of orthogonal vectors that explain as much of the remaining variance as possible. These are our [principal components](https://math.stackexchange.com/questions/23596/why-is-the-eigenvector-of-a-covariance-matrix-equal-to-a-principal-component).\n",
    "\n",
    "Let's say a word about eigenvalues and eigenvectors. It turns out that eigenvalues and -vectors have a dizzying number of applications. But the basic idea is that, if we can split a bunch of vectors (i.e. a matrix) into a set of mutually orthogonal vectors, then we can isolate the force of the bunch into discrete bits, each of which by itself acts like a simple linear transformation.\n",
    "\n",
    "That is, the vector is oriented in just such a direction that multiplying the matrix by it serves only to lengthen or shorten it."
   ]
  },
  {
   "cell_type": "markdown",
   "metadata": {},
   "source": [
    "The diagonalization looks like this:\n",
    "\n",
    "$A = Q\\Lambda Q^{-1}$, where $Q$ is a matrix comprising the **eigenvectors** of $A$ and $\\Lambda$ has non-zero elements only along its main diagonal (hence the \"diagonalization\" of $A$). These non-zero elements are the **eigenvalues** of $A$. We'll return to eigendecomposition later when we discuss recommendation systems and the singular value decomposition, which is a related matrix factorization."
   ]
  },
  {
   "cell_type": "markdown",
   "metadata": {},
   "source": [
    "Suppose we have the matrix\n",
    "$A =\n",
    "\\begin{bmatrix}\n",
    "a_{11} & a_{12} \\\\\n",
    "a_{21} & a_{22} \\\\\n",
    "\\end{bmatrix}\n",
    "$.\n",
    "\n",
    "Let's calculate the eigendecomposition of this matrix.\n",
    "\n",
    "In order to do this, we set $(A - \\lambda I)\\vec{x} = 0$. One trivial solution is $\\vec{x} = \\vec{0}$, but if there are more interesting solutions, then it must be that $|A - \\lambda I| = 0$, which is to say that some column vector in $A - \\lambda I$ must be expressible as a linear combination of the other columns. (Otherwise, there would be no way to \"undo\" the multiplicative effect of a column vector on $\\vec{x}$!) For more on this point, see [this page](http://www2.math.uconn.edu/~troby/math2210f16/LT/sec1_7.pdf).\n",
    "\n",
    "So we have:\n",
    "\n",
    "$\\begin{vmatrix}\n",
    "a_{11} - \\lambda & a_{12} \\\\\n",
    "a_{21} & a_{22} - \\lambda\n",
    "\\end{vmatrix} = 0$\n",
    "\n",
    "$(a_{11} - \\lambda)(a_{22} - \\lambda) - a_{12}a_{21} = 0$\n",
    "\n",
    "$\\lambda^2 - (a_{11} + a_{22})\\lambda + a_{11}a_{22} - a_{12}a_{21}$\n",
    "\n",
    "$\\lambda = \\frac{a_{11} + a_{22}\\pm\\sqrt{(a_{11} + a_{22})^2 + 4(a_{12}a_{21} - a_{11}a_{22})}}{2}$\n",
    "\n",
    "Suppose e.g. we had\n",
    "\n",
    "$A = \\begin{bmatrix}\n",
    "5 & 3 \\\\\n",
    "3 & 5\n",
    "\\end{bmatrix}$.\n",
    "\n",
    "We can use the equation we just derived to solve for the eigenvalues of this matrix. Then we can plug *those* into our eigenvector definition to solve for the eigenvectors"
   ]
  },
  {
   "cell_type": "markdown",
   "metadata": {},
   "source": [
    "### Eigenvalues"
   ]
  },
  {
   "cell_type": "markdown",
   "metadata": {},
   "source": [
    "$\\lambda = \\frac{5+5\\pm\\sqrt{(5+5)^2+4(3\\times 3 - 5\\times 5)}}{2} = 5\\pm\\frac{\\sqrt{36}}{2} = 2, 8$."
   ]
  },
  {
   "cell_type": "markdown",
   "metadata": {},
   "source": [
    "### Eigenvectors"
   ]
  },
  {
   "cell_type": "markdown",
   "metadata": {},
   "source": [
    "Now we can plug those in. If we plug in $\\lambda = 8$, then we get:\n",
    "\n",
    "$\\begin{bmatrix}\n",
    "5-8 & 3 \\\\\n",
    "3 & 5-8\n",
    "\\end{bmatrix}\n",
    "\\begin{bmatrix}\n",
    "x_1 \\\\\n",
    "x_2\n",
    "\\end{bmatrix}\n",
    "=\n",
    "\\begin{bmatrix}\n",
    "-3 & 3 \\\\\n",
    "3 & -3\n",
    "\\end{bmatrix}\n",
    "\\begin{bmatrix}\n",
    "x_1 \\\\\n",
    "x_2\n",
    "\\end{bmatrix} = 0.$\n",
    "\n",
    "So:\n",
    "\n",
    "$-3x_1 + 3x_2 = 0$ (or $3x_1 - 3x_2 = 0$)\n",
    "\n",
    "$x_1 = x_2$.\n",
    "\n",
    "It is standard to scale eigenvectors to a magnitude of 1, and so we would write this eigenvector as\n",
    "$\\begin{bmatrix}\n",
    "\\frac{\\sqrt{2}}{2} \\\\\n",
    "\\frac{\\sqrt{2}}{2}\n",
    "\\end{bmatrix}$.\n",
    "\n",
    "If we plug in $\\lambda = 2$, we find a second eigenvector equal to\n",
    "$\\begin{bmatrix}\n",
    "-\\frac{\\sqrt{2}}{2} \\\\\n",
    "\\frac{\\sqrt{2}}{2}\n",
    "\\end{bmatrix}$. (I'll leave this as an exercise.)\n",
    "\n",
    "**Thus we can express the full diagonalization of our matrix as follows**:\n",
    "\n",
    "$A = \\begin{bmatrix}\n",
    "5 & 3 \\\\\n",
    "3 & 5\n",
    "\\end{bmatrix} =\n",
    "\\begin{bmatrix}\n",
    "\\frac{\\sqrt{2}}{2} & -\\frac{\\sqrt{2}}{2} \\\\\n",
    "\\frac{\\sqrt{2}}{2} & \\frac{\\sqrt{2}}{2}\n",
    "\\end{bmatrix}\n",
    "\\begin{bmatrix}\n",
    "8 & 0 \\\\\n",
    "0 & 2\n",
    "\\end{bmatrix}\n",
    "\\begin{bmatrix}\n",
    "\\frac{\\sqrt{2}}{2} & \\frac{\\sqrt{2}}{2} \\\\\n",
    "-\\frac{\\sqrt{2}}{2} & \\frac{\\sqrt{2}}{2}\n",
    "\\end{bmatrix}$"
   ]
  },
  {
   "cell_type": "markdown",
   "metadata": {},
   "source": [
    "### Level Up: Diagonalization In Code"
   ]
  },
  {
   "cell_type": "code",
   "execution_count": 99,
   "metadata": {
    "ExecuteTime": {
     "end_time": "2023-01-09T17:52:08.855477Z",
     "start_time": "2023-01-09T17:52:08.848878Z"
    }
   },
   "outputs": [
    {
     "data": {
      "text/plain": [
       "(array([8., 2.]),\n",
       " array([[ 0.70710678, -0.70710678],\n",
       "        [ 0.70710678,  0.70710678]]))"
      ]
     },
     "execution_count": 99,
     "metadata": {},
     "output_type": "execute_result"
    }
   ],
   "source": [
    "# We can use np.linalg.eig()\n",
    "\n",
    "A = np.array([[5, 3], [3, 5]])\n",
    "np.linalg.eig(A)"
   ]
  },
  {
   "cell_type": "code",
   "execution_count": 100,
   "metadata": {
    "ExecuteTime": {
     "end_time": "2023-01-09T17:52:09.230367Z",
     "start_time": "2023-01-09T17:52:09.226336Z"
    }
   },
   "outputs": [],
   "source": [
    "# np.linalg.eig(X) returns a double of NumPy arrays, the first containing\n",
    "# the eigenvalues of X and the second containing the eigenvectors of X.\n",
    "\n",
    "v, q = np.linalg.eig(A)"
   ]
  },
  {
   "cell_type": "code",
   "execution_count": 101,
   "metadata": {
    "ExecuteTime": {
     "end_time": "2023-01-09T17:52:10.430297Z",
     "start_time": "2023-01-09T17:52:10.424647Z"
    }
   },
   "outputs": [
    {
     "data": {
      "text/plain": [
       "array([8., 2.])"
      ]
     },
     "execution_count": 101,
     "metadata": {},
     "output_type": "execute_result"
    }
   ],
   "source": [
    "v"
   ]
  },
  {
   "cell_type": "code",
   "execution_count": 102,
   "metadata": {
    "ExecuteTime": {
     "end_time": "2023-01-09T17:52:10.808975Z",
     "start_time": "2023-01-09T17:52:10.801613Z"
    }
   },
   "outputs": [
    {
     "data": {
      "text/plain": [
       "array([[8., 0.],\n",
       "       [0., 2.]])"
      ]
     },
     "execution_count": 102,
     "metadata": {},
     "output_type": "execute_result"
    }
   ],
   "source": [
    "# np.diag()\n",
    "\n",
    "np.diag(v)"
   ]
  },
  {
   "cell_type": "code",
   "execution_count": 103,
   "metadata": {
    "ExecuteTime": {
     "end_time": "2023-01-09T17:52:11.477087Z",
     "start_time": "2023-01-09T17:52:11.470756Z"
    }
   },
   "outputs": [
    {
     "data": {
      "text/plain": [
       "array([[5., 3.],\n",
       "       [3., 5.]])"
      ]
     },
     "execution_count": 103,
     "metadata": {},
     "output_type": "execute_result"
    }
   ],
   "source": [
    "# Reconstruct A by multiplication\n",
    "\n",
    "q.dot(np.diag(v)).dot(q.T)"
   ]
  },
  {
   "cell_type": "code",
   "execution_count": 104,
   "metadata": {
    "ExecuteTime": {
     "end_time": "2023-01-09T17:52:12.728298Z",
     "start_time": "2023-01-09T17:52:12.720628Z"
    }
   },
   "outputs": [
    {
     "name": "stdout",
     "output_type": "stream",
     "text": [
      "True\n",
      "True\n"
     ]
    }
   ],
   "source": [
    "# Illustration that the columns of q\n",
    "# are eigenvectors of A, where\n",
    "# multiplication by A scales them by\n",
    "# the eigenvalues\n",
    "\n",
    "print(np.allclose(A.dot(q.T[0]), v[0]*q.T[0]))\n",
    "print(np.allclose(A.dot(q.T[1]), v[1]*q.T[1]))"
   ]
  },
  {
   "cell_type": "markdown",
   "metadata": {},
   "source": [
    "## Extra Resource"
   ]
  },
  {
   "cell_type": "markdown",
   "metadata": {},
   "source": [
    "[Here's](https://www.youtube.com/watch?v=_UVHneBUBW0) a helpful video introduction to PCA if you're itching for more!"
   ]
  },
  {
   "cell_type": "code",
   "execution_count": null,
   "metadata": {},
   "outputs": [],
   "source": []
  }
 ],
 "metadata": {
  "kernelspec": {
   "display_name": "Python 3",
   "language": "python",
   "name": "python3"
  },
  "language_info": {
   "codemirror_mode": {
    "name": "ipython",
    "version": 3
   },
   "file_extension": ".py",
   "mimetype": "text/x-python",
   "name": "python",
   "nbconvert_exporter": "python",
   "pygments_lexer": "ipython3",
   "version": "3.8.5"
  },
  "toc": {
   "base_numbering": 1,
   "nav_menu": {},
   "number_sections": true,
   "sideBar": true,
   "skip_h1_title": false,
   "title_cell": "Table of Contents",
   "title_sidebar": "Contents",
   "toc_cell": true,
   "toc_position": {
    "height": "calc(100% - 180px)",
    "left": "10px",
    "top": "150px",
    "width": "294px"
   },
   "toc_section_display": true,
   "toc_window_display": true
  },
  "varInspector": {
   "cols": {
    "lenName": 16,
    "lenType": 16,
    "lenVar": 40
   },
   "kernels_config": {
    "python": {
     "delete_cmd_postfix": "",
     "delete_cmd_prefix": "del ",
     "library": "var_list.py",
     "varRefreshCmd": "print(var_dic_list())"
    },
    "r": {
     "delete_cmd_postfix": ") ",
     "delete_cmd_prefix": "rm(",
     "library": "var_list.r",
     "varRefreshCmd": "cat(var_dic_list()) "
    }
   },
   "types_to_exclude": [
    "module",
    "function",
    "builtin_function_or_method",
    "instance",
    "_Feature"
   ],
   "window_display": true
  }
 },
 "nbformat": 4,
 "nbformat_minor": 2
}

{
 "cells": [
  {
   "cell_type": "markdown",
   "metadata": {},
   "source": [
    "# Using `surprise`\n",
    "\n",
    "See the documentation [here](https://surprise.readthedocs.io/en/stable/getting_started.html)!"
   ]
  },
  {
   "cell_type": "code",
   "execution_count": 1,
   "metadata": {
    "ExecuteTime": {
     "end_time": "2023-01-09T22:31:03.656304Z",
     "start_time": "2023-01-09T22:31:02.322636Z"
    }
   },
   "outputs": [],
   "source": [
    "import surprise\n",
    "from surprise.prediction_algorithms import *\n",
    "import pandas as pd\n",
    "import numpy as np\n",
    "import datetime as dt"
   ]
  },
  {
   "cell_type": "markdown",
   "metadata": {},
   "source": [
    "## Agenda\n",
    "\n",
    "SWBAT:\n",
    "\n",
    "- use the `surprise` package to build recommendation engines."
   ]
  },
  {
   "cell_type": "code",
   "execution_count": 2,
   "metadata": {
    "ExecuteTime": {
     "end_time": "2023-01-09T22:31:19.581752Z",
     "start_time": "2023-01-09T22:31:05.809378Z"
    }
   },
   "outputs": [
    {
     "name": "stdout",
     "output_type": "stream",
     "text": [
      "Dataset ml-100k could not be found. Do you want to download it? [Y/n] Y\n",
      "Trying to download dataset from http://files.grouplens.org/datasets/movielens/ml-100k.zip...\n",
      "Done! Dataset ml-100k has been saved to /Users/jonathanfetterolf/.surprise_data/ml-100k\n"
     ]
    }
   ],
   "source": [
    "data = surprise.Dataset.load_builtin('ml-100k')"
   ]
  },
  {
   "cell_type": "markdown",
   "metadata": {},
   "source": [
    "Now that we've downloaded the data, we can find it in a hidden directory:"
   ]
  },
  {
   "cell_type": "code",
   "execution_count": 3,
   "metadata": {
    "ExecuteTime": {
     "end_time": "2023-01-09T22:31:20.222351Z",
     "start_time": "2023-01-09T22:31:20.155394Z"
    }
   },
   "outputs": [
    {
     "data": {
      "text/html": [
       "<div>\n",
       "<style scoped>\n",
       "    .dataframe tbody tr th:only-of-type {\n",
       "        vertical-align: middle;\n",
       "    }\n",
       "\n",
       "    .dataframe tbody tr th {\n",
       "        vertical-align: top;\n",
       "    }\n",
       "\n",
       "    .dataframe thead th {\n",
       "        text-align: right;\n",
       "    }\n",
       "</style>\n",
       "<table border=\"1\" class=\"dataframe\">\n",
       "  <thead>\n",
       "    <tr style=\"text-align: right;\">\n",
       "      <th></th>\n",
       "      <th>user</th>\n",
       "      <th>item</th>\n",
       "      <th>rating</th>\n",
       "      <th>timestamp</th>\n",
       "    </tr>\n",
       "  </thead>\n",
       "  <tbody>\n",
       "    <tr>\n",
       "      <th>0</th>\n",
       "      <td>196</td>\n",
       "      <td>242</td>\n",
       "      <td>3</td>\n",
       "      <td>881250949</td>\n",
       "    </tr>\n",
       "    <tr>\n",
       "      <th>1</th>\n",
       "      <td>186</td>\n",
       "      <td>302</td>\n",
       "      <td>3</td>\n",
       "      <td>891717742</td>\n",
       "    </tr>\n",
       "    <tr>\n",
       "      <th>2</th>\n",
       "      <td>22</td>\n",
       "      <td>377</td>\n",
       "      <td>1</td>\n",
       "      <td>878887116</td>\n",
       "    </tr>\n",
       "    <tr>\n",
       "      <th>3</th>\n",
       "      <td>244</td>\n",
       "      <td>51</td>\n",
       "      <td>2</td>\n",
       "      <td>880606923</td>\n",
       "    </tr>\n",
       "    <tr>\n",
       "      <th>4</th>\n",
       "      <td>166</td>\n",
       "      <td>346</td>\n",
       "      <td>1</td>\n",
       "      <td>886397596</td>\n",
       "    </tr>\n",
       "    <tr>\n",
       "      <th>...</th>\n",
       "      <td>...</td>\n",
       "      <td>...</td>\n",
       "      <td>...</td>\n",
       "      <td>...</td>\n",
       "    </tr>\n",
       "    <tr>\n",
       "      <th>99995</th>\n",
       "      <td>880</td>\n",
       "      <td>476</td>\n",
       "      <td>3</td>\n",
       "      <td>880175444</td>\n",
       "    </tr>\n",
       "    <tr>\n",
       "      <th>99996</th>\n",
       "      <td>716</td>\n",
       "      <td>204</td>\n",
       "      <td>5</td>\n",
       "      <td>879795543</td>\n",
       "    </tr>\n",
       "    <tr>\n",
       "      <th>99997</th>\n",
       "      <td>276</td>\n",
       "      <td>1090</td>\n",
       "      <td>1</td>\n",
       "      <td>874795795</td>\n",
       "    </tr>\n",
       "    <tr>\n",
       "      <th>99998</th>\n",
       "      <td>13</td>\n",
       "      <td>225</td>\n",
       "      <td>2</td>\n",
       "      <td>882399156</td>\n",
       "    </tr>\n",
       "    <tr>\n",
       "      <th>99999</th>\n",
       "      <td>12</td>\n",
       "      <td>203</td>\n",
       "      <td>3</td>\n",
       "      <td>879959583</td>\n",
       "    </tr>\n",
       "  </tbody>\n",
       "</table>\n",
       "<p>100000 rows × 4 columns</p>\n",
       "</div>"
      ],
      "text/plain": [
       "       user  item  rating  timestamp\n",
       "0       196   242       3  881250949\n",
       "1       186   302       3  891717742\n",
       "2        22   377       1  878887116\n",
       "3       244    51       2  880606923\n",
       "4       166   346       1  886397596\n",
       "...     ...   ...     ...        ...\n",
       "99995   880   476       3  880175444\n",
       "99996   716   204       5  879795543\n",
       "99997   276  1090       1  874795795\n",
       "99998    13   225       2  882399156\n",
       "99999    12   203       3  879959583\n",
       "\n",
       "[100000 rows x 4 columns]"
      ]
     },
     "execution_count": 3,
     "metadata": {},
     "output_type": "execute_result"
    }
   ],
   "source": [
    "df = pd.read_csv('~/.surprise_data/ml-100k/ml-100k/u.data',\n",
    "            sep='\\t', header=None)\n",
    "df = df.rename(columns={0: 'user', 1: 'item', 2: 'rating', 3: 'timestamp'})\n",
    "df"
   ]
  },
  {
   "cell_type": "markdown",
   "metadata": {},
   "source": [
    "## Data Exploration"
   ]
  },
  {
   "cell_type": "code",
   "execution_count": 4,
   "metadata": {
    "ExecuteTime": {
     "end_time": "2023-01-09T22:31:40.562540Z",
     "start_time": "2023-01-09T22:31:40.552483Z"
    }
   },
   "outputs": [
    {
     "data": {
      "text/plain": [
       "943"
      ]
     },
     "execution_count": 4,
     "metadata": {},
     "output_type": "execute_result"
    }
   ],
   "source": [
    "df['user'].nunique()"
   ]
  },
  {
   "cell_type": "code",
   "execution_count": 5,
   "metadata": {
    "ExecuteTime": {
     "end_time": "2023-01-09T22:31:47.871247Z",
     "start_time": "2023-01-09T22:31:47.864750Z"
    }
   },
   "outputs": [
    {
     "data": {
      "text/plain": [
       "1682"
      ]
     },
     "execution_count": 5,
     "metadata": {},
     "output_type": "execute_result"
    }
   ],
   "source": [
    "df['item'].nunique()"
   ]
  },
  {
   "cell_type": "code",
   "execution_count": 6,
   "metadata": {
    "ExecuteTime": {
     "end_time": "2023-01-09T22:31:49.048068Z",
     "start_time": "2023-01-09T22:31:49.011342Z"
    }
   },
   "outputs": [
    {
     "data": {
      "text/html": [
       "<div>\n",
       "<style scoped>\n",
       "    .dataframe tbody tr th:only-of-type {\n",
       "        vertical-align: middle;\n",
       "    }\n",
       "\n",
       "    .dataframe tbody tr th {\n",
       "        vertical-align: top;\n",
       "    }\n",
       "\n",
       "    .dataframe thead th {\n",
       "        text-align: right;\n",
       "    }\n",
       "</style>\n",
       "<table border=\"1\" class=\"dataframe\">\n",
       "  <thead>\n",
       "    <tr style=\"text-align: right;\">\n",
       "      <th></th>\n",
       "      <th>rating</th>\n",
       "      <th>timestamp</th>\n",
       "    </tr>\n",
       "  </thead>\n",
       "  <tbody>\n",
       "    <tr>\n",
       "      <th>count</th>\n",
       "      <td>100000.000000</td>\n",
       "      <td>1.000000e+05</td>\n",
       "    </tr>\n",
       "    <tr>\n",
       "      <th>mean</th>\n",
       "      <td>3.529860</td>\n",
       "      <td>8.835289e+08</td>\n",
       "    </tr>\n",
       "    <tr>\n",
       "      <th>std</th>\n",
       "      <td>1.125674</td>\n",
       "      <td>5.343856e+06</td>\n",
       "    </tr>\n",
       "    <tr>\n",
       "      <th>min</th>\n",
       "      <td>1.000000</td>\n",
       "      <td>8.747247e+08</td>\n",
       "    </tr>\n",
       "    <tr>\n",
       "      <th>25%</th>\n",
       "      <td>3.000000</td>\n",
       "      <td>8.794487e+08</td>\n",
       "    </tr>\n",
       "    <tr>\n",
       "      <th>50%</th>\n",
       "      <td>4.000000</td>\n",
       "      <td>8.828269e+08</td>\n",
       "    </tr>\n",
       "    <tr>\n",
       "      <th>75%</th>\n",
       "      <td>4.000000</td>\n",
       "      <td>8.882600e+08</td>\n",
       "    </tr>\n",
       "    <tr>\n",
       "      <th>max</th>\n",
       "      <td>5.000000</td>\n",
       "      <td>8.932866e+08</td>\n",
       "    </tr>\n",
       "  </tbody>\n",
       "</table>\n",
       "</div>"
      ],
      "text/plain": [
       "              rating     timestamp\n",
       "count  100000.000000  1.000000e+05\n",
       "mean        3.529860  8.835289e+08\n",
       "std         1.125674  5.343856e+06\n",
       "min         1.000000  8.747247e+08\n",
       "25%         3.000000  8.794487e+08\n",
       "50%         4.000000  8.828269e+08\n",
       "75%         4.000000  8.882600e+08\n",
       "max         5.000000  8.932866e+08"
      ]
     },
     "execution_count": 6,
     "metadata": {},
     "output_type": "execute_result"
    }
   ],
   "source": [
    "stats = df[['rating', 'timestamp']].describe()\n",
    "stats"
   ]
  },
  {
   "cell_type": "code",
   "execution_count": 7,
   "metadata": {
    "ExecuteTime": {
     "end_time": "2023-01-09T22:31:57.498831Z",
     "start_time": "2023-01-09T22:31:57.493835Z"
    }
   },
   "outputs": [
    {
     "name": "stdout",
     "output_type": "stream",
     "text": [
      "1997-09-19 23:05:10\n",
      "1998-04-22 19:10:38\n"
     ]
    }
   ],
   "source": [
    "print(dt.datetime.fromtimestamp(stats.loc['min', 'timestamp']))\n",
    "print(dt.datetime.fromtimestamp(stats.loc['max', 'timestamp']))"
   ]
  },
  {
   "cell_type": "code",
   "execution_count": 8,
   "metadata": {
    "ExecuteTime": {
     "end_time": "2023-01-09T22:31:58.648197Z",
     "start_time": "2023-01-09T22:31:58.644434Z"
    }
   },
   "outputs": [],
   "source": [
    "read = surprise.Reader('ml-100k')"
   ]
  },
  {
   "cell_type": "code",
   "execution_count": 9,
   "metadata": {
    "ExecuteTime": {
     "end_time": "2023-01-09T22:32:01.080203Z",
     "start_time": "2023-01-09T22:32:01.073615Z"
    }
   },
   "outputs": [
    {
     "data": {
      "text/plain": [
       "(1, 5)"
      ]
     },
     "execution_count": 9,
     "metadata": {},
     "output_type": "execute_result"
    }
   ],
   "source": [
    "read.rating_scale"
   ]
  },
  {
   "cell_type": "markdown",
   "metadata": {},
   "source": [
    "## Modeling"
   ]
  },
  {
   "cell_type": "code",
   "execution_count": 11,
   "metadata": {
    "ExecuteTime": {
     "end_time": "2023-01-09T22:34:00.360483Z",
     "start_time": "2023-01-09T22:34:00.189054Z"
    }
   },
   "outputs": [],
   "source": [
    "train, test = surprise.model_selection.train_test_split(data, random_state=42)"
   ]
  },
  {
   "cell_type": "code",
   "execution_count": 12,
   "metadata": {
    "ExecuteTime": {
     "end_time": "2023-01-09T22:34:07.358845Z",
     "start_time": "2023-01-09T22:34:07.174018Z"
    }
   },
   "outputs": [
    {
     "name": "stdout",
     "output_type": "stream",
     "text": [
      "Computing the msd similarity matrix...\n",
      "Done computing similarity matrix.\n"
     ]
    }
   ],
   "source": [
    "model = KNNBasic().fit(train)"
   ]
  },
  {
   "cell_type": "markdown",
   "metadata": {},
   "source": [
    "$\\hat{r}_{ui} = \\frac{\n",
    "    \\sum\\limits_{v \\in N^k_i(u)} \\text{sim}(u, v) \\cdot r_{vi}}\n",
    "    {\\sum\\limits_{v \\in N^k_i(u)} \\text{sim}(u, v)}$\n",
    "    OR\n",
    "$\\hat{r}_{ui} = \\frac{\n",
    "    \\sum\\limits_{j \\in N^k_u(i)} \\text{sim}(i, j) \\cdot r_{uj}}\n",
    "    {\\sum\\limits_{j \\in N^k_u(i)} \\text{sim}(i, j)}$"
   ]
  },
  {
   "cell_type": "code",
   "execution_count": 13,
   "metadata": {
    "ExecuteTime": {
     "end_time": "2023-01-09T22:34:18.558287Z",
     "start_time": "2023-01-09T22:34:14.392356Z"
    }
   },
   "outputs": [],
   "source": [
    "model2 = SVD().fit(train)"
   ]
  },
  {
   "cell_type": "markdown",
   "metadata": {},
   "source": [
    "$\\sum_{r_{ui} \\in R_{train}} \\left(r_{ui} - \\hat{r}_{ui} \\right)^2 +\n",
    "    \\lambda\\left(b_i^2 + b_u^2 + ||q_i||^2 + ||p_u||^2\\right)$"
   ]
  },
  {
   "cell_type": "code",
   "execution_count": 14,
   "metadata": {
    "ExecuteTime": {
     "end_time": "2023-01-09T22:34:26.313455Z",
     "start_time": "2023-01-09T22:34:23.073416Z"
    }
   },
   "outputs": [],
   "source": [
    "model3 = NMF().fit(train)"
   ]
  },
  {
   "cell_type": "markdown",
   "metadata": {},
   "source": [
    "$\\hat{r}_{ui} = q_i^Tp_u$"
   ]
  },
  {
   "cell_type": "code",
   "execution_count": 15,
   "metadata": {
    "ExecuteTime": {
     "end_time": "2023-01-09T22:34:28.254141Z",
     "start_time": "2023-01-09T22:34:28.247003Z"
    }
   },
   "outputs": [
    {
     "data": {
      "text/plain": [
       "[65]"
      ]
     },
     "execution_count": 15,
     "metadata": {},
     "output_type": "execute_result"
    }
   ],
   "source": [
    "model.get_neighbors(iid=51, k=1)"
   ]
  },
  {
   "cell_type": "code",
   "execution_count": 16,
   "metadata": {
    "ExecuteTime": {
     "end_time": "2023-01-09T22:34:31.729506Z",
     "start_time": "2023-01-09T22:34:31.703433Z"
    }
   },
   "outputs": [
    {
     "data": {
      "text/html": [
       "<div>\n",
       "<style scoped>\n",
       "    .dataframe tbody tr th:only-of-type {\n",
       "        vertical-align: middle;\n",
       "    }\n",
       "\n",
       "    .dataframe tbody tr th {\n",
       "        vertical-align: top;\n",
       "    }\n",
       "\n",
       "    .dataframe thead th {\n",
       "        text-align: right;\n",
       "    }\n",
       "</style>\n",
       "<table border=\"1\" class=\"dataframe\">\n",
       "  <thead>\n",
       "    <tr style=\"text-align: right;\">\n",
       "      <th></th>\n",
       "      <th>user</th>\n",
       "      <th>item</th>\n",
       "      <th>rating</th>\n",
       "      <th>timestamp</th>\n",
       "    </tr>\n",
       "  </thead>\n",
       "  <tbody>\n",
       "    <tr>\n",
       "      <th>17220</th>\n",
       "      <td>1</td>\n",
       "      <td>65</td>\n",
       "      <td>4</td>\n",
       "      <td>875072125</td>\n",
       "    </tr>\n",
       "    <tr>\n",
       "      <th>7180</th>\n",
       "      <td>1</td>\n",
       "      <td>51</td>\n",
       "      <td>4</td>\n",
       "      <td>878543275</td>\n",
       "    </tr>\n",
       "    <tr>\n",
       "      <th>34873</th>\n",
       "      <td>7</td>\n",
       "      <td>51</td>\n",
       "      <td>2</td>\n",
       "      <td>891352984</td>\n",
       "    </tr>\n",
       "    <tr>\n",
       "      <th>19068</th>\n",
       "      <td>11</td>\n",
       "      <td>51</td>\n",
       "      <td>4</td>\n",
       "      <td>891906439</td>\n",
       "    </tr>\n",
       "    <tr>\n",
       "      <th>20877</th>\n",
       "      <td>13</td>\n",
       "      <td>51</td>\n",
       "      <td>3</td>\n",
       "      <td>882399419</td>\n",
       "    </tr>\n",
       "    <tr>\n",
       "      <th>...</th>\n",
       "      <td>...</td>\n",
       "      <td>...</td>\n",
       "      <td>...</td>\n",
       "      <td>...</td>\n",
       "    </tr>\n",
       "    <tr>\n",
       "      <th>69366</th>\n",
       "      <td>916</td>\n",
       "      <td>65</td>\n",
       "      <td>3</td>\n",
       "      <td>880845327</td>\n",
       "    </tr>\n",
       "    <tr>\n",
       "      <th>71730</th>\n",
       "      <td>916</td>\n",
       "      <td>51</td>\n",
       "      <td>2</td>\n",
       "      <td>880845658</td>\n",
       "    </tr>\n",
       "    <tr>\n",
       "      <th>90292</th>\n",
       "      <td>922</td>\n",
       "      <td>51</td>\n",
       "      <td>4</td>\n",
       "      <td>891448451</td>\n",
       "    </tr>\n",
       "    <tr>\n",
       "      <th>83681</th>\n",
       "      <td>934</td>\n",
       "      <td>65</td>\n",
       "      <td>4</td>\n",
       "      <td>891192914</td>\n",
       "    </tr>\n",
       "    <tr>\n",
       "      <th>74655</th>\n",
       "      <td>943</td>\n",
       "      <td>51</td>\n",
       "      <td>1</td>\n",
       "      <td>888640088</td>\n",
       "    </tr>\n",
       "  </tbody>\n",
       "</table>\n",
       "<p>196 rows × 4 columns</p>\n",
       "</div>"
      ],
      "text/plain": [
       "       user  item  rating  timestamp\n",
       "17220     1    65       4  875072125\n",
       "7180      1    51       4  878543275\n",
       "34873     7    51       2  891352984\n",
       "19068    11    51       4  891906439\n",
       "20877    13    51       3  882399419\n",
       "...     ...   ...     ...        ...\n",
       "69366   916    65       3  880845327\n",
       "71730   916    51       2  880845658\n",
       "90292   922    51       4  891448451\n",
       "83681   934    65       4  891192914\n",
       "74655   943    51       1  888640088\n",
       "\n",
       "[196 rows x 4 columns]"
      ]
     },
     "execution_count": 16,
     "metadata": {},
     "output_type": "execute_result"
    }
   ],
   "source": [
    "conds = [df['item'] == 51, df['item'] == 65]\n",
    "choices = 2*[True]\n",
    "\n",
    "df.loc[np.select(conds, choices, default=False)].sort_values('user')"
   ]
  },
  {
   "cell_type": "markdown",
   "metadata": {},
   "source": [
    "## Evaluation"
   ]
  },
  {
   "cell_type": "code",
   "execution_count": 17,
   "metadata": {
    "ExecuteTime": {
     "end_time": "2023-01-09T22:34:39.689303Z",
     "start_time": "2023-01-09T22:34:37.674332Z"
    }
   },
   "outputs": [
    {
     "data": {
      "text/plain": [
       "[Prediction(uid='907', iid='143', r_ui=5.0, est=4.039960584359155, details={'actual_k': 40, 'was_impossible': False}),\n",
       " Prediction(uid='371', iid='210', r_ui=4.0, est=4.017925064716712, details={'actual_k': 40, 'was_impossible': False}),\n",
       " Prediction(uid='218', iid='42', r_ui=4.0, est=3.7671897065953712, details={'actual_k': 40, 'was_impossible': False}),\n",
       " Prediction(uid='829', iid='170', r_ui=4.0, est=4.196945437050507, details={'actual_k': 40, 'was_impossible': False}),\n",
       " Prediction(uid='733', iid='277', r_ui=1.0, est=3.3353958388714653, details={'actual_k': 40, 'was_impossible': False}),\n",
       " Prediction(uid='363', iid='1512', r_ui=1.0, est=4.463116702100285, details={'actual_k': 4, 'was_impossible': False}),\n",
       " Prediction(uid='193', iid='487', r_ui=5.0, est=3.959646386658832, details={'actual_k': 40, 'was_impossible': False}),\n",
       " Prediction(uid='808', iid='313', r_ui=5.0, est=4.482811176968667, details={'actual_k': 40, 'was_impossible': False}),\n",
       " Prediction(uid='557', iid='682', r_ui=2.0, est=2.7639895884908117, details={'actual_k': 40, 'was_impossible': False}),\n",
       " Prediction(uid='774', iid='196', r_ui=3.0, est=3.603380566417812, details={'actual_k': 40, 'was_impossible': False}),\n",
       " Prediction(uid='638', iid='118', r_ui=3.0, est=3.306143112974236, details={'actual_k': 40, 'was_impossible': False}),\n",
       " Prediction(uid='632', iid='81', r_ui=5.0, est=3.7983937498367624, details={'actual_k': 40, 'was_impossible': False}),\n",
       " Prediction(uid='417', iid='200', r_ui=4.0, est=3.772765092338608, details={'actual_k': 40, 'was_impossible': False}),\n",
       " Prediction(uid='580', iid='471', r_ui=3.0, est=3.5465255693210036, details={'actual_k': 40, 'was_impossible': False}),\n",
       " Prediction(uid='640', iid='91', r_ui=4.0, est=3.685305567237623, details={'actual_k': 40, 'was_impossible': False}),\n",
       " Prediction(uid='450', iid='328', r_ui=4.0, est=3.8736206779335984, details={'actual_k': 40, 'was_impossible': False}),\n",
       " Prediction(uid='596', iid='13', r_ui=2.0, est=3.713565559351264, details={'actual_k': 40, 'was_impossible': False}),\n",
       " Prediction(uid='586', iid='467', r_ui=4.0, est=3.6902912118619176, details={'actual_k': 34, 'was_impossible': False}),\n",
       " Prediction(uid='653', iid='502', r_ui=2.0, est=3.6550407143401267, details={'actual_k': 40, 'was_impossible': False}),\n",
       " Prediction(uid='378', iid='517', r_ui=3.0, est=3.824361279307743, details={'actual_k': 40, 'was_impossible': False}),\n",
       " Prediction(uid='405', iid='65', r_ui=1.0, est=3.3816834724498315, details={'actual_k': 40, 'was_impossible': False}),\n",
       " Prediction(uid='279', iid='399', r_ui=4.0, est=3.2419930416106153, details={'actual_k': 40, 'was_impossible': False}),\n",
       " Prediction(uid='327', iid='293', r_ui=3.0, est=3.826022369252402, details={'actual_k': 40, 'was_impossible': False}),\n",
       " Prediction(uid='346', iid='276', r_ui=1.0, est=3.395312900283894, details={'actual_k': 40, 'was_impossible': False}),\n",
       " Prediction(uid='59', iid='928', r_ui=4.0, est=3.222899520349844, details={'actual_k': 40, 'was_impossible': False}),\n",
       " Prediction(uid='514', iid='22', r_ui=4.0, est=4.335253495102992, details={'actual_k': 40, 'was_impossible': False}),\n",
       " Prediction(uid='807', iid='402', r_ui=5.0, est=3.7752343577285044, details={'actual_k': 40, 'was_impossible': False}),\n",
       " Prediction(uid='473', iid='327', r_ui=3.0, est=3.315368104850857, details={'actual_k': 40, 'was_impossible': False}),\n",
       " Prediction(uid='342', iid='324', r_ui=1.0, est=3.230696942826732, details={'actual_k': 40, 'was_impossible': False}),\n",
       " Prediction(uid='269', iid='136', r_ui=4.0, est=4.13325674332907, details={'actual_k': 40, 'was_impossible': False}),\n",
       " Prediction(uid='654', iid='1', r_ui=4.0, est=4.291165968804392, details={'actual_k': 40, 'was_impossible': False}),\n",
       " Prediction(uid='250', iid='28', r_ui=4.0, est=3.8954856920307956, details={'actual_k': 40, 'was_impossible': False}),\n",
       " Prediction(uid='282', iid='689', r_ui=2.0, est=3.1541721423153843, details={'actual_k': 40, 'was_impossible': False}),\n",
       " Prediction(uid='534', iid='619', r_ui=4.0, est=3.616132226034415, details={'actual_k': 40, 'was_impossible': False}),\n",
       " Prediction(uid='194', iid='481', r_ui=3.0, est=3.892624339399796, details={'actual_k': 40, 'was_impossible': False}),\n",
       " Prediction(uid='184', iid='118', r_ui=2.0, est=3.0543753524807866, details={'actual_k': 40, 'was_impossible': False}),\n",
       " Prediction(uid='291', iid='739', r_ui=3.0, est=3.6656978909115945, details={'actual_k': 40, 'was_impossible': False}),\n",
       " Prediction(uid='293', iid='31', r_ui=2.0, est=3.3228776377169735, details={'actual_k': 40, 'was_impossible': False}),\n",
       " Prediction(uid='943', iid='1028', r_ui=2.0, est=3.1765327910354824, details={'actual_k': 40, 'was_impossible': False}),\n",
       " Prediction(uid='65', iid='69', r_ui=3.0, est=4.25960857533788, details={'actual_k': 40, 'was_impossible': False}),\n",
       " Prediction(uid='562', iid='135', r_ui=5.0, est=3.9319862588337315, details={'actual_k': 40, 'was_impossible': False}),\n",
       " Prediction(uid='466', iid='62', r_ui=3.0, est=3.0176849989930203, details={'actual_k': 40, 'was_impossible': False}),\n",
       " Prediction(uid='847', iid='317', r_ui=3.0, est=3.6202228741484643, details={'actual_k': 40, 'was_impossible': False}),\n",
       " Prediction(uid='650', iid='521', r_ui=3.0, est=3.6494139624446835, details={'actual_k': 40, 'was_impossible': False}),\n",
       " Prediction(uid='656', iid='326', r_ui=1.0, est=2.8941726336459537, details={'actual_k': 40, 'was_impossible': False}),\n",
       " Prediction(uid='366', iid='53', r_ui=5.0, est=3.2061898126266852, details={'actual_k': 40, 'was_impossible': False}),\n",
       " Prediction(uid='15', iid='280', r_ui=3.0, est=3.02611737544886, details={'actual_k': 40, 'was_impossible': False}),\n",
       " Prediction(uid='474', iid='322', r_ui=4.0, est=2.9730620723778562, details={'actual_k': 40, 'was_impossible': False}),\n",
       " Prediction(uid='90', iid='905', r_ui=4.0, est=3.5107528347688217, details={'actual_k': 19, 'was_impossible': False}),\n",
       " Prediction(uid='503', iid='19', r_ui=5.0, est=3.9781845130545213, details={'actual_k': 40, 'was_impossible': False}),\n",
       " Prediction(uid='334', iid='1524', r_ui=4.0, est=4.102871297886232, details={'actual_k': 6, 'was_impossible': False}),\n",
       " Prediction(uid='90', iid='632', r_ui=5.0, est=4.003868009440909, details={'actual_k': 40, 'was_impossible': False}),\n",
       " Prediction(uid='406', iid='1118', r_ui=3.0, est=3.2827843770384946, details={'actual_k': 35, 'was_impossible': False}),\n",
       " Prediction(uid='899', iid='515', r_ui=3.0, est=4.3292424173165704, details={'actual_k': 40, 'was_impossible': False}),\n",
       " Prediction(uid='13', iid='339', r_ui=3.0, est=3.1394021938043055, details={'actual_k': 38, 'was_impossible': False}),\n",
       " Prediction(uid='430', iid='19', r_ui=5.0, est=3.9116687455298416, details={'actual_k': 40, 'was_impossible': False}),\n",
       " Prediction(uid='24', iid='729', r_ui=5.0, est=3.692879874437898, details={'actual_k': 40, 'was_impossible': False}),\n",
       " Prediction(uid='634', iid='225', r_ui=3.0, est=2.9093522824760454, details={'actual_k': 40, 'was_impossible': False}),\n",
       " Prediction(uid='727', iid='89', r_ui=5.0, est=4.179341718483024, details={'actual_k': 40, 'was_impossible': False}),\n",
       " Prediction(uid='429', iid='596', r_ui=3.0, est=3.4158068398168138, details={'actual_k': 40, 'was_impossible': False}),\n",
       " Prediction(uid='62', iid='127', r_ui=4.0, est=4.423786978521634, details={'actual_k': 40, 'was_impossible': False}),\n",
       " Prediction(uid='771', iid='241', r_ui=1.0, est=3.5109774071647553, details={'actual_k': 40, 'was_impossible': False}),\n",
       " Prediction(uid='733', iid='762', r_ui=4.0, est=3.3278234424027535, details={'actual_k': 40, 'was_impossible': False}),\n",
       " Prediction(uid='139', iid='222', r_ui=3.0, est=3.530862778315586, details={'actual_k': 40, 'was_impossible': False}),\n",
       " Prediction(uid='916', iid='721', r_ui=4.0, est=3.416368472024149, details={'actual_k': 40, 'was_impossible': False}),\n",
       " Prediction(uid='402', iid='204', r_ui=5.0, est=4.071911595248914, details={'actual_k': 40, 'was_impossible': False}),\n",
       " Prediction(uid='553', iid='136', r_ui=4.0, est=4.247485923369752, details={'actual_k': 40, 'was_impossible': False}),\n",
       " Prediction(uid='62', iid='1073', r_ui=4.0, est=3.824847177344051, details={'actual_k': 40, 'was_impossible': False}),\n",
       " Prediction(uid='521', iid='271', r_ui=3.0, est=3.3571879580816115, details={'actual_k': 40, 'was_impossible': False}),\n",
       " Prediction(uid='488', iid='358', r_ui=3.0, est=2.7110736617260747, details={'actual_k': 40, 'was_impossible': False}),\n",
       " Prediction(uid='7', iid='231', r_ui=3.0, est=2.9960967409823946, details={'actual_k': 40, 'was_impossible': False}),\n",
       " Prediction(uid='346', iid='727', r_ui=1.0, est=3.4816711523976, details={'actual_k': 40, 'was_impossible': False}),\n",
       " Prediction(uid='423', iid='823', r_ui=3.0, est=2.996172251960074, details={'actual_k': 40, 'was_impossible': False}),\n",
       " Prediction(uid='405', iid='575', r_ui=5.0, est=2.4634323663400246, details={'actual_k': 35, 'was_impossible': False}),\n",
       " Prediction(uid='385', iid='1158', r_ui=5.0, est=3.427950518221331, details={'actual_k': 2, 'was_impossible': False}),\n",
       " Prediction(uid='630', iid='125', r_ui=3.0, est=3.6715086192381072, details={'actual_k': 40, 'was_impossible': False}),\n",
       " Prediction(uid='551', iid='125', r_ui=4.0, est=3.562166280377619, details={'actual_k': 40, 'was_impossible': False}),\n",
       " Prediction(uid='727', iid='183', r_ui=3.0, est=4.0453959341920775, details={'actual_k': 40, 'was_impossible': False}),\n",
       " Prediction(uid='660', iid='810', r_ui=3.0, est=2.716986033784867, details={'actual_k': 33, 'was_impossible': False}),\n",
       " Prediction(uid='552', iid='323', r_ui=2.0, est=3.096392106351833, details={'actual_k': 40, 'was_impossible': False}),\n",
       " Prediction(uid='13', iid='604', r_ui=5.0, est=4.161306824226101, details={'actual_k': 40, 'was_impossible': False}),\n",
       " Prediction(uid='642', iid='812', r_ui=4.0, est=3.0411982470665406, details={'actual_k': 14, 'was_impossible': False}),\n",
       " Prediction(uid='240', iid='269', r_ui=5.0, est=4.37605032970238, details={'actual_k': 40, 'was_impossible': False}),\n",
       " Prediction(uid='321', iid='191', r_ui=3.0, est=4.019747630117452, details={'actual_k': 40, 'was_impossible': False}),\n",
       " Prediction(uid='85', iid='921', r_ui=3.0, est=3.9283565432095653, details={'actual_k': 32, 'was_impossible': False}),\n",
       " Prediction(uid='671', iid='161', r_ui=5.0, est=3.7053225003508734, details={'actual_k': 40, 'was_impossible': False}),\n",
       " Prediction(uid='253', iid='97', r_ui=4.0, est=4.044966180654795, details={'actual_k': 40, 'was_impossible': False}),\n",
       " Prediction(uid='605', iid='187', r_ui=5.0, est=4.4634799277061274, details={'actual_k': 40, 'was_impossible': False}),\n",
       " Prediction(uid='472', iid='625', r_ui=4.0, est=3.4813181409519114, details={'actual_k': 40, 'was_impossible': False}),\n",
       " Prediction(uid='56', iid='449', r_ui=5.0, est=3.108181197401048, details={'actual_k': 40, 'was_impossible': False}),\n",
       " Prediction(uid='881', iid='141', r_ui=3.0, est=3.573964666629255, details={'actual_k': 40, 'was_impossible': False}),\n",
       " Prediction(uid='391', iid='318', r_ui=4.0, est=4.4690619614015175, details={'actual_k': 40, 'was_impossible': False}),\n",
       " Prediction(uid='601', iid='387', r_ui=3.0, est=3.2308883078181787, details={'actual_k': 40, 'was_impossible': False}),\n",
       " Prediction(uid='497', iid='475', r_ui=4.0, est=4.149691400301947, details={'actual_k': 40, 'was_impossible': False}),\n",
       " Prediction(uid='327', iid='921', r_ui=4.0, est=3.8680152884128267, details={'actual_k': 32, 'was_impossible': False}),\n",
       " Prediction(uid='200', iid='1033', r_ui=2.0, est=2.576265305376976, details={'actual_k': 24, 'was_impossible': False}),\n",
       " Prediction(uid='605', iid='64', r_ui=5.0, est=4.3833859000686735, details={'actual_k': 40, 'was_impossible': False}),\n",
       " Prediction(uid='796', iid='879', r_ui=4.0, est=3.3551733593157165, details={'actual_k': 40, 'was_impossible': False}),\n",
       " Prediction(uid='214', iid='216', r_ui=4.0, est=3.897630606529355, details={'actual_k': 40, 'was_impossible': False}),\n",
       " Prediction(uid='566', iid='161', r_ui=4.0, est=3.243184970419159, details={'actual_k': 40, 'was_impossible': False}),\n",
       " Prediction(uid='653', iid='423', r_ui=2.0, est=3.5907866870444143, details={'actual_k': 40, 'was_impossible': False}),\n",
       " Prediction(uid='344', iid='216', r_ui=4.0, est=3.8564610606479257, details={'actual_k': 40, 'was_impossible': False}),\n",
       " Prediction(uid='151', iid='664', r_ui=5.0, est=3.707733192048473, details={'actual_k': 35, 'was_impossible': False}),\n",
       " Prediction(uid='64', iid='751', r_ui=2.0, est=3.3081311919970515, details={'actual_k': 40, 'was_impossible': False}),\n",
       " Prediction(uid='554', iid='87', r_ui=4.0, est=4.050893918942176, details={'actual_k': 40, 'was_impossible': False}),\n",
       " Prediction(uid='384', iid='327', r_ui=4.0, est=3.4662513139894604, details={'actual_k': 40, 'was_impossible': False}),\n",
       " Prediction(uid='798', iid='1032', r_ui=3.0, est=2.9480855634044283, details={'actual_k': 13, 'was_impossible': False}),\n",
       " Prediction(uid='622', iid='90', r_ui=4.0, est=3.221961453681137, details={'actual_k': 40, 'was_impossible': False}),\n",
       " Prediction(uid='719', iid='735', r_ui=5.0, est=3.655174223711852, details={'actual_k': 40, 'was_impossible': False}),\n",
       " Prediction(uid='424', iid='740', r_ui=5.0, est=3.367176286033186, details={'actual_k': 40, 'was_impossible': False}),\n",
       " Prediction(uid='294', iid='358', r_ui=2.0, est=2.7582189292814725, details={'actual_k': 40, 'was_impossible': False}),\n",
       " Prediction(uid='21', iid='396', r_ui=2.0, est=3.090645132173475, details={'actual_k': 40, 'was_impossible': False}),\n",
       " Prediction(uid='690', iid='197', r_ui=4.0, est=4.371614627798167, details={'actual_k': 40, 'was_impossible': False}),\n",
       " Prediction(uid='360', iid='471', r_ui=4.0, est=3.4326925466024667, details={'actual_k': 40, 'was_impossible': False}),\n",
       " Prediction(uid='734', iid='603', r_ui=4.0, est=4.461389811447807, details={'actual_k': 40, 'was_impossible': False}),\n",
       " Prediction(uid='521', iid='174', r_ui=4.0, est=3.9586355731579235, details={'actual_k': 40, 'was_impossible': False}),\n",
       " Prediction(uid='484', iid='300', r_ui=4.0, est=3.868075587723487, details={'actual_k': 40, 'was_impossible': False}),\n",
       " Prediction(uid='128', iid='50', r_ui=4.0, est=4.189026333875755, details={'actual_k': 40, 'was_impossible': False}),\n",
       " Prediction(uid='633', iid='921', r_ui=3.0, est=3.9452579828380565, details={'actual_k': 32, 'was_impossible': False}),\n",
       " Prediction(uid='854', iid='466', r_ui=3.0, est=3.5658612430610814, details={'actual_k': 40, 'was_impossible': False}),\n",
       " Prediction(uid='493', iid='751', r_ui=5.0, est=3.4785248499459414, details={'actual_k': 40, 'was_impossible': False}),\n",
       " Prediction(uid='504', iid='392', r_ui=5.0, est=3.751383186655494, details={'actual_k': 40, 'was_impossible': False}),\n",
       " Prediction(uid='655', iid='318', r_ui=4.0, est=4.368566008571987, details={'actual_k': 40, 'was_impossible': False}),\n",
       " Prediction(uid='650', iid='157', r_ui=3.0, est=3.4079510277630582, details={'actual_k': 40, 'was_impossible': False}),\n",
       " Prediction(uid='104', iid='273', r_ui=3.0, est=3.276408747855929, details={'actual_k': 40, 'was_impossible': False}),\n",
       " Prediction(uid='872', iid='117', r_ui=4.0, est=3.858225099826805, details={'actual_k': 40, 'was_impossible': False}),\n",
       " Prediction(uid='276', iid='1170', r_ui=4.0, est=3.0541370125690763, details={'actual_k': 24, 'was_impossible': False}),\n",
       " Prediction(uid='146', iid='258', r_ui=4.0, est=3.9121792491202005, details={'actual_k': 40, 'was_impossible': False}),\n",
       " Prediction(uid='222', iid='1066', r_ui=1.0, est=2.8931391825736075, details={'actual_k': 11, 'was_impossible': False}),\n",
       " Prediction(uid='380', iid='199', r_ui=3.0, est=4.202056076208333, details={'actual_k': 40, 'was_impossible': False}),\n",
       " Prediction(uid='618', iid='195', r_ui=3.0, est=4.1459361485410895, details={'actual_k': 40, 'was_impossible': False}),\n",
       " Prediction(uid='358', iid='1266', r_ui=4.0, est=3.7944425531919097, details={'actual_k': 8, 'was_impossible': False}),\n",
       " Prediction(uid='871', iid='813', r_ui=3.0, est=3.932274168881848, details={'actual_k': 40, 'was_impossible': False}),\n",
       " Prediction(uid='234', iid='174', r_ui=3.0, est=3.932502669844289, details={'actual_k': 40, 'was_impossible': False}),\n",
       " Prediction(uid='912', iid='15', r_ui=4.0, est=3.6239367901312782, details={'actual_k': 40, 'was_impossible': False}),\n",
       " Prediction(uid='75', iid='237', r_ui=2.0, est=3.679777928513812, details={'actual_k': 40, 'was_impossible': False}),\n",
       " Prediction(uid='713', iid='270', r_ui=2.0, est=3.5104054029254246, details={'actual_k': 40, 'was_impossible': False}),\n",
       " Prediction(uid='251', iid='33', r_ui=3.0, est=3.5977959603854437, details={'actual_k': 40, 'was_impossible': False}),\n",
       " Prediction(uid='275', iid='199', r_ui=4.0, est=4.16978739076153, details={'actual_k': 40, 'was_impossible': False}),\n",
       " Prediction(uid='766', iid='91', r_ui=5.0, est=3.540059204755972, details={'actual_k': 40, 'was_impossible': False}),\n",
       " Prediction(uid='22', iid='204', r_ui=5.0, est=3.9539746296333895, details={'actual_k': 40, 'was_impossible': False}),\n",
       " Prediction(uid='487', iid='591', r_ui=2.0, est=3.7040787955286705, details={'actual_k': 40, 'was_impossible': False}),\n",
       " Prediction(uid='827', iid='316', r_ui=3.0, est=4.216357201838861, details={'actual_k': 40, 'was_impossible': False}),\n",
       " Prediction(uid='919', iid='22', r_ui=5.0, est=4.436573849251431, details={'actual_k': 40, 'was_impossible': False}),\n",
       " Prediction(uid='637', iid='274', r_ui=5.0, est=3.362869341949213, details={'actual_k': 40, 'was_impossible': False}),\n",
       " Prediction(uid='666', iid='856', r_ui=5.0, est=3.6797357731735443, details={'actual_k': 27, 'was_impossible': False}),\n",
       " Prediction(uid='349', iid='458', r_ui=4.0, est=3.406463712912456, details={'actual_k': 40, 'was_impossible': False}),\n",
       " Prediction(uid='880', iid='1197', r_ui=3.0, est=3.716308591779046, details={'actual_k': 36, 'was_impossible': False}),\n",
       " Prediction(uid='30', iid='892', r_ui=4.0, est=2.810428278694191, details={'actual_k': 40, 'was_impossible': False}),\n",
       " Prediction(uid='716', iid='213', r_ui=5.0, est=4.19529031203511, details={'actual_k': 40, 'was_impossible': False}),\n",
       " Prediction(uid='235', iid='70', r_ui=5.0, est=3.6976505700216062, details={'actual_k': 40, 'was_impossible': False}),\n",
       " Prediction(uid='291', iid='1042', r_ui=4.0, est=2.9723113858080255, details={'actual_k': 23, 'was_impossible': False}),\n",
       " Prediction(uid='655', iid='311', r_ui=3.0, est=3.6452937559531735, details={'actual_k': 40, 'was_impossible': False}),\n",
       " Prediction(uid='387', iid='642', r_ui=4.0, est=3.609629308803178, details={'actual_k': 40, 'was_impossible': False}),\n",
       " Prediction(uid='109', iid='31', r_ui=4.0, est=3.7786562055007447, details={'actual_k': 40, 'was_impossible': False}),\n",
       " Prediction(uid='484', iid='69', r_ui=5.0, est=4.087202658393789, details={'actual_k': 40, 'was_impossible': False}),\n",
       " Prediction(uid='393', iid='7', r_ui=4.0, est=3.8084517778822202, details={'actual_k': 40, 'was_impossible': False}),\n",
       " Prediction(uid='314', iid='53', r_ui=1.0, est=2.7333408882181067, details={'actual_k': 40, 'was_impossible': False}),\n",
       " Prediction(uid='845', iid='1394', r_ui=4.0, est=3.1722222222222225, details={'actual_k': 4, 'was_impossible': False}),\n",
       " Prediction(uid='532', iid='311', r_ui=2.0, est=3.7354568989675223, details={'actual_k': 40, 'was_impossible': False}),\n",
       " Prediction(uid='195', iid='558', r_ui=3.0, est=3.9232718075746673, details={'actual_k': 40, 'was_impossible': False}),\n",
       " Prediction(uid='89', iid='151', r_ui=5.0, est=3.8346660856779717, details={'actual_k': 40, 'was_impossible': False}),\n",
       " Prediction(uid='824', iid='243', r_ui=1.0, est=2.488783353421343, details={'actual_k': 40, 'was_impossible': False}),\n",
       " Prediction(uid='632', iid='11', r_ui=4.0, est=3.853112185371791, details={'actual_k': 40, 'was_impossible': False}),\n",
       " Prediction(uid='393', iid='412', r_ui=3.0, est=2.195492667624205, details={'actual_k': 40, 'was_impossible': False}),\n",
       " Prediction(uid='887', iid='121', r_ui=5.0, est=3.5140950547597, details={'actual_k': 40, 'was_impossible': False}),\n",
       " Prediction(uid='682', iid='412', r_ui=1.0, est=2.1592589102143496, details={'actual_k': 40, 'was_impossible': False}),\n",
       " Prediction(uid='406', iid='210', r_ui=5.0, est=3.9329345157597353, details={'actual_k': 40, 'was_impossible': False}),\n",
       " Prediction(uid='795', iid='552', r_ui=2.0, est=2.885635693160452, details={'actual_k': 36, 'was_impossible': False}),\n",
       " Prediction(uid='774', iid='546', r_ui=1.0, est=2.549021322635214, details={'actual_k': 40, 'was_impossible': False}),\n",
       " Prediction(uid='47', iid='304', r_ui=3.0, est=3.5591207970369405, details={'actual_k': 40, 'was_impossible': False}),\n",
       " Prediction(uid='514', iid='15', r_ui=4.0, est=3.8331780485483953, details={'actual_k': 40, 'was_impossible': False}),\n",
       " Prediction(uid='804', iid='175', r_ui=4.0, est=3.9754508403979094, details={'actual_k': 40, 'was_impossible': False}),\n",
       " Prediction(uid='804', iid='1056', r_ui=4.0, est=2.895530129917755, details={'actual_k': 8, 'was_impossible': False}),\n",
       " Prediction(uid='21', iid='243', r_ui=2.0, est=1.9168020371448702, details={'actual_k': 40, 'was_impossible': False}),\n",
       " Prediction(uid='618', iid='778', r_ui=3.0, est=3.52207353657251, details={'actual_k': 40, 'was_impossible': False}),\n",
       " Prediction(uid='151', iid='222', r_ui=5.0, est=3.741221950807257, details={'actual_k': 40, 'was_impossible': False}),\n",
       " Prediction(uid='224', iid='583', r_ui=1.0, est=2.9990657940543044, details={'actual_k': 29, 'was_impossible': False}),\n",
       " Prediction(uid='283', iid='709', r_ui=5.0, est=4.4090695958358035, details={'actual_k': 40, 'was_impossible': False}),\n",
       " Prediction(uid='504', iid='185', r_ui=5.0, est=4.2350136812491295, details={'actual_k': 40, 'was_impossible': False}),\n",
       " Prediction(uid='553', iid='135', r_ui=4.0, est=4.284975550799143, details={'actual_k': 40, 'was_impossible': False}),\n",
       " Prediction(uid='846', iid='203', r_ui=5.0, est=4.049118690658151, details={'actual_k': 40, 'was_impossible': False}),\n",
       " Prediction(uid='773', iid='52', r_ui=3.0, est=3.8121928722906504, details={'actual_k': 40, 'was_impossible': False}),\n",
       " Prediction(uid='385', iid='384', r_ui=1.0, est=2.633153221615791, details={'actual_k': 40, 'was_impossible': False}),\n",
       " Prediction(uid='346', iid='720', r_ui=2.0, est=2.870489628054337, details={'actual_k': 40, 'was_impossible': False}),\n",
       " Prediction(uid='373', iid='366', r_ui=4.0, est=3.417768804701931, details={'actual_k': 40, 'was_impossible': False}),\n",
       " Prediction(uid='881', iid='474', r_ui=3.0, est=4.2004572787615055, details={'actual_k': 40, 'was_impossible': False}),\n",
       " Prediction(uid='537', iid='845', r_ui=2.0, est=3.1811240012612827, details={'actual_k': 40, 'was_impossible': False}),\n",
       " Prediction(uid='474', iid='50', r_ui=5.0, est=4.5585560791721305, details={'actual_k': 40, 'was_impossible': False}),\n",
       " Prediction(uid='293', iid='77', r_ui=2.0, est=2.9654205232827056, details={'actual_k': 40, 'was_impossible': False}),\n",
       " Prediction(uid='542', iid='435', r_ui=4.0, est=3.9905289646188877, details={'actual_k': 40, 'was_impossible': False}),\n",
       " Prediction(uid='262', iid='111', r_ui=4.0, est=3.198420859988543, details={'actual_k': 40, 'was_impossible': False}),\n",
       " Prediction(uid='109', iid='1210', r_ui=3.0, est=3.019642320824019, details={'actual_k': 28, 'was_impossible': False}),\n",
       " Prediction(uid='181', iid='1164', r_ui=3.0, est=1.9031350512148912, details={'actual_k': 5, 'was_impossible': False}),\n",
       " Prediction(uid='847', iid='96', r_ui=4.0, est=4.023183559475877, details={'actual_k': 40, 'was_impossible': False}),\n",
       " Prediction(uid='625', iid='640', r_ui=3.0, est=3.1086713346251322, details={'actual_k': 40, 'was_impossible': False}),\n",
       " Prediction(uid='246', iid='178', r_ui=5.0, est=4.385033689704454, details={'actual_k': 40, 'was_impossible': False}),\n",
       " Prediction(uid='425', iid='24', r_ui=2.0, est=3.4388131988598665, details={'actual_k': 40, 'was_impossible': False}),\n",
       " Prediction(uid='749', iid='712', r_ui=3.0, est=3.1220106118362647, details={'actual_k': 40, 'was_impossible': False}),\n",
       " Prediction(uid='586', iid='227', r_ui=2.0, est=3.1493807451514972, details={'actual_k': 40, 'was_impossible': False}),\n",
       " Prediction(uid='410', iid='754', r_ui=3.0, est=3.2451725055411016, details={'actual_k': 40, 'was_impossible': False}),\n",
       " Prediction(uid='332', iid='9', r_ui=4.0, est=3.979467675182785, details={'actual_k': 40, 'was_impossible': False}),\n",
       " Prediction(uid='185', iid='47', r_ui=4.0, est=3.7593860281876643, details={'actual_k': 40, 'was_impossible': False}),\n",
       " Prediction(uid='582', iid='826', r_ui=3.0, est=2.428673211268367, details={'actual_k': 40, 'was_impossible': False}),\n",
       " Prediction(uid='130', iid='217', r_ui=3.0, est=3.5476693745846144, details={'actual_k': 40, 'was_impossible': False}),\n",
       " Prediction(uid='537', iid='426', r_ui=1.0, est=3.0133198352198924, details={'actual_k': 20, 'was_impossible': False}),\n",
       " Prediction(uid='295', iid='380', r_ui=4.0, est=3.632274094137729, details={'actual_k': 40, 'was_impossible': False}),\n",
       " Prediction(uid='756', iid='151', r_ui=4.0, est=3.7149520836921774, details={'actual_k': 40, 'was_impossible': False}),\n",
       " Prediction(uid='749', iid='826', r_ui=3.0, est=2.50773168920134, details={'actual_k': 40, 'was_impossible': False}),\n",
       " Prediction(uid='405', iid='657', r_ui=1.0, est=4.099801050626658, details={'actual_k': 40, 'was_impossible': False}),\n",
       " Prediction(uid='622', iid='1407', r_ui=1.0, est=2.359723320625136, details={'actual_k': 13, 'was_impossible': False}),\n",
       " Prediction(uid='425', iid='825', r_ui=2.0, est=2.7485870746948717, details={'actual_k': 40, 'was_impossible': False}),\n",
       " Prediction(uid='372', iid='56', r_ui=4.0, est=4.208992266146633, details={'actual_k': 40, 'was_impossible': False}),\n",
       " Prediction(uid='338', iid='1124', r_ui=4.0, est=3.8260801769321175, details={'actual_k': 11, 'was_impossible': False}),\n",
       " Prediction(uid='795', iid='568', r_ui=3.0, est=3.1556461937856595, details={'actual_k': 40, 'was_impossible': False}),\n",
       " Prediction(uid='99', iid='694', r_ui=1.0, est=4.1615568894566115, details={'actual_k': 36, 'was_impossible': False}),\n",
       " Prediction(uid='717', iid='980', r_ui=4.0, est=3.2480674470109703, details={'actual_k': 18, 'was_impossible': False}),\n",
       " Prediction(uid='470', iid='952', r_ui=3.0, est=3.276362285219507, details={'actual_k': 40, 'was_impossible': False}),\n",
       " Prediction(uid='268', iid='153', r_ui=5.0, est=3.68176131145864, details={'actual_k': 40, 'was_impossible': False}),\n",
       " Prediction(uid='425', iid='853', r_ui=4.0, est=3.7685960947056056, details={'actual_k': 11, 'was_impossible': False}),\n",
       " Prediction(uid='457', iid='566', r_ui=4.0, est=3.8422443550747944, details={'actual_k': 40, 'was_impossible': False}),\n",
       " Prediction(uid='73', iid='433', r_ui=4.0, est=3.758585900057236, details={'actual_k': 40, 'was_impossible': False}),\n",
       " Prediction(uid='397', iid='665', r_ui=3.0, est=2.8520167153533027, details={'actual_k': 40, 'was_impossible': False}),\n",
       " Prediction(uid='466', iid='357', r_ui=4.0, est=4.277248734262385, details={'actual_k': 40, 'was_impossible': False}),\n",
       " Prediction(uid='389', iid='1114', r_ui=2.0, est=3.4400472702870633, details={'actual_k': 9, 'was_impossible': False}),\n",
       " Prediction(uid='328', iid='903', r_ui=3.0, est=3.209765871985681, details={'actual_k': 14, 'was_impossible': False}),\n",
       " Prediction(uid='378', iid='742', r_ui=4.0, est=3.35252818660394, details={'actual_k': 40, 'was_impossible': False}),\n",
       " Prediction(uid='65', iid='211', r_ui=4.0, est=4.032970476984297, details={'actual_k': 40, 'was_impossible': False}),\n",
       " Prediction(uid='333', iid='98', r_ui=4.0, est=4.251986818935478, details={'actual_k': 40, 'was_impossible': False}),\n",
       " Prediction(uid='886', iid='240', r_ui=3.0, est=2.7511608086943706, details={'actual_k': 40, 'was_impossible': False}),\n",
       " Prediction(uid='897', iid='673', r_ui=5.0, est=3.7558226256310734, details={'actual_k': 40, 'was_impossible': False}),\n",
       " Prediction(uid='224', iid='720', r_ui=4.0, est=3.1039718375312337, details={'actual_k': 40, 'was_impossible': False}),\n",
       " Prediction(uid='934', iid='526', r_ui=2.0, est=3.7648373102885273, details={'actual_k': 40, 'was_impossible': False}),\n",
       " Prediction(uid='181', iid='931', r_ui=1.0, est=2.1176447067057618, details={'actual_k': 40, 'was_impossible': False}),\n",
       " Prediction(uid='839', iid='50', r_ui=5.0, est=4.077789322779045, details={'actual_k': 40, 'was_impossible': False}),\n",
       " Prediction(uid='782', iid='322', r_ui=4.0, est=3.129755724766143, details={'actual_k': 40, 'was_impossible': False}),\n",
       " Prediction(uid='181', iid='263', r_ui=1.0, est=2.1201891478416703, details={'actual_k': 16, 'was_impossible': False}),\n",
       " Prediction(uid='880', iid='40', r_ui=2.0, est=3.094404686888722, details={'actual_k': 40, 'was_impossible': False}),\n",
       " Prediction(uid='505', iid='588', r_ui=5.0, est=3.9668897945020576, details={'actual_k': 40, 'was_impossible': False}),\n",
       " Prediction(uid='207', iid='433', r_ui=3.0, est=3.727273103680346, details={'actual_k': 40, 'was_impossible': False}),\n",
       " Prediction(uid='500', iid='619', r_ui=3.0, est=3.294535001427986, details={'actual_k': 40, 'was_impossible': False}),\n",
       " Prediction(uid='181', iid='360', r_ui=1.0, est=3.027219016774936, details={'actual_k': 8, 'was_impossible': False}),\n",
       " Prediction(uid='922', iid='62', r_ui=3.0, est=3.097224141855661, details={'actual_k': 40, 'was_impossible': False}),\n",
       " Prediction(uid='815', iid='735', r_ui=5.0, est=3.8966231730216627, details={'actual_k': 40, 'was_impossible': False}),\n",
       " Prediction(uid='782', iid='937', r_ui=1.0, est=3.581276969076186, details={'actual_k': 27, 'was_impossible': False}),\n",
       " Prediction(uid='894', iid='638', r_ui=3.0, est=3.7686779977606544, details={'actual_k': 35, 'was_impossible': False}),\n",
       " Prediction(uid='551', iid='698', r_ui=4.0, est=2.704941320475688, details={'actual_k': 5, 'was_impossible': False}),\n",
       " Prediction(uid='246', iid='1101', r_ui=5.0, est=3.723761816881592, details={'actual_k': 40, 'was_impossible': False}),\n",
       " Prediction(uid='131', iid='275', r_ui=2.0, est=4.187783191416112, details={'actual_k': 40, 'was_impossible': False}),\n",
       " Prediction(uid='606', iid='248', r_ui=5.0, est=4.017486065498698, details={'actual_k': 40, 'was_impossible': False}),\n",
       " Prediction(uid='854', iid='191', r_ui=4.0, est=4.033616664411012, details={'actual_k': 40, 'was_impossible': False}),\n",
       " Prediction(uid='889', iid='3', r_ui=4.0, est=2.9574819040706033, details={'actual_k': 40, 'was_impossible': False}),\n",
       " Prediction(uid='547', iid='294', r_ui=1.0, est=3.325, details={'actual_k': 40, 'was_impossible': False}),\n",
       " Prediction(uid='211', iid='303', r_ui=3.0, est=3.6642760397006904, details={'actual_k': 40, 'was_impossible': False}),\n",
       " Prediction(uid='883', iid='707', r_ui=3.0, est=4.084918056007241, details={'actual_k': 40, 'was_impossible': False}),\n",
       " Prediction(uid='823', iid='228', r_ui=3.0, est=3.9117141316217308, details={'actual_k': 40, 'was_impossible': False}),\n",
       " Prediction(uid='889', iid='173', r_ui=5.0, est=3.875500694815066, details={'actual_k': 40, 'was_impossible': False}),\n",
       " Prediction(uid='293', iid='117', r_ui=3.0, est=3.1415896314134297, details={'actual_k': 40, 'was_impossible': False}),\n",
       " Prediction(uid='723', iid='164', r_ui=4.0, est=3.3814998049500065, details={'actual_k': 40, 'was_impossible': False}),\n",
       " Prediction(uid='313', iid='720', r_ui=2.0, est=2.6858491329532845, details={'actual_k': 40, 'was_impossible': False}),\n",
       " Prediction(uid='87', iid='8', r_ui=5.0, est=4.120974542450828, details={'actual_k': 40, 'was_impossible': False}),\n",
       " Prediction(uid='305', iid='215', r_ui=2.0, est=3.3048430380442793, details={'actual_k': 40, 'was_impossible': False}),\n",
       " Prediction(uid='588', iid='1411', r_ui=1.0, est=2.544990103937971, details={'actual_k': 21, 'was_impossible': False}),\n",
       " Prediction(uid='83', iid='50', r_ui=3.0, est=4.551045385474116, details={'actual_k': 40, 'was_impossible': False}),\n",
       " Prediction(uid='81', iid='432', r_ui=2.0, est=3.6135637352434666, details={'actual_k': 40, 'was_impossible': False}),\n",
       " Prediction(uid='372', iid='77', r_ui=5.0, est=3.569432965479715, details={'actual_k': 40, 'was_impossible': False}),\n",
       " Prediction(uid='409', iid='1512', r_ui=5.0, est=4.6044172914367945, details={'actual_k': 4, 'was_impossible': False}),\n",
       " Prediction(uid='194', iid='125', r_ui=2.0, est=3.2369475723025434, details={'actual_k': 40, 'was_impossible': False}),\n",
       " Prediction(uid='745', iid='510', r_ui=3.0, est=3.9054423344874825, details={'actual_k': 40, 'was_impossible': False}),\n",
       " Prediction(uid='749', iid='191', r_ui=4.0, est=4.378496090363144, details={'actual_k': 40, 'was_impossible': False}),\n",
       " Prediction(uid='821', iid='117', r_ui=3.0, est=4.125830934682135, details={'actual_k': 40, 'was_impossible': False}),\n",
       " Prediction(uid='552', iid='926', r_ui=2.0, est=2.812441490000548, details={'actual_k': 40, 'was_impossible': False}),\n",
       " Prediction(uid='541', iid='659', r_ui=5.0, est=4.205192146645189, details={'actual_k': 40, 'was_impossible': False}),\n",
       " Prediction(uid='682', iid='735', r_ui=4.0, est=3.9466294745329327, details={'actual_k': 40, 'was_impossible': False}),\n",
       " Prediction(uid='424', iid='127', r_ui=4.0, est=4.118558515889702, details={'actual_k': 40, 'was_impossible': False}),\n",
       " Prediction(uid='854', iid='264', r_ui=1.0, est=2.585435351624134, details={'actual_k': 40, 'was_impossible': False}),\n",
       " Prediction(uid='389', iid='492', r_ui=5.0, est=3.8186666886224487, details={'actual_k': 40, 'was_impossible': False}),\n",
       " Prediction(uid='354', iid='208', r_ui=4.0, est=3.952692173894715, details={'actual_k': 40, 'was_impossible': False}),\n",
       " Prediction(uid='527', iid='127', r_ui=5.0, est=4.438633932027879, details={'actual_k': 40, 'was_impossible': False}),\n",
       " Prediction(uid='378', iid='302', r_ui=5.0, est=4.135368896138025, details={'actual_k': 40, 'was_impossible': False}),\n",
       " Prediction(uid='903', iid='1009', r_ui=4.0, est=3.607062689218529, details={'actual_k': 40, 'was_impossible': False}),\n",
       " Prediction(uid='484', iid='15', r_ui=5.0, est=4.103893217828621, details={'actual_k': 40, 'was_impossible': False}),\n",
       " Prediction(uid='62', iid='7', r_ui=4.0, est=3.9635453340358584, details={'actual_k': 40, 'was_impossible': False}),\n",
       " Prediction(uid='387', iid='692', r_ui=1.0, est=3.277443844085315, details={'actual_k': 40, 'was_impossible': False}),\n",
       " Prediction(uid='641', iid='270', r_ui=3.0, est=3.4553285339219886, details={'actual_k': 40, 'was_impossible': False}),\n",
       " Prediction(uid='164', iid='9', r_ui=4.0, est=3.965136384685722, details={'actual_k': 40, 'was_impossible': False}),\n",
       " Prediction(uid='608', iid='204', r_ui=4.0, est=3.7353557460047053, details={'actual_k': 40, 'was_impossible': False}),\n",
       " Prediction(uid='459', iid='472', r_ui=5.0, est=3.272664665500593, details={'actual_k': 40, 'was_impossible': False}),\n",
       " Prediction(uid='566', iid='122', r_ui=2.0, est=2.6026917616929173, details={'actual_k': 40, 'was_impossible': False}),\n",
       " Prediction(uid='398', iid='4', r_ui=2.0, est=3.6514679575440367, details={'actual_k': 40, 'was_impossible': False}),\n",
       " Prediction(uid='407', iid='274', r_ui=3.0, est=3.298192794890435, details={'actual_k': 40, 'was_impossible': False}),\n",
       " Prediction(uid='144', iid='273', r_ui=4.0, est=3.31381215093669, details={'actual_k': 40, 'was_impossible': False}),\n",
       " Prediction(uid='523', iid='582', r_ui=4.0, est=3.8317887562835513, details={'actual_k': 40, 'was_impossible': False}),\n",
       " Prediction(uid='613', iid='607', r_ui=4.0, est=3.9239541883317357, details={'actual_k': 40, 'was_impossible': False}),\n",
       " Prediction(uid='416', iid='690', r_ui=5.0, est=3.5238736060800107, details={'actual_k': 40, 'was_impossible': False}),\n",
       " Prediction(uid='610', iid='317', r_ui=3.0, est=3.7623351601429467, details={'actual_k': 40, 'was_impossible': False}),\n",
       " Prediction(uid='758', iid='91', r_ui=4.0, est=3.9057372047113463, details={'actual_k': 40, 'was_impossible': False}),\n",
       " Prediction(uid='308', iid='58', r_ui=3.0, est=3.736354275343338, details={'actual_k': 40, 'was_impossible': False}),\n",
       " Prediction(uid='334', iid='620', r_ui=2.0, est=3.1375458546331068, details={'actual_k': 35, 'was_impossible': False}),\n",
       " Prediction(uid='833', iid='506', r_ui=2.0, est=3.8162705238969563, details={'actual_k': 40, 'was_impossible': False}),\n",
       " Prediction(uid='70', iid='231', r_ui=3.0, est=2.7739447222510347, details={'actual_k': 40, 'was_impossible': False}),\n",
       " Prediction(uid='399', iid='1035', r_ui=3.0, est=3.083407160284576, details={'actual_k': 40, 'was_impossible': False}),\n",
       " Prediction(uid='13', iid='64', r_ui=5.0, est=4.326004800438544, details={'actual_k': 40, 'was_impossible': False}),\n",
       " Prediction(uid='534', iid='93', r_ui=1.0, est=3.8919701709532735, details={'actual_k': 40, 'was_impossible': False}),\n",
       " Prediction(uid='843', iid='708', r_ui=2.0, est=3.3171271698136913, details={'actual_k': 40, 'was_impossible': False}),\n",
       " Prediction(uid='639', iid='714', r_ui=2.0, est=3.3635474473504297, details={'actual_k': 12, 'was_impossible': False}),\n",
       " Prediction(uid='663', iid='321', r_ui=5.0, est=3.302909926637428, details={'actual_k': 40, 'was_impossible': False}),\n",
       " Prediction(uid='189', iid='1402', r_ui=4.0, est=2.578498293515359, details={'actual_k': 2, 'was_impossible': False}),\n",
       " Prediction(uid='457', iid='172', r_ui=5.0, est=4.679071692398436, details={'actual_k': 40, 'was_impossible': False}),\n",
       " Prediction(uid='640', iid='580', r_ui=5.0, est=3.3903798008515764, details={'actual_k': 26, 'was_impossible': False}),\n",
       " Prediction(uid='94', iid='356', r_ui=4.0, est=3.3605793441685434, details={'actual_k': 40, 'was_impossible': False}),\n",
       " Prediction(uid='504', iid='187', r_ui=3.0, est=4.1614594180972135, details={'actual_k': 40, 'was_impossible': False}),\n",
       " Prediction(uid='436', iid='288', r_ui=4.0, est=3.1679667186687444, details={'actual_k': 40, 'was_impossible': False}),\n",
       " Prediction(uid='541', iid='1030', r_ui=3.0, est=2.088572566640302, details={'actual_k': 16, 'was_impossible': False}),\n",
       " Prediction(uid='551', iid='168', r_ui=5.0, est=4.176228859572544, details={'actual_k': 40, 'was_impossible': False}),\n",
       " Prediction(uid='703', iid='15', r_ui=5.0, est=3.787154214033239, details={'actual_k': 40, 'was_impossible': False}),\n",
       " Prediction(uid='521', iid='228', r_ui=4.0, est=3.761239361558659, details={'actual_k': 40, 'was_impossible': False}),\n",
       " Prediction(uid='510', iid='325', r_ui=1.0, est=2.8108107014624633, details={'actual_k': 40, 'was_impossible': False}),\n",
       " Prediction(uid='463', iid='689', r_ui=2.0, est=3.242711749580124, details={'actual_k': 40, 'was_impossible': False}),\n",
       " Prediction(uid='312', iid='499', r_ui=4.0, est=4.094126814248575, details={'actual_k': 40, 'was_impossible': False}),\n",
       " Prediction(uid='533', iid='357', r_ui=3.0, est=4.298754631194219, details={'actual_k': 40, 'was_impossible': False}),\n",
       " Prediction(uid='393', iid='794', r_ui=4.0, est=3.694075315908503, details={'actual_k': 32, 'was_impossible': False}),\n",
       " Prediction(uid='642', iid='748', r_ui=5.0, est=3.5246213592878073, details={'actual_k': 40, 'was_impossible': False}),\n",
       " Prediction(uid='851', iid='1291', r_ui=2.0, est=2.7311967802849866, details={'actual_k': 9, 'was_impossible': False}),\n",
       " Prediction(uid='128', iid='507', r_ui=4.0, est=3.9493370834202346, details={'actual_k': 40, 'was_impossible': False}),\n",
       " Prediction(uid='568', iid='653', r_ui=4.0, est=3.8991227234188837, details={'actual_k': 26, 'was_impossible': False}),\n",
       " Prediction(uid='325', iid='1', r_ui=2.0, est=4.041141824110466, details={'actual_k': 40, 'was_impossible': False}),\n",
       " Prediction(uid='345', iid='161', r_ui=3.0, est=3.4541846609214915, details={'actual_k': 40, 'was_impossible': False}),\n",
       " Prediction(uid='741', iid='280', r_ui=3.0, est=3.0500971474228096, details={'actual_k': 40, 'was_impossible': False}),\n",
       " Prediction(uid='545', iid='222', r_ui=4.0, est=3.8854086239182473, details={'actual_k': 40, 'was_impossible': False}),\n",
       " Prediction(uid='778', iid='144', r_ui=4.0, est=3.9752878612447793, details={'actual_k': 40, 'was_impossible': False}),\n",
       " Prediction(uid='874', iid='137', r_ui=4.0, est=4.02259042367772, details={'actual_k': 40, 'was_impossible': False}),\n",
       " Prediction(uid='897', iid='1254', r_ui=2.0, est=1.6686396095037164, details={'actual_k': 9, 'was_impossible': False}),\n",
       " Prediction(uid='385', iid='1143', r_ui=4.0, est=3.886209907609921, details={'actual_k': 14, 'was_impossible': False}),\n",
       " Prediction(uid='487', iid='43', r_ui=3.0, est=2.9089692795066204, details={'actual_k': 32, 'was_impossible': False}),\n",
       " Prediction(uid='425', iid='269', r_ui=4.0, est=3.808272908447165, details={'actual_k': 40, 'was_impossible': False}),\n",
       " Prediction(uid='758', iid='412', r_ui=5.0, est=2.2646949489953654, details={'actual_k': 40, 'was_impossible': False}),\n",
       " Prediction(uid='313', iid='191', r_ui=5.0, est=4.297618726528235, details={'actual_k': 40, 'was_impossible': False}),\n",
       " Prediction(uid='11', iid='414', r_ui=3.0, est=3.7079823952372437, details={'actual_k': 40, 'was_impossible': False}),\n",
       " Prediction(uid='225', iid='1443', r_ui=4.0, est=3.6501240694789083, details={'actual_k': 3, 'was_impossible': False}),\n",
       " Prediction(uid='849', iid='676', r_ui=5.0, est=3.436321448710091, details={'actual_k': 40, 'was_impossible': False}),\n",
       " Prediction(uid='616', iid='339', r_ui=3.0, est=3.2806921207560102, details={'actual_k': 37, 'was_impossible': False}),\n",
       " Prediction(uid='109', iid='131', r_ui=1.0, est=3.819787817990941, details={'actual_k': 40, 'was_impossible': False}),\n",
       " Prediction(uid='548', iid='164', r_ui=5.0, est=3.704717171399186, details={'actual_k': 40, 'was_impossible': False}),\n",
       " Prediction(uid='455', iid='1034', r_ui=2.0, est=2.64215646531111, details={'actual_k': 19, 'was_impossible': False}),\n",
       " Prediction(uid='289', iid='849', r_ui=4.0, est=2.6705394041052917, details={'actual_k': 40, 'was_impossible': False}),\n",
       " Prediction(uid='896', iid='148', r_ui=2.0, est=2.8419677455841135, details={'actual_k': 40, 'was_impossible': False}),\n",
       " Prediction(uid='38', iid='294', r_ui=5.0, est=3.6076158584604734, details={'actual_k': 40, 'was_impossible': False}),\n",
       " Prediction(uid='194', iid='385', r_ui=2.0, est=3.4399758823269253, details={'actual_k': 40, 'was_impossible': False}),\n",
       " Prediction(uid='385', iid='235', r_ui=5.0, est=2.952343544866502, details={'actual_k': 40, 'was_impossible': False}),\n",
       " Prediction(uid='553', iid='131', r_ui=5.0, est=3.983873642686797, details={'actual_k': 40, 'was_impossible': False}),\n",
       " Prediction(uid='896', iid='184', r_ui=3.0, est=3.4443907144169925, details={'actual_k': 40, 'was_impossible': False}),\n",
       " Prediction(uid='940', iid='315', r_ui=4.0, est=4.056342586017016, details={'actual_k': 40, 'was_impossible': False}),\n",
       " Prediction(uid='178', iid='144', r_ui=4.0, est=4.034114108410602, details={'actual_k': 40, 'was_impossible': False}),\n",
       " Prediction(uid='482', iid='311', r_ui=4.0, est=3.621060744342165, details={'actual_k': 40, 'was_impossible': False}),\n",
       " Prediction(uid='327', iid='663', r_ui=4.0, est=3.6874244001792182, details={'actual_k': 40, 'was_impossible': False}),\n",
       " Prediction(uid='601', iid='173', r_ui=5.0, est=4.151628825180671, details={'actual_k': 40, 'was_impossible': False}),\n",
       " Prediction(uid='345', iid='150', r_ui=5.0, est=4.106077638763481, details={'actual_k': 40, 'was_impossible': False}),\n",
       " Prediction(uid='761', iid='1014', r_ui=1.0, est=3.0405238776614847, details={'actual_k': 40, 'was_impossible': False}),\n",
       " Prediction(uid='790', iid='1119', r_ui=4.0, est=3.5138437158795095, details={'actual_k': 40, 'was_impossible': False}),\n",
       " Prediction(uid='489', iid='989', r_ui=3.0, est=3.1881613552439245, details={'actual_k': 25, 'was_impossible': False}),\n",
       " Prediction(uid='38', iid='318', r_ui=3.0, est=4.53996688624483, details={'actual_k': 40, 'was_impossible': False}),\n",
       " Prediction(uid='279', iid='1496', r_ui=3.0, est=3.1350200635337355, details={'actual_k': 3, 'was_impossible': False}),\n",
       " Prediction(uid='923', iid='591', r_ui=5.0, est=3.8880155227135873, details={'actual_k': 40, 'was_impossible': False}),\n",
       " Prediction(uid='323', iid='215', r_ui=5.0, est=3.75989582995166, details={'actual_k': 40, 'was_impossible': False}),\n",
       " Prediction(uid='376', iid='181', r_ui=4.0, est=3.8482427311223693, details={'actual_k': 40, 'was_impossible': False}),\n",
       " Prediction(uid='927', iid='541', r_ui=5.0, est=2.9420374901257063, details={'actual_k': 40, 'was_impossible': False}),\n",
       " Prediction(uid='416', iid='1286', r_ui=5.0, est=3.311434096855837, details={'actual_k': 10, 'was_impossible': False}),\n",
       " Prediction(uid='268', iid='655', r_ui=4.0, est=3.7054766565350583, details={'actual_k': 40, 'was_impossible': False}),\n",
       " Prediction(uid='64', iid='196', r_ui=4.0, est=3.8756076302903866, details={'actual_k': 40, 'was_impossible': False}),\n",
       " Prediction(uid='271', iid='427', r_ui=5.0, est=4.451923051533108, details={'actual_k': 40, 'was_impossible': False}),\n",
       " Prediction(uid='122', iid='511', r_ui=5.0, est=4.57174247242963, details={'actual_k': 40, 'was_impossible': False}),\n",
       " Prediction(uid='167', iid='404', r_ui=3.0, est=3.951663951536093, details={'actual_k': 40, 'was_impossible': False}),\n",
       " Prediction(uid='580', iid='281', r_ui=2.0, est=3.076317980923677, details={'actual_k': 40, 'was_impossible': False}),\n",
       " Prediction(uid='95', iid='510', r_ui=4.0, est=4.139111359549095, details={'actual_k': 40, 'was_impossible': False}),\n",
       " Prediction(uid='615', iid='237', r_ui=4.0, est=3.9409988321976694, details={'actual_k': 40, 'was_impossible': False}),\n",
       " Prediction(uid='663', iid='25', r_ui=4.0, est=3.4872486450443656, details={'actual_k': 40, 'was_impossible': False}),\n",
       " Prediction(uid='883', iid='517', r_ui=4.0, est=4.074808392293969, details={'actual_k': 40, 'was_impossible': False}),\n",
       " Prediction(uid='189', iid='30', r_ui=4.0, est=3.9731371797058226, details={'actual_k': 31, 'was_impossible': False}),\n",
       " Prediction(uid='735', iid='333', r_ui=4.0, est=3.699305039857631, details={'actual_k': 40, 'was_impossible': False}),\n",
       " Prediction(uid='711', iid='272', r_ui=5.0, est=4.393593101579793, details={'actual_k': 40, 'was_impossible': False}),\n",
       " Prediction(uid='874', iid='124', r_ui=4.0, est=3.905452989806524, details={'actual_k': 40, 'was_impossible': False}),\n",
       " Prediction(uid='796', iid='525', r_ui=4.0, est=4.082122166505331, details={'actual_k': 40, 'was_impossible': False}),\n",
       " Prediction(uid='668', iid='596', r_ui=3.0, est=3.219735392284021, details={'actual_k': 40, 'was_impossible': False}),\n",
       " Prediction(uid='533', iid='9', r_ui=4.0, est=3.7869531587835863, details={'actual_k': 40, 'was_impossible': False}),\n",
       " Prediction(uid='851', iid='248', r_ui=4.0, est=3.885167022431402, details={'actual_k': 40, 'was_impossible': False}),\n",
       " Prediction(uid='360', iid='14', r_ui=5.0, est=4.180884817898046, details={'actual_k': 40, 'was_impossible': False}),\n",
       " Prediction(uid='62', iid='181', r_ui=4.0, est=3.946880334586307, details={'actual_k': 40, 'was_impossible': False}),\n",
       " Prediction(uid='579', iid='514', r_ui=3.0, est=4.1711235123230495, details={'actual_k': 40, 'was_impossible': False}),\n",
       " Prediction(uid='158', iid='745', r_ui=4.0, est=3.8543179313903293, details={'actual_k': 12, 'was_impossible': False}),\n",
       " Prediction(uid='119', iid='1052', r_ui=4.0, est=2.162546528649446, details={'actual_k': 22, 'was_impossible': False}),\n",
       " Prediction(uid='275', iid='162', r_ui=3.0, est=3.4298211639649927, details={'actual_k': 40, 'was_impossible': False}),\n",
       " Prediction(uid='503', iid='277', r_ui=4.0, est=3.5082676690664663, details={'actual_k': 40, 'was_impossible': False}),\n",
       " Prediction(uid='710', iid='496', r_ui=4.0, est=4.040073655191998, details={'actual_k': 40, 'was_impossible': False}),\n",
       " Prediction(uid='660', iid='550', r_ui=2.0, est=2.703000353518166, details={'actual_k': 40, 'was_impossible': False}),\n",
       " Prediction(uid='42', iid='151', r_ui=4.0, est=3.663035640249548, details={'actual_k': 40, 'was_impossible': False}),\n",
       " Prediction(uid='479', iid='147', r_ui=3.0, est=3.175059639430899, details={'actual_k': 40, 'was_impossible': False}),\n",
       " Prediction(uid='574', iid='887', r_ui=4.0, est=3.7394276684460213, details={'actual_k': 40, 'was_impossible': False}),\n",
       " Prediction(uid='13', iid='655', r_ui=5.0, est=3.8513335708759917, details={'actual_k': 40, 'was_impossible': False}),\n",
       " Prediction(uid='593', iid='220', r_ui=3.0, est=3.311105320696069, details={'actual_k': 40, 'was_impossible': False}),\n",
       " Prediction(uid='524', iid='526', r_ui=3.0, est=3.7597404383878557, details={'actual_k': 40, 'was_impossible': False}),\n",
       " Prediction(uid='244', iid='721', r_ui=5.0, est=3.473093408990315, details={'actual_k': 40, 'was_impossible': False}),\n",
       " Prediction(uid='774', iid='567', r_ui=1.0, est=2.712000670765062, details={'actual_k': 25, 'was_impossible': False}),\n",
       " Prediction(uid='848', iid='132', r_ui=5.0, est=4.60898274688049, details={'actual_k': 40, 'was_impossible': False}),\n",
       " Prediction(uid='851', iid='435', r_ui=4.0, est=4.239917858668579, details={'actual_k': 40, 'was_impossible': False}),\n",
       " Prediction(uid='198', iid='58', r_ui=3.0, est=3.500392601872544, details={'actual_k': 40, 'was_impossible': False}),\n",
       " Prediction(uid='286', iid='210', r_ui=5.0, est=3.912824962821994, details={'actual_k': 40, 'was_impossible': False}),\n",
       " Prediction(uid='608', iid='753', r_ui=5.0, est=3.9081580937491434, details={'actual_k': 20, 'was_impossible': False}),\n",
       " Prediction(uid='303', iid='379', r_ui=4.0, est=3.0460719633674893, details={'actual_k': 36, 'was_impossible': False}),\n",
       " Prediction(uid='271', iid='221', r_ui=3.0, est=3.9654924822358075, details={'actual_k': 40, 'was_impossible': False}),\n",
       " Prediction(uid='492', iid='650', r_ui=2.0, est=3.442957195206268, details={'actual_k': 40, 'was_impossible': False}),\n",
       " Prediction(uid='782', iid='1278', r_ui=4.0, est=3.5993451589138172, details={'actual_k': 14, 'was_impossible': False}),\n",
       " Prediction(uid='864', iid='609', r_ui=3.0, est=3.6685204369522473, details={'actual_k': 40, 'was_impossible': False}),\n",
       " Prediction(uid='763', iid='357', r_ui=4.0, est=4.454915350158762, details={'actual_k': 40, 'was_impossible': False}),\n",
       " Prediction(uid='894', iid='45', r_ui=4.0, est=4.0198219317424275, details={'actual_k': 40, 'was_impossible': False}),\n",
       " Prediction(uid='272', iid='201', r_ui=3.0, est=3.7596517565124654, details={'actual_k': 40, 'was_impossible': False}),\n",
       " Prediction(uid='264', iid='275', r_ui=5.0, est=4.178644699862828, details={'actual_k': 40, 'was_impossible': False}),\n",
       " Prediction(uid='286', iid='278', r_ui=5.0, est=3.1857383094190617, details={'actual_k': 40, 'was_impossible': False}),\n",
       " Prediction(uid='190', iid='508', r_ui=3.0, est=3.851056475293872, details={'actual_k': 40, 'was_impossible': False}),\n",
       " Prediction(uid='80', iid='194', r_ui=3.0, est=4.250907603192583, details={'actual_k': 40, 'was_impossible': False}),\n",
       " Prediction(uid='916', iid='222', r_ui=3.0, est=3.477177822508307, details={'actual_k': 40, 'was_impossible': False}),\n",
       " Prediction(uid='532', iid='495', r_ui=4.0, est=3.830178605454999, details={'actual_k': 40, 'was_impossible': False}),\n",
       " Prediction(uid='929', iid='136', r_ui=3.0, est=4.136030753843124, details={'actual_k': 40, 'was_impossible': False}),\n",
       " Prediction(uid='178', iid='731', r_ui=4.0, est=3.131001529905436, details={'actual_k': 31, 'was_impossible': False}),\n",
       " Prediction(uid='327', iid='537', r_ui=4.0, est=3.6217668279081128, details={'actual_k': 26, 'was_impossible': False}),\n",
       " Prediction(uid='591', iid='172', r_ui=3.0, est=4.216086222362909, details={'actual_k': 40, 'was_impossible': False}),\n",
       " Prediction(uid='679', iid='268', r_ui=4.0, est=4.040960928314614, details={'actual_k': 40, 'was_impossible': False}),\n",
       " Prediction(uid='795', iid='429', r_ui=3.0, est=3.9374512954844, details={'actual_k': 40, 'was_impossible': False}),\n",
       " Prediction(uid='234', iid='321', r_ui=2.0, est=3.1232430845072843, details={'actual_k': 40, 'was_impossible': False}),\n",
       " Prediction(uid='698', iid='275', r_ui=4.0, est=4.027308835748115, details={'actual_k': 40, 'was_impossible': False}),\n",
       " Prediction(uid='385', iid='503', r_ui=3.0, est=3.5881942265274294, details={'actual_k': 30, 'was_impossible': False}),\n",
       " Prediction(uid='268', iid='746', r_ui=3.0, est=3.5385458800433214, details={'actual_k': 40, 'was_impossible': False}),\n",
       " Prediction(uid='682', iid='774', r_ui=4.0, est=3.0501757558245743, details={'actual_k': 26, 'was_impossible': False}),\n",
       " Prediction(uid='244', iid='287', r_ui=3.0, est=3.7697930127784955, details={'actual_k': 40, 'was_impossible': False}),\n",
       " Prediction(uid='387', iid='175', r_ui=5.0, est=3.9104434758694424, details={'actual_k': 40, 'was_impossible': False}),\n",
       " Prediction(uid='707', iid='194', r_ui=4.0, est=3.912918418025534, details={'actual_k': 40, 'was_impossible': False}),\n",
       " Prediction(uid='216', iid='189', r_ui=3.0, est=4.069904464803243, details={'actual_k': 40, 'was_impossible': False}),\n",
       " Prediction(uid='524', iid='523', r_ui=4.0, est=4.126943433075725, details={'actual_k': 40, 'was_impossible': False}),\n",
       " Prediction(uid='486', iid='288', r_ui=4.0, est=3.268061339764912, details={'actual_k': 40, 'was_impossible': False}),\n",
       " Prediction(uid='395', iid='252', r_ui=3.0, est=3.150519348198727, details={'actual_k': 40, 'was_impossible': False}),\n",
       " Prediction(uid='620', iid='78', r_ui=4.0, est=2.603854264911391, details={'actual_k': 27, 'was_impossible': False}),\n",
       " Prediction(uid='892', iid='64', r_ui=4.0, est=4.667674592011052, details={'actual_k': 40, 'was_impossible': False}),\n",
       " Prediction(uid='345', iid='241', r_ui=4.0, est=3.8272474407740877, details={'actual_k': 40, 'was_impossible': False}),\n",
       " Prediction(uid='593', iid='597', r_ui=2.0, est=3.146109444552748, details={'actual_k': 40, 'was_impossible': False}),\n",
       " Prediction(uid='895', iid='1', r_ui=4.0, est=3.816845133450535, details={'actual_k': 40, 'was_impossible': False}),\n",
       " Prediction(uid='18', iid='237', r_ui=3.0, est=3.791946489822255, details={'actual_k': 40, 'was_impossible': False}),\n",
       " Prediction(uid='60', iid='151', r_ui=5.0, est=3.584748118509966, details={'actual_k': 40, 'was_impossible': False}),\n",
       " Prediction(uid='417', iid='39', r_ui=3.0, est=3.1340976520620227, details={'actual_k': 40, 'was_impossible': False}),\n",
       " Prediction(uid='823', iid='721', r_ui=4.0, est=3.478822191914948, details={'actual_k': 40, 'was_impossible': False}),\n",
       " Prediction(uid='286', iid='231', r_ui=3.0, est=2.8082874882630864, details={'actual_k': 40, 'was_impossible': False}),\n",
       " Prediction(uid='389', iid='47', r_ui=4.0, est=3.736031326846726, details={'actual_k': 40, 'was_impossible': False}),\n",
       " Prediction(uid='298', iid='1142', r_ui=4.0, est=4.144768031733847, details={'actual_k': 34, 'was_impossible': False}),\n",
       " Prediction(uid='216', iid='200', r_ui=5.0, est=3.790334645419582, details={'actual_k': 40, 'was_impossible': False}),\n",
       " Prediction(uid='236', iid='204', r_ui=3.0, est=3.548429987245767, details={'actual_k': 40, 'was_impossible': False}),\n",
       " Prediction(uid='393', iid='808', r_ui=4.0, est=2.874411631740359, details={'actual_k': 26, 'was_impossible': False}),\n",
       " Prediction(uid='704', iid='354', r_ui=4.0, est=3.531266889138695, details={'actual_k': 40, 'was_impossible': False}),\n",
       " Prediction(uid='416', iid='1189', r_ui=5.0, est=4.999999999999999, details={'actual_k': 2, 'was_impossible': False}),\n",
       " Prediction(uid='349', iid='696', r_ui=3.0, est=3.110817985235987, details={'actual_k': 40, 'was_impossible': False}),\n",
       " Prediction(uid='90', iid='174', r_ui=5.0, est=4.585785019153345, details={'actual_k': 40, 'was_impossible': False}),\n",
       " Prediction(uid='828', iid='1466', r_ui=4.0, est=4.2654944705227145, details={'actual_k': 3, 'was_impossible': False}),\n",
       " Prediction(uid='286', iid='1239', r_ui=3.0, est=2.426675967568853, details={'actual_k': 14, 'was_impossible': False}),\n",
       " Prediction(uid='279', iid='275', r_ui=3.0, est=3.970470273496543, details={'actual_k': 40, 'was_impossible': False}),\n",
       " Prediction(uid='451', iid='322', r_ui=4.0, est=3.2502521188400935, details={'actual_k': 40, 'was_impossible': False}),\n",
       " Prediction(uid='405', iid='959', r_ui=1.0, est=3.404039143560587, details={'actual_k': 40, 'was_impossible': False}),\n",
       " Prediction(uid='718', iid='815', r_ui=4.0, est=3.2479828963636717, details={'actual_k': 40, 'was_impossible': False}),\n",
       " Prediction(uid='321', iid='116', r_ui=3.0, est=3.7060540183783792, details={'actual_k': 40, 'was_impossible': False}),\n",
       " Prediction(uid='334', iid='134', r_ui=5.0, est=4.456791218748179, details={'actual_k': 40, 'was_impossible': False}),\n",
       " Prediction(uid='522', iid='12', r_ui=5.0, est=4.629672192546163, details={'actual_k': 40, 'was_impossible': False}),\n",
       " Prediction(uid='889', iid='469', r_ui=4.0, est=3.8766847871149035, details={'actual_k': 40, 'was_impossible': False}),\n",
       " Prediction(uid='930', iid='282', r_ui=4.0, est=3.6572729685160503, details={'actual_k': 40, 'was_impossible': False}),\n",
       " Prediction(uid='215', iid='210', r_ui=4.0, est=3.9890064636597766, details={'actual_k': 40, 'was_impossible': False}),\n",
       " Prediction(uid='716', iid='603', r_ui=5.0, est=4.428339936694575, details={'actual_k': 40, 'was_impossible': False}),\n",
       " Prediction(uid='326', iid='568', r_ui=4.0, est=3.539001266672997, details={'actual_k': 40, 'was_impossible': False}),\n",
       " Prediction(uid='919', iid='287', r_ui=4.0, est=3.7360605139950698, details={'actual_k': 40, 'was_impossible': False}),\n",
       " Prediction(uid='344', iid='25', r_ui=4.0, est=3.618210817505079, details={'actual_k': 40, 'was_impossible': False}),\n",
       " Prediction(uid='862', iid='650', r_ui=4.0, est=3.7005791450466776, details={'actual_k': 40, 'was_impossible': False}),\n",
       " Prediction(uid='153', iid='357', r_ui=5.0, est=4.118104382373362, details={'actual_k': 40, 'was_impossible': False}),\n",
       " Prediction(uid='627', iid='521', r_ui=2.0, est=4.082615697173269, details={'actual_k': 40, 'was_impossible': False}),\n",
       " Prediction(uid='901', iid='1120', r_ui=4.0, est=2.9410808487004996, details={'actual_k': 14, 'was_impossible': False}),\n",
       " Prediction(uid='868', iid='470', r_ui=1.0, est=3.4655586231327087, details={'actual_k': 40, 'was_impossible': False}),\n",
       " Prediction(uid='267', iid='47', r_ui=5.0, est=3.864547333233336, details={'actual_k': 40, 'was_impossible': False}),\n",
       " Prediction(uid='361', iid='166', r_ui=4.0, est=4.108214091099681, details={'actual_k': 40, 'was_impossible': False}),\n",
       " Prediction(uid='417', iid='217', r_ui=4.0, est=3.3449184920685098, details={'actual_k': 40, 'was_impossible': False}),\n",
       " Prediction(uid='459', iid='546', r_ui=1.0, est=3.3378946780165797, details={'actual_k': 40, 'was_impossible': False}),\n",
       " Prediction(uid='152', iid='22', r_ui=5.0, est=4.656867875592737, details={'actual_k': 40, 'was_impossible': False}),\n",
       " Prediction(uid='625', iid='188', r_ui=4.0, est=3.5586117051810606, details={'actual_k': 40, 'was_impossible': False}),\n",
       " Prediction(uid='401', iid='294', r_ui=1.0, est=3.2443320179789645, details={'actual_k': 40, 'was_impossible': False}),\n",
       " Prediction(uid='160', iid='79', r_ui=4.0, est=4.124201816994211, details={'actual_k': 40, 'was_impossible': False}),\n",
       " Prediction(uid='910', iid='100', r_ui=4.0, est=4.180528470360928, details={'actual_k': 40, 'was_impossible': False}),\n",
       " Prediction(uid='179', iid='905', r_ui=4.0, est=3.4003999320760157, details={'actual_k': 19, 'was_impossible': False}),\n",
       " Prediction(uid='379', iid='502', r_ui=5.0, est=3.791294716281165, details={'actual_k': 40, 'was_impossible': False}),\n",
       " Prediction(uid='796', iid='371', r_ui=5.0, est=3.3378065549249225, details={'actual_k': 40, 'was_impossible': False}),\n",
       " Prediction(uid='653', iid='163', r_ui=4.0, est=3.395929512404274, details={'actual_k': 40, 'was_impossible': False}),\n",
       " Prediction(uid='746', iid='208', r_ui=4.0, est=3.8334160614529718, details={'actual_k': 40, 'was_impossible': False}),\n",
       " Prediction(uid='45', iid='284', r_ui=4.0, est=3.3346497509296937, details={'actual_k': 40, 'was_impossible': False}),\n",
       " Prediction(uid='766', iid='526', r_ui=2.0, est=3.878115280050683, details={'actual_k': 40, 'was_impossible': False}),\n",
       " Prediction(uid='303', iid='578', r_ui=2.0, est=3.1380140068509297, details={'actual_k': 40, 'was_impossible': False}),\n",
       " Prediction(uid='898', iid='309', r_ui=5.0, est=2.4844360745661263, details={'actual_k': 23, 'was_impossible': False}),\n",
       " Prediction(uid='593', iid='866', r_ui=5.0, est=3.3844655976067926, details={'actual_k': 40, 'was_impossible': False}),\n",
       " Prediction(uid='643', iid='144', r_ui=4.0, est=3.9392388677142707, details={'actual_k': 40, 'was_impossible': False}),\n",
       " Prediction(uid='270', iid='747', r_ui=5.0, est=3.6492783541919525, details={'actual_k': 40, 'was_impossible': False}),\n",
       " Prediction(uid='474', iid='23', r_ui=4.0, est=4.368991292489919, details={'actual_k': 40, 'was_impossible': False}),\n",
       " Prediction(uid='121', iid='237', r_ui=5.0, est=3.5479886327909087, details={'actual_k': 40, 'was_impossible': False}),\n",
       " Prediction(uid='479', iid='474', r_ui=5.0, est=4.0857082439860015, details={'actual_k': 40, 'was_impossible': False}),\n",
       " Prediction(uid='532', iid='771', r_ui=3.0, est=2.6973549024517696, details={'actual_k': 30, 'was_impossible': False}),\n",
       " Prediction(uid='121', iid='313', r_ui=5.0, est=4.207435057515043, details={'actual_k': 40, 'was_impossible': False}),\n",
       " Prediction(uid='912', iid='268', r_ui=2.0, est=3.322994094138355, details={'actual_k': 40, 'was_impossible': False}),\n",
       " Prediction(uid='764', iid='673', r_ui=4.0, est=3.8372205080564497, details={'actual_k': 40, 'was_impossible': False}),\n",
       " Prediction(uid='387', iid='1537', r_ui=4.0, est=3.503630826891543, details={'actual_k': 2, 'was_impossible': False}),\n",
       " Prediction(uid='34', iid='288', r_ui=2.0, est=3.289240262244503, details={'actual_k': 40, 'was_impossible': False}),\n",
       " Prediction(uid='344', iid='118', r_ui=3.0, est=3.0673526249777736, details={'actual_k': 40, 'was_impossible': False}),\n",
       " Prediction(uid='482', iid='127', r_ui=4.0, est=4.242666903606296, details={'actual_k': 40, 'was_impossible': False}),\n",
       " Prediction(uid='456', iid='697', r_ui=4.0, est=3.4675932723490126, details={'actual_k': 33, 'was_impossible': False}),\n",
       " Prediction(uid='260', iid='748', r_ui=4.0, est=2.9304452557491802, details={'actual_k': 40, 'was_impossible': False}),\n",
       " Prediction(uid='305', iid='135', r_ui=3.0, est=3.7293177112085307, details={'actual_k': 40, 'was_impossible': False}),\n",
       " Prediction(uid='457', iid='114', r_ui=5.0, est=4.459531677331981, details={'actual_k': 40, 'was_impossible': False}),\n",
       " Prediction(uid='339', iid='161', r_ui=3.0, est=3.3673311023562653, details={'actual_k': 40, 'was_impossible': False}),\n",
       " Prediction(uid='18', iid='702', r_ui=3.0, est=3.0812053945517435, details={'actual_k': 40, 'was_impossible': False}),\n",
       " Prediction(uid='918', iid='190', r_ui=5.0, est=4.232488414461165, details={'actual_k': 40, 'was_impossible': False}),\n",
       " Prediction(uid='614', iid='14', r_ui=3.0, est=3.9264415884476556, details={'actual_k': 40, 'was_impossible': False}),\n",
       " Prediction(uid='470', iid='7', r_ui=3.0, est=3.7212313831579773, details={'actual_k': 40, 'was_impossible': False}),\n",
       " Prediction(uid='93', iid='934', r_ui=3.0, est=3.131196245296555, details={'actual_k': 40, 'was_impossible': False}),\n",
       " Prediction(uid='407', iid='151', r_ui=4.0, est=3.7529944336642065, details={'actual_k': 40, 'was_impossible': False}),\n",
       " Prediction(uid='466', iid='173', r_ui=3.0, est=4.236383701254723, details={'actual_k': 40, 'was_impossible': False}),\n",
       " Prediction(uid='279', iid='824', r_ui=4.0, est=2.809437554889529, details={'actual_k': 40, 'was_impossible': False}),\n",
       " Prediction(uid='401', iid='185', r_ui=4.0, est=3.976970691250856, details={'actual_k': 40, 'was_impossible': False}),\n",
       " Prediction(uid='779', iid='118', r_ui=5.0, est=3.3723615447525312, details={'actual_k': 40, 'was_impossible': False}),\n",
       " Prediction(uid='184', iid='629', r_ui=3.0, est=3.417831762532395, details={'actual_k': 40, 'was_impossible': False}),\n",
       " Prediction(uid='102', iid='118', r_ui=3.0, est=3.149062691213905, details={'actual_k': 40, 'was_impossible': False}),\n",
       " Prediction(uid='313', iid='636', r_ui=4.0, est=3.3130271125064414, details={'actual_k': 40, 'was_impossible': False}),\n",
       " Prediction(uid='232', iid='166', r_ui=4.0, est=4.065913615760131, details={'actual_k': 40, 'was_impossible': False}),\n",
       " Prediction(uid='370', iid='427', r_ui=5.0, est=4.486528369512012, details={'actual_k': 40, 'was_impossible': False}),\n",
       " Prediction(uid='320', iid='22', r_ui=5.0, est=4.500259402314273, details={'actual_k': 40, 'was_impossible': False}),\n",
       " Prediction(uid='299', iid='1021', r_ui=3.0, est=3.806881384985427, details={'actual_k': 31, 'was_impossible': False}),\n",
       " Prediction(uid='786', iid='230', r_ui=4.0, est=3.696584005360045, details={'actual_k': 40, 'was_impossible': False}),\n",
       " Prediction(uid='867', iid='222', r_ui=4.0, est=3.7000415644314444, details={'actual_k': 40, 'was_impossible': False}),\n",
       " Prediction(uid='472', iid='386', r_ui=5.0, est=2.862247341874259, details={'actual_k': 40, 'was_impossible': False}),\n",
       " Prediction(uid='826', iid='313', r_ui=5.0, est=4.230614425679756, details={'actual_k': 40, 'was_impossible': False}),\n",
       " Prediction(uid='893', iid='412', r_ui=3.0, est=2.2736578275685284, details={'actual_k': 40, 'was_impossible': False}),\n",
       " Prediction(uid='757', iid='570', r_ui=3.0, est=3.227191523767685, details={'actual_k': 36, 'was_impossible': False}),\n",
       " Prediction(uid='709', iid='431', r_ui=5.0, est=3.57961932584759, details={'actual_k': 40, 'was_impossible': False}),\n",
       " Prediction(uid='705', iid='423', r_ui=2.0, est=3.8822542572909344, details={'actual_k': 40, 'was_impossible': False}),\n",
       " Prediction(uid='425', iid='187', r_ui=3.0, est=4.392866783855265, details={'actual_k': 40, 'was_impossible': False}),\n",
       " Prediction(uid='268', iid='325', r_ui=3.0, est=2.8514474101259424, details={'actual_k': 40, 'was_impossible': False}),\n",
       " Prediction(uid='215', iid='474', r_ui=4.0, est=4.167319612611082, details={'actual_k': 40, 'was_impossible': False}),\n",
       " Prediction(uid='9', iid='340', r_ui=4.0, est=3.706976041115561, details={'actual_k': 40, 'was_impossible': False}),\n",
       " Prediction(uid='770', iid='742', r_ui=4.0, est=3.8520207851716313, details={'actual_k': 40, 'was_impossible': False}),\n",
       " Prediction(uid='762', iid='749', r_ui=1.0, est=3.1434617601973454, details={'actual_k': 39, 'was_impossible': False}),\n",
       " Prediction(uid='437', iid='248', r_ui=2.0, est=3.6277169456251164, details={'actual_k': 40, 'was_impossible': False}),\n",
       " Prediction(uid='13', iid='88', r_ui=4.0, est=3.5246476614215676, details={'actual_k': 40, 'was_impossible': False}),\n",
       " Prediction(uid='373', iid='196', r_ui=5.0, est=4.227447316767323, details={'actual_k': 40, 'was_impossible': False}),\n",
       " Prediction(uid='429', iid='45', r_ui=3.0, est=4.193225190064558, details={'actual_k': 40, 'was_impossible': False}),\n",
       " Prediction(uid='560', iid='7', r_ui=3.0, est=3.6633690349648336, details={'actual_k': 40, 'was_impossible': False}),\n",
       " Prediction(uid='123', iid='127', r_ui=5.0, est=4.3719470486904415, details={'actual_k': 40, 'was_impossible': False}),\n",
       " Prediction(uid='405', iid='226', r_ui=2.0, est=3.043321817632271, details={'actual_k': 40, 'was_impossible': False}),\n",
       " Prediction(uid='756', iid='742', r_ui=3.0, est=3.6841065677268796, details={'actual_k': 40, 'was_impossible': False}),\n",
       " Prediction(uid='276', iid='665', r_ui=3.0, est=3.009176192412498, details={'actual_k': 40, 'was_impossible': False}),\n",
       " Prediction(uid='63', iid='25', r_ui=4.0, est=3.350198100379277, details={'actual_k': 40, 'was_impossible': False}),\n",
       " Prediction(uid='884', iid='198', r_ui=5.0, est=4.116288666142796, details={'actual_k': 40, 'was_impossible': False}),\n",
       " Prediction(uid='653', iid='50', r_ui=5.0, est=4.36798457835078, details={'actual_k': 40, 'was_impossible': False}),\n",
       " Prediction(uid='677', iid='288', r_ui=5.0, est=3.5003202709622596, details={'actual_k': 40, 'was_impossible': False}),\n",
       " Prediction(uid='561', iid='513', r_ui=3.0, est=4.538126744484539, details={'actual_k': 40, 'was_impossible': False}),\n",
       " Prediction(uid='213', iid='294', r_ui=3.0, est=3.451196107267356, details={'actual_k': 40, 'was_impossible': False}),\n",
       " Prediction(uid='188', iid='288', r_ui=4.0, est=3.1278179803767134, details={'actual_k': 40, 'was_impossible': False}),\n",
       " Prediction(uid='634', iid='866', r_ui=3.0, est=3.365442417590765, details={'actual_k': 40, 'was_impossible': False}),\n",
       " Prediction(uid='896', iid='655', r_ui=4.0, est=3.7255801039186367, details={'actual_k': 40, 'was_impossible': False}),\n",
       " Prediction(uid='653', iid='223', r_ui=3.0, est=3.780279774639442, details={'actual_k': 40, 'was_impossible': False}),\n",
       " Prediction(uid='817', iid='327', r_ui=4.0, est=3.512526833642288, details={'actual_k': 40, 'was_impossible': False}),\n",
       " Prediction(uid='585', iid='855', r_ui=3.0, est=3.8880905553126115, details={'actual_k': 40, 'was_impossible': False}),\n",
       " Prediction(uid='782', iid='908', r_ui=3.0, est=2.3768292813271383, details={'actual_k': 15, 'was_impossible': False}),\n",
       " Prediction(uid='758', iid='234', r_ui=4.0, est=4.1371675610851515, details={'actual_k': 40, 'was_impossible': False}),\n",
       " Prediction(uid='295', iid='1459', r_ui=5.0, est=3.474420334378941, details={'actual_k': 4, 'was_impossible': False}),\n",
       " Prediction(uid='655', iid='262', r_ui=5.0, est=3.8275956509159923, details={'actual_k': 40, 'was_impossible': False}),\n",
       " Prediction(uid='709', iid='227', r_ui=2.0, est=3.385197855504854, details={'actual_k': 40, 'was_impossible': False}),\n",
       " Prediction(uid='64', iid='64', r_ui=4.0, est=4.4954857093471485, details={'actual_k': 40, 'was_impossible': False}),\n",
       " Prediction(uid='201', iid='289', r_ui=2.0, est=2.7647495235363793, details={'actual_k': 40, 'was_impossible': False}),\n",
       " Prediction(uid='291', iid='79', r_ui=5.0, est=4.267941624283438, details={'actual_k': 40, 'was_impossible': False}),\n",
       " Prediction(uid='452', iid='94', r_ui=1.0, est=3.1156204433478507, details={'actual_k': 40, 'was_impossible': False}),\n",
       " Prediction(uid='474', iid='651', r_ui=5.0, est=4.41592051770155, details={'actual_k': 40, 'was_impossible': False}),\n",
       " Prediction(uid='234', iid='1172', r_ui=3.0, est=3.574113137867344, details={'actual_k': 12, 'was_impossible': False}),\n",
       " Prediction(uid='458', iid='275', r_ui=5.0, est=4.1382627005468855, details={'actual_k': 40, 'was_impossible': False}),\n",
       " Prediction(uid='927', iid='552', r_ui=4.0, est=2.976937957880901, details={'actual_k': 36, 'was_impossible': False}),\n",
       " Prediction(uid='321', iid='1050', r_ui=3.0, est=3.6537396918995544, details={'actual_k': 31, 'was_impossible': False}),\n",
       " Prediction(uid='113', iid='303', r_ui=5.0, est=3.72681506955043, details={'actual_k': 40, 'was_impossible': False}),\n",
       " Prediction(uid='706', iid='323', r_ui=4.0, est=3.1973633119439273, details={'actual_k': 40, 'was_impossible': False}),\n",
       " Prediction(uid='92', iid='527', r_ui=3.0, est=4.121813142257116, details={'actual_k': 40, 'was_impossible': False}),\n",
       " Prediction(uid='83', iid='233', r_ui=4.0, est=3.4746793076509284, details={'actual_k': 40, 'was_impossible': False}),\n",
       " Prediction(uid='747', iid='419', r_ui=5.0, est=3.8795104088358263, details={'actual_k': 40, 'was_impossible': False}),\n",
       " Prediction(uid='234', iid='172', r_ui=3.0, est=3.9680145501727306, details={'actual_k': 40, 'was_impossible': False}),\n",
       " Prediction(uid='868', iid='568', r_ui=1.0, est=3.2179659163463192, details={'actual_k': 40, 'was_impossible': False}),\n",
       " Prediction(uid='372', iid='443', r_ui=4.0, est=4.020976048607543, details={'actual_k': 40, 'was_impossible': False}),\n",
       " Prediction(uid='95', iid='716', r_ui=3.0, est=3.0789018547355687, details={'actual_k': 40, 'was_impossible': False}),\n",
       " Prediction(uid='97', iid='1', r_ui=4.0, est=3.7924125463927125, details={'actual_k': 40, 'was_impossible': False}),\n",
       " Prediction(uid='758', iid='1052', r_ui=5.0, est=2.1413153411323416, details={'actual_k': 22, 'was_impossible': False}),\n",
       " Prediction(uid='897', iid='443', r_ui=5.0, est=3.993344781684293, details={'actual_k': 40, 'was_impossible': False}),\n",
       " Prediction(uid='320', iid='1011', r_ui=3.0, est=3.404108276862714, details={'actual_k': 40, 'was_impossible': False}),\n",
       " Prediction(uid='279', iid='169', r_ui=5.0, est=4.375984666230026, details={'actual_k': 40, 'was_impossible': False}),\n",
       " Prediction(uid='291', iid='1012', r_ui=4.0, est=3.75104981213837, details={'actual_k': 40, 'was_impossible': False}),\n",
       " Prediction(uid='49', iid='10', r_ui=3.0, est=3.7466135558725524, details={'actual_k': 40, 'was_impossible': False}),\n",
       " Prediction(uid='738', iid='89', r_ui=5.0, est=4.114365007334138, details={'actual_k': 40, 'was_impossible': False}),\n",
       " Prediction(uid='711', iid='403', r_ui=4.0, est=3.425377829196216, details={'actual_k': 40, 'was_impossible': False}),\n",
       " Prediction(uid='524', iid='508', r_ui=5.0, est=3.848358906374185, details={'actual_k': 40, 'was_impossible': False}),\n",
       " Prediction(uid='521', iid='651', r_ui=3.0, est=3.683999428818535, details={'actual_k': 40, 'was_impossible': False}),\n",
       " Prediction(uid='633', iid='581', r_ui=3.0, est=3.0345945283233373, details={'actual_k': 40, 'was_impossible': False}),\n",
       " Prediction(uid='574', iid='213', r_ui=4.0, est=4.009630300257591, details={'actual_k': 40, 'was_impossible': False}),\n",
       " Prediction(uid='878', iid='269', r_ui=4.0, est=4.023280256636284, details={'actual_k': 40, 'was_impossible': False}),\n",
       " Prediction(uid='727', iid='38', r_ui=1.0, est=2.7986682400613576, details={'actual_k': 40, 'was_impossible': False}),\n",
       " Prediction(uid='610', iid='318', r_ui=5.0, est=4.59710049806367, details={'actual_k': 40, 'was_impossible': False}),\n",
       " Prediction(uid='592', iid='461', r_ui=4.0, est=3.7201071937521157, details={'actual_k': 40, 'was_impossible': False}),\n",
       " Prediction(uid='562', iid='684', r_ui=4.0, est=3.6201605763715246, details={'actual_k': 40, 'was_impossible': False}),\n",
       " Prediction(uid='407', iid='8', r_ui=5.0, est=3.998854059531089, details={'actual_k': 40, 'was_impossible': False}),\n",
       " Prediction(uid='938', iid='756', r_ui=3.0, est=2.904261502474731, details={'actual_k': 40, 'was_impossible': False}),\n",
       " Prediction(uid='671', iid='327', r_ui=1.0, est=3.3961221653631273, details={'actual_k': 40, 'was_impossible': False}),\n",
       " Prediction(uid='731', iid='487', r_ui=4.0, est=3.936905986245199, details={'actual_k': 40, 'was_impossible': False}),\n",
       " Prediction(uid='933', iid='227', r_ui=1.0, est=2.8672647386725525, details={'actual_k': 40, 'was_impossible': False}),\n",
       " Prediction(uid='805', iid='475', r_ui=5.0, est=4.102174354469599, details={'actual_k': 40, 'was_impossible': False}),\n",
       " Prediction(uid='592', iid='345', r_ui=4.0, est=3.4486467661373106, details={'actual_k': 40, 'was_impossible': False}),\n",
       " Prediction(uid='389', iid='503', r_ui=3.0, est=3.6118027827250305, details={'actual_k': 30, 'was_impossible': False}),\n",
       " Prediction(uid='487', iid='92', r_ui=4.0, est=3.5553269064755337, details={'actual_k': 40, 'was_impossible': False}),\n",
       " Prediction(uid='932', iid='235', r_ui=2.0, est=3.0915206899455554, details={'actual_k': 40, 'was_impossible': False}),\n",
       " Prediction(uid='580', iid='1028', r_ui=3.0, est=3.160882548913553, details={'actual_k': 40, 'was_impossible': False}),\n",
       " Prediction(uid='761', iid='1277', r_ui=1.0, est=3.583496288951571, details={'actual_k': 15, 'was_impossible': False}),\n",
       " Prediction(uid='386', iid='181', r_ui=3.0, est=4.095638651671793, details={'actual_k': 40, 'was_impossible': False}),\n",
       " Prediction(uid='145', iid='155', r_ui=2.0, est=3.0533081536262663, details={'actual_k': 40, 'was_impossible': False}),\n",
       " Prediction(uid='181', iid='148', r_ui=2.0, est=3.0697508542811858, details={'actual_k': 40, 'was_impossible': False}),\n",
       " Prediction(uid='618', iid='68', r_ui=3.0, est=3.5584188864258834, details={'actual_k': 40, 'was_impossible': False}),\n",
       " Prediction(uid='18', iid='474', r_ui=4.0, est=4.389011901124066, details={'actual_k': 40, 'was_impossible': False}),\n",
       " Prediction(uid='672', iid='1190', r_ui=2.0, est=3.2712082512599014, details={'actual_k': 8, 'was_impossible': False}),\n",
       " Prediction(uid='399', iid='622', r_ui=4.0, est=3.2841088667845337, details={'actual_k': 31, 'was_impossible': False}),\n",
       " Prediction(uid='446', iid='302', r_ui=4.0, est=4.141798639946958, details={'actual_k': 40, 'was_impossible': False}),\n",
       " Prediction(uid='848', iid='511', r_ui=4.0, est=4.576104421567649, details={'actual_k': 40, 'was_impossible': False}),\n",
       " Prediction(uid='144', iid='262', r_ui=3.0, est=3.822919239915432, details={'actual_k': 40, 'was_impossible': False}),\n",
       " Prediction(uid='660', iid='99', r_ui=2.0, est=3.37127583899075, details={'actual_k': 40, 'was_impossible': False}),\n",
       " Prediction(uid='892', iid='1091', r_ui=2.0, est=2.8191584040054547, details={'actual_k': 37, 'was_impossible': False}),\n",
       " Prediction(uid='303', iid='164', r_ui=4.0, est=3.6893198225471555, details={'actual_k': 40, 'was_impossible': False}),\n",
       " Prediction(uid='417', iid='1210', r_ui=2.0, est=2.9736704484656817, details={'actual_k': 28, 'was_impossible': False}),\n",
       " Prediction(uid='421', iid='234', r_ui=5.0, est=3.9833520559654887, details={'actual_k': 40, 'was_impossible': False}),\n",
       " Prediction(uid='524', iid='382', r_ui=3.0, est=3.5916047661287793, details={'actual_k': 40, 'was_impossible': False}),\n",
       " Prediction(uid='290', iid='1091', r_ui=2.0, est=2.7137533138175365, details={'actual_k': 37, 'was_impossible': False}),\n",
       " Prediction(uid='18', iid='8', r_ui=5.0, est=4.104375117773622, details={'actual_k': 40, 'was_impossible': False}),\n",
       " Prediction(uid='311', iid='785', r_ui=3.0, est=3.4049658726873977, details={'actual_k': 31, 'was_impossible': False}),\n",
       " Prediction(uid='727', iid='202', r_ui=4.0, est=3.795146011444512, details={'actual_k': 40, 'was_impossible': False}),\n",
       " Prediction(uid='804', iid='615', r_ui=5.0, est=4.168579496480794, details={'actual_k': 40, 'was_impossible': False}),\n",
       " Prediction(uid='579', iid='186', r_ui=3.0, est=3.9319971727932757, details={'actual_k': 40, 'was_impossible': False}),\n",
       " Prediction(uid='303', iid='1044', r_ui=3.0, est=3.2910353288067764, details={'actual_k': 31, 'was_impossible': False}),\n",
       " Prediction(uid='161', iid='204', r_ui=2.0, est=3.428530284752748, details={'actual_k': 40, 'was_impossible': False}),\n",
       " Prediction(uid='320', iid='24', r_ui=3.0, est=3.516956970530616, details={'actual_k': 40, 'was_impossible': False}),\n",
       " Prediction(uid='562', iid='806', r_ui=1.0, est=3.498603563934503, details={'actual_k': 39, 'was_impossible': False}),\n",
       " Prediction(uid='10', iid='558', r_ui=4.0, est=3.856683883386768, details={'actual_k': 40, 'was_impossible': False}),\n",
       " Prediction(uid='881', iid='49', r_ui=5.0, est=3.4159906834788316, details={'actual_k': 40, 'was_impossible': False}),\n",
       " Prediction(uid='738', iid='174', r_ui=5.0, est=4.522456264496861, details={'actual_k': 40, 'was_impossible': False}),\n",
       " Prediction(uid='786', iid='684', r_ui=4.0, est=3.9775442338886413, details={'actual_k': 40, 'was_impossible': False}),\n",
       " Prediction(uid='23', iid='283', r_ui=4.0, est=3.7230586568335364, details={'actual_k': 40, 'was_impossible': False}),\n",
       " Prediction(uid='545', iid='393', r_ui=4.0, est=3.5050449276515874, details={'actual_k': 40, 'was_impossible': False}),\n",
       " Prediction(uid='608', iid='690', r_ui=4.0, est=3.2904382486528774, details={'actual_k': 40, 'was_impossible': False}),\n",
       " Prediction(uid='608', iid='333', r_ui=4.0, est=3.7506894330054434, details={'actual_k': 40, 'was_impossible': False}),\n",
       " Prediction(uid='194', iid='79', r_ui=3.0, est=3.7796796748425416, details={'actual_k': 40, 'was_impossible': False}),\n",
       " Prediction(uid='339', iid='53', r_ui=4.0, est=3.4371105029895626, details={'actual_k': 40, 'was_impossible': False}),\n",
       " Prediction(uid='162', iid='179', r_ui=3.0, est=3.400305890563825, details={'actual_k': 40, 'was_impossible': False}),\n",
       " Prediction(uid='650', iid='117', r_ui=4.0, est=3.3537257242615, details={'actual_k': 40, 'was_impossible': False}),\n",
       " Prediction(uid='442', iid='226', r_ui=3.0, est=3.0439313705045694, details={'actual_k': 40, 'was_impossible': False}),\n",
       " Prediction(uid='867', iid='28', r_ui=5.0, est=3.96931632745309, details={'actual_k': 40, 'was_impossible': False}),\n",
       " Prediction(uid='435', iid='125', r_ui=3.0, est=3.346581472510758, details={'actual_k': 40, 'was_impossible': False}),\n",
       " Prediction(uid='334', iid='19', r_ui=4.0, est=3.9640817149175844, details={'actual_k': 40, 'was_impossible': False}),\n",
       " Prediction(uid='804', iid='210', r_ui=5.0, est=4.052750165853336, details={'actual_k': 40, 'was_impossible': False}),\n",
       " Prediction(uid='849', iid='421', r_ui=5.0, est=3.6454868372026037, details={'actual_k': 40, 'was_impossible': False}),\n",
       " Prediction(uid='543', iid='9', r_ui=4.0, est=4.256326798746574, details={'actual_k': 40, 'was_impossible': False}),\n",
       " Prediction(uid='181', iid='620', r_ui=2.0, est=3.149075760735328, details={'actual_k': 35, 'was_impossible': False}),\n",
       " Prediction(uid='889', iid='11', r_ui=5.0, est=3.7205462718605267, details={'actual_k': 40, 'was_impossible': False}),\n",
       " Prediction(uid='313', iid='231', r_ui=2.0, est=2.6967165529190598, details={'actual_k': 40, 'was_impossible': False}),\n",
       " Prediction(uid='801', iid='752', r_ui=4.0, est=3.538374495283652, details={'actual_k': 30, 'was_impossible': False}),\n",
       " Prediction(uid='59', iid='433', r_ui=5.0, est=4.055236840483055, details={'actual_k': 40, 'was_impossible': False}),\n",
       " Prediction(uid='563', iid='172', r_ui=5.0, est=4.426356670259109, details={'actual_k': 40, 'was_impossible': False}),\n",
       " Prediction(uid='712', iid='462', r_ui=3.0, est=3.7477038219438326, details={'actual_k': 40, 'was_impossible': False}),\n",
       " Prediction(uid='159', iid='126', r_ui=5.0, est=4.031400436414625, details={'actual_k': 40, 'was_impossible': False}),\n",
       " Prediction(uid='508', iid='70', r_ui=4.0, est=3.7464458532464033, details={'actual_k': 40, 'was_impossible': False}),\n",
       " Prediction(uid='653', iid='492', r_ui=4.0, est=3.7499676786540244, details={'actual_k': 40, 'was_impossible': False}),\n",
       " Prediction(uid='407', iid='588', r_ui=4.0, est=3.8462465161949333, details={'actual_k': 40, 'was_impossible': False}),\n",
       " Prediction(uid='293', iid='240', r_ui=2.0, est=2.798155702741668, details={'actual_k': 40, 'was_impossible': False}),\n",
       " Prediction(uid='210', iid='243', r_ui=2.0, est=2.3427865276931885, details={'actual_k': 40, 'was_impossible': False}),\n",
       " Prediction(uid='765', iid='507', r_ui=5.0, est=3.910533896857469, details={'actual_k': 40, 'was_impossible': False}),\n",
       " Prediction(uid='102', iid='1240', r_ui=2.0, est=3.6571982796012557, details={'actual_k': 19, 'was_impossible': False}),\n",
       " Prediction(uid='655', iid='286', r_ui=3.0, est=3.4088505742344637, details={'actual_k': 40, 'was_impossible': False}),\n",
       " Prediction(uid='618', iid='276', r_ui=3.0, est=3.564912281235021, details={'actual_k': 40, 'was_impossible': False}),\n",
       " Prediction(uid='916', iid='474', r_ui=4.0, est=4.344574541691355, details={'actual_k': 40, 'was_impossible': False}),\n",
       " Prediction(uid='943', iid='581', r_ui=4.0, est=3.250246770122288, details={'actual_k': 40, 'was_impossible': False}),\n",
       " Prediction(uid='930', iid='100', r_ui=3.0, est=4.382804944614766, details={'actual_k': 40, 'was_impossible': False}),\n",
       " Prediction(uid='271', iid='509', r_ui=4.0, est=4.100142205050279, details={'actual_k': 40, 'was_impossible': False}),\n",
       " Prediction(uid='301', iid='771', r_ui=2.0, est=2.6168773597352577, details={'actual_k': 30, 'was_impossible': False}),\n",
       " Prediction(uid='7', iid='652', r_ui=3.0, est=3.8325009889782216, details={'actual_k': 40, 'was_impossible': False}),\n",
       " Prediction(uid='561', iid='642', r_ui=3.0, est=3.514149172038033, details={'actual_k': 40, 'was_impossible': False}),\n",
       " Prediction(uid='84', iid='322', r_ui=3.0, est=3.2716323021309335, details={'actual_k': 40, 'was_impossible': False}),\n",
       " Prediction(uid='116', iid='270', r_ui=3.0, est=3.4587787091857187, details={'actual_k': 40, 'was_impossible': False}),\n",
       " Prediction(uid='334', iid='164', r_ui=3.0, est=3.4703060377827253, details={'actual_k': 40, 'was_impossible': False}),\n",
       " Prediction(uid='764', iid='77', r_ui=4.0, est=3.6959430797143877, details={'actual_k': 40, 'was_impossible': False}),\n",
       " Prediction(uid='737', iid='173', r_ui=4.0, est=4.171837223295073, details={'actual_k': 40, 'was_impossible': False}),\n",
       " Prediction(uid='907', iid='173', r_ui=4.0, est=4.159819072521972, details={'actual_k': 40, 'was_impossible': False}),\n",
       " Prediction(uid='805', iid='1033', r_ui=3.0, est=2.406716744413022, details={'actual_k': 24, 'was_impossible': False}),\n",
       " Prediction(uid='141', iid='237', r_ui=4.0, est=4.023696070187254, details={'actual_k': 40, 'was_impossible': False}),\n",
       " Prediction(uid='145', iid='1288', r_ui=4.0, est=2.691107825340515, details={'actual_k': 5, 'was_impossible': False}),\n",
       " Prediction(uid='901', iid='560', r_ui=3.0, est=2.815247349624279, details={'actual_k': 19, 'was_impossible': False}),\n",
       " Prediction(uid='588', iid='172', r_ui=5.0, est=4.394924076540073, details={'actual_k': 40, 'was_impossible': False}),\n",
       " Prediction(uid='62', iid='288', r_ui=2.0, est=3.1156674551958825, details={'actual_k': 40, 'was_impossible': False}),\n",
       " Prediction(uid='62', iid='228', r_ui=3.0, est=3.751357461740634, details={'actual_k': 40, 'was_impossible': False}),\n",
       " Prediction(uid='444', iid='751', r_ui=4.0, est=3.181501919846258, details={'actual_k': 40, 'was_impossible': False}),\n",
       " Prediction(uid='450', iid='82', r_ui=3.0, est=4.042168672765098, details={'actual_k': 40, 'was_impossible': False}),\n",
       " Prediction(uid='389', iid='386', r_ui=3.0, est=2.876004247411182, details={'actual_k': 40, 'was_impossible': False}),\n",
       " Prediction(uid='567', iid='673', r_ui=3.0, est=3.657542867302495, details={'actual_k': 40, 'was_impossible': False}),\n",
       " Prediction(uid='670', iid='232', r_ui=3.0, est=3.303442128817049, details={'actual_k': 40, 'was_impossible': False}),\n",
       " Prediction(uid='756', iid='1074', r_ui=4.0, est=2.9071584300820756, details={'actual_k': 40, 'was_impossible': False}),\n",
       " Prediction(uid='387', iid='1011', r_ui=3.0, est=3.2143479418503746, details={'actual_k': 40, 'was_impossible': False}),\n",
       " Prediction(uid='447', iid='629', r_ui=3.0, est=3.380854697413915, details={'actual_k': 40, 'was_impossible': False}),\n",
       " Prediction(uid='704', iid='519', r_ui=3.0, est=4.1402542793620025, details={'actual_k': 40, 'was_impossible': False}),\n",
       " Prediction(uid='653', iid='517', r_ui=1.0, est=3.6613343695635026, details={'actual_k': 40, 'was_impossible': False}),\n",
       " Prediction(uid='198', iid='381', r_ui=3.0, est=3.545704474263737, details={'actual_k': 40, 'was_impossible': False}),\n",
       " Prediction(uid='899', iid='423', r_ui=4.0, est=4.182674703581364, details={'actual_k': 40, 'was_impossible': False}),\n",
       " Prediction(uid='927', iid='257', r_ui=5.0, est=3.87502354510658, details={'actual_k': 40, 'was_impossible': False}),\n",
       " Prediction(uid='91', iid='326', r_ui=3.0, est=3.508082515621038, details={'actual_k': 40, 'was_impossible': False}),\n",
       " Prediction(uid='244', iid='156', r_ui=4.0, est=4.246667053139319, details={'actual_k': 40, 'was_impossible': False}),\n",
       " Prediction(uid='943', iid='56', r_ui=5.0, est=4.1660307223693005, details={'actual_k': 40, 'was_impossible': False}),\n",
       " Prediction(uid='880', iid='186', r_ui=4.0, est=3.906174298559954, details={'actual_k': 40, 'was_impossible': False}),\n",
       " Prediction(uid='843', iid='392', r_ui=2.0, est=3.513502305388602, details={'actual_k': 40, 'was_impossible': False}),\n",
       " Prediction(uid='339', iid='97', r_ui=4.0, est=3.937467448082835, details={'actual_k': 40, 'was_impossible': False}),\n",
       " Prediction(uid='199', iid='14', r_ui=4.0, est=4.1333193859099415, details={'actual_k': 40, 'was_impossible': False}),\n",
       " Prediction(uid='447', iid='926', r_ui=3.0, est=2.811389970613839, details={'actual_k': 40, 'was_impossible': False}),\n",
       " Prediction(uid='629', iid='234', r_ui=4.0, est=4.133198304795706, details={'actual_k': 40, 'was_impossible': False}),\n",
       " Prediction(uid='694', iid='528', r_ui=3.0, est=4.359410615532237, details={'actual_k': 40, 'was_impossible': False}),\n",
       " Prediction(uid='314', iid='15', r_ui=5.0, est=3.989256182300437, details={'actual_k': 40, 'was_impossible': False}),\n",
       " Prediction(uid='524', iid='116', r_ui=4.0, est=3.8497659037487613, details={'actual_k': 40, 'was_impossible': False}),\n",
       " Prediction(uid='432', iid='295', r_ui=3.0, est=3.6791294570704296, details={'actual_k': 40, 'was_impossible': False}),\n",
       " Prediction(uid='655', iid='340', r_ui=3.0, est=3.388713548983057, details={'actual_k': 40, 'was_impossible': False}),\n",
       " Prediction(uid='334', iid='311', r_ui=4.0, est=3.7752159244228496, details={'actual_k': 40, 'was_impossible': False}),\n",
       " Prediction(uid='747', iid='408', r_ui=5.0, est=4.591574713648569, details={'actual_k': 40, 'was_impossible': False}),\n",
       " Prediction(uid='506', iid='660', r_ui=3.0, est=3.8400735565057253, details={'actual_k': 40, 'was_impossible': False}),\n",
       " Prediction(uid='244', iid='710', r_ui=3.0, est=3.4931379842560877, details={'actual_k': 40, 'was_impossible': False}),\n",
       " Prediction(uid='276', iid='157', r_ui=5.0, est=3.8710143923333247, details={'actual_k': 40, 'was_impossible': False}),\n",
       " Prediction(uid='327', iid='88', r_ui=2.0, est=3.1756050890745304, details={'actual_k': 40, 'was_impossible': False}),\n",
       " Prediction(uid='702', iid='258', r_ui=5.0, est=3.769667855431946, details={'actual_k': 40, 'was_impossible': False}),\n",
       " Prediction(uid='309', iid='324', r_ui=3.0, est=3.2404781942163963, details={'actual_k': 40, 'was_impossible': False}),\n",
       " Prediction(uid='37', iid='62', r_ui=5.0, est=2.9581055619000938, details={'actual_k': 40, 'was_impossible': False}),\n",
       " Prediction(uid='148', iid='172', r_ui=5.0, est=4.492323261591546, details={'actual_k': 40, 'was_impossible': False}),\n",
       " Prediction(uid='417', iid='545', r_ui=1.0, est=1.8359929625182125, details={'actual_k': 7, 'was_impossible': False}),\n",
       " Prediction(uid='650', iid='301', r_ui=2.0, est=3.09871449089277, details={'actual_k': 40, 'was_impossible': False}),\n",
       " Prediction(uid='94', iid='97', r_ui=4.0, est=3.8438726466997397, details={'actual_k': 40, 'was_impossible': False}),\n",
       " Prediction(uid='332', iid='12', r_ui=5.0, est=4.6518288405455674, details={'actual_k': 40, 'was_impossible': False}),\n",
       " Prediction(uid='536', iid='209', r_ui=2.0, est=4.039146176154291, details={'actual_k': 40, 'was_impossible': False}),\n",
       " Prediction(uid='698', iid='220', r_ui=3.0, est=3.3836151518019855, details={'actual_k': 40, 'was_impossible': False}),\n",
       " Prediction(uid='151', iid='100', r_ui=3.0, est=4.215308914086729, details={'actual_k': 40, 'was_impossible': False}),\n",
       " Prediction(uid='70', iid='496', r_ui=4.0, est=4.11263021560011, details={'actual_k': 40, 'was_impossible': False}),\n",
       " Prediction(uid='268', iid='21', r_ui=3.0, est=2.5886457748826293, details={'actual_k': 40, 'was_impossible': False}),\n",
       " Prediction(uid='14', iid='70', r_ui=1.0, est=3.829991114090831, details={'actual_k': 40, 'was_impossible': False}),\n",
       " Prediction(uid='690', iid='239', r_ui=2.0, est=3.5171647537272204, details={'actual_k': 40, 'was_impossible': False}),\n",
       " Prediction(uid='458', iid='589', r_ui=4.0, est=4.151545532667093, details={'actual_k': 31, 'was_impossible': False}),\n",
       " Prediction(uid='7', iid='523', r_ui=4.0, est=4.303150290850766, details={'actual_k': 40, 'was_impossible': False}),\n",
       " Prediction(uid='378', iid='793', r_ui=3.0, est=3.6539381264460387, details={'actual_k': 6, 'was_impossible': False}),\n",
       " Prediction(uid='297', iid='27', r_ui=1.0, est=3.1675309376368066, details={'actual_k': 40, 'was_impossible': False}),\n",
       " Prediction(uid='59', iid='208', r_ui=5.0, est=4.229100227904997, details={'actual_k': 40, 'was_impossible': False}),\n",
       " Prediction(uid='18', iid='116', r_ui=5.0, est=4.080278565383326, details={'actual_k': 40, 'was_impossible': False}),\n",
       " Prediction(uid='495', iid='1118', r_ui=5.0, est=3.3084753304694576, details={'actual_k': 35, 'was_impossible': False}),\n",
       " Prediction(uid='396', iid='245', r_ui=3.0, est=3.3363962745614826, details={'actual_k': 40, 'was_impossible': False}),\n",
       " Prediction(uid='837', iid='277', r_ui=2.0, est=3.5709976681695763, details={'actual_k': 40, 'was_impossible': False}),\n",
       " Prediction(uid='297', iid='102', r_ui=1.0, est=3.2882493896898155, details={'actual_k': 40, 'was_impossible': False}),\n",
       " Prediction(uid='846', iid='55', r_ui=5.0, est=3.9815789945742415, details={'actual_k': 40, 'was_impossible': False}),\n",
       " Prediction(uid='368', iid='441', r_ui=3.0, est=2.642450950766293, details={'actual_k': 40, 'was_impossible': False}),\n",
       " Prediction(uid='643', iid='428', r_ui=4.0, est=3.8287799171499493, details={'actual_k': 40, 'was_impossible': False}),\n",
       " Prediction(uid='62', iid='245', r_ui=2.0, est=3.104095940617954, details={'actual_k': 40, 'was_impossible': False}),\n",
       " Prediction(uid='383', iid='180', r_ui=5.0, est=4.171711007799927, details={'actual_k': 40, 'was_impossible': False}),\n",
       " Prediction(uid='804', iid='1291', r_ui=3.0, est=2.7661457315293463, details={'actual_k': 9, 'was_impossible': False}),\n",
       " Prediction(uid='116', iid='300', r_ui=3.0, est=3.392081381955998, details={'actual_k': 40, 'was_impossible': False}),\n",
       " Prediction(uid='632', iid='176', r_ui=3.0, est=4.263835148041086, details={'actual_k': 40, 'was_impossible': False}),\n",
       " Prediction(uid='76', iid='264', r_ui=3.0, est=2.725216745554727, details={'actual_k': 40, 'was_impossible': False}),\n",
       " Prediction(uid='704', iid='432', r_ui=5.0, est=3.7834020109514643, details={'actual_k': 40, 'was_impossible': False}),\n",
       " Prediction(uid='773', iid='268', r_ui=4.0, est=3.6506343936187986, details={'actual_k': 40, 'was_impossible': False}),\n",
       " Prediction(uid='413', iid='222', r_ui=4.0, est=3.648827409359337, details={'actual_k': 40, 'was_impossible': False}),\n",
       " Prediction(uid='374', iid='69', r_ui=5.0, est=3.9985510224769056, details={'actual_k': 40, 'was_impossible': False}),\n",
       " Prediction(uid='201', iid='210', r_ui=2.0, est=3.5976337452573977, details={'actual_k': 40, 'was_impossible': False}),\n",
       " Prediction(uid='8', iid='172', r_ui=5.0, est=4.599159698945724, details={'actual_k': 40, 'was_impossible': False}),\n",
       " Prediction(uid='327', iid='1012', r_ui=2.0, est=3.48500621128921, details={'actual_k': 40, 'was_impossible': False}),\n",
       " Prediction(uid='326', iid='44', r_ui=1.0, est=3.3915271119575356, details={'actual_k': 40, 'was_impossible': False}),\n",
       " Prediction(uid='496', iid='156', r_ui=3.0, est=4.005085816164616, details={'actual_k': 40, 'was_impossible': False}),\n",
       " Prediction(uid='296', iid='111', r_ui=3.0, est=3.701930622319418, details={'actual_k': 40, 'was_impossible': False}),\n",
       " Prediction(uid='80', iid='260', r_ui=1.0, est=2.6424762520618525, details={'actual_k': 40, 'was_impossible': False}),\n",
       " Prediction(uid='682', iid='809', r_ui=2.0, est=3.0392200696723544, details={'actual_k': 36, 'was_impossible': False}),\n",
       " Prediction(uid='700', iid='98', r_ui=3.0, est=4.078890267471429, details={'actual_k': 40, 'was_impossible': False}),\n",
       " Prediction(uid='293', iid='79', r_ui=3.0, est=3.826675492837813, details={'actual_k': 40, 'was_impossible': False}),\n",
       " Prediction(uid='130', iid='761', r_ui=3.0, est=2.9934273042835584, details={'actual_k': 34, 'was_impossible': False}),\n",
       " Prediction(uid='524', iid='490', r_ui=3.0, est=3.9680803309868473, details={'actual_k': 34, 'was_impossible': False}),\n",
       " Prediction(uid='699', iid='762', r_ui=3.0, est=3.343488293692707, details={'actual_k': 40, 'was_impossible': False}),\n",
       " Prediction(uid='730', iid='685', r_ui=2.0, est=3.2316399792585977, details={'actual_k': 40, 'was_impossible': False}),\n",
       " Prediction(uid='833', iid='144', r_ui=4.0, est=3.496548162213448, details={'actual_k': 40, 'was_impossible': False}),\n",
       " Prediction(uid='777', iid='286', r_ui=2.0, est=3.7548809650168873, details={'actual_k': 40, 'was_impossible': False}),\n",
       " Prediction(uid='311', iid='498', r_ui=4.0, est=4.372868599759358, details={'actual_k': 40, 'was_impossible': False}),\n",
       " Prediction(uid='314', iid='158', r_ui=3.0, est=2.7272786670479574, details={'actual_k': 40, 'was_impossible': False}),\n",
       " Prediction(uid='375', iid='302', r_ui=5.0, est=4.136015452871761, details={'actual_k': 40, 'was_impossible': False}),\n",
       " Prediction(uid='60', iid='498', r_ui=5.0, est=4.458346487491588, details={'actual_k': 40, 'was_impossible': False}),\n",
       " Prediction(uid='579', iid='4', r_ui=2.0, est=3.7088998083333635, details={'actual_k': 40, 'was_impossible': False}),\n",
       " Prediction(uid='537', iid='22', r_ui=2.0, est=3.6686124363079964, details={'actual_k': 40, 'was_impossible': False}),\n",
       " Prediction(uid='377', iid='200', r_ui=5.0, est=3.91407761082831, details={'actual_k': 40, 'was_impossible': False}),\n",
       " Prediction(uid='828', iid='921', r_ui=4.0, est=3.874495052915738, details={'actual_k': 32, 'was_impossible': False}),\n",
       " Prediction(uid='497', iid='139', r_ui=3.0, est=2.950258231674878, details={'actual_k': 40, 'was_impossible': False}),\n",
       " Prediction(uid='591', iid='516', r_ui=3.0, est=4.029360094928935, details={'actual_k': 40, 'was_impossible': False}),\n",
       " Prediction(uid='908', iid='194', r_ui=3.0, est=4.169945366746239, details={'actual_k': 40, 'was_impossible': False}),\n",
       " Prediction(uid='198', iid='153', r_ui=4.0, est=3.5789997602180406, details={'actual_k': 40, 'was_impossible': False}),\n",
       " Prediction(uid='290', iid='683', r_ui=2.0, est=2.5868575181033067, details={'actual_k': 33, 'was_impossible': False}),\n",
       " Prediction(uid='815', iid='87', r_ui=5.0, est=4.112221880301797, details={'actual_k': 40, 'was_impossible': False}),\n",
       " Prediction(uid='59', iid='237', r_ui=3.0, est=3.806142210983951, details={'actual_k': 40, 'was_impossible': False}),\n",
       " Prediction(uid='422', iid='590', r_ui=2.0, est=1.7506554432296801, details={'actual_k': 13, 'was_impossible': False}),\n",
       " Prediction(uid='308', iid='71', r_ui=4.0, est=3.7292964792074534, details={'actual_k': 40, 'was_impossible': False}),\n",
       " Prediction(uid='394', iid='98', r_ui=5.0, est=4.528311250767167, details={'actual_k': 40, 'was_impossible': False}),\n",
       " Prediction(uid='62', iid='98', r_ui=4.0, est=4.409676132523242, details={'actual_k': 40, 'was_impossible': False}),\n",
       " Prediction(uid='829', iid='410', r_ui=3.0, est=3.1739014645298878, details={'actual_k': 40, 'was_impossible': False}),\n",
       " Prediction(uid='544', iid='343', r_ui=2.0, est=2.9230510872006112, details={'actual_k': 40, 'was_impossible': False}),\n",
       " Prediction(uid='617', iid='868', r_ui=4.0, est=3.4436841482183027, details={'actual_k': 3, 'was_impossible': False}),\n",
       " Prediction(uid='56', iid='71', r_ui=4.0, est=3.971340168266098, details={'actual_k': 40, 'was_impossible': False}),\n",
       " Prediction(uid='429', iid='514', r_ui=3.0, est=4.220181081206349, details={'actual_k': 40, 'was_impossible': False}),\n",
       " Prediction(uid='339', iid='1110', r_ui=4.0, est=2.844717656782391, details={'actual_k': 37, 'was_impossible': False}),\n",
       " Prediction(uid='617', iid='669', r_ui=1.0, est=1.7370892536100004, details={'actual_k': 11, 'was_impossible': False}),\n",
       " Prediction(uid='549', iid='1047', r_ui=3.0, est=3.064032616821445, details={'actual_k': 40, 'was_impossible': False}),\n",
       " Prediction(uid='647', iid='255', r_ui=4.0, est=3.254870728698311, details={'actual_k': 40, 'was_impossible': False}),\n",
       " Prediction(uid='222', iid='1206', r_ui=2.0, est=2.6795728375697916, details={'actual_k': 16, 'was_impossible': False}),\n",
       " Prediction(uid='363', iid='739', r_ui=3.0, est=2.9936047957010254, details={'actual_k': 40, 'was_impossible': False}),\n",
       " Prediction(uid='291', iid='184', r_ui=4.0, est=3.7996101958975466, details={'actual_k': 40, 'was_impossible': False}),\n",
       " Prediction(uid='301', iid='271', r_ui=4.0, est=3.3896383527647145, details={'actual_k': 40, 'was_impossible': False}),\n",
       " Prediction(uid='118', iid='188', r_ui=5.0, est=4.038056974294476, details={'actual_k': 40, 'was_impossible': False}),\n",
       " Prediction(uid='757', iid='1188', r_ui=3.0, est=2.773238156258572, details={'actual_k': 37, 'was_impossible': False}),\n",
       " Prediction(uid='891', iid='280', r_ui=3.0, est=3.420825417164447, details={'actual_k': 40, 'was_impossible': False}),\n",
       " Prediction(uid='565', iid='165', r_ui=4.0, est=4.310044731177381, details={'actual_k': 40, 'was_impossible': False}),\n",
       " Prediction(uid='308', iid='81', r_ui=5.0, est=3.9060121106274703, details={'actual_k': 40, 'was_impossible': False}),\n",
       " Prediction(uid='530', iid='470', r_ui=3.0, est=4.020572322910911, details={'actual_k': 40, 'was_impossible': False}),\n",
       " Prediction(uid='243', iid='93', r_ui=2.0, est=3.785732195532086, details={'actual_k': 40, 'was_impossible': False}),\n",
       " Prediction(uid='59', iid='371', r_ui=4.0, est=3.3146918397053415, details={'actual_k': 40, 'was_impossible': False}),\n",
       " Prediction(uid='664', iid='1098', r_ui=3.0, est=3.622815856752169, details={'actual_k': 38, 'was_impossible': False}),\n",
       " Prediction(uid='26', iid='760', r_ui=1.0, est=2.6968525129887446, details={'actual_k': 35, 'was_impossible': False}),\n",
       " Prediction(uid='830', iid='211', r_ui=4.0, est=4.238969698956166, details={'actual_k': 40, 'was_impossible': False}),\n",
       " Prediction(uid='900', iid='9', r_ui=2.0, est=3.8700121844825515, details={'actual_k': 40, 'was_impossible': False}),\n",
       " Prediction(uid='864', iid='2', r_ui=4.0, est=3.594795604878145, details={'actual_k': 40, 'was_impossible': False}),\n",
       " Prediction(uid='597', iid='242', r_ui=4.0, est=4.056059205557375, details={'actual_k': 40, 'was_impossible': False}),\n",
       " Prediction(uid='22', iid='792', r_ui=4.0, est=3.7112722381855145, details={'actual_k': 40, 'was_impossible': False}),\n",
       " Prediction(uid='165', iid='270', r_ui=4.0, est=3.632893090775325, details={'actual_k': 40, 'was_impossible': False}),\n",
       " Prediction(uid='483', iid='462', r_ui=3.0, est=3.567501340814257, details={'actual_k': 40, 'was_impossible': False}),\n",
       " Prediction(uid='593', iid='144', r_ui=4.0, est=3.783368602565423, details={'actual_k': 40, 'was_impossible': False}),\n",
       " Prediction(uid='299', iid='461', r_ui=3.0, est=3.520781040708824, details={'actual_k': 40, 'was_impossible': False}),\n",
       " Prediction(uid='280', iid='237', r_ui=3.0, est=3.5262113001537307, details={'actual_k': 40, 'was_impossible': False}),\n",
       " Prediction(uid='327', iid='176', r_ui=4.0, est=3.7180240701593266, details={'actual_k': 40, 'was_impossible': False}),\n",
       " Prediction(uid='200', iid='196', r_ui=4.0, est=4.392781298287942, details={'actual_k': 40, 'was_impossible': False}),\n",
       " Prediction(uid='264', iid='672', r_ui=3.0, est=2.774522268528137, details={'actual_k': 40, 'was_impossible': False}),\n",
       " Prediction(uid='405', iid='48', r_ui=1.0, est=4.102082962774977, details={'actual_k': 40, 'was_impossible': False}),\n",
       " Prediction(uid='429', iid='961', r_ui=3.0, est=3.6594330468621825, details={'actual_k': 29, 'was_impossible': False}),\n",
       " Prediction(uid='215', iid='164', r_ui=3.0, est=3.764981607846671, details={'actual_k': 40, 'was_impossible': False}),\n",
       " Prediction(uid='569', iid='340', r_ui=4.0, est=3.422815000538938, details={'actual_k': 40, 'was_impossible': False}),\n",
       " Prediction(uid='621', iid='804', r_ui=4.0, est=2.8338803001722654, details={'actual_k': 7, 'was_impossible': False}),\n",
       " Prediction(uid='188', iid='22', r_ui=5.0, est=4.295927829311139, details={'actual_k': 40, 'was_impossible': False}),\n",
       " Prediction(uid='360', iid='144', r_ui=2.0, est=3.9275519051737473, details={'actual_k': 40, 'was_impossible': False}),\n",
       " Prediction(uid='293', iid='132', r_ui=4.0, est=4.1695498629779655, details={'actual_k': 40, 'was_impossible': False}),\n",
       " Prediction(uid='399', iid='343', r_ui=2.0, est=2.782817030226362, details={'actual_k': 40, 'was_impossible': False}),\n",
       " Prediction(uid='456', iid='86', r_ui=2.0, est=3.9109567232502465, details={'actual_k': 40, 'was_impossible': False}),\n",
       " Prediction(uid='407', iid='157', r_ui=2.0, est=3.721831382572811, details={'actual_k': 40, 'was_impossible': False}),\n",
       " Prediction(uid='707', iid='100', r_ui=5.0, est=4.261402812506216, details={'actual_k': 40, 'was_impossible': False}),\n",
       " Prediction(uid='328', iid='750', r_ui=4.0, est=4.227813191892347, details={'actual_k': 40, 'was_impossible': False}),\n",
       " Prediction(uid='488', iid='173', r_ui=4.0, est=4.239983300274341, details={'actual_k': 40, 'was_impossible': False}),\n",
       " Prediction(uid='868', iid='229', r_ui=3.0, est=2.649335417044644, details={'actual_k': 40, 'was_impossible': False}),\n",
       " Prediction(uid='151', iid='531', r_ui=3.0, est=4.0771212127700585, details={'actual_k': 40, 'was_impossible': False}),\n",
       " Prediction(uid='848', iid='523', r_ui=5.0, est=4.297092152515646, details={'actual_k': 40, 'was_impossible': False}),\n",
       " Prediction(uid='454', iid='95', r_ui=2.0, est=3.7415007148278865, details={'actual_k': 40, 'was_impossible': False}),\n",
       " Prediction(uid='368', iid='7', r_ui=4.0, est=3.4768864955591297, details={'actual_k': 40, 'was_impossible': False}),\n",
       " Prediction(uid='807', iid='526', r_ui=5.0, est=4.11283135345775, details={'actual_k': 40, 'was_impossible': False}),\n",
       " Prediction(uid='708', iid='15', r_ui=3.0, est=3.9408710343545335, details={'actual_k': 40, 'was_impossible': False}),\n",
       " Prediction(uid='845', iid='904', r_ui=3.0, est=3.5240802261325963, details={'actual_k': 17, 'was_impossible': False}),\n",
       " Prediction(uid='658', iid='471', r_ui=4.0, est=3.759796974259353, details={'actual_k': 40, 'was_impossible': False}),\n",
       " Prediction(uid='328', iid='194', r_ui=3.0, est=4.126447601090555, details={'actual_k': 40, 'was_impossible': False}),\n",
       " Prediction(uid='663', iid='473', r_ui=3.0, est=3.0302349913524464, details={'actual_k': 40, 'was_impossible': False}),\n",
       " Prediction(uid='537', iid='523', r_ui=3.0, est=4.057395328591269, details={'actual_k': 40, 'was_impossible': False}),\n",
       " Prediction(uid='323', iid='1012', r_ui=4.0, est=3.46381492176052, details={'actual_k': 40, 'was_impossible': False}),\n",
       " Prediction(uid='92', iid='834', r_ui=1.0, est=1.9947518673909443, details={'actual_k': 18, 'was_impossible': False}),\n",
       " Prediction(uid='161', iid='582', r_ui=1.0, est=3.461518570751148, details={'actual_k': 40, 'was_impossible': False}),\n",
       " Prediction(uid='198', iid='568', r_ui=3.0, est=3.258947704400304, details={'actual_k': 40, 'was_impossible': False}),\n",
       " Prediction(uid='650', iid='429', r_ui=4.0, est=3.9483114754801982, details={'actual_k': 40, 'was_impossible': False}),\n",
       " Prediction(uid='776', iid='708', r_ui=5.0, est=3.5716708233871706, details={'actual_k': 40, 'was_impossible': False}),\n",
       " Prediction(uid='617', iid='320', r_ui=5.0, est=3.4027449743789053, details={'actual_k': 9, 'was_impossible': False}),\n",
       " Prediction(uid='843', iid='121', r_ui=3.0, est=3.389239158373013, details={'actual_k': 40, 'was_impossible': False}),\n",
       " Prediction(uid='196', iid='173', r_ui=2.0, est=4.167490563503387, details={'actual_k': 40, 'was_impossible': False}),\n",
       " Prediction(uid='37', iid='273', r_ui=3.0, est=3.4536191020472495, details={'actual_k': 40, 'was_impossible': False}),\n",
       " Prediction(uid='402', iid='410', r_ui=1.0, est=3.3376369755789916, details={'actual_k': 40, 'was_impossible': False}),\n",
       " Prediction(uid='487', iid='1', r_ui=5.0, est=4.348775239537188, details={'actual_k': 40, 'was_impossible': False}),\n",
       " Prediction(uid='133', iid='750', r_ui=4.0, est=3.6889270611756517, details={'actual_k': 40, 'was_impossible': False}),\n",
       " Prediction(uid='123', iid='23', r_ui=4.0, est=4.298477607268953, details={'actual_k': 40, 'was_impossible': False}),\n",
       " Prediction(uid='788', iid='1248', r_ui=3.0, est=3.059825430490176, details={'actual_k': 16, 'was_impossible': False}),\n",
       " Prediction(uid='606', iid='1280', r_ui=2.0, est=2.7958743317429944, details={'actual_k': 12, 'was_impossible': False}),\n",
       " Prediction(uid='151', iid='181', r_ui=5.0, est=4.262445199113291, details={'actual_k': 40, 'was_impossible': False}),\n",
       " Prediction(uid='305', iid='338', r_ui=3.0, est=2.4648973338287994, details={'actual_k': 40, 'was_impossible': False}),\n",
       " Prediction(uid='889', iid='297', r_ui=3.0, est=4.093571594818967, details={'actual_k': 40, 'was_impossible': False}),\n",
       " Prediction(uid='253', iid='294', r_ui=4.0, est=3.2441026299762026, details={'actual_k': 40, 'was_impossible': False}),\n",
       " Prediction(uid='553', iid='191', r_ui=4.0, est=4.373997240019316, details={'actual_k': 40, 'was_impossible': False}),\n",
       " Prediction(uid='409', iid='1541', r_ui=4.0, est=3.0, details={'actual_k': 1, 'was_impossible': False}),\n",
       " Prediction(uid='285', iid='150', r_ui=5.0, est=3.966862402986704, details={'actual_k': 40, 'was_impossible': False}),\n",
       " Prediction(uid='77', iid='268', r_ui=5.0, est=3.5043575698594203, details={'actual_k': 40, 'was_impossible': False}),\n",
       " Prediction(uid='455', iid='1137', r_ui=3.0, est=3.972586315767514, details={'actual_k': 26, 'was_impossible': False}),\n",
       " Prediction(uid='483', iid='313', r_ui=2.0, est=4.201427393567129, details={'actual_k': 40, 'was_impossible': False}),\n",
       " Prediction(uid='84', iid='15', r_ui=4.0, est=3.8074837341983225, details={'actual_k': 40, 'was_impossible': False}),\n",
       " Prediction(uid='709', iid='739', r_ui=3.0, est=3.5330340848628263, details={'actual_k': 40, 'was_impossible': False}),\n",
       " Prediction(uid='579', iid='7', r_ui=3.0, est=3.6620904887317067, details={'actual_k': 40, 'was_impossible': False}),\n",
       " Prediction(uid='327', iid='709', r_ui=4.0, est=4.024274629066099, details={'actual_k': 40, 'was_impossible': False}),\n",
       " Prediction(uid='805', iid='405', r_ui=3.0, est=3.111246430918161, details={'actual_k': 40, 'was_impossible': False}),\n",
       " Prediction(uid='786', iid='86', r_ui=4.0, est=4.070732632672358, details={'actual_k': 40, 'was_impossible': False}),\n",
       " Prediction(uid='334', iid='301', r_ui=2.0, est=3.331807180493331, details={'actual_k': 40, 'was_impossible': False}),\n",
       " Prediction(uid='388', iid='773', r_ui=3.0, est=2.811827622537612, details={'actual_k': 12, 'was_impossible': False}),\n",
       " Prediction(uid='222', iid='1419', r_ui=1.0, est=2.265337081357026, details={'actual_k': 11, 'was_impossible': False}),\n",
       " Prediction(uid='151', iid='433', r_ui=3.0, est=3.877682082329623, details={'actual_k': 40, 'was_impossible': False}),\n",
       " Prediction(uid='556', iid='187', r_ui=5.0, est=4.238704448811935, details={'actual_k': 40, 'was_impossible': False}),\n",
       " Prediction(uid='850', iid='490', r_ui=5.0, est=3.9946361004469684, details={'actual_k': 34, 'was_impossible': False}),\n",
       " Prediction(uid='291', iid='41', r_ui=4.0, est=3.208998535383712, details={'actual_k': 31, 'was_impossible': False}),\n",
       " Prediction(uid='846', iid='739', r_ui=4.0, est=3.3866484126903518, details={'actual_k': 40, 'was_impossible': False}),\n",
       " Prediction(uid='332', iid='97', r_ui=5.0, est=4.277545145292907, details={'actual_k': 40, 'was_impossible': False}),\n",
       " Prediction(uid='388', iid='307', r_ui=4.0, est=3.8743199589689925, details={'actual_k': 40, 'was_impossible': False}),\n",
       " Prediction(uid='776', iid='134', r_ui=4.0, est=4.304220010975023, details={'actual_k': 40, 'was_impossible': False}),\n",
       " Prediction(uid='642', iid='955', r_ui=3.0, est=3.446232570590567, details={'actual_k': 37, 'was_impossible': False}),\n",
       " Prediction(uid='622', iid='402', r_ui=3.0, est=3.4932291713109302, details={'actual_k': 40, 'was_impossible': False}),\n",
       " Prediction(uid='890', iid='436', r_ui=3.0, est=3.7430715629766484, details={'actual_k': 40, 'was_impossible': False}),\n",
       " Prediction(uid='269', iid='640', r_ui=5.0, est=3.062188901232059, details={'actual_k': 40, 'was_impossible': False}),\n",
       " Prediction(uid='6', iid='32', r_ui=4.0, est=3.7556776856137413, details={'actual_k': 40, 'was_impossible': False}),\n",
       " Prediction(uid='313', iid='155', r_ui=2.0, est=2.8462868456778825, details={'actual_k': 40, 'was_impossible': False}),\n",
       " Prediction(uid='417', iid='452', r_ui=2.0, est=2.6222785444901953, details={'actual_k': 40, 'was_impossible': False}),\n",
       " Prediction(uid='685', iid='299', r_ui=2.0, est=2.863457209256602, details={'actual_k': 40, 'was_impossible': False}),\n",
       " Prediction(uid='469', iid='64', r_ui=5.0, est=4.39524713943129, details={'actual_k': 40, 'was_impossible': False}),\n",
       " Prediction(uid='806', iid='455', r_ui=3.0, est=3.25779476294783, details={'actual_k': 40, 'was_impossible': False}),\n",
       " Prediction(uid='370', iid='64', r_ui=4.0, est=4.297745168949591, details={'actual_k': 40, 'was_impossible': False}),\n",
       " Prediction(uid='313', iid='582', r_ui=2.0, est=3.726534238011239, details={'actual_k': 40, 'was_impossible': False}),\n",
       " Prediction(uid='303', iid='873', r_ui=3.0, est=2.7599378666519563, details={'actual_k': 40, 'was_impossible': False}),\n",
       " Prediction(uid='363', iid='39', r_ui=4.0, est=3.332701300328298, details={'actual_k': 40, 'was_impossible': False}),\n",
       " Prediction(uid='882', iid='756', r_ui=3.0, est=3.149476260700473, details={'actual_k': 40, 'was_impossible': False}),\n",
       " Prediction(uid='466', iid='909', r_ui=5.0, est=3.7913936636534267, details={'actual_k': 11, 'was_impossible': False}),\n",
       " Prediction(uid='59', iid='25', r_ui=4.0, est=3.8128228274916047, details={'actual_k': 40, 'was_impossible': False}),\n",
       " Prediction(uid='186', iid='588', r_ui=4.0, est=3.9223145440730516, details={'actual_k': 40, 'was_impossible': False}),\n",
       " Prediction(uid='735', iid='288', r_ui=4.0, est=3.2224923225306816, details={'actual_k': 40, 'was_impossible': False}),\n",
       " Prediction(uid='52', iid='288', r_ui=3.0, est=3.2811090154334948, details={'actual_k': 40, 'was_impossible': False}),\n",
       " Prediction(uid='624', iid='255', r_ui=3.0, est=3.2815278791188898, details={'actual_k': 40, 'was_impossible': False}),\n",
       " Prediction(uid='868', iid='378', r_ui=2.0, est=3.2728204627176294, details={'actual_k': 40, 'was_impossible': False}),\n",
       " Prediction(uid='847', iid='367', r_ui=3.0, est=3.380290699787575, details={'actual_k': 40, 'was_impossible': False}),\n",
       " Prediction(uid='675', iid='347', r_ui=4.0, est=3.311233658662536, details={'actual_k': 40, 'was_impossible': False}),\n",
       " Prediction(uid='210', iid='97', r_ui=5.0, est=4.1213472309909145, details={'actual_k': 40, 'was_impossible': False}),\n",
       " Prediction(uid='929', iid='654', r_ui=3.0, est=4.006322430606773, details={'actual_k': 40, 'was_impossible': False}),\n",
       " Prediction(uid='631', iid='307', r_ui=4.0, est=3.2569454795986017, details={'actual_k': 40, 'was_impossible': False}),\n",
       " Prediction(uid='72', iid='382', r_ui=4.0, est=3.6806497786354124, details={'actual_k': 40, 'was_impossible': False}),\n",
       " Prediction(uid='276', iid='77', r_ui=3.0, est=3.461234245997893, details={'actual_k': 40, 'was_impossible': False}),\n",
       " Prediction(uid='459', iid='286', r_ui=4.0, est=3.786287999580848, details={'actual_k': 40, 'was_impossible': False}),\n",
       " Prediction(uid='727', iid='421', r_ui=5.0, est=3.6276665256950658, details={'actual_k': 40, 'was_impossible': False}),\n",
       " Prediction(uid='75', iid='137', r_ui=4.0, est=3.9937172689506966, details={'actual_k': 40, 'was_impossible': False}),\n",
       " Prediction(uid='486', iid='327', r_ui=3.0, est=3.0987604913946676, details={'actual_k': 40, 'was_impossible': False}),\n",
       " Prediction(uid='882', iid='432', r_ui=5.0, est=3.9225387367784523, details={'actual_k': 40, 'was_impossible': False}),\n",
       " Prediction(uid='919', iid='1284', r_ui=3.0, est=2.8798234902286954, details={'actual_k': 20, 'was_impossible': False}),\n",
       " Prediction(uid='149', iid='310', r_ui=2.0, est=3.486006354285669, details={'actual_k': 40, 'was_impossible': False}),\n",
       " Prediction(uid='5', iid='454', r_ui=1.0, est=2.9661533498960813, details={'actual_k': 14, 'was_impossible': False}),\n",
       " Prediction(uid='548', iid='466', r_ui=5.0, est=3.619161648206335, details={'actual_k': 40, 'was_impossible': False}),\n",
       " Prediction(uid='546', iid='977', r_ui=5.0, est=2.7712970875153284, details={'actual_k': 40, 'was_impossible': False}),\n",
       " Prediction(uid='87', iid='196', r_ui=5.0, est=4.14038290828355, details={'actual_k': 40, 'was_impossible': False}),\n",
       " Prediction(uid='847', iid='1', r_ui=3.0, est=4.0005190448241725, details={'actual_k': 40, 'was_impossible': False}),\n",
       " Prediction(uid='579', iid='88', r_ui=4.0, est=3.3464389008607403, details={'actual_k': 40, 'was_impossible': False}),\n",
       " Prediction(uid='345', iid='956', r_ui=4.0, est=3.668343250615818, details={'actual_k': 38, 'was_impossible': False}),\n",
       " Prediction(uid='327', iid='715', r_ui=4.0, est=3.2556437419312596, details={'actual_k': 40, 'was_impossible': False}),\n",
       " Prediction(uid='234', iid='1221', r_ui=4.0, est=3.468144076069653, details={'actual_k': 30, 'was_impossible': False}),\n",
       " Prediction(uid='854', iid='479', r_ui=4.0, est=4.251052269777565, details={'actual_k': 40, 'was_impossible': False}),\n",
       " Prediction(uid='807', iid='566', r_ui=4.0, est=3.726347499433498, details={'actual_k': 40, 'was_impossible': False}),\n",
       " Prediction(uid='396', iid='472', r_ui=5.0, est=3.4277278860476574, details={'actual_k': 40, 'was_impossible': False}),\n",
       " Prediction(uid='719', iid='79', r_ui=4.0, est=4.025699407311507, details={'actual_k': 40, 'was_impossible': False}),\n",
       " Prediction(uid='312', iid='740', r_ui=4.0, est=3.4395959452706286, details={'actual_k': 40, 'was_impossible': False}),\n",
       " Prediction(uid='436', iid='785', r_ui=2.0, est=3.3411234536031635, details={'actual_k': 31, 'was_impossible': False}),\n",
       " Prediction(uid='592', iid='881', r_ui=1.0, est=2.818009624406098, details={'actual_k': 34, 'was_impossible': False}),\n",
       " Prediction(uid='624', iid='886', r_ui=4.0, est=3.115481463083347, details={'actual_k': 40, 'was_impossible': False}),\n",
       " Prediction(uid='916', iid='2', r_ui=3.0, est=2.987713826236334, details={'actual_k': 40, 'was_impossible': False}),\n",
       " Prediction(uid='95', iid='71', r_ui=5.0, est=3.8109827843027615, details={'actual_k': 40, 'was_impossible': False}),\n",
       " Prediction(uid='262', iid='567', r_ui=1.0, est=2.8416421522891935, details={'actual_k': 25, 'was_impossible': False}),\n",
       " Prediction(uid='606', iid='168', r_ui=5.0, est=4.264669519379181, details={'actual_k': 40, 'was_impossible': False}),\n",
       " Prediction(uid='398', iid='235', r_ui=2.0, est=2.842171693544403, details={'actual_k': 40, 'was_impossible': False}),\n",
       " Prediction(uid='321', iid='215', r_ui=3.0, est=3.4510369866543784, details={'actual_k': 40, 'was_impossible': False}),\n",
       " Prediction(uid='686', iid='2', r_ui=3.0, est=3.358482354349075, details={'actual_k': 40, 'was_impossible': False}),\n",
       " Prediction(uid='619', iid='879', r_ui=4.0, est=3.3219856721189243, details={'actual_k': 40, 'was_impossible': False}),\n",
       " Prediction(uid='932', iid='659', r_ui=5.0, est=4.154816696133212, details={'actual_k': 40, 'was_impossible': False}),\n",
       " Prediction(uid='308', iid='275', r_ui=4.0, est=4.000328080889283, details={'actual_k': 40, 'was_impossible': False}),\n",
       " Prediction(uid='782', iid='1241', r_ui=2.0, est=2.801421311002389, details={'actual_k': 5, 'was_impossible': False}),\n",
       " Prediction(uid='351', iid='751', r_ui=4.0, est=3.4665400054782136, details={'actual_k': 40, 'was_impossible': False}),\n",
       " Prediction(uid='269', iid='661', r_ui=4.0, est=4.288035622935543, details={'actual_k': 40, 'was_impossible': False}),\n",
       " Prediction(uid='93', iid='118', r_ui=3.0, est=3.2645546687983567, details={'actual_k': 40, 'was_impossible': False}),\n",
       " Prediction(uid='425', iid='823', r_ui=3.0, est=2.8032244936152346, details={'actual_k': 40, 'was_impossible': False}),\n",
       " Prediction(uid='524', iid='310', r_ui=4.0, est=3.5296715656705357, details={'actual_k': 40, 'was_impossible': False}),\n",
       " Prediction(uid='618', iid='371', r_ui=3.0, est=3.1011242163816712, details={'actual_k': 40, 'was_impossible': False}),\n",
       " Prediction(uid='268', iid='182', r_ui=4.0, est=3.819270129094777, details={'actual_k': 40, 'was_impossible': False}),\n",
       " Prediction(uid='324', iid='538', r_ui=4.0, est=3.697668262424965, details={'actual_k': 40, 'was_impossible': False}),\n",
       " Prediction(uid='899', iid='740', r_ui=5.0, est=3.5032957238567524, details={'actual_k': 40, 'was_impossible': False}),\n",
       " Prediction(uid='87', iid='80', r_ui=4.0, est=2.9252085006570168, details={'actual_k': 40, 'was_impossible': False}),\n",
       " Prediction(uid='825', iid='925', r_ui=4.0, est=3.383456676650325, details={'actual_k': 25, 'was_impossible': False}),\n",
       " Prediction(uid='378', iid='272', r_ui=4.0, est=4.275475614406178, details={'actual_k': 40, 'was_impossible': False}),\n",
       " Prediction(uid='774', iid='135', r_ui=3.0, est=3.7950398269114762, details={'actual_k': 40, 'was_impossible': False}),\n",
       " Prediction(uid='930', iid='238', r_ui=4.0, est=3.4261252243009754, details={'actual_k': 40, 'was_impossible': False}),\n",
       " Prediction(uid='704', iid='604', r_ui=5.0, est=4.231770604354107, details={'actual_k': 40, 'was_impossible': False}),\n",
       " Prediction(uid='854', iid='509', r_ui=4.0, est=3.7479012077399307, details={'actual_k': 40, 'was_impossible': False}),\n",
       " Prediction(uid='704', iid='185', r_ui=4.0, est=4.181180447741653, details={'actual_k': 40, 'was_impossible': False}),\n",
       " Prediction(uid='497', iid='1407', r_ui=3.0, est=2.421348248137732, details={'actual_k': 13, 'was_impossible': False}),\n",
       " Prediction(uid='429', iid='166', r_ui=5.0, est=4.105960233962541, details={'actual_k': 40, 'was_impossible': False}),\n",
       " Prediction(uid='255', iid='597', r_ui=4.0, est=2.6892636106312326, details={'actual_k': 40, 'was_impossible': False}),\n",
       " Prediction(uid='406', iid='136', r_ui=4.0, est=4.232760209974864, details={'actual_k': 40, 'was_impossible': False}),\n",
       " ...]"
      ]
     },
     "execution_count": 17,
     "metadata": {},
     "output_type": "execute_result"
    }
   ],
   "source": [
    "model.test(test)"
   ]
  },
  {
   "cell_type": "code",
   "execution_count": 18,
   "metadata": {
    "ExecuteTime": {
     "end_time": "2023-01-09T22:34:47.191723Z",
     "start_time": "2023-01-09T22:34:45.009192Z"
    }
   },
   "outputs": [
    {
     "name": "stdout",
     "output_type": "stream",
     "text": [
      "MAE:  0.7727\n"
     ]
    },
    {
     "data": {
      "text/plain": [
       "0.7726923699816388"
      ]
     },
     "execution_count": 18,
     "metadata": {},
     "output_type": "execute_result"
    }
   ],
   "source": [
    "surprise.accuracy.mae(model.test(test))"
   ]
  },
  {
   "cell_type": "code",
   "execution_count": 19,
   "metadata": {
    "ExecuteTime": {
     "end_time": "2023-01-09T22:34:51.640384Z",
     "start_time": "2023-01-09T22:34:51.457292Z"
    }
   },
   "outputs": [
    {
     "name": "stdout",
     "output_type": "stream",
     "text": [
      "MAE:  0.7387\n"
     ]
    },
    {
     "data": {
      "text/plain": [
       "0.7387193198681798"
      ]
     },
     "execution_count": 19,
     "metadata": {},
     "output_type": "execute_result"
    }
   ],
   "source": [
    "surprise.accuracy.mae(model2.test(test))"
   ]
  },
  {
   "cell_type": "code",
   "execution_count": 20,
   "metadata": {
    "ExecuteTime": {
     "end_time": "2023-01-09T22:34:55.720153Z",
     "start_time": "2023-01-09T22:34:55.605927Z"
    }
   },
   "outputs": [
    {
     "name": "stdout",
     "output_type": "stream",
     "text": [
      "MAE:  0.7528\n"
     ]
    },
    {
     "data": {
      "text/plain": [
       "0.7528091415119881"
      ]
     },
     "execution_count": 20,
     "metadata": {},
     "output_type": "execute_result"
    }
   ],
   "source": [
    "surprise.accuracy.mae(model3.test(test))"
   ]
  },
  {
   "cell_type": "code",
   "execution_count": 21,
   "metadata": {
    "ExecuteTime": {
     "end_time": "2023-01-09T22:34:59.211576Z",
     "start_time": "2023-01-09T22:34:57.090857Z"
    }
   },
   "outputs": [
    {
     "name": "stdout",
     "output_type": "stream",
     "text": [
      "RMSE: 0.9802\n"
     ]
    },
    {
     "data": {
      "text/plain": [
       "0.980150596704479"
      ]
     },
     "execution_count": 21,
     "metadata": {},
     "output_type": "execute_result"
    }
   ],
   "source": [
    "surprise.accuracy.rmse(model.test(test))"
   ]
  },
  {
   "cell_type": "code",
   "execution_count": 22,
   "metadata": {
    "ExecuteTime": {
     "end_time": "2023-01-09T22:35:04.919742Z",
     "start_time": "2023-01-09T22:35:04.791211Z"
    }
   },
   "outputs": [
    {
     "name": "stdout",
     "output_type": "stream",
     "text": [
      "RMSE: 0.9364\n"
     ]
    },
    {
     "data": {
      "text/plain": [
       "0.9364250865984487"
      ]
     },
     "execution_count": 22,
     "metadata": {},
     "output_type": "execute_result"
    }
   ],
   "source": [
    "surprise.accuracy.rmse(model2.test(test))"
   ]
  },
  {
   "cell_type": "code",
   "execution_count": 23,
   "metadata": {
    "ExecuteTime": {
     "end_time": "2023-01-09T22:35:08.753967Z",
     "start_time": "2023-01-09T22:35:08.634699Z"
    }
   },
   "outputs": [
    {
     "name": "stdout",
     "output_type": "stream",
     "text": [
      "RMSE: 0.9574\n"
     ]
    },
    {
     "data": {
      "text/plain": [
       "0.9574261291882717"
      ]
     },
     "execution_count": 23,
     "metadata": {},
     "output_type": "execute_result"
    }
   ],
   "source": [
    "surprise.accuracy.rmse(model3.test(test))"
   ]
  },
  {
   "cell_type": "code",
   "execution_count": null,
   "metadata": {},
   "outputs": [],
   "source": []
  },
  {
   "cell_type": "code",
   "execution_count": null,
   "metadata": {},
   "outputs": [],
   "source": []
  }
 ],
 "metadata": {
  "kernelspec": {
   "display_name": "Python (learn-env)",
   "language": "python",
   "name": "learn-env"
  },
  "language_info": {
   "codemirror_mode": {
    "name": "ipython",
    "version": 3
   },
   "file_extension": ".py",
   "mimetype": "text/x-python",
   "name": "python",
   "nbconvert_exporter": "python",
   "pygments_lexer": "ipython3",
   "version": "3.8.5"
  },
  "toc": {
   "base_numbering": 1,
   "nav_menu": {},
   "number_sections": true,
   "sideBar": true,
   "skip_h1_title": false,
   "title_cell": "Table of Contents",
   "title_sidebar": "Contents",
   "toc_cell": false,
   "toc_position": {},
   "toc_section_display": true,
   "toc_window_display": false
  },
  "varInspector": {
   "cols": {
    "lenName": 16,
    "lenType": 16,
    "lenVar": 40
   },
   "kernels_config": {
    "python": {
     "delete_cmd_postfix": "",
     "delete_cmd_prefix": "del ",
     "library": "var_list.py",
     "varRefreshCmd": "print(var_dic_list())"
    },
    "r": {
     "delete_cmd_postfix": ") ",
     "delete_cmd_prefix": "rm(",
     "library": "var_list.r",
     "varRefreshCmd": "cat(var_dic_list()) "
    }
   },
   "types_to_exclude": [
    "module",
    "function",
    "builtin_function_or_method",
    "instance",
    "_Feature"
   ],
   "window_display": false
  }
 },
 "nbformat": 4,
 "nbformat_minor": 4
}

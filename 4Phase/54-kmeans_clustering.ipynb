{
 "cells": [
  {
   "cell_type": "markdown",
   "metadata": {
    "slideshow": {
     "slide_type": "slide"
    }
   },
   "source": [
    "# $k$-means Clustering"
   ]
  },
  {
   "cell_type": "code",
   "execution_count": null,
   "metadata": {
    "ExecuteTime": {
     "end_time": "2022-08-29T21:28:35.927491Z",
     "start_time": "2022-08-29T21:28:34.419939Z"
    }
   },
   "outputs": [],
   "source": [
    "import os\n",
    "import sys\n",
    "module_path = os.path.abspath(os.pardir)\n",
    "if module_path not in sys.path:\n",
    "    sys.path.append(module_path)\n",
    "\n",
    "# Required packages for today\n",
    "from sklearn.cluster import KMeans\n",
    "from sklearn import metrics\n",
    "from sklearn import datasets\n",
    "\n",
    "# Familiar packages for plotting, data manipulation, and numeric functions\n",
    "import matplotlib.pyplot as plt\n",
    "import pandas as pd\n",
    "import numpy as np\n",
    "\n",
    "# import Alison's code for the demo clusters\n",
    "from src.demo_images import *\n",
    "\n",
    "# Have plots appear in notebook\n",
    "%matplotlib inline\n",
    "\n",
    "# Default plot params\n",
    "plt.style.use('seaborn')\n",
    "cmap = 'tab10'"
   ]
  },
  {
   "cell_type": "markdown",
   "metadata": {
    "heading_collapsed": true,
    "slideshow": {
     "slide_type": "slide"
    }
   },
   "source": [
    "## Learning Goals"
   ]
  },
  {
   "cell_type": "markdown",
   "metadata": {
    "hidden": true,
    "slideshow": {
     "slide_type": "slide"
    }
   },
   "source": [
    "- Assess what scenarios could use $k$-means\n",
    "- Articulate the methodology used by $k$-means\n",
    "- Apply KMeans from sklearn.cluster to a relevant dataset\n",
    "- Select the appropriate number of clusters using the elbow method and Silhouette Scores\n",
    "- Evaluate the weaknesses and remedies to $k$-means"
   ]
  },
  {
   "cell_type": "markdown",
   "metadata": {
    "heading_collapsed": true,
    "slideshow": {
     "slide_type": "slide"
    }
   },
   "source": [
    "## A Classic Scenario"
   ]
  },
  {
   "cell_type": "markdown",
   "metadata": {
    "hidden": true,
    "slideshow": {
     "slide_type": "slide"
    }
   },
   "source": [
    ">You work for the marketing department within a large company that manages a customer base. \n",
    "For each customer you have a record of average purchase cost and time since last purchase.<br> \n",
    "You know that if you want to retain your customers you cannot treat them the same. You can use targeted marketing ads towards groups that demonstrate different behavior, but how will you divide the customers into groups?"
   ]
  },
  {
   "cell_type": "markdown",
   "metadata": {
    "heading_collapsed": true,
    "slideshow": {
     "slide_type": "slide"
    }
   },
   "source": [
    "## **Part 1**: Concept introduction"
   ]
  },
  {
   "cell_type": "markdown",
   "metadata": {
    "heading_collapsed": true,
    "hidden": true,
    "slideshow": {
     "slide_type": "slide"
    }
   },
   "source": [
    "#### Import libraries and download dataset\n",
    "\n",
    "We are continuing to use Scikit Learn as our main library.\n",
    "The specific documentation for k-means can be found [here](http://scikit-learn.org/stable/modules/generated/sklearn.cluster.KMeans.html)."
   ]
  },
  {
   "cell_type": "markdown",
   "metadata": {
    "heading_collapsed": true,
    "slideshow": {
     "slide_type": "slide"
    }
   },
   "source": [
    "## Clustering!   Finding **GROUPS**"
   ]
  },
  {
   "cell_type": "markdown",
   "metadata": {
    "hidden": true,
    "slideshow": {
     "slide_type": "slide"
    }
   },
   "source": [
    "How many groups do you see?\n",
    "\n",
    "![img](images/initialscenario.png)"
   ]
  },
  {
   "cell_type": "markdown",
   "metadata": {
    "heading_collapsed": true,
    "slideshow": {
     "slide_type": "slide"
    }
   },
   "source": [
    "## Wait - How is clustering different from classification?"
   ]
  },
  {
   "cell_type": "markdown",
   "metadata": {
    "hidden": true,
    "slideshow": {
     "slide_type": "slide"
    }
   },
   "source": [
    ">In _classification_ you **know** what groups are in the dataset and the goal is to _**predict**_ class membership accurately.\n",
    "\n",
    ">In _clustering_ you **do not** know which groups are in the dataset and you are trying to _**identify**_ the groups.\n",
    "\n",
    "Because we do not have target labels, clustering is a form of machine learning called **unsupervised learning**."
   ]
  },
  {
   "cell_type": "markdown",
   "metadata": {
    "heading_collapsed": true,
    "hidden": true,
    "slideshow": {
     "slide_type": "slide"
    }
   },
   "source": [
    "### So what do you do with clustering results?"
   ]
  },
  {
   "cell_type": "markdown",
   "metadata": {
    "hidden": true,
    "slideshow": {
     "slide_type": "slide"
    }
   },
   "source": [
    "Clustering is often an *informing* step in your analysis. Once clusters are identified, one can:\n",
    "- Create strategies on how to approach each group differently\n",
    "- Use cluster membership as an independent variable in a predictive model\n",
    "- Use the clusters as the _**target label**_ in future classification models. How would you assign new data to the existing clusters?"
   ]
  },
  {
   "cell_type": "markdown",
   "metadata": {
    "heading_collapsed": true,
    "slideshow": {
     "slide_type": "slide"
    }
   },
   "source": [
    "## Explore the algorithm with an intuitive K means approach"
   ]
  },
  {
   "cell_type": "markdown",
   "metadata": {
    "heading_collapsed": true,
    "hidden": true,
    "slideshow": {
     "slide_type": "slide"
    }
   },
   "source": [
    "### Observe the following four methods with a sample dataset:\n",
    "\n",
    "- What do they have in common?\n",
    "- What are the differences between them?\n",
    "- How many groups are there in the end?\n",
    "- Do you see any problems with this method?"
   ]
  },
  {
   "cell_type": "markdown",
   "metadata": {
    "heading_collapsed": true,
    "hidden": true,
    "slideshow": {
     "slide_type": "slide"
    }
   },
   "source": [
    "#### Method 1 (From Left)"
   ]
  },
  {
   "cell_type": "markdown",
   "metadata": {
    "hidden": true,
    "slideshow": {
     "slide_type": "slide"
    }
   },
   "source": [
    "![left](images/from-left.gif)"
   ]
  },
  {
   "cell_type": "markdown",
   "metadata": {
    "heading_collapsed": true,
    "hidden": true,
    "slideshow": {
     "slide_type": "slide"
    }
   },
   "source": [
    "#### Method 2 (From Right)"
   ]
  },
  {
   "cell_type": "markdown",
   "metadata": {
    "hidden": true,
    "slideshow": {
     "slide_type": "slide"
    }
   },
   "source": [
    "![right](images/from-right.gif)"
   ]
  },
  {
   "cell_type": "markdown",
   "metadata": {
    "heading_collapsed": true,
    "hidden": true,
    "slideshow": {
     "slide_type": "slide"
    }
   },
   "source": [
    "#### Method 3 (From Top)"
   ]
  },
  {
   "cell_type": "markdown",
   "metadata": {
    "hidden": true,
    "slideshow": {
     "slide_type": "slide"
    }
   },
   "source": [
    "![top](images/from-top.gif)"
   ]
  },
  {
   "cell_type": "markdown",
   "metadata": {
    "heading_collapsed": true,
    "hidden": true,
    "slideshow": {
     "slide_type": "slide"
    }
   },
   "source": [
    "#### Method 4 (From Bottom)"
   ]
  },
  {
   "cell_type": "markdown",
   "metadata": {
    "hidden": true,
    "slideshow": {
     "slide_type": "slide"
    }
   },
   "source": [
    "![bottom](images/from-bottom.gif)"
   ]
  },
  {
   "cell_type": "markdown",
   "metadata": {
    "heading_collapsed": true,
    "hidden": true,
    "slideshow": {
     "slide_type": "slide"
    }
   },
   "source": [
    "### Review Method Questions:\n",
    "\n",
    "- What do they have in common?\n",
    "- What are the differences between them?\n",
    "- How many groups are there in the end?\n",
    "- Do you see any problems with this method?"
   ]
  },
  {
   "cell_type": "markdown",
   "metadata": {
    "hidden": true,
    "slideshow": {
     "slide_type": "notes"
    }
   },
   "source": [
    "In common:\n",
    "- Green dots start at points\n",
    "- Calculates distance\n",
    "- Moves dots\n",
    "- Re-measures distance\n",
    "- Moves dots as needed\n",
    "\n",
    "\n",
    "Differences:\n",
    "- Dots start in different places and groups settle in different places\n",
    "\n",
    "Groups:\n",
    "- There are four groups\n",
    "\n",
    "Problem with this method?\n",
    "- Too variable!"
   ]
  },
  {
   "cell_type": "markdown",
   "metadata": {
    "heading_collapsed": true,
    "hidden": true,
    "slideshow": {
     "slide_type": "slide"
    }
   },
   "source": [
    "### K-means algorithm, at its core, in an optimization function"
   ]
  },
  {
   "cell_type": "markdown",
   "metadata": {
    "hidden": true,
    "slideshow": {
     "slide_type": "slide"
    }
   },
   "source": [
    "![minmax](images/minmaxdata.png)"
   ]
  },
  {
   "cell_type": "markdown",
   "metadata": {
    "heading_collapsed": true,
    "hidden": true,
    "slideshow": {
     "slide_type": "slide"
    }
   },
   "source": [
    "### Reassigns groups and adjusts centroids to..."
   ]
  },
  {
   "cell_type": "markdown",
   "metadata": {
    "hidden": true,
    "slideshow": {
     "slide_type": "slide"
    }
   },
   "source": [
    "![min](images/min.png)"
   ]
  },
  {
   "cell_type": "markdown",
   "metadata": {
    "heading_collapsed": true,
    "hidden": true,
    "slideshow": {
     "slide_type": "slide"
    }
   },
   "source": [
    "### And to..."
   ]
  },
  {
   "cell_type": "markdown",
   "metadata": {
    "hidden": true,
    "slideshow": {
     "slide_type": "slide"
    }
   },
   "source": [
    "![max](images/max.png)"
   ]
  },
  {
   "cell_type": "markdown",
   "metadata": {
    "hidden": true,
    "slideshow": {
     "slide_type": "slide"
    }
   },
   "source": [
    "**Sci-kit Learn** documentation actually has some pretty good [documentation describing the algorithm](https://scikit-learn.org/stable/modules/clustering.html#k-mean) if you wish for more detail."
   ]
  },
  {
   "cell_type": "markdown",
   "metadata": {
    "heading_collapsed": true
   },
   "source": [
    "## $k$-Means Plotter"
   ]
  },
  {
   "cell_type": "code",
   "execution_count": null,
   "metadata": {
    "ExecuteTime": {
     "end_time": "2022-08-29T21:28:35.942980Z",
     "start_time": "2022-08-29T21:28:35.928449Z"
    },
    "hidden": true
   },
   "outputs": [],
   "source": [
    "from src.k_means_plotter import k_means\n",
    "from sklearn.datasets import make_blobs"
   ]
  },
  {
   "cell_type": "code",
   "execution_count": null,
   "metadata": {
    "ExecuteTime": {
     "end_time": "2022-08-29T21:28:35.958475Z",
     "start_time": "2022-08-29T21:28:35.945938Z"
    },
    "hidden": true
   },
   "outputs": [],
   "source": [
    "X, Y = make_blobs(centers=5, random_state=42)"
   ]
  },
  {
   "cell_type": "code",
   "execution_count": null,
   "metadata": {
    "ExecuteTime": {
     "end_time": "2022-08-29T21:28:35.973963Z",
     "start_time": "2022-08-29T21:28:35.959463Z"
    },
    "hidden": true
   },
   "outputs": [],
   "source": [
    "X[:5, :]"
   ]
  },
  {
   "cell_type": "code",
   "execution_count": null,
   "metadata": {
    "ExecuteTime": {
     "end_time": "2022-08-29T21:28:36.128964Z",
     "start_time": "2022-08-29T21:28:35.975464Z"
    },
    "hidden": true
   },
   "outputs": [],
   "source": [
    "fig, ax = plt.subplots()\n",
    "ax.scatter(X[:, 0], X[:, 1]);"
   ]
  },
  {
   "cell_type": "markdown",
   "metadata": {
    "hidden": true
   },
   "source": [
    "The value of the `random_state` parameter in our `k_means()` function can make a big difference to the final clusters! We might find what are indeed the intuitive clusters in our data:"
   ]
  },
  {
   "cell_type": "code",
   "execution_count": null,
   "metadata": {
    "ExecuteTime": {
     "end_time": "2022-08-29T21:28:36.624968Z",
     "start_time": "2022-08-29T21:28:36.130469Z"
    },
    "hidden": true
   },
   "outputs": [],
   "source": [
    "df = k_means(X[:, 0], X[:, 1], k=5, random_state=2)"
   ]
  },
  {
   "cell_type": "markdown",
   "metadata": {
    "hidden": true
   },
   "source": [
    "But we also might get different results:"
   ]
  },
  {
   "cell_type": "code",
   "execution_count": null,
   "metadata": {
    "ExecuteTime": {
     "end_time": "2022-08-29T21:28:37.136438Z",
     "start_time": "2022-08-29T21:28:36.627439Z"
    },
    "hidden": true
   },
   "outputs": [],
   "source": [
    "df = k_means(X[:, 0], X[:, 1], k=5, random_state=42)"
   ]
  },
  {
   "cell_type": "code",
   "execution_count": null,
   "metadata": {
    "ExecuteTime": {
     "end_time": "2022-08-29T21:28:37.632439Z",
     "start_time": "2022-08-29T21:28:37.138938Z"
    },
    "hidden": true,
    "scrolled": true
   },
   "outputs": [],
   "source": [
    "df = k_means(X[:, 0], X[:, 1], k=5, random_state=3)"
   ]
  },
  {
   "cell_type": "markdown",
   "metadata": {
    "hidden": true
   },
   "source": [
    "And of course we could set $k$ to something other than 5:"
   ]
  },
  {
   "cell_type": "code",
   "execution_count": null,
   "metadata": {
    "ExecuteTime": {
     "end_time": "2022-08-29T21:28:38.066558Z",
     "start_time": "2022-08-29T21:28:37.633939Z"
    },
    "hidden": true
   },
   "outputs": [],
   "source": [
    "df = k_means(X[:, 0], X[:, 1], k=3)"
   ]
  },
  {
   "cell_type": "markdown",
   "metadata": {
    "heading_collapsed": true,
    "hidden": true,
    "slideshow": {
     "slide_type": "slide"
    }
   },
   "source": [
    "#### Data for the exercise"
   ]
  },
  {
   "cell_type": "markdown",
   "metadata": {
    "hidden": true,
    "slideshow": {
     "slide_type": "slide"
    }
   },
   "source": [
    "- This is a sample dataset. \n",
    "- Let us assume the data is already scaled."
   ]
  },
  {
   "cell_type": "code",
   "execution_count": null,
   "metadata": {
    "ExecuteTime": {
     "end_time": "2022-08-29T21:28:38.081938Z",
     "start_time": "2022-08-29T21:28:38.067939Z"
    },
    "hidden": true
   },
   "outputs": [],
   "source": [
    "dummy_dat = pd.read_csv(\"data/xclara.txt\",\n",
    "                        header=0,\n",
    "                        index_col=0)\n",
    "dummy_dat.reset_index(inplace=True)\n",
    "dummy_dat.drop('index', axis=1, inplace=True)"
   ]
  },
  {
   "cell_type": "code",
   "execution_count": null,
   "metadata": {
    "ExecuteTime": {
     "end_time": "2022-08-29T21:28:38.097468Z",
     "start_time": "2022-08-29T21:28:38.083440Z"
    },
    "hidden": true
   },
   "outputs": [],
   "source": [
    "dummy_dat.head()"
   ]
  },
  {
   "cell_type": "code",
   "execution_count": null,
   "metadata": {
    "ExecuteTime": {
     "end_time": "2022-08-29T21:28:38.112940Z",
     "start_time": "2022-08-29T21:28:38.098939Z"
    },
    "hidden": true
   },
   "outputs": [],
   "source": [
    "dummy_dat.tail()"
   ]
  },
  {
   "cell_type": "markdown",
   "metadata": {
    "heading_collapsed": true,
    "hidden": true,
    "slideshow": {
     "slide_type": "slide"
    }
   },
   "source": [
    "#### EDA of variables"
   ]
  },
  {
   "cell_type": "code",
   "execution_count": null,
   "metadata": {
    "ExecuteTime": {
     "end_time": "2022-08-29T21:28:38.128463Z",
     "start_time": "2022-08-29T21:28:38.114439Z"
    },
    "hidden": true
   },
   "outputs": [],
   "source": [
    "dummy_dat.describe()"
   ]
  },
  {
   "cell_type": "code",
   "execution_count": null,
   "metadata": {
    "ExecuteTime": {
     "end_time": "2022-08-29T21:28:38.252449Z",
     "start_time": "2022-08-29T21:28:38.129464Z"
    },
    "hidden": true
   },
   "outputs": [],
   "source": [
    "fig, ax = plt.subplots()\n",
    "ax.scatter(dummy_dat['V1'], dummy_dat['V2']);"
   ]
  },
  {
   "cell_type": "markdown",
   "metadata": {
    "heading_collapsed": true,
    "hidden": true,
    "slideshow": {
     "slide_type": "slide"
    }
   },
   "source": [
    "#### Introduction of `Kmeans`"
   ]
  },
  {
   "cell_type": "code",
   "execution_count": null,
   "metadata": {
    "ExecuteTime": {
     "end_time": "2022-08-29T21:28:38.267974Z",
     "start_time": "2022-08-29T21:28:38.254941Z"
    },
    "hidden": true
   },
   "outputs": [],
   "source": [
    "# Instantiate"
   ]
  },
  {
   "cell_type": "markdown",
   "metadata": {
    "hidden": true
   },
   "source": [
    "Notice the `init` and `n_init` parameters!"
   ]
  },
  {
   "cell_type": "code",
   "execution_count": null,
   "metadata": {
    "ExecuteTime": {
     "end_time": "2022-08-29T21:28:38.670946Z",
     "start_time": "2022-08-29T21:28:38.269468Z"
    },
    "hidden": true
   },
   "outputs": [],
   "source": [
    "fig, ax = plt.subplots()\n",
    "ax.scatter(dummy_dat['V1'], dummy_dat['V2'])\n",
    "for i in range(len(model.cluster_centers_)):\n",
    "    ax.scatter(model.cluster_centers_[i][0],\n",
    "                model.cluster_centers_[i][1]);"
   ]
  },
  {
   "cell_type": "code",
   "execution_count": null,
   "metadata": {
    "ExecuteTime": {
     "end_time": "2022-08-29T21:28:38.678438Z",
     "start_time": "2022-08-29T21:28:34.448Z"
    },
    "hidden": true
   },
   "outputs": [],
   "source": [
    "# Data point 60,20?\n"
   ]
  },
  {
   "cell_type": "code",
   "execution_count": null,
   "metadata": {
    "ExecuteTime": {
     "end_time": "2022-08-29T21:28:38.679439Z",
     "start_time": "2022-08-29T21:28:34.450Z"
    },
    "hidden": true
   },
   "outputs": [],
   "source": [
    "fig, ax = plt.subplots()\n",
    "ax.scatter(dummy_dat['V1'], dummy_dat['V2'],\n",
    "           c='#f30303');"
   ]
  },
  {
   "cell_type": "code",
   "execution_count": null,
   "metadata": {
    "ExecuteTime": {
     "end_time": "2022-08-29T21:28:38.679938Z",
     "start_time": "2022-08-29T21:28:34.451Z"
    },
    "hidden": true
   },
   "outputs": [],
   "source": [
    "fig, ax = plt.subplots()\n",
    "ax.scatter(dummy_dat['V1'], dummy_dat['V2'],\n",
    "           c=model.labels_);"
   ]
  },
  {
   "cell_type": "code",
   "execution_count": null,
   "metadata": {
    "ExecuteTime": {
     "end_time": "2022-08-29T21:28:38.680939Z",
     "start_time": "2022-08-29T21:28:34.453Z"
    },
    "hidden": true
   },
   "outputs": [],
   "source": [
    "Create Labels\n"
   ]
  },
  {
   "cell_type": "code",
   "execution_count": null,
   "metadata": {
    "ExecuteTime": {
     "end_time": "2022-08-29T21:28:38.681438Z",
     "start_time": "2022-08-29T21:28:34.455Z"
    },
    "hidden": true
   },
   "outputs": [],
   "source": [
    "# Create clusters"
   ]
  },
  {
   "cell_type": "code",
   "execution_count": null,
   "metadata": {
    "ExecuteTime": {
     "end_time": "2022-08-29T21:28:38.681938Z",
     "start_time": "2022-08-29T21:28:34.457Z"
    },
    "hidden": true
   },
   "outputs": [],
   "source": [
    "fig, ax = plt.subplots()\n",
    "ax.scatter(cluster0['V1'], cluster0['V2'], c='k', alpha=0.4)\n",
    "ax.scatter(cluster1['V1'], cluster1['V2'], c='c', alpha=0.4)\n",
    "ax.scatter(cluster2['V1'], cluster2['V2'], c='r', alpha=0.4);"
   ]
  },
  {
   "cell_type": "markdown",
   "metadata": {
    "heading_collapsed": true,
    "slideshow": {
     "slide_type": "slide"
    }
   },
   "source": [
    "## Note"
   ]
  },
  {
   "cell_type": "markdown",
   "metadata": {
    "heading_collapsed": true,
    "hidden": true,
    "slideshow": {
     "slide_type": "slide"
    }
   },
   "source": [
    "#### You *may* have different cluster centers.\n",
    "\n",
    "We saw in the demo that the algorithm is sensitive to starting points.\n",
    "\n",
    "Even if we set `n_init` to a significant value, it's still a good idea to use `random_state` to ensure repeatable results."
   ]
  },
  {
   "cell_type": "code",
   "execution_count": null,
   "metadata": {
    "ExecuteTime": {
     "end_time": "2022-08-29T21:28:38.682938Z",
     "start_time": "2022-08-29T21:28:34.459Z"
    },
    "hidden": true
   },
   "outputs": [],
   "source": [
    "model_setseed = KMeans(n_clusters=3, random_state=10).fit(dummy_dat)\n",
    "model_setseed.cluster_centers_"
   ]
  },
  {
   "cell_type": "markdown",
   "metadata": {
    "hidden": true,
    "slideshow": {
     "slide_type": "slide"
    }
   },
   "source": [
    "#### **Exercise**: \n",
    "- Try running `Kmeans` with different numbers of `n_clusters`, $k=2$ through $k=4$\n",
    "- Check the `cluster_centers_`."
   ]
  },
  {
   "cell_type": "code",
   "execution_count": null,
   "metadata": {
    "ExecuteTime": {
     "end_time": "2022-08-29T21:28:38.683438Z",
     "start_time": "2022-08-29T21:28:34.461Z"
    },
    "hidden": true
   },
   "outputs": [],
   "source": [
    "#Practice code goes here\n",
    "\n"
   ]
  },
  {
   "cell_type": "markdown",
   "metadata": {
    "heading_collapsed": true,
    "slideshow": {
     "slide_type": "slide"
    }
   },
   "source": [
    "## **Part 2**: Choosing the appropriate number of $k$"
   ]
  },
  {
   "cell_type": "markdown",
   "metadata": {
    "hidden": true,
    "slideshow": {
     "slide_type": "slide"
    }
   },
   "source": [
    "#### Two metrics we can use: **elbow method** and the **silhouette coefficient**"
   ]
  },
  {
   "cell_type": "markdown",
   "metadata": {
    "heading_collapsed": true,
    "hidden": true,
    "slideshow": {
     "slide_type": "slide"
    }
   },
   "source": [
    "### **Part 2A**: Elbow Method\n",
    "\n",
    "Elbow method uses the sum of squared error calculated from each instance of $k$ to find the best value of $k$.\n",
    "\n",
    "This is sometimes called the \"inertia\" of the model, and fitted sklearn $k$-means models have an `inertia_` attribute.\n",
    "\n",
    "Sometimes you will see the SSE divided by the total sum of squares in the dataset (how far is each point from the center of the entire dataset)\n",
    "\n",
    "Fewer clusters seems better, but inertia will always decrease with _more_ clusters. Hence the idea of looking for an elbow in the plot of inertia vs. $k$."
   ]
  },
  {
   "cell_type": "code",
   "execution_count": null,
   "metadata": {
    "ExecuteTime": {
     "end_time": "2022-08-29T21:28:38.684938Z",
     "start_time": "2022-08-29T21:28:34.463Z"
    },
    "hidden": true
   },
   "outputs": [],
   "source": [
    "model.inertia_"
   ]
  },
  {
   "cell_type": "markdown",
   "metadata": {
    "hidden": true
   },
   "source": [
    "Inertia is the sum of squared distances between points and their cluster center."
   ]
  },
  {
   "cell_type": "code",
   "execution_count": null,
   "metadata": {
    "ExecuteTime": {
     "end_time": "2022-08-29T21:28:38.685438Z",
     "start_time": "2022-08-29T21:28:34.465Z"
    },
    "hidden": true,
    "slideshow": {
     "slide_type": "slide"
    }
   },
   "outputs": [],
   "source": [
    "# Specifying the dataset and initializing variables\n",
    "X = dummy_dat\n",
    "distortions = []\n",
    "\n",
    "# Calculate SSE for different K\n",
    "for k in range(2, 10):\n",
    "    kmeans = KMeans(n_clusters=k, random_state=301)\n",
    "    kmeans.fit(X)\n",
    "    distortions.append(kmeans.inertia_)\n",
    "\n",
    "# Plot values of SSE\n",
    "fig, ax = plt.subplots(figsize=(10, 8))\n",
    "ax.set_title('Elbow curve')\n",
    "ax.set_xlabel('k')\n",
    "ax.plot(range(2, 10), distortions)\n",
    "ax.grid(True)"
   ]
  },
  {
   "cell_type": "markdown",
   "metadata": {
    "heading_collapsed": true,
    "hidden": true,
    "slideshow": {
     "slide_type": "slide"
    }
   },
   "source": [
    "### **Part 2B**: Silhouette Coefficient\n",
    "\n",
    "![silo](images/silo2.png)\n",
    "\n",
    "> **a** refers to the average distance between a point and all other points in that cluster.\n",
    "\n",
    "> **b** refers to the average distance between that same point and all other points in clusters to which it does not belong\n",
    "\n",
    "It is calculated for each point in the dataset, then averaged across all points for one cumulative score.\n",
    "\n",
    "The Silhouette Coefficient ranges between -1 and 1. The closer to 1, the more clearly defined are the clusters. The closer to -1, the more incorrect assignment.\n",
    "\n",
    "\n",
    "\n"
   ]
  },
  {
   "cell_type": "markdown",
   "metadata": {
    "hidden": true
   },
   "source": [
    "Suppose:\n",
    "- I have four points in a one-dimensional space: 0, 1, 9, and 10; and\n",
    "- I put them into two clusters: {0, 1} and {9, 10}.\n",
    "\n",
    "Then we would calculate the Silhouette Score as follows:\n",
    "\n",
    "For Point 0:\n",
    "- $a=1$\n",
    "- $b=9.5$\n",
    "- $s(0) = \\frac{9.5 - 1}{9.5} = \\frac{17}{19}$\n",
    "\n",
    "For Point 1:\n",
    "- $a=1$\n",
    "- $b=8.5$\n",
    "- $s(1) = \\frac{8.5 - 1}{8.5} = \\frac{15}{17}$\n",
    "\n",
    "For Point 9:\n",
    "- $a=1$\n",
    "- $b=8.5$\n",
    "- $s(9) = \\frac{8.5 - 1}{8.5} = \\frac{15}{17}$\n",
    "\n",
    "For Point 10:\n",
    "- $a=1$\n",
    "- $b=9.5$\n",
    "- $s(10) = \\frac{9.5 - 1}{9.5} = \\frac{17}{19}$\n",
    "\n",
    "The full Silhouette Score would be the average of all of these individual scores:\n",
    "\n",
    "$\\large s = \\frac{2\\left(\\frac{17}{19}\\right) + 2\\left(\\frac{15}{17}\\right)}{4}$"
   ]
  },
  {
   "cell_type": "code",
   "execution_count": null,
   "metadata": {
    "ExecuteTime": {
     "end_time": "2022-08-29T21:28:38.686438Z",
     "start_time": "2022-08-29T21:28:34.467Z"
    },
    "hidden": true
   },
   "outputs": [],
   "source": [
    "(2 * 17/19 + 2 * 15/17) / 4"
   ]
  },
  {
   "cell_type": "code",
   "execution_count": null,
   "metadata": {
    "ExecuteTime": {
     "end_time": "2022-08-29T21:28:38.687440Z",
     "start_time": "2022-08-29T21:28:34.468Z"
    },
    "hidden": true
   },
   "outputs": [],
   "source": [
    "metrics.silhouette_score(np.array([0, 1, 9, 10]).reshape(-1, 1),\n",
    "                         ['red', 'red', 'blue', 'blue'])"
   ]
  },
  {
   "cell_type": "code",
   "execution_count": null,
   "metadata": {
    "ExecuteTime": {
     "end_time": "2022-08-29T21:28:38.688439Z",
     "start_time": "2022-08-29T21:28:34.471Z"
    },
    "hidden": true,
    "slideshow": {
     "slide_type": "skip"
    }
   },
   "outputs": [],
   "source": [
    "# Generate silhouette coefficient for each k\n",
    "X = dummy_dat\n",
    "silhouette_plot = []\n",
    "for k in range(2, 10):\n",
    "    clusters = KMeans(n_clusters=k, random_state=10)\n",
    "    cluster_labels = clusters.fit_predict(X)\n",
    "    silhouette_avg = metrics.silhouette_score(X, cluster_labels)\n",
    "    silhouette_plot.append(silhouette_avg)"
   ]
  },
  {
   "cell_type": "code",
   "execution_count": null,
   "metadata": {
    "ExecuteTime": {
     "end_time": "2022-08-29T21:28:38.689442Z",
     "start_time": "2022-08-29T21:28:34.473Z"
    },
    "hidden": true,
    "slideshow": {
     "slide_type": "slide"
    }
   },
   "outputs": [],
   "source": [
    "# Plot Silhouette coefficient\n",
    "fig, ax = plt.subplots(figsize=(10, 8))\n",
    "ax.set_title('Silhouette coefficients over k')\n",
    "ax.set_xlabel('k')\n",
    "ax.set_ylabel('silhouette coefficient')\n",
    "ax.plot(range(2, 10), silhouette_plot)\n",
    "ax.axhline(y=np.mean(silhouette_plot), color=\"red\", linestyle=\"--\")\n",
    "ax.grid(True)"
   ]
  },
  {
   "cell_type": "markdown",
   "metadata": {
    "heading_collapsed": true,
    "slideshow": {
     "slide_type": "slide"
    }
   },
   "source": [
    "## **Part 3**: **Assumptions** and **challenges** of $k$-means"
   ]
  },
  {
   "cell_type": "markdown",
   "metadata": {
    "hidden": true,
    "slideshow": {
     "slide_type": "slide"
    }
   },
   "source": [
    "- Demonstrate the ideal $k$-means dataset\n",
    "- Show three scenarios where $k$-means struggles"
   ]
  },
  {
   "cell_type": "markdown",
   "metadata": {
    "heading_collapsed": true,
    "hidden": true
   },
   "source": [
    "#### Ideal $k$-means scenario"
   ]
  },
  {
   "cell_type": "code",
   "execution_count": null,
   "metadata": {
    "ExecuteTime": {
     "end_time": "2022-08-29T21:28:38.690440Z",
     "start_time": "2022-08-29T21:28:34.475Z"
    },
    "hidden": true,
    "slideshow": {
     "slide_type": "slide"
    }
   },
   "outputs": [],
   "source": [
    "ideal()"
   ]
  },
  {
   "cell_type": "markdown",
   "metadata": {
    "heading_collapsed": true,
    "hidden": true,
    "slideshow": {
     "slide_type": "slide"
    }
   },
   "source": [
    "#### Meets all assumptions:\n",
    "\n",
    "- Independent variables\n",
    "- Balanced cluster sizes\n",
    "- Clusters have similar density\n",
    "- Spherical clusters/equal variance of variables\n"
   ]
  },
  {
   "cell_type": "markdown",
   "metadata": {
    "heading_collapsed": true,
    "hidden": true,
    "slideshow": {
     "slide_type": "slide"
    }
   },
   "source": [
    "#### Problem Scenario 1 - classes not all round"
   ]
  },
  {
   "cell_type": "code",
   "execution_count": null,
   "metadata": {
    "ExecuteTime": {
     "end_time": "2022-08-29T21:28:38.691472Z",
     "start_time": "2022-08-29T21:28:34.477Z"
    },
    "hidden": true
   },
   "outputs": [],
   "source": [
    "messyOne()"
   ]
  },
  {
   "cell_type": "markdown",
   "metadata": {
    "heading_collapsed": true,
    "hidden": true,
    "slideshow": {
     "slide_type": "slide"
    }
   },
   "source": [
    "#### Problem Scenario 2 - imbalanced class size"
   ]
  },
  {
   "cell_type": "code",
   "execution_count": null,
   "metadata": {
    "ExecuteTime": {
     "end_time": "2022-08-29T21:28:38.691939Z",
     "start_time": "2022-08-29T21:28:34.479Z"
    },
    "hidden": true
   },
   "outputs": [],
   "source": [
    "messyTwo()"
   ]
  },
  {
   "cell_type": "markdown",
   "metadata": {
    "heading_collapsed": true,
    "hidden": true,
    "slideshow": {
     "slide_type": "slide"
    }
   },
   "source": [
    "#### Problem Scenario 3 - class size and density"
   ]
  },
  {
   "cell_type": "code",
   "execution_count": null,
   "metadata": {
    "ExecuteTime": {
     "end_time": "2022-08-29T21:28:38.692440Z",
     "start_time": "2022-08-29T21:28:34.482Z"
    },
    "hidden": true
   },
   "outputs": [],
   "source": [
    "messyThree()"
   ]
  },
  {
   "cell_type": "markdown",
   "metadata": {
    "heading_collapsed": true,
    "hidden": true,
    "slideshow": {
     "slide_type": "slide"
    }
   },
   "source": [
    "#### Solution to challenges:\n",
    "\n",
    "- Preprocessing: PCA or scaling\n",
    "- Try a different clustering methods"
   ]
  },
  {
   "cell_type": "markdown",
   "metadata": {
    "heading_collapsed": true,
    "slideshow": {
     "slide_type": "slide"
    }
   },
   "source": [
    "## Exercise:"
   ]
  },
  {
   "cell_type": "markdown",
   "metadata": {
    "heading_collapsed": true,
    "hidden": true,
    "slideshow": {
     "slide_type": "slide"
    }
   },
   "source": [
    "### $k$-means on larger dataset - Wine subscription\n",
    "\n",
    "You want to run a wine subscription service, but you have no idea about wine tasting notes. You are a person of science.\n",
    "You have a wine dataset of scientific measurements.\n",
    "If you know a customer likes a certain wine in the dataset, can you recommend other wines to the customer in the same cluster?"
   ]
  },
  {
   "cell_type": "markdown",
   "metadata": {
    "heading_collapsed": true,
    "hidden": true,
    "slideshow": {
     "slide_type": "slide"
    }
   },
   "source": [
    "#### Questions:\n",
    "- How many clusters are in the wine dataset?\n",
    "- What are the characteristics of each clusters?\n",
    "- What problems do you see potentially in the data?\n",
    "\n",
    "the dataset is `Wine.csv`\n",
    "\n",
    "Instructions:\n",
    "- First, remove customer_segment from the dataset"
   ]
  },
  {
   "cell_type": "code",
   "execution_count": null,
   "metadata": {
    "ExecuteTime": {
     "end_time": "2022-08-29T21:28:38.693440Z",
     "start_time": "2022-08-29T21:28:34.484Z"
    },
    "hidden": true,
    "slideshow": {
     "slide_type": "skip"
    }
   },
   "outputs": [],
   "source": [
    "# Work on problem here: Would scaling make a difference?\n",
    "wine = pd.read_csv('data/Wine.csv')\n",
    "wine.drop(columns=['Customer_Segment'], inplace=True)\n",
    "wine.head()"
   ]
  },
  {
   "cell_type": "markdown",
   "metadata": {
    "heading_collapsed": true,
    "hidden": true,
    "slideshow": {
     "slide_type": "slide"
    }
   },
   "source": [
    "### Review $k$-means steps"
   ]
  },
  {
   "cell_type": "markdown",
   "metadata": {
    "hidden": true,
    "slideshow": {
     "slide_type": "slide"
    }
   },
   "source": [
    "1. Look at and clean data (if needed)\n",
    "2. Scale data\n",
    "3. Try various values of $k$\n",
    "4. Plot SSE and Silhouette coefficient to find best $k$\n",
    "5. Describe the characteristics of each cluster using their centroids"
   ]
  },
  {
   "cell_type": "markdown",
   "metadata": {
    "heading_collapsed": true,
    "hidden": true,
    "slideshow": {
     "slide_type": "slide"
    }
   },
   "source": [
    "### How many clusters fit the data?"
   ]
  },
  {
   "cell_type": "markdown",
   "metadata": {
    "hidden": true,
    "slideshow": {
     "slide_type": "slide"
    }
   },
   "source": [
    "What can you tell me about them?"
   ]
  },
  {
   "cell_type": "code",
   "execution_count": null,
   "metadata": {
    "ExecuteTime": {
     "end_time": "2022-08-29T21:28:38.694468Z",
     "start_time": "2022-08-29T21:28:34.487Z"
    },
    "hidden": true
   },
   "outputs": [],
   "source": [
    "# Your Code Here"
   ]
  },
  {
   "cell_type": "markdown",
   "metadata": {
    "heading_collapsed": true,
    "slideshow": {
     "slide_type": "slide"
    }
   },
   "source": [
    "## One last example"
   ]
  },
  {
   "cell_type": "markdown",
   "metadata": {
    "hidden": true,
    "slideshow": {
     "slide_type": "slide"
    }
   },
   "source": [
    "Using online retail data data from [UCI database](https://archive.ics.uci.edu/ml/datasets/online+retail)."
   ]
  },
  {
   "cell_type": "markdown",
   "metadata": {
    "hidden": true,
    "slideshow": {
     "slide_type": "slide"
    }
   },
   "source": [
    "You are looking for patterns so you can get people to buy more, more frequently. \n",
    "You might have to create some new variables."
   ]
  },
  {
   "cell_type": "code",
   "execution_count": null,
   "metadata": {
    "ExecuteTime": {
     "end_time": "2022-08-29T21:28:38.694938Z",
     "start_time": "2022-08-29T21:28:34.491Z"
    },
    "hidden": true
   },
   "outputs": [],
   "source": [
    "shopping = pd.read_excel('data/Online Retail.xlsx')"
   ]
  },
  {
   "cell_type": "code",
   "execution_count": null,
   "metadata": {
    "ExecuteTime": {
     "end_time": "2022-08-29T21:28:38.695969Z",
     "start_time": "2022-08-29T21:28:34.493Z"
    },
    "hidden": true
   },
   "outputs": [],
   "source": [
    "shopping.tail(20)"
   ]
  },
  {
   "cell_type": "code",
   "execution_count": null,
   "metadata": {
    "ExecuteTime": {
     "end_time": "2022-08-29T21:28:38.696969Z",
     "start_time": "2022-08-29T21:28:34.495Z"
    },
    "hidden": true
   },
   "outputs": [],
   "source": [
    "# Aaaaaand GO!"
   ]
  }
 ],
 "metadata": {
  "kernelspec": {
   "display_name": "learn-env",
   "language": "python",
   "name": "learn-env"
  },
  "language_info": {
   "codemirror_mode": {
    "name": "ipython",
    "version": 3
   },
   "file_extension": ".py",
   "mimetype": "text/x-python",
   "name": "python",
   "nbconvert_exporter": "python",
   "pygments_lexer": "ipython3",
   "version": "3.8.5"
  },
  "toc": {
   "base_numbering": 1,
   "nav_menu": {},
   "number_sections": true,
   "sideBar": true,
   "skip_h1_title": false,
   "title_cell": "Table of Contents",
   "title_sidebar": "Contents",
   "toc_cell": false,
   "toc_position": {
    "height": "calc(100% - 180px)",
    "left": "10px",
    "top": "150px",
    "width": "397.547px"
   },
   "toc_section_display": true,
   "toc_window_display": true
  },
  "varInspector": {
   "cols": {
    "lenName": 16,
    "lenType": 16,
    "lenVar": 40
   },
   "kernels_config": {
    "python": {
     "delete_cmd_postfix": "",
     "delete_cmd_prefix": "del ",
     "library": "var_list.py",
     "varRefreshCmd": "print(var_dic_list())"
    },
    "r": {
     "delete_cmd_postfix": ") ",
     "delete_cmd_prefix": "rm(",
     "library": "var_list.r",
     "varRefreshCmd": "cat(var_dic_list()) "
    }
   },
   "types_to_exclude": [
    "module",
    "function",
    "builtin_function_or_method",
    "instance",
    "_Feature"
   ],
   "window_display": false
  }
 },
 "nbformat": 4,
 "nbformat_minor": 2
}

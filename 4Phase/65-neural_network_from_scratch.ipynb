{
 "cells": [
  {
   "cell_type": "markdown",
   "metadata": {
    "heading_collapsed": true
   },
   "source": [
    "# NN by Hand"
   ]
  },
  {
   "cell_type": "code",
   "execution_count": null,
   "metadata": {
    "ExecuteTime": {
     "end_time": "2023-01-18T17:37:00.844531Z",
     "start_time": "2023-01-18T17:36:59.872032Z"
    },
    "hidden": true
   },
   "outputs": [],
   "source": [
    "import numpy as np\n",
    "from sklearn.datasets import make_regression\n",
    "from sklearn.linear_model import LinearRegression\n",
    "from sklearn.metrics import mean_squared_error as mse"
   ]
  },
  {
   "cell_type": "markdown",
   "metadata": {
    "hidden": true
   },
   "source": [
    "We're going to make a very simple neural network by hand.\n",
    "\n",
    "Let's imagine that we have just a five-neuron network: two input neurons, two hidden-layer neurons, and a single output neuron.\n",
    "\n",
    "We'll start by giving ourselves a regression problem."
   ]
  },
  {
   "cell_type": "markdown",
   "metadata": {
    "hidden": true
   },
   "source": [
    "![example](./images/one-hidden-layer-simplest-neural-network.jpg)"
   ]
  },
  {
   "cell_type": "code",
   "execution_count": null,
   "metadata": {
    "ExecuteTime": {
     "end_time": "2023-01-18T17:37:00.849533Z",
     "start_time": "2023-01-18T17:37:00.846033Z"
    },
    "hidden": true
   },
   "outputs": [],
   "source": [
    "X, y = make_regression(n_features=2,\n",
    "                       n_informative=1,\n",
    "                       noise=100,\n",
    "                       random_state=42)"
   ]
  },
  {
   "cell_type": "markdown",
   "metadata": {
    "hidden": true
   },
   "source": [
    "Let's first check to see how a vanilla linear regression model does:"
   ]
  },
  {
   "cell_type": "code",
   "execution_count": null,
   "metadata": {
    "ExecuteTime": {
     "end_time": "2023-01-18T17:37:00.861563Z",
     "start_time": "2023-01-18T17:37:00.851532Z"
    },
    "hidden": true
   },
   "outputs": [],
   "source": [
    "X[:5]"
   ]
  },
  {
   "cell_type": "code",
   "execution_count": null,
   "metadata": {
    "ExecuteTime": {
     "end_time": "2023-01-18T17:37:00.894531Z",
     "start_time": "2023-01-18T17:37:00.863033Z"
    },
    "hidden": true,
    "scrolled": true
   },
   "outputs": [],
   "source": [
    "simple_lr = LinearRegression().fit(X, y)\n",
    "\n",
    "simple_lr.score(X, y)"
   ]
  },
  {
   "cell_type": "code",
   "execution_count": null,
   "metadata": {
    "ExecuteTime": {
     "end_time": "2023-01-18T17:37:00.901031Z",
     "start_time": "2023-01-18T17:37:00.896032Z"
    },
    "hidden": true
   },
   "outputs": [],
   "source": [
    "mse(y, simple_lr.predict(X), squared=False)"
   ]
  },
  {
   "cell_type": "markdown",
   "metadata": {
    "heading_collapsed": true,
    "hidden": true
   },
   "source": [
    "## Input Neurons"
   ]
  },
  {
   "cell_type": "markdown",
   "metadata": {
    "hidden": true
   },
   "source": [
    "We have just two features, so we'll have two input neurons."
   ]
  },
  {
   "cell_type": "code",
   "execution_count": null,
   "metadata": {
    "ExecuteTime": {
     "end_time": "2023-01-18T17:37:00.906032Z",
     "start_time": "2023-01-18T17:37:00.902532Z"
    },
    "hidden": true
   },
   "outputs": [],
   "source": [
    "n_samples = X.shape[0]\n",
    "n_features = X.shape[1]\n",
    "\n",
    "# Initial inputs\n",
    "input1 = X[:, 0].reshape(-1, 1)\n",
    "input2 = X[:, 1].reshape(-1, 1)"
   ]
  },
  {
   "cell_type": "markdown",
   "metadata": {
    "heading_collapsed": true,
    "hidden": true
   },
   "source": [
    "## Weights for the Connections Between the Input Neurons and the Hidden Neurons"
   ]
  },
  {
   "cell_type": "markdown",
   "metadata": {
    "hidden": true
   },
   "source": [
    "We'll just start by setting our weights randomly. The idea will be that we'll be able to use gradient descent to improve their values during network training."
   ]
  },
  {
   "cell_type": "code",
   "execution_count": null,
   "metadata": {
    "ExecuteTime": {
     "end_time": "2023-01-18T17:37:00.912536Z",
     "start_time": "2023-01-18T17:37:00.907532Z"
    },
    "hidden": true
   },
   "outputs": [],
   "source": [
    "# Four weights to optimize for between input\n",
    "# and hidden layers\n",
    "\n",
    "# For simplicity let's assume biases of 0\n",
    "# throughout\n",
    "\n",
    "np.random.seed(42)\n",
    "\n",
    "in_hid_weights1 = np.random.rand(2)\n",
    "in_hid_weights2 = np.random.rand(2)"
   ]
  },
  {
   "cell_type": "code",
   "execution_count": null,
   "metadata": {
    "ExecuteTime": {
     "end_time": "2023-01-18T17:37:00.919033Z",
     "start_time": "2023-01-18T17:37:00.914531Z"
    },
    "hidden": true
   },
   "outputs": [],
   "source": [
    "in_hid_weights1"
   ]
  },
  {
   "cell_type": "markdown",
   "metadata": {
    "heading_collapsed": true,
    "hidden": true
   },
   "source": [
    "## Hidden Neurons"
   ]
  },
  {
   "cell_type": "markdown",
   "metadata": {
    "hidden": true
   },
   "source": [
    "Each neuron in the hidden layer will take the two inputs and multiply them by a unique set of weights:"
   ]
  },
  {
   "cell_type": "code",
   "execution_count": null,
   "metadata": {
    "ExecuteTime": {
     "end_time": "2023-01-18T17:37:00.925032Z",
     "start_time": "2023-01-18T17:37:00.921532Z"
    },
    "hidden": true
   },
   "outputs": [],
   "source": [
    "in1_to_hid = (np.sum(np.product(np.array([in_hid_weights1, input1], dtype=object), axis=0), axis=1)).reshape(-1, 1)\n",
    "in2_to_hid = (np.sum(np.product(np.array([in_hid_weights2, input2], dtype=object), axis=0), axis=1)).reshape(-1, 1)"
   ]
  },
  {
   "cell_type": "markdown",
   "metadata": {
    "hidden": true
   },
   "source": [
    "For simplicity let's assume a **linear activation function**, $f(x)=x$, in the hidden nodes."
   ]
  },
  {
   "cell_type": "markdown",
   "metadata": {
    "heading_collapsed": true,
    "hidden": true
   },
   "source": [
    "## Weights for the Connections Between the Hidden Neurons and the Output Neuron"
   ]
  },
  {
   "cell_type": "markdown",
   "metadata": {
    "hidden": true
   },
   "source": [
    "Again we'll just set our weights randomly. Here there will be two weights: one governing the connection between each hidden neuron and the output neuron."
   ]
  },
  {
   "cell_type": "code",
   "execution_count": null,
   "metadata": {
    "ExecuteTime": {
     "end_time": "2023-01-18T17:37:00.930531Z",
     "start_time": "2023-01-18T17:37:00.926532Z"
    },
    "hidden": true
   },
   "outputs": [],
   "source": [
    "np.random.seed(42)\n",
    "\n",
    "hid_out_weights = np.random.rand(2)"
   ]
  },
  {
   "cell_type": "code",
   "execution_count": null,
   "metadata": {
    "ExecuteTime": {
     "end_time": "2023-01-18T17:37:00.936033Z",
     "start_time": "2023-01-18T17:37:00.932032Z"
    },
    "hidden": true
   },
   "outputs": [],
   "source": [
    "hid_out_weights"
   ]
  },
  {
   "cell_type": "markdown",
   "metadata": {
    "heading_collapsed": true,
    "hidden": true
   },
   "source": [
    "## Output Neuron"
   ]
  },
  {
   "cell_type": "markdown",
   "metadata": {
    "hidden": true
   },
   "source": [
    "Now we need to take the contribution from each hidden neuron and create a linear sum with the predetermined weights, just as above in the hidden neurons."
   ]
  },
  {
   "cell_type": "code",
   "execution_count": null,
   "metadata": {
    "ExecuteTime": {
     "end_time": "2023-01-18T17:37:00.941032Z",
     "start_time": "2023-01-18T17:37:00.938032Z"
    },
    "hidden": true
   },
   "outputs": [],
   "source": [
    "joint_to_out = np.hstack((in1_to_hid, in2_to_hid))"
   ]
  },
  {
   "cell_type": "code",
   "execution_count": null,
   "metadata": {
    "ExecuteTime": {
     "end_time": "2023-01-18T17:37:00.950537Z",
     "start_time": "2023-01-18T17:37:00.943032Z"
    },
    "hidden": true
   },
   "outputs": [],
   "source": [
    "output = (np.sum(np.product([hid_out_weights, joint_to_out],dtype=object, axis=0), axis=1)).reshape(-1, 1)"
   ]
  },
  {
   "cell_type": "code",
   "execution_count": null,
   "metadata": {
    "ExecuteTime": {
     "end_time": "2023-01-18T17:37:00.957031Z",
     "start_time": "2023-01-18T17:37:00.951532Z"
    },
    "hidden": true
   },
   "outputs": [],
   "source": [
    "output[:5]"
   ]
  },
  {
   "cell_type": "markdown",
   "metadata": {
    "hidden": true
   },
   "source": [
    "Again we'll assume a linear activation."
   ]
  },
  {
   "cell_type": "markdown",
   "metadata": {
    "heading_collapsed": true,
    "hidden": true
   },
   "source": [
    "## Error Calculation"
   ]
  },
  {
   "cell_type": "markdown",
   "metadata": {
    "hidden": true
   },
   "source": [
    "Now we can compute a measure of error:"
   ]
  },
  {
   "cell_type": "code",
   "execution_count": null,
   "metadata": {
    "ExecuteTime": {
     "end_time": "2023-01-18T17:37:00.962532Z",
     "start_time": "2023-01-18T17:37:00.958532Z"
    },
    "hidden": true
   },
   "outputs": [],
   "source": [
    "output = output.flatten()\n",
    "\n",
    "np.sqrt(mse(y, output))"
   ]
  },
  {
   "cell_type": "markdown",
   "metadata": {
    "hidden": true
   },
   "source": [
    "### Backpropagation"
   ]
  },
  {
   "cell_type": "markdown",
   "metadata": {
    "hidden": true
   },
   "source": [
    "Now then: How do we make corrections to our weights to improve our model's performance? Our network looks like this:"
   ]
  },
  {
   "cell_type": "markdown",
   "metadata": {
    "hidden": true
   },
   "source": [
    "![nn](images/SimpleNN.png)"
   ]
  },
  {
   "cell_type": "markdown",
   "metadata": {
    "hidden": true
   },
   "source": [
    "Clearly our output is a function of these six weights. But what function, exactly?"
   ]
  },
  {
   "cell_type": "markdown",
   "metadata": {
    "hidden": true
   },
   "source": [
    "- In the top hidden node we construct: <br/> $H_1 = w_1X_1 + w_3X_2$ <br/> and in the bottom node we construct: <br/> $H_2 = w_2X_1 + w_4X_2$.\n",
    "<br/> <br/>\n",
    "- In the output node we construct: <br/> $\\hat{y} = w_5H_1 + w_6H_2$ <br/> i.e. <br/> $\\hat{y} = w_5(w_1X_1 + w_3X_2) + w_6(w_2X_1 + w_4X_2)$ <br/> or <br/> $\\hat{y} = X_1(w_1w_5 + w_2w_6) + X_2(w_3w_5 + w_4w_6)$."
   ]
  },
  {
   "cell_type": "markdown",
   "metadata": {
    "hidden": true
   },
   "source": [
    "#### Loss Function"
   ]
  },
  {
   "cell_type": "markdown",
   "metadata": {
    "hidden": true
   },
   "source": [
    "Our loss function (let's assume) is just $\\mathcal{L} = \\Sigma\\left(y - \\hat{y}\\right)^2$. What are the partial derivatives of this function?\n",
    "\n",
    "We have $\\mathcal{L} = \\Sigma\\left(y - [X_1(w_1w_5 + w_2w_6) + X_2(w_3w_5 + w_4w_6)]\\right)^2$.\n",
    "\n",
    "Therefore:\n",
    "\n",
    "- $\\frac{\\partial\\mathcal{L}}{\\partial w_1} = -2w_5X_1\\Sigma\\left(y - [X_1(w_1w_5 + w_2w_6) + X_2(w_3w_5 + w_4w_6)]\\right)$\n",
    "\n",
    "- $\\frac{\\partial\\mathcal{L}}{\\partial w_2} = -2w_6X_1\\Sigma\\left(y - [X_1(w_1w_5 + w_2w_6) + X_2(w_3w_5 + w_4w_6)]\\right)$\n",
    "\n",
    "- $\\frac{\\partial\\mathcal{L}}{\\partial w_3} = -2w_5X_2\\Sigma\\left(y - [X_1(w_1w_5 + w_2w_6) + X_2(w_3w_5 + w_4w_6)]\\right)$\n",
    "\n",
    "- $\\frac{\\partial\\mathcal{L}}{\\partial w_4} = -2w_6X_2\\Sigma\\left(y - [X_1(w_1w_5 + w_2w_6) + X_2(w_3w_5 + w_4w_6)]\\right)$\n",
    "\n",
    "- $\\frac{\\partial\\mathcal{L}}{\\partial w_5} = -2(w_1X_1 + w_3X_2)\\Sigma\\left(y - [X_1(w_1w_5 + w_2w_6) + X_2(w_3w_5 + w_4w_6)]\\right)$\n",
    "\n",
    "- $\\frac{\\partial\\mathcal{L}}{\\partial w_6} = -2(w_2X_1 + w_4X_2)\\Sigma\\left(y - [X_1(w_1w_5 + w_2w_6) + X_2(w_3w_5 + w_4w_6)]\\right)$"
   ]
  },
  {
   "cell_type": "markdown",
   "metadata": {
    "hidden": true
   },
   "source": [
    "So the goal now should just be to nudge each of our weights in (the opposites of) these directions."
   ]
  },
  {
   "cell_type": "markdown",
   "metadata": {
    "hidden": true
   },
   "source": [
    "Let's first isolate each of these six weights:"
   ]
  },
  {
   "cell_type": "code",
   "execution_count": null,
   "metadata": {
    "ExecuteTime": {
     "end_time": "2023-01-18T17:37:00.969534Z",
     "start_time": "2023-01-18T17:37:00.964032Z"
    },
    "hidden": true
   },
   "outputs": [],
   "source": [
    "w1 = in_hid_weights1[0]\n",
    "w2 = in_hid_weights1[1]\n",
    "w3 = in_hid_weights2[0]\n",
    "w4 = in_hid_weights2[1]\n",
    "w5 = hid_out_weights[0]\n",
    "w6 = hid_out_weights[1]"
   ]
  },
  {
   "cell_type": "markdown",
   "metadata": {
    "hidden": true
   },
   "source": [
    "Let's build an SGD function that will adjust weights after each training sample runs through the network."
   ]
  },
  {
   "cell_type": "code",
   "execution_count": null,
   "metadata": {
    "ExecuteTime": {
     "end_time": "2023-01-18T17:37:00.978531Z",
     "start_time": "2023-01-18T17:37:00.971539Z"
    },
    "hidden": true
   },
   "outputs": [],
   "source": [
    "def stoch_grad_desc(pred1=input1, pred2=input2, y=y,\n",
    "              w1=w1, w2=w2, w3=w3, w4=w4,\n",
    "              w5=w5, w6=w6, times_thru=1, lr=1e-4):\n",
    "\n",
    "    for k in range(times_thru):\n",
    "    \n",
    "        for j in range(pred1.shape[0]):\n",
    "            \n",
    "            in1_val = pred1[j]\n",
    "            in2_val = pred2[j]\n",
    "            \n",
    "            # This is stochastic gradient descent since we are updating\n",
    "            # our weights *after each data point* goes through the network.\n",
    "            \n",
    "            sum_ = y[j] - in1_val*(w1*w5 + w2*w6) - in2_val*(w3*w5 + w4*w6)\n",
    "\n",
    "            w5 += lr*(w1*in1_val + w3*in2_val)*sum_\n",
    "\n",
    "            w6 += lr*(w2*in1_val + w4*in2_val)*sum_\n",
    "\n",
    "            w1 += lr*w5*in1_val*sum_\n",
    "\n",
    "            w2 += lr*w6*in1_val*sum_\n",
    "\n",
    "            w3 += lr*w5*in2_val*sum_\n",
    "\n",
    "            w4 += lr*w6*in2_val*sum_\n",
    "            \n",
    "            output = pred1*(w1*w5 + w2*w6) + pred2*(w3*w5 + w4*w6)\n",
    "            \n",
    "            if j == 0 and k == 0:\n",
    "                print(f\"\"\"\n",
    "                After a single data point our RMSE is {np.sqrt(mse(y, output.flatten()))}\n",
    "                \"\"\")\n",
    "            \n",
    "        print(f\"\"\"\n",
    "                After {k+1} epochs our RMSE is {np.sqrt(mse(y, output.flatten()))}\n",
    "        \"\"\")\n",
    "        \n",
    "    return w1, w2, w3, w4, w5, w6"
   ]
  },
  {
   "cell_type": "code",
   "execution_count": null,
   "metadata": {
    "ExecuteTime": {
     "end_time": "2023-01-18T17:37:01.001531Z",
     "start_time": "2023-01-18T17:37:00.980032Z"
    },
    "hidden": true
   },
   "outputs": [],
   "source": [
    "stoch_grad_desc(times_thru=5)"
   ]
  },
  {
   "cell_type": "markdown",
   "metadata": {
    "heading_collapsed": true,
    "hidden": true
   },
   "source": [
    "## Easy Regression Problem"
   ]
  },
  {
   "cell_type": "markdown",
   "metadata": {
    "hidden": true
   },
   "source": [
    "Our error has decreased with more epochs, but to illustrate the full power of our network let's see if it can find the right coefficients for an \"easy\" problem where there is a strong correlation between both of two input features and the target."
   ]
  },
  {
   "cell_type": "code",
   "execution_count": null,
   "metadata": {
    "ExecuteTime": {
     "end_time": "2023-01-18T17:37:01.006031Z",
     "start_time": "2023-01-18T17:37:01.003031Z"
    },
    "hidden": true
   },
   "outputs": [],
   "source": [
    "# Setting up the problem\n",
    "\n",
    "X_easy, y_easy = make_regression(n_features=2, n_informative=2, random_state=42)"
   ]
  },
  {
   "cell_type": "code",
   "execution_count": null,
   "metadata": {
    "ExecuteTime": {
     "end_time": "2023-01-18T17:37:01.011031Z",
     "start_time": "2023-01-18T17:37:01.007531Z"
    },
    "hidden": true
   },
   "outputs": [],
   "source": [
    "# Again defining weights randomly. We'll be using the same network, so we need\n",
    "# six weights.\n",
    "\n",
    "np.random.seed(42)\n",
    "\n",
    "w_easy = np.random.rand(6)"
   ]
  },
  {
   "cell_type": "code",
   "execution_count": null,
   "metadata": {
    "ExecuteTime": {
     "end_time": "2023-01-18T17:37:01.022031Z",
     "start_time": "2023-01-18T17:37:01.012532Z"
    },
    "hidden": true
   },
   "outputs": [],
   "source": [
    "# Applying our stoch_grad_desc() function\n",
    "\n",
    "final_weights = stoch_grad_desc(pred1=X_easy[:, 0], pred2=X_easy[:, 1], y=y_easy,\n",
    "         w1=w_easy[0], w2=w_easy[1], w3=w_easy[2],\n",
    "         w4=w_easy[3], w5=w_easy[4], w6=w_easy[5],\n",
    "         lr=4e-3, times_thru=3)\n",
    "final_weights"
   ]
  },
  {
   "cell_type": "markdown",
   "metadata": {
    "hidden": true
   },
   "source": [
    "Wow! Look how small our error is after just three epochs!"
   ]
  },
  {
   "cell_type": "markdown",
   "metadata": {
    "hidden": true
   },
   "source": [
    "### Comparing with `LinearRegression()`"
   ]
  },
  {
   "cell_type": "markdown",
   "metadata": {
    "hidden": true
   },
   "source": [
    "We can translate these final weight values into $\\beta_1$ and $\\beta_2$ for a traditional linear regression $\\hat{y} = \\beta_1X_1 + \\beta_2X_2$.\n",
    "\n",
    "Above we calculated $\\hat{y} = X_1(w_1w_5 + w_2w_6) + X_2(w_3w_5 + w_4w_6)$.\n",
    "\n",
    "Thus we have:\n",
    "\n",
    "- $\\beta_1 = w_1w_5 + w_2w_6$, and\n",
    "- $\\beta_2 = w_3w_5 + w_4w_6$."
   ]
  },
  {
   "cell_type": "markdown",
   "metadata": {
    "hidden": true
   },
   "source": [
    "Plugging these in for our final calculated weights we have:"
   ]
  },
  {
   "cell_type": "code",
   "execution_count": null,
   "metadata": {
    "ExecuteTime": {
     "end_time": "2023-01-18T17:37:01.026532Z",
     "start_time": "2023-01-18T17:37:01.023531Z"
    },
    "hidden": true
   },
   "outputs": [],
   "source": [
    "beta1 = final_weights[0]*final_weights[4] + final_weights[1]*final_weights[5]\n",
    "beta2 = final_weights[2]*final_weights[4] + final_weights[3]*final_weights[5]\n",
    "print(f\"Our mini-NN found coefficients of {beta1} and {beta2}.\")"
   ]
  },
  {
   "cell_type": "markdown",
   "metadata": {
    "hidden": true
   },
   "source": [
    "Let's compare these numbers with the results of `LinearRegression()`:"
   ]
  },
  {
   "cell_type": "code",
   "execution_count": null,
   "metadata": {
    "ExecuteTime": {
     "end_time": "2023-01-18T17:37:01.035032Z",
     "start_time": "2023-01-18T17:37:01.030532Z"
    },
    "hidden": true
   },
   "outputs": [],
   "source": [
    "LinearRegression(fit_intercept=False).fit(X_easy, y_easy).coef_"
   ]
  },
  {
   "cell_type": "markdown",
   "metadata": {
    "hidden": true
   },
   "source": [
    "Our little neural network, which has:\n",
    "- only five neurons;\n",
    "- randomly generated initial weights;\n",
    "- only linear activation functions; and\n",
    "- all biases set to 0\n",
    "\n",
    "can do the same job as a linear regression after just a couple of epochs!"
   ]
  },
  {
   "cell_type": "code",
   "execution_count": null,
   "metadata": {
    "hidden": true
   },
   "outputs": [],
   "source": []
  }
 ],
 "metadata": {
  "kernelspec": {
   "display_name": "learn-env",
   "language": "python",
   "name": "learn-env"
  },
  "language_info": {
   "codemirror_mode": {
    "name": "ipython",
    "version": 3
   },
   "file_extension": ".py",
   "mimetype": "text/x-python",
   "name": "python",
   "nbconvert_exporter": "python",
   "pygments_lexer": "ipython3",
   "version": "3.8.5"
  },
  "toc": {
   "base_numbering": 1,
   "nav_menu": {},
   "number_sections": true,
   "sideBar": true,
   "skip_h1_title": false,
   "title_cell": "Table of Contents",
   "title_sidebar": "Contents",
   "toc_cell": false,
   "toc_position": {},
   "toc_section_display": true,
   "toc_window_display": false
  },
  "varInspector": {
   "cols": {
    "lenName": 16,
    "lenType": 16,
    "lenVar": 40
   },
   "kernels_config": {
    "python": {
     "delete_cmd_postfix": "",
     "delete_cmd_prefix": "del ",
     "library": "var_list.py",
     "varRefreshCmd": "print(var_dic_list())"
    },
    "r": {
     "delete_cmd_postfix": ") ",
     "delete_cmd_prefix": "rm(",
     "library": "var_list.r",
     "varRefreshCmd": "cat(var_dic_list()) "
    }
   },
   "types_to_exclude": [
    "module",
    "function",
    "builtin_function_or_method",
    "instance",
    "_Feature"
   ],
   "window_display": false
  }
 },
 "nbformat": 4,
 "nbformat_minor": 4
}

{
 "cells": [
  {
   "cell_type": "markdown",
   "metadata": {},
   "source": [
    "# The Shortest Distance Between a Point and a Line"
   ]
  },
  {
   "cell_type": "markdown",
   "metadata": {},
   "source": [
    "If we use PCA to transform our dataset, the first principal component may look a lot like a line of best fit. But they are **not** the same.\n",
    "\n",
    "Consider the simple two-variable case. The best-fit-line algorithm minimizes the sum of *vertical* distances between data points $(x, y)$ and model predictions $(x, \\beta_1x+\\beta_0)$.\n",
    "\n",
    "But the first principal component minimizes the sum of distances bewteen data points and *itself*. That is, we are dealing here with the shortest distance between a point and a line.\n",
    "\n",
    "We can prove that the shortest distance between a point and a line is measured by a line *perpendicular to* the given line."
   ]
  },
  {
   "cell_type": "markdown",
   "metadata": {},
   "source": [
    "## Problem Setup"
   ]
  },
  {
   "cell_type": "markdown",
   "metadata": {},
   "source": [
    "Suppose we have a line $L$, given by $y=mx+b$, and a point $P$ not (necessarily) on the line, $(x_0, y_0)$.\n",
    "\n",
    "Assuming a Euclidean geometry, we can represent this distance using the Pythagorean Theorem. We'll specify it as a function of $x_L$, the point on the line from which we are measuring the distance to $P$:\n",
    "\n",
    "$D(x_L) = \\sqrt{(x_L-x_0)^2 + (mx_L+b-y_0)^2}$."
   ]
  },
  {
   "cell_type": "markdown",
   "metadata": {},
   "source": [
    "## Familiar Calculus Trick"
   ]
  },
  {
   "cell_type": "markdown",
   "metadata": {},
   "source": [
    "To minimize $D(x_L)$, we'll set its derivative to 0:\n",
    "\n",
    "$D'(x_L) = \\frac{1}{2}((x_L-x_0)^2 + (mx_L+b-y_0)^2)^{-\\frac{1}{2}}(2)(x_L-x_0+m(mx_L+b-y_0))$\n",
    "\n",
    "$D'(x_L) = \\frac{x_L-x_0+m^2x_L+mb-my_0}{\\sqrt{(x_L-x_0)^2 + (mx_L+b-y_0)^2}}$"
   ]
  },
  {
   "cell_type": "markdown",
   "metadata": {},
   "source": [
    "If this function equals 0, then its numerator equals 0:"
   ]
  },
  {
   "cell_type": "markdown",
   "metadata": {},
   "source": [
    "$x_L+m^2x_L-x_0+mb-my_0 = 0$.\n",
    "\n",
    "Thus:\n",
    "\n",
    "$x_L(m^2+1) = x_0+my_0-mb$.\n",
    "\n",
    "Or:\n",
    "\n",
    "$x_L = \\frac{x_0 + m(y_0 - b)}{m^2+1}$.\n",
    "\n",
    "Thus the point $P_L$ on the line $(x, y)$ that is closest to $P$ is given by:\n",
    "\n",
    "$P_L = (\\frac{x_0 + m(y_0 - b)}{m^2+1}, m\\frac{x_0 + m(y_0 - b)}{m^2+1}+b)$"
   ]
  },
  {
   "cell_type": "markdown",
   "metadata": {},
   "source": [
    "## Slope of Line Between $P$ and $P_L$"
   ]
  },
  {
   "cell_type": "markdown",
   "metadata": {},
   "source": [
    "We now show that the slope of the line between $P$ and $P_L$ is $-\\frac{1}{m}$. That is, this  connecting line is **perpendicular** to $L$."
   ]
  },
  {
   "cell_type": "markdown",
   "metadata": {},
   "source": [
    "We can write the slope of the connecting line as follows:\n",
    "\n",
    "$\\large Slope = \\frac{y_2-y_1}{x_2-x_1} = \\frac{\\frac{m(x_0 + m(y_0-b))}{m^2+1}+b - y_0}{\\frac{x_0+m(y_0-b)}{m^2+1} - x_0}$"
   ]
  },
  {
   "cell_type": "markdown",
   "metadata": {},
   "source": [
    "Let's multiply top and bottom by $m^2+1$ to make things a bit more perspicuous:"
   ]
  },
  {
   "cell_type": "markdown",
   "metadata": {},
   "source": [
    "$\\large Slope = \\frac{m(x_0 + m(y_0-b))+(m^2+1)(b - y_0)}{x_0+m(y_0-b) - x_0(m^2+1)}$"
   ]
  },
  {
   "cell_type": "markdown",
   "metadata": {},
   "source": [
    "Now let's factor out $(y_0-b)$ in top and bottom:"
   ]
  },
  {
   "cell_type": "markdown",
   "metadata": {},
   "source": [
    "$\\large Slope = \\frac{(y_0-b)(m^2-m^2-1)+mx_0}{(y_0-b)(m)+x_0(1-1-m^2)}$, so\n",
    "\n",
    "$\\large Slope = \\frac{(y_0-b)(-1)+mx_0}{(y_0-b)(m)-m^2x_0}$, so\n",
    "\n",
    "$\\large Slope = \\frac{(y_0-b)(-1)+mx_0}{(m)(y_0-b-mx_0)}$, so\n",
    "\n",
    "$\\large Slope = \\frac{(y_0-b-mx_0)(-1)}{(y_0-b-mx_0)(m)}$, i.e.\n",
    "\n",
    "$\\large Slope = -\\frac{1}{m}$."
   ]
  },
  {
   "cell_type": "markdown",
   "metadata": {},
   "source": [
    "This completes our proof that the slope of the line that gives the shortest distance between a point and a given line is perpendicular to the given line. Notice that the last step assumes that $y_0 - b - mx_0 \\neq 0$. If not, then we have $y_0 = mx_0 + b$, which is to say that the point would be on the given line."
   ]
  }
 ],
 "metadata": {
  "kernelspec": {
   "display_name": "Python 3",
   "language": "python",
   "name": "python3"
  },
  "language_info": {
   "codemirror_mode": {
    "name": "ipython",
    "version": 3
   },
   "file_extension": ".py",
   "mimetype": "text/x-python",
   "name": "python",
   "nbconvert_exporter": "python",
   "pygments_lexer": "ipython3",
   "version": "3.7.2"
  }
 },
 "nbformat": 4,
 "nbformat_minor": 4
}

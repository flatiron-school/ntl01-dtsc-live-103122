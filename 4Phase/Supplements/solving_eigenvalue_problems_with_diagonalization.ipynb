{
 "cells": [
  {
   "cell_type": "markdown",
   "metadata": {},
   "source": [
    "# Eigendecomposition (Diagonalization) Problems"
   ]
  },
  {
   "cell_type": "code",
   "execution_count": null,
   "metadata": {},
   "outputs": [],
   "source": [
    "import numpy as np"
   ]
  },
  {
   "cell_type": "markdown",
   "metadata": {},
   "source": [
    "## Learning Objective\n",
    "\n",
    "- solve eigenvalue problems"
   ]
  },
  {
   "cell_type": "markdown",
   "metadata": {},
   "source": [
    "## Setup"
   ]
  },
  {
   "cell_type": "markdown",
   "metadata": {},
   "source": [
    "Suppose we're given the matrix $\\begin{bmatrix}1&3\\\\4&5\\end{bmatrix}$ and told to find its eigendecomposition, i.e. its eigenvalues and eigenvectors.\n",
    "\n",
    "The first step is to find the eigenvalues. Then we'll use those eigenvalues to find the eigenvectors.\n",
    "\n",
    "At the very end we'll use NumPy to check our work."
   ]
  },
  {
   "cell_type": "markdown",
   "metadata": {},
   "source": [
    "## Find the Eigenvalues"
   ]
  },
  {
   "cell_type": "markdown",
   "metadata": {},
   "source": [
    "Eigenvalues and eigenvectors satisfy the following equation:\n",
    "\n",
    "$A\\vec{x} = \\lambda\\vec{x}$.\n",
    "\n",
    "We can rewrite this as $(A-\\lambda I)\\vec{x} = 0$, so that we then have:\n",
    "\n",
    "$\\begin{equation}\n",
    "\\begin{bmatrix}\n",
    "1-\\lambda & 3 \\\\\n",
    "4 & 5-\\lambda\n",
    "\\end{bmatrix}\\vec{x} = 0\\end{equation}$"
   ]
  },
  {
   "cell_type": "markdown",
   "metadata": {},
   "source": [
    "This has a non-trivial solution only when the determinant of this matrix is 0.\\*\n",
    "\n",
    "\n",
    "<details>\n",
    "    <summary>*Why is this? < click here > </summary>\n",
    "\n",
    "We have: $\\begin{bmatrix}a&b\\\\c&d\\end{bmatrix}\\begin{bmatrix}x_1\\\\x_2\\end{bmatrix}=0$, so that means that $ax_1+bx_2=0$ and $cx_1+dx_2=0$. Therefore: $x_1=-\\frac{b}{a}x_2=-\\frac{d}{c}x_2$. But then $\\frac{b}{a} = \\frac{d}{c}$, and so $ad=bc$, which is to say that the determinant of the matrix is zero.</details>\n",
    "\n",
    "To find the determinant of a 2x2 matrix $\\begin{bmatrix}a&b\\\\c&d\\end{bmatrix}$, we're going to calculate $ad-bc$:"
   ]
  },
  {
   "cell_type": "markdown",
   "metadata": {},
   "source": [
    "$det(A) = (1-\\lambda)(5-\\lambda) - (3)(4) = 0$"
   ]
  },
  {
   "cell_type": "markdown",
   "metadata": {},
   "source": [
    "Simplifying:\n",
    "\n",
    "$5-6\\lambda+\\lambda^2-12=0$, or <br/>\n",
    "$\\lambda^2-6\\lambda-7=0$.\n",
    "\n",
    "This is a quadratic equation in the variable $\\lambda$, which we can factor as follows:\n",
    "\n",
    "$(\\lambda-7)(\\lambda+1)=0$.\n",
    "\n",
    "Clearly, the two solutions here are $\\large\\lambda=-1$ and $\\large\\lambda=7$, so those are our eigenvalues."
   ]
  },
  {
   "cell_type": "markdown",
   "metadata": {},
   "source": [
    "## Find the Eigenvectors"
   ]
  },
  {
   "cell_type": "markdown",
   "metadata": {},
   "source": [
    "Now that we have our eigenvalues we can find the matrix's eigenvectors by simply plugging them into our equation:\n",
    "\n",
    "Since $\\lambda=-1$ and $\\lambda=7$, we can write:\n",
    "\n",
    "\n",
    "($\\ast$) $\\begin{bmatrix}1+1&3\\\\4&5+1\\end{bmatrix}\\begin{bmatrix}x_1\\\\x_2\\end{bmatrix} = 0$\n",
    "\n",
    "and\n",
    "\n",
    "($\\ast\\ast$) $\\begin{bmatrix}1-7&3\\\\4&5-7\\end{bmatrix}\\begin{bmatrix}x_1\\\\x_2\\end{bmatrix} = 0$."
   ]
  },
  {
   "cell_type": "markdown",
   "metadata": {},
   "source": [
    "Each of these equations yields an eigenvector!\n",
    "\n",
    "Thus, taking the first equation ($\\ast$), we have:\n",
    "\n",
    "$2x_1+3x_2=0$ and <br/> $4x_1+6x_2=0$.\n",
    "\n",
    "These two equations tell us the same thing, namely that $x_2=-\\frac{2}{3}x_1$. So, *any* vector where the second component is -$\\frac{2}{3}$ times the first will be an eigenvector of $A$. Typically, we want to choose the normalized vector, i.e. the eigenvector that has unit length, which will therefore satisfy the equation: $x_1^2+\\frac{4}{9}x_1^2=1$. It is therefore the vector $\\begin{bmatrix}\\frac{3}{\\sqrt{13}}\\\\ -\\frac{2}{\\sqrt{13}}\\end{bmatrix}$."
   ]
  },
  {
   "cell_type": "markdown",
   "metadata": {},
   "source": [
    "Taking the second equation ($\\ast\\ast$), we have:\n",
    "\n",
    "$-6x_1+3x_2=0$ and <br/> $4x_1-2x_2=0$.\n",
    "\n",
    "These two equations also tell us the same thing, namely that $x_2=2x_1$.\n",
    "\n",
    "The normalized eigenvector here satisfies the equation: $x_1^2+4x_1^2=1$. So our normalized eigenvector will be: $\\begin{bmatrix}\\frac{1}{\\sqrt{5}}\\\\ \\frac{2}{\\sqrt{5}}\\end{bmatrix}$."
   ]
  },
  {
   "cell_type": "markdown",
   "metadata": {},
   "source": [
    "## Writing the Diagonalization"
   ]
  },
  {
   "cell_type": "markdown",
   "metadata": {},
   "source": [
    "We have the eigenvalues and we have the eigenvectors. What this all means is that, if we construct the inverse of our matrix of eigenvectors, then we can write the matrix $A$ as follows:\n",
    "\n",
    "$A = \\begin{bmatrix}\\frac{3}{\\sqrt{13}} & \\frac{1}{\\sqrt{5}} \\\\ -\\frac{2}{\\sqrt{13}} & \\frac{2}{\\sqrt{5}}\\end{bmatrix}\\begin{bmatrix}-1 & 0 \\\\ 0 & 7\\end{bmatrix}Q^{-1}$,\n",
    "\n",
    "where $Q$ is our matrix of eigenvectors.\n",
    "\n",
    "For a 2x2 matrix $\\begin{bmatrix}a&b\\\\c&d\\end{bmatrix}$ the inverse is $\\frac{1}{det(A)}\\begin{bmatrix}d&-b\\\\-c&a\\end{bmatrix}$.\n",
    "\n",
    "So the inverse of $Q=\\begin{bmatrix}\\frac{3}{\\sqrt{13}} & \\frac{1}{\\sqrt{5}} \\\\ -\\frac{2}{\\sqrt{13}} & \\frac{2}{\\sqrt{5}}\\end{bmatrix}$ will be $\\frac{\\sqrt{65}}{8}\\begin{bmatrix}\\frac{2}{\\sqrt{5}} & -\\frac{1}{\\sqrt{5}} \\\\ \\frac{2}{\\sqrt{13}} & \\frac{3}{\\sqrt{13}}\\end{bmatrix} = \\begin{bmatrix}\\frac{2\\sqrt{13}}{8} & -\\frac{\\sqrt{13}}{8} \\\\ \\frac{2\\sqrt{5}}{8} & \\frac{3\\sqrt{5}}{8}\\end{bmatrix}$.\n",
    "\n",
    "Therefore, our full eigendecomposition is:\n",
    "\n",
    "$\\large\\begin{bmatrix}1&3\\\\4&5\\end{bmatrix} = A = Q\\Lambda Q^{-1} = \\begin{bmatrix}\\frac{3}{\\sqrt{13}} & \\frac{1}{\\sqrt{5}} \\\\ -\\frac{2}{\\sqrt{13}} & \\frac{2}{\\sqrt{5}}\\end{bmatrix}\\begin{bmatrix}-1 & 0 \\\\ 0 & 7\\end{bmatrix}\\begin{bmatrix}\\frac{2\\sqrt{13}}{8} & -\\frac{\\sqrt{13}}{8} \\\\ \\frac{2\\sqrt{5}}{8} & \\frac{3\\sqrt{5}}{8}\\end{bmatrix}$."
   ]
  },
  {
   "cell_type": "markdown",
   "metadata": {},
   "source": [
    "## Using `numpy`"
   ]
  },
  {
   "cell_type": "markdown",
   "metadata": {},
   "source": [
    "Let's check our work with NumPy."
   ]
  },
  {
   "cell_type": "markdown",
   "metadata": {},
   "source": [
    "### Checking Eigenvalues"
   ]
  },
  {
   "cell_type": "code",
   "execution_count": null,
   "metadata": {},
   "outputs": [],
   "source": [
    "A = np.array([[1, 3], [4, 5]])\n",
    "\n",
    "eigenvalues, eigenvectors = np.linalg.eig(A)\n",
    "\n",
    "eigenvalues"
   ]
  },
  {
   "cell_type": "markdown",
   "metadata": {},
   "source": [
    "### Checking Eigenvectors"
   ]
  },
  {
   "cell_type": "code",
   "execution_count": null,
   "metadata": {},
   "outputs": [],
   "source": [
    "eigenvectors"
   ]
  },
  {
   "cell_type": "markdown",
   "metadata": {},
   "source": [
    "Does this agree with what we found?"
   ]
  },
  {
   "cell_type": "code",
   "execution_count": null,
   "metadata": {},
   "outputs": [],
   "source": [
    "3/np.sqrt(13), -2/np.sqrt(13)"
   ]
  },
  {
   "cell_type": "code",
   "execution_count": null,
   "metadata": {},
   "outputs": [],
   "source": [
    "1/np.sqrt(5), 2/np.sqrt(5)"
   ]
  },
  {
   "cell_type": "markdown",
   "metadata": {},
   "source": [
    "Great! Notice that the minus signs really don't matter, so our answers are equivalent."
   ]
  },
  {
   "cell_type": "markdown",
   "metadata": {},
   "source": [
    "### Checking Diagonalization"
   ]
  },
  {
   "cell_type": "markdown",
   "metadata": {},
   "source": [
    "Let's also check that we can reconsruct $A$ with this decomposition:"
   ]
  },
  {
   "cell_type": "markdown",
   "metadata": {},
   "source": [
    "#### Checking Inverse"
   ]
  },
  {
   "cell_type": "code",
   "execution_count": null,
   "metadata": {},
   "outputs": [],
   "source": [
    "Q = eigenvectors\n",
    "inv = np.linalg.inv(Q)\n",
    "inv"
   ]
  },
  {
   "cell_type": "markdown",
   "metadata": {},
   "source": [
    "Does this agree with what we found?"
   ]
  },
  {
   "cell_type": "code",
   "execution_count": null,
   "metadata": {},
   "outputs": [],
   "source": [
    "2*np.sqrt(13)/8, -np.sqrt(13)/8"
   ]
  },
  {
   "cell_type": "code",
   "execution_count": null,
   "metadata": {},
   "outputs": [],
   "source": [
    "2*np.sqrt(5)/8, 3*np.sqrt(5)/8"
   ]
  },
  {
   "cell_type": "markdown",
   "metadata": {},
   "source": [
    "#### Reconstructing $A$"
   ]
  },
  {
   "cell_type": "code",
   "execution_count": null,
   "metadata": {},
   "outputs": [],
   "source": [
    "Q.dot(np.diag(eigenvalues)).dot(inv)"
   ]
  },
  {
   "cell_type": "markdown",
   "metadata": {},
   "source": [
    "## Wrapping Up"
   ]
  },
  {
   "cell_type": "markdown",
   "metadata": {},
   "source": [
    "The goal here was to illustrate how to solve an eigenvalue problem. Hope this helps!"
   ]
  }
 ],
 "metadata": {
  "kernelspec": {
   "display_name": "Python 3",
   "language": "python",
   "name": "python3"
  },
  "language_info": {
   "codemirror_mode": {
    "name": "ipython",
    "version": 3
   },
   "file_extension": ".py",
   "mimetype": "text/x-python",
   "name": "python",
   "nbconvert_exporter": "python",
   "pygments_lexer": "ipython3",
   "version": "3.7.2"
  }
 },
 "nbformat": 4,
 "nbformat_minor": 4
}

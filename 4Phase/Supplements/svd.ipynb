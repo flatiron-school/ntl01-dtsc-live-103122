{
 "cells": [
  {
   "cell_type": "markdown",
   "metadata": {},
   "source": [
    "# On the Meaning and Use of Singular Value Decomposition"
   ]
  },
  {
   "cell_type": "code",
   "execution_count": null,
   "metadata": {},
   "outputs": [],
   "source": [
    "import pandas as pd\n",
    "import numpy as np\n",
    "from sklearn.linear_model import LinearRegression"
   ]
  },
  {
   "cell_type": "markdown",
   "metadata": {},
   "source": [
    "## Agenda"
   ]
  },
  {
   "cell_type": "markdown",
   "metadata": {},
   "source": [
    "SWBAT:\n",
    "\n",
    "- explain the notion of singular value decomposition;\n",
    "- describe the relationship between SVD and eigendecomposition;\n",
    "- describe the relationship between SVD and PCA."
   ]
  },
  {
   "cell_type": "markdown",
   "metadata": {},
   "source": [
    "## Eigendecomposition\n",
    "\n",
    "Let's start with eigendecomposition. Remember PCA?\n",
    "\n",
    "Any *non-defective* and *square* matrix $A$ has an eigendecomposition:\n",
    "\n",
    "$\\large A = Q\\Lambda Q^{-1}$,\n",
    "\n",
    "where:\n",
    "\n",
    "- the columns of $Q$ are the eigenvectors of $A$, and\n",
    "- $\\Lambda$ is a diagonal matrix whose non-zero entries are the eigenvalues of $A$.\n",
    "\n",
    "Eigendecompositions have *many* practical applications.\n",
    "\n",
    "But since not all matrices are square, not all matrices have eigendecompositions."
   ]
  },
  {
   "cell_type": "markdown",
   "metadata": {},
   "source": [
    "## Singular Value Decomposition\n",
    "\n",
    "However, given a non-square matrix $R$, we can construct a square matrix by simply calculating $RR^T$ or $R^TR$.\n",
    "\n",
    "(The 'T' superscript indicates that the relevant matrix is *transposed*, i.e. its rows and columns are switched. So for example the transpose of $\\begin{bmatrix} 0 & 1 & 2 \\\\ 3 & 4 & 5 \\\\ 6 & 7 & 8 \\end{bmatrix}$ is $\\begin{bmatrix} 0 & 3 & 6 \\\\ 1 & 4 & 7 \\\\ 2 & 5 & 8 \\end{bmatrix}$.)\n",
    "\n",
    "Moreover, _any_ matrix $A$ has a ***singular value decomposition***, i.e. a factorization in the form:\n",
    "\n",
    "$\\large A = U\\Sigma V^T$,\n",
    "\n",
    "where\n",
    "\n",
    "- $\\Sigma$ is diagonal if square and otherwise \"pseudo-diagonal\" (a diagonal matrix sitting on top of zeroes) with real, non-negative entries; and\n",
    "- $U$ and $V$ are orthogonal.\n",
    "\n",
    "A matrix $Q$ is orthogonal if its columns are mutually orthogonal and normalized to lengths of 1. This guarantees that, for orthogonal $Q$, $Q^TQ = I$. Thus, $Q^T = Q^T(QQ^{-1}) = (Q^TQ)Q^{-1}$, so $Q^T = Q^{-1}$.\n",
    "\n",
    "Note also that, if $V$ is orthogonal, then so is $V^{-1}$:\n",
    "\n",
    "$(V^{-1})^T = (V^T)^T$ <br/>\n",
    "$(V^{-1})^T = V$ <br/>\n",
    "$(V^{-1})^T = (V^{-1})^{-1}$"
   ]
  },
  {
   "cell_type": "markdown",
   "metadata": {},
   "source": [
    "Now (this text adapted from [Inderjit Dhillon](http://www.cs.utexas.edu/users/inderjit/courses/dm2009/LinearAlgebraBackground.pdf)):\n",
    "\n",
    "Using the singular value decomposition of $A$, we have:\n",
    "\n",
    "$\\large AA^T = U\\Sigma V^T\\times(U\\Sigma V^T)^T$ <br/>\n",
    "$\\large AA^T = U\\Sigma V^T\\times V\\Sigma^TU^T$ <br/>\n",
    "$\\large AA^T = U\\Sigma I\\Sigma U^T$ <br/>\n",
    "$\\large AA^T = U\\Sigma^2U^T$ <br/>\n",
    "Here we have an eigendecomposition of $AA^T$ in terms of the SVD of $A$!\n",
    "\n",
    "In particular:\n",
    "\n",
    "the eigenvectors of $AA^T$ are the columns of $U$; and <br/>\n",
    "the eigenvalues of $AA^T$ are the squares of the singular values of $A$. <br/>\n",
    "\n",
    "Similarly, $\\large A^TA = V\\Sigma^2V^T$.\n",
    "\n",
    "And so:\n",
    "\n",
    "the eigenvectors of $A^TA$ are the columns of $V$; and <br/>\n",
    "the eigenvalues of $A^TA$ are the squares of the singular values of $A$.<br/>\n",
    "\n",
    "Put another way: The singular values of A are the non-negative square roots of the eigenvalues of $AA^T$ or $A^TA$."
   ]
  },
  {
   "cell_type": "markdown",
   "metadata": {},
   "source": [
    "Again (see [this page](https://math.stackexchange.com/questions/2152751/why-does-the-eigenvalues-of-aat-are-the-squares-of-the-singular-values-of-a)):\n",
    "\n",
    "Since: <br/> $\\large AA^T = U\\Sigma^2U^T$, <br/> we have that <br/> $\\large AA^TU = U\\Sigma^2$ (since $U$ is orthogonal), <br/> which says that $AA^T$ multiplied by a vector (let's choose $U_i$, a column of $U$) yields $U$ multiplied by a scalar, namely $\\sigma^2_i$. I.e. the squares of the singular values of $A$ are the (non-zero) eigenvalues of $A^TA$ (or $AA^T$).\n",
    "\n",
    "### Eigenvalues of $AA^T$ and $A^TA$\n",
    "Why do $AA^T$ and $A^TA$ have the same eigenvalues?\n",
    "\n",
    "Let $\\lambda$ be a (non-zero) eigenvalue of $A^TA$.\n",
    "\n",
    "Then:\n",
    "\n",
    "$A^TAx = \\lambda x$.\n",
    "\n",
    "Now let $Ax = y$. So we have:\n",
    "\n",
    "$A^Ty = \\lambda x$. If we left-multiply by $A$, we have:\n",
    "\n",
    "$AA^Ty = A\\lambda x = \\lambda Ax = \\lambda y$, which is to say that $\\lambda$ is an eigenvalue of $AA^T$.\n",
    "\n",
    "(To show the reverse, just let $B = A^T$.)\n",
    "\n",
    "For more, see [this post](https://math.stackexchange.com/questions/1087064/non-zero-eigenvalues-of-aat-and-ata)."
   ]
  },
  {
   "cell_type": "markdown",
   "metadata": {},
   "source": [
    "### Diagonalization vs. SVD\n",
    "\n",
    "This shows that the eigen- and the singular value decompositions are intimately related!\n",
    "\n",
    "The SVD has many uses! Check out [this book chapter](https://www.cs.cmu.edu/~venkatg/teaching/CStheory-infoage/book-chapter-4.pdf) for details."
   ]
  },
  {
   "cell_type": "markdown",
   "metadata": {},
   "source": [
    "### SVD and Dimensionality Reduction\n",
    "\n",
    "The SVD, much like PCA, can be used to reduce the dimensionality of your data.\n",
    "\n",
    "Recall how PCA works: We start with an eigendecomposition of our covariance matrix. We then order our eigenvectors by the size of their corresponding eigenvalues. Eigenvectors with large eigenvalues explain more of the variance in our dataset, and so we define our principal components accordingly.\n",
    "\n",
    "The situation is much the same with the SVD. The singular vectors that correspond to larger singular values capture more of the variance in our data. And, just as with PCA, we can often capture a large percentage of the variance by taking a relatively small number of singular vectors, throwing out the ones that correspond to small singular values. [Here](https://rpubs.com/Tanmay007/svd) is a good example of this process."
   ]
  },
  {
   "cell_type": "markdown",
   "metadata": {},
   "source": [
    "## SVD in Python\n",
    "\n",
    "Let's show that the squares of the singular values of a non-square matrix $A$ are equal to the eigenvalues of $A^TA$ (or $AA^T$)."
   ]
  },
  {
   "cell_type": "code",
   "execution_count": null,
   "metadata": {},
   "outputs": [],
   "source": [
    "np.random.seed(42)\n",
    "A = np.random.rand(5, 3)\n",
    "A"
   ]
  },
  {
   "cell_type": "code",
   "execution_count": null,
   "metadata": {},
   "outputs": [],
   "source": [
    "# Using np.linalg.svd()\n",
    "\n",
    "np.linalg.svd(A)"
   ]
  },
  {
   "cell_type": "markdown",
   "metadata": {},
   "source": [
    "`np.linalg.svd()` returns a triple, unsurprisingly: The left singular vectors (\"U\"), the singular values, and the (transpose of the) right singular vectors (\"V\").\n",
    "\n",
    "We can re-create A by multiplying these components together. But we'll first have to turn the array of singular values into $\\Sigma$, so we'll use `np.diag()` together with `np.vstack()`."
   ]
  },
  {
   "cell_type": "code",
   "execution_count": null,
   "metadata": {},
   "outputs": [],
   "source": [
    "u, s, vT = np.linalg.svd(A)"
   ]
  },
  {
   "cell_type": "code",
   "execution_count": null,
   "metadata": {},
   "outputs": [],
   "source": [
    "sigma = np.vstack([np.diag(s), [[0, 0, 0], [0, 0, 0]]])"
   ]
  },
  {
   "cell_type": "code",
   "execution_count": null,
   "metadata": {},
   "outputs": [],
   "source": [
    "sigma"
   ]
  },
  {
   "cell_type": "code",
   "execution_count": null,
   "metadata": {},
   "outputs": [],
   "source": [
    "# This should reproduce the matrix A\n",
    "\n",
    "u.dot(sigma).dot(vT)"
   ]
  },
  {
   "cell_type": "markdown",
   "metadata": {},
   "source": [
    "Now let's look at the eigendecomposition of $AA^T$."
   ]
  },
  {
   "cell_type": "code",
   "execution_count": null,
   "metadata": {},
   "outputs": [],
   "source": [
    "np.linalg.eig(A.dot(A.T))"
   ]
  },
  {
   "cell_type": "markdown",
   "metadata": {},
   "source": [
    "Let's extract the eigenvalues."
   ]
  },
  {
   "cell_type": "code",
   "execution_count": null,
   "metadata": {},
   "outputs": [],
   "source": [
    "np.linalg.eig(A.dot(A.T))[0]"
   ]
  },
  {
   "cell_type": "markdown",
   "metadata": {},
   "source": [
    "The last two eigenvalues are really equal to *zero*, which of course can often confuse computers. Squaring the singular values of $A$ should yield the same list (without the zeroes):"
   ]
  },
  {
   "cell_type": "code",
   "execution_count": null,
   "metadata": {},
   "outputs": [],
   "source": [
    "np.linalg.svd(A)[1]**2"
   ]
  },
  {
   "cell_type": "markdown",
   "metadata": {},
   "source": [
    "## Relation to PCA"
   ]
  },
  {
   "cell_type": "markdown",
   "metadata": {},
   "source": [
    "We'll start by **centering** the matrix, i.e. subtracting the mean of the relevant column from each entry:"
   ]
  },
  {
   "cell_type": "code",
   "execution_count": null,
   "metadata": {},
   "outputs": [],
   "source": [
    "centered_A = np.vstack([A[:, col] - A.mean(axis=0)[col] for col in range(3)]).T"
   ]
  },
  {
   "cell_type": "code",
   "execution_count": null,
   "metadata": {},
   "outputs": [],
   "source": [
    "centered_A"
   ]
  },
  {
   "cell_type": "markdown",
   "metadata": {},
   "source": [
    "The column sums should now be 0:"
   ]
  },
  {
   "cell_type": "code",
   "execution_count": null,
   "metadata": {},
   "outputs": [],
   "source": [
    "centered_A.sum(axis=0)"
   ]
  },
  {
   "cell_type": "markdown",
   "metadata": {},
   "source": [
    "The covariance matrix of a centered matrix $A$ is equal to $A^TA/(n-1)$, where $n$ is the number of rows of $A$. See [this helpful post](https://stats.stackexchange.com/questions/134282/relationship-between-svd-and-pca-how-to-use-svd-to-perform-pca)."
   ]
  },
  {
   "cell_type": "code",
   "execution_count": null,
   "metadata": {},
   "outputs": [],
   "source": [
    "np.allclose(np.cov(centered_A.T), centered_A.T.dot(centered_A) / 4)"
   ]
  },
  {
   "cell_type": "markdown",
   "metadata": {},
   "source": [
    "SVD of centered matrix:"
   ]
  },
  {
   "cell_type": "code",
   "execution_count": null,
   "metadata": {},
   "outputs": [],
   "source": [
    "u_c, s_c, vT_c = np.linalg.svd(centered_A)"
   ]
  },
  {
   "cell_type": "markdown",
   "metadata": {},
   "source": [
    "PCA begins by diagonalizing the covariance matrix. And with these matrices generated by the SVD we can reproduce the covariance matrix of $A_{centered}$:"
   ]
  },
  {
   "cell_type": "code",
   "execution_count": null,
   "metadata": {},
   "outputs": [],
   "source": [
    "vT_c.T.dot(np.diag(s_c)**2).dot(vT_c) / 4"
   ]
  },
  {
   "cell_type": "code",
   "execution_count": null,
   "metadata": {},
   "outputs": [],
   "source": [
    "np.cov(centered_A.T)"
   ]
  },
  {
   "cell_type": "markdown",
   "metadata": {},
   "source": [
    "##  Least-Squares Problem\n",
    "\n",
    "The singular value decomposition can be used to solve a least-squares problem quickly. Let's create such a problem.\n",
    "\n",
    "### Comparison to the matrix-vector equation, $M\\vec{x} = \\vec{b}$\n",
    "\n",
    "Suppose we have an exact equation, $M\\vec{x} = \\vec{b}$.\n",
    "\n",
    "In that case $M$ is square, and the solution to the equation is $x = M^{-1}b$."
   ]
  },
  {
   "cell_type": "code",
   "execution_count": null,
   "metadata": {},
   "outputs": [],
   "source": [
    "np.random.seed(43)\n",
    "M = np.random.rand(5, 5)\n",
    "b = np.random.rand(5, 1)"
   ]
  },
  {
   "cell_type": "code",
   "execution_count": null,
   "metadata": {},
   "outputs": [],
   "source": [
    "b"
   ]
  },
  {
   "cell_type": "code",
   "execution_count": null,
   "metadata": {},
   "outputs": [],
   "source": [
    "x = np.linalg.inv(M).dot(b)"
   ]
  },
  {
   "cell_type": "code",
   "execution_count": null,
   "metadata": {},
   "outputs": [],
   "source": [
    "# Reproducing the vector b\n",
    "\n",
    "M.dot(x)"
   ]
  },
  {
   "cell_type": "markdown",
   "metadata": {},
   "source": [
    "### Optimization Problem\n",
    "\n",
    "But of course the typical DS situation is that we have not an exact equation to solve but rather an optimization to perform. So let's now imagine that $A$ has more rows than columns.\n",
    "\n",
    "If we need some warm and fuzzy familiarity, we could throw this all into a DataFrame:"
   ]
  },
  {
   "cell_type": "code",
   "execution_count": null,
   "metadata": {},
   "outputs": [],
   "source": [
    "pd.DataFrame(np.hstack([A, b]),\n",
    "             columns=['pred1', 'pred2', 'pred3', 'target'])"
   ]
  },
  {
   "cell_type": "markdown",
   "metadata": {},
   "source": [
    "Treating the columns of $A$ as our predictors and $b$ as our target, the answer to this least-squares problem turns out to be $A^+\\vec{b}$, where $A^+$ is the *pseudo-inverse* of $A$. The formula for the pseudo-inverse if $(A^TA)^{-1}A^T$, and the idea behind it is to generalize the notion of an inverse to non-square matrices. The pseudo-inverse reduces to the inverse in the case of square matrices."
   ]
  },
  {
   "cell_type": "code",
   "execution_count": null,
   "metadata": {},
   "outputs": [],
   "source": [
    "mat = np.random.rand(100, 100)\n",
    "np.allclose(np.linalg.inv(mat), np.linalg.pinv(mat))"
   ]
  },
  {
   "cell_type": "markdown",
   "metadata": {},
   "source": [
    "If we have $A = U\\Sigma V^T$, then $A^+ = V\\Sigma^+U^T$. Numpy has a pseudo-inverse function, `np.linalg.pinv()`, which we could use directly, rather than first constructing the SVD. But because the decomposed equation involves only the pseudo-inverse of a (pseudo-) diagonal matrix, the SVD route can be much *faster*. **This is the real point of using the SVD in calculating least-squares solutions.**"
   ]
  },
  {
   "cell_type": "markdown",
   "metadata": {},
   "source": [
    "See [this site](https://math.stackexchange.com/questions/974193/why-does-svd-provide-the-least-squares-and-least-norm-solution-to-a-x-b) for a proof of the least-squares solution. For more on the pseudo-inverse, see [here](https://en.wikipedia.org/wiki/Moore%E2%80%93Penrose_inverse)."
   ]
  },
  {
   "cell_type": "code",
   "execution_count": null,
   "metadata": {},
   "outputs": [],
   "source": [
    "# Let's calculate the least-squares solution using our SVD components:\n",
    "\n",
    "vT.T.dot(np.linalg.pinv(sigma)).dot(u.T).dot(b)"
   ]
  },
  {
   "cell_type": "code",
   "execution_count": null,
   "metadata": {},
   "outputs": [],
   "source": [
    "# Checking against sklearn's LinearRegression():\n",
    "\n",
    "LinearRegression(fit_intercept=False).fit(A, b).coef_"
   ]
  },
  {
   "cell_type": "markdown",
   "metadata": {},
   "source": [
    "In fact, `LinearRegression()` uses SVD under the hood!"
   ]
  },
  {
   "cell_type": "markdown",
   "metadata": {},
   "source": [
    "### Timings"
   ]
  },
  {
   "cell_type": "code",
   "execution_count": null,
   "metadata": {},
   "outputs": [],
   "source": [
    "%timeit vT.T.dot(np.linalg.pinv(sigma)).dot(u.T).dot(b)"
   ]
  },
  {
   "cell_type": "code",
   "execution_count": null,
   "metadata": {},
   "outputs": [],
   "source": [
    "%timeit LinearRegression(fit_intercept=False).fit(A, b).coef_"
   ]
  },
  {
   "cell_type": "code",
   "execution_count": null,
   "metadata": {},
   "outputs": [],
   "source": [
    "%timeit np.linalg.pinv(A).dot(b)"
   ]
  },
  {
   "cell_type": "markdown",
   "metadata": {},
   "source": [
    "For our small sample matrix, `sklearn`'s version actually takes longer. But let's try a much larger matrix!"
   ]
  },
  {
   "cell_type": "code",
   "execution_count": null,
   "metadata": {},
   "outputs": [],
   "source": [
    "np.random.seed(42)\n",
    "X = np.random.rand(10000, 100)\n",
    "target = np.random.rand(10000, 1)"
   ]
  },
  {
   "cell_type": "code",
   "execution_count": null,
   "metadata": {},
   "outputs": [],
   "source": [
    "%timeit np.linalg.pinv(X).dot(target)"
   ]
  },
  {
   "cell_type": "code",
   "execution_count": null,
   "metadata": {},
   "outputs": [],
   "source": [
    "%timeit LinearRegression(fit_intercept=False).fit(X, target).coef_"
   ]
  },
  {
   "cell_type": "markdown",
   "metadata": {},
   "source": [
    "Going through the SVD (as `sklearn`'s model-fitting procedure does) makes noticeable savings in time here."
   ]
  },
  {
   "cell_type": "markdown",
   "metadata": {},
   "source": [
    "## Further Resources\n",
    "\n",
    "- The [MovieLens](https://grouplens.org/datasets/movielens/) datset(s).\n",
    "- [This article](https://analyticsindiamag.com/singular-value-decomposition-svd-application-recommender-system/) that illustrates the SVD in a recommender system.\n",
    "- The [`surprise`](https://surprise.readthedocs.io/en/stable/) library, which you'll see in the Learn labs."
   ]
  },
  {
   "cell_type": "code",
   "execution_count": null,
   "metadata": {},
   "outputs": [],
   "source": []
  }
 ],
 "metadata": {
  "kernelspec": {
   "display_name": "Python 3",
   "language": "python",
   "name": "python3"
  },
  "language_info": {
   "codemirror_mode": {
    "name": "ipython",
    "version": 3
   },
   "file_extension": ".py",
   "mimetype": "text/x-python",
   "name": "python",
   "nbconvert_exporter": "python",
   "pygments_lexer": "ipython3",
   "version": "3.8.5"
  }
 },
 "nbformat": 4,
 "nbformat_minor": 2
}

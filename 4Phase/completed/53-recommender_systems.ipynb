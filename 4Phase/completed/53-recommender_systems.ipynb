{
 "cells": [
  {
   "cell_type": "markdown",
   "metadata": {},
   "source": [
    "# Recommender Systems"
   ]
  },
  {
   "cell_type": "code",
   "execution_count": 2,
   "metadata": {
    "ExecuteTime": {
     "end_time": "2023-01-09T22:03:53.377674Z",
     "start_time": "2023-01-09T22:03:52.044174Z"
    }
   },
   "outputs": [],
   "source": [
    "from random import gauss as gs, uniform as uni, seed\n",
    "import numpy as np\n",
    "import pandas as pd\n",
    "from sklearn.linear_model import LinearRegression"
   ]
  },
  {
   "cell_type": "markdown",
   "metadata": {},
   "source": [
    "![Netflix](https://miro.medium.com/max/1400/1*jlQxemlP9Yim_rWTqlCFDQ.png)"
   ]
  },
  {
   "cell_type": "markdown",
   "metadata": {},
   "source": [
    "![Amazon](images/amazon_recommender.png)"
   ]
  },
  {
   "cell_type": "markdown",
   "metadata": {},
   "source": [
    "## Agenda"
   ]
  },
  {
   "cell_type": "markdown",
   "metadata": {},
   "source": [
    "- describe the difference between content-based and collaborative-filtering algorithms\n",
    "- explain and use the cosine similarity metric\n",
    "- describe the algorithm of alternating least-squares"
   ]
  },
  {
   "cell_type": "markdown",
   "metadata": {},
   "source": [
    "## Intro"
   ]
  },
  {
   "cell_type": "markdown",
   "metadata": {},
   "source": [
    "Recommender systems can be classified along various lines. One fundamental distinction is **content-based** vs. **collaborative-filtering** systems.\n",
    "\n",
    "To illustrate this, consider two different strategies: (a) I recommend items to you that are *similar to other items* you've used/bought/read/watched; and (b) I recommend items to you that people *similar to you* have used/bought/read/watched. The first is the **content-based strategy**; the second is the **collaborative-filtering strategy**. \n",
    "\n",
    "Another distinction drawn is in whether (a) the system uses existing ratings to compute user-user or item-item similarity, or (b) the system uses machine learning techniques to make predictions. Recommenders of the first sort are called **memory-based**; recommenders of the second sort are called **model-based**."
   ]
  },
  {
   "cell_type": "markdown",
   "metadata": {},
   "source": [
    "## Content-Based Systems"
   ]
  },
  {
   "cell_type": "markdown",
   "metadata": {},
   "source": [
    "The basic idea here is to recommend items to a user that are *similar to* items that the user has already enjoyed. Suppose we represent TV shows as rows, where the columns represent various features of these TV shows. These features might be things like the presence of a certain actor or the show fitting into a particular genre etc. We'll just use binary features here, perhaps the result of some one-hot encoding:"
   ]
  },
  {
   "cell_type": "code",
   "execution_count": 3,
   "metadata": {
    "ExecuteTime": {
     "end_time": "2023-01-09T22:04:21.963609Z",
     "start_time": "2023-01-09T22:04:21.957141Z"
    }
   },
   "outputs": [
    {
     "data": {
      "text/plain": [
       "array([[0, 1, 1, 0, 1, 1, 1],\n",
       "       [0, 0, 0, 1, 1, 1, 0],\n",
       "       [1, 1, 1, 0, 0, 1, 1],\n",
       "       [0, 1, 1, 1, 0, 0, 1]])"
      ]
     },
     "execution_count": 3,
     "metadata": {},
     "output_type": "execute_result"
    }
   ],
   "source": [
    "tv_shows = np.array([[0, 1, 1, 0, 1, 1, 1],\n",
    "                   [0, 0, 0, 1, 1, 1, 0],\n",
    "                   [1, 1, 1, 0, 0, 1, 1],\n",
    "                   [0, 1, 1, 1, 0, 0, 1]])\n",
    "\n",
    "tv_shows"
   ]
  },
  {
   "cell_type": "markdown",
   "metadata": {},
   "source": [
    "Bob likes the TV Show represented by Row \\#1. Which show (row) should we recommend to Bob?\n",
    "\n",
    "One natural way of measuring the similarity between two vectors is by the **cosine of the angle between them**. Two points near one another in feature space will correspond to vectors that nearly overlap, i.e. vectors that describe a small angle $\\theta$. And as $\\theta$ decreases, $\\cos(\\theta)$ *increases*. So we'll be looking for large values of the cosine (which ranges between -1 and 1). We can also think of the cosine between two vectors as the *projection of one vector onto the other*:\n",
    "\n",
    "![image.png](https://www.oreilly.com/api/v2/epubs/9781788295758/files/assets/2b4a7a82-ad4c-4b2a-b808-e423a334de6f.png)\n",
    "We can use this metric easily if we treat our rows (the items we're comparing for similarity) as vectors: We can calculate the cosine of the angle $\\theta$ between two vectors $\\vec{a}$ and $\\vec{b}$ as follows: $\\cos(\\theta) = \\frac{\\vec{a}\\cdot\\vec{b}}{|\\vec{a}||\\vec{b}|}$"
   ]
  },
  {
   "cell_type": "code",
   "execution_count": 4,
   "metadata": {
    "ExecuteTime": {
     "end_time": "2023-01-09T22:05:54.641275Z",
     "start_time": "2023-01-09T22:05:54.625808Z"
    }
   },
   "outputs": [],
   "source": [
    "numerators = np.array([tv_shows[0].dot(tv_show) for tv_show in tv_shows[1:]])"
   ]
  },
  {
   "cell_type": "code",
   "execution_count": 5,
   "metadata": {
    "ExecuteTime": {
     "end_time": "2023-01-09T22:05:55.043275Z",
     "start_time": "2023-01-09T22:05:55.030274Z"
    }
   },
   "outputs": [
    {
     "data": {
      "text/plain": [
       "array([2, 4, 3])"
      ]
     },
     "execution_count": 5,
     "metadata": {},
     "output_type": "execute_result"
    }
   ],
   "source": [
    "numerators"
   ]
  },
  {
   "cell_type": "code",
   "execution_count": 6,
   "metadata": {
    "ExecuteTime": {
     "end_time": "2023-01-09T22:06:12.123836Z",
     "start_time": "2023-01-09T22:06:12.107805Z"
    }
   },
   "outputs": [],
   "source": [
    "denominators = np.array(\n",
    "    [(np.linalg.norm(tv_shows[0]) * np.linalg.norm(tv_show)) for tv_show in tv_shows[1:]]\n",
    ")"
   ]
  },
  {
   "cell_type": "code",
   "execution_count": 7,
   "metadata": {
    "ExecuteTime": {
     "end_time": "2023-01-09T22:06:12.573304Z",
     "start_time": "2023-01-09T22:06:12.556805Z"
    }
   },
   "outputs": [
    {
     "data": {
      "text/plain": [
       "array([3.87298335, 5.        , 4.47213595])"
      ]
     },
     "execution_count": 7,
     "metadata": {},
     "output_type": "execute_result"
    }
   ],
   "source": [
    "denominators"
   ]
  },
  {
   "cell_type": "code",
   "execution_count": 8,
   "metadata": {
    "ExecuteTime": {
     "end_time": "2023-01-09T22:06:13.192804Z",
     "start_time": "2023-01-09T22:06:13.182306Z"
    }
   },
   "outputs": [
    {
     "data": {
      "text/plain": [
       "array([0.51639778, 0.8       , 0.67082039])"
      ]
     },
     "execution_count": 8,
     "metadata": {},
     "output_type": "execute_result"
    }
   ],
   "source": [
    "numerators / denominators"
   ]
  },
  {
   "cell_type": "code",
   "execution_count": 9,
   "metadata": {
    "ExecuteTime": {
     "end_time": "2023-01-09T22:06:40.507970Z",
     "start_time": "2023-01-09T22:06:40.495972Z"
    }
   },
   "outputs": [
    {
     "data": {
      "text/plain": [
       "array([[0, 1, 1, 0, 1, 1, 1],\n",
       "       [0, 0, 0, 1, 1, 1, 0],\n",
       "       [1, 1, 1, 0, 0, 1, 1],\n",
       "       [0, 1, 1, 1, 0, 0, 1]])"
      ]
     },
     "execution_count": 9,
     "metadata": {},
     "output_type": "execute_result"
    }
   ],
   "source": [
    "tv_shows\n"
   ]
  },
  {
   "cell_type": "markdown",
   "metadata": {},
   "source": [
    "Since the cosine similarity to Row \\#1 is highest for Row \\#3, we would recommend this TV show."
   ]
  },
  {
   "cell_type": "markdown",
   "metadata": {},
   "source": [
    "***"
   ]
  },
  {
   "cell_type": "markdown",
   "metadata": {},
   "source": [
    "## Collaborative Filtering\n",
    "\n",
    "Now the idea is to recommend items to a user based on what *similar* users have enjoyed. Suppose we have the following recording of explicit ratings of five items by three users:"
   ]
  },
  {
   "cell_type": "code",
   "execution_count": 10,
   "metadata": {
    "ExecuteTime": {
     "end_time": "2023-01-09T22:07:44.297168Z",
     "start_time": "2023-01-09T22:07:44.285667Z"
    },
    "scrolled": true
   },
   "outputs": [
    {
     "data": {
      "text/plain": [
       "array([[5, 4, 3, 4, 5],\n",
       "       [3, 1, 1, 2, 5],\n",
       "       [4, 2, 3, 1, 4]])"
      ]
     },
     "execution_count": 10,
     "metadata": {},
     "output_type": "execute_result"
    }
   ],
   "source": [
    "users = np.array([[5, 4, 3, 4, 5], [3, 1, 1, 2, 5], [4, 2, 3, 1, 4]])\n",
    "\n",
    "new_user = np.array([5, 0, 0, 0, 0])\n",
    "users"
   ]
  },
  {
   "cell_type": "markdown",
   "metadata": {},
   "source": [
    "To which user is `new_user` most similar?\n",
    "\n",
    "One metric is cosine similarity:"
   ]
  },
  {
   "cell_type": "code",
   "execution_count": 11,
   "metadata": {
    "ExecuteTime": {
     "end_time": "2023-01-09T22:08:24.075126Z",
     "start_time": "2023-01-09T22:08:24.061627Z"
    }
   },
   "outputs": [],
   "source": [
    "new_user_mag = 5\n",
    "\n",
    "numerators = np.array([new_user.dot(user) for user in users])"
   ]
  },
  {
   "cell_type": "code",
   "execution_count": 12,
   "metadata": {
    "ExecuteTime": {
     "end_time": "2023-01-09T22:08:24.725626Z",
     "start_time": "2023-01-09T22:08:24.714627Z"
    }
   },
   "outputs": [
    {
     "data": {
      "text/plain": [
       "array([25, 15, 20])"
      ]
     },
     "execution_count": 12,
     "metadata": {},
     "output_type": "execute_result"
    }
   ],
   "source": [
    "numerators"
   ]
  },
  {
   "cell_type": "code",
   "execution_count": 13,
   "metadata": {
    "ExecuteTime": {
     "end_time": "2023-01-09T22:08:25.391350Z",
     "start_time": "2023-01-09T22:08:25.381850Z"
    }
   },
   "outputs": [],
   "source": [
    "denominators = np.array(\n",
    "    [(np.linalg.norm(new_user) * np.linalg.norm(user)) for user in users]\n",
    ")"
   ]
  },
  {
   "cell_type": "code",
   "execution_count": 14,
   "metadata": {
    "ExecuteTime": {
     "end_time": "2023-01-09T22:08:26.042349Z",
     "start_time": "2023-01-09T22:08:26.028349Z"
    }
   },
   "outputs": [
    {
     "data": {
      "text/plain": [
       "array([47.69696007, 31.6227766 , 33.91164992])"
      ]
     },
     "execution_count": 14,
     "metadata": {},
     "output_type": "execute_result"
    }
   ],
   "source": [
    "denominators"
   ]
  },
  {
   "cell_type": "code",
   "execution_count": 15,
   "metadata": {
    "ExecuteTime": {
     "end_time": "2023-01-09T22:08:27.699275Z",
     "start_time": "2023-01-09T22:08:27.690275Z"
    }
   },
   "outputs": [
    {
     "data": {
      "text/plain": [
       "array([0.52414242, 0.47434165, 0.58976782])"
      ]
     },
     "execution_count": 15,
     "metadata": {},
     "output_type": "execute_result"
    }
   ],
   "source": [
    "numerators / denominators"
   ]
  },
  {
   "cell_type": "markdown",
   "metadata": {},
   "source": [
    "But we could also use another metric, such as Pearson Correlation:"
   ]
  },
  {
   "cell_type": "code",
   "execution_count": 16,
   "metadata": {
    "ExecuteTime": {
     "end_time": "2023-01-09T22:08:46.638686Z",
     "start_time": "2023-01-09T22:08:46.618186Z"
    }
   },
   "outputs": [
    {
     "data": {
      "text/plain": [
       "[0.5345224838248488, 0.20044593143431824, 0.5144957554275266]"
      ]
     },
     "execution_count": 16,
     "metadata": {},
     "output_type": "execute_result"
    }
   ],
   "source": [
    "[np.corrcoef(new_user, user)[0, 1] for user in users]"
   ]
  },
  {
   "cell_type": "markdown",
   "metadata": {},
   "source": [
    "For more on content-based vs. collaborative systems, see [this Wikipedia article](https://en.wikipedia.org/wiki/Collaborative_filtering) and [this blog post](https://towardsdatascience.com/recommendation-systems-models-and-evaluation-84944a84fb8e). [This post](https://dataconomy.com/2015/03/an-introduction-to-recommendation-engines/) on dataconomy is also useful."
   ]
  },
  {
   "cell_type": "markdown",
   "metadata": {},
   "source": [
    "***"
   ]
  },
  {
   "cell_type": "markdown",
   "metadata": {},
   "source": [
    "## Matrix Factorization\n",
    "\n",
    "Suppose we start with a matrix $R$ of users and products, where each cell records the ranking the relevant user gave to the relevant product. Very often we'll be able to record this data as a sparse matrix, because many users will not have ranked many items.\n",
    "\n",
    "Imagine factoring this matrix into a user matrix $P$ and an item matrix $Q^T$: $R = PQ^T$. What would the shapes of $P$ and $Q^T$ be? Clearly $P$ must have as many rows as $R$, which is just the number of users who have given ratings. Similarly, $Q^T$ must have as many columns as $R$, which is just the number of items that have received ratings. We also know that the number of columns of $P$ must match the number of rows of $Q^T$ for the factorization to be possible, but this number could really be anything. In practice this will be a small number, and for reasons that will emerge shortly let's refer to these dimensions as **latent features** of the items in $R$. If $p$ is a row of $P$, i.e. a user-vector, and $q$ is a column of $Q^T$, i.e. an item-vector, then $p$ will record the user's particular weights or *preferences* with respect to the latent features, while $q$ will record how the item ranks with respect to those same latent features. This in turn means that we could predict a user's ranking of a particular item simply by calculating the dot-product of $p$ and $q$! \n",
    "\n",
    "If we could effect such a factorization, $R = PQ^T$, then we could calculate *all* predictions, i.e. fill in the gaps in $R$, by solving for $P$ and $Q$.\n",
    "\n",
    "The isolation of these latent features can be achieved in various ways. But this is at heart a matter of **dimensionality reduction**, and so one way is with the [SVD](https://hackernoon.com/introduction-to-recommender-system-part-1-collaborative-filtering-singular-value-decomposition-44c9659c5e75).\n",
    "\n",
    "An alternative is to use the method of Alternating Least Squares."
   ]
  },
  {
   "cell_type": "markdown",
   "metadata": {},
   "source": [
    "### Alternating Least-Squares (ALS)\n",
    "\n",
    "ALS recommendation systems are often implemented in Spark architectures because of the appropriateness for distributed computing. ALS systems often involve very large datasets (consider how much data the recommendation engine for NETFLIX must have, for example!), and it is often useful to store them as sparse matrices, which Spark's ML library can handle. In fact, Spark's mllib even includes a \"Rating\" datatype! ALS is **collaborative** and **model-based**, and is especially useful for working with *implicit* ratings.\n",
    "\n",
    "We're looking for two matrices (a user matrix and an item matrix) into which we can factor our ratings matrix. We can't of course solve for two matrices at once. But here's what we can do:\n",
    "\n",
    "Make guesses of the values for $P$ and $Q$. Then hold the values of one *constant* so that we can optimize for the values of the other!\n",
    "\n",
    "Basically this converts our problem into a familiar *least-squares* problem. See [this page](https://textbooks.math.gatech.edu/ila/least-squares.html) and [this page](https://datasciencemadesimpler.wordpress.com/tag/alternating-least-squares/) for more details, but here's the basic idea:"
   ]
  },
  {
   "cell_type": "markdown",
   "metadata": {},
   "source": [
    "If we have an equation $Ax = b$ for *non-square* $A$, then we have:\n",
    "\n",
    "$A^TAx = A^Tb$ <br/>\n",
    "Thus: <br/>\n",
    "$x = (A^TA)^{-1}A^Tb$\n",
    "\n",
    "This $(A^TA)^{-1}A^T$ **is the pseudo-inverse of** $A$. We encountered this before in our whirlwind tour of linear algebra."
   ]
  },
  {
   "cell_type": "code",
   "execution_count": 17,
   "metadata": {
    "ExecuteTime": {
     "end_time": "2023-01-09T22:15:32.586021Z",
     "start_time": "2023-01-09T22:15:32.565492Z"
    }
   },
   "outputs": [],
   "source": [
    "np.random.seed(42)\n",
    "\n",
    "A = np.random.rand(5, 5)\n",
    "b = np.random.rand(5, 1)"
   ]
  },
  {
   "cell_type": "code",
   "execution_count": 18,
   "metadata": {
    "ExecuteTime": {
     "end_time": "2023-01-09T22:15:40.061342Z",
     "start_time": "2023-01-09T22:15:40.044842Z"
    }
   },
   "outputs": [
    {
     "data": {
      "text/plain": [
       "array([[-226.17809008],\n",
       "       [ 218.48756762],\n",
       "       [-362.56506574],\n",
       "       [ 147.90541511],\n",
       "       [ 350.14590733]])"
      ]
     },
     "execution_count": 18,
     "metadata": {},
     "output_type": "execute_result"
    }
   ],
   "source": [
    "np.linalg.inv(A.T.dot(A)).dot(A.T).dot(b)"
   ]
  },
  {
   "cell_type": "markdown",
   "metadata": {},
   "source": [
    "The `numpy` library has a shortcut for this: `numpy.linalg.pinv()`:"
   ]
  },
  {
   "cell_type": "code",
   "execution_count": 19,
   "metadata": {
    "ExecuteTime": {
     "end_time": "2023-01-09T22:15:48.393425Z",
     "start_time": "2023-01-09T22:15:48.379425Z"
    }
   },
   "outputs": [
    {
     "data": {
      "text/plain": [
       "array([[-226.17808981],\n",
       "       [ 218.48756735],\n",
       "       [-362.56506531],\n",
       "       [ 147.90541493],\n",
       "       [ 350.14590691]])"
      ]
     },
     "execution_count": 19,
     "metadata": {},
     "output_type": "execute_result"
    }
   ],
   "source": [
    "np.linalg.pinv(A).dot(b)"
   ]
  },
  {
   "cell_type": "markdown",
   "metadata": {},
   "source": [
    "\"When we talk about collaborative filtering for recommender systems we want to solve the problem of our original matrix having millions of different dimensions, but our 'tastes' not being nearly as complex. Even if i’ve \\[sic\\] viewed hundreds of items they might just express a couple of different tastes. Here we can actually use matrix factorization to mathematically reduce the dimensionality of our original 'all users by all items' matrix into something much smaller that represents 'all items by some taste dimensions' and 'all users by some taste dimensions'. These dimensions are called ***latent or hidden features*** and we learn them from our data\" ([Medium article: \"ALS Implicit Collaborative Filtering\"](https://medium.com/radon-dev/als-implicit-collaborative-filtering-5ed653ba39fe))."
   ]
  },
  {
   "cell_type": "markdown",
   "metadata": {},
   "source": [
    "#### Simple Example\n",
    "\n",
    "Suppose Max and Erin have rated five films:"
   ]
  },
  {
   "cell_type": "code",
   "execution_count": 20,
   "metadata": {
    "ExecuteTime": {
     "end_time": "2023-01-09T22:17:11.597106Z",
     "start_time": "2023-01-09T22:17:11.582608Z"
    }
   },
   "outputs": [
    {
     "data": {
      "text/html": [
       "<div>\n",
       "<style scoped>\n",
       "    .dataframe tbody tr th:only-of-type {\n",
       "        vertical-align: middle;\n",
       "    }\n",
       "\n",
       "    .dataframe tbody tr th {\n",
       "        vertical-align: top;\n",
       "    }\n",
       "\n",
       "    .dataframe thead th {\n",
       "        text-align: right;\n",
       "    }\n",
       "</style>\n",
       "<table border=\"1\" class=\"dataframe\">\n",
       "  <thead>\n",
       "    <tr style=\"text-align: right;\">\n",
       "      <th></th>\n",
       "      <th>film1</th>\n",
       "      <th>film2</th>\n",
       "      <th>film3</th>\n",
       "      <th>film4</th>\n",
       "      <th>film5</th>\n",
       "    </tr>\n",
       "  </thead>\n",
       "  <tbody>\n",
       "    <tr>\n",
       "      <th>max</th>\n",
       "      <td>0</td>\n",
       "      <td>1</td>\n",
       "      <td>0</td>\n",
       "      <td>0</td>\n",
       "      <td>4</td>\n",
       "    </tr>\n",
       "    <tr>\n",
       "      <th>erin</th>\n",
       "      <td>0</td>\n",
       "      <td>0</td>\n",
       "      <td>0</td>\n",
       "      <td>5</td>\n",
       "      <td>0</td>\n",
       "    </tr>\n",
       "  </tbody>\n",
       "</table>\n",
       "</div>"
      ],
      "text/plain": [
       "      film1  film2  film3  film4  film5\n",
       "max       0      1      0      0      4\n",
       "erin      0      0      0      5      0"
      ]
     },
     "execution_count": 20,
     "metadata": {},
     "output_type": "execute_result"
    }
   ],
   "source": [
    "ratings_arr = pd.DataFrame([[0, 1, 0, 0, 4], [0, 0, 0, 5, 0]],\\\n",
    "                           index=['max', 'erin'],\n",
    "             columns=['film' + str(i) for i in range(1, 6)])\n",
    "ratings_arr"
   ]
  },
  {
   "cell_type": "markdown",
   "metadata": {},
   "source": [
    "Suppose now that we isolate ten latent features of these films, and that we can capture our users, i.e. the tastes of Max and Erin, according to these features. (We'll just fill out a matrix randomly.)"
   ]
  },
  {
   "cell_type": "code",
   "execution_count": 21,
   "metadata": {
    "ExecuteTime": {
     "end_time": "2023-01-09T22:17:35.967969Z",
     "start_time": "2023-01-09T22:17:35.963936Z"
    }
   },
   "outputs": [],
   "source": [
    "seed(100)\n",
    "users = []\n",
    "\n",
    "for _ in range(2):\n",
    "    user = []\n",
    "    for _ in range(10):\n",
    "        user.append(gs(0, 1))\n",
    "    users.append(user)\n",
    "users_arr = np.array(users)"
   ]
  },
  {
   "cell_type": "code",
   "execution_count": 22,
   "metadata": {
    "ExecuteTime": {
     "end_time": "2023-01-09T22:17:37.485578Z",
     "start_time": "2023-01-09T22:17:37.480078Z"
    }
   },
   "outputs": [
    {
     "data": {
      "text/plain": [
       "array([[ 0.67155333,  0.87331967,  0.20361655, -1.55034921, -0.12059128,\n",
       "        -1.05927574,  0.38143697, -1.17342904,  0.96637182,  0.53248343],\n",
       "       [ 2.22041991,  0.68901284,  0.85436449, -0.29504752, -0.62335055,\n",
       "         1.5917369 ,  0.17920475,  0.60086339,  0.3474319 ,  0.85537186]])"
      ]
     },
     "execution_count": 22,
     "metadata": {},
     "output_type": "execute_result"
    }
   ],
   "source": [
    "users_arr"
   ]
  },
  {
   "cell_type": "markdown",
   "metadata": {},
   "source": [
    "Now we'll make another random matrix that expresses *our items* in terms of these latent features."
   ]
  },
  {
   "cell_type": "code",
   "execution_count": 23,
   "metadata": {
    "ExecuteTime": {
     "end_time": "2023-01-09T22:17:53.724990Z",
     "start_time": "2023-01-09T22:17:53.717990Z"
    }
   },
   "outputs": [],
   "source": [
    "seed(100)\n",
    "items = []\n",
    "\n",
    "for _ in range(5):\n",
    "    item = []\n",
    "    for _ in range(10):\n",
    "        item.append(gs(0, 1))\n",
    "    items.append(item)\n",
    "items_arr = np.array(items)"
   ]
  },
  {
   "cell_type": "code",
   "execution_count": 24,
   "metadata": {
    "ExecuteTime": {
     "end_time": "2023-01-09T22:17:54.267493Z",
     "start_time": "2023-01-09T22:17:54.259992Z"
    }
   },
   "outputs": [
    {
     "data": {
      "text/plain": [
       "array([[ 0.67155333,  0.87331967,  0.20361655, -1.55034921, -0.12059128,\n",
       "        -1.05927574,  0.38143697, -1.17342904,  0.96637182,  0.53248343],\n",
       "       [ 2.22041991,  0.68901284,  0.85436449, -0.29504752, -0.62335055,\n",
       "         1.5917369 ,  0.17920475,  0.60086339,  0.3474319 ,  0.85537186],\n",
       "       [-1.80291827, -1.83311295,  0.60911087,  2.4250145 , -2.02233576,\n",
       "        -0.73382756,  0.24510831, -0.53817586, -0.30637608, -0.41367264],\n",
       "       [ 1.0027436 ,  0.03558136,  0.19013362, -1.27827915,  0.67648704,\n",
       "         1.79506722,  0.63054322, -0.37947302, -1.35033057,  0.45576721],\n",
       "       [ 0.42542416, -0.29962041, -2.48035968, -0.87457154, -1.23050164,\n",
       "        -1.00629648,  0.1857537 , -1.174924  , -0.33108494,  1.29437514]])"
      ]
     },
     "execution_count": 24,
     "metadata": {},
     "output_type": "execute_result"
    }
   ],
   "source": [
    "items_arr"
   ]
  },
  {
   "cell_type": "code",
   "execution_count": 25,
   "metadata": {
    "ExecuteTime": {
     "end_time": "2023-01-09T22:18:13.570598Z",
     "start_time": "2023-01-09T22:18:13.567096Z"
    }
   },
   "outputs": [
    {
     "data": {
      "text/plain": [
       "(2, 10)"
      ]
     },
     "execution_count": 25,
     "metadata": {},
     "output_type": "execute_result"
    }
   ],
   "source": [
    "users_arr.shape"
   ]
  },
  {
   "cell_type": "code",
   "execution_count": 26,
   "metadata": {
    "ExecuteTime": {
     "end_time": "2023-01-09T22:18:16.606204Z",
     "start_time": "2023-01-09T22:18:16.599203Z"
    }
   },
   "outputs": [
    {
     "data": {
      "text/plain": [
       "(5, 10)"
      ]
     },
     "execution_count": 26,
     "metadata": {},
     "output_type": "execute_result"
    }
   ],
   "source": [
    "items_arr.shape"
   ]
  },
  {
   "cell_type": "markdown",
   "metadata": {},
   "source": [
    "To construct our large users-by-items matrix, we'll simply take the product of our two random matrices."
   ]
  },
  {
   "cell_type": "code",
   "execution_count": 27,
   "metadata": {
    "ExecuteTime": {
     "end_time": "2023-01-09T22:18:31.827322Z",
     "start_time": "2023-01-09T22:18:31.812322Z"
    }
   },
   "outputs": [
    {
     "data": {
      "text/plain": [
       "array([[ 7.53516384,  1.26783511, -5.21738432,  0.36547776,  3.90803828],\n",
       "       [ 1.26783511, 10.38970834, -6.10853643,  5.03189793, -1.63817674]])"
      ]
     },
     "execution_count": 27,
     "metadata": {},
     "output_type": "execute_result"
    }
   ],
   "source": [
    "users_arr.dot(items_arr.T)"
   ]
  },
  {
   "cell_type": "markdown",
   "metadata": {},
   "source": [
    "Now here's where the ALS really kicks in: We'll solve for Max's and Erin's preference vectors by multiplying the pseudo-inverse of the items array by their respective ratings vectors:"
   ]
  },
  {
   "cell_type": "markdown",
   "metadata": {},
   "source": [
    "$x = (A^TA)^{-1}A^Tb$\n",
    "\n",
    " $MaxPreferences = (items^Titems)^{-1}items^TMaxRatings$"
   ]
  },
  {
   "cell_type": "code",
   "execution_count": 28,
   "metadata": {
    "ExecuteTime": {
     "end_time": "2023-01-09T22:19:23.844421Z",
     "start_time": "2023-01-09T22:19:23.819921Z"
    }
   },
   "outputs": [
    {
     "name": "stdout",
     "output_type": "stream",
     "text": [
      "[ 0.47099573 -0.11214938 -0.98527859  0.09266666 -0.64747458  0.00854642\n",
      " -0.11601818  0.09586291 -0.08579953  0.55693307]\n",
      "[-0.23238655 -0.55138144  0.5415508  -0.71191248  0.27767197  0.81157767\n",
      "  0.78557579 -1.03623954 -1.25490079  0.02606555]\n"
     ]
    }
   ],
   "source": [
    "max_pref = np.linalg.pinv(items_arr).dot(ratings_arr.loc['max', :])\n",
    "print(max_pref)\n",
    "erin_pref = np.linalg.pinv(items_arr).dot(ratings_arr.loc['erin', :])\n",
    "print(erin_pref)"
   ]
  },
  {
   "cell_type": "code",
   "execution_count": 29,
   "metadata": {
    "ExecuteTime": {
     "end_time": "2023-01-09T22:19:27.188308Z",
     "start_time": "2023-01-09T22:19:27.176808Z"
    }
   },
   "outputs": [
    {
     "data": {
      "text/plain": [
       "(10, 5)"
      ]
     },
     "execution_count": 29,
     "metadata": {},
     "output_type": "execute_result"
    }
   ],
   "source": [
    "items_arr.T.shape"
   ]
  },
  {
   "cell_type": "markdown",
   "metadata": {},
   "source": [
    "We'll predict (or, in this case, reproduce) Max's and Erin's ratings for films by simply multiplying their preference vectors by the transpose of the items array:"
   ]
  },
  {
   "cell_type": "code",
   "execution_count": 31,
   "metadata": {
    "ExecuteTime": {
     "end_time": "2023-01-09T22:20:06.535243Z",
     "start_time": "2023-01-09T22:20:06.520248Z"
    }
   },
   "outputs": [
    {
     "data": {
      "text/plain": [
       "(5, 10)"
      ]
     },
     "execution_count": 31,
     "metadata": {},
     "output_type": "execute_result"
    }
   ],
   "source": [
    "items_arr.shape"
   ]
  },
  {
   "cell_type": "code",
   "execution_count": 32,
   "metadata": {
    "ExecuteTime": {
     "end_time": "2023-01-09T22:20:22.276159Z",
     "start_time": "2023-01-09T22:20:22.260659Z"
    }
   },
   "outputs": [
    {
     "data": {
      "text/plain": [
       "(10,)"
      ]
     },
     "execution_count": 32,
     "metadata": {},
     "output_type": "execute_result"
    }
   ],
   "source": [
    "max_pref.shape"
   ]
  },
  {
   "cell_type": "code",
   "execution_count": 33,
   "metadata": {
    "ExecuteTime": {
     "end_time": "2023-01-09T22:20:40.363520Z",
     "start_time": "2023-01-09T22:20:40.350520Z"
    }
   },
   "outputs": [
    {
     "data": {
      "text/plain": [
       "array([-6.66133815e-16,  1.00000000e+00, -1.55431223e-15,  1.27675648e-15,\n",
       "        4.00000000e+00])"
      ]
     },
     "execution_count": 33,
     "metadata": {},
     "output_type": "execute_result"
    }
   ],
   "source": [
    "newmax = max_pref.dot(items_arr.T)\n",
    "newmax"
   ]
  },
  {
   "cell_type": "markdown",
   "metadata": {},
   "source": [
    "This lines up with the ratings with which we began."
   ]
  },
  {
   "cell_type": "code",
   "execution_count": 34,
   "metadata": {
    "ExecuteTime": {
     "end_time": "2023-01-09T22:20:50.589786Z",
     "start_time": "2023-01-09T22:20:50.584786Z"
    }
   },
   "outputs": [
    {
     "data": {
      "text/plain": [
       "array([ 4.44089210e-16,  1.66533454e-16, -2.22044605e-16,  5.00000000e+00,\n",
       "       -2.55351296e-15])"
      ]
     },
     "execution_count": 34,
     "metadata": {},
     "output_type": "execute_result"
    }
   ],
   "source": [
    "newerin = erin_pref.dot(items_arr.T)\n",
    "newerin"
   ]
  },
  {
   "cell_type": "code",
   "execution_count": 35,
   "metadata": {
    "ExecuteTime": {
     "end_time": "2023-01-09T22:20:51.410756Z",
     "start_time": "2023-01-09T22:20:51.400256Z"
    }
   },
   "outputs": [
    {
     "data": {
      "text/html": [
       "<div>\n",
       "<style scoped>\n",
       "    .dataframe tbody tr th:only-of-type {\n",
       "        vertical-align: middle;\n",
       "    }\n",
       "\n",
       "    .dataframe tbody tr th {\n",
       "        vertical-align: top;\n",
       "    }\n",
       "\n",
       "    .dataframe thead th {\n",
       "        text-align: right;\n",
       "    }\n",
       "</style>\n",
       "<table border=\"1\" class=\"dataframe\">\n",
       "  <thead>\n",
       "    <tr style=\"text-align: right;\">\n",
       "      <th></th>\n",
       "      <th>film1</th>\n",
       "      <th>film2</th>\n",
       "      <th>film3</th>\n",
       "      <th>film4</th>\n",
       "      <th>film5</th>\n",
       "    </tr>\n",
       "  </thead>\n",
       "  <tbody>\n",
       "    <tr>\n",
       "      <th>max</th>\n",
       "      <td>0</td>\n",
       "      <td>1</td>\n",
       "      <td>0</td>\n",
       "      <td>0</td>\n",
       "      <td>4</td>\n",
       "    </tr>\n",
       "    <tr>\n",
       "      <th>erin</th>\n",
       "      <td>0</td>\n",
       "      <td>0</td>\n",
       "      <td>0</td>\n",
       "      <td>5</td>\n",
       "      <td>0</td>\n",
       "    </tr>\n",
       "  </tbody>\n",
       "</table>\n",
       "</div>"
      ],
      "text/plain": [
       "      film1  film2  film3  film4  film5\n",
       "max       0      1      0      0      4\n",
       "erin      0      0      0      5      0"
      ]
     },
     "execution_count": 35,
     "metadata": {},
     "output_type": "execute_result"
    }
   ],
   "source": [
    "ratings_arr"
   ]
  },
  {
   "cell_type": "markdown",
   "metadata": {},
   "source": [
    "Ditto!"
   ]
  },
  {
   "cell_type": "markdown",
   "metadata": {},
   "source": [
    "We'll make a quick error calculation:"
   ]
  },
  {
   "cell_type": "code",
   "execution_count": 36,
   "metadata": {
    "ExecuteTime": {
     "end_time": "2023-01-09T22:22:15.888055Z",
     "start_time": "2023-01-09T22:22:15.869055Z"
    }
   },
   "outputs": [
    {
     "name": "stdout",
     "output_type": "stream",
     "text": [
      "6.754621500954914e-30\n"
     ]
    }
   ],
   "source": [
    "guess = np.vstack([newmax, newerin])\n",
    "\n",
    "err = 0\n",
    "for i in range(2):\n",
    "    for j in range(len(ratings_arr.values[i, :])):\n",
    "        if ratings_arr.values[i, j] != 0:\n",
    "            err += (ratings_arr.values[i, j] - guess[i, j])**2\n",
    "print(err)"
   ]
  },
  {
   "cell_type": "markdown",
   "metadata": {},
   "source": [
    "#### Second Example"
   ]
  },
  {
   "cell_type": "code",
   "execution_count": null,
   "metadata": {
    "ExecuteTime": {
     "end_time": "2023-01-09T18:59:02.940176Z",
     "start_time": "2023-01-09T18:59:02.926146Z"
    }
   },
   "outputs": [],
   "source": [
    "# Users: m x n (m users)\n",
    "# Items: r x n (r items)\n",
    "# Ratings: m x r"
   ]
  },
  {
   "cell_type": "code",
   "execution_count": 37,
   "metadata": {
    "ExecuteTime": {
     "end_time": "2023-01-09T22:23:44.265354Z",
     "start_time": "2023-01-09T22:23:44.235855Z"
    }
   },
   "outputs": [],
   "source": [
    "# If P = users and Q = items, then we want to approximate R = PQ^T\n",
    "# Let's generate R.\n",
    "\n",
    "seed(42)\n",
    "ratings2 = []\n",
    "for _ in range(100):\n",
    "    user = []\n",
    "    for _ in range(100):\n",
    "        chance = gs(0, 0.4)\n",
    "        \n",
    "        # We'll fill our ratings matrix mostly with 0's to represent\n",
    "        # unrated films. This is NOT standard; we're doing this only\n",
    "        # to illustrate the general algorithm.\n",
    "        if chance > 0.5:\n",
    "            user.append(int(uni(1, 6)))\n",
    "        else:\n",
    "            user.append(0)\n",
    "        \n",
    "        # This 'if' will simply ensure that everyone has given at least\n",
    "        # one rating.\n",
    "        if user.count(0) == 10:\n",
    "            user[int(uni(0, 10))] = int(uni(1, 6))\n",
    "    ratings2.append(user)\n",
    "ratings_arr2 = np.array(ratings2)"
   ]
  },
  {
   "cell_type": "code",
   "execution_count": 38,
   "metadata": {
    "ExecuteTime": {
     "end_time": "2023-01-09T22:23:45.318305Z",
     "start_time": "2023-01-09T22:23:45.313298Z"
    }
   },
   "outputs": [
    {
     "data": {
      "text/plain": [
       "(100, 100)"
      ]
     },
     "execution_count": 38,
     "metadata": {},
     "output_type": "execute_result"
    }
   ],
   "source": [
    "ratings_arr2.shape"
   ]
  },
  {
   "cell_type": "code",
   "execution_count": 39,
   "metadata": {
    "ExecuteTime": {
     "end_time": "2023-01-09T22:23:51.961174Z",
     "start_time": "2023-01-09T22:23:51.952674Z"
    }
   },
   "outputs": [
    {
     "data": {
      "text/plain": [
       "array([[0, 0, 0, ..., 0, 2, 0],\n",
       "       [3, 0, 2, ..., 0, 0, 0],\n",
       "       [5, 3, 0, ..., 0, 0, 0],\n",
       "       ...,\n",
       "       [0, 0, 0, ..., 5, 0, 2],\n",
       "       [0, 2, 5, ..., 0, 0, 0],\n",
       "       [2, 2, 0, ..., 5, 0, 5]])"
      ]
     },
     "execution_count": 39,
     "metadata": {},
     "output_type": "execute_result"
    }
   ],
   "source": [
    "ratings_arr2"
   ]
  },
  {
   "cell_type": "code",
   "execution_count": 40,
   "metadata": {
    "ExecuteTime": {
     "end_time": "2023-01-09T22:24:15.535789Z",
     "start_time": "2023-01-09T22:24:15.518758Z"
    }
   },
   "outputs": [],
   "source": [
    "users2 = []\n",
    "\n",
    "# Random generation of values for the user matrix\n",
    "for _ in range(100):\n",
    "    user = []\n",
    "    for _ in range(10):\n",
    "        user.append(gs(0, 1))\n",
    "    users2.append(user)\n",
    "users_arr2 = np.array(users2)"
   ]
  },
  {
   "cell_type": "code",
   "execution_count": 41,
   "metadata": {
    "ExecuteTime": {
     "end_time": "2023-01-09T22:24:17.053707Z",
     "start_time": "2023-01-09T22:24:17.047706Z"
    }
   },
   "outputs": [
    {
     "data": {
      "text/plain": [
       "(100, 10)"
      ]
     },
     "execution_count": 41,
     "metadata": {},
     "output_type": "execute_result"
    }
   ],
   "source": [
    "users_arr2.shape"
   ]
  },
  {
   "cell_type": "code",
   "execution_count": 42,
   "metadata": {
    "ExecuteTime": {
     "end_time": "2023-01-09T22:24:26.188215Z",
     "start_time": "2023-01-09T22:24:26.174186Z"
    }
   },
   "outputs": [],
   "source": [
    "items2 = []\n",
    "\n",
    "# Random generation of values for the item matrix\n",
    "for _ in range(100):\n",
    "    item = []\n",
    "    for _ in range(10):\n",
    "        item.append(gs(0, 1))\n",
    "    items2.append(item)\n",
    "items_arr2 = np.array(items2)"
   ]
  },
  {
   "cell_type": "code",
   "execution_count": 43,
   "metadata": {
    "ExecuteTime": {
     "end_time": "2023-01-09T22:24:26.622210Z",
     "start_time": "2023-01-09T22:24:26.612716Z"
    }
   },
   "outputs": [
    {
     "data": {
      "text/plain": [
       "(100, 10)"
      ]
     },
     "execution_count": 43,
     "metadata": {},
     "output_type": "execute_result"
    }
   ],
   "source": [
    "items_arr2.shape"
   ]
  },
  {
   "cell_type": "markdown",
   "metadata": {},
   "source": [
    "Our first guess at filling in the matrix will simply be the matrix product:"
   ]
  },
  {
   "cell_type": "code",
   "execution_count": 44,
   "metadata": {
    "ExecuteTime": {
     "end_time": "2023-01-09T22:24:39.564300Z",
     "start_time": "2023-01-09T22:24:39.547329Z"
    }
   },
   "outputs": [],
   "source": [
    "guess = users_arr2.dot(items_arr2.T)"
   ]
  },
  {
   "cell_type": "code",
   "execution_count": 45,
   "metadata": {
    "ExecuteTime": {
     "end_time": "2023-01-09T22:24:39.873801Z",
     "start_time": "2023-01-09T22:24:39.860299Z"
    }
   },
   "outputs": [
    {
     "data": {
      "text/plain": [
       "True"
      ]
     },
     "execution_count": 45,
     "metadata": {},
     "output_type": "execute_result"
    }
   ],
   "source": [
    "guess.shape == ratings_arr2.shape"
   ]
  },
  {
   "cell_type": "markdown",
   "metadata": {},
   "source": [
    "Let's get a measure of error:"
   ]
  },
  {
   "cell_type": "code",
   "execution_count": 46,
   "metadata": {
    "ExecuteTime": {
     "end_time": "2023-01-09T22:25:05.022111Z",
     "start_time": "2023-01-09T22:25:05.006611Z"
    }
   },
   "outputs": [
    {
     "data": {
      "text/plain": [
       "array([[ 1.20022042, -4.79370844,  0.16745819, ...,  0.71515764,\n",
       "         5.29265957,  2.34612024],\n",
       "       [12.81954999,  1.09244517,  2.76883236, ...,  3.84048632,\n",
       "         3.63986143,  1.251285  ],\n",
       "       [-0.11924386,  0.1143655 , -0.52294795, ...,  3.37782545,\n",
       "        -2.46092459,  0.03240239],\n",
       "       ...,\n",
       "       [ 1.78409526, -0.16181232,  1.29355933, ...,  6.03771907,\n",
       "         1.97382977,  4.89026489],\n",
       "       [-1.85314949,  4.16815931,  3.84911175, ..., -0.0342376 ,\n",
       "        -5.73579374, -1.53629352],\n",
       "       [ 2.51939362,  5.31266136, -1.7857387 , ...,  5.18275941,\n",
       "        -2.55671716,  4.90783561]])"
      ]
     },
     "execution_count": 46,
     "metadata": {},
     "output_type": "execute_result"
    }
   ],
   "source": [
    "ratings_arr2 - guess"
   ]
  },
  {
   "cell_type": "code",
   "execution_count": 47,
   "metadata": {
    "ExecuteTime": {
     "end_time": "2023-01-09T22:25:12.533623Z",
     "start_time": "2023-01-09T22:25:12.521655Z"
    }
   },
   "outputs": [
    {
     "data": {
      "text/plain": [
       "122333.98763617325"
      ]
     },
     "execution_count": 47,
     "metadata": {},
     "output_type": "execute_result"
    }
   ],
   "source": [
    "err = (ratings_arr2 - guess)**2\n",
    "\n",
    "np.sum(err)"
   ]
  },
  {
   "cell_type": "markdown",
   "metadata": {},
   "source": [
    "Pretty terrible! But we started with random numbers and have only done one iteration. Let's see if we can do better:"
   ]
  },
  {
   "cell_type": "code",
   "execution_count": 48,
   "metadata": {
    "ExecuteTime": {
     "end_time": "2023-01-09T22:26:50.575870Z",
     "start_time": "2023-01-09T22:26:50.554339Z"
    }
   },
   "outputs": [],
   "source": [
    "def als(ratings, users, items, reps=10):\n",
    "    \n",
    "    ratings_cols = ratings.T\n",
    "    for _ in range(reps):\n",
    "        new_users = []\n",
    "        for i in range(len(ratings)):\n",
    "            \n",
    "            user = LinearRegression(fit_intercept=False)\\\n",
    "            .fit(items, ratings[i]).coef_\n",
    "            new_users.append(user)\n",
    "        new_users = np.asarray(new_users)\n",
    "        \n",
    "        new_items = []\n",
    "        for i in range(len(ratings)):\n",
    "            \n",
    "            item = LinearRegression(fit_intercept=False)\\\n",
    "            .fit(new_users, ratings_cols[i]).coef_\n",
    "            new_items.append(item)\n",
    "        new_items = np.asarray(new_items)\n",
    "        \n",
    "        guess = new_users.dot(new_items.T)\n",
    "        err = 0\n",
    "        for i in range(len(ratings)):\n",
    "            for j in range(len(ratings[i])):\n",
    "                if ratings[i, j] != 0:\n",
    "                    err += (ratings[i, j] - guess[i, j])**2\n",
    "        print(err)\n",
    "        \n",
    "        items = new_items\n",
    "        \n",
    "    return new_users.dot(new_items.T)"
   ]
  },
  {
   "cell_type": "markdown",
   "metadata": {},
   "source": [
    "We should see our error decrease with more iterations:"
   ]
  },
  {
   "cell_type": "code",
   "execution_count": 50,
   "metadata": {
    "ExecuteTime": {
     "end_time": "2023-01-09T22:27:18.592506Z",
     "start_time": "2023-01-09T22:27:17.523007Z"
    }
   },
   "outputs": [
    {
     "name": "stdout",
     "output_type": "stream",
     "text": [
      "8679.959268046976\n",
      "6511.27060829189\n",
      "6272.528821101911\n",
      "6190.959718973223\n",
      "6153.148460896029\n",
      "6133.158269096346\n",
      "6121.902204676274\n",
      "6115.079057339578\n",
      "6110.538074584969\n",
      "6107.25526650842\n"
     ]
    }
   ],
   "source": [
    "new_users2 = als(ratings_arr2, users_arr2, items_arr2)[:5, :]"
   ]
  },
  {
   "cell_type": "code",
   "execution_count": 51,
   "metadata": {
    "ExecuteTime": {
     "end_time": "2023-01-09T22:27:26.126098Z",
     "start_time": "2023-01-09T22:27:26.114560Z"
    }
   },
   "outputs": [
    {
     "data": {
      "text/plain": [
       "(5, 100)"
      ]
     },
     "execution_count": 51,
     "metadata": {},
     "output_type": "execute_result"
    }
   ],
   "source": [
    "new_users2.shape"
   ]
  },
  {
   "cell_type": "code",
   "execution_count": 52,
   "metadata": {
    "ExecuteTime": {
     "end_time": "2023-01-09T22:27:30.938195Z",
     "start_time": "2023-01-09T22:27:30.918715Z"
    },
    "collapsed": true
   },
   "outputs": [
    {
     "data": {
      "text/plain": [
       "array([[ 7.41947471e-01,  1.80370167e+00, -1.23196937e-02,\n",
       "        -6.67899991e-01, -3.22916512e-01,  3.12419066e+00,\n",
       "         5.70065229e-01,  3.18568307e-01,  6.41787602e-01,\n",
       "        -5.09757178e-02,  1.39809786e-01,  2.87522394e-01,\n",
       "         3.54929324e-01,  8.74609084e-01,  7.01088040e-01,\n",
       "         9.24420951e-03,  8.46309285e-02,  1.71185017e-01,\n",
       "         6.12659453e-01,  3.05175778e-01, -2.87577647e-02,\n",
       "        -7.66347710e-01, -3.85286738e-02,  6.35249119e-01,\n",
       "         3.53071260e-01, -1.62873975e-01,  8.40793974e-02,\n",
       "        -1.22840129e-01,  1.89666570e-01,  2.51436545e-01,\n",
       "         6.20321577e-01, -6.95327816e-02,  3.10413688e-01,\n",
       "         5.70051862e-01,  6.61233454e-01,  1.65671203e-01,\n",
       "         2.26336815e-01,  4.92841881e-01,  4.61652519e-01,\n",
       "         1.33733838e-01,  1.03803456e-01, -5.15783514e-01,\n",
       "         1.42961572e-01,  4.66443844e-01, -7.68532497e-02,\n",
       "         5.30692160e-01, -5.69584167e-01,  6.55360643e-01,\n",
       "         1.44930051e-01,  9.70213217e-03,  5.47140848e-01,\n",
       "         3.50423367e-01,  4.58584827e-01,  8.94167511e-01,\n",
       "         1.68428671e-01,  4.03113683e-01,  1.98861641e-01,\n",
       "         3.19353364e-03, -3.04844712e-01,  1.66297180e-01,\n",
       "         6.60617428e-01,  1.67219223e-02, -1.08022614e-01,\n",
       "         1.00912500e+00,  8.70171049e-02,  1.41484169e+00,\n",
       "         4.28179868e-02, -2.51946623e-01, -9.18332377e-01,\n",
       "        -2.00734832e-01,  2.38033044e-01,  1.71123975e-01,\n",
       "        -6.09166152e-02,  1.12353298e+00, -4.49905095e-01,\n",
       "         3.58439023e-01,  5.16174855e-01, -7.62541445e-02,\n",
       "        -9.57396247e-02,  5.44576822e-01,  4.00746776e-01,\n",
       "        -1.89783116e-01, -1.23982549e-02,  4.06393032e-01,\n",
       "         1.70612872e-01,  7.92493634e-01,  4.67463257e-01,\n",
       "        -1.03480843e-01, -3.79338739e-02,  2.77071285e-01,\n",
       "         7.84310605e-01,  3.36914507e-01,  5.71480430e-01,\n",
       "        -1.37238128e-01, -4.49595851e-01, -4.02272048e-02,\n",
       "         5.93337721e-01, -5.22644624e-01, -1.70659812e-01,\n",
       "        -4.06970451e-02],\n",
       "       [ 2.98661130e+00,  4.98649471e-01,  1.83461934e+00,\n",
       "         1.79036775e-01,  2.53444864e-01, -1.04302462e+00,\n",
       "         7.16752183e-01,  2.15070673e+00,  1.71718195e+00,\n",
       "         6.68271671e-01, -5.27163728e-02,  5.00862474e-01,\n",
       "         1.79789755e-01,  6.02426129e-01, -1.41717053e-02,\n",
       "        -2.97832254e-03,  7.82224302e-01,  1.32986198e+00,\n",
       "         5.66997814e-01, -2.88707214e-02,  3.95475061e-02,\n",
       "         5.55091415e-01,  1.83705252e+00, -6.55844729e-02,\n",
       "        -5.97646478e-02,  5.86554230e-01,  5.94206587e-01,\n",
       "         1.19238230e+00, -6.04982480e-02,  3.26748060e-01,\n",
       "         8.41521168e-01,  9.15490403e-01,  6.55722400e-01,\n",
       "         4.07923871e-01, -1.34748119e-01,  2.66030698e-01,\n",
       "         2.60959273e-01,  1.80998256e-01,  2.48360650e-01,\n",
       "         1.45000618e-01,  3.94005093e-01,  2.54673411e-01,\n",
       "         3.33147690e-01,  7.32148844e-01,  4.52097871e-01,\n",
       "         5.11294380e-01,  8.12385860e-01, -7.31231431e-02,\n",
       "         4.45268016e-01,  7.02084078e-01, -4.14734489e-01,\n",
       "         2.92341798e-01,  4.45569893e-01,  3.43207672e-01,\n",
       "         4.52963569e-01,  3.90749801e-01,  1.83769311e-01,\n",
       "         3.42089531e-01,  7.11881452e-01,  8.16145651e-01,\n",
       "         4.74940912e-01,  1.41985618e+00,  7.37188976e-03,\n",
       "         1.03472940e+00,  1.50445352e-01,  3.29621130e-01,\n",
       "         3.10490809e+00,  1.40116928e+00,  1.73316499e+00,\n",
       "         5.55428058e-01,  8.44791796e-01, -6.15756274e-02,\n",
       "         1.86976835e-01,  3.05467985e-01,  2.71665224e-01,\n",
       "         5.07694483e-01,  1.67441860e-02,  4.67131295e-01,\n",
       "         1.34919890e-01,  1.91857832e-01, -6.33844311e-02,\n",
       "         1.05004186e-01,  8.43048236e-01, -1.65824988e-01,\n",
       "        -1.03732211e-01,  1.20008913e+00,  6.68329622e-01,\n",
       "         3.87785943e-01,  2.08084287e-01,  4.38997884e-01,\n",
       "         1.39756943e-01,  9.60700910e-01, -1.77293323e-02,\n",
       "        -2.81276978e-01,  1.37550486e+00, -3.13931046e-02,\n",
       "         5.74001327e-01,  8.80470525e-01,  4.37994604e-02,\n",
       "         9.46858778e-01],\n",
       "       [ 6.43813128e+00,  3.12012023e+00,  1.48574346e-01,\n",
       "         2.60118051e+00,  1.05226407e+00, -7.18738552e-01,\n",
       "        -5.44171063e-03,  6.43914110e-01, -2.02718461e+00,\n",
       "         4.33816100e+00,  7.88610484e-01,  1.58040336e-01,\n",
       "         1.96557849e-01,  9.00655532e-01, -9.45936002e-01,\n",
       "         4.83813009e-01,  2.04863420e+00,  4.08613200e-02,\n",
       "         8.03180141e-01,  1.72448363e-01, -1.22371628e-01,\n",
       "         3.86879549e-01,  7.97706279e-01,  3.10422921e-01,\n",
       "        -4.67630252e-02,  8.30563647e-01, -6.31773727e-01,\n",
       "         2.29579655e-01,  9.10519326e-02,  7.68137088e-02,\n",
       "         1.76569101e-01,  6.28057328e-01, -9.86504964e-02,\n",
       "        -5.32012891e-01, -4.90937598e-01,  1.10990755e+00,\n",
       "         1.90855556e-01,  9.74314268e-01, -1.50740341e-01,\n",
       "         7.92516612e-01,  3.49531134e-02,  7.81750203e-01,\n",
       "         1.11246970e+00,  7.10851409e-01,  1.16661065e+00,\n",
       "        -1.23876549e-01,  1.20419881e+00,  6.43843977e-01,\n",
       "         1.99846142e-01,  3.43331050e-02,  3.33428892e+00,\n",
       "        -2.82978191e-01, -1.32324209e-01,  8.06568204e-01,\n",
       "         3.81354775e-01,  1.01478627e+00, -1.20648945e-02,\n",
       "        -3.24367837e-01,  1.70093547e+00,  1.17116331e+00,\n",
       "        -1.13221509e-01, -8.86054650e-01, -3.08892162e-01,\n",
       "         3.12087003e-01, -2.71718179e-01,  9.39155517e-01,\n",
       "         5.25305311e-01,  1.58343462e-01,  1.69634141e+00,\n",
       "         2.10732944e+00, -7.21385834e-02,  4.06612647e-02,\n",
       "         2.29042162e-01,  2.85340876e-01,  3.01193176e+00,\n",
       "         9.46450446e-01, -5.38856975e-01,  3.40499584e-01,\n",
       "         2.30587719e-01, -1.19193121e+00,  8.96606111e-01,\n",
       "         1.81838975e+00,  1.46121860e-01,  4.55961162e-01,\n",
       "         1.64172688e-01,  1.99255077e+00,  6.34231659e-01,\n",
       "         2.58807221e-01,  7.23644125e-01,  3.61512232e+00,\n",
       "        -6.22525957e-02,  1.36083608e-01,  8.82109149e-01,\n",
       "         6.94853936e-01,  6.67577024e-01,  6.84523592e-01,\n",
       "         5.62577139e-01,  4.50347657e-01,  6.35620955e-01,\n",
       "         9.13925202e-01],\n",
       "       [ 3.12627395e-01,  8.68122197e-01,  3.02211742e+00,\n",
       "         4.04034073e+00,  2.16913977e+00, -4.04428850e-01,\n",
       "         3.76459890e+00,  3.08289208e+00,  1.93743315e+00,\n",
       "         4.62796882e-01,  9.14342758e-02,  2.85948506e-01,\n",
       "         7.35457574e-01, -2.80635827e-01,  5.08519894e-01,\n",
       "         2.01776438e-01, -2.48824465e-01,  2.06506375e-01,\n",
       "        -2.50715557e-01, -2.24429773e-01,  6.71019002e-01,\n",
       "        -1.78348882e-01,  4.99506546e-01, -9.35177873e-02,\n",
       "         4.51663980e-02, -2.06160138e-01,  6.96771313e-01,\n",
       "         3.15931253e-01, -2.33745066e-01,  2.64504332e-01,\n",
       "         2.29393169e-01,  2.94219603e-01,  7.31465438e-02,\n",
       "        -1.30618785e-01,  4.19203343e-01,  6.14718715e-02,\n",
       "        -1.37030134e-01,  1.38143501e-01,  1.73579747e-01,\n",
       "         2.75386832e-01, -4.16032622e-01,  4.59803258e-01,\n",
       "         3.07775325e-01, -7.94653667e-02, -7.86591520e-02,\n",
       "         3.73356956e-01, -2.29933269e-01, -7.49800142e-03,\n",
       "         7.69382482e-02,  6.33780205e-01, -6.44416683e-01,\n",
       "        -1.72463438e-01,  2.69178732e-01,  9.69009189e-01,\n",
       "         3.98130971e-01,  7.34233136e-01,  2.41537847e-01,\n",
       "         8.48588969e-01,  7.62516319e-01, -4.11978898e-01,\n",
       "         3.32230951e-01,  4.22280305e-01,  1.08056852e+00,\n",
       "        -9.80162015e-02,  9.84193445e-01, -4.16853408e-02,\n",
       "        -4.15335377e-01,  5.05470287e-01,  4.56755030e-01,\n",
       "         1.75361454e-01, -3.01739959e-01,  5.13984297e-01,\n",
       "         1.34137186e+00, -3.44701226e-01,  3.25231301e-01,\n",
       "        -1.23675646e-01,  1.04708957e+00,  4.64669749e-01,\n",
       "         3.06414997e-01,  8.98232732e-01, -6.11903699e-01,\n",
       "         3.71377314e-01,  2.45045285e-01, -1.32689045e-02,\n",
       "         6.13689340e-01,  1.68107579e-01, -2.12608085e-01,\n",
       "         2.47439169e-01, -5.50051042e-02, -1.35062799e+00,\n",
       "         4.40727922e-01,  7.42281856e-01,  6.75049327e-01,\n",
       "         6.35693018e-01, -9.18907956e-02,  1.56618659e-01,\n",
       "         5.23193460e-01,  3.90958947e-01,  4.98216923e-01,\n",
       "        -2.05539329e-01],\n",
       "       [ 2.14155632e-01,  3.35386173e-01,  5.05936711e+00,\n",
       "         1.54840267e+00,  3.28812035e+00,  1.24611629e+00,\n",
       "         3.62987306e-01,  1.55150408e+00, -2.01596365e-01,\n",
       "        -8.62739883e-01,  1.32423563e-01,  6.70930000e-02,\n",
       "         7.85419911e-01,  5.10965074e-01, -2.62047353e-01,\n",
       "         2.41247159e-01, -4.13559072e-02, -4.12264843e-01,\n",
       "         6.34758005e-02,  7.48756823e-01,  1.44747667e-01,\n",
       "         5.93971651e-01,  3.65025221e-01,  7.00124296e-01,\n",
       "         2.74630214e-01,  2.01748427e-01,  9.86251017e-02,\n",
       "         3.84975041e-01,  1.55409733e-01, -1.44072718e-01,\n",
       "         8.33794391e-01, -1.01470261e-01,  2.22001725e-01,\n",
       "         2.55730981e-01,  9.13499029e-01,  3.71562737e-01,\n",
       "         2.47047811e-01,  7.07590712e-01,  2.61699230e-01,\n",
       "         5.09867446e-01,  9.90874030e-02,  2.29650391e-01,\n",
       "         3.52459663e-01,  4.10492513e-01, -3.55904241e-02,\n",
       "         3.79975923e-01,  3.18775944e-01,  2.86475838e-02,\n",
       "         7.00963909e-02,  7.69597257e-02,  1.02322234e+00,\n",
       "         4.66075904e-01, -4.45345255e-01,  9.13578258e-01,\n",
       "        -1.99659375e-01,  2.23239059e+00,  2.67179092e-01,\n",
       "         8.29806676e-01,  1.17482078e+00, -3.86139853e-01,\n",
       "         1.25023658e+00,  4.70074554e-01,  6.28607716e-01,\n",
       "        -1.54108240e-01,  4.82716009e-01,  8.50316562e-01,\n",
       "        -2.87539305e-01,  5.58934178e-01,  2.10383450e-02,\n",
       "         5.23510531e-01, -9.53720660e-02, -2.88031634e-02,\n",
       "         9.89998570e-01,  1.41310758e+00,  1.01130249e-01,\n",
       "         2.41867585e-01,  5.77918040e-02,  3.22936609e-01,\n",
       "         1.23151150e-01,  5.56657311e-01,  1.33808758e-01,\n",
       "         1.26435771e-02, -1.76010591e-01, -4.66154485e-01,\n",
       "         3.96145069e-01,  1.32352972e+00, -3.96129264e-01,\n",
       "         6.81729573e-02,  4.31370053e-01, -9.52442182e-01,\n",
       "         2.19795963e-01,  4.11412194e-02,  6.83506570e-01,\n",
       "         2.64824573e-01, -1.92422294e-01, -7.45776503e-02,\n",
       "        -5.87998499e-01,  5.23905440e-02,  4.73568224e-01,\n",
       "        -1.40709404e-01]])"
      ]
     },
     "execution_count": 52,
     "metadata": {},
     "output_type": "execute_result"
    }
   ],
   "source": [
    "new_users2"
   ]
  },
  {
   "cell_type": "markdown",
   "metadata": {},
   "source": [
    "#### ALS in `pyspark`\n",
    "\n",
    "We'll talk about Big Data and Spark soon, but I'll just note here that Spark has a recommendation submodule inside its ml (machine learning) module. Source code for `pyspark`'s version [here](https://spark.apache.org/docs/latest/api/python/_modules/pyspark/ml/recommendation.html)."
   ]
  },
  {
   "cell_type": "code",
   "execution_count": null,
   "metadata": {},
   "outputs": [],
   "source": []
  }
 ],
 "metadata": {
  "kernelspec": {
   "display_name": "learn-env",
   "language": "python",
   "name": "learn-env"
  },
  "language_info": {
   "codemirror_mode": {
    "name": "ipython",
    "version": 3
   },
   "file_extension": ".py",
   "mimetype": "text/x-python",
   "name": "python",
   "nbconvert_exporter": "python",
   "pygments_lexer": "ipython3",
   "version": "3.8.5"
  },
  "toc": {
   "base_numbering": 1,
   "nav_menu": {},
   "number_sections": true,
   "sideBar": true,
   "skip_h1_title": false,
   "title_cell": "Table of Contents",
   "title_sidebar": "Contents",
   "toc_cell": false,
   "toc_position": {},
   "toc_section_display": true,
   "toc_window_display": false
  },
  "varInspector": {
   "cols": {
    "lenName": 16,
    "lenType": 16,
    "lenVar": 40
   },
   "kernels_config": {
    "python": {
     "delete_cmd_postfix": "",
     "delete_cmd_prefix": "del ",
     "library": "var_list.py",
     "varRefreshCmd": "print(var_dic_list())"
    },
    "r": {
     "delete_cmd_postfix": ") ",
     "delete_cmd_prefix": "rm(",
     "library": "var_list.r",
     "varRefreshCmd": "cat(var_dic_list()) "
    }
   },
   "types_to_exclude": [
    "module",
    "function",
    "builtin_function_or_method",
    "instance",
    "_Feature"
   ],
   "window_display": false
  }
 },
 "nbformat": 4,
 "nbformat_minor": 2
}

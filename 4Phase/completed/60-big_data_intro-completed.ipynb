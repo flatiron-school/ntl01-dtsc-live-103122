{
 "cells": [
  {
   "cell_type": "markdown",
   "metadata": {
    "toc": true
   },
   "source": [
    "<h1>Table of Contents<span class=\"tocSkip\"></span></h1>\n",
    "<div class=\"toc\"><ul class=\"toc-item\"><li><span><a href=\"#Objectives\" data-toc-modified-id=\"Objectives-1\"><span class=\"toc-item-num\">1&nbsp;&nbsp;</span>Objectives</a></span></li><li><span><a href=\"#What-is-Big-Data?\" data-toc-modified-id=\"What-is-Big-Data?-2\"><span class=\"toc-item-num\">2&nbsp;&nbsp;</span>What is Big Data?</a></span><ul class=\"toc-item\"><li><span><a href=\"#Numbers-Everyone-Should-Know\" data-toc-modified-id=\"Numbers-Everyone-Should-Know-2.1\"><span class=\"toc-item-num\">2.1&nbsp;&nbsp;</span>Numbers Everyone Should Know</a></span></li><li><span><a href=\"#The-3-Vs-of-Data\" data-toc-modified-id=\"The-3-Vs-of-Data-2.2\"><span class=\"toc-item-num\">2.2&nbsp;&nbsp;</span>The 3 Vs of Data</a></span></li></ul></li><li><span><a href=\"#Applying-it-via-Tools\" data-toc-modified-id=\"Applying-it-via-Tools-3\"><span class=\"toc-item-num\">3&nbsp;&nbsp;</span>Applying it via Tools</a></span><ul class=\"toc-item\"><li><span><a href=\"#Hadoop-Framework\" data-toc-modified-id=\"Hadoop-Framework-3.1\"><span class=\"toc-item-num\">3.1&nbsp;&nbsp;</span>Hadoop Framework</a></span></li><li><span><a href=\"#Apache-Spark\" data-toc-modified-id=\"Apache-Spark-3.2\"><span class=\"toc-item-num\">3.2&nbsp;&nbsp;</span>Apache Spark</a></span><ul class=\"toc-item\"><li><span><a href=\"#Spark-Data-Objects\" data-toc-modified-id=\"Spark-Data-Objects-3.2.1\"><span class=\"toc-item-num\">3.2.1&nbsp;&nbsp;</span>Spark Data Objects</a></span><ul class=\"toc-item\"><li><span><a href=\"#Use-an-RDD-when:\" data-toc-modified-id=\"Use-an-RDD-when:-3.2.1.1\"><span class=\"toc-item-num\">3.2.1.1&nbsp;&nbsp;</span>Use an RDD when:</a></span></li><li><span><a href=\"#Use-a-dataframe-when:\" data-toc-modified-id=\"Use-a-dataframe-when:-3.2.1.2\"><span class=\"toc-item-num\">3.2.1.2&nbsp;&nbsp;</span>Use a dataframe when:</a></span></li></ul></li></ul></li><li><span><a href=\"#But-Spark-Isn't-Always-the-Best-Tool!\" data-toc-modified-id=\"But-Spark-Isn't-Always-the-Best-Tool!-3.3\"><span class=\"toc-item-num\">3.3&nbsp;&nbsp;</span>But Spark Isn't Always the Best Tool!</a></span></li></ul></li><li><span><a href=\"#What-Do-We-Mean-by-&quot;Parallel&quot;-&amp;-&quot;Distributed&quot;?\" data-toc-modified-id=\"What-Do-We-Mean-by-&quot;Parallel&quot;-&amp;-&quot;Distributed&quot;?-4\"><span class=\"toc-item-num\">4&nbsp;&nbsp;</span>What Do We Mean by \"Parallel\" &amp; \"Distributed\"?</a></span><ul class=\"toc-item\"><li><span><a href=\"#Distributed\" data-toc-modified-id=\"Distributed-4.1\"><span class=\"toc-item-num\">4.1&nbsp;&nbsp;</span>Distributed</a></span></li><li><span><a href=\"#Sequential\" data-toc-modified-id=\"Sequential-4.2\"><span class=\"toc-item-num\">4.2&nbsp;&nbsp;</span>Sequential</a></span></li><li><span><a href=\"#Parallel\" data-toc-modified-id=\"Parallel-4.3\"><span class=\"toc-item-num\">4.3&nbsp;&nbsp;</span>Parallel</a></span></li></ul></li><li><span><a href=\"#MapReduce\" data-toc-modified-id=\"MapReduce-5\"><span class=\"toc-item-num\">5&nbsp;&nbsp;</span>MapReduce</a></span><ul class=\"toc-item\"><li><span><a href=\"#Steps-in-MapReduce\" data-toc-modified-id=\"Steps-in-MapReduce-5.1\"><span class=\"toc-item-num\">5.1&nbsp;&nbsp;</span>Steps in MapReduce</a></span><ul class=\"toc-item\"><li><span><a href=\"#Split\" data-toc-modified-id=\"Split-5.1.1\"><span class=\"toc-item-num\">5.1.1&nbsp;&nbsp;</span>Split</a></span></li><li><span><a href=\"#Map\" data-toc-modified-id=\"Map-5.1.2\"><span class=\"toc-item-num\">5.1.2&nbsp;&nbsp;</span>Map</a></span></li><li><span><a href=\"#Shuffle\" data-toc-modified-id=\"Shuffle-5.1.3\"><span class=\"toc-item-num\">5.1.3&nbsp;&nbsp;</span>Shuffle</a></span></li><li><span><a href=\"#Reduce\" data-toc-modified-id=\"Reduce-5.1.4\"><span class=\"toc-item-num\">5.1.4&nbsp;&nbsp;</span>Reduce</a></span></li></ul></li><li><span><a href=\"#MapReduce-Examples-with-mrjob\" data-toc-modified-id=\"MapReduce-Examples-with-mrjob-5.2\"><span class=\"toc-item-num\">5.2&nbsp;&nbsp;</span>MapReduce Examples with <code>mrjob</code></a></span><ul class=\"toc-item\"><li><span><a href=\"#Song-Plays\" data-toc-modified-id=\"Song-Plays-5.2.1\"><span class=\"toc-item-num\">5.2.1&nbsp;&nbsp;</span>Song Plays</a></span></li><li><span><a href=\"#Word-Count\" data-toc-modified-id=\"Word-Count-5.2.2\"><span class=\"toc-item-num\">5.2.2&nbsp;&nbsp;</span>Word Count</a></span></li></ul></li></ul></li></ul></div>"
   ]
  },
  {
   "cell_type": "markdown",
   "metadata": {},
   "source": [
    "# Objectives"
   ]
  },
  {
   "cell_type": "markdown",
   "metadata": {},
   "source": [
    "- Understand what is \"big data\"\n",
    "- Know why big data is different and how it can be processed\n",
    "- Understand how data can be handled in distributed and parallel systems\n",
    "- Understand how MapReduce is run"
   ]
  },
  {
   "cell_type": "markdown",
   "metadata": {},
   "source": [
    "# What is Big Data?"
   ]
  },
  {
   "cell_type": "markdown",
   "metadata": {},
   "source": [
    "> A different amount makes a different kind"
   ]
  },
  {
   "cell_type": "markdown",
   "metadata": {},
   "source": [
    "There is no clear/agreed upon definition but typically we say we're working on **big data** if we have to use something like a distributed computing system (not just one local machine)"
   ]
  },
  {
   "cell_type": "markdown",
   "metadata": {},
   "source": [
    "## Numbers Everyone Should Know"
   ]
  },
  {
   "cell_type": "markdown",
   "metadata": {},
   "source": [
    "To determine big data, we should consider the **\"numbers everyone should know\"**"
   ]
  },
  {
   "cell_type": "markdown",
   "metadata": {},
   "source": [
    "- CPU\n",
    "    + Brain\n",
    "    + 0.5 ns\n",
    "- Memory (RAM)\n",
    "    + Short-term memory\n",
    "    + 100 ns\n",
    "    + ~ 200x slower than CPU\n",
    "- Storage (SSD/HDD)\n",
    "    + Long-term memory\n",
    "    + 15 µs / 800 µs (15,000 ns / 8,000,000 ns)\n",
    "    + ~ 15x slower than memory\n",
    "- Network\n",
    "    + Connecting machines\n",
    "    + 150 ms (150,000,000 ns)\n",
    "    + ~ 20x slower than storage\n",
    "    "
   ]
  },
  {
   "cell_type": "markdown",
   "metadata": {},
   "source": [
    "    \n",
    "Originally Jeff Dean & Peter Norvig; original blog: http://norvig.com/21-days.html#Answers "
   ]
  },
  {
   "cell_type": "markdown",
   "metadata": {},
   "source": [
    "Interactive numbers: https://people.eecs.berkeley.edu/~rcs/research/interactive_latency.html"
   ]
  },
  {
   "cell_type": "markdown",
   "metadata": {},
   "source": [
    "**Thrashing**: when your CPU is bored, waiting for tasks to do since it has to wait for their slowpoke friends"
   ]
  },
  {
   "cell_type": "markdown",
   "metadata": {},
   "source": [
    "## The 3 Vs of Data"
   ]
  },
  {
   "cell_type": "markdown",
   "metadata": {},
   "source": [
    "+ Volume --> Large Amounts\n",
    "+ Velocity --> Quickly Generated\n",
    "+ Variety --> Unstructured "
   ]
  },
  {
   "cell_type": "markdown",
   "metadata": {},
   "source": [
    "![](images/3vs.png)"
   ]
  },
  {
   "cell_type": "markdown",
   "metadata": {},
   "source": [
    "Data is *big* when it is better/faster to split the work over the network amongst more (parallel) because of one or more of these Vs"
   ]
  },
  {
   "cell_type": "markdown",
   "metadata": {},
   "source": [
    "# Applying it via Tools"
   ]
  },
  {
   "cell_type": "markdown",
   "metadata": {},
   "source": [
    "## Hadoop Framework"
   ]
  },
  {
   "cell_type": "markdown",
   "metadata": {},
   "source": [
    "![](images/hadoop_logo.png)"
   ]
  },
  {
   "cell_type": "markdown",
   "metadata": {},
   "source": [
    "> Considered \"old-school\"\n",
    ">\n",
    "> Slower since it has to write to disk each time\n",
    "\n",
    "- Storage (usually [HDFS](https://hadoop.apache.org/docs/r1.2.1/hdfs_design.html)) \n",
    "- Data Processing (MapReduce)\n",
    "- Resource Management"
   ]
  },
  {
   "cell_type": "markdown",
   "metadata": {},
   "source": [
    "## Apache Spark"
   ]
  },
  {
   "cell_type": "markdown",
   "metadata": {},
   "source": [
    "![](images/apache_spark_logo.png)"
   ]
  },
  {
   "cell_type": "markdown",
   "metadata": {},
   "source": [
    "> Holds data in memory whenever possible (faster)\n",
    ">\n",
    "> Can still be built on top of Hadoop but also S3 on AWS"
   ]
  },
  {
   "cell_type": "markdown",
   "metadata": {},
   "source": [
    "Spark has become king of data since it does a good job with ETL (Extract-Transform-Load) & ML in distributed systems"
   ]
  },
  {
   "cell_type": "markdown",
   "metadata": {
    "heading_collapsed": true
   },
   "source": [
    "##### _Aside: More Detail on Spark_"
   ]
  },
  {
   "cell_type": "markdown",
   "metadata": {
    "hidden": true
   },
   "source": [
    "**Some Resources**\n",
    "\n",
    ">[Here](https://towardsdatascience.com/a-neanderthals-guide-to-apache-spark-in-python-9ef1f156d427) is a great walkthrough of Spark basics!\n",
    ">\n",
    "> And [here](https://towardsdatascience.com/apache-spark-a-conceptual-orientation-e326f8c57a64)'s another from our very own alum, Alex Shropshire!\n",
    ">\n",
    "> Spark has APIs for Scala (this is ur-Spark), Java, Python, and R."
   ]
  },
  {
   "cell_type": "markdown",
   "metadata": {
    "hidden": true
   },
   "source": [
    "N.B. Unless otherwise marked, page references are to [Salloum, Dautov, et al., \"Big Data Analytics on Apache Spark\", 2016](https://link.springer.com/content/pdf/10.1007%2Fs41060-016-0027-9.pdf)."
   ]
  },
  {
   "cell_type": "markdown",
   "metadata": {
    "hidden": true
   },
   "source": [
    "Spark is a tool for the management of big data. Sometimes data science professionals will refer to the [five \"V\"s](https://www.bbva.com/en/five-vs-big-data/) of big data. Clearly, the availabilty and size of datasets are growing rapidly. What counts as \"big data\"? Roughly speaking, we're talking about datasets that are too large to be processed on a single machine."
   ]
  },
  {
   "cell_type": "markdown",
   "metadata": {
    "hidden": true
   },
   "source": [
    "Many large companies are relying on big data these days, and Spark is a major player in the big data game. Examples can be found [here](https://www.icas.com/thought-leadership/technology/10-companies-using-big-data) and [here](https://enlyft.com/tech/products/apache-spark) and [here](https://www.quora.com/Which-are-the-companies-that-use-apache-spark)."
   ]
  },
  {
   "cell_type": "markdown",
   "metadata": {
    "hidden": true
   },
   "source": [
    "So ... how in the world *do* you process a dataset that's too large for a single machine? You use multiple machines linked together! Let's call each machine a *node*, and the group of all machines working in parallel a *cluster*."
   ]
  },
  {
   "cell_type": "markdown",
   "metadata": {
    "hidden": true
   },
   "source": [
    "The origin story of Spark starts with [MapReduce](https://en.wikipedia.org/wiki/MapReduce), whose programs comprise (unsurprisingly) a \"map\" routine (for filtering and sorting) and a \"reduce\" routine (for performing some aggregate operation).\n",
    "\n",
    "Let's look at an [example](https://en.wikipedia.org/wiki/MapReduce#Logical_view):"
   ]
  },
  {
   "cell_type": "markdown",
   "metadata": {
    "hidden": true
   },
   "source": [
    "An early major player in big data that used MapReduce was [Hadoop](https://en.wikipedia.org/wiki/Apache_Hadoop). Hadoop was (and still is) a framework for distributed data processing. Its processing component used MapReduce, but it also had a storage component called the \"Hadoop Distributed File System\".\n",
    "\n",
    "From Wikipedia: \"Hadoop splits files into large blocks and distributes them across nodes in a cluster. It then transfers packaged code into nodes to process the data in parallel. This approach takes advantage of data locality, where nodes manipulate the data they have access to. This allows the dataset to be processed faster and more efficiently than it would be in a more conventional supercomputer architecture that relies on a parallel file system where computation and data are distributed via high-speed networking\"."
   ]
  },
  {
   "cell_type": "markdown",
   "metadata": {
    "hidden": true
   },
   "source": [
    "But Spark appeared as open source in 2010, and had some advantages over Hadoop MapReduce.\n",
    "\n",
    "Spark's advances over Hadoop MapReduce:\n",
    "\n",
    "- data processing in memory rather than on disks\n",
    "- a single framework for machine learning, graph analysis, and processing of streaming data (pp. 159-160)"
   ]
  },
  {
   "cell_type": "markdown",
   "metadata": {
    "hidden": true
   },
   "source": [
    "For more on the advantages of Spark over MapReduce, see [this piece](https://research.ijcaonline.org/volume113/number1/pxc3900531.pdf).\n",
    "\n",
    "Distributed computing can help enormously with speed. Check out [this website](http://sortbenchmark.org) for the latest in speed records."
   ]
  },
  {
   "cell_type": "markdown",
   "metadata": {
    "hidden": true
   },
   "source": [
    "\"As a framework, it combines a core engine for distributed computing with an advanced programming model for in-memory processing. Although it has the same linear scalability and fault tolerance capabilities as those of MapReduce, it comes with a multistage in-memory programming model comparing to the rigid map-then-reduce disk-based model\" (146).\n",
    "\n",
    "Illustration, p. 148, of Spark guts.\n",
    "\n",
    "\"Running a Spark application involves five key entities ... a driver program, a cluster manager, workers, executors and tasks. A driver program is an application that uses Spark as a library and defines a high-level control flow of the target computation. While a worker provides CPU, memory and storage resources to a Spark application, an executer \\[sic\\] is a JVM (Java Virtual Machine) process that Spark creates on each worker for that application. A job is a set of computations (e.g., a data processing algorithm) that Spark performs on a cluster to get results to the driver program. A Spark application can launch multiple jobs. Spark splits a job into a directed acyclic graph (DAG) of stages where each stage is a collection of tasks. A task is the smallest unit of work that Spark sends to an executor. The main entry point for Spark functionalities is a SparkContext through which the driver program access \\[sic\\] Spark. A SparkContext represents a connection to a computing cluster\" (149)."
   ]
  },
  {
   "cell_type": "markdown",
   "metadata": {
    "hidden": true
   },
   "source": [
    "[Resilient Distributed Dataset (RDD)](https://databricks.com/glossary/what-is-rdd), Transformations, and Actions:\n",
    "\n",
    "Fault tolerance achieved by keeping a record of the RDD's lineage. There are *redundancies* in the data records, so that, in the event of node failure, the other nodes can provide for data recovery. This is what makes these RDDs *resilient*.\n",
    "\n",
    "- Transformations take one from an RDD to another RDD;\n",
    "- Actions take one from an RDD to an output value.\n",
    "\n",
    "Broadcast variables and accumulators act as global variables; the latter are for counters or sums."
   ]
  },
  {
   "cell_type": "markdown",
   "metadata": {
    "hidden": true
   },
   "source": [
    "Surveys of Big Data tools [here](https://journalofbigdata.springeropen.com/articles/10.1186/s40537-015-0032-1) and [here](https://ieeexplore.ieee.org/document/7300948).\n",
    "\n",
    "Debugging can be a challenge in Spark. [This project](https://sites.google.com/site/sparkbigdebug/) was started to help with that.\n",
    "\n",
    "Also check out Paco Nathan's [massive slide show presentation](http://stanford.edu/~rezab/sparkclass/slides/itas_workshop.pdf) on Spark. Let's just look at slides 66-7 and 82."
   ]
  },
  {
   "cell_type": "markdown",
   "metadata": {
    "heading_collapsed": true,
    "hidden": true
   },
   "source": [
    "###### Aside: The story of Spark (a timeline)"
   ]
  },
  {
   "cell_type": "markdown",
   "metadata": {
    "hidden": true
   },
   "source": [
    "|<p align=\"left justify\">Date</p>|<p align=\"left justify\">Product</p>|<p align=\"left justify\">Update</p>|\n",
    "|:----|:-----|:-----|\n",
    "| 2002 | Hadoop | <p align=\"left justify\">Doug Cutting starts `Apache Nutch` researching sort/merge processing</p> |\n",
    "| 2006 | Hadoop |  <p align=\"left justify\">Leaves `Nutch` and joins `Yahoo`, renaming the project `Hadoop` </p>|\n",
    "| 2008 | Hadoop |  <p align=\"left justify\">`Hadoop` was made `Apache’s` top level project </p> |\n",
    "| Jan 2008 | Hadoop |  <p align=\"left justify\">v 0.10.1 released </p>|\n",
    "| 2009 | Spark | <p align=\"left justify\">started as a research project at the UC Berkeley AMPLab  </p>|\n",
    "| 2010 | Spark |  <p align=\"left justify\">open sourced </p>|\n",
    "| Sept 2012 | Spark |  <p align=\"left justify\">0.6.0 released </p>|\n",
    "| 2013 | Spark |  <p align=\"left justify\">moved to the `Apache` Software Foundation </p>|\n",
    "| Feb 2013| Spark |  <p align=\"left justify\">Spark 0.7 adds a Python API called `PySpark` </p>|\n",
    "| Sept 2013 | Spark | <p align=\"left justify\">0.8.0 introduces `MLlib` </p>|\n",
    "| 2013 | Databricks |  <p align=\"left justify\">Original Spark research team at UC Berkeley found Databricks</p> |\n",
    "| May 2014 |Spark |  <p align=\"left justify\">v 1.0 introduces Spark SQL, for loading and manipulating structured data in Spark</p>|\n",
    "| Sept 2014 | Spark|  <p align=\"left justify\">v 1.1.0 provided support for registering Python lambda funtions as UDFs</p>|\n",
    "|Mar 2015 | Spark | <p align=\"left justify\"> v 1.3.0 brings a new DataFrame API</p> |\n",
    "| Jun 2015 | Spark | <p align=\"left justify\"> v 1.4.0 brings an R API to Spark</p> |\n",
    "| 2015 | Databricks | <p align=\"left justify\"> The Databricks Apache Spark cloud platform goes public</p> |\n",
    "| Jan 2016|  Spark | <p align=\"left justify\"> v 1.6.0 brings a new Dataset API <br> - A new Spark API, similar to RDDs, that allows users to work with custom objects and lambda functions while still gaining the benefits of the Spark SQL execution engine.</p> |\n",
    "| Jul 2016 | Spark | <p align=\"left justify\"> v 2.0.0 **big update**! <Br> - Unifying DataFrame and Dataset: In Scala and Java, DataFrame and Dataset have been unified, i.e. DataFrame is just a type alias for Dataset of Row. In Python and R, given the lack of type safety, DataFrame is the main programming interface. <br> - SparkSession: new entry point that replaces the old SQLContext<br>- Native CSV data source, based on Databricks’ spark-csv module<br>- MLlib - The DataFrame-based API is now the primary API. The RDD-based API is entering maintenance mode </p> |\n",
    "| 2016 | Databricks | <p align=\"left justify\"> Databricks Launches Free Community Edition As Companion To Free Online Spark Courses </p>|\n",
    "| Jul 2017| Spark | <p align=\"left justify\"> v 2.2.0 drops support for Python 2.6 |\n",
    "| Nov 2018 | Spark | <p align=\"left justify\"> v 2.4.0<br> - This release adds Barrier Execution Mode for better integration with deep learning frameworks<br> - more integration between pandas UDF and spark DataFrames </p>|\n",
    "| June 2020 | Spark | 3.0 <p align=\"left justify\"> - This release adds adaptive query execution <br> - ANSI SQL compliance <br> - pandas API improvements|\n",
    "| March 2021 | Spark| 3.1.2 <p align=\"left justify\"> - Stability Fixes</p>|\n",
    "| October 2021 | Spark | 3.2.0 <p align=\"left justify\"> - Added support for pandas API</p> |\n",
    "| June 2022 | Spark | 3.3.0 <p align=\"left justify\"> - Increased join query performance<br>- Extends panda API coverage</p> |"
   ]
  },
  {
   "cell_type": "markdown",
   "metadata": {},
   "source": [
    "### Spark Data Objects"
   ]
  },
  {
   "cell_type": "markdown",
   "metadata": {},
   "source": [
    "***In Pyspark there are only RDD and DataFrames***"
   ]
  },
  {
   "cell_type": "markdown",
   "metadata": {},
   "source": [
    "In other languages where \"compiling\" is done, there is the distinction between DataFrames and DataSet. \n",
    "\n",
    "![dataframe image](https://databricks.com/wp-content/uploads/2018/05/DataFrames.png)"
   ]
  },
  {
   "cell_type": "markdown",
   "metadata": {},
   "source": [
    "#### Use an RDD when:"
   ]
  },
  {
   "cell_type": "markdown",
   "metadata": {},
   "source": [
    "[quoted from databricks](https://databricks.com/blog/2016/07/14/a-tale-of-three-apache-spark-apis-rdds-dataframes-and-datasets.html)\n",
    "\n",
    "> - you want low-level transformation and actions and control on your dataset;\n",
    "> - your data is unstructured, such as media streams or streams of text;\n",
    "> - you want to manipulate your data with [functional programming constructs](https://divyanshu013.dev/blog/functional-programming-constructs/) than [domain specific expressions](https://en.wikipedia.org/wiki/Domain-specific_language);\n",
    "> - you don’t care about imposing a schema, such as columnar format, while processing or accessing data attributes by name or column"
   ]
  },
  {
   "cell_type": "markdown",
   "metadata": {},
   "source": [
    "#### Use a dataframe when:"
   ]
  },
  {
   "cell_type": "markdown",
   "metadata": {},
   "source": [
    "[also quoted from databricks](https://databricks.com/blog/2016/07/14/a-tale-of-three-apache-spark-apis-rdds-dataframes-and-datasets.html)"
   ]
  },
  {
   "cell_type": "markdown",
   "metadata": {},
   "source": [
    "> - you want rich semantics, high-level abstractions, and domain specific APIs, use DataFrame\n",
    "> - your processing demands high-level expressions, filters, maps, aggregation, averages, sum, SQL queries, columnar access and use of lambda functions on semi-structured data, use DataFrame\n",
    "> - you want higher degree of type-safety at compile time, want typed JVM objects, take advantage of Catalyst optimization, and benefit from Tungsten’s efficient code generation, use Dataset.\n",
    "> - you want unification and simplification of APIs across Spark Libraries, use DataFrame or Dataset.\n",
    "> - If you are a R user, use DataFrames.\n",
    "> - If you are a Python user, use DataFrames and resort back to RDDs if you need more control."
   ]
  },
  {
   "cell_type": "markdown",
   "metadata": {},
   "source": [
    "**Note**: Machine learning algorithms are run on _DataFrames_"
   ]
  },
  {
   "cell_type": "markdown",
   "metadata": {},
   "source": [
    "## But Spark Isn't Always the Best Tool!"
   ]
  },
  {
   "cell_type": "markdown",
   "metadata": {},
   "source": [
    "![](images/tech_stack.png)"
   ]
  },
  {
   "cell_type": "markdown",
   "metadata": {},
   "source": [
    "# What Do We Mean by \"Parallel\" & \"Distributed\"?"
   ]
  },
  {
   "cell_type": "markdown",
   "metadata": {},
   "source": [
    "## Distributed"
   ]
  },
  {
   "cell_type": "markdown",
   "metadata": {},
   "source": [
    "![](images/types_of_network.png)"
   ]
  },
  {
   "cell_type": "markdown",
   "metadata": {},
   "source": [
    "> tasks split up and executed by different workers\n",
    "\n",
    "+ Multiple CPUs each have their own memory\n",
    "+ Multiple CPUs share via a network (using \"messages\")"
   ]
  },
  {
   "cell_type": "markdown",
   "metadata": {},
   "source": [
    "## Sequential"
   ]
  },
  {
   "cell_type": "markdown",
   "metadata": {},
   "source": [
    "![](images/sequential.png)"
   ]
  },
  {
   "cell_type": "markdown",
   "metadata": {},
   "source": [
    "> Take a step at a time"
   ]
  },
  {
   "cell_type": "markdown",
   "metadata": {},
   "source": [
    "## Parallel"
   ]
  },
  {
   "cell_type": "markdown",
   "metadata": {},
   "source": [
    "![](images/parallel.png)"
   ]
  },
  {
   "cell_type": "markdown",
   "metadata": {},
   "source": [
    "> executing tasks in a non-sequential order\n",
    "\n",
    "+ Multiple CPUs share same memory to \"communicate\""
   ]
  },
  {
   "cell_type": "markdown",
   "metadata": {},
   "source": [
    "# MapReduce"
   ]
  },
  {
   "cell_type": "markdown",
   "metadata": {},
   "source": [
    "Describes two jobs: **Map** & **Reduce**"
   ]
  },
  {
   "cell_type": "markdown",
   "metadata": {},
   "source": [
    "Software best for **clusters**"
   ]
  },
  {
   "cell_type": "markdown",
   "metadata": {},
   "source": [
    "Below explain each step of the process:"
   ]
  },
  {
   "cell_type": "markdown",
   "metadata": {},
   "source": [
    "![](images/MapReduceZooExample.drawio.png)"
   ]
  },
  {
   "cell_type": "markdown",
   "metadata": {},
   "source": [
    "## Steps in MapReduce"
   ]
  },
  {
   "cell_type": "markdown",
   "metadata": {},
   "source": [
    "![](images/mapreduce_visual.jpg)"
   ]
  },
  {
   "cell_type": "markdown",
   "metadata": {},
   "source": [
    "### Split"
   ]
  },
  {
   "cell_type": "markdown",
   "metadata": {},
   "source": [
    "> Assign tasks to each worker"
   ]
  },
  {
   "cell_type": "markdown",
   "metadata": {},
   "source": [
    "### Map"
   ]
  },
  {
   "cell_type": "markdown",
   "metadata": {},
   "source": [
    "> Map is another word for function: takes in data as one form, and \n",
    "transforms/maps it to another form"
   ]
  },
  {
   "cell_type": "markdown",
   "metadata": {},
   "source": [
    "We create key-value pairs (tuples)"
   ]
  },
  {
   "cell_type": "markdown",
   "metadata": {},
   "source": [
    "### Shuffle"
   ]
  },
  {
   "cell_type": "markdown",
   "metadata": {},
   "source": [
    "> Reorganize to make reducing easier"
   ]
  },
  {
   "cell_type": "markdown",
   "metadata": {},
   "source": [
    "### Reduce"
   ]
  },
  {
   "cell_type": "markdown",
   "metadata": {},
   "source": [
    "> Takes data from the map and _combines_ the data into smaller sets"
   ]
  },
  {
   "cell_type": "markdown",
   "metadata": {},
   "source": [
    "## MapReduce Examples with `mrjob`"
   ]
  },
  {
   "cell_type": "markdown",
   "metadata": {},
   "source": [
    "`mrjob` is a package that allows to write MapReduce jobs in Python which can be useful for testing on your local machine."
   ]
  },
  {
   "cell_type": "markdown",
   "metadata": {},
   "source": [
    "> Checkout the documentation for more information: https://mrjob.readthedocs.io/en/latest/index.html"
   ]
  },
  {
   "cell_type": "markdown",
   "metadata": {},
   "source": [
    "You can install it by running this cell (uncommented):"
   ]
  },
  {
   "cell_type": "code",
   "execution_count": null,
   "metadata": {
    "ExecuteTime": {
     "end_time": "2023-01-12T00:26:51.342380Z",
     "start_time": "2023-01-12T00:26:51.339379Z"
    }
   },
   "outputs": [],
   "source": [
    "# # This package is for running MapReduce jobs with Python\n",
    "# ! pip install mrjob "
   ]
  },
  {
   "cell_type": "markdown",
   "metadata": {},
   "source": [
    "### Song Plays"
   ]
  },
  {
   "cell_type": "markdown",
   "metadata": {},
   "source": [
    "Here's what's in the `song_count.py` file:\n",
    "\n",
    "```python\n",
    "from mrjob.job import MRJob\n",
    "from mrjob.step import MRStep\n",
    "\n",
    "class MRCountSongs(MRJob):\n",
    "    \n",
    "    def steps(self):\n",
    "        return [\n",
    "            MRStep(mapper=self.mapper),\n",
    "            MRStep(reducer=self.reducer)\n",
    "        ]\n",
    "    \n",
    "    # Each line in will be read as a key, value\n",
    "    # Each line has no key, so we ignore it with `_`\n",
    "    def mapper(self, _, song):\n",
    "        # Each line is a tuple: (song_names, 1) \n",
    "        yield (song, 1)\n",
    "\n",
    "    # Combine all tuples with the same key\n",
    "    def reducer(self, key, values):\n",
    "        # Key is the song name\n",
    "        # Sum up values in the tuple to get total song plays\n",
    "        yield (key, sum(values))\n",
    "        \n",
    "# Runs this if I call it via the terminal        \n",
    "if __name__ == \"__main__\":\n",
    "    MRCountSongs.run()\n",
    "```"
   ]
  },
  {
   "cell_type": "code",
   "execution_count": 2,
   "metadata": {
    "ExecuteTime": {
     "end_time": "2023-01-13T17:08:37.446609Z",
     "start_time": "2023-01-13T17:08:37.433610Z"
    }
   },
   "outputs": [
    {
     "name": "stdout",
     "output_type": "stream",
     "text": [
      "['Deep Dreams\\n', 'Data House Rock\\n', 'Deep Dreams\\n', 'Data House Rock\\n', 'Broken Networks\\n']\n"
     ]
    }
   ],
   "source": [
    "with open('./data/songplays.txt') as songs:\n",
    "    head = [next(songs) for x in range(5)]\n",
    "    \n",
    "print(head)"
   ]
  },
  {
   "cell_type": "code",
   "execution_count": 1,
   "metadata": {
    "ExecuteTime": {
     "end_time": "2023-01-13T16:58:40.173961Z",
     "start_time": "2023-01-13T16:58:39.139990Z"
    },
    "scrolled": true
   },
   "outputs": [
    {
     "name": "stdout",
     "output_type": "stream",
     "text": [
      "\"Broken Networks\"\t510\n",
      "\"Data House Rock\"\t828\n",
      "\"Deep Dreams\"\t1131\n"
     ]
    },
    {
     "name": "stderr",
     "output_type": "stream",
     "text": [
      "No configs found; falling back on auto-configuration\n",
      "No configs specified for inline runner\n",
      "Creating temp directory C:\\Users\\david\\AppData\\Local\\Temp\\song_count.David B. Elliott.20230113.165839.504459\n",
      "Running step 1 of 2...\n",
      "Running step 2 of 2...\n",
      "job output is in C:\\Users\\david\\AppData\\Local\\Temp\\song_count.David B. Elliott.20230113.165839.504459\\output\n",
      "Streaming final output from C:\\Users\\david\\AppData\\Local\\Temp\\song_count.David B. Elliott.20230113.165839.504459\\output...\n",
      "Removing temp directory C:\\Users\\david\\AppData\\Local\\Temp\\song_count.David B. Elliott.20230113.165839.504459...\n"
     ]
    }
   ],
   "source": [
    "! python ./src/song_count.py data/songplays.txt"
   ]
  },
  {
   "cell_type": "code",
   "execution_count": 4,
   "metadata": {
    "ExecuteTime": {
     "end_time": "2023-01-13T17:11:02.202081Z",
     "start_time": "2023-01-13T17:11:01.847080Z"
    },
    "collapsed": true
   },
   "outputs": [
    {
     "name": "stdout",
     "output_type": "stream",
     "text": [
      "\"Deep Dreams\"\t1\n",
      "\"Data House Rock\"\t1\n",
      "\"Deep Dreams\"\t1\n",
      "\"Data House Rock\"\t1\n",
      "\"Broken Networks\"\t1\n",
      "\"Data House Rock\"\t1\n",
      "\"Deep Dreams\"\t1\n",
      "\"Deep Dreams\"\t1\n",
      "\"Data House Rock\"\t1\n",
      "\"Deep Dreams\"\t1\n",
      "\"Broken Networks\"\t1\n",
      "\"Deep Dreams\"\t1\n",
      "\"Data House Rock\"\t1\n",
      "\"Deep Dreams\"\t1\n",
      "\"Data House Rock\"\t1\n",
      "\"Broken Networks\"\t1\n",
      "\"Data House Rock\"\t1\n",
      "\"Deep Dreams\"\t1\n",
      "\"Deep Dreams\"\t1\n",
      "\"Data House Rock\"\t1\n",
      "\"Deep Dreams\"\t1\n",
      "\"Broken Networks\"\t1\n",
      "\"Deep Dreams\"\t1\n",
      "\"Data House Rock\"\t1\n",
      "\"Deep Dreams\"\t1\n",
      "\"Data House Rock\"\t1\n",
      "\"Broken Networks\"\t1\n",
      "\"Data House Rock\"\t1\n",
      "\"Deep Dreams\"\t1\n",
      "\"Deep Dreams\"\t1\n",
      "\"Data House Rock\"\t1\n",
      "\"Deep Dreams\"\t1\n",
      "\"Broken Networks\"\t1\n",
      "\"Deep Dreams\"\t1\n",
      "\"Data House Rock\"\t1\n",
      "\"Deep Dreams\"\t1\n",
      "\"Data House Rock\"\t1\n",
      "\"Broken Networks\"\t1\n",
      "\"Data House Rock\"\t1\n",
      "\"Deep Dreams\"\t1\n",
      "\"Deep Dreams\"\t1\n",
      "\"Data House Rock\"\t1\n",
      "\"Deep Dreams\"\t1\n",
      "\"Broken Networks\"\t1\n",
      "\"Deep Dreams\"\t1\n",
      "\"Data House Rock\"\t1\n",
      "\"Deep Dreams\"\t1\n",
      "\"Data House Rock\"\t1\n",
      "\"Broken Networks\"\t1\n",
      "\"Data House Rock\"\t1\n",
      "\"Deep Dreams\"\t1\n",
      "\"Deep Dreams\"\t1\n",
      "\"Data House Rock\"\t1\n",
      "\"Deep Dreams\"\t1\n",
      "\"Broken Networks\"\t1\n",
      "\"Deep Dreams\"\t1\n",
      "\"Data House Rock\"\t1\n",
      "\"Deep Dreams\"\t1\n",
      "\"Data House Rock\"\t1\n",
      "\"Broken Networks\"\t1\n",
      "\"Data House Rock\"\t1\n",
      "\"Deep Dreams\"\t1\n",
      "\"Deep Dreams\"\t1\n",
      "\"Data House Rock\"\t1\n",
      "\"Deep Dreams\"\t1\n",
      "\"Broken Networks\"\t1\n",
      "\"Deep Dreams\"\t1\n",
      "\"Data House Rock\"\t1\n",
      "\"Deep Dreams\"\t1\n",
      "\"Data House Rock\"\t1\n",
      "\"Broken Networks\"\t1\n",
      "\"Data House Rock\"\t1\n",
      "\"Deep Dreams\"\t1\n",
      "\"Deep Dreams\"\t1\n",
      "\"Data House Rock\"\t1\n",
      "\"Deep Dreams\"\t1\n",
      "\"Broken Networks\"\t1\n",
      "\"Deep Dreams\"\t1\n",
      "\"Data House Rock\"\t1\n",
      "\"Deep Dreams\"\t1\n",
      "\"Data House Rock\"\t1\n",
      "\"Broken Networks\"\t1\n",
      "\"Data House Rock\"\t1\n",
      "\"Deep Dreams\"\t1\n",
      "\"Deep Dreams\"\t1\n",
      "\"Data House Rock\"\t1\n",
      "\"Deep Dreams\"\t1\n",
      "\"Broken Networks\"\t1\n",
      "\"Deep Dreams\"\t1\n",
      "\"Data House Rock\"\t1\n",
      "\"Deep Dreams\"\t1\n",
      "\"Data House Rock\"\t1\n",
      "\"Broken Networks\"\t1\n",
      "\"Data House Rock\"\t1\n",
      "\"Deep Dreams\"\t1\n",
      "\"Deep Dreams\"\t1\n",
      "\"Data House Rock\"\t1\n",
      "\"Deep Dreams\"\t1\n",
      "\"Broken Networks\"\t1\n",
      "\"Deep Dreams\"\t1\n",
      "\"Data House Rock\"\t1\n",
      "\"Deep Dreams\"\t1\n",
      "\"Data House Rock\"\t1\n",
      "\"Broken Networks\"\t1\n",
      "\"Data House Rock\"\t1\n",
      "\"Deep Dreams\"\t1\n",
      "\"Deep Dreams\"\t1\n",
      "\"Data House Rock\"\t1\n",
      "\"Deep Dreams\"\t1\n",
      "\"Broken Networks\"\t1\n",
      "\"Deep Dreams\"\t1\n",
      "\"Data House Rock\"\t1\n",
      "\"Deep Dreams\"\t1\n",
      "\"Data House Rock\"\t1\n",
      "\"Broken Networks\"\t1\n",
      "\"Data House Rock\"\t1\n",
      "\"Deep Dreams\"\t1\n",
      "\"Deep Dreams\"\t1\n",
      "\"Data House Rock\"\t1\n",
      "\"Deep Dreams\"\t1\n",
      "\"Broken Networks\"\t1\n",
      "\"Deep Dreams\"\t1\n",
      "\"Data House Rock\"\t1\n",
      "\"Deep Dreams\"\t1\n",
      "\"Data House Rock\"\t1\n",
      "\"Broken Networks\"\t1\n",
      "\"Data House Rock\"\t1\n",
      "\"Deep Dreams\"\t1\n",
      "\"Deep Dreams\"\t1\n",
      "\"Data House Rock\"\t1\n",
      "\"Deep Dreams\"\t1\n",
      "\"Broken Networks\"\t1\n",
      "\"Deep Dreams\"\t1\n",
      "\"Data House Rock\"\t1\n",
      "\"Deep Dreams\"\t1\n",
      "\"Data House Rock\"\t1\n",
      "\"Broken Networks\"\t1\n",
      "\"Data House Rock\"\t1\n",
      "\"Deep Dreams\"\t1\n",
      "\"Deep Dreams\"\t1\n",
      "\"Data House Rock\"\t1\n",
      "\"Deep Dreams\"\t1\n",
      "\"Broken Networks\"\t1\n",
      "\"Deep Dreams\"\t1\n",
      "\"Data House Rock\"\t1\n",
      "\"Deep Dreams\"\t1\n",
      "\"Data House Rock\"\t1\n",
      "\"Broken Networks\"\t1\n",
      "\"Data House Rock\"\t1\n",
      "\"Deep Dreams\"\t1\n",
      "\"Deep Dreams\"\t1\n",
      "\"Data House Rock\"\t1\n",
      "\"Deep Dreams\"\t1\n",
      "\"Broken Networks\"\t1\n",
      "\"Deep Dreams\"\t1\n",
      "\"Data House Rock\"\t1\n",
      "\"Deep Dreams\"\t1\n",
      "\"Data House Rock\"\t1\n",
      "\"Broken Networks\"\t1\n",
      "\"Data House Rock\"\t1\n",
      "\"Deep Dreams\"\t1\n",
      "\"Deep Dreams\"\t1\n",
      "\"Data House Rock\"\t1\n",
      "\"Deep Dreams\"\t1\n",
      "\"Broken Networks\"\t1\n",
      "\"Deep Dreams\"\t1\n",
      "\"Broken Networks\"\t1\n",
      "\"Deep Dreams\"\t1\n",
      "\"Data House Rock\"\t1\n",
      "\"Deep Dreams\"\t1\n",
      "\"Data House Rock\"\t1\n",
      "\"Broken Networks\"\t1\n",
      "\"Data House Rock\"\t1\n",
      "\"Deep Dreams\"\t1\n",
      "\"Deep Dreams\"\t1\n",
      "\"Data House Rock\"\t1\n",
      "\"Deep Dreams\"\t1\n",
      "\"Broken Networks\"\t1\n",
      "\"Deep Dreams\"\t1\n",
      "\"Data House Rock\"\t1\n",
      "\"Deep Dreams\"\t1\n",
      "\"Data House Rock\"\t1\n",
      "\"Broken Networks\"\t1\n",
      "\"Data House Rock\"\t1\n",
      "\"Deep Dreams\"\t1\n",
      "\"Deep Dreams\"\t1"
     ]
    }
   ],
   "source": [
    "# You can see more closely what's happening in the mapper step\n",
    "!python ./src/song_count.py data/songplays.txt --mapper"
   ]
  },
  {
   "cell_type": "markdown",
   "metadata": {},
   "source": [
    "### Word Count"
   ]
  },
  {
   "cell_type": "markdown",
   "metadata": {},
   "source": [
    "Here's what's in the `wordcount.py` file:\n",
    "\n",
    "```python\n",
    "from mrjob.job import MRJob\n",
    "import string\n",
    "\n",
    "class MRWordFreqCount(MRJob):\n",
    "\n",
    "    def mapper(self, _, line):\n",
    "        line = line.strip()\n",
    "        # Remove punctuations\n",
    "        for s in string.punctuation:\n",
    "            line = line.replace(s, '')\n",
    "        words = line.split()\n",
    "        for word in words:\n",
    "            yield (word.lower(), 1)\n",
    "\n",
    "    def reducer(self, word, counts):\n",
    "        yield (word, sum(counts))\n",
    "\n",
    "\n",
    "if __name__ == '__main__':\n",
    "    MRWordFreqCount.run()\n",
    "```"
   ]
  },
  {
   "cell_type": "code",
   "execution_count": 5,
   "metadata": {
    "ExecuteTime": {
     "end_time": "2023-01-13T17:11:53.105581Z",
     "start_time": "2023-01-13T17:11:51.561580Z"
    },
    "scrolled": true
   },
   "outputs": [
    {
     "name": "stdout",
     "output_type": "stream",
     "text": [
      "\"1\"\t8\n",
      "\"10\"\t1\n",
      "\"10000\"\t1\n",
      "\"100000000\"\t1\n",
      "\"1971\"\t1\n",
      "\"1999\"\t1\n",
      "\"2\"\t7\n",
      "\"20\"\t1\n",
      "\"200\"\t1\n",
      "\"2000\"\t2\n",
      "\"2001\"\t2\n",
      "\"2261\"\t1\n",
      "\"2261txt\"\t1\n",
      "\"2261zip\"\t1\n",
      "\"2782\"\t1\n",
      "\"2m\"\t2\n",
      "\"2wife\"\t1\n",
      "\"3\"\t3\n",
      "\"30\"\t2\n",
      "\"31\"\t1\n",
      "\"3333\"\t1\n",
      "\"3mu\"\t1\n",
      "\"3rd\"\t1\n",
      "\"3wat\"\t1\n",
      "\"432\"\t1\n",
      "\"5\"\t1\n",
      "\"60\"\t1\n",
      "\"61825\"\t1\n",
      "\"7\"\t1\n",
      "\"90\"\t1\n",
      "\"\\ufeffthe\"\t1\n",
      "\"a\"\t516\n",
      "\"abate\"\t1\n",
      "\"abbey\"\t1\n",
      "\"abbreviations\"\t1\n",
      "\"abhorred\"\t1\n",
      "\"abhors\"\t1\n",
      "\"able\"\t2\n",
      "\"aboard\"\t1\n",
      "\"aboue\"\t7\n",
      "\"aboundst\"\t1\n",
      "\"about\"\t19\n",
      "\"abouts\"\t1\n",
      "\"above\"\t3\n",
      "\"abra\"\t5\n",
      "\"abraham\"\t1\n",
      "\"abroach\"\t1\n",
      "\"abroad\"\t4\n",
      "\"absolud\"\t1\n",
      "\"abusd\"\t1\n",
      "\"abuse\"\t1\n",
      "\"abuses\"\t1\n",
      "\"accent\"\t1\n",
      "\"accept\"\t1\n",
      "\"accepts\"\t1\n",
      "\"access\"\t1\n",
      "\"accesse\"\t1\n",
      "\"accident\"\t1\n",
      "\"accidents\"\t1\n",
      "\"accorded\"\t1\n",
      "\"according\"\t2\n",
      "\"account\"\t3\n",
      "\"accurst\"\t1\n",
      "\"accustomd\"\t1\n",
      "\"acknowledge\"\t1\n",
      "\"acquaint\"\t1\n",
      "\"acquaintance\"\t1\n",
      "\"across\"\t1\n",
      "\"act\"\t2\n",
      "\"acted\"\t1\n",
      "\"acting\"\t1\n",
      "\"action\"\t1\n",
      "\"acts\"\t1\n",
      "\"actually\"\t1\n",
      "\"actus\"\t1\n",
      "\"adde\"\t1\n",
      "\"added\"\t2\n",
      "\"adding\"\t1\n",
      "\"addition\"\t2\n",
      "\"additional\"\t2\n",
      "\"addle\"\t1\n",
      "\"address\"\t1\n",
      "\"adiacent\"\t1\n",
      "\"admired\"\t1\n",
      "\"adoe\"\t1\n",
      "\"aduance\"\t1\n",
      "\"aduanced\"\t1\n",
      "\"aduanst\"\t2\n",
      "\"adue\"\t4\n",
      "\"aduenture\"\t2\n",
      "\"aduersarie\"\t1\n",
      "\"aduersities\"\t1\n",
      "\"aduise\"\t1\n",
      "\"advance\"\t1\n",
      "\"advisor\"\t1\n",
      "\"ae\"\t2\n",
      "\"aethiops\"\t1\n",
      "\"afeard\"\t1\n",
      "\"affecting\"\t1\n",
      "\"affection\"\t2\n",
      "\"affections\"\t3\n",
      "\"afflicted\"\t1\n",
      "\"affliction\"\t1\n",
      "\"affoord\"\t2\n",
      "\"afford\"\t1\n",
      "\"affords\"\t1\n",
      "\"affray\"\t1\n",
      "\"affright\"\t1\n",
      "\"afore\"\t3\n",
      "\"afraid\"\t1\n",
      "\"after\"\t4\n",
      "\"afternoone\"\t3\n",
      "\"againe\"\t27\n",
      "\"against\"\t10\n",
      "\"agatstone\"\t1\n",
      "\"age\"\t6\n",
      "\"aged\"\t1\n",
      "\"agen\"\t1\n",
      "\"agents\"\t1\n",
      "\"ago\"\t1\n",
      "\"agoe\"\t1\n",
      "\"agree\"\t3\n",
      "\"agrees\"\t1\n",
      "\"ah\"\t13\n",
      "\"ake\"\t1\n",
      "\"akes\"\t1\n",
      "\"aking\"\t1\n",
      "\"alacke\"\t11\n",
      "\"alas\"\t8\n",
      "\"alderman\"\t1\n",
      "\"alie\"\t1\n"
     ]
    },
    {
     "name": "stderr",
     "output_type": "stream",
     "text": [
      "No configs found; falling back on auto-configuration\n",
      "No configs specified for inline runner\n",
      "Creating temp directory C:\\Users\\david\\AppData\\Local\\Temp\\wordcount.David B. Elliott.20230113.171151.854579\n",
      "Running step 1 of 1...\n",
      "job output is in C:\\Users\\david\\AppData\\Local\\Temp\\wordcount.David B. Elliott.20230113.171151.854579\\output\n",
      "Streaming final output from C:\\Users\\david\\AppData\\Local\\Temp\\wordcount.David B. Elliott.20230113.171151.854579\\output...\n",
      "Removing temp directory C:\\Users\\david\\AppData\\Local\\Temp\\wordcount.David B. Elliott.20230113.171151.854579...\n"
     ]
    },
    {
     "name": "stdout",
     "output_type": "stream",
     "text": [
      "\"alike\"\t1\n",
      "\"aliue\"\t1\n",
      "\"all\"\t107\n",
      "\"alla\"\t1\n",
      "\"allcheering\"\t1\n",
      "\"allegater\"\t1\n",
      "\"alliance\"\t1\n",
      "\"allied\"\t1\n",
      "\"allow\"\t2\n",
      "\"allowable\"\t1\n",
      "\"allseeing\"\t1\n",
      "\"almost\"\t3\n",
      "\"aloft\"\t2\n",
      "\"alone\"\t18\n",
      "\"along\"\t4\n",
      "\"aloofe\"\t2\n",
      "\"aloud\"\t2\n",
      "\"alreadie\"\t1\n",
      "\"already\"\t5\n",
      "\"also\"\t3\n",
      "\"alter\"\t1\n",
      "\"alteration\"\t1\n",
      "\"alternatively\"\t2\n",
      "\"although\"\t2\n",
      "\"am\"\t59\n",
      "\"amazd\"\t2\n",
      "\"ambiguities\"\t1\n",
      "\"ambling\"\t1\n",
      "\"ambuscados\"\t1\n",
      "\"amen\"\t4\n",
      "\"amended\"\t1\n",
      "\"amerce\"\t1\n",
      "\"among\"\t10\n",
      "\"amorous\"\t2\n",
      "\"an\"\t69\n",
      "\"analyzed\"\t1\n",
      "\"anatomie\"\t1\n",
      "\"ancient\"\t3\n",
      "\"and\"\t754\n",
      "\"angelica\"\t1\n",
      "\"angelicall\"\t1\n",
      "\"angell\"\t1\n",
      "\"angels\"\t1\n",
      "\"anger\"\t4\n",
      "\"angerd\"\t1\n",
      "\"angry\"\t1\n",
      "\"anguish\"\t1\n",
      "\"announcement\"\t1\n",
      "\"annual\"\t1\n",
      "\"anon\"\t8\n",
      "\"anonymous\"\t1\n",
      "\"another\"\t10\n",
      "\"anothers\"\t3\n",
      "\"anselme\"\t1\n",
      "\"answer\"\t3\n",
      "\"answere\"\t9\n",
      "\"anthonie\"\t1\n",
      "\"antique\"\t2\n",
      "\"any\"\t39\n",
      "\"apace\"\t2\n",
      "\"ape\"\t1\n",
      "\"apologie\"\t1\n",
      "\"app\"\t4\n",
      "\"apparreld\"\t1\n",
      "\"appeare\"\t3\n",
      "\"appertaining\"\t1\n",
      "\"appetite\"\t1\n",
      "\"applicable\"\t1\n",
      "\"apply\"\t2\n",
      "\"appothecarie\"\t4\n",
      "\"appothecary\"\t1\n",
      "\"apprehend\"\t3\n",
      "\"approach\"\t3\n",
      "\"aprill\"\t1\n",
      "\"apt\"\t3\n",
      "\"aquavit\\u0107\"\t1\n",
      "\"aquavitae\"\t1\n",
      "\"arbitrating\"\t1\n",
      "\"archiveorg\"\t2\n",
      "\"are\"\t83\n",
      "\"argues\"\t1\n",
      "\"argument\"\t1\n",
      "\"arise\"\t4\n",
      "\"arithmeticke\"\t1\n",
      "\"armd\"\t2\n",
      "\"arme\"\t6\n",
      "\"armes\"\t3\n",
      "\"armour\"\t1\n",
      "\"array\"\t2\n",
      "\"arriues\"\t1\n",
      "\"arrow\"\t1\n",
      "\"art\"\t54\n",
      "\"artificiall\"\t1\n",
      "\"as\"\t168\n",
      "\"ascend\"\t1\n",
      "\"ascii\"\t3\n",
      "\"ashamd\"\t1\n",
      "\"ashes\"\t2\n",
      "\"aside\"\t3\n",
      "\"asis\"\t1\n",
      "\"aske\"\t5\n",
      "\"asking\"\t1\n",
      "\"askt\"\t3\n",
      "\"asleepe\"\t3\n",
      "\"aspird\"\t1\n",
      "\"assailing\"\t1\n",
      "\"assembly\"\t1\n",
      "\"assistant\"\t1\n",
      "\"associate\"\t1\n",
      "\"association\"\t2\n",
      "\"associationcarnegiemellon\"\t1\n",
      "\"assoone\"\t3\n",
      "\"assortment\"\t2\n",
      "\"assunder\"\t1\n",
      "\"assure\"\t1\n",
      "\"ast\"\t1\n",
      "\"asterisk\"\t1\n",
      "\"at\"\t76\n",
      "\"atomies\"\t1\n",
      "\"attach\"\t1\n",
      "\"attachment\"\t1\n",
      "\"attempt\"\t1\n",
      "\"attend\"\t2\n",
      "\"attending\"\t1\n",
      "\"attends\"\t1\n",
      "\"attires\"\t1\n",
      "\"audience\"\t1\n",
      "\"augmenting\"\t1\n",
      "\"auncestors\"\t1\n",
      "\"auncient\"\t5\n",
      "\"auroras\"\t1\n",
      "\"author\"\t3\n",
      "\"available\"\t3\n",
      "\"awake\"\t2\n",
      "\"awaking\"\t1\n",
      "\"aware\"\t1\n",
      "\"away\"\t26\n",
      "\"awhile\"\t3\n",
      "\"axe\"\t1\n",
      "\"ay\"\t4\n",
      "\"aye\"\t1\n",
      "\"ayery\"\t1\n",
      "\"aymd\"\t1\n",
      "\"ayre\"\t6\n",
      "\"ayrie\"\t2\n",
      "\"babe\"\t1\n",
      "\"bable\"\t1\n",
      "\"back\"\t2\n",
      "\"backe\"\t26\n",
      "\"backeward\"\t1\n",
      "\"backs\"\t1\n",
      "\"backward\"\t2\n",
      "\"bad\"\t4\n",
      "\"badst\"\t1\n",
      "\"baggage\"\t2\n",
      "\"bait\"\t1\n",
      "\"bakes\"\t1\n",
      "\"bakte\"\t1\n",
      "\"balefull\"\t1\n",
      "\"ball\"\t1\n",
      "\"balthazer\"\t1\n",
      "\"banckrout\"\t1\n",
      "\"bandy\"\t1\n",
      "\"bandying\"\t1\n",
      "\"banishd\"\t1\n",
      "\"banished\"\t19\n",
      "\"banishment\"\t6\n",
      "\"banisht\"\t3\n",
      "\"banquet\"\t1\n",
      "\"baptizd\"\t1\n",
      "\"bar\"\t1\n",
      "\"bare\"\t3\n",
      "\"barefoote\"\t1\n",
      "\"bargaine\"\t1\n",
      "\"barke\"\t3\n",
      "\"barnardo\"\t1\n",
      "\"basket\"\t1\n",
      "\"baskets\"\t1\n",
      "\"batcheler\"\t1\n",
      "\"battlements\"\t1\n",
      "\"baud\"\t3\n",
      "\"bawdy\"\t1\n",
      "\"bayting\"\t1\n",
      "\"be\"\t226\n",
      "\"beames\"\t2\n",
      "\"beard\"\t1\n",
      "\"beare\"\t12\n",
      "\"beares\"\t2\n",
      "\"bearing\"\t1\n",
      "\"beast\"\t3\n",
      "\"beasts\"\t1\n",
      "\"beat\"\t3\n",
      "\"beate\"\t2\n",
      "\"beaten\"\t1\n",
      "\"beates\"\t2\n",
      "\"beats\"\t1\n",
      "\"beautie\"\t4\n",
      "\"beauties\"\t5\n",
      "\"beautifie\"\t1\n",
      "\"beautifull\"\t1\n",
      "\"beautious\"\t2\n",
      "\"beauty\"\t7\n",
      "\"became\"\t1\n",
      "\"because\"\t10\n",
      "\"becomed\"\t1\n",
      "\"bed\"\t25\n",
      "\"bedawbd\"\t1\n",
      "\"bedecke\"\t1\n",
      "\"bee\"\t1\n",
      "\"been\"\t3\n",
      "\"beene\"\t11\n",
      "\"beere\"\t2\n",
      "\"beetlebrowes\"\t1\n",
      "\"befits\"\t1\n",
      "\"before\"\t22\n",
      "\"beg\"\t4\n",
      "\"began\"\t2\n",
      "\"begger\"\t1\n",
      "\"beggerly\"\t1\n",
      "\"beggers\"\t2\n",
      "\"beggery\"\t1\n",
      "\"begin\"\t4\n",
      "\"beginners\"\t1\n",
      "\"begins\"\t2\n",
      "\"begot\"\t1\n",
      "\"beguild\"\t3\n",
      "\"begun\"\t1\n",
      "\"behalfe\"\t1\n",
      "\"behauiour\"\t2\n",
      "\"behests\"\t1\n",
      "\"behind\"\t2\n",
      "\"behold\"\t7\n",
      "\"behoouefull\"\t1\n",
      "\"being\"\t27\n",
      "\"beleeue\"\t5\n",
      "\"bell\"\t2\n",
      "\"bells\"\t1\n",
      "\"belong\"\t1\n",
      "\"belonging\"\t1\n",
      "\"beloued\"\t2\n",
      "\"below\"\t5\n",
      "\"ben\"\t63\n",
      "\"bench\"\t1\n",
      "\"bene\"\t1\n",
      "\"benedecite\"\t1\n",
      "\"benefice\"\t1\n",
      "\"bent\"\t1\n",
      "\"benuolio\"\t14\n",
      "\"bepaint\"\t1\n",
      "\"berime\"\t1\n",
      "\"berlady\"\t1\n",
      "\"bescreend\"\t1\n",
      "\"beseech\"\t7\n",
      "\"beseeming\"\t3\n",
      "\"beshrew\"\t3\n",
      "\"beshrow\"\t1\n",
      "\"best\"\t15\n",
      "\"bestride\"\t1\n",
      "\"bestrides\"\t1\n",
      "\"betake\"\t1\n",
      "\"bethinke\"\t2\n",
      "\"betossed\"\t1\n",
      "\"betrothd\"\t1\n",
      "\"better\"\t15\n",
      "\"between\"\t2\n",
      "\"betweene\"\t3\n",
      "\"bewitched\"\t1\n",
      "\"bible\"\t1\n",
      "\"bid\"\t22\n",
      "\"bids\"\t1\n",
      "\"big\"\t1\n",
      "\"bigge\"\t1\n",
      "\"bigger\"\t2\n",
      "\"billion\"\t1\n",
      "\"bils\"\t1\n",
      "\"bin\"\t9\n",
      "\"binary\"\t1\n",
      "\"bird\"\t2\n",
      "\"birds\"\t2\n",
      "\"birth\"\t4\n",
      "\"bit\"\t1\n",
      "\"bite\"\t8\n",
      "\"bith\"\t1\n",
      "\"bitter\"\t3\n",
      "\"bitterly\"\t2\n",
      "\"bittersweeting\"\t1\n",
      "\"blacke\"\t10\n",
      "\"blackebrowd\"\t1\n",
      "\"bladders\"\t1\n",
      "\"blade\"\t2\n",
      "\"blades\"\t1\n",
      "\"blame\"\t1\n",
      "\"blason\"\t1\n",
      "\"blaze\"\t1\n",
      "\"bleedes\"\t1\n",
      "\"bleeding\"\t2\n",
      "\"blesse\"\t2\n",
      "\"blessed\"\t4\n",
      "\"blessing\"\t2\n",
      "\"blest\"\t2\n",
      "\"blind\"\t5\n",
      "\"blisse\"\t2\n",
      "\"blisterd\"\t1\n",
      "\"blisters\"\t1\n",
      "\"blood\"\t13\n",
      "\"bloody\"\t5\n",
      "\"bloud\"\t4\n",
      "\"bloudy\"\t1\n",
      "\"blow\"\t2\n",
      "\"blowes\"\t3\n",
      "\"blubbring\"\t2\n",
      "\"blush\"\t3\n",
      "\"blushing\"\t1\n",
      "\"bodes\"\t1\n",
      "\"bodies\"\t3\n",
      "\"body\"\t8\n",
      "\"bold\"\t4\n",
      "\"bon\"\t1\n",
      "\"bondage\"\t1\n",
      "\"bone\"\t2\n",
      "\"bones\"\t8\n",
      "\"book\"\t1\n",
      "\"booke\"\t7\n",
      "\"books\"\t5\n",
      "\"bore\"\t2\n",
      "\"borne\"\t5\n",
      "\"borrow\"\t1\n",
      "\"borrowed\"\t2\n",
      "\"bosom\"\t2\n",
      "\"bosome\"\t5\n",
      "\"bosomes\"\t1\n",
      "\"both\"\t22\n",
      "\"bottome\"\t2\n",
      "\"bought\"\t1\n",
      "\"bounces\"\t2\n",
      "\"bound\"\t8\n",
      "\"boundlesse\"\t1\n",
      "\"bounds\"\t1\n",
      "\"bounty\"\t1\n",
      "\"bow\"\t3\n",
      "\"bowd\"\t1\n"
     ]
    }
   ],
   "source": [
    "! python ./src/wordcount.py ./data/romeoandjuliet.txt"
   ]
  },
  {
   "cell_type": "code",
   "execution_count": null,
   "metadata": {},
   "outputs": [],
   "source": []
  }
 ],
 "metadata": {
  "kernelspec": {
   "display_name": "learn-env",
   "language": "python",
   "name": "learn-env"
  },
  "language_info": {
   "codemirror_mode": {
    "name": "ipython",
    "version": 3
   },
   "file_extension": ".py",
   "mimetype": "text/x-python",
   "name": "python",
   "nbconvert_exporter": "python",
   "pygments_lexer": "ipython3",
   "version": "3.8.5"
  },
  "toc": {
   "base_numbering": 1,
   "nav_menu": {},
   "number_sections": true,
   "sideBar": true,
   "skip_h1_title": false,
   "title_cell": "Table of Contents",
   "title_sidebar": "Contents",
   "toc_cell": true,
   "toc_position": {},
   "toc_section_display": true,
   "toc_window_display": false
  },
  "varInspector": {
   "cols": {
    "lenName": 16,
    "lenType": 16,
    "lenVar": 40
   },
   "kernels_config": {
    "python": {
     "delete_cmd_postfix": "",
     "delete_cmd_prefix": "del ",
     "library": "var_list.py",
     "varRefreshCmd": "print(var_dic_list())"
    },
    "r": {
     "delete_cmd_postfix": ") ",
     "delete_cmd_prefix": "rm(",
     "library": "var_list.r",
     "varRefreshCmd": "cat(var_dic_list()) "
    }
   },
   "types_to_exclude": [
    "module",
    "function",
    "builtin_function_or_method",
    "instance",
    "_Feature"
   ],
   "window_display": false
  }
 },
 "nbformat": 4,
 "nbformat_minor": 2
}

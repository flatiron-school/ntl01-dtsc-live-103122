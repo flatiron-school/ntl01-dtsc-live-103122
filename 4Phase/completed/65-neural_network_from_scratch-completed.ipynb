{
 "cells": [
  {
   "cell_type": "markdown",
   "metadata": {},
   "source": [
    "# NN by Hand"
   ]
  },
  {
   "cell_type": "code",
   "execution_count": 1,
   "metadata": {
    "ExecuteTime": {
     "end_time": "2023-01-18T22:43:08.389549Z",
     "start_time": "2023-01-18T22:43:07.313049Z"
    }
   },
   "outputs": [],
   "source": [
    "import numpy as np\n",
    "from sklearn.datasets import make_regression\n",
    "from sklearn.linear_model import LinearRegression\n",
    "from sklearn.metrics import mean_squared_error as mse"
   ]
  },
  {
   "cell_type": "markdown",
   "metadata": {},
   "source": [
    "We're going to make a very simple neural network by hand.\n",
    "\n",
    "Let's imagine that we have just a five-neuron network: two input neurons, two hidden-layer neurons, and a single output neuron.\n",
    "\n",
    "We'll start by giving ourselves a regression problem."
   ]
  },
  {
   "cell_type": "markdown",
   "metadata": {},
   "source": [
    "![example](./images/one-hidden-layer-simplest-neural-network.jpg)"
   ]
  },
  {
   "cell_type": "code",
   "execution_count": 2,
   "metadata": {
    "ExecuteTime": {
     "end_time": "2023-01-18T22:43:10.359549Z",
     "start_time": "2023-01-18T22:43:10.355549Z"
    }
   },
   "outputs": [],
   "source": [
    "X, y = make_regression(n_features=2,\n",
    "                       n_informative=1,\n",
    "                       noise=100,\n",
    "                       random_state=42)"
   ]
  },
  {
   "cell_type": "markdown",
   "metadata": {},
   "source": [
    "Let's first check to see how a vanilla linear regression model does:"
   ]
  },
  {
   "cell_type": "code",
   "execution_count": 3,
   "metadata": {
    "ExecuteTime": {
     "end_time": "2023-01-18T22:43:11.244550Z",
     "start_time": "2023-01-18T22:43:11.235049Z"
    }
   },
   "outputs": [
    {
     "data": {
      "text/plain": [
       "array([[-1.41537074, -0.42064532],\n",
       "       [ 0.52194157,  0.29698467],\n",
       "       [-0.88951443, -0.81581028],\n",
       "       [-0.88385744,  0.15372511],\n",
       "       [ 0.73846658,  0.17136828]])"
      ]
     },
     "execution_count": 3,
     "metadata": {},
     "output_type": "execute_result"
    }
   ],
   "source": [
    "X[:5]"
   ]
  },
  {
   "cell_type": "code",
   "execution_count": 4,
   "metadata": {
    "ExecuteTime": {
     "end_time": "2023-01-18T22:43:15.785050Z",
     "start_time": "2023-01-18T22:43:15.776549Z"
    },
    "scrolled": true
   },
   "outputs": [
    {
     "data": {
      "text/plain": [
       "0.4144461358278726"
      ]
     },
     "execution_count": 4,
     "metadata": {},
     "output_type": "execute_result"
    }
   ],
   "source": [
    "simple_lr = LinearRegression().fit(X, y)\n",
    "\n",
    "simple_lr.score(X, y)"
   ]
  },
  {
   "cell_type": "code",
   "execution_count": 5,
   "metadata": {
    "ExecuteTime": {
     "end_time": "2023-01-18T22:43:17.041549Z",
     "start_time": "2023-01-18T22:43:17.036049Z"
    }
   },
   "outputs": [
    {
     "data": {
      "text/plain": [
       "101.32961290191164"
      ]
     },
     "execution_count": 5,
     "metadata": {},
     "output_type": "execute_result"
    }
   ],
   "source": [
    "mse(y, simple_lr.predict(X), squared=False)"
   ]
  },
  {
   "cell_type": "markdown",
   "metadata": {},
   "source": [
    "## Input Neurons"
   ]
  },
  {
   "cell_type": "markdown",
   "metadata": {},
   "source": [
    "We have just two features, so we'll have two input neurons."
   ]
  },
  {
   "cell_type": "code",
   "execution_count": 6,
   "metadata": {
    "ExecuteTime": {
     "end_time": "2023-01-18T22:43:45.840049Z",
     "start_time": "2023-01-18T22:43:45.835548Z"
    }
   },
   "outputs": [
    {
     "data": {
      "text/plain": [
       "(100, 2)"
      ]
     },
     "execution_count": 6,
     "metadata": {},
     "output_type": "execute_result"
    }
   ],
   "source": [
    "X.shape"
   ]
  },
  {
   "cell_type": "code",
   "execution_count": 7,
   "metadata": {
    "ExecuteTime": {
     "end_time": "2023-01-18T22:43:54.980144Z",
     "start_time": "2023-01-18T22:43:54.976145Z"
    }
   },
   "outputs": [],
   "source": [
    "n_samples = X.shape[0]\n",
    "n_features = X.shape[1]\n",
    "\n",
    "# Initial inputs\n",
    "input1 = X[:, 0].reshape(-1, 1)\n",
    "input2 = X[:, 1].reshape(-1, 1)"
   ]
  },
  {
   "cell_type": "code",
   "execution_count": 9,
   "metadata": {
    "ExecuteTime": {
     "end_time": "2023-01-18T22:44:07.350160Z",
     "start_time": "2023-01-18T22:44:07.346159Z"
    }
   },
   "outputs": [
    {
     "data": {
      "text/plain": [
       "(100, 1)"
      ]
     },
     "execution_count": 9,
     "metadata": {},
     "output_type": "execute_result"
    }
   ],
   "source": [
    "input1.shape"
   ]
  },
  {
   "cell_type": "markdown",
   "metadata": {},
   "source": [
    "## Weights for the Connections Between the Input Neurons and the Hidden Neurons"
   ]
  },
  {
   "cell_type": "markdown",
   "metadata": {},
   "source": [
    "We'll just start by setting our weights randomly. The idea will be that we'll be able to use gradient descent to improve their values during network training."
   ]
  },
  {
   "cell_type": "code",
   "execution_count": 10,
   "metadata": {
    "ExecuteTime": {
     "end_time": "2023-01-18T22:44:46.432801Z",
     "start_time": "2023-01-18T22:44:46.428801Z"
    }
   },
   "outputs": [],
   "source": [
    "# Four weights to optimize for between input\n",
    "# and hidden layers\n",
    "\n",
    "# For simplicity let's assume biases of 0\n",
    "# throughout\n",
    "\n",
    "np.random.seed(42)\n",
    "\n",
    "in_hid_weights1 = np.random.rand(2)\n",
    "in_hid_weights2 = np.random.rand(2)"
   ]
  },
  {
   "cell_type": "code",
   "execution_count": 11,
   "metadata": {
    "ExecuteTime": {
     "end_time": "2023-01-18T22:44:47.042301Z",
     "start_time": "2023-01-18T22:44:47.037800Z"
    }
   },
   "outputs": [
    {
     "data": {
      "text/plain": [
       "array([0.37454012, 0.95071431])"
      ]
     },
     "execution_count": 11,
     "metadata": {},
     "output_type": "execute_result"
    }
   ],
   "source": [
    "in_hid_weights1"
   ]
  },
  {
   "cell_type": "markdown",
   "metadata": {},
   "source": [
    "## Hidden Neurons"
   ]
  },
  {
   "cell_type": "markdown",
   "metadata": {},
   "source": [
    "Each neuron in the hidden layer will take the two inputs and multiply them by a unique set of weights:"
   ]
  },
  {
   "cell_type": "code",
   "execution_count": 12,
   "metadata": {
    "ExecuteTime": {
     "end_time": "2023-01-18T22:46:16.188276Z",
     "start_time": "2023-01-18T22:46:16.183775Z"
    }
   },
   "outputs": [],
   "source": [
    "in1_to_hid = (np.sum(np.product(np.array([in_hid_weights1, input1], dtype=object), axis=0), axis=1)).reshape(-1, 1)\n",
    "in2_to_hid = (np.sum(np.product(np.array([in_hid_weights2, input2], dtype=object), axis=0), axis=1)).reshape(-1, 1)"
   ]
  },
  {
   "cell_type": "code",
   "execution_count": 13,
   "metadata": {
    "ExecuteTime": {
     "end_time": "2023-01-18T22:46:21.087277Z",
     "start_time": "2023-01-18T22:46:21.080777Z"
    },
    "scrolled": true
   },
   "outputs": [
    {
     "data": {
      "text/plain": [
       "array([[-1.87572634],\n",
       "       [ 0.69170537],\n",
       "       [-1.17883293],\n",
       "       [-1.17133598],\n",
       "       [ 0.9786561 ],\n",
       "       [-0.35073764],\n",
       "       [ 1.51453099],\n",
       "       [ 0.47894113],\n",
       "       [ 1.07680344],\n",
       "       [-0.29614505],\n",
       "       [-1.46617532],\n",
       "       [-1.12221712],\n",
       "       [-0.79599908],\n",
       "       [ 0.00677663],\n",
       "       [-0.3103128 ],\n",
       "       [-2.13032427],\n",
       "       [ 0.12865245],\n",
       "       [ 0.42949371],\n",
       "       [-0.51964307],\n",
       "       [-0.09543173],\n",
       "       [-0.61414635],\n",
       "       [ 2.49967621],\n",
       "       [ 2.09285877],\n",
       "       [ 0.13206341],\n",
       "       [ 1.07811729],\n",
       "       [-1.57878023],\n",
       "       [ 0.77773496],\n",
       "       [-1.76018444],\n",
       "       [-0.1532634 ],\n",
       "       [ 0.65827263],\n",
       "       [-0.29112114],\n",
       "       [-2.05502357],\n",
       "       [-2.28595499],\n",
       "       [ 2.47262593],\n",
       "       [-0.10217938],\n",
       "       [-2.54286004],\n",
       "       [ 0.8583521 ],\n",
       "       [-0.89709388],\n",
       "       [ 1.53543392],\n",
       "       [ 0.12160638],\n",
       "       [-0.32520169],\n",
       "       [ 0.32066157],\n",
       "       [-3.47182879],\n",
       "       [ 0.36668571],\n",
       "       [ 1.21314071],\n",
       "       [-1.20336292],\n",
       "       [-0.90120577],\n",
       "       [ 0.38839559],\n",
       "       [-0.93039897],\n",
       "       [ 1.09008128],\n",
       "       [ 1.94235752],\n",
       "       [-1.07145973],\n",
       "       [-1.11217674],\n",
       "       [-1.4078227 ],\n",
       "       [ 0.47925974],\n",
       "       [-0.62217301],\n",
       "       [-0.63502778],\n",
       "       [-1.52535933],\n",
       "       [-1.31271265],\n",
       "       [-0.25492722],\n",
       "       [ 1.95858562],\n",
       "       [-1.21847104],\n",
       "       [-0.70206705],\n",
       "       [ 0.11535951],\n",
       "       [ 0.07982035],\n",
       "       [ 0.34441082],\n",
       "       [ 0.82916842],\n",
       "       [-0.2137446 ],\n",
       "       [-1.6392744 ],\n",
       "       [ 0.45538166],\n",
       "       [-1.2917012 ],\n",
       "       [-1.03800989],\n",
       "       [-0.79741435],\n",
       "       [-0.45418393],\n",
       "       [ 1.36633668],\n",
       "       [ 0.30144228],\n",
       "       [-1.34225892],\n",
       "       [ 0.33196676],\n",
       "       [ 1.27671848],\n",
       "       [ 1.04831859],\n",
       "       [ 0.62716026],\n",
       "       [ 0.39243471],\n",
       "       [ 0.2767974 ],\n",
       "       [-0.04600193],\n",
       "       [-1.41920502],\n",
       "       [ 1.08943886],\n",
       "       [ 0.28372868],\n",
       "       [-0.01788726],\n",
       "       [ 0.43900833],\n",
       "       [ 0.01723081],\n",
       "       [ 0.22950879],\n",
       "       [-0.72144561],\n",
       "       [ 0.3413198 ],\n",
       "       [ 0.08949205],\n",
       "       [-0.04747862],\n",
       "       [ 0.07714136],\n",
       "       [ 1.85905937],\n",
       "       [-1.95941781],\n",
       "       [-0.61046357],\n",
       "       [-0.59174592]])"
      ]
     },
     "execution_count": 13,
     "metadata": {},
     "output_type": "execute_result"
    }
   ],
   "source": [
    "in1_to_hid"
   ]
  },
  {
   "cell_type": "markdown",
   "metadata": {},
   "source": [
    "For simplicity let's assume a **linear activation function**, $f(x)=x$, in the hidden nodes."
   ]
  },
  {
   "cell_type": "markdown",
   "metadata": {},
   "source": [
    "## Weights for the Connections Between the Hidden Neurons and the Output Neuron"
   ]
  },
  {
   "cell_type": "markdown",
   "metadata": {},
   "source": [
    "Again we'll just set our weights randomly. Here there will be two weights: one governing the connection between each hidden neuron and the output neuron."
   ]
  },
  {
   "cell_type": "code",
   "execution_count": 14,
   "metadata": {
    "ExecuteTime": {
     "end_time": "2023-01-18T22:47:21.837775Z",
     "start_time": "2023-01-18T22:47:21.834776Z"
    }
   },
   "outputs": [],
   "source": [
    "np.random.seed(42)\n",
    "\n",
    "hid_out_weights = np.random.rand(2)"
   ]
  },
  {
   "cell_type": "code",
   "execution_count": 15,
   "metadata": {
    "ExecuteTime": {
     "end_time": "2023-01-18T22:47:22.126278Z",
     "start_time": "2023-01-18T22:47:22.122275Z"
    }
   },
   "outputs": [
    {
     "data": {
      "text/plain": [
       "array([0.37454012, 0.95071431])"
      ]
     },
     "execution_count": 15,
     "metadata": {},
     "output_type": "execute_result"
    }
   ],
   "source": [
    "hid_out_weights"
   ]
  },
  {
   "cell_type": "markdown",
   "metadata": {},
   "source": [
    "## Output Neuron"
   ]
  },
  {
   "cell_type": "markdown",
   "metadata": {},
   "source": [
    "Now we need to take the contribution from each hidden neuron and create a linear sum with the predetermined weights, just as above in the hidden neurons."
   ]
  },
  {
   "cell_type": "code",
   "execution_count": 16,
   "metadata": {
    "ExecuteTime": {
     "end_time": "2023-01-18T22:47:43.208277Z",
     "start_time": "2023-01-18T22:47:43.205276Z"
    }
   },
   "outputs": [],
   "source": [
    "joint_to_out = np.hstack((in1_to_hid, in2_to_hid))"
   ]
  },
  {
   "cell_type": "code",
   "execution_count": 17,
   "metadata": {
    "ExecuteTime": {
     "end_time": "2023-01-18T22:47:43.663276Z",
     "start_time": "2023-01-18T22:47:43.657275Z"
    }
   },
   "outputs": [
    {
     "name": "stderr",
     "output_type": "stream",
     "text": [
      "C:\\Users\\david\\anaconda3\\envs\\learn-env\\lib\\site-packages\\numpy\\core\\fromnumeric.py:86: VisibleDeprecationWarning: Creating an ndarray from ragged nested sequences (which is a list-or-tuple of lists-or-tuples-or ndarrays with different lengths or shapes) is deprecated. If you meant to do this, you must specify 'dtype=object' when creating the ndarray.\n",
      "  return ufunc.reduce(obj, axis, dtype, out, **passkwargs)\n"
     ]
    }
   ],
   "source": [
    "output = (np.sum(np.product([hid_out_weights, joint_to_out],dtype=object, axis=0), axis=1)).reshape(-1, 1)"
   ]
  },
  {
   "cell_type": "code",
   "execution_count": 18,
   "metadata": {
    "ExecuteTime": {
     "end_time": "2023-01-18T22:47:44.694282Z",
     "start_time": "2023-01-18T22:47:44.690276Z"
    }
   },
   "outputs": [
    {
     "data": {
      "text/plain": [
       "array([[-1.23468067],\n",
       "       [ 0.6347779 ],\n",
       "       [-1.47357759],\n",
       "       [-0.24423925],\n",
       "       [ 0.5833389 ]])"
      ]
     },
     "execution_count": 18,
     "metadata": {},
     "output_type": "execute_result"
    }
   ],
   "source": [
    "output[:5]"
   ]
  },
  {
   "cell_type": "markdown",
   "metadata": {},
   "source": [
    "Again we'll assume a linear activation."
   ]
  },
  {
   "cell_type": "code",
   "execution_count": 19,
   "metadata": {
    "ExecuteTime": {
     "end_time": "2023-01-18T22:48:13.522277Z",
     "start_time": "2023-01-18T22:48:13.517777Z"
    }
   },
   "outputs": [
    {
     "data": {
      "text/plain": [
       "array([[-1.41537074, -0.42064532],\n",
       "       [ 0.52194157,  0.29698467],\n",
       "       [-0.88951443, -0.81581028],\n",
       "       [-0.88385744,  0.15372511],\n",
       "       [ 0.73846658,  0.17136828]])"
      ]
     },
     "execution_count": 19,
     "metadata": {},
     "output_type": "execute_result"
    }
   ],
   "source": [
    "X[:5]"
   ]
  },
  {
   "cell_type": "markdown",
   "metadata": {},
   "source": [
    "## Error Calculation"
   ]
  },
  {
   "cell_type": "markdown",
   "metadata": {},
   "source": [
    "Now we can compute a measure of error:"
   ]
  },
  {
   "cell_type": "code",
   "execution_count": 22,
   "metadata": {
    "ExecuteTime": {
     "end_time": "2023-01-18T22:49:06.872498Z",
     "start_time": "2023-01-18T22:49:06.866997Z"
    }
   },
   "outputs": [
    {
     "data": {
      "text/plain": [
       "132.0854176645698"
      ]
     },
     "execution_count": 22,
     "metadata": {},
     "output_type": "execute_result"
    }
   ],
   "source": [
    "output = output.flatten()\n",
    "mse(y, output, squared=False)"
   ]
  },
  {
   "cell_type": "markdown",
   "metadata": {},
   "source": [
    "### Backpropagation"
   ]
  },
  {
   "cell_type": "markdown",
   "metadata": {},
   "source": [
    "Now then: How do we make corrections to our weights to improve our model's performance? Our network looks like this:"
   ]
  },
  {
   "cell_type": "markdown",
   "metadata": {},
   "source": [
    "![nn](images/SimpleNN.png)"
   ]
  },
  {
   "cell_type": "markdown",
   "metadata": {},
   "source": [
    "Clearly our output is a function of these six weights. But what function, exactly?"
   ]
  },
  {
   "cell_type": "markdown",
   "metadata": {},
   "source": [
    "- In the top hidden node we construct: <br/> $H_1 = w_1X_1 + w_3X_2$ <br/> and in the bottom node we construct: <br/> $H_2 = w_2X_1 + w_4X_2$.\n",
    "<br/> <br/>\n",
    "- In the output node we construct: <br/> $\\hat{y} = w_5H_1 + w_6H_2$ <br/> i.e. <br/> $\\hat{y} = w_5(w_1X_1 + w_3X_2) + w_6(w_2X_1 + w_4X_2)$ <br/> or <br/> $\\hat{y} = X_1(w_1w_5 + w_2w_6) + X_2(w_3w_5 + w_4w_6)$."
   ]
  },
  {
   "cell_type": "markdown",
   "metadata": {},
   "source": [
    "#### Loss Function"
   ]
  },
  {
   "cell_type": "markdown",
   "metadata": {},
   "source": [
    "Our loss function (let's assume) is just $\\mathcal{L} = \\Sigma\\left(y - \\hat{y}\\right)^2$. What are the partial derivatives of this function?\n",
    "\n",
    "We have $\\mathcal{L} = \\Sigma\\left(y - [X_1(w_1w_5 + w_2w_6) + X_2(w_3w_5 + w_4w_6)]\\right)^2$.\n",
    "\n",
    "Therefore:\n",
    "\n",
    "- $\\frac{\\partial\\mathcal{L}}{\\partial w_1} = -2w_5X_1\\Sigma\\left(y - [X_1(w_1w_5 + w_2w_6) + X_2(w_3w_5 + w_4w_6)]\\right)$\n",
    "\n",
    "- $\\frac{\\partial\\mathcal{L}}{\\partial w_2} = -2w_6X_1\\Sigma\\left(y - [X_1(w_1w_5 + w_2w_6) + X_2(w_3w_5 + w_4w_6)]\\right)$\n",
    "\n",
    "- $\\frac{\\partial\\mathcal{L}}{\\partial w_3} = -2w_5X_2\\Sigma\\left(y - [X_1(w_1w_5 + w_2w_6) + X_2(w_3w_5 + w_4w_6)]\\right)$\n",
    "\n",
    "- $\\frac{\\partial\\mathcal{L}}{\\partial w_4} = -2w_6X_2\\Sigma\\left(y - [X_1(w_1w_5 + w_2w_6) + X_2(w_3w_5 + w_4w_6)]\\right)$\n",
    "\n",
    "- $\\frac{\\partial\\mathcal{L}}{\\partial w_5} = -2(w_1X_1 + w_3X_2)\\Sigma\\left(y - [X_1(w_1w_5 + w_2w_6) + X_2(w_3w_5 + w_4w_6)]\\right)$\n",
    "\n",
    "- $\\frac{\\partial\\mathcal{L}}{\\partial w_6} = -2(w_2X_1 + w_4X_2)\\Sigma\\left(y - [X_1(w_1w_5 + w_2w_6) + X_2(w_3w_5 + w_4w_6)]\\right)$"
   ]
  },
  {
   "cell_type": "markdown",
   "metadata": {},
   "source": [
    "So the goal now should just be to nudge each of our weights in (the opposites of) these directions."
   ]
  },
  {
   "cell_type": "markdown",
   "metadata": {},
   "source": [
    "Let's first isolate each of these six weights:"
   ]
  },
  {
   "cell_type": "code",
   "execution_count": 25,
   "metadata": {
    "ExecuteTime": {
     "end_time": "2023-01-18T22:52:25.644445Z",
     "start_time": "2023-01-18T22:52:25.640943Z"
    }
   },
   "outputs": [],
   "source": [
    "w1 = in_hid_weights1[0]\n",
    "w2 = in_hid_weights1[1]\n",
    "w3 = in_hid_weights2[0]\n",
    "w4 = in_hid_weights2[1]\n",
    "w5 = hid_out_weights[0]\n",
    "w6 = hid_out_weights[1]"
   ]
  },
  {
   "cell_type": "markdown",
   "metadata": {},
   "source": [
    "Let's build an SGD function that will adjust weights after each training sample runs through the network."
   ]
  },
  {
   "cell_type": "code",
   "execution_count": 26,
   "metadata": {
    "ExecuteTime": {
     "end_time": "2023-01-18T22:52:26.850944Z",
     "start_time": "2023-01-18T22:52:26.843443Z"
    }
   },
   "outputs": [],
   "source": [
    "def stoch_grad_desc(pred1=input1, pred2=input2, y=y,\n",
    "              w1=w1, w2=w2, w3=w3, w4=w4,\n",
    "              w5=w5, w6=w6, times_thru=1, lr=1e-4):\n",
    "\n",
    "    for k in range(times_thru):\n",
    "    \n",
    "        for j in range(pred1.shape[0]):\n",
    "            \n",
    "            in1_val = pred1[j]\n",
    "            in2_val = pred2[j]\n",
    "            \n",
    "            # This is stochastic gradient descent since we are updating\n",
    "            # our weights *after each data point* goes through the network.\n",
    "            \n",
    "            sum_ = y[j] - in1_val*(w1*w5 + w2*w6) - in2_val*(w3*w5 + w4*w6)\n",
    "\n",
    "            w5 += lr*(w1*in1_val + w3*in2_val)*sum_\n",
    "\n",
    "            w6 += lr*(w2*in1_val + w4*in2_val)*sum_\n",
    "\n",
    "            w1 += lr*w5*in1_val*sum_\n",
    "\n",
    "            w2 += lr*w6*in1_val*sum_\n",
    "\n",
    "            w3 += lr*w5*in2_val*sum_\n",
    "\n",
    "            w4 += lr*w6*in2_val*sum_\n",
    "            \n",
    "            output = pred1*(w1*w5 + w2*w6) + pred2*(w3*w5 + w4*w6)\n",
    "            \n",
    "            if j == 0 and k == 0:\n",
    "                print(f\"\"\"\n",
    "                After a single data point our RMSE is {np.sqrt(mse(y, output.flatten()))}\n",
    "                \"\"\")\n",
    "            \n",
    "        print(f\"\"\"\n",
    "                After {k+1} epochs our RMSE is {np.sqrt(mse(y, output.flatten()))}\n",
    "        \"\"\")\n",
    "        \n",
    "    return w1, w2, w3, w4, w5, w6"
   ]
  },
  {
   "cell_type": "code",
   "execution_count": 27,
   "metadata": {
    "ExecuteTime": {
     "end_time": "2023-01-18T22:52:27.742445Z",
     "start_time": "2023-01-18T22:52:27.719943Z"
    }
   },
   "outputs": [
    {
     "name": "stdout",
     "output_type": "stream",
     "text": [
      "\n",
      "                After a single data point our RMSE is 131.80677685986092\n",
      "                \n",
      "\n",
      "                After 1 epochs our RMSE is 129.8450062254458\n",
      "        \n",
      "\n",
      "                After 2 epochs our RMSE is 123.33196509825842\n",
      "        \n",
      "\n",
      "                After 3 epochs our RMSE is 111.44619152943271\n",
      "        \n",
      "\n",
      "                After 4 epochs our RMSE is 104.25314828273383\n",
      "        \n",
      "\n",
      "                After 5 epochs our RMSE is 102.76034914846261\n",
      "        \n"
     ]
    },
    {
     "data": {
      "text/plain": [
       "(array([3.74787473]),\n",
       " array([8.65770675]),\n",
       " array([0.88442709]),\n",
       " array([0.92008411]),\n",
       " array([3.63496368]),\n",
       " array([8.36568275]))"
      ]
     },
     "execution_count": 27,
     "metadata": {},
     "output_type": "execute_result"
    }
   ],
   "source": [
    "stoch_grad_desc(times_thru=5)"
   ]
  },
  {
   "cell_type": "markdown",
   "metadata": {},
   "source": [
    "## Easy Regression Problem"
   ]
  },
  {
   "cell_type": "markdown",
   "metadata": {},
   "source": [
    "Our error has decreased with more epochs, but to illustrate the full power of our network let's see if it can find the right coefficients for an \"easy\" problem where there is a strong correlation between both of two input features and the target."
   ]
  },
  {
   "cell_type": "code",
   "execution_count": 28,
   "metadata": {
    "ExecuteTime": {
     "end_time": "2023-01-18T22:53:36.093109Z",
     "start_time": "2023-01-18T22:53:36.089608Z"
    }
   },
   "outputs": [],
   "source": [
    "# Setting up the problem\n",
    "\n",
    "X_easy, y_easy = make_regression(n_features=2, n_informative=2, random_state=42)"
   ]
  },
  {
   "cell_type": "code",
   "execution_count": 29,
   "metadata": {
    "ExecuteTime": {
     "end_time": "2023-01-18T22:53:37.503611Z",
     "start_time": "2023-01-18T22:53:37.501110Z"
    }
   },
   "outputs": [],
   "source": [
    "# Again defining weights randomly. We'll be using the same network, so we need\n",
    "# six weights.\n",
    "\n",
    "np.random.seed(42)\n",
    "\n",
    "w_easy = np.random.rand(6)"
   ]
  },
  {
   "cell_type": "code",
   "execution_count": 30,
   "metadata": {
    "ExecuteTime": {
     "end_time": "2023-01-18T22:53:38.710109Z",
     "start_time": "2023-01-18T22:53:38.699113Z"
    }
   },
   "outputs": [
    {
     "name": "stdout",
     "output_type": "stream",
     "text": [
      "\n",
      "                After a single data point our RMSE is 105.2827433708648\n",
      "                \n",
      "\n",
      "                After 1 epochs our RMSE is 0.0003058349135338318\n",
      "        \n",
      "\n",
      "                After 2 epochs our RMSE is 5.040642635748519e-09\n",
      "        \n",
      "\n",
      "                After 3 epochs our RMSE is 1.2706912599150398e-13\n",
      "        \n"
     ]
    },
    {
     "data": {
      "text/plain": [
       "(6.556340807199361,\n",
       " 10.75555705679945,\n",
       " 6.914105827696129,\n",
       " 7.997420739574159,\n",
       " 4.334717820507707,\n",
       " 5.515048597227902)"
      ]
     },
     "execution_count": 30,
     "metadata": {},
     "output_type": "execute_result"
    }
   ],
   "source": [
    "# Applying our stoch_grad_desc() function\n",
    "\n",
    "final_weights = stoch_grad_desc(pred1=X_easy[:, 0], pred2=X_easy[:, 1], y=y_easy,\n",
    "         w1=w_easy[0], w2=w_easy[1], w3=w_easy[2],\n",
    "         w4=w_easy[3], w5=w_easy[4], w6=w_easy[5],\n",
    "         lr=4e-3, times_thru=3)\n",
    "final_weights"
   ]
  },
  {
   "cell_type": "markdown",
   "metadata": {},
   "source": [
    "Wow! Look how small our error is after just three epochs!"
   ]
  },
  {
   "cell_type": "markdown",
   "metadata": {},
   "source": [
    "### Comparing with `LinearRegression()`"
   ]
  },
  {
   "cell_type": "markdown",
   "metadata": {},
   "source": [
    "We can translate these final weight values into $\\beta_1$ and $\\beta_2$ for a traditional linear regression $\\hat{y} = \\beta_1X_1 + \\beta_2X_2$.\n",
    "\n",
    "Above we calculated $\\hat{y} = X_1(w_1w_5 + w_2w_6) + X_2(w_3w_5 + w_4w_6)$.\n",
    "\n",
    "Thus we have:\n",
    "\n",
    "- $\\beta_1 = w_1w_5 + w_2w_6$, and\n",
    "- $\\beta_2 = w_3w_5 + w_4w_6$."
   ]
  },
  {
   "cell_type": "markdown",
   "metadata": {},
   "source": [
    "Plugging these in for our final calculated weights we have:"
   ]
  },
  {
   "cell_type": "code",
   "execution_count": 31,
   "metadata": {
    "ExecuteTime": {
     "end_time": "2023-01-18T22:54:15.029825Z",
     "start_time": "2023-01-18T22:54:15.025822Z"
    }
   },
   "outputs": [
    {
     "name": "stdout",
     "output_type": "stream",
     "text": [
      "Our mini-NN found coefficients of 87.73730719279541 and 74.07686177542038.\n"
     ]
    }
   ],
   "source": [
    "beta1 = final_weights[0]*final_weights[4] + final_weights[1]*final_weights[5]\n",
    "beta2 = final_weights[2]*final_weights[4] + final_weights[3]*final_weights[5]\n",
    "print(f\"Our mini-NN found coefficients of {beta1} and {beta2}.\")"
   ]
  },
  {
   "cell_type": "markdown",
   "metadata": {},
   "source": [
    "Let's compare these numbers with the results of `LinearRegression()`:"
   ]
  },
  {
   "cell_type": "code",
   "execution_count": 32,
   "metadata": {
    "ExecuteTime": {
     "end_time": "2023-01-18T22:54:32.172644Z",
     "start_time": "2023-01-18T22:54:32.167645Z"
    }
   },
   "outputs": [
    {
     "data": {
      "text/plain": [
       "array([87.73730719, 74.07686178])"
      ]
     },
     "execution_count": 32,
     "metadata": {},
     "output_type": "execute_result"
    }
   ],
   "source": [
    "LinearRegression(fit_intercept=False).fit(X_easy, y_easy).coef_"
   ]
  },
  {
   "cell_type": "markdown",
   "metadata": {},
   "source": [
    "Our little neural network, which has:\n",
    "- only five neurons;\n",
    "- randomly generated initial weights;\n",
    "- only linear activation functions; and\n",
    "- all biases set to 0\n",
    "\n",
    "can do the same job as a linear regression after just a couple of epochs!"
   ]
  },
  {
   "cell_type": "code",
   "execution_count": null,
   "metadata": {},
   "outputs": [],
   "source": []
  }
 ],
 "metadata": {
  "kernelspec": {
   "display_name": "learn-env",
   "language": "python",
   "name": "learn-env"
  },
  "language_info": {
   "codemirror_mode": {
    "name": "ipython",
    "version": 3
   },
   "file_extension": ".py",
   "mimetype": "text/x-python",
   "name": "python",
   "nbconvert_exporter": "python",
   "pygments_lexer": "ipython3",
   "version": "3.8.5"
  },
  "toc": {
   "base_numbering": 1,
   "nav_menu": {},
   "number_sections": true,
   "sideBar": true,
   "skip_h1_title": false,
   "title_cell": "Table of Contents",
   "title_sidebar": "Contents",
   "toc_cell": false,
   "toc_position": {},
   "toc_section_display": true,
   "toc_window_display": false
  },
  "varInspector": {
   "cols": {
    "lenName": 16,
    "lenType": 16,
    "lenVar": 40
   },
   "kernels_config": {
    "python": {
     "delete_cmd_postfix": "",
     "delete_cmd_prefix": "del ",
     "library": "var_list.py",
     "varRefreshCmd": "print(var_dic_list())"
    },
    "r": {
     "delete_cmd_postfix": ") ",
     "delete_cmd_prefix": "rm(",
     "library": "var_list.r",
     "varRefreshCmd": "cat(var_dic_list()) "
    }
   },
   "types_to_exclude": [
    "module",
    "function",
    "builtin_function_or_method",
    "instance",
    "_Feature"
   ],
   "window_display": false
  }
 },
 "nbformat": 4,
 "nbformat_minor": 4
}

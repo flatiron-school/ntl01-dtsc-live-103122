{
 "cells": [
  {
   "cell_type": "markdown",
   "metadata": {
    "slideshow": {
     "slide_type": "slide"
    }
   },
   "source": [
    "# Regularization and Evaluation of Neural Networks"
   ]
  },
  {
   "cell_type": "code",
   "execution_count": 1,
   "metadata": {
    "ExecuteTime": {
     "end_time": "2023-01-19T22:02:30.017589Z",
     "start_time": "2023-01-19T22:02:26.064558Z"
    }
   },
   "outputs": [],
   "source": [
    "from sklearn.datasets import load_sample_images\n",
    "from sklearn.datasets import load_digits\n",
    "from sklearn.model_selection import train_test_split, cross_val_score\n",
    "from sklearn.preprocessing import OneHotEncoder\n",
    "from sklearn.metrics import accuracy_score, confusion_matrix\n",
    "import matplotlib.pyplot as plt\n",
    "import matplotlib.image as mpimg\n",
    "import numpy as np\n",
    "import seaborn as sns\n",
    "\n",
    "from tensorflow.keras.models import Sequential\n",
    "from tensorflow.keras.layers import Dense, Dropout\n",
    "from tensorflow.keras.regularizers import l2\n",
    "from tensorflow.keras.optimizers import SGD\n",
    "from tensorflow.keras.wrappers import scikit_learn\n",
    "from tensorflow.keras.callbacks import EarlyStopping\n",
    "\n",
    "import os\n",
    "import sys\n",
    "module_path = os.path.abspath(os.path.join(os.pardir, os.pardir))\n",
    "if module_path not in sys.path:\n",
    "    sys.path.append(module_path)\n",
    "    \n",
    "from src.confusion import plot_confusion_matrix\n",
    "    \n",
    "%load_ext autoreload\n",
    "%autoreload 2"
   ]
  },
  {
   "cell_type": "markdown",
   "metadata": {},
   "source": [
    "## Learning Objectives"
   ]
  },
  {
   "cell_type": "markdown",
   "metadata": {},
   "source": [
    "- use `keras` to code up a neural network model;\n",
    "- explain dropout and early stopping as distinctive forms of regularization in neural networks;\n",
    "- use wrappers inside `keras` to make models that can jibe with `sklearn`."
   ]
  },
  {
   "cell_type": "markdown",
   "metadata": {},
   "source": [
    "### From last time"
   ]
  },
  {
   "cell_type": "code",
   "execution_count": 2,
   "metadata": {
    "ExecuteTime": {
     "end_time": "2023-01-19T22:03:04.947406Z",
     "start_time": "2023-01-19T22:03:04.775905Z"
    }
   },
   "outputs": [],
   "source": [
    "digits = load_digits()\n",
    "X = digits.data.astype('float32')\n",
    "y = digits.target.astype('float32')\n",
    "\n",
    "y_binary = y % 2"
   ]
  },
  {
   "cell_type": "code",
   "execution_count": 3,
   "metadata": {
    "ExecuteTime": {
     "end_time": "2023-01-19T22:03:13.995406Z",
     "start_time": "2023-01-19T22:03:07.437407Z"
    },
    "collapsed": true
   },
   "outputs": [
    {
     "name": "stdout",
     "output_type": "stream",
     "text": [
      "Epoch 1/50\n",
      "180/180 [==============================] - 0s 603us/step - loss: 0.6440 - accuracy: 0.6583\n",
      "Epoch 2/50\n",
      "180/180 [==============================] - 0s 664us/step - loss: 0.2857 - accuracy: 0.8787\n",
      "Epoch 3/50\n",
      "180/180 [==============================] - 0s 533us/step - loss: 0.1819 - accuracy: 0.9243\n",
      "Epoch 4/50\n",
      "180/180 [==============================] - 0s 494us/step - loss: 0.1373 - accuracy: 0.9393\n",
      "Epoch 5/50\n",
      "180/180 [==============================] - 0s 608us/step - loss: 0.1110 - accuracy: 0.9527\n",
      "Epoch 6/50\n",
      "180/180 [==============================] - 0s 619us/step - loss: 0.0955 - accuracy: 0.9644\n",
      "Epoch 7/50\n",
      "180/180 [==============================] - 0s 556us/step - loss: 0.0831 - accuracy: 0.9661\n",
      "Epoch 8/50\n",
      "180/180 [==============================] - 0s 553us/step - loss: 0.0741 - accuracy: 0.9705\n",
      "Epoch 9/50\n",
      "180/180 [==============================] - 0s 494us/step - loss: 0.0670 - accuracy: 0.9738\n",
      "Epoch 10/50\n",
      "180/180 [==============================] - 0s 494us/step - loss: 0.0583 - accuracy: 0.9777\n",
      "Epoch 11/50\n",
      "180/180 [==============================] - 0s 556us/step - loss: 0.0537 - accuracy: 0.9811\n",
      "Epoch 12/50\n",
      "180/180 [==============================] - 0s 628us/step - loss: 0.0465 - accuracy: 0.9861\n",
      "Epoch 13/50\n",
      "180/180 [==============================] - 0s 525us/step - loss: 0.0409 - accuracy: 0.9827\n",
      "Epoch 14/50\n",
      "180/180 [==============================] - 0s 525us/step - loss: 0.0413 - accuracy: 0.9855\n",
      "Epoch 15/50\n",
      "180/180 [==============================] - 0s 1ms/step - loss: 0.0358 - accuracy: 0.9894\n",
      "Epoch 16/50\n",
      "180/180 [==============================] - 0s 1ms/step - loss: 0.0338 - accuracy: 0.9894\n",
      "Epoch 17/50\n",
      "180/180 [==============================] - 0s 839us/step - loss: 0.0320 - accuracy: 0.9889\n",
      "Epoch 18/50\n",
      "180/180 [==============================] - 0s 503us/step - loss: 0.0312 - accuracy: 0.9883\n",
      "Epoch 19/50\n",
      "180/180 [==============================] - 0s 600us/step - loss: 0.0291 - accuracy: 0.9889\n",
      "Epoch 20/50\n",
      "180/180 [==============================] - 0s 689us/step - loss: 0.0259 - accuracy: 0.9900\n",
      "Epoch 21/50\n",
      "180/180 [==============================] - 0s 631us/step - loss: 0.0221 - accuracy: 0.9922\n",
      "Epoch 22/50\n",
      "180/180 [==============================] - 0s 528us/step - loss: 0.0232 - accuracy: 0.9917\n",
      "Epoch 23/50\n",
      "180/180 [==============================] - 0s 511us/step - loss: 0.0199 - accuracy: 0.9939\n",
      "Epoch 24/50\n",
      "180/180 [==============================] - 0s 611us/step - loss: 0.0163 - accuracy: 0.9950\n",
      "Epoch 25/50\n",
      "180/180 [==============================] - 0s 669us/step - loss: 0.0170 - accuracy: 0.9967\n",
      "Epoch 26/50\n",
      "180/180 [==============================] - 0s 658us/step - loss: 0.0160 - accuracy: 0.9950\n",
      "Epoch 27/50\n",
      "180/180 [==============================] - 0s 528us/step - loss: 0.0134 - accuracy: 0.9955\n",
      "Epoch 28/50\n",
      "180/180 [==============================] - 0s 606us/step - loss: 0.0136 - accuracy: 0.9961\n",
      "Epoch 29/50\n",
      "180/180 [==============================] - 0s 553us/step - loss: 0.0108 - accuracy: 0.9961\n",
      "Epoch 30/50\n",
      "180/180 [==============================] - 0s 539us/step - loss: 0.0126 - accuracy: 0.9955\n",
      "Epoch 31/50\n",
      "180/180 [==============================] - 0s 533us/step - loss: 0.0100 - accuracy: 0.9972\n",
      "Epoch 32/50\n",
      "180/180 [==============================] - 0s 533us/step - loss: 0.0094 - accuracy: 0.9983\n",
      "Epoch 33/50\n",
      "180/180 [==============================] - 0s 617us/step - loss: 0.0107 - accuracy: 0.9967\n",
      "Epoch 34/50\n",
      "180/180 [==============================] - 0s 542us/step - loss: 0.0079 - accuracy: 0.9983\n",
      "Epoch 35/50\n",
      "180/180 [==============================] - 0s 626us/step - loss: 0.0073 - accuracy: 0.9989\n",
      "Epoch 36/50\n",
      "180/180 [==============================] - 0s 556us/step - loss: 0.0072 - accuracy: 0.9983\n",
      "Epoch 37/50\n",
      "180/180 [==============================] - 0s 539us/step - loss: 0.0072 - accuracy: 0.9983\n",
      "Epoch 38/50\n",
      "180/180 [==============================] - 0s 606us/step - loss: 0.0041 - accuracy: 0.9994\n",
      "Epoch 39/50\n",
      "180/180 [==============================] - 0s 564us/step - loss: 0.0071 - accuracy: 0.9972\n",
      "Epoch 40/50\n",
      "180/180 [==============================] - 0s 589us/step - loss: 0.0064 - accuracy: 0.9983\n",
      "Epoch 41/50\n",
      "180/180 [==============================] - 0s 542us/step - loss: 0.0059 - accuracy: 0.9978\n",
      "Epoch 42/50\n",
      "180/180 [==============================] - 0s 606us/step - loss: 0.0037 - accuracy: 0.9989\n",
      "Epoch 43/50\n",
      "180/180 [==============================] - 0s 578us/step - loss: 0.0056 - accuracy: 0.9983\n",
      "Epoch 44/50\n",
      "180/180 [==============================] - 0s 592us/step - loss: 0.0071 - accuracy: 0.9978\n",
      "Epoch 45/50\n",
      "180/180 [==============================] - 0s 583us/step - loss: 0.0066 - accuracy: 0.9978\n",
      "Epoch 46/50\n",
      "180/180 [==============================] - 0s 561us/step - loss: 0.0046 - accuracy: 0.9989\n",
      "Epoch 47/50\n",
      "180/180 [==============================] - 0s 572us/step - loss: 0.0037 - accuracy: 0.9978\n",
      "Epoch 48/50\n",
      "180/180 [==============================] - 0s 528us/step - loss: 0.0030 - accuracy: 0.9994\n",
      "Epoch 49/50\n",
      "180/180 [==============================] - 0s 556us/step - loss: 0.0056 - accuracy: 0.9983\n",
      "Epoch 50/50\n",
      "180/180 [==============================] - 0s 806us/step - loss: 0.0037 - accuracy: 0.9994\n"
     ]
    },
    {
     "data": {
      "text/plain": [
       "<tensorflow.python.keras.callbacks.History at 0x1d4e8a42b20>"
      ]
     },
     "execution_count": 3,
     "metadata": {},
     "output_type": "execute_result"
    }
   ],
   "source": [
    "model = Sequential()\n",
    "model.add(Dense(12, activation='relu', input_dim=64))\n",
    "model.add(Dense(8, activation='relu'))\n",
    "model.add(Dense(1, activation='sigmoid'))\n",
    "\n",
    "model.compile(optimizer='rmsprop',\n",
    "              loss='binary_crossentropy',\n",
    "              metrics=['accuracy'])\n",
    "\n",
    "model.fit(X, y_binary, epochs=50, batch_size=10)"
   ]
  },
  {
   "cell_type": "code",
   "execution_count": 4,
   "metadata": {
    "ExecuteTime": {
     "end_time": "2023-01-19T22:04:10.831064Z",
     "start_time": "2023-01-19T22:04:10.707064Z"
    }
   },
   "outputs": [
    {
     "data": {
      "text/plain": [
       "numpy.ndarray"
      ]
     },
     "execution_count": 4,
     "metadata": {},
     "output_type": "execute_result"
    }
   ],
   "source": [
    "type(X)"
   ]
  },
  {
   "cell_type": "code",
   "execution_count": 5,
   "metadata": {
    "ExecuteTime": {
     "end_time": "2023-01-19T22:04:20.114248Z",
     "start_time": "2023-01-19T22:04:19.978748Z"
    }
   },
   "outputs": [
    {
     "data": {
      "text/plain": [
       "numpy.ndarray"
      ]
     },
     "execution_count": 5,
     "metadata": {},
     "output_type": "execute_result"
    }
   ],
   "source": [
    "type(y_binary)"
   ]
  },
  {
   "cell_type": "markdown",
   "metadata": {},
   "source": [
    "### Things to know:"
   ]
  },
  {
   "cell_type": "markdown",
   "metadata": {},
   "source": [
    "- The data and labels in `fit()` need to be numpy arrays, not `pandas` dfs.\n",
    "- Scaling your data will have a large impact on your model.\n",
    "   > For our traditional input features, we would use a scaler object. For images, as long as the minimum value is 0, we can simply divide through by the maximum pixel intensity."
   ]
  },
  {
   "cell_type": "markdown",
   "metadata": {},
   "source": [
    "#### Getting data ready for modeling"
   ]
  },
  {
   "cell_type": "markdown",
   "metadata": {},
   "source": [
    "**Preprocessing**:\n",
    "\n",
    "- use train_test_split to create X_train, y_train, X_test, and y_test\n",
    "- Split training data into pure_train and validation sets.\n",
    "- Scale the pixel intensity to a value between 0 and 1."
   ]
  },
  {
   "cell_type": "markdown",
   "metadata": {},
   "source": [
    "Scaling our input variables will help speed up our neural network.\n",
    "\n",
    "Since our minimum intensity is 0, we can normalize the inputs by dividing each value by the max value (16)."
   ]
  },
  {
   "cell_type": "code",
   "execution_count": 6,
   "metadata": {
    "ExecuteTime": {
     "end_time": "2023-01-19T22:05:46.411787Z",
     "start_time": "2023-01-19T22:05:46.290287Z"
    }
   },
   "outputs": [],
   "source": [
    "X_train, X_test, y_train, y_test =\\\n",
    "    train_test_split(X, y_binary, random_state=42, test_size=0.2)\n",
    "\n",
    "X_pure_train, X_val, y_pure_train, y_val =\\\n",
    "    train_test_split(X_train, y_train, random_state=42, test_size=0.2)\n",
    "\n",
    "X_pure_train, X_val, X_test = X_pure_train/16, X_val/16, X_test/16"
   ]
  },
  {
   "cell_type": "code",
   "execution_count": 7,
   "metadata": {
    "ExecuteTime": {
     "end_time": "2023-01-19T22:06:10.638402Z",
     "start_time": "2023-01-19T22:06:10.511402Z"
    }
   },
   "outputs": [
    {
     "data": {
      "text/plain": [
       "array([[0.    , 0.    , 0.    , ..., 0.875 , 0.    , 0.    ],\n",
       "       [0.    , 0.    , 0.125 , ..., 0.    , 0.    , 0.    ],\n",
       "       [0.    , 0.    , 0.    , ..., 0.    , 0.    , 0.    ],\n",
       "       ...,\n",
       "       [0.    , 0.    , 0.375 , ..., 0.1875, 0.    , 0.    ],\n",
       "       [0.    , 0.    , 0.625 , ..., 0.8125, 1.    , 0.5   ],\n",
       "       [0.    , 0.    , 0.25  , ..., 0.0625, 0.    , 0.    ]],\n",
       "      dtype=float32)"
      ]
     },
     "execution_count": 7,
     "metadata": {},
     "output_type": "execute_result"
    }
   ],
   "source": [
    "X_pure_train"
   ]
  },
  {
   "cell_type": "markdown",
   "metadata": {},
   "source": [
    "### Sigmoid "
   ]
  },
  {
   "cell_type": "markdown",
   "metadata": {},
   "source": [
    "For activation, let's start with the familiar sigmoid function, and see how it performs."
   ]
  },
  {
   "cell_type": "code",
   "execution_count": 9,
   "metadata": {
    "ExecuteTime": {
     "end_time": "2023-01-19T22:07:56.913252Z",
     "start_time": "2023-01-19T22:07:56.093282Z"
    }
   },
   "outputs": [
    {
     "name": "stdout",
     "output_type": "stream",
     "text": [
      "Epoch 1/10\n",
      "12/12 [==============================] - 0s 750us/step - loss: 0.7505 - accuracy: 0.4961\n",
      "Epoch 2/10\n",
      "12/12 [==============================] - 0s 667us/step - loss: 0.7409 - accuracy: 0.4961\n",
      "Epoch 3/10\n",
      "12/12 [==============================] - 0s 710us/step - loss: 0.7328 - accuracy: 0.4961\n",
      "Epoch 4/10\n",
      "12/12 [==============================] - 0s 708us/step - loss: 0.7261 - accuracy: 0.4961\n",
      "Epoch 5/10\n",
      "12/12 [==============================] - 0s 750us/step - loss: 0.7207 - accuracy: 0.4961\n",
      "Epoch 6/10\n",
      "12/12 [==============================] - 0s 625us/step - loss: 0.7162 - accuracy: 0.4961\n",
      "Epoch 7/10\n",
      "12/12 [==============================] - 0s 956us/step - loss: 0.7126 - accuracy: 0.4961\n",
      "Epoch 8/10\n",
      "12/12 [==============================] - 0s 750us/step - loss: 0.7097 - accuracy: 0.4961\n",
      "Epoch 9/10\n",
      "12/12 [==============================] - 0s 625us/step - loss: 0.7071 - accuracy: 0.4961\n",
      "Epoch 10/10\n",
      "12/12 [==============================] - 0s 875us/step - loss: 0.7050 - accuracy: 0.4961\n"
     ]
    }
   ],
   "source": [
    "model = Sequential()\n",
    "# We will start with our trusty sigmoid function.\n",
    "# What does input dimension correspond to?\n",
    "model.add(Dense(12, activation='sigmoid', input_dim=64))\n",
    "model.add(Dense(8, activation='sigmoid'))\n",
    "model.add(Dense(1, activation='sigmoid'))\n",
    "\n",
    "model.compile(optimizer='SGD' ,\n",
    "              # We use binary_crossentropy for a binary loss function\n",
    "              loss='binary_crossentropy',\n",
    "              metrics=['accuracy'])\n",
    "\n",
    "# Assign the variable history to store the results,\n",
    "# and set verbose=1 so we can see the output. To see\n",
    "# only the metrics at the end of each epoch, set verbose=2.\n",
    "results = model.fit(X_pure_train, y_pure_train, epochs=10, batch_size=100, verbose=1)"
   ]
  },
  {
   "cell_type": "markdown",
   "metadata": {},
   "source": [
    "We can access the history of our model via `results.history`.\n",
    "Use __dict__ to take a tour."
   ]
  },
  {
   "cell_type": "code",
   "execution_count": 10,
   "metadata": {
    "ExecuteTime": {
     "end_time": "2023-01-19T22:08:19.672480Z",
     "start_time": "2023-01-19T22:08:19.529972Z"
    }
   },
   "outputs": [
    {
     "data": {
      "text/plain": [
       "tensorflow.python.keras.callbacks.History"
      ]
     },
     "execution_count": 10,
     "metadata": {},
     "output_type": "execute_result"
    }
   ],
   "source": [
    "# dict\n",
    "type(results)"
   ]
  },
  {
   "cell_type": "code",
   "execution_count": 11,
   "metadata": {
    "ExecuteTime": {
     "end_time": "2023-01-19T22:08:39.231968Z",
     "start_time": "2023-01-19T22:08:39.100468Z"
    }
   },
   "outputs": [
    {
     "data": {
      "text/plain": [
       "{'validation_data': None,\n",
       " 'model': <tensorflow.python.keras.engine.sequential.Sequential at 0x1d4f2d90b80>,\n",
       " '_chief_worker_only': None,\n",
       " '_supports_tf_logs': False,\n",
       " 'history': {'loss': [0.750542402267456,\n",
       "   0.7409108877182007,\n",
       "   0.7327653169631958,\n",
       "   0.7261422872543335,\n",
       "   0.7206808924674988,\n",
       "   0.7162248492240906,\n",
       "   0.7126278877258301,\n",
       "   0.7097132205963135,\n",
       "   0.7071367502212524,\n",
       "   0.7050380706787109],\n",
       "  'accuracy': [0.4960835576057434,\n",
       "   0.4960835576057434,\n",
       "   0.4960835576057434,\n",
       "   0.4960835576057434,\n",
       "   0.4960835576057434,\n",
       "   0.4960835576057434,\n",
       "   0.4960835576057434,\n",
       "   0.4960835576057434,\n",
       "   0.4960835576057434,\n",
       "   0.4960835576057434]},\n",
       " 'params': {'verbose': 1, 'epochs': 10, 'steps': 12},\n",
       " 'epoch': [0, 1, 2, 3, 4, 5, 6, 7, 8, 9]}"
      ]
     },
     "execution_count": 11,
     "metadata": {},
     "output_type": "execute_result"
    }
   ],
   "source": [
    "results.__dict__"
   ]
  },
  {
   "cell_type": "code",
   "execution_count": 12,
   "metadata": {
    "ExecuteTime": {
     "end_time": "2023-01-19T22:09:03.095567Z",
     "start_time": "2023-01-19T22:09:02.963570Z"
    }
   },
   "outputs": [
    {
     "data": {
      "text/plain": [
       "{'loss': [0.750542402267456,\n",
       "  0.7409108877182007,\n",
       "  0.7327653169631958,\n",
       "  0.7261422872543335,\n",
       "  0.7206808924674988,\n",
       "  0.7162248492240906,\n",
       "  0.7126278877258301,\n",
       "  0.7097132205963135,\n",
       "  0.7071367502212524,\n",
       "  0.7050380706787109],\n",
       " 'accuracy': [0.4960835576057434,\n",
       "  0.4960835576057434,\n",
       "  0.4960835576057434,\n",
       "  0.4960835576057434,\n",
       "  0.4960835576057434,\n",
       "  0.4960835576057434,\n",
       "  0.4960835576057434,\n",
       "  0.4960835576057434,\n",
       "  0.4960835576057434,\n",
       "  0.4960835576057434]}"
      ]
     },
     "execution_count": 12,
     "metadata": {},
     "output_type": "execute_result"
    }
   ],
   "source": [
    "results.history"
   ]
  },
  {
   "cell_type": "code",
   "execution_count": 13,
   "metadata": {
    "ExecuteTime": {
     "end_time": "2023-01-19T22:09:14.672749Z",
     "start_time": "2023-01-19T22:09:14.297776Z"
    }
   },
   "outputs": [
    {
     "data": {
      "image/png": "[encoded data removed]",
      "text/plain": [
       "<Figure size 720x360 with 2 Axes>"
      ]
     },
     "metadata": {
      "needs_background": "light"
     },
     "output_type": "display_data"
    }
   ],
   "source": [
    "sigmoid_loss = results.history['loss']\n",
    "sigmoid_accuracy = results.history['accuracy']\n",
    "\n",
    "fig, (ax1, ax2) = plt.subplots(1, 2, figsize=(10, 5))\n",
    "sns.lineplot(x=results.epoch, y=sigmoid_loss, ax=ax1, label='loss')\n",
    "sns.lineplot(x=results.epoch, y=sigmoid_accuracy, ax=ax2, label='accuracy');"
   ]
  },
  {
   "cell_type": "markdown",
   "metadata": {},
   "source": [
    "We have two plots above both relating to the quality of our model.  The left-hand plot is our loss. It uses the probabilities associated with our predictions to judge how well our prediction fits reality. We want it to decrease as far as possible.\n",
    "\n",
    "The accuracy judges how well the predictions are after applying the threshold at the output layer.  We want accuracy to increase."
   ]
  },
  {
   "cell_type": "markdown",
   "metadata": {},
   "source": [
    "If we look at our loss, it is still decreasing. That is a signal that our model is **still learning**. If our model is still learning, we can allow it to get better by turning a few dials.\n",
    "\n",
    "Let's:\n",
    "- increase the number of epochs;\n",
    "- change sigmoid activation in the hidden layers to ReLU; and\n",
    "- decrease the batch size."
   ]
  },
  {
   "cell_type": "markdown",
   "metadata": {},
   "source": [
    "## Basic Model Tuning"
   ]
  },
  {
   "cell_type": "markdown",
   "metadata": {},
   "source": [
    "### Increase Epochs"
   ]
  },
  {
   "cell_type": "code",
   "execution_count": 14,
   "metadata": {
    "ExecuteTime": {
     "end_time": "2023-01-19T22:11:04.631296Z",
     "start_time": "2023-01-19T22:11:02.948296Z"
    }
   },
   "outputs": [
    {
     "name": "stdout",
     "output_type": "stream",
     "text": [
      "Epoch 1/100\n",
      "12/12 [==============================] - 0s 708us/step - loss: 0.7031 - accuracy: 0.4961\n",
      "Epoch 2/100\n",
      "12/12 [==============================] - 0s 667us/step - loss: 0.7013 - accuracy: 0.4961\n",
      "Epoch 3/100\n",
      "12/12 [==============================] - 0s 667us/step - loss: 0.6999 - accuracy: 0.4961\n",
      "Epoch 4/100\n",
      "12/12 [==============================] - 0s 877us/step - loss: 0.6988 - accuracy: 0.4961\n",
      "Epoch 5/100\n",
      "12/12 [==============================] - 0s 750us/step - loss: 0.6979 - accuracy: 0.4961\n",
      "Epoch 6/100\n",
      "12/12 [==============================] - 0s 625us/step - loss: 0.6972 - accuracy: 0.4961\n",
      "Epoch 7/100\n",
      "12/12 [==============================] - 0s 667us/step - loss: 0.6965 - accuracy: 0.4961\n",
      "Epoch 8/100\n",
      "12/12 [==============================] - 0s 667us/step - loss: 0.6960 - accuracy: 0.4961\n",
      "Epoch 9/100\n",
      "12/12 [==============================] - 0s 667us/step - loss: 0.6957 - accuracy: 0.4961\n",
      "Epoch 10/100\n",
      "12/12 [==============================] - 0s 917us/step - loss: 0.6954 - accuracy: 0.4961\n",
      "Epoch 11/100\n",
      "12/12 [==============================] - 0s 625us/step - loss: 0.6952 - accuracy: 0.4961\n",
      "Epoch 12/100\n",
      "12/12 [==============================] - 0s 792us/step - loss: 0.6949 - accuracy: 0.4970\n",
      "Epoch 13/100\n",
      "12/12 [==============================] - 0s 792us/step - loss: 0.6947 - accuracy: 0.4987\n",
      "Epoch 14/100\n",
      "12/12 [==============================] - 0s 583us/step - loss: 0.6946 - accuracy: 0.5013\n",
      "Epoch 15/100\n",
      "12/12 [==============================] - 0s 792us/step - loss: 0.6944 - accuracy: 0.4978\n",
      "Epoch 16/100\n",
      "12/12 [==============================] - 0s 583us/step - loss: 0.6943 - accuracy: 0.4961\n",
      "Epoch 17/100\n",
      "12/12 [==============================] - 0s 583us/step - loss: 0.6941 - accuracy: 0.4909\n",
      "Epoch 18/100\n",
      "12/12 [==============================] - 0s 875us/step - loss: 0.6941 - accuracy: 0.4708\n",
      "Epoch 19/100\n",
      "12/12 [==============================] - 0s 708us/step - loss: 0.6940 - accuracy: 0.4621\n",
      "Epoch 20/100\n",
      "12/12 [==============================] - 0s 625us/step - loss: 0.6939 - accuracy: 0.4813\n",
      "Epoch 21/100\n",
      "12/12 [==============================] - 0s 917us/step - loss: 0.6938 - accuracy: 0.4560\n",
      "Epoch 22/100\n",
      "12/12 [==============================] - 0s 708us/step - loss: 0.6938 - accuracy: 0.4648\n",
      "Epoch 23/100\n",
      "12/12 [==============================] - 0s 750us/step - loss: 0.6936 - accuracy: 0.4508\n",
      "Epoch 24/100\n",
      "12/12 [==============================] - 0s 542us/step - loss: 0.6936 - accuracy: 0.4569\n",
      "Epoch 25/100\n",
      "12/12 [==============================] - 0s 667us/step - loss: 0.6935 - accuracy: 0.4587\n",
      "Epoch 26/100\n",
      "12/12 [==============================] - 0s 750us/step - loss: 0.6934 - accuracy: 0.4682\n",
      "Epoch 27/100\n",
      "12/12 [==============================] - 0s 625us/step - loss: 0.6933 - accuracy: 0.4691\n",
      "Epoch 28/100\n",
      "12/12 [==============================] - 0s 583us/step - loss: 0.6933 - accuracy: 0.4839\n",
      "Epoch 29/100\n",
      "12/12 [==============================] - 0s 500us/step - loss: 0.6932 - accuracy: 0.4917\n",
      "Epoch 30/100\n",
      "12/12 [==============================] - 0s 625us/step - loss: 0.6931 - accuracy: 0.4830\n",
      "Epoch 31/100\n",
      "12/12 [==============================] - 0s 667us/step - loss: 0.6930 - accuracy: 0.4917\n",
      "Epoch 32/100\n",
      "12/12 [==============================] - 0s 542us/step - loss: 0.6930 - accuracy: 0.5004\n",
      "Epoch 33/100\n",
      "12/12 [==============================] - 0s 542us/step - loss: 0.6929 - accuracy: 0.5117\n",
      "Epoch 34/100\n",
      "12/12 [==============================] - 0s 667us/step - loss: 0.6928 - accuracy: 0.5074\n",
      "Epoch 35/100\n",
      "12/12 [==============================] - 0s 792us/step - loss: 0.6928 - accuracy: 0.5083\n",
      "Epoch 36/100\n",
      "12/12 [==============================] - 0s 750us/step - loss: 0.6927 - accuracy: 0.5187\n",
      "Epoch 37/100\n",
      "12/12 [==============================] - 0s 708us/step - loss: 0.6926 - accuracy: 0.5213\n",
      "Epoch 38/100\n",
      "12/12 [==============================] - 0s 583us/step - loss: 0.6926 - accuracy: 0.5292\n",
      "Epoch 39/100\n",
      "12/12 [==============================] - 0s 625us/step - loss: 0.6925 - accuracy: 0.5309\n",
      "Epoch 40/100\n",
      "12/12 [==============================] - 0s 708us/step - loss: 0.6924 - accuracy: 0.5527\n",
      "Epoch 41/100\n",
      "12/12 [==============================] - 0s 1ms/step - loss: 0.6923 - accuracy: 0.5292\n",
      "Epoch 42/100\n",
      "12/12 [==============================] - 0s 792us/step - loss: 0.6923 - accuracy: 0.5300\n",
      "Epoch 43/100\n",
      "12/12 [==============================] - 0s 750us/step - loss: 0.6922 - accuracy: 0.5335\n",
      "Epoch 44/100\n",
      "12/12 [==============================] - 0s 708us/step - loss: 0.6921 - accuracy: 0.5431\n",
      "Epoch 45/100\n",
      "12/12 [==============================] - 0s 708us/step - loss: 0.6921 - accuracy: 0.5596\n",
      "Epoch 46/100\n",
      "12/12 [==============================] - 0s 875us/step - loss: 0.6920 - accuracy: 0.5466\n",
      "Epoch 47/100\n",
      "12/12 [==============================] - 0s 1ms/step - loss: 0.6919 - accuracy: 0.5605\n",
      "Epoch 48/100\n",
      "12/12 [==============================] - 0s 1ms/step - loss: 0.6919 - accuracy: 0.5570\n",
      "Epoch 49/100\n",
      "12/12 [==============================] - 0s 917us/step - loss: 0.6918 - accuracy: 0.5666\n",
      "Epoch 50/100\n",
      "12/12 [==============================] - 0s 1ms/step - loss: 0.6917 - accuracy: 0.5622\n",
      "Epoch 51/100\n",
      "12/12 [==============================] - 0s 875us/step - loss: 0.6916 - accuracy: 0.5718\n",
      "Epoch 52/100\n",
      "12/12 [==============================] - 0s 1ms/step - loss: 0.6916 - accuracy: 0.5762\n",
      "Epoch 53/100\n",
      "12/12 [==============================] - 0s 1ms/step - loss: 0.6915 - accuracy: 0.5805\n",
      "Epoch 54/100\n",
      "12/12 [==============================] - 0s 1ms/step - loss: 0.6914 - accuracy: 0.5788\n",
      "Epoch 55/100\n",
      "12/12 [==============================] - 0s 958us/step - loss: 0.6914 - accuracy: 0.5831\n",
      "Epoch 56/100\n",
      "12/12 [==============================] - 0s 750us/step - loss: 0.6913 - accuracy: 0.5822\n",
      "Epoch 57/100\n",
      "12/12 [==============================] - 0s 583us/step - loss: 0.6912 - accuracy: 0.5849\n",
      "Epoch 58/100\n",
      "12/12 [==============================] - 0s 875us/step - loss: 0.6912 - accuracy: 0.5840\n",
      "Epoch 59/100\n",
      "12/12 [==============================] - 0s 833us/step - loss: 0.6911 - accuracy: 0.5918\n",
      "Epoch 60/100\n",
      "12/12 [==============================] - 0s 708us/step - loss: 0.6910 - accuracy: 0.5970\n",
      "Epoch 61/100\n",
      "12/12 [==============================] - 0s 542us/step - loss: 0.6910 - accuracy: 0.5953\n",
      "Epoch 62/100\n",
      "12/12 [==============================] - 0s 833us/step - loss: 0.6909 - accuracy: 0.5979\n",
      "Epoch 63/100\n",
      "12/12 [==============================] - 0s 583us/step - loss: 0.6908 - accuracy: 0.5944\n",
      "Epoch 64/100\n",
      "12/12 [==============================] - 0s 625us/step - loss: 0.6907 - accuracy: 0.6014\n",
      "Epoch 65/100\n",
      "12/12 [==============================] - 0s 708us/step - loss: 0.6907 - accuracy: 0.6014\n",
      "Epoch 66/100\n",
      "12/12 [==============================] - 0s 542us/step - loss: 0.6906 - accuracy: 0.6101\n",
      "Epoch 67/100\n",
      "12/12 [==============================] - 0s 750us/step - loss: 0.6905 - accuracy: 0.6084\n",
      "Epoch 68/100\n",
      "12/12 [==============================] - 0s 500us/step - loss: 0.6905 - accuracy: 0.6127\n",
      "Epoch 69/100\n",
      "12/12 [==============================] - 0s 583us/step - loss: 0.6904 - accuracy: 0.6232\n",
      "Epoch 70/100\n",
      "12/12 [==============================] - 0s 583us/step - loss: 0.6903 - accuracy: 0.6197\n",
      "Epoch 71/100\n",
      "12/12 [==============================] - 0s 625us/step - loss: 0.6903 - accuracy: 0.6197\n",
      "Epoch 72/100\n",
      "12/12 [==============================] - 0s 625us/step - loss: 0.6901 - accuracy: 0.6249\n",
      "Epoch 73/100\n",
      "12/12 [==============================] - 0s 625us/step - loss: 0.6901 - accuracy: 0.6223\n",
      "Epoch 74/100\n",
      "12/12 [==============================] - 0s 625us/step - loss: 0.6900 - accuracy: 0.6388\n",
      "Epoch 75/100\n",
      "12/12 [==============================] - 0s 667us/step - loss: 0.6899 - accuracy: 0.6353\n",
      "Epoch 76/100\n",
      "12/12 [==============================] - 0s 500us/step - loss: 0.6899 - accuracy: 0.6118\n",
      "Epoch 77/100\n",
      "12/12 [==============================] - 0s 625us/step - loss: 0.6898 - accuracy: 0.6292\n",
      "Epoch 78/100\n",
      "12/12 [==============================] - 0s 833us/step - loss: 0.6897 - accuracy: 0.6301\n",
      "Epoch 79/100\n",
      "12/12 [==============================] - 0s 458us/step - loss: 0.6897 - accuracy: 0.6223\n",
      "Epoch 80/100\n",
      "12/12 [==============================] - 0s 542us/step - loss: 0.6896 - accuracy: 0.6440\n",
      "Epoch 81/100\n",
      "12/12 [==============================] - 0s 666us/step - loss: 0.6895 - accuracy: 0.6397\n",
      "Epoch 82/100\n",
      "12/12 [==============================] - 0s 625us/step - loss: 0.6894 - accuracy: 0.6458\n",
      "Epoch 83/100\n",
      "12/12 [==============================] - 0s 708us/step - loss: 0.6894 - accuracy: 0.6484\n",
      "Epoch 84/100\n",
      "12/12 [==============================] - 0s 583us/step - loss: 0.6893 - accuracy: 0.6614\n",
      "Epoch 85/100\n",
      "12/12 [==============================] - 0s 500us/step - loss: 0.6892 - accuracy: 0.6684\n",
      "Epoch 86/100\n",
      "12/12 [==============================] - 0s 750us/step - loss: 0.6891 - accuracy: 0.6623\n",
      "Epoch 87/100\n",
      "12/12 [==============================] - 0s 542us/step - loss: 0.6890 - accuracy: 0.6701\n",
      "Epoch 88/100\n",
      "12/12 [==============================] - 0s 542us/step - loss: 0.6890 - accuracy: 0.6710\n",
      "Epoch 89/100\n",
      "12/12 [==============================] - 0s 667us/step - loss: 0.6889 - accuracy: 0.6736\n",
      "Epoch 90/100\n",
      "12/12 [==============================] - 0s 624us/step - loss: 0.6889 - accuracy: 0.6623\n",
      "Epoch 91/100\n",
      "12/12 [==============================] - 0s 583us/step - loss: 0.6887 - accuracy: 0.6789\n",
      "Epoch 92/100\n",
      "12/12 [==============================] - 0s 542us/step - loss: 0.6887 - accuracy: 0.6736\n",
      "Epoch 93/100\n",
      "12/12 [==============================] - 0s 625us/step - loss: 0.6886 - accuracy: 0.6806\n",
      "Epoch 94/100\n",
      "12/12 [==============================] - 0s 500us/step - loss: 0.6885 - accuracy: 0.6849\n",
      "Epoch 95/100\n",
      "12/12 [==============================] - 0s 667us/step - loss: 0.6884 - accuracy: 0.6736\n",
      "Epoch 96/100\n",
      "12/12 [==============================] - 0s 708us/step - loss: 0.6884 - accuracy: 0.6806\n",
      "Epoch 97/100\n",
      "12/12 [==============================] - 0s 875us/step - loss: 0.6883 - accuracy: 0.6815\n",
      "Epoch 98/100\n",
      "12/12 [==============================] - 0s 542us/step - loss: 0.6882 - accuracy: 0.6684\n",
      "Epoch 99/100\n",
      "12/12 [==============================] - 0s 708us/step - loss: 0.6882 - accuracy: 0.6545\n",
      "Epoch 100/100\n",
      "12/12 [==============================] - 0s 583us/step - loss: 0.6881 - accuracy: 0.6823\n"
     ]
    }
   ],
   "source": [
    "model = Sequential()\n",
    "model.add(Dense(12, activation='sigmoid', input_dim=64))\n",
    "model.add(Dense(8, activation='sigmoid'))\n",
    "model.add(Dense(1, activation='sigmoid'))\n",
    "\n",
    "model.compile(optimizer='SGD',\n",
    "              loss='binary_crossentropy',\n",
    "              metrics=['accuracy'])\n",
    "\n",
    "# Assign the variable history to store the results,\n",
    "# and set verbose=1 so we can see the output.\n",
    "# increase epochs\n",
    "\n",
    "results = model.fit(X_pure_train, y_pure_train, epochs=100, batch_size=100, verbose=1)\n"
   ]
  },
  {
   "cell_type": "code",
   "execution_count": 15,
   "metadata": {
    "ExecuteTime": {
     "end_time": "2023-01-19T22:11:08.915926Z",
     "start_time": "2023-01-19T22:11:08.540452Z"
    }
   },
   "outputs": [
    {
     "data": {
      "image/png": "[encoded data removed]",
      "text/plain": [
       "<Figure size 720x360 with 2 Axes>"
      ]
     },
     "metadata": {
      "needs_background": "light"
     },
     "output_type": "display_data"
    }
   ],
   "source": [
    "sigmoid_loss = results.history['loss']\n",
    "sigmoid_accuracy = results.history['accuracy']\n",
    "\n",
    "fig, (ax1, ax2) = plt.subplots(1, 2, figsize=(10, 5))\n",
    "sns.lineplot(x=results.epoch, y=sigmoid_loss, ax=ax1, label='loss')\n",
    "sns.lineplot(x=results.epoch, y=sigmoid_accuracy, ax=ax2, label='accuracy')\n",
    "ax1.legend();"
   ]
  },
  {
   "cell_type": "markdown",
   "metadata": {},
   "source": [
    "### Decrease Batch Size"
   ]
  },
  {
   "cell_type": "code",
   "execution_count": 16,
   "metadata": {
    "ExecuteTime": {
     "end_time": "2023-01-19T22:11:39.441044Z",
     "start_time": "2023-01-19T22:11:38.206495Z"
    }
   },
   "outputs": [
    {
     "name": "stdout",
     "output_type": "stream",
     "text": [
      "Epoch 1/10\n",
      "115/115 [==============================] - 0s 596us/step - loss: 0.6949 - accuracy: 0.5039\n",
      "Epoch 2/10\n",
      "115/115 [==============================] - 0s 617us/step - loss: 0.6902 - accuracy: 0.5457\n",
      "Epoch 3/10\n",
      "115/115 [==============================] - 0s 735us/step - loss: 0.6889 - accuracy: 0.5805\n",
      "Epoch 4/10\n",
      "115/115 [==============================] - 0s 513us/step - loss: 0.6876 - accuracy: 0.6057\n",
      "Epoch 5/10\n",
      "115/115 [==============================] - 0s 565us/step - loss: 0.6864 - accuracy: 0.6188\n",
      "Epoch 6/10\n",
      "115/115 [==============================] - 0s 587us/step - loss: 0.6847 - accuracy: 0.6075\n",
      "Epoch 7/10\n",
      "115/115 [==============================] - 0s 496us/step - loss: 0.6840 - accuracy: 0.6371\n",
      "Epoch 8/10\n",
      "115/115 [==============================] - 0s 635us/step - loss: 0.6822 - accuracy: 0.6806\n",
      "Epoch 9/10\n",
      "115/115 [==============================] - 0s 717us/step - loss: 0.6812 - accuracy: 0.6449\n",
      "Epoch 10/10\n",
      "115/115 [==============================] - 0s 535us/step - loss: 0.6794 - accuracy: 0.6510\n"
     ]
    }
   ],
   "source": [
    "model = Sequential()\n",
    "\n",
    "model.add(Dense(12, activation='sigmoid', input_dim=64))\n",
    "model.add(Dense(8, activation='sigmoid'))\n",
    "model.add(Dense(1, activation='sigmoid'))\n",
    "\n",
    "model.compile(optimizer='SGD',\n",
    "              loss='binary_crossentropy',\n",
    "              metrics=['accuracy'])\n",
    "\n",
    "# decrease batch size\n",
    "results = model.fit(X_pure_train, y_pure_train, epochs=10, batch_size=10, verbose=1)"
   ]
  },
  {
   "cell_type": "code",
   "execution_count": 17,
   "metadata": {
    "ExecuteTime": {
     "end_time": "2023-01-19T22:11:40.154042Z",
     "start_time": "2023-01-19T22:11:39.754043Z"
    }
   },
   "outputs": [
    {
     "data": {
      "image/png": "[encoded data removed]",
      "text/plain": [
       "<Figure size 720x360 with 2 Axes>"
      ]
     },
     "metadata": {
      "needs_background": "light"
     },
     "output_type": "display_data"
    }
   ],
   "source": [
    "relu_loss = results.history['loss']\n",
    "relu_accuracy = results.history['accuracy']\n",
    "\n",
    "fig, (ax1, ax2) = plt.subplots(1, 2, figsize=(10, 5))\n",
    "sns.lineplot(x=results.epoch, y=relu_loss, ax=ax1, label='loss')\n",
    "sns.lineplot(x=results.epoch, y=relu_accuracy, ax=ax2, label='accuracy')\n",
    "ax1.legend();"
   ]
  },
  {
   "cell_type": "markdown",
   "metadata": {},
   "source": [
    "### Both"
   ]
  },
  {
   "cell_type": "code",
   "execution_count": 24,
   "metadata": {
    "ExecuteTime": {
     "end_time": "2023-01-19T22:16:50.960910Z",
     "start_time": "2023-01-19T22:16:40.893910Z"
    }
   },
   "outputs": [
    {
     "name": "stdout",
     "output_type": "stream",
     "text": [
      "Epoch 1/100\n",
      "115/115 [==============================] - 0s 630us/step - loss: 0.7112 - accuracy: 0.4961\n",
      "Epoch 2/100\n",
      "115/115 [==============================] - 0s 713us/step - loss: 0.6971 - accuracy: 0.4952\n",
      "Epoch 3/100\n",
      "115/115 [==============================] - 0s 657us/step - loss: 0.6948 - accuracy: 0.4569\n",
      "Epoch 4/100\n",
      "115/115 [==============================] - 0s 743us/step - loss: 0.6942 - accuracy: 0.4761\n",
      "Epoch 5/100\n",
      "115/115 [==============================] - ETA: 0s - loss: 0.6933 - accuracy: 0.50 - 0s 774us/step - loss: 0.6937 - accuracy: 0.4952\n",
      "Epoch 6/100\n",
      "115/115 [==============================] - 0s 952us/step - loss: 0.6934 - accuracy: 0.5222\n",
      "Epoch 7/100\n",
      "115/115 [==============================] - 0s 735us/step - loss: 0.6933 - accuracy: 0.4848\n",
      "Epoch 8/100\n",
      "115/115 [==============================] - 0s 822us/step - loss: 0.6928 - accuracy: 0.5222\n",
      "Epoch 9/100\n",
      "115/115 [==============================] - 0s 783us/step - loss: 0.6927 - accuracy: 0.5170\n",
      "Epoch 10/100\n",
      "115/115 [==============================] - 0s 761us/step - loss: 0.6922 - accuracy: 0.5178\n",
      "Epoch 11/100\n",
      "115/115 [==============================] - 0s 709us/step - loss: 0.6920 - accuracy: 0.5109\n",
      "Epoch 12/100\n",
      "115/115 [==============================] - 0s 896us/step - loss: 0.6917 - accuracy: 0.5448\n",
      "Epoch 13/100\n",
      "115/115 [==============================] - 0s 830us/step - loss: 0.6912 - accuracy: 0.5509\n",
      "Epoch 14/100\n",
      "115/115 [==============================] - 0s 722us/step - loss: 0.6910 - accuracy: 0.5265\n",
      "Epoch 15/100\n",
      "115/115 [==============================] - 0s 743us/step - loss: 0.6906 - accuracy: 0.5457\n",
      "Epoch 16/100\n",
      "115/115 [==============================] - 0s 787us/step - loss: 0.6903 - accuracy: 0.5448\n",
      "Epoch 17/100\n",
      "115/115 [==============================] - 0s 817us/step - loss: 0.6900 - accuracy: 0.5901\n",
      "Epoch 18/100\n",
      "115/115 [==============================] - 0s 843us/step - loss: 0.6896 - accuracy: 0.5770\n",
      "Epoch 19/100\n",
      "115/115 [==============================] - 0s 765us/step - loss: 0.6892 - accuracy: 0.5561\n",
      "Epoch 20/100\n",
      "115/115 [==============================] - 0s 813us/step - loss: 0.6887 - accuracy: 0.5936\n",
      "Epoch 21/100\n",
      "115/115 [==============================] - 0s 735us/step - loss: 0.6884 - accuracy: 0.5770\n",
      "Epoch 22/100\n",
      "115/115 [==============================] - 0s 683us/step - loss: 0.6880 - accuracy: 0.5570\n",
      "Epoch 23/100\n",
      "115/115 [==============================] - 0s 648us/step - loss: 0.6876 - accuracy: 0.6379\n",
      "Epoch 24/100\n",
      "115/115 [==============================] - 0s 804us/step - loss: 0.6871 - accuracy: 0.5831\n",
      "Epoch 25/100\n",
      "115/115 [==============================] - 0s 857us/step - loss: 0.6863 - accuracy: 0.6562\n",
      "Epoch 26/100\n",
      "115/115 [==============================] - 0s 765us/step - loss: 0.6860 - accuracy: 0.5579\n",
      "Epoch 27/100\n",
      "115/115 [==============================] - 0s 674us/step - loss: 0.6856 - accuracy: 0.6162\n",
      "Epoch 28/100\n",
      "115/115 [==============================] - 0s 700us/step - loss: 0.6850 - accuracy: 0.6432\n",
      "Epoch 29/100\n",
      "115/115 [==============================] - 0s 748us/step - loss: 0.6843 - accuracy: 0.6101\n",
      "Epoch 30/100\n",
      "115/115 [==============================] - 0s 926us/step - loss: 0.6837 - accuracy: 0.6632\n",
      "Epoch 31/100\n",
      "115/115 [==============================] - 0s 748us/step - loss: 0.6830 - accuracy: 0.6762\n",
      "Epoch 32/100\n",
      "115/115 [==============================] - 0s 852us/step - loss: 0.6823 - accuracy: 0.6292\n",
      "Epoch 33/100\n",
      "115/115 [==============================] - 0s 691us/step - loss: 0.6815 - accuracy: 0.7137\n",
      "Epoch 34/100\n",
      "115/115 [==============================] - 0s 696us/step - loss: 0.6807 - accuracy: 0.6789\n",
      "Epoch 35/100\n",
      "115/115 [==============================] - 0s 709us/step - loss: 0.6798 - accuracy: 0.6519\n",
      "Epoch 36/100\n",
      "115/115 [==============================] - 0s 765us/step - loss: 0.6788 - accuracy: 0.7154\n",
      "Epoch 37/100\n",
      "115/115 [==============================] - 0s 617us/step - loss: 0.6778 - accuracy: 0.6075\n",
      "Epoch 38/100\n",
      "115/115 [==============================] - 0s 717us/step - loss: 0.6769 - accuracy: 0.6667\n",
      "Epoch 39/100\n",
      "115/115 [==============================] - 0s 678us/step - loss: 0.6759 - accuracy: 0.7694\n",
      "Epoch 40/100\n",
      "115/115 [==============================] - 0s 661us/step - loss: 0.6746 - accuracy: 0.7041\n",
      "Epoch 41/100\n",
      "115/115 [==============================] - 0s 626us/step - loss: 0.6735 - accuracy: 0.7737\n",
      "Epoch 42/100\n",
      "115/115 [==============================] - 0s 791us/step - loss: 0.6722 - accuracy: 0.7650\n",
      "Epoch 43/100\n",
      "115/115 [==============================] - 0s 761us/step - loss: 0.6707 - accuracy: 0.7720\n",
      "Epoch 44/100\n",
      "115/115 [==============================] - 0s 713us/step - loss: 0.6689 - accuracy: 0.7903\n",
      "Epoch 45/100\n",
      "115/115 [==============================] - 0s 752us/step - loss: 0.6674 - accuracy: 0.7302\n",
      "Epoch 46/100\n",
      "115/115 [==============================] - 0s 987us/step - loss: 0.6655 - accuracy: 0.7807\n",
      "Epoch 47/100\n",
      "115/115 [==============================] - 0s 835us/step - loss: 0.6636 - accuracy: 0.8007\n",
      "Epoch 48/100\n",
      "115/115 [==============================] - 0s 913us/step - loss: 0.6616 - accuracy: 0.7807\n",
      "Epoch 49/100\n",
      "115/115 [==============================] - 0s 774us/step - loss: 0.6593 - accuracy: 0.7859\n",
      "Epoch 50/100\n",
      "115/115 [==============================] - 0s 691us/step - loss: 0.6570 - accuracy: 0.8129\n",
      "Epoch 51/100\n",
      "115/115 [==============================] - 0s 835us/step - loss: 0.6542 - accuracy: 0.8007\n",
      "Epoch 52/100\n",
      "115/115 [==============================] - 0s 787us/step - loss: 0.6515 - accuracy: 0.7972\n",
      "Epoch 53/100\n",
      "115/115 [==============================] - 0s 696us/step - loss: 0.6484 - accuracy: 0.8129\n",
      "Epoch 54/100\n",
      "115/115 [==============================] - 0s 800us/step - loss: 0.6452 - accuracy: 0.8155\n",
      "Epoch 55/100\n",
      "115/115 [==============================] - 0s 813us/step - loss: 0.6417 - accuracy: 0.8259\n",
      "Epoch 56/100\n",
      "115/115 [==============================] - 0s 752us/step - loss: 0.6379 - accuracy: 0.8207\n",
      "Epoch 57/100\n",
      "115/115 [==============================] - 0s 1ms/step - loss: 0.6338 - accuracy: 0.8181\n",
      "Epoch 58/100\n",
      "115/115 [==============================] - 0s 783us/step - loss: 0.6294 - accuracy: 0.8190\n",
      "Epoch 59/100\n",
      "115/115 [==============================] - 0s 926us/step - loss: 0.6248 - accuracy: 0.8277\n",
      "Epoch 60/100\n",
      "115/115 [==============================] - 0s 970us/step - loss: 0.6197 - accuracy: 0.8329\n",
      "Epoch 61/100\n",
      "115/115 [==============================] - 0s 770us/step - loss: 0.6143 - accuracy: 0.8346\n",
      "Epoch 62/100\n",
      "115/115 [==============================] - 0s 748us/step - loss: 0.6085 - accuracy: 0.8329\n",
      "Epoch 63/100\n",
      "115/115 [==============================] - 0s 704us/step - loss: 0.6022 - accuracy: 0.8338\n",
      "Epoch 64/100\n",
      "115/115 [==============================] - 0s 791us/step - loss: 0.5958 - accuracy: 0.8303\n",
      "Epoch 65/100\n",
      "115/115 [==============================] - 0s 765us/step - loss: 0.5888 - accuracy: 0.8338\n",
      "Epoch 66/100\n",
      "115/115 [==============================] - 0s 839us/step - loss: 0.5815 - accuracy: 0.8381\n",
      "Epoch 67/100\n",
      "115/115 [==============================] - 0s 839us/step - loss: 0.5737 - accuracy: 0.8416\n",
      "Epoch 68/100\n",
      "115/115 [==============================] - 0s 674us/step - loss: 0.5658 - accuracy: 0.8364\n",
      "Epoch 69/100\n",
      "115/115 [==============================] - 0s 996us/step - loss: 0.5571 - accuracy: 0.8425\n",
      "Epoch 70/100\n",
      "115/115 [==============================] - 0s 774us/step - loss: 0.5488 - accuracy: 0.8390\n",
      "Epoch 71/100\n",
      "115/115 [==============================] - 0s 678us/step - loss: 0.5398 - accuracy: 0.8416\n",
      "Epoch 72/100\n",
      "115/115 [==============================] - 0s 696us/step - loss: 0.5304 - accuracy: 0.8381\n",
      "Epoch 73/100\n",
      "115/115 [==============================] - 0s 661us/step - loss: 0.5212 - accuracy: 0.8442\n",
      "Epoch 74/100\n",
      "115/115 [==============================] - 0s 674us/step - loss: 0.5117 - accuracy: 0.8468\n",
      "Epoch 75/100\n",
      "115/115 [==============================] - 0s 791us/step - loss: 0.5020 - accuracy: 0.8460\n",
      "Epoch 76/100\n",
      "115/115 [==============================] - 0s 739us/step - loss: 0.4923 - accuracy: 0.8451\n",
      "Epoch 77/100\n",
      "115/115 [==============================] - 0s 700us/step - loss: 0.4826 - accuracy: 0.8520\n",
      "Epoch 78/100\n",
      "115/115 [==============================] - 0s 709us/step - loss: 0.4731 - accuracy: 0.8520\n",
      "Epoch 79/100\n"
     ]
    },
    {
     "name": "stdout",
     "output_type": "stream",
     "text": [
      "115/115 [==============================] - 0s 843us/step - loss: 0.4637 - accuracy: 0.8503\n",
      "Epoch 80/100\n",
      "115/115 [==============================] - 0s 835us/step - loss: 0.4542 - accuracy: 0.8547\n",
      "Epoch 81/100\n",
      "115/115 [==============================] - 0s 1ms/step - loss: 0.4452 - accuracy: 0.8529\n",
      "Epoch 82/100\n",
      "115/115 [==============================] - 0s 1ms/step - loss: 0.4360 - accuracy: 0.8607\n",
      "Epoch 83/100\n",
      "115/115 [==============================] - 0s 804us/step - loss: 0.4275 - accuracy: 0.8642\n",
      "Epoch 84/100\n",
      "115/115 [==============================] - 0s 678us/step - loss: 0.4192 - accuracy: 0.8581\n",
      "Epoch 85/100\n",
      "115/115 [==============================] - 0s 743us/step - loss: 0.4112 - accuracy: 0.8625\n",
      "Epoch 86/100\n",
      "115/115 [==============================] - 0s 657us/step - loss: 0.4030 - accuracy: 0.8599\n",
      "Epoch 87/100\n",
      "115/115 [==============================] - 0s 713us/step - loss: 0.3957 - accuracy: 0.8703\n",
      "Epoch 88/100\n",
      "115/115 [==============================] - 0s 713us/step - loss: 0.3885 - accuracy: 0.8625\n",
      "Epoch 89/100\n",
      "115/115 [==============================] - 0s 622us/step - loss: 0.3821 - accuracy: 0.8677\n",
      "Epoch 90/100\n",
      "115/115 [==============================] - 0s 713us/step - loss: 0.3755 - accuracy: 0.8668\n",
      "Epoch 91/100\n",
      "115/115 [==============================] - 0s 1ms/step - loss: 0.3690 - accuracy: 0.8703\n",
      "Epoch 92/100\n",
      "115/115 [==============================] - 0s 617us/step - loss: 0.3628 - accuracy: 0.8695\n",
      "Epoch 93/100\n",
      "115/115 [==============================] - 0s 626us/step - loss: 0.3572 - accuracy: 0.8712\n",
      "Epoch 94/100\n",
      "115/115 [==============================] - 0s 1ms/step - loss: 0.3520 - accuracy: 0.8755\n",
      "Epoch 95/100\n",
      "115/115 [==============================] - 0s 952us/step - loss: 0.3469 - accuracy: 0.8729\n",
      "Epoch 96/100\n",
      "115/115 [==============================] - 0s 757us/step - loss: 0.3414 - accuracy: 0.8851\n",
      "Epoch 97/100\n",
      "115/115 [==============================] - 0s 830us/step - loss: 0.3371 - accuracy: 0.8738\n",
      "Epoch 98/100\n",
      "115/115 [==============================] - 0s 748us/step - loss: 0.3326 - accuracy: 0.8764\n",
      "Epoch 99/100\n",
      "115/115 [==============================] - 0s 639us/step - loss: 0.3284 - accuracy: 0.8825\n",
      "Epoch 100/100\n",
      "115/115 [==============================] - 0s 739us/step - loss: 0.3241 - accuracy: 0.8799\n"
     ]
    }
   ],
   "source": [
    "model = Sequential()\n",
    "\n",
    "model.add(Dense(12, activation='sigmoid', input_dim=64))\n",
    "model.add(Dense(8, activation='sigmoid'))\n",
    "model.add(Dense(1, activation='sigmoid'))\n",
    "\n",
    "model.compile(optimizer='SGD',\n",
    "              loss='binary_crossentropy',\n",
    "              metrics=['accuracy'])\n",
    "\n",
    "# increase epochs decrease batch size\n",
    "results = model.fit(X_pure_train, y_pure_train, epochs=100, batch_size=10, verbose=1)"
   ]
  },
  {
   "cell_type": "code",
   "execution_count": 19,
   "metadata": {
    "ExecuteTime": {
     "end_time": "2023-01-19T22:12:04.649276Z",
     "start_time": "2023-01-19T22:12:04.279275Z"
    }
   },
   "outputs": [
    {
     "data": {
      "image/png": "[encoded data removed]",
      "text/plain": [
       "<Figure size 720x360 with 2 Axes>"
      ]
     },
     "metadata": {
      "needs_background": "light"
     },
     "output_type": "display_data"
    }
   ],
   "source": [
    "relu_loss = results.history['loss']\n",
    "relu_accuracy = results.history['accuracy']\n",
    "\n",
    "fig, (ax1, ax2) = plt.subplots(1, 2, figsize=(10, 5))\n",
    "sns.lineplot(x=results.epoch, y=relu_loss, ax=ax1, label='loss')\n",
    "sns.lineplot(x=results.epoch, y=relu_accuracy, ax=ax2, label='accuracy')\n",
    "ax1.legend();"
   ]
  },
  {
   "cell_type": "markdown",
   "metadata": {},
   "source": [
    "### Use Relu"
   ]
  },
  {
   "cell_type": "code",
   "execution_count": 20,
   "metadata": {
    "ExecuteTime": {
     "end_time": "2023-01-19T22:12:40.483459Z",
     "start_time": "2023-01-19T22:12:39.817461Z"
    }
   },
   "outputs": [
    {
     "name": "stdout",
     "output_type": "stream",
     "text": [
      "Epoch 1/10\n",
      "12/12 [==============================] - 0s 583us/step - loss: 0.8116 - accuracy: 0.5039\n",
      "Epoch 2/10\n",
      "12/12 [==============================] - 0s 958us/step - loss: 0.7526 - accuracy: 0.5039\n",
      "Epoch 3/10\n",
      "12/12 [==============================] - 0s 708us/step - loss: 0.7187 - accuracy: 0.5205\n",
      "Epoch 4/10\n",
      "12/12 [==============================] - 0s 792us/step - loss: 0.6977 - accuracy: 0.5352\n",
      "Epoch 5/10\n",
      "12/12 [==============================] - 0s 878us/step - loss: 0.6831 - accuracy: 0.5840\n",
      "Epoch 6/10\n",
      "12/12 [==============================] - 0s 958us/step - loss: 0.6725 - accuracy: 0.5970\n",
      "Epoch 7/10\n",
      "12/12 [==============================] - 0s 1000us/step - loss: 0.6632 - accuracy: 0.6214\n",
      "Epoch 8/10\n",
      "12/12 [==============================] - 0s 791us/step - loss: 0.6547 - accuracy: 0.6397\n",
      "Epoch 9/10\n",
      "12/12 [==============================] - 0s 833us/step - loss: 0.6468 - accuracy: 0.6597\n",
      "Epoch 10/10\n",
      "12/12 [==============================] - 0s 544us/step - loss: 0.6391 - accuracy: 0.6754\n"
     ]
    }
   ],
   "source": [
    "model = Sequential()\n",
    "model.add(Dense(12, activation='relu', input_dim=64))\n",
    "model.add(Dense(8, activation='relu'))\n",
    "model.add(Dense(1, activation='sigmoid'))\n",
    "\n",
    "model.compile(optimizer='SGD',\n",
    "              loss='binary_crossentropy',\n",
    "              metrics=['accuracy'])\n",
    "\n",
    "# Assign the variable history to store the results,\n",
    "# and set verbose=1 so we can see the output.\n",
    "# increase epochs, decrease batchsize\n",
    "\n",
    "\n",
    "results = model.fit(X_pure_train, y_pure_train, epochs=10, batch_size=100, verbose=1)"
   ]
  },
  {
   "cell_type": "code",
   "execution_count": 21,
   "metadata": {
    "ExecuteTime": {
     "end_time": "2023-01-19T22:12:41.165460Z",
     "start_time": "2023-01-19T22:12:40.779481Z"
    }
   },
   "outputs": [
    {
     "data": {
      "image/png": "[encoded data removed]",
      "text/plain": [
       "<Figure size 720x360 with 2 Axes>"
      ]
     },
     "metadata": {
      "needs_background": "light"
     },
     "output_type": "display_data"
    }
   ],
   "source": [
    "relu_loss = results.history['loss']\n",
    "relu_accuracy = results.history['accuracy']\n",
    "\n",
    "fig, (ax1, ax2) = plt.subplots(1, 2, figsize=(10, 5))\n",
    "sns.lineplot(x=results.epoch, y=relu_loss, ax=ax1, label='loss')\n",
    "sns.lineplot(x=results.epoch, y=relu_accuracy, ax=ax2, label='accuracy')\n",
    "ax1.legend();"
   ]
  },
  {
   "cell_type": "markdown",
   "metadata": {},
   "source": [
    "### All of it (epochs, batch, relu)"
   ]
  },
  {
   "cell_type": "code",
   "execution_count": 22,
   "metadata": {
    "ExecuteTime": {
     "end_time": "2023-01-19T22:13:34.089915Z",
     "start_time": "2023-01-19T22:13:26.476914Z"
    }
   },
   "outputs": [
    {
     "name": "stdout",
     "output_type": "stream",
     "text": [
      "Epoch 1/100\n",
      "115/115 [==============================] - 0s 617us/step - loss: 0.6808 - accuracy: 0.5544\n",
      "Epoch 2/100\n",
      "115/115 [==============================] - 0s 639us/step - loss: 0.6246 - accuracy: 0.6701\n",
      "Epoch 3/100\n",
      "115/115 [==============================] - 0s 617us/step - loss: 0.5753 - accuracy: 0.7659\n",
      "Epoch 4/100\n",
      "115/115 [==============================] - 0s 600us/step - loss: 0.5305 - accuracy: 0.8068\n",
      "Epoch 5/100\n",
      "115/115 [==============================] - 0s 478us/step - loss: 0.4906 - accuracy: 0.8355\n",
      "Epoch 6/100\n",
      "115/115 [==============================] - 0s 526us/step - loss: 0.4561 - accuracy: 0.8512\n",
      "Epoch 7/100\n",
      "115/115 [==============================] - 0s 504us/step - loss: 0.4254 - accuracy: 0.8599\n",
      "Epoch 8/100\n",
      "115/115 [==============================] - 0s 591us/step - loss: 0.3958 - accuracy: 0.8634\n",
      "Epoch 9/100\n",
      "115/115 [==============================] - 0s 665us/step - loss: 0.3686 - accuracy: 0.8755\n",
      "Epoch 10/100\n",
      "115/115 [==============================] - 0s 622us/step - loss: 0.3435 - accuracy: 0.8764\n",
      "Epoch 11/100\n",
      "115/115 [==============================] - 0s 574us/step - loss: 0.3190 - accuracy: 0.8834\n",
      "Epoch 12/100\n",
      "115/115 [==============================] - 0s 552us/step - loss: 0.2983 - accuracy: 0.8895\n",
      "Epoch 13/100\n",
      "115/115 [==============================] - 0s 583us/step - loss: 0.2812 - accuracy: 0.8895\n",
      "Epoch 14/100\n",
      "115/115 [==============================] - 0s 552us/step - loss: 0.2678 - accuracy: 0.8930\n",
      "Epoch 15/100\n",
      "115/115 [==============================] - 0s 604us/step - loss: 0.2553 - accuracy: 0.9008\n",
      "Epoch 16/100\n",
      "115/115 [==============================] - 0s 670us/step - loss: 0.2476 - accuracy: 0.8982\n",
      "Epoch 17/100\n",
      "115/115 [==============================] - 0s 565us/step - loss: 0.2384 - accuracy: 0.9017\n",
      "Epoch 18/100\n",
      "115/115 [==============================] - 0s 583us/step - loss: 0.2311 - accuracy: 0.9051\n",
      "Epoch 19/100\n",
      "115/115 [==============================] - 0s 578us/step - loss: 0.2236 - accuracy: 0.9095\n",
      "Epoch 20/100\n",
      "115/115 [==============================] - 0s 561us/step - loss: 0.2198 - accuracy: 0.9112\n",
      "Epoch 21/100\n",
      "115/115 [==============================] - 0s 539us/step - loss: 0.2153 - accuracy: 0.9104\n",
      "Epoch 22/100\n",
      "115/115 [==============================] - 0s 587us/step - loss: 0.2100 - accuracy: 0.9130\n",
      "Epoch 23/100\n",
      "115/115 [==============================] - 0s 591us/step - loss: 0.2067 - accuracy: 0.9112\n",
      "Epoch 24/100\n",
      "115/115 [==============================] - 0s 570us/step - loss: 0.1998 - accuracy: 0.9173\n",
      "Epoch 25/100\n",
      "115/115 [==============================] - 0s 539us/step - loss: 0.1977 - accuracy: 0.9173\n",
      "Epoch 26/100\n",
      "115/115 [==============================] - 0s 496us/step - loss: 0.1951 - accuracy: 0.9130\n",
      "Epoch 27/100\n",
      "115/115 [==============================] - 0s 648us/step - loss: 0.1911 - accuracy: 0.9156\n",
      "Epoch 28/100\n",
      "115/115 [==============================] - 0s 539us/step - loss: 0.1876 - accuracy: 0.9173\n",
      "Epoch 29/100\n",
      "115/115 [==============================] - 0s 548us/step - loss: 0.1828 - accuracy: 0.9199\n",
      "Epoch 30/100\n",
      "115/115 [==============================] - 0s 513us/step - loss: 0.1793 - accuracy: 0.9217\n",
      "Epoch 31/100\n",
      "115/115 [==============================] - 0s 643us/step - loss: 0.1780 - accuracy: 0.9191\n",
      "Epoch 32/100\n",
      "115/115 [==============================] - 0s 887us/step - loss: 0.1737 - accuracy: 0.9286\n",
      "Epoch 33/100\n",
      "115/115 [==============================] - 0s 543us/step - loss: 0.1724 - accuracy: 0.9191\n",
      "Epoch 34/100\n",
      "115/115 [==============================] - ETA: 0s - loss: 0.1699 - accuracy: 0.92 - 0s 643us/step - loss: 0.1676 - accuracy: 0.9286\n",
      "Epoch 35/100\n",
      "115/115 [==============================] - 0s 683us/step - loss: 0.1655 - accuracy: 0.9278\n",
      "Epoch 36/100\n",
      "115/115 [==============================] - 0s 626us/step - loss: 0.1638 - accuracy: 0.9295\n",
      "Epoch 37/100\n",
      "115/115 [==============================] - 0s 757us/step - loss: 0.1639 - accuracy: 0.9278\n",
      "Epoch 38/100\n",
      "115/115 [==============================] - 0s 639us/step - loss: 0.1569 - accuracy: 0.9365\n",
      "Epoch 39/100\n",
      "115/115 [==============================] - 0s 691us/step - loss: 0.1556 - accuracy: 0.9330\n",
      "Epoch 40/100\n",
      "115/115 [==============================] - 0s 743us/step - loss: 0.1537 - accuracy: 0.9330\n",
      "Epoch 41/100\n",
      "115/115 [==============================] - 0s 652us/step - loss: 0.1511 - accuracy: 0.9321\n",
      "Epoch 42/100\n",
      "115/115 [==============================] - 0s 570us/step - loss: 0.1469 - accuracy: 0.9295\n",
      "Epoch 43/100\n",
      "115/115 [==============================] - 0s 687us/step - loss: 0.1493 - accuracy: 0.9356\n",
      "Epoch 44/100\n",
      "115/115 [==============================] - 0s 539us/step - loss: 0.1452 - accuracy: 0.9373\n",
      "Epoch 45/100\n",
      "115/115 [==============================] - 0s 704us/step - loss: 0.1430 - accuracy: 0.9426\n",
      "Epoch 46/100\n",
      "115/115 [==============================] - 0s 670us/step - loss: 0.1400 - accuracy: 0.9399\n",
      "Epoch 47/100\n",
      "115/115 [==============================] - 0s 643us/step - loss: 0.1385 - accuracy: 0.9391\n",
      "Epoch 48/100\n",
      "115/115 [==============================] - 0s 600us/step - loss: 0.1393 - accuracy: 0.9391\n",
      "Epoch 49/100\n",
      "115/115 [==============================] - 0s 539us/step - loss: 0.1349 - accuracy: 0.9417\n",
      "Epoch 50/100\n",
      "115/115 [==============================] - 0s 517us/step - loss: 0.1323 - accuracy: 0.9469\n",
      "Epoch 51/100\n",
      "115/115 [==============================] - 0s 565us/step - loss: 0.1279 - accuracy: 0.9478\n",
      "Epoch 52/100\n",
      "115/115 [==============================] - 0s 583us/step - loss: 0.1292 - accuracy: 0.9487\n",
      "Epoch 53/100\n",
      "115/115 [==============================] - 0s 535us/step - loss: 0.1274 - accuracy: 0.9443\n",
      "Epoch 54/100\n",
      "115/115 [==============================] - 0s 570us/step - loss: 0.1251 - accuracy: 0.9478\n",
      "Epoch 55/100\n",
      "115/115 [==============================] - 0s 504us/step - loss: 0.1228 - accuracy: 0.9460\n",
      "Epoch 56/100\n",
      "115/115 [==============================] - 0s 630us/step - loss: 0.1217 - accuracy: 0.9504\n",
      "Epoch 57/100\n",
      "115/115 [==============================] - 0s 643us/step - loss: 0.1189 - accuracy: 0.9547\n",
      "Epoch 58/100\n",
      "115/115 [==============================] - 0s 552us/step - loss: 0.1154 - accuracy: 0.9521\n",
      "Epoch 59/100\n",
      "115/115 [==============================] - 0s 539us/step - loss: 0.1146 - accuracy: 0.9539\n",
      "Epoch 60/100\n",
      "115/115 [==============================] - 0s 570us/step - loss: 0.1108 - accuracy: 0.9582\n",
      "Epoch 61/100\n",
      "115/115 [==============================] - 0s 522us/step - loss: 0.1104 - accuracy: 0.9565\n",
      "Epoch 62/100\n",
      "115/115 [==============================] - 0s 561us/step - loss: 0.1100 - accuracy: 0.9565\n",
      "Epoch 63/100\n",
      "115/115 [==============================] - 0s 535us/step - loss: 0.1110 - accuracy: 0.9591\n",
      "Epoch 64/100\n",
      "115/115 [==============================] - 0s 526us/step - loss: 0.1049 - accuracy: 0.9617\n",
      "Epoch 65/100\n",
      "115/115 [==============================] - 0s 635us/step - loss: 0.1055 - accuracy: 0.9591\n",
      "Epoch 66/100\n",
      "115/115 [==============================] - 0s 517us/step - loss: 0.1020 - accuracy: 0.9652\n",
      "Epoch 67/100\n",
      "115/115 [==============================] - 0s 543us/step - loss: 0.1010 - accuracy: 0.9626\n",
      "Epoch 68/100\n",
      "115/115 [==============================] - 0s 539us/step - loss: 0.1004 - accuracy: 0.9617\n",
      "Epoch 69/100\n",
      "115/115 [==============================] - 0s 583us/step - loss: 0.0977 - accuracy: 0.9626\n",
      "Epoch 70/100\n",
      "115/115 [==============================] - 0s 574us/step - loss: 0.0967 - accuracy: 0.9634\n",
      "Epoch 71/100\n",
      "115/115 [==============================] - 0s 491us/step - loss: 0.0952 - accuracy: 0.9634\n",
      "Epoch 72/100\n",
      "115/115 [==============================] - 0s 665us/step - loss: 0.0935 - accuracy: 0.9626\n",
      "Epoch 73/100\n",
      "115/115 [==============================] - 0s 678us/step - loss: 0.0925 - accuracy: 0.9652\n",
      "Epoch 74/100\n",
      "115/115 [==============================] - 0s 557us/step - loss: 0.0898 - accuracy: 0.9678\n",
      "Epoch 75/100\n",
      "115/115 [==============================] - 0s 504us/step - loss: 0.0879 - accuracy: 0.9687\n",
      "Epoch 76/100\n",
      "115/115 [==============================] - 0s 539us/step - loss: 0.0883 - accuracy: 0.9678\n",
      "Epoch 77/100\n",
      "115/115 [==============================] - 0s 817us/step - loss: 0.0856 - accuracy: 0.9687\n",
      "Epoch 78/100\n",
      "115/115 [==============================] - 0s 596us/step - loss: 0.0875 - accuracy: 0.9695\n",
      "Epoch 79/100\n",
      "115/115 [==============================] - 0s 700us/step - loss: 0.0864 - accuracy: 0.9721\n",
      "Epoch 80/100\n",
      "115/115 [==============================] - 0s 643us/step - loss: 0.0826 - accuracy: 0.9713\n",
      "Epoch 81/100\n",
      "115/115 [==============================] - 0s 509us/step - loss: 0.0805 - accuracy: 0.9730\n",
      "Epoch 82/100\n",
      "115/115 [==============================] - 0s 478us/step - loss: 0.0779 - accuracy: 0.9704\n",
      "Epoch 83/100\n",
      "115/115 [==============================] - 0s 617us/step - loss: 0.0760 - accuracy: 0.9774\n",
      "Epoch 84/100\n",
      "115/115 [==============================] - 0s 552us/step - loss: 0.0768 - accuracy: 0.9713\n",
      "Epoch 85/100\n",
      "115/115 [==============================] - 0s 491us/step - loss: 0.0764 - accuracy: 0.9739\n",
      "Epoch 86/100\n",
      "115/115 [==============================] - 0s 578us/step - loss: 0.0764 - accuracy: 0.9695\n",
      "Epoch 87/100\n",
      "115/115 [==============================] - 0s 539us/step - loss: 0.0722 - accuracy: 0.9748\n",
      "Epoch 88/100\n",
      "115/115 [==============================] - 0s 630us/step - loss: 0.0722 - accuracy: 0.9721\n",
      "Epoch 89/100\n",
      "115/115 [==============================] - 0s 535us/step - loss: 0.0708 - accuracy: 0.9765\n",
      "Epoch 90/100\n",
      "115/115 [==============================] - 0s 517us/step - loss: 0.0699 - accuracy: 0.9765\n",
      "Epoch 91/100\n",
      "115/115 [==============================] - 0s 539us/step - loss: 0.0677 - accuracy: 0.9782\n",
      "Epoch 92/100\n",
      "115/115 [==============================] - 0s 665us/step - loss: 0.0633 - accuracy: 0.9765\n",
      "Epoch 93/100\n",
      "115/115 [==============================] - 0s 757us/step - loss: 0.0663 - accuracy: 0.9756\n",
      "Epoch 94/100\n",
      "115/115 [==============================] - 0s 617us/step - loss: 0.0652 - accuracy: 0.9765\n",
      "Epoch 95/100\n",
      "115/115 [==============================] - 0s 543us/step - loss: 0.0660 - accuracy: 0.9748\n",
      "Epoch 96/100\n",
      "115/115 [==============================] - 0s 474us/step - loss: 0.0638 - accuracy: 0.9774\n",
      "Epoch 97/100\n",
      "115/115 [==============================] - 0s 496us/step - loss: 0.0607 - accuracy: 0.9800\n",
      "Epoch 98/100\n",
      "115/115 [==============================] - 0s 543us/step - loss: 0.0619 - accuracy: 0.9765\n",
      "Epoch 99/100\n",
      "115/115 [==============================] - 0s 543us/step - loss: 0.0593 - accuracy: 0.9800\n",
      "Epoch 100/100\n",
      "115/115 [==============================] - 0s 570us/step - loss: 0.0585 - accuracy: 0.9800\n"
     ]
    }
   ],
   "source": [
    "model = Sequential()\n",
    "model.add(Dense(12, activation='relu', input_dim=64))\n",
    "model.add(Dense(8, activation='relu'))\n",
    "model.add(Dense(1, activation='sigmoid'))\n",
    "\n",
    "model.compile(optimizer='SGD',\n",
    "              loss='binary_crossentropy',\n",
    "              metrics=['accuracy'])\n",
    "\n",
    "# Assign the variable history to store the results,\n",
    "# and set verbose=1 so we can see the output.\n",
    "# increase epochs\n",
    "\n",
    "\n",
    "results = model.fit(X_pure_train, y_pure_train, epochs=100, batch_size=10, verbose=1)"
   ]
  },
  {
   "cell_type": "code",
   "execution_count": 23,
   "metadata": {
    "ExecuteTime": {
     "end_time": "2023-01-19T22:13:34.771915Z",
     "start_time": "2023-01-19T22:13:34.386415Z"
    }
   },
   "outputs": [
    {
     "data": {
      "image/png": "[encoded data removed]",
      "text/plain": [
       "<Figure size 720x360 with 2 Axes>"
      ]
     },
     "metadata": {
      "needs_background": "light"
     },
     "output_type": "display_data"
    }
   ],
   "source": [
    "relu_loss = results.history['loss']\n",
    "relu_accuracy = results.history['accuracy']\n",
    "\n",
    "fig, (ax1, ax2) = plt.subplots(1, 2, figsize=(10, 5))\n",
    "sns.lineplot(x=results.epoch, y=relu_loss, ax=ax1, label='loss')\n",
    "sns.lineplot(x=results.epoch, y=relu_accuracy, ax=ax2, label='accuracy')\n",
    "ax1.legend();"
   ]
  },
  {
   "cell_type": "markdown",
   "metadata": {},
   "source": [
    "### Side note: learning rate"
   ]
  },
  {
   "cell_type": "markdown",
   "metadata": {},
   "source": [
    "If we increase the learning rate to a very high number, we see that our model overshoots the minimum, and starts bouncing all around."
   ]
  },
  {
   "cell_type": "code",
   "execution_count": 30,
   "metadata": {
    "ExecuteTime": {
     "end_time": "2023-01-19T22:20:21.001366Z",
     "start_time": "2023-01-19T22:20:17.278867Z"
    }
   },
   "outputs": [
    {
     "name": "stdout",
     "output_type": "stream",
     "text": [
      "Epoch 1/30\n",
      "115/115 [==============================] - 0s 696us/step - loss: 0.6395 - accuracy: 0.7023\n",
      "Epoch 2/30\n",
      "115/115 [==============================] - 0s 648us/step - loss: 0.5768 - accuracy: 0.7963\n",
      "Epoch 3/30\n",
      "115/115 [==============================] - 0s 665us/step - loss: 0.4978 - accuracy: 0.8372\n",
      "Epoch 4/30\n",
      "115/115 [==============================] - 0s 557us/step - loss: 0.4185 - accuracy: 0.8538\n",
      "Epoch 5/30\n",
      "115/115 [==============================] - 0s 743us/step - loss: 0.3584 - accuracy: 0.8695\n",
      "Epoch 6/30\n",
      "115/115 [==============================] - 0s 730us/step - loss: 0.3185 - accuracy: 0.8816\n",
      "Epoch 7/30\n",
      "115/115 [==============================] - 0s 778us/step - loss: 0.2895 - accuracy: 0.8895\n",
      "Epoch 8/30\n",
      "115/115 [==============================] - 0s 696us/step - loss: 0.2706 - accuracy: 0.8903\n",
      "Epoch 9/30\n",
      "115/115 [==============================] - 0s 804us/step - loss: 0.2553 - accuracy: 0.8999\n",
      "Epoch 10/30\n",
      "115/115 [==============================] - 0s 857us/step - loss: 0.2432 - accuracy: 0.9008\n",
      "Epoch 11/30\n",
      "115/115 [==============================] - 0s 835us/step - loss: 0.2373 - accuracy: 0.9077\n",
      "Epoch 12/30\n",
      "115/115 [==============================] - 0s 678us/step - loss: 0.2301 - accuracy: 0.9017\n",
      "Epoch 13/30\n",
      "115/115 [==============================] - 0s 704us/step - loss: 0.2245 - accuracy: 0.9069\n",
      "Epoch 14/30\n",
      "115/115 [==============================] - 0s 643us/step - loss: 0.2187 - accuracy: 0.9034\n",
      "Epoch 15/30\n",
      "115/115 [==============================] - 0s 748us/step - loss: 0.2131 - accuracy: 0.9147\n",
      "Epoch 16/30\n",
      "115/115 [==============================] - 0s 735us/step - loss: 0.2101 - accuracy: 0.9147\n",
      "Epoch 17/30\n",
      "115/115 [==============================] - 0s 743us/step - loss: 0.2085 - accuracy: 0.9086\n",
      "Epoch 18/30\n",
      "115/115 [==============================] - 0s 648us/step - loss: 0.2038 - accuracy: 0.9164\n",
      "Epoch 19/30\n",
      "115/115 [==============================] - 0s 735us/step - loss: 0.1996 - accuracy: 0.9173\n",
      "Epoch 20/30\n",
      "115/115 [==============================] - 0s 783us/step - loss: 0.1972 - accuracy: 0.9121\n",
      "Epoch 21/30\n",
      "115/115 [==============================] - 0s 822us/step - loss: 0.1946 - accuracy: 0.9164\n",
      "Epoch 22/30\n",
      "115/115 [==============================] - 0s 848us/step - loss: 0.1902 - accuracy: 0.9147\n",
      "Epoch 23/30\n",
      "115/115 [==============================] - 0s 596us/step - loss: 0.1894 - accuracy: 0.9173\n",
      "Epoch 24/30\n",
      "115/115 [==============================] - 0s 713us/step - loss: 0.1827 - accuracy: 0.9225\n",
      "Epoch 25/30\n",
      "115/115 [==============================] - 0s 670us/step - loss: 0.1827 - accuracy: 0.9243\n",
      "Epoch 26/30\n",
      "115/115 [==============================] - 0s 848us/step - loss: 0.1788 - accuracy: 0.9225\n",
      "Epoch 27/30\n",
      "115/115 [==============================] - 0s 970us/step - loss: 0.1770 - accuracy: 0.9208\n",
      "Epoch 28/30\n",
      "115/115 [==============================] - 0s 935us/step - loss: 0.1754 - accuracy: 0.9243\n",
      "Epoch 29/30\n",
      "115/115 [==============================] - 0s 826us/step - loss: 0.1745 - accuracy: 0.9252\n",
      "Epoch 30/30\n",
      "115/115 [==============================] - 0s 704us/step - loss: 0.1669 - accuracy: 0.9260\n"
     ]
    },
    {
     "data": {
      "image/png": "[encoded data removed]",
      "text/plain": [
       "<Figure size 720x360 with 2 Axes>"
      ]
     },
     "metadata": {
      "needs_background": "light"
     },
     "output_type": "display_data"
    }
   ],
   "source": [
    "model = Sequential()\n",
    "\n",
    "sgd = SGD()\n",
    "\n",
    "\n",
    "model.add(Dense(12, activation='relu', input_dim=64))\n",
    "model.add(Dense(8, activation='relu'))\n",
    "model.add(Dense(1, activation='sigmoid'))\n",
    "\n",
    "model.compile(optimizer=sgd,\n",
    "              loss='binary_crossentropy',\n",
    "              metrics=['accuracy'])\n",
    "\n",
    "results = model.fit(X_pure_train, y_pure_train,\n",
    "                    epochs=30, batch_size=10, verbose=1)\n",
    "\n",
    "relu_loss = results.history['loss']\n",
    "relu_accuracy = results.history['accuracy']\n",
    "\n",
    "fig, (ax1, ax2) = plt.subplots(1, 2, figsize=(10, 5))\n",
    "sns.lineplot(x=results.epoch, y=relu_loss, ax=ax1, label='loss')\n",
    "sns.lineplot(x=results.epoch, y=relu_accuracy, ax=ax2, label='accuracy')\n",
    "ax1.legend();\n"
   ]
  },
  {
   "cell_type": "markdown",
   "metadata": {},
   "source": [
    "### Exercise"
   ]
  },
  {
   "cell_type": "markdown",
   "metadata": {},
   "source": [
    "We have been looking only at our training set. Let's add in our validation set to the picture. Check the docstring for the `.fit()` method and add in our validation data."
   ]
  },
  {
   "cell_type": "code",
   "execution_count": 37,
   "metadata": {
    "ExecuteTime": {
     "end_time": "2023-01-19T22:25:15.698487Z",
     "start_time": "2023-01-19T22:25:11.111487Z"
    }
   },
   "outputs": [
    {
     "name": "stdout",
     "output_type": "stream",
     "text": [
      "Epoch 1/30\n",
      "115/115 [==============================] - 0s 2ms/step - loss: 0.6582 - accuracy: 0.6571 - val_loss: 0.5380 - val_accuracy: 0.8194\n",
      "Epoch 2/30\n",
      "115/115 [==============================] - 0s 883us/step - loss: 0.4289 - accuracy: 0.8425 - val_loss: 0.3533 - val_accuracy: 0.8542\n",
      "Epoch 3/30\n",
      "115/115 [==============================] - 0s 1000us/step - loss: 0.3153 - accuracy: 0.8755 - val_loss: 0.3093 - val_accuracy: 0.8646\n",
      "Epoch 4/30\n",
      "115/115 [==============================] - 0s 1ms/step - loss: 0.2672 - accuracy: 0.8912 - val_loss: 0.2535 - val_accuracy: 0.8889\n",
      "Epoch 5/30\n",
      "115/115 [==============================] - 0s 1ms/step - loss: 0.2398 - accuracy: 0.9025 - val_loss: 0.2681 - val_accuracy: 0.8854\n",
      "Epoch 6/30\n",
      "115/115 [==============================] - 0s 1ms/step - loss: 0.2210 - accuracy: 0.9104 - val_loss: 0.2374 - val_accuracy: 0.9062\n",
      "Epoch 7/30\n",
      "115/115 [==============================] - 0s 983us/step - loss: 0.2117 - accuracy: 0.9130 - val_loss: 0.2069 - val_accuracy: 0.9236\n",
      "Epoch 8/30\n",
      "115/115 [==============================] - 0s 952us/step - loss: 0.1974 - accuracy: 0.9191 - val_loss: 0.2021 - val_accuracy: 0.9271\n",
      "Epoch 9/30\n",
      "115/115 [==============================] - 0s 1ms/step - loss: 0.1805 - accuracy: 0.9243 - val_loss: 0.2091 - val_accuracy: 0.9236\n",
      "Epoch 10/30\n",
      "115/115 [==============================] - 0s 961us/step - loss: 0.1691 - accuracy: 0.9269 - val_loss: 0.2014 - val_accuracy: 0.9236\n",
      "Epoch 11/30\n",
      "115/115 [==============================] - 0s 1ms/step - loss: 0.1637 - accuracy: 0.9295 - val_loss: 0.1714 - val_accuracy: 0.9375\n",
      "Epoch 12/30\n",
      "115/115 [==============================] - 0s 943us/step - loss: 0.1515 - accuracy: 0.9356 - val_loss: 0.1767 - val_accuracy: 0.9410\n",
      "Epoch 13/30\n",
      "115/115 [==============================] - 0s 974us/step - loss: 0.1396 - accuracy: 0.9391 - val_loss: 0.1642 - val_accuracy: 0.9410\n",
      "Epoch 14/30\n",
      "115/115 [==============================] - 0s 1ms/step - loss: 0.1304 - accuracy: 0.9434 - val_loss: 0.1930 - val_accuracy: 0.9375\n",
      "Epoch 15/30\n",
      "115/115 [==============================] - 0s 926us/step - loss: 0.1214 - accuracy: 0.9556 - val_loss: 0.1533 - val_accuracy: 0.9410\n",
      "Epoch 16/30\n",
      "115/115 [==============================] - 0s 891us/step - loss: 0.1136 - accuracy: 0.9556 - val_loss: 0.1475 - val_accuracy: 0.9479\n",
      "Epoch 17/30\n",
      "115/115 [==============================] - 0s 974us/step - loss: 0.1081 - accuracy: 0.9617 - val_loss: 0.1391 - val_accuracy: 0.9410\n",
      "Epoch 18/30\n",
      "115/115 [==============================] - 0s 1ms/step - loss: 0.1014 - accuracy: 0.9600 - val_loss: 0.1393 - val_accuracy: 0.9444\n",
      "Epoch 19/30\n",
      "115/115 [==============================] - 0s 2ms/step - loss: 0.0950 - accuracy: 0.9669 - val_loss: 0.1427 - val_accuracy: 0.9444\n",
      "Epoch 20/30\n",
      "115/115 [==============================] - 0s 996us/step - loss: 0.0920 - accuracy: 0.9643 - val_loss: 0.1317 - val_accuracy: 0.9444\n",
      "Epoch 21/30\n",
      "115/115 [==============================] - 0s 974us/step - loss: 0.0853 - accuracy: 0.9713 - val_loss: 0.1255 - val_accuracy: 0.9549\n",
      "Epoch 22/30\n",
      "115/115 [==============================] - 0s 1ms/step - loss: 0.0853 - accuracy: 0.9695 - val_loss: 0.1306 - val_accuracy: 0.9514\n",
      "Epoch 23/30\n",
      "115/115 [==============================] - 0s 1ms/step - loss: 0.0801 - accuracy: 0.9661 - val_loss: 0.1327 - val_accuracy: 0.9549\n",
      "Epoch 24/30\n",
      "115/115 [==============================] - 0s 2ms/step - loss: 0.0748 - accuracy: 0.9713 - val_loss: 0.1225 - val_accuracy: 0.9479\n",
      "Epoch 25/30\n",
      "115/115 [==============================] - 0s 883us/step - loss: 0.0712 - accuracy: 0.9756 - val_loss: 0.1243 - val_accuracy: 0.9549\n",
      "Epoch 26/30\n",
      "115/115 [==============================] - 0s 835us/step - loss: 0.0682 - accuracy: 0.9765 - val_loss: 0.1230 - val_accuracy: 0.9549\n",
      "Epoch 27/30\n",
      "115/115 [==============================] - 0s 1ms/step - loss: 0.0659 - accuracy: 0.9756 - val_loss: 0.1370 - val_accuracy: 0.9479\n",
      "Epoch 28/30\n",
      "115/115 [==============================] - 0s 1ms/step - loss: 0.0608 - accuracy: 0.9817 - val_loss: 0.1090 - val_accuracy: 0.9514\n",
      "Epoch 29/30\n",
      "115/115 [==============================] - 0s 965us/step - loss: 0.0586 - accuracy: 0.9817 - val_loss: 0.1115 - val_accuracy: 0.9583\n",
      "Epoch 30/30\n",
      "115/115 [==============================] - 0s 1ms/step - loss: 0.0614 - accuracy: 0.9800 - val_loss: 0.1134 - val_accuracy: 0.9549\n"
     ]
    }
   ],
   "source": [
    "model = Sequential()\n",
    "model.add(Dense(12, activation='relu', input_dim=64))\n",
    "model.add(Dense(8, activation='relu'))\n",
    "# model.add(Dense(4, activation='relu'))\n",
    "model.add(Dense(1, activation='sigmoid'))\n",
    "\n",
    "model.compile(optimizer='adam',\n",
    "              loss='binary_crossentropy',\n",
    "              metrics=['accuracy'])\n",
    "\n",
    "\n",
    "## YOUR CODE HERE\n",
    "\n",
    "\n",
    "results = model.fit(X_pure_train, y_pure_train,\n",
    "                    epochs=30, \n",
    "                    batch_size=10, \n",
    "                    verbose=1,\n",
    "                    validation_data=(X_val, y_val))"
   ]
  },
  {
   "cell_type": "code",
   "execution_count": 38,
   "metadata": {
    "ExecuteTime": {
     "end_time": "2023-01-19T22:25:16.194487Z",
     "start_time": "2023-01-19T22:25:16.042988Z"
    },
    "collapsed": true
   },
   "outputs": [
    {
     "data": {
      "text/plain": [
       "{'loss': [0.6582072377204895,\n",
       "  0.42885661125183105,\n",
       "  0.31530553102493286,\n",
       "  0.2671569287776947,\n",
       "  0.23978975415229797,\n",
       "  0.22101923823356628,\n",
       "  0.21173302829265594,\n",
       "  0.19739209115505219,\n",
       "  0.18046657741069794,\n",
       "  0.16910812258720398,\n",
       "  0.16368572413921356,\n",
       "  0.1515119969844818,\n",
       "  0.13960647583007812,\n",
       "  0.13042683899402618,\n",
       "  0.12135207653045654,\n",
       "  0.11361412703990936,\n",
       "  0.10805061459541321,\n",
       "  0.10141109675168991,\n",
       "  0.09497219324111938,\n",
       "  0.09195216745138168,\n",
       "  0.08532789349555969,\n",
       "  0.08533570170402527,\n",
       "  0.08014397323131561,\n",
       "  0.07481054961681366,\n",
       "  0.07118075340986252,\n",
       "  0.06816211342811584,\n",
       "  0.0658666118979454,\n",
       "  0.06078367307782173,\n",
       "  0.058574289083480835,\n",
       "  0.06138451397418976],\n",
       " 'accuracy': [0.6570931077003479,\n",
       "  0.842471718788147,\n",
       "  0.8755439519882202,\n",
       "  0.8912097215652466,\n",
       "  0.902523934841156,\n",
       "  0.9103568196296692,\n",
       "  0.9129678010940552,\n",
       "  0.9190600514411926,\n",
       "  0.9242819547653198,\n",
       "  0.9268929362297058,\n",
       "  0.9295039176940918,\n",
       "  0.9355961680412292,\n",
       "  0.9390774369239807,\n",
       "  0.9434290528297424,\n",
       "  0.9556135535240173,\n",
       "  0.9556135535240173,\n",
       "  0.9617058038711548,\n",
       "  0.959965169429779,\n",
       "  0.9669277667999268,\n",
       "  0.9643167853355408,\n",
       "  0.9712793827056885,\n",
       "  0.9695387482643127,\n",
       "  0.9660574197769165,\n",
       "  0.9712793827056885,\n",
       "  0.9756309986114502,\n",
       "  0.9765012860298157,\n",
       "  0.9756309986114502,\n",
       "  0.9817232489585876,\n",
       "  0.9817232489585876,\n",
       "  0.9799826145172119],\n",
       " 'val_loss': [0.5380308628082275,\n",
       "  0.3532818853855133,\n",
       "  0.3093355894088745,\n",
       "  0.2534991502761841,\n",
       "  0.2680780291557312,\n",
       "  0.23737090826034546,\n",
       "  0.20686620473861694,\n",
       "  0.20211276412010193,\n",
       "  0.2091437131166458,\n",
       "  0.20143982768058777,\n",
       "  0.17143933475017548,\n",
       "  0.1767125427722931,\n",
       "  0.16424530744552612,\n",
       "  0.1930134892463684,\n",
       "  0.15333639085292816,\n",
       "  0.1474723368883133,\n",
       "  0.13911102712154388,\n",
       "  0.13926886022090912,\n",
       "  0.14266683161258698,\n",
       "  0.13174626231193542,\n",
       "  0.12553301453590393,\n",
       "  0.13056860864162445,\n",
       "  0.1327250599861145,\n",
       "  0.12254726886749268,\n",
       "  0.12429583072662354,\n",
       "  0.12301961332559586,\n",
       "  0.13704849779605865,\n",
       "  0.10898605734109879,\n",
       "  0.1114879697561264,\n",
       "  0.11339233815670013],\n",
       " 'val_accuracy': [0.8194444179534912,\n",
       "  0.8541666865348816,\n",
       "  0.8645833134651184,\n",
       "  0.8888888955116272,\n",
       "  0.8854166865348816,\n",
       "  0.90625,\n",
       "  0.9236111044883728,\n",
       "  0.9270833134651184,\n",
       "  0.9236111044883728,\n",
       "  0.9236111044883728,\n",
       "  0.9375,\n",
       "  0.9409722089767456,\n",
       "  0.9409722089767456,\n",
       "  0.9375,\n",
       "  0.9409722089767456,\n",
       "  0.9479166865348816,\n",
       "  0.9409722089767456,\n",
       "  0.9444444179534912,\n",
       "  0.9444444179534912,\n",
       "  0.9444444179534912,\n",
       "  0.9548611044883728,\n",
       "  0.9513888955116272,\n",
       "  0.9548611044883728,\n",
       "  0.9479166865348816,\n",
       "  0.9548611044883728,\n",
       "  0.9548611044883728,\n",
       "  0.9479166865348816,\n",
       "  0.9513888955116272,\n",
       "  0.9583333134651184,\n",
       "  0.9548611044883728]}"
      ]
     },
     "execution_count": 38,
     "metadata": {},
     "output_type": "execute_result"
    }
   ],
   "source": [
    "results.history"
   ]
  },
  {
   "cell_type": "code",
   "execution_count": 33,
   "metadata": {
    "ExecuteTime": {
     "end_time": "2023-01-19T22:23:41.049903Z",
     "start_time": "2023-01-19T22:23:39.834402Z"
    }
   },
   "outputs": [
    {
     "data": {
      "image/png": "[encoded data removed]",
      "text/plain": [
       "<Figure size 720x360 with 2 Axes>"
      ]
     },
     "metadata": {
      "needs_background": "light"
     },
     "output_type": "display_data"
    }
   ],
   "source": [
    "train_loss = results.history['loss']\n",
    "train_acc = results.history['accuracy']\n",
    "val_loss = results.history['val_loss']\n",
    "val_acc = results.history['val_accuracy']\n",
    "\n",
    "fig, (ax1, ax2) = plt.subplots(1, 2, figsize=(10, 5))\n",
    "sns.lineplot(x=results.epoch, y=train_loss, ax=ax1, label='train_loss')\n",
    "sns.lineplot(x=results.epoch, y=train_acc, ax=ax2, label='train_accuracy')\n",
    "\n",
    "sns.lineplot(x=results.epoch, y=val_loss, ax=ax1, label='val_loss')\n",
    "sns.lineplot(x=results.epoch, y=val_acc, ax=ax2, label='val_accuracy')\n",
    "ax1.set_title('Loss')\n",
    "ax2.set_title('Accuracy')\n",
    "ax1.legend();"
   ]
  },
  {
   "cell_type": "code",
   "execution_count": 39,
   "metadata": {
    "ExecuteTime": {
     "end_time": "2023-01-19T22:25:22.068986Z",
     "start_time": "2023-01-19T22:25:21.920987Z"
    }
   },
   "outputs": [
    {
     "data": {
      "text/plain": [
       "0.9548611044883728"
      ]
     },
     "execution_count": 39,
     "metadata": {},
     "output_type": "execute_result"
    }
   ],
   "source": [
    "results.history['val_accuracy'][-1]"
   ]
  },
  {
   "cell_type": "code",
   "execution_count": 40,
   "metadata": {
    "ExecuteTime": {
     "end_time": "2023-01-19T22:25:22.657987Z",
     "start_time": "2023-01-19T22:25:22.527486Z"
    }
   },
   "outputs": [
    {
     "data": {
      "text/plain": [
       "0.9799826145172119"
      ]
     },
     "execution_count": 40,
     "metadata": {},
     "output_type": "execute_result"
    }
   ],
   "source": [
    "results.history['accuracy'][-1]"
   ]
  },
  {
   "cell_type": "markdown",
   "metadata": {},
   "source": [
    "## Connecting with `sklearn`"
   ]
  },
  {
   "cell_type": "markdown",
   "metadata": {},
   "source": [
    "The `keras.wrappers` submodule means that we can turn `keras` models into estimators that `sklearn` tools will recognize."
   ]
  },
  {
   "cell_type": "code",
   "execution_count": 41,
   "metadata": {
    "ExecuteTime": {
     "end_time": "2023-01-19T22:26:56.586716Z",
     "start_time": "2023-01-19T22:26:56.423716Z"
    }
   },
   "outputs": [
    {
     "ename": "TypeError",
     "evalue": "If no scoring is specified, the estimator passed should have a 'score' method. The estimator <tensorflow.python.keras.engine.sequential.Sequential object at 0x000001D4F6261E80> does not.",
     "output_type": "error",
     "traceback": [
      "\u001b[1;31m---------------------------------------------------------------------------\u001b[0m",
      "\u001b[1;31mTypeError\u001b[0m                                 Traceback (most recent call last)",
      "\u001b[1;32m<ipython-input-41-440685741601>\u001b[0m in \u001b[0;36m<module>\u001b[1;34m\u001b[0m\n\u001b[0;32m      1\u001b[0m \u001b[1;31m# This will throw an error.\u001b[0m\u001b[1;33m\u001b[0m\u001b[1;33m\u001b[0m\u001b[1;33m\u001b[0m\u001b[0m\n\u001b[0;32m      2\u001b[0m \u001b[1;33m\u001b[0m\u001b[0m\n\u001b[1;32m----> 3\u001b[1;33m \u001b[0mcross_val_score\u001b[0m\u001b[1;33m(\u001b[0m\u001b[0mmodel\u001b[0m\u001b[1;33m,\u001b[0m \u001b[0mX_pure_train\u001b[0m\u001b[1;33m,\u001b[0m \u001b[0my_pure_train\u001b[0m\u001b[1;33m)\u001b[0m\u001b[1;33m\u001b[0m\u001b[1;33m\u001b[0m\u001b[0m\n\u001b[0m",
      "\u001b[1;32m~\\anaconda3\\envs\\learn-env\\lib\\site-packages\\sklearn\\utils\\validation.py\u001b[0m in \u001b[0;36minner_f\u001b[1;34m(*args, **kwargs)\u001b[0m\n\u001b[0;32m     70\u001b[0m                           FutureWarning)\n\u001b[0;32m     71\u001b[0m         \u001b[0mkwargs\u001b[0m\u001b[1;33m.\u001b[0m\u001b[0mupdate\u001b[0m\u001b[1;33m(\u001b[0m\u001b[1;33m{\u001b[0m\u001b[0mk\u001b[0m\u001b[1;33m:\u001b[0m \u001b[0marg\u001b[0m \u001b[1;32mfor\u001b[0m \u001b[0mk\u001b[0m\u001b[1;33m,\u001b[0m \u001b[0marg\u001b[0m \u001b[1;32min\u001b[0m \u001b[0mzip\u001b[0m\u001b[1;33m(\u001b[0m\u001b[0msig\u001b[0m\u001b[1;33m.\u001b[0m\u001b[0mparameters\u001b[0m\u001b[1;33m,\u001b[0m \u001b[0margs\u001b[0m\u001b[1;33m)\u001b[0m\u001b[1;33m}\u001b[0m\u001b[1;33m)\u001b[0m\u001b[1;33m\u001b[0m\u001b[1;33m\u001b[0m\u001b[0m\n\u001b[1;32m---> 72\u001b[1;33m         \u001b[1;32mreturn\u001b[0m \u001b[0mf\u001b[0m\u001b[1;33m(\u001b[0m\u001b[1;33m**\u001b[0m\u001b[0mkwargs\u001b[0m\u001b[1;33m)\u001b[0m\u001b[1;33m\u001b[0m\u001b[1;33m\u001b[0m\u001b[0m\n\u001b[0m\u001b[0;32m     73\u001b[0m     \u001b[1;32mreturn\u001b[0m \u001b[0minner_f\u001b[0m\u001b[1;33m\u001b[0m\u001b[1;33m\u001b[0m\u001b[0m\n\u001b[0;32m     74\u001b[0m \u001b[1;33m\u001b[0m\u001b[0m\n",
      "\u001b[1;32m~\\anaconda3\\envs\\learn-env\\lib\\site-packages\\sklearn\\model_selection\\_validation.py\u001b[0m in \u001b[0;36mcross_val_score\u001b[1;34m(estimator, X, y, groups, scoring, cv, n_jobs, verbose, fit_params, pre_dispatch, error_score)\u001b[0m\n\u001b[0;32m    397\u001b[0m     \"\"\"\n\u001b[0;32m    398\u001b[0m     \u001b[1;31m# To ensure multimetric format is not supported\u001b[0m\u001b[1;33m\u001b[0m\u001b[1;33m\u001b[0m\u001b[1;33m\u001b[0m\u001b[0m\n\u001b[1;32m--> 399\u001b[1;33m     \u001b[0mscorer\u001b[0m \u001b[1;33m=\u001b[0m \u001b[0mcheck_scoring\u001b[0m\u001b[1;33m(\u001b[0m\u001b[0mestimator\u001b[0m\u001b[1;33m,\u001b[0m \u001b[0mscoring\u001b[0m\u001b[1;33m=\u001b[0m\u001b[0mscoring\u001b[0m\u001b[1;33m)\u001b[0m\u001b[1;33m\u001b[0m\u001b[1;33m\u001b[0m\u001b[0m\n\u001b[0m\u001b[0;32m    400\u001b[0m \u001b[1;33m\u001b[0m\u001b[0m\n\u001b[0;32m    401\u001b[0m     cv_results = cross_validate(estimator=estimator, X=X, y=y, groups=groups,\n",
      "\u001b[1;32m~\\anaconda3\\envs\\learn-env\\lib\\site-packages\\sklearn\\utils\\validation.py\u001b[0m in \u001b[0;36minner_f\u001b[1;34m(*args, **kwargs)\u001b[0m\n\u001b[0;32m     70\u001b[0m                           FutureWarning)\n\u001b[0;32m     71\u001b[0m         \u001b[0mkwargs\u001b[0m\u001b[1;33m.\u001b[0m\u001b[0mupdate\u001b[0m\u001b[1;33m(\u001b[0m\u001b[1;33m{\u001b[0m\u001b[0mk\u001b[0m\u001b[1;33m:\u001b[0m \u001b[0marg\u001b[0m \u001b[1;32mfor\u001b[0m \u001b[0mk\u001b[0m\u001b[1;33m,\u001b[0m \u001b[0marg\u001b[0m \u001b[1;32min\u001b[0m \u001b[0mzip\u001b[0m\u001b[1;33m(\u001b[0m\u001b[0msig\u001b[0m\u001b[1;33m.\u001b[0m\u001b[0mparameters\u001b[0m\u001b[1;33m,\u001b[0m \u001b[0margs\u001b[0m\u001b[1;33m)\u001b[0m\u001b[1;33m}\u001b[0m\u001b[1;33m)\u001b[0m\u001b[1;33m\u001b[0m\u001b[1;33m\u001b[0m\u001b[0m\n\u001b[1;32m---> 72\u001b[1;33m         \u001b[1;32mreturn\u001b[0m \u001b[0mf\u001b[0m\u001b[1;33m(\u001b[0m\u001b[1;33m**\u001b[0m\u001b[0mkwargs\u001b[0m\u001b[1;33m)\u001b[0m\u001b[1;33m\u001b[0m\u001b[1;33m\u001b[0m\u001b[0m\n\u001b[0m\u001b[0;32m     73\u001b[0m     \u001b[1;32mreturn\u001b[0m \u001b[0minner_f\u001b[0m\u001b[1;33m\u001b[0m\u001b[1;33m\u001b[0m\u001b[0m\n\u001b[0;32m     74\u001b[0m \u001b[1;33m\u001b[0m\u001b[0m\n",
      "\u001b[1;32m~\\anaconda3\\envs\\learn-env\\lib\\site-packages\\sklearn\\metrics\\_scorer.py\u001b[0m in \u001b[0;36mcheck_scoring\u001b[1;34m(estimator, scoring, allow_none)\u001b[0m\n\u001b[0;32m    423\u001b[0m             \u001b[1;32mreturn\u001b[0m \u001b[1;32mNone\u001b[0m\u001b[1;33m\u001b[0m\u001b[1;33m\u001b[0m\u001b[0m\n\u001b[0;32m    424\u001b[0m         \u001b[1;32melse\u001b[0m\u001b[1;33m:\u001b[0m\u001b[1;33m\u001b[0m\u001b[1;33m\u001b[0m\u001b[0m\n\u001b[1;32m--> 425\u001b[1;33m             raise TypeError(\n\u001b[0m\u001b[0;32m    426\u001b[0m                 \u001b[1;34m\"If no scoring is specified, the estimator passed should \"\u001b[0m\u001b[1;33m\u001b[0m\u001b[1;33m\u001b[0m\u001b[0m\n\u001b[0;32m    427\u001b[0m                 \u001b[1;34m\"have a 'score' method. The estimator %r does not.\"\u001b[0m\u001b[1;33m\u001b[0m\u001b[1;33m\u001b[0m\u001b[0m\n",
      "\u001b[1;31mTypeError\u001b[0m: If no scoring is specified, the estimator passed should have a 'score' method. The estimator <tensorflow.python.keras.engine.sequential.Sequential object at 0x000001D4F6261E80> does not."
     ]
    }
   ],
   "source": [
    "# This will throw an error.\n",
    "\n",
    "cross_val_score(model, X_pure_train, y_pure_train)"
   ]
  },
  {
   "cell_type": "code",
   "execution_count": 42,
   "metadata": {
    "ExecuteTime": {
     "end_time": "2023-01-19T22:29:23.596174Z",
     "start_time": "2023-01-19T22:29:23.369174Z"
    }
   },
   "outputs": [],
   "source": [
    "def build_model():\n",
    "    model = Sequential()\n",
    "    model.add(Dense(12, activation='relu', input_dim=64))\n",
    "    model.add(Dense(8, activation='relu'))\n",
    "    model.add(Dense(4, activation='relu'))\n",
    "    model.add(Dense(1, activation = 'sigmoid'))\n",
    "\n",
    "    model.compile(optimizer='adam',\n",
    "                  loss='binary_crossentropy',\n",
    "                  metrics=['accuracy'])\n",
    "    return model"
   ]
  },
  {
   "cell_type": "code",
   "execution_count": null,
   "metadata": {},
   "outputs": [],
   "source": [
    "model.fit()"
   ]
  },
  {
   "cell_type": "code",
   "execution_count": 44,
   "metadata": {
    "ExecuteTime": {
     "end_time": "2023-01-19T22:29:35.993172Z",
     "start_time": "2023-01-19T22:29:35.859672Z"
    }
   },
   "outputs": [],
   "source": [
    "keras_model = scikit_learn.KerasClassifier(build_model,\n",
    "                                          epochs=10,\n",
    "                                          batch_size=32,\n",
    "                                          verbose=2)"
   ]
  },
  {
   "cell_type": "code",
   "execution_count": 45,
   "metadata": {
    "ExecuteTime": {
     "end_time": "2023-01-19T22:29:37.991883Z",
     "start_time": "2023-01-19T22:29:37.853385Z"
    }
   },
   "outputs": [
    {
     "data": {
      "text/plain": [
       "tensorflow.python.keras.wrappers.scikit_learn.KerasClassifier"
      ]
     },
     "execution_count": 45,
     "metadata": {},
     "output_type": "execute_result"
    }
   ],
   "source": [
    "type(keras_model)"
   ]
  },
  {
   "cell_type": "code",
   "execution_count": 46,
   "metadata": {
    "ExecuteTime": {
     "end_time": "2023-01-19T22:30:20.841583Z",
     "start_time": "2023-01-19T22:30:14.888584Z"
    },
    "scrolled": true
   },
   "outputs": [
    {
     "name": "stdout",
     "output_type": "stream",
     "text": [
      "Epoch 1/10\n",
      "29/29 - 0s - loss: 0.6806 - accuracy: 0.4929\n",
      "Epoch 2/10\n",
      "29/29 - 0s - loss: 0.6464 - accuracy: 0.4951\n",
      "Epoch 3/10\n",
      "29/29 - 0s - loss: 0.6099 - accuracy: 0.5332\n",
      "Epoch 4/10\n",
      "29/29 - 0s - loss: 0.5695 - accuracy: 0.6355\n",
      "Epoch 5/10\n",
      "29/29 - 0s - loss: 0.5317 - accuracy: 0.7367\n",
      "Epoch 6/10\n",
      "29/29 - 0s - loss: 0.4995 - accuracy: 0.8357\n",
      "Epoch 7/10\n",
      "29/29 - 0s - loss: 0.4731 - accuracy: 0.8585\n",
      "Epoch 8/10\n",
      "29/29 - 0s - loss: 0.4537 - accuracy: 0.8760\n",
      "Epoch 9/10\n",
      "29/29 - 0s - loss: 0.4351 - accuracy: 0.8857\n",
      "Epoch 10/10\n",
      "29/29 - 0s - loss: 0.4190 - accuracy: 0.8912\n",
      "8/8 - 0s - loss: 0.4035 - accuracy: 0.8783\n",
      "Epoch 1/10\n",
      "29/29 - 0s - loss: 0.6276 - accuracy: 0.6746\n",
      "Epoch 2/10\n",
      "29/29 - 0s - loss: 0.5473 - accuracy: 0.7682\n",
      "Epoch 3/10\n",
      "29/29 - 0s - loss: 0.4712 - accuracy: 0.8292\n",
      "Epoch 4/10\n",
      "29/29 - 0s - loss: 0.4040 - accuracy: 0.8433\n",
      "Epoch 5/10\n",
      "29/29 - 0s - loss: 0.3472 - accuracy: 0.8618\n",
      "Epoch 6/10\n",
      "29/29 - 0s - loss: 0.3020 - accuracy: 0.8738\n",
      "Epoch 7/10\n",
      "29/29 - 0s - loss: 0.2678 - accuracy: 0.8934\n",
      "Epoch 8/10\n",
      "29/29 - 0s - loss: 0.2448 - accuracy: 0.9064\n",
      "Epoch 9/10\n",
      "29/29 - 0s - loss: 0.2220 - accuracy: 0.9108\n",
      "Epoch 10/10\n",
      "29/29 - 0s - loss: 0.2076 - accuracy: 0.9129\n",
      "8/8 - 0s - loss: 0.2116 - accuracy: 0.9217\n",
      "Epoch 1/10\n",
      "29/29 - 0s - loss: 0.6827 - accuracy: 0.5495\n",
      "Epoch 2/10\n",
      "29/29 - 0s - loss: 0.6586 - accuracy: 0.6844\n",
      "Epoch 3/10\n",
      "29/29 - 0s - loss: 0.6284 - accuracy: 0.7269\n",
      "Epoch 4/10\n",
      "29/29 - 0s - loss: 0.5969 - accuracy: 0.7476\n",
      "Epoch 5/10\n",
      "29/29 - 0s - loss: 0.5632 - accuracy: 0.7791\n",
      "Epoch 6/10\n",
      "29/29 - 0s - loss: 0.5330 - accuracy: 0.8150\n",
      "Epoch 7/10\n",
      "29/29 - 0s - loss: 0.5036 - accuracy: 0.8509\n",
      "Epoch 8/10\n",
      "29/29 - 0s - loss: 0.4797 - accuracy: 0.8607\n",
      "Epoch 9/10\n",
      "29/29 - 0s - loss: 0.4546 - accuracy: 0.8792\n",
      "Epoch 10/10\n",
      "29/29 - 0s - loss: 0.4341 - accuracy: 0.8879\n",
      "8/8 - 0s - loss: 0.4285 - accuracy: 0.9043\n",
      "Epoch 1/10\n",
      "29/29 - 0s - loss: 0.6177 - accuracy: 0.7410\n",
      "Epoch 2/10\n",
      "29/29 - 0s - loss: 0.5248 - accuracy: 0.8564\n",
      "Epoch 3/10\n",
      "29/29 - 0s - loss: 0.4415 - accuracy: 0.8770\n",
      "Epoch 4/10\n",
      "29/29 - 0s - loss: 0.3710 - accuracy: 0.8890\n",
      "Epoch 5/10\n",
      "29/29 - 0s - loss: 0.3166 - accuracy: 0.8999\n",
      "Epoch 6/10\n",
      "29/29 - 0s - loss: 0.2761 - accuracy: 0.9064\n",
      "Epoch 7/10\n",
      "29/29 - 0s - loss: 0.2525 - accuracy: 0.9075\n",
      "Epoch 8/10\n",
      "29/29 - 0s - loss: 0.2346 - accuracy: 0.9151\n",
      "Epoch 9/10\n",
      "29/29 - 0s - loss: 0.2217 - accuracy: 0.9217\n",
      "Epoch 10/10\n",
      "29/29 - 0s - loss: 0.2090 - accuracy: 0.9217\n",
      "8/8 - 0s - loss: 0.1890 - accuracy: 0.9261\n",
      "Epoch 1/10\n",
      "29/29 - 0s - loss: 0.6888 - accuracy: 0.5239\n",
      "Epoch 2/10\n",
      "29/29 - 0s - loss: 0.6346 - accuracy: 0.6793\n",
      "Epoch 3/10\n",
      "29/29 - 0s - loss: 0.5735 - accuracy: 0.7348\n",
      "Epoch 4/10\n",
      "29/29 - 0s - loss: 0.4892 - accuracy: 0.7967\n",
      "Epoch 5/10\n",
      "29/29 - 0s - loss: 0.4053 - accuracy: 0.8391\n",
      "Epoch 6/10\n",
      "29/29 - 0s - loss: 0.3314 - accuracy: 0.8772\n",
      "Epoch 7/10\n",
      "29/29 - 0s - loss: 0.2812 - accuracy: 0.8967\n",
      "Epoch 8/10\n",
      "29/29 - 0s - loss: 0.2495 - accuracy: 0.9022\n",
      "Epoch 9/10\n",
      "29/29 - 0s - loss: 0.2254 - accuracy: 0.9076\n",
      "Epoch 10/10\n",
      "29/29 - 0s - loss: 0.2058 - accuracy: 0.9163\n",
      "8/8 - 0s - loss: 0.2537 - accuracy: 0.8865\n"
     ]
    },
    {
     "data": {
      "text/plain": [
       "array([0.87826085, 0.9217391 , 0.90434784, 0.92608696, 0.88646287])"
      ]
     },
     "execution_count": 46,
     "metadata": {},
     "output_type": "execute_result"
    }
   ],
   "source": [
    "cross_val_score(keras_model, X_pure_train, y_pure_train)"
   ]
  },
  {
   "cell_type": "markdown",
   "metadata": {},
   "source": [
    "## [Regularization](https://www.tensorflow.org/api_docs/python/tf/keras/regularizers/Regularizer)"
   ]
  },
  {
   "cell_type": "markdown",
   "metadata": {},
   "source": [
    "Does regularization make sense in the context of neural networks? <br/>\n",
    "\n",
    "Yes! We still have all of the salient ingredients: a loss function, overfitting vs. underfitting, and coefficients (weights) that could get too large.\n",
    "\n",
    "But there are now a few different flavors besides L1 and L2 regularization. (Note that L1 regularization is not common in the context of  neural networks.)\n",
    "\n",
    "We'll add a few more layers to give regularization a better chance of making a difference!"
   ]
  },
  {
   "cell_type": "code",
   "execution_count": 47,
   "metadata": {
    "ExecuteTime": {
     "end_time": "2023-01-19T22:33:48.168361Z",
     "start_time": "2023-01-19T22:33:45.596865Z"
    }
   },
   "outputs": [
    {
     "data": {
      "image/png": "[encoded data removed]",
      "text/plain": [
       "<Figure size 720x360 with 2 Axes>"
      ]
     },
     "metadata": {
      "needs_background": "light"
     },
     "output_type": "display_data"
    }
   ],
   "source": [
    "model = Sequential()\n",
    "model.add(Dense(30, activation='relu', input_dim=64))\n",
    "\n",
    "# We can add L2 (or L1) regularization right into\n",
    "# the layer with the kernel_regularizer parameter.\n",
    "\n",
    "model.add(Dense(20, activation='relu',kernel_regularizer=l2(l=0.05)))\n",
    "\n",
    "# Note that there is also a bias_regularizer,\n",
    "# but this tends to have less effect.\n",
    "\n",
    "model.add(Dense(12, activation='relu'))\n",
    "model.add(Dense(12, activation='relu'))\n",
    "model.add(Dense(12, activation='relu'))\n",
    "model.add(Dense(8, activation='relu'))\n",
    "model.add(Dense(4, activation='relu'))\n",
    "model.add(Dense(1, activation ='sigmoid'))\n",
    "\n",
    "model.compile(optimizer='adam',\n",
    "              loss='binary_crossentropy',\n",
    "              metrics=['accuracy'])\n",
    "\n",
    "results = model.fit(X_pure_train, y_pure_train, epochs=20, batch_size=32,\n",
    "                    verbose=0, validation_data=(X_val, y_val))\n",
    "\n",
    "train_loss = results.history['loss']\n",
    "train_acc = results.history['accuracy']\n",
    "val_loss = results.history['val_loss']\n",
    "val_acc = results.history['val_accuracy']\n",
    "\n",
    "\n",
    "fig, (ax1, ax2) = plt.subplots(1, 2, figsize=(10, 5))\n",
    "sns.lineplot(x=results.epoch, y=train_loss, ax=ax1, label='train_loss')\n",
    "sns.lineplot(x=results.epoch, y=train_acc, ax=ax2, label='train_accuracy')\n",
    "\n",
    "sns.lineplot(x=results.epoch, y=val_loss, ax=ax1, label='val_loss')\n",
    "sns.lineplot(x=results.epoch, y=val_acc, ax=ax2, label='val_accuracy')\n",
    "ax1.set_title('Loss')\n",
    "ax2.set_title('Accuracy')\n",
    "ax1.legend();"
   ]
  },
  {
   "cell_type": "markdown",
   "metadata": {},
   "source": [
    "Adding L2 to multiple layers:"
   ]
  },
  {
   "cell_type": "code",
   "execution_count": 48,
   "metadata": {
    "ExecuteTime": {
     "end_time": "2023-01-19T22:34:31.750107Z",
     "start_time": "2023-01-19T22:34:29.157110Z"
    }
   },
   "outputs": [
    {
     "data": {
      "image/png": "[encoded data removed]",
      "text/plain": [
       "<Figure size 720x360 with 2 Axes>"
      ]
     },
     "metadata": {
      "needs_background": "light"
     },
     "output_type": "display_data"
    }
   ],
   "source": [
    "model = Sequential()\n",
    "model.add(Dense(30, activation='relu',\n",
    "                input_dim=64))\n",
    "model.add(Dense(20, activation='relu',\n",
    "                kernel_regularizer=l2(l=0.01)))\n",
    "\n",
    "model.add(Dense(12, activation='relu',\n",
    "                kernel_regularizer=l2(l=0.01)))\n",
    "model.add(Dense(12, activation='relu',\n",
    "                kernel_regularizer=l2(l=0.01)))\n",
    "model.add(Dense(12, activation='relu',\n",
    "                kernel_regularizer=l2(l=0.01)))\n",
    "model.add(Dense(8, activation='relu',\n",
    "                kernel_regularizer=l2(l=0.01)))\n",
    "model.add(Dense(4, activation='relu',\n",
    "                kernel_regularizer=l2(l=0.01)))\n",
    "model.add(Dense(1, activation='sigmoid'))\n",
    "\n",
    "model.compile(optimizer='adam',\n",
    "              loss='binary_crossentropy',\n",
    "              metrics=['accuracy'])\n",
    "\n",
    "results = model.fit(X_pure_train, y_pure_train, epochs=20, batch_size=32,\n",
    "                    verbose=0, validation_data=(X_val, y_val))\n",
    "\n",
    "train_loss = results.history['loss']\n",
    "train_acc = results.history['accuracy']\n",
    "val_loss = results.history['val_loss']\n",
    "val_acc = results.history['val_accuracy']\n",
    "\n",
    "\n",
    "fig, (ax1, ax2) = plt.subplots(1, 2, figsize=(10, 5))\n",
    "sns.lineplot(x=results.epoch, y=train_loss, ax=ax1, label='train_loss')\n",
    "sns.lineplot(x=results.epoch, y=train_acc, ax=ax2, label='train_accuracy')\n",
    "\n",
    "sns.lineplot(x=results.epoch, y=val_loss, ax=ax1, label='val_loss')\n",
    "sns.lineplot(x=results.epoch, y=val_acc, ax=ax2, label='val_accuracy')\n",
    "ax1.set_title('Loss')\n",
    "ax2.set_title('Accuracy')\n",
    "ax1.legend();"
   ]
  },
  {
   "cell_type": "markdown",
   "metadata": {},
   "source": [
    "### Dropout\n",
    "\n",
    "We can also specify a dropout layer in keras, which randomly shuts off different nodes during training. This can help to prevent overfitting."
   ]
  },
  {
   "cell_type": "markdown",
   "metadata": {},
   "source": [
    "![drop_out](images/drop_out.png)"
   ]
  },
  {
   "cell_type": "markdown",
   "metadata": {},
   "source": [
    "### Exercise\n",
    "\n",
    "To add dropout to a `keras` network, simply add it as though it were a layer. It will apply to the immediately preceding layer.\n",
    "\n",
    "Add Dropout to one or more layers below."
   ]
  },
  {
   "cell_type": "code",
   "execution_count": 52,
   "metadata": {
    "ExecuteTime": {
     "end_time": "2023-01-19T22:38:52.938340Z",
     "start_time": "2023-01-19T22:38:49.128340Z"
    }
   },
   "outputs": [
    {
     "data": {
      "image/png": "[encoded data removed]",
      "text/plain": [
       "<Figure size 720x360 with 2 Axes>"
      ]
     },
     "metadata": {
      "needs_background": "light"
     },
     "output_type": "display_data"
    }
   ],
   "source": [
    "model = Sequential()\n",
    "model.add(Dense(30, activation='relu', input_dim=64))\n",
    "model.add(Dense(20, activation='relu'))\n",
    "\n",
    "model.add(Dropout(0.5))\n",
    "\n",
    "model.add(Dense(12, activation='relu'))\n",
    "\n",
    "model.add(Dropout(0.2))\n",
    "\n",
    "model.add(Dense(12, activation='relu'))\n",
    "model.add(Dense(12, activation='relu'))\n",
    "model.add(Dense(8, activation='relu'))\n",
    "model.add(Dense(4, activation='relu'))\n",
    "model.add(Dense(1, activation ='sigmoid'))\n",
    "\n",
    "model.compile(optimizer='adam',\n",
    "              loss='binary_crossentropy',\n",
    "              metrics=['accuracy'])\n",
    "\n",
    "results = model.fit(X_pure_train, y_pure_train, epochs=50,\n",
    "                    batch_size= 32, verbose=0,\n",
    "                    validation_data=(X_val, y_val))\n",
    "\n",
    "train_loss = results.history['loss']\n",
    "train_acc = results.history['accuracy']\n",
    "val_loss = results.history['val_loss']\n",
    "val_acc = results.history['val_accuracy']\n",
    "\n",
    "\n",
    "fig, (ax1, ax2) = plt.subplots(1, 2, figsize=(10, 5))\n",
    "sns.lineplot(x=results.epoch, y=train_loss, ax=ax1, label='train_loss')\n",
    "sns.lineplot(x=results.epoch, y=train_acc, ax=ax2, label='train_accuracy')\n",
    "\n",
    "sns.lineplot(x=results.epoch, y=val_loss, ax=ax1, label='val_loss')\n",
    "sns.lineplot(x=results.epoch, y=val_acc, ax=ax2, label='val_accuracy')\n",
    "ax1.set_title('Loss')\n",
    "ax2.set_title('Accuracy')\n",
    "ax1.legend();"
   ]
  },
  {
   "cell_type": "code",
   "execution_count": 53,
   "metadata": {
    "ExecuteTime": {
     "end_time": "2023-01-19T22:38:56.394594Z",
     "start_time": "2023-01-19T22:38:56.236592Z"
    }
   },
   "outputs": [
    {
     "data": {
      "text/plain": [
       "0.9826388955116272"
      ]
     },
     "execution_count": 53,
     "metadata": {},
     "output_type": "execute_result"
    }
   ],
   "source": [
    "results.history['val_accuracy'][-1]"
   ]
  },
  {
   "cell_type": "code",
   "execution_count": 54,
   "metadata": {
    "ExecuteTime": {
     "end_time": "2023-01-19T22:38:57.123093Z",
     "start_time": "2023-01-19T22:38:56.982593Z"
    }
   },
   "outputs": [
    {
     "data": {
      "text/plain": [
       "0.9834638833999634"
      ]
     },
     "execution_count": 54,
     "metadata": {},
     "output_type": "execute_result"
    }
   ],
   "source": [
    "results.history['accuracy'][-1]"
   ]
  },
  {
   "cell_type": "markdown",
   "metadata": {},
   "source": [
    "### Early Stopping"
   ]
  },
  {
   "cell_type": "markdown",
   "metadata": {},
   "source": [
    "We can also tell our neural network to stop once it stops realizing any gain.\n",
    "\n",
    "Here we tell it to stop once the a very small positive change in the validation loss occurs:"
   ]
  },
  {
   "cell_type": "code",
   "execution_count": 57,
   "metadata": {
    "ExecuteTime": {
     "end_time": "2023-01-19T22:44:13.589328Z",
     "start_time": "2023-01-19T22:44:10.953873Z"
    }
   },
   "outputs": [
    {
     "name": "stdout",
     "output_type": "stream",
     "text": [
      "Epoch 00011: early stopping\n"
     ]
    },
    {
     "data": {
      "image/png": "[encoded data removed]",
      "text/plain": [
       "<Figure size 720x360 with 2 Axes>"
      ]
     },
     "metadata": {
      "needs_background": "light"
     },
     "output_type": "display_data"
    }
   ],
   "source": [
    "model = Sequential()\n",
    "model.add(Dense(30, activation='relu', input_dim=64))\n",
    "model.add(Dense(20, activation='relu'))\n",
    "model.add(Dropout(0.5))\n",
    "model.add(Dense(12, activation='relu'))\n",
    "model.add(Dense(12, activation='relu'))\n",
    "model.add(Dense(12, activation='relu'))\n",
    "model.add(Dense(8, activation='relu'))\n",
    "model.add(Dense(4, activation='relu'))\n",
    "model.add(Dense(1, activation ='sigmoid'))\n",
    "\n",
    "model.compile(optimizer='adam',\n",
    "              loss='binary_crossentropy',\n",
    "              metrics=['accuracy'])\n",
    "\n",
    "# Define the EarlyStopping object\n",
    "early_stop = EarlyStopping(monitor='val_loss', min_delta=1e-8,\n",
    "                           verbose=1,\n",
    "                           mode='min')\n",
    "\n",
    "# Place this in a list as the value of the `callbacks` parameter\n",
    "# in the `.fit()` method.\n",
    "results = model.fit(X_pure_train, y_pure_train,\n",
    "                    epochs=40, batch_size=32,\n",
    "                    verbose=0, validation_data=(X_val, y_val),\n",
    "                    callbacks=[early_stop])\n",
    "\n",
    "train_loss = results.history['loss']\n",
    "train_acc = results.history['accuracy']\n",
    "val_loss = results.history['val_loss']\n",
    "val_acc = results.history['val_accuracy']\n",
    "\n",
    "\n",
    "fig, (ax1, ax2) = plt.subplots(1, 2, figsize=(10, 5))\n",
    "sns.lineplot(x=results.epoch, y=train_loss, ax=ax1, label='train_loss')\n",
    "sns.lineplot(x=results.epoch, y=train_acc, ax=ax2, label='train_accuracy')\n",
    "\n",
    "sns.lineplot(x=results.epoch, y=val_loss, ax=ax1, label='val_loss')\n",
    "sns.lineplot(x=results.epoch, y=val_acc, ax=ax2, label='val_accuracy')\n",
    "ax1.set_title('Loss')\n",
    "ax2.set_title('Accuracy')\n",
    "ax1.legend();"
   ]
  },
  {
   "cell_type": "markdown",
   "metadata": {},
   "source": [
    "### Exercise\n",
    "\n",
    "That probably stopped too early. We can specify the number of epochs in which it doesn't see decrease in the loss with the `patience` parameter. Modify the code below to include an Early Stop with a patience of 5 epochs."
   ]
  },
  {
   "cell_type": "code",
   "execution_count": 63,
   "metadata": {
    "ExecuteTime": {
     "end_time": "2023-01-19T22:47:16.504046Z",
     "start_time": "2023-01-19T22:47:10.880046Z"
    }
   },
   "outputs": [
    {
     "name": "stdout",
     "output_type": "stream",
     "text": [
      "Epoch 00086: early stopping\n"
     ]
    },
    {
     "data": {
      "image/png": "[encoded data removed]",
      "text/plain": [
       "<Figure size 720x360 with 2 Axes>"
      ]
     },
     "metadata": {
      "needs_background": "light"
     },
     "output_type": "display_data"
    }
   ],
   "source": [
    "model = Sequential()\n",
    "model.add(Dense(30, activation='relu', input_dim=64))\n",
    "model.add(Dense(20, activation='relu'))\n",
    "model.add(Dropout(0.5))\n",
    "model.add(Dense(12, activation='relu'))\n",
    "model.add(Dense(12, activation='relu'))\n",
    "model.add(Dense(12, activation='relu'))\n",
    "model.add(Dense(8, activation='relu'))\n",
    "model.add(Dense(4, activation='relu'))\n",
    "model.add(Dense(1, activation ='sigmoid'))\n",
    "\n",
    "model.compile(optimizer='adam',\n",
    "              loss='binary_crossentropy',\n",
    "              metrics=['accuracy'])\n",
    "\n",
    "# Define the EarlyStopping object\n",
    "early_stop = EarlyStopping(monitor='val_loss', min_delta=1e-8,\n",
    "                           verbose=1,\n",
    "                           mode='min',\n",
    "                           patience=20)\n",
    "\n",
    "# Place this in a list as the value of the `callbacks` parameter\n",
    "# in the `.fit()` method.\n",
    "results = model.fit(X_pure_train, y_pure_train,\n",
    "                    epochs=100, batch_size= 32,\n",
    "                    verbose=0, validation_data=(X_val, y_val),\n",
    "                    callbacks=[early_stop])\n",
    "\n",
    "train_loss = results.history['loss']\n",
    "train_acc = results.history['accuracy']\n",
    "val_loss = results.history['val_loss']\n",
    "val_acc = results.history['val_accuracy']\n",
    "\n",
    "\n",
    "fig, (ax1, ax2) = plt.subplots(1, 2, figsize=(10, 5))\n",
    "sns.lineplot(x=results.epoch, y=train_loss, ax=ax1, label='train_loss')\n",
    "sns.lineplot(x=results.epoch, y=train_acc, ax=ax2, label='train_accuracy')\n",
    "\n",
    "sns.lineplot(x=results.epoch, y=val_loss, ax=ax1, label='val_loss')\n",
    "sns.lineplot(x=results.epoch, y=val_acc, ax=ax2, label='val_accuracy')\n",
    "ax1.set_title('Loss')\n",
    "ax2.set_title('Accuracy')\n",
    "ax1.legend();"
   ]
  },
  {
   "cell_type": "code",
   "execution_count": null,
   "metadata": {},
   "outputs": [],
   "source": []
  },
  {
   "cell_type": "code",
   "execution_count": 64,
   "metadata": {
    "ExecuteTime": {
     "end_time": "2023-01-19T22:47:52.111826Z",
     "start_time": "2023-01-19T22:47:51.961826Z"
    }
   },
   "outputs": [
    {
     "data": {
      "text/plain": [
       "0.9652777910232544"
      ]
     },
     "execution_count": 64,
     "metadata": {},
     "output_type": "execute_result"
    }
   ],
   "source": [
    "results.history['val_accuracy'][-1]"
   ]
  },
  {
   "cell_type": "code",
   "execution_count": 65,
   "metadata": {
    "ExecuteTime": {
     "end_time": "2023-01-19T22:47:52.654325Z",
     "start_time": "2023-01-19T22:47:52.505327Z"
    }
   },
   "outputs": [
    {
     "data": {
      "text/plain": [
       "0.9895561337471008"
      ]
     },
     "execution_count": 65,
     "metadata": {},
     "output_type": "execute_result"
    }
   ],
   "source": [
    "results.history['accuracy'][-1]"
   ]
  },
  {
   "cell_type": "markdown",
   "metadata": {},
   "source": [
    "## Multiclass Classification and Softmax"
   ]
  },
  {
   "cell_type": "markdown",
   "metadata": {},
   "source": [
    "Now let's return to the problem of predicting digits 0 through 9."
   ]
  },
  {
   "cell_type": "code",
   "execution_count": 66,
   "metadata": {
    "ExecuteTime": {
     "end_time": "2023-01-19T22:51:16.433935Z",
     "start_time": "2023-01-19T22:51:16.244936Z"
    }
   },
   "outputs": [],
   "source": [
    "digits = load_digits()\n",
    "X = digits.data\n",
    "y = digits.target"
   ]
  },
  {
   "cell_type": "code",
   "execution_count": 67,
   "metadata": {
    "ExecuteTime": {
     "end_time": "2023-01-19T22:51:17.146935Z",
     "start_time": "2023-01-19T22:51:17.012437Z"
    }
   },
   "outputs": [],
   "source": [
    "X_train, X_test, y_train, y_test = train_test_split(X, y,\n",
    "                                                    random_state=42,\n",
    "                                                    test_size=0.2)\n",
    "X_pure_train, X_val, y_pure_train, y_val =\\\n",
    "    train_test_split(X_train, y_train,\n",
    "                     random_state=42, test_size=0.2)\n",
    "X_pure_train, X_val, X_test = X_pure_train/16, X_val/16, X_test/16"
   ]
  },
  {
   "cell_type": "markdown",
   "metadata": {},
   "source": [
    "For a multiclass output, our neural net expects our target to be in a certain form."
   ]
  },
  {
   "cell_type": "code",
   "execution_count": 68,
   "metadata": {
    "ExecuteTime": {
     "end_time": "2023-01-19T22:51:40.568393Z",
     "start_time": "2023-01-19T22:51:40.050893Z"
    }
   },
   "outputs": [],
   "source": [
    "ohe = OneHotEncoder(sparse=False)\n",
    "y_pure_train = ohe.fit_transform(y_pure_train.reshape(-1,1))\n",
    "y_val = ohe.transform(y_val.reshape(-1,1))\n",
    "y_test = ohe.transform(y_test.reshape(-1,1))"
   ]
  },
  {
   "cell_type": "code",
   "execution_count": 69,
   "metadata": {
    "ExecuteTime": {
     "end_time": "2023-01-19T22:51:42.536894Z",
     "start_time": "2023-01-19T22:51:42.377894Z"
    }
   },
   "outputs": [
    {
     "data": {
      "text/plain": [
       "array([[0., 0., 0., ..., 0., 0., 0.],\n",
       "       [0., 0., 0., ..., 0., 0., 1.],\n",
       "       [0., 0., 0., ..., 0., 0., 0.],\n",
       "       ...,\n",
       "       [0., 0., 0., ..., 0., 1., 0.],\n",
       "       [0., 0., 0., ..., 0., 0., 0.],\n",
       "       [0., 0., 0., ..., 0., 0., 0.]])"
      ]
     },
     "execution_count": 69,
     "metadata": {},
     "output_type": "execute_result"
    }
   ],
   "source": [
    "y_test"
   ]
  },
  {
   "cell_type": "code",
   "execution_count": 82,
   "metadata": {
    "ExecuteTime": {
     "end_time": "2023-01-19T22:54:38.109658Z",
     "start_time": "2023-01-19T22:54:30.738657Z"
    }
   },
   "outputs": [
    {
     "name": "stdout",
     "output_type": "stream",
     "text": [
      "Epoch 1/50\n",
      "115/115 [==============================] - 0s 2ms/step - loss: 2.2229 - accuracy: 0.2185 - val_loss: 2.1282 - val_accuracy: 0.3194\n",
      "Epoch 2/50\n",
      "115/115 [==============================] - 0s 1ms/step - loss: 1.8555 - accuracy: 0.4343 - val_loss: 1.6145 - val_accuracy: 0.4792\n",
      "Epoch 3/50\n",
      "115/115 [==============================] - 0s 1ms/step - loss: 1.2049 - accuracy: 0.5927 - val_loss: 1.0262 - val_accuracy: 0.6597\n",
      "Epoch 4/50\n",
      "115/115 [==============================] - 0s 1ms/step - loss: 0.7275 - accuracy: 0.8129 - val_loss: 0.6718 - val_accuracy: 0.8125\n",
      "Epoch 5/50\n",
      "115/115 [==============================] - 0s 2ms/step - loss: 0.5054 - accuracy: 0.8686 - val_loss: 0.5321 - val_accuracy: 0.8403\n",
      "Epoch 6/50\n",
      "115/115 [==============================] - 0s 1ms/step - loss: 0.3969 - accuracy: 0.8938 - val_loss: 0.4319 - val_accuracy: 0.8611\n",
      "Epoch 7/50\n",
      "115/115 [==============================] - 0s 978us/step - loss: 0.3372 - accuracy: 0.9138 - val_loss: 0.3961 - val_accuracy: 0.8958\n",
      "Epoch 8/50\n",
      "115/115 [==============================] - 0s 987us/step - loss: 0.2874 - accuracy: 0.9173 - val_loss: 0.3592 - val_accuracy: 0.8958\n",
      "Epoch 9/50\n",
      "115/115 [==============================] - 0s 1ms/step - loss: 0.2601 - accuracy: 0.9312 - val_loss: 0.3137 - val_accuracy: 0.9062\n",
      "Epoch 10/50\n",
      "115/115 [==============================] - 0s 1ms/step - loss: 0.2276 - accuracy: 0.9339 - val_loss: 0.2847 - val_accuracy: 0.9132\n",
      "Epoch 11/50\n",
      "115/115 [==============================] - 0s 1ms/step - loss: 0.2040 - accuracy: 0.9434 - val_loss: 0.2826 - val_accuracy: 0.9097\n",
      "Epoch 12/50\n",
      "115/115 [==============================] - 0s 1ms/step - loss: 0.1876 - accuracy: 0.9530 - val_loss: 0.2626 - val_accuracy: 0.9167\n",
      "Epoch 13/50\n",
      "115/115 [==============================] - 0s 939us/step - loss: 0.1691 - accuracy: 0.9556 - val_loss: 0.2340 - val_accuracy: 0.9201\n",
      "Epoch 14/50\n",
      "115/115 [==============================] - 0s 1ms/step - loss: 0.1603 - accuracy: 0.9513 - val_loss: 0.2711 - val_accuracy: 0.9028\n",
      "Epoch 15/50\n",
      "115/115 [==============================] - 0s 1ms/step - loss: 0.1457 - accuracy: 0.9608 - val_loss: 0.2650 - val_accuracy: 0.9097\n",
      "Epoch 16/50\n",
      "115/115 [==============================] - 0s 1ms/step - loss: 0.1399 - accuracy: 0.9591 - val_loss: 0.2165 - val_accuracy: 0.9271\n",
      "Epoch 17/50\n",
      "115/115 [==============================] - 0s 1ms/step - loss: 0.1240 - accuracy: 0.9661 - val_loss: 0.2185 - val_accuracy: 0.9271\n",
      "Epoch 18/50\n",
      "115/115 [==============================] - 0s 926us/step - loss: 0.1200 - accuracy: 0.9721 - val_loss: 0.2244 - val_accuracy: 0.9167\n",
      "Epoch 19/50\n",
      "115/115 [==============================] - 0s 1ms/step - loss: 0.1082 - accuracy: 0.9748 - val_loss: 0.1876 - val_accuracy: 0.9340\n",
      "Epoch 20/50\n",
      "115/115 [==============================] - 0s 1ms/step - loss: 0.0994 - accuracy: 0.9748 - val_loss: 0.1733 - val_accuracy: 0.9479\n",
      "Epoch 21/50\n",
      "115/115 [==============================] - 0s 987us/step - loss: 0.0904 - accuracy: 0.9809 - val_loss: 0.1993 - val_accuracy: 0.9375\n",
      "Epoch 22/50\n",
      "115/115 [==============================] - 0s 1ms/step - loss: 0.0858 - accuracy: 0.9765 - val_loss: 0.1560 - val_accuracy: 0.9479\n",
      "Epoch 23/50\n",
      "115/115 [==============================] - 0s 1ms/step - loss: 0.0795 - accuracy: 0.9826 - val_loss: 0.1771 - val_accuracy: 0.9340\n",
      "Epoch 24/50\n",
      "115/115 [==============================] - 0s 996us/step - loss: 0.0738 - accuracy: 0.9826 - val_loss: 0.1486 - val_accuracy: 0.9583\n",
      "Epoch 25/50\n",
      "115/115 [==============================] - 0s 991us/step - loss: 0.0692 - accuracy: 0.9826 - val_loss: 0.1687 - val_accuracy: 0.9479\n",
      "Epoch 26/50\n",
      "115/115 [==============================] - 0s 1ms/step - loss: 0.0667 - accuracy: 0.9817 - val_loss: 0.1663 - val_accuracy: 0.9479\n",
      "Epoch 27/50\n",
      "115/115 [==============================] - 0s 1ms/step - loss: 0.0582 - accuracy: 0.9861 - val_loss: 0.1661 - val_accuracy: 0.9549\n",
      "Epoch 28/50\n",
      "115/115 [==============================] - 0s 1ms/step - loss: 0.0570 - accuracy: 0.9878 - val_loss: 0.1314 - val_accuracy: 0.9549\n",
      "Epoch 29/50\n",
      "115/115 [==============================] - 0s 1ms/step - loss: 0.0521 - accuracy: 0.9843 - val_loss: 0.1704 - val_accuracy: 0.9340\n",
      "Epoch 30/50\n",
      "115/115 [==============================] - 0s 987us/step - loss: 0.0479 - accuracy: 0.9904 - val_loss: 0.1147 - val_accuracy: 0.9583\n",
      "Epoch 31/50\n",
      "115/115 [==============================] - 0s 1ms/step - loss: 0.0461 - accuracy: 0.9913 - val_loss: 0.1332 - val_accuracy: 0.9514\n",
      "Epoch 32/50\n",
      "115/115 [==============================] - 0s 965us/step - loss: 0.0444 - accuracy: 0.9896 - val_loss: 0.1516 - val_accuracy: 0.9514\n",
      "Epoch 33/50\n",
      "115/115 [==============================] - 0s 1ms/step - loss: 0.0441 - accuracy: 0.9896 - val_loss: 0.1410 - val_accuracy: 0.9479\n",
      "Epoch 34/50\n",
      "115/115 [==============================] - 0s 1ms/step - loss: 0.0402 - accuracy: 0.9896 - val_loss: 0.1232 - val_accuracy: 0.9549\n",
      "Epoch 35/50\n",
      "115/115 [==============================] - 0s 1ms/step - loss: 0.0355 - accuracy: 0.9948 - val_loss: 0.1337 - val_accuracy: 0.9549\n",
      "Epoch 36/50\n",
      "115/115 [==============================] - 0s 1ms/step - loss: 0.0313 - accuracy: 0.9939 - val_loss: 0.1188 - val_accuracy: 0.9514\n",
      "Epoch 37/50\n",
      "115/115 [==============================] - 0s 1ms/step - loss: 0.0295 - accuracy: 0.9930 - val_loss: 0.1161 - val_accuracy: 0.9618\n",
      "Epoch 38/50\n",
      "115/115 [==============================] - 0s 943us/step - loss: 0.0279 - accuracy: 0.9948 - val_loss: 0.1056 - val_accuracy: 0.9618\n",
      "Epoch 39/50\n",
      "115/115 [==============================] - 0s 1ms/step - loss: 0.0244 - accuracy: 0.9965 - val_loss: 0.1133 - val_accuracy: 0.9653\n",
      "Epoch 40/50\n",
      "115/115 [==============================] - 0s 1ms/step - loss: 0.0278 - accuracy: 0.9939 - val_loss: 0.1038 - val_accuracy: 0.9653\n",
      "Epoch 41/50\n",
      "115/115 [==============================] - 0s 1ms/step - loss: 0.0216 - accuracy: 0.9956 - val_loss: 0.0987 - val_accuracy: 0.9618\n",
      "Epoch 42/50\n",
      "115/115 [==============================] - 0s 917us/step - loss: 0.0200 - accuracy: 0.9965 - val_loss: 0.1291 - val_accuracy: 0.9444\n",
      "Epoch 43/50\n",
      "115/115 [==============================] - 0s 1ms/step - loss: 0.0205 - accuracy: 0.9974 - val_loss: 0.1078 - val_accuracy: 0.9618\n",
      "Epoch 44/50\n",
      "115/115 [==============================] - 0s 957us/step - loss: 0.0172 - accuracy: 0.9974 - val_loss: 0.1570 - val_accuracy: 0.9340\n",
      "Epoch 45/50\n",
      "115/115 [==============================] - 0s 1000us/step - loss: 0.0198 - accuracy: 0.9956 - val_loss: 0.1247 - val_accuracy: 0.9514\n",
      "Epoch 46/50\n",
      "115/115 [==============================] - 0s 870us/step - loss: 0.0145 - accuracy: 1.0000 - val_loss: 0.1027 - val_accuracy: 0.9618\n",
      "Epoch 47/50\n",
      "115/115 [==============================] - 0s 1ms/step - loss: 0.0125 - accuracy: 0.9991 - val_loss: 0.1130 - val_accuracy: 0.9688\n",
      "Epoch 48/50\n",
      "115/115 [==============================] - 0s 891us/step - loss: 0.0123 - accuracy: 0.9991 - val_loss: 0.0967 - val_accuracy: 0.9688\n",
      "Epoch 49/50\n",
      "115/115 [==============================] - 0s 1ms/step - loss: 0.0128 - accuracy: 1.0000 - val_loss: 0.1035 - val_accuracy: 0.9653\n",
      "Epoch 50/50\n",
      "115/115 [==============================] - 0s 1ms/step - loss: 0.0099 - accuracy: 1.0000 - val_loss: 0.1055 - val_accuracy: 0.9583\n"
     ]
    }
   ],
   "source": [
    "# Model from above, but now with ten output neurons:\n",
    "\n",
    "model = Sequential()\n",
    "model.add(Dense(32, activation='relu', input_dim=64))\n",
    "model.add(Dense(16, activation='relu'))\n",
    "model.add(Dense(8, activation='relu'))\n",
    "model.add(Dense(10, activation='softmax'))\n",
    "\n",
    "model.compile(optimizer='adam',\n",
    "              loss='categorical_crossentropy',\n",
    "              metrics=['accuracy'])\n",
    "\n",
    "results = model.fit(X_pure_train, y_pure_train,\n",
    "                   epochs=50, batch_size=10,\n",
    "                   validation_data=(X_val, y_val))"
   ]
  },
  {
   "cell_type": "markdown",
   "metadata": {},
   "source": [
    "$$\\large \\text{Softmax}(x_{i}) = \\frac{\\exp(x_i)}{\\sum_j \\exp(x_j)}$$\n",
    "\n",
    "The sofmax function outputs a number between 0 and 1 for each of our classes.  All of the probabilities of the classes sum up to 1.\n",
    "\n",
    "The number of nodes in our output layer equals the number of categories in our dataset.\n",
    "\n",
    "We also need a new loss function: **categorical crossentropy**, which calculates a separate loss for each label and then sums the results."
   ]
  },
  {
   "cell_type": "code",
   "execution_count": 83,
   "metadata": {
    "ExecuteTime": {
     "end_time": "2023-01-19T22:54:38.574658Z",
     "start_time": "2023-01-19T22:54:38.423658Z"
    }
   },
   "outputs": [],
   "source": [
    "history = results.history\n",
    "training_loss = history['loss']\n",
    "val_loss = history['val_loss']\n",
    "training_accuracy = history['accuracy']\n",
    "val_accuracy = history['val_accuracy']"
   ]
  },
  {
   "cell_type": "code",
   "execution_count": 84,
   "metadata": {
    "ExecuteTime": {
     "end_time": "2023-01-19T22:54:39.473657Z",
     "start_time": "2023-01-19T22:54:38.918658Z"
    }
   },
   "outputs": [
    {
     "data": {
      "image/png": "[encoded data removed]",
      "text/plain": [
       "<Figure size 1080x360 with 2 Axes>"
      ]
     },
     "metadata": {
      "needs_background": "light"
     },
     "output_type": "display_data"
    }
   ],
   "source": [
    "fig, (ax1,ax2) = plt.subplots(1,2,figsize=(15,5))\n",
    "\n",
    "\n",
    "sns.lineplot(x=list(range(len(training_loss))),\n",
    "             y=training_loss, color='r', label='training', ax=ax1)\n",
    "sns.lineplot(x=list(range(len(val_loss))),\n",
    "             y=val_loss, color='b', label='validation', ax=ax1)\n",
    "sns.lineplot(x=list(range(len(training_loss))),\n",
    "             y=training_accuracy, color='r', label='training',ax=ax2)\n",
    "sns.lineplot(x=list(range(len(val_loss))),\n",
    "             y=val_accuracy, color='b', label='validation',ax=ax2)\n",
    "\n",
    "ax1.set_title('Loss')\n",
    "ax2.set_title('Accuracy')\n",
    "ax1.legend();"
   ]
  },
  {
   "cell_type": "code",
   "execution_count": 85,
   "metadata": {
    "ExecuteTime": {
     "end_time": "2023-01-19T22:54:39.985158Z",
     "start_time": "2023-01-19T22:54:39.816657Z"
    }
   },
   "outputs": [
    {
     "data": {
      "text/plain": [
       "0.9583333134651184"
      ]
     },
     "execution_count": 85,
     "metadata": {},
     "output_type": "execute_result"
    }
   ],
   "source": [
    "results.history['val_accuracy'][-1]"
   ]
  },
  {
   "cell_type": "code",
   "execution_count": 86,
   "metadata": {
    "ExecuteTime": {
     "end_time": "2023-01-19T22:54:40.496657Z",
     "start_time": "2023-01-19T22:54:40.344158Z"
    }
   },
   "outputs": [
    {
     "data": {
      "text/plain": [
       "1.0"
      ]
     },
     "execution_count": 86,
     "metadata": {},
     "output_type": "execute_result"
    }
   ],
   "source": [
    "results.history['accuracy'][-1]"
   ]
  },
  {
   "cell_type": "code",
   "execution_count": 76,
   "metadata": {
    "ExecuteTime": {
     "end_time": "2023-01-19T22:53:15.555060Z",
     "start_time": "2023-01-19T22:53:15.406090Z"
    }
   },
   "outputs": [
    {
     "data": {
      "text/plain": [
       "array([[ 0.,  0.,  5., 13.,  9.,  1.,  0.,  0.],\n",
       "       [ 0.,  0., 13., 15., 10., 15.,  5.,  0.],\n",
       "       [ 0.,  3., 15.,  2.,  0., 11.,  8.,  0.],\n",
       "       [ 0.,  4., 12.,  0.,  0.,  8.,  8.,  0.],\n",
       "       [ 0.,  5.,  8.,  0.,  0.,  9.,  8.,  0.],\n",
       "       [ 0.,  4., 11.,  0.,  1., 12.,  7.,  0.],\n",
       "       [ 0.,  2., 14.,  5., 10., 12.,  0.,  0.],\n",
       "       [ 0.,  0.,  6., 13., 10.,  0.,  0.,  0.]])"
      ]
     },
     "execution_count": 76,
     "metadata": {},
     "output_type": "execute_result"
    }
   ],
   "source": [
    "X[0].reshape((8,8))"
   ]
  },
  {
   "cell_type": "markdown",
   "metadata": {},
   "source": [
    "Wow, look at that performance!  \n",
    "\n",
    "That is great, but remember, we were dealing with simple black and white images.  With color, our basic neural net will have less success.\n",
    "\n",
    "We will explore more advanced tools in the coming days.\n"
   ]
  }
 ],
 "metadata": {
  "celltoolbar": "Raw Cell Format",
  "colab": {
   "collapsed_sections": [],
   "name": "intro-to-keras.ipynb",
   "provenance": []
  },
  "kernelspec": {
   "display_name": "learn-env",
   "language": "python",
   "name": "learn-env"
  },
  "language_info": {
   "codemirror_mode": {
    "name": "ipython",
    "version": 3
   },
   "file_extension": ".py",
   "mimetype": "text/x-python",
   "name": "python",
   "nbconvert_exporter": "python",
   "pygments_lexer": "ipython3",
   "version": "3.8.5"
  },
  "toc": {
   "base_numbering": 1,
   "nav_menu": {},
   "number_sections": true,
   "sideBar": true,
   "skip_h1_title": false,
   "title_cell": "Table of Contents",
   "title_sidebar": "Contents",
   "toc_cell": false,
   "toc_position": {},
   "toc_section_display": true,
   "toc_window_display": false
  },
  "varInspector": {
   "cols": {
    "lenName": 16,
    "lenType": 16,
    "lenVar": 40
   },
   "kernels_config": {
    "python": {
     "delete_cmd_postfix": "",
     "delete_cmd_prefix": "del ",
     "library": "var_list.py",
     "varRefreshCmd": "print(var_dic_list())"
    },
    "r": {
     "delete_cmd_postfix": ") ",
     "delete_cmd_prefix": "rm(",
     "library": "var_list.r",
     "varRefreshCmd": "cat(var_dic_list()) "
    }
   },
   "types_to_exclude": [
    "module",
    "function",
    "builtin_function_or_method",
    "instance",
    "_Feature"
   ],
   "window_display": false
  }
 },
 "nbformat": 4,
 "nbformat_minor": 4
}

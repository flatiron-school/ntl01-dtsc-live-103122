{
 "cells": [
  {
   "cell_type": "markdown",
   "metadata": {},
   "source": [
    "# Data Science Interview Questions"
   ]
  },
  {
   "cell_type": "markdown",
   "metadata": {},
   "source": [
    "What are the assumptions of linear regressions?\n",
    "- Linear Relationship\n",
    "- Independence\n",
    "- Normal Distribution\n",
    "- Homeskedacity "
   ]
  },
  {
   "cell_type": "markdown",
   "metadata": {},
   "source": [
    "How to test for collinearity?\n",
    "- Pearson Correlation : coefficients of .7 or higher indicitave of strong correlation\n",
    "    looks at degree of multicollinearity a pair\n",
    "- Variance Inflation Factor : looks at individual point, value of 10 or higher indicates strong correlation"
   ]
  },
  {
   "cell_type": "markdown",
   "metadata": {},
   "source": [
    "How do you test for homo or hetero skedasticity?\n",
    "- visual inspection looking for variance of amplitude of error : looking for consistent amplitude"
   ]
  },
  {
   "cell_type": "markdown",
   "metadata": {},
   "source": [
    "Explain about TypeI error:\n",
    "- Rejecting null hypothesis when (it's actually true) you should have failed to reject the null.\n",
    "\n",
    "Explain about TypeII error: \n",
    "- Fail to reject the null hypothesis (it's actually false) when you should have rejected the null-hypothesis."
   ]
  },
  {
   "cell_type": "markdown",
   "metadata": {},
   "source": [
    "Tell me about a confusion matrix (binary): \n",
    " - plot in quadrants\n",
    " - predicted values on y-axis\n",
    " - actual values on x-axis\n",
    " - TN, FP\n",
    " - FN, TP"
   ]
  },
  {
   "cell_type": "code",
   "execution_count": null,
   "metadata": {},
   "outputs": [],
   "source": []
  }
 ],
 "metadata": {
  "kernelspec": {
   "display_name": "learn-env",
   "language": "python",
   "name": "learn-env"
  },
  "language_info": {
   "codemirror_mode": {
    "name": "ipython",
    "version": 3
   },
   "file_extension": ".py",
   "mimetype": "text/x-python",
   "name": "python",
   "nbconvert_exporter": "python",
   "pygments_lexer": "ipython3",
   "version": "3.8.5"
  }
 },
 "nbformat": 4,
 "nbformat_minor": 4
}

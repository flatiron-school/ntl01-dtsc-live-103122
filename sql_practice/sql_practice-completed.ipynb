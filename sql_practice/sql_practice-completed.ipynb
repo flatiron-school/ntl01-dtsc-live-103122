{
 "cells": [
  {
   "cell_type": "code",
   "execution_count": 1,
   "metadata": {
    "ExecuteTime": {
     "end_time": "2022-09-22T13:49:26.889392Z",
     "start_time": "2022-09-22T13:49:26.389326Z"
    }
   },
   "outputs": [],
   "source": [
    "import sqlite3\n",
    "import pandas as pd"
   ]
  },
  {
   "cell_type": "code",
   "execution_count": 2,
   "metadata": {
    "ExecuteTime": {
     "end_time": "2022-09-22T13:49:27.630561Z",
     "start_time": "2022-09-22T13:49:27.590337Z"
    }
   },
   "outputs": [],
   "source": [
    "# Create Connection\n",
    "con = sqlite3.connect('./data/Chinook_Sqlite.sqlite')"
   ]
  },
  {
   "cell_type": "code",
   "execution_count": 3,
   "metadata": {
    "ExecuteTime": {
     "end_time": "2022-09-22T13:49:28.323768Z",
     "start_time": "2022-09-22T13:49:28.310738Z"
    }
   },
   "outputs": [],
   "source": [
    "# Create Cursor\n",
    "cursor = con.cursor()"
   ]
  },
  {
   "cell_type": "code",
   "execution_count": 4,
   "metadata": {
    "ExecuteTime": {
     "end_time": "2022-09-22T13:49:28.834305Z",
     "start_time": "2022-09-22T13:49:28.819806Z"
    }
   },
   "outputs": [],
   "source": [
    "# Create Query\n",
    "album_count = \"\"\"\n",
    "SELECT COUNT()\n",
    "FROM Album\n",
    "\"\"\""
   ]
  },
  {
   "cell_type": "code",
   "execution_count": 5,
   "metadata": {
    "ExecuteTime": {
     "end_time": "2022-09-22T13:49:29.296888Z",
     "start_time": "2022-09-22T13:49:29.282357Z"
    }
   },
   "outputs": [
    {
     "data": {
      "text/plain": [
       "<sqlite3.Cursor at 0x2d265643880>"
      ]
     },
     "execution_count": 5,
     "metadata": {},
     "output_type": "execute_result"
    }
   ],
   "source": [
    "# Execute Query\n",
    "cursor.execute(album_count)"
   ]
  },
  {
   "cell_type": "code",
   "execution_count": 6,
   "metadata": {
    "ExecuteTime": {
     "end_time": "2022-09-22T13:49:29.698702Z",
     "start_time": "2022-09-22T13:49:29.690203Z"
    }
   },
   "outputs": [],
   "source": [
    "# Return Query\n",
    "count = cursor.fetchall()"
   ]
  },
  {
   "cell_type": "code",
   "execution_count": 7,
   "metadata": {
    "ExecuteTime": {
     "end_time": "2022-09-22T13:49:30.129319Z",
     "start_time": "2022-09-22T13:49:30.114291Z"
    }
   },
   "outputs": [
    {
     "name": "stdout",
     "output_type": "stream",
     "text": [
      "<class 'list'>\n"
     ]
    },
    {
     "data": {
      "text/plain": [
       "[(347,)]"
      ]
     },
     "execution_count": 7,
     "metadata": {},
     "output_type": "execute_result"
    }
   ],
   "source": [
    "print(type(count))\n",
    "count"
   ]
  },
  {
   "cell_type": "code",
   "execution_count": 8,
   "metadata": {
    "ExecuteTime": {
     "end_time": "2022-09-22T13:49:30.640328Z",
     "start_time": "2022-09-22T13:49:30.635804Z"
    }
   },
   "outputs": [],
   "source": [
    "# Quick helper function\n",
    "def return_query(query, cursor):\n",
    "    cursor.execute(query)\n",
    "    return cursor.fetchall()"
   ]
  },
  {
   "cell_type": "code",
   "execution_count": 9,
   "metadata": {
    "ExecuteTime": {
     "end_time": "2022-09-22T13:49:31.135805Z",
     "start_time": "2022-09-22T13:49:31.118321Z"
    }
   },
   "outputs": [],
   "source": [
    "album_query = \"\"\"\n",
    "SELECT *\n",
    "FROM Album\n",
    "\"\"\""
   ]
  },
  {
   "cell_type": "code",
   "execution_count": 10,
   "metadata": {
    "ExecuteTime": {
     "end_time": "2022-09-22T13:49:31.659199Z",
     "start_time": "2022-09-22T13:49:31.627199Z"
    }
   },
   "outputs": [
    {
     "data": {
      "text/plain": [
       "[(1, 'For Those About To Rock We Salute You', 1),\n",
       " (2, 'Balls to the Wall', 2),\n",
       " (3, 'Restless and Wild', 2),\n",
       " (4, 'Let There Be Rock', 1),\n",
       " (5, 'Big Ones', 3),\n",
       " (6, 'Jagged Little Pill', 4),\n",
       " (7, 'Facelift', 5),\n",
       " (8, 'Warner 25 Anos', 6),\n",
       " (9, 'Plays Metallica By Four Cellos', 7),\n",
       " (10, 'Audioslave', 8),\n",
       " (11, 'Out Of Exile', 8),\n",
       " (12, 'BackBeat Soundtrack', 9),\n",
       " (13, 'The Best Of Billy Cobham', 10),\n",
       " (14, 'Alcohol Fueled Brewtality Live! [Disc 1]', 11),\n",
       " (15, 'Alcohol Fueled Brewtality Live! [Disc 2]', 11),\n",
       " (16, 'Black Sabbath', 12),\n",
       " (17, 'Black Sabbath Vol. 4 (Remaster)', 12),\n",
       " (18, 'Body Count', 13),\n",
       " (19, 'Chemical Wedding', 14),\n",
       " (20, 'The Best Of Buddy Guy - The Millenium Collection', 15),\n",
       " (21, 'Prenda Minha', 16),\n",
       " (22, 'Sozinho Remix Ao Vivo', 16),\n",
       " (23, 'Minha Historia', 17),\n",
       " (24, 'Afrociberdelia', 18),\n",
       " (25, 'Da Lama Ao Caos', 18),\n",
       " (26, 'Acústico MTV [Live]', 19),\n",
       " (27, 'Cidade Negra - Hits', 19),\n",
       " (28, 'Na Pista', 20),\n",
       " (29, 'Axé Bahia 2001', 21),\n",
       " (30, 'BBC Sessions [Disc 1] [Live]', 22),\n",
       " (31, 'Bongo Fury', 23),\n",
       " (32, 'Carnaval 2001', 21),\n",
       " (33, 'Chill: Brazil (Disc 1)', 24),\n",
       " (34, 'Chill: Brazil (Disc 2)', 6),\n",
       " (35, 'Garage Inc. (Disc 1)', 50),\n",
       " (36, 'Greatest Hits II', 51),\n",
       " (37, 'Greatest Kiss', 52),\n",
       " (38, 'Heart of the Night', 53),\n",
       " (39, 'International Superhits', 54),\n",
       " (40, 'Into The Light', 55),\n",
       " (41, 'Meus Momentos', 56),\n",
       " (42, 'Minha História', 57),\n",
       " (43, 'MK III The Final Concerts [Disc 1]', 58),\n",
       " (44, 'Physical Graffiti [Disc 1]', 22),\n",
       " (45, 'Sambas De Enredo 2001', 21),\n",
       " (46, 'Supernatural', 59),\n",
       " (47, 'The Best of Ed Motta', 37),\n",
       " (48, 'The Essential Miles Davis [Disc 1]', 68),\n",
       " (49, 'The Essential Miles Davis [Disc 2]', 68),\n",
       " (50, 'The Final Concerts (Disc 2)', 58),\n",
       " (51, \"Up An' Atom\", 69),\n",
       " (52, 'Vinícius De Moraes - Sem Limite', 70),\n",
       " (53, 'Vozes do MPB', 21),\n",
       " (54, 'Chronicle, Vol. 1', 76),\n",
       " (55, 'Chronicle, Vol. 2', 76),\n",
       " (56, 'Cássia Eller - Coleção Sem Limite [Disc 2]', 77),\n",
       " (57, 'Cássia Eller - Sem Limite [Disc 1]', 77),\n",
       " (58, 'Come Taste The Band', 58),\n",
       " (59, 'Deep Purple In Rock', 58),\n",
       " (60, 'Fireball', 58),\n",
       " (61, \"Knocking at Your Back Door: The Best Of Deep Purple in the 80's\", 58),\n",
       " (62, 'Machine Head', 58),\n",
       " (63, 'Purpendicular', 58),\n",
       " (64, 'Slaves And Masters', 58),\n",
       " (65, 'Stormbringer', 58),\n",
       " (66, 'The Battle Rages On', 58),\n",
       " (67, \"Vault: Def Leppard's Greatest Hits\", 78),\n",
       " (68, 'Outbreak', 79),\n",
       " (69, 'Djavan Ao Vivo - Vol. 02', 80),\n",
       " (70, 'Djavan Ao Vivo - Vol. 1', 80),\n",
       " (71, 'Elis Regina-Minha História', 41),\n",
       " (72, 'The Cream Of Clapton', 81),\n",
       " (73, 'Unplugged', 81),\n",
       " (74, 'Album Of The Year', 82),\n",
       " (75, 'Angel Dust', 82),\n",
       " (76, 'King For A Day Fool For A Lifetime', 82),\n",
       " (77, 'The Real Thing', 82),\n",
       " (78, 'Deixa Entrar', 83),\n",
       " (79, 'In Your Honor [Disc 1]', 84),\n",
       " (80, 'In Your Honor [Disc 2]', 84),\n",
       " (81, 'One By One', 84),\n",
       " (82, 'The Colour And The Shape', 84),\n",
       " (83, 'My Way: The Best Of Frank Sinatra [Disc 1]', 85),\n",
       " (84, 'Roda De Funk', 86),\n",
       " (85, 'As Canções de Eu Tu Eles', 27),\n",
       " (86, 'Quanta Gente Veio Ver (Live)', 27),\n",
       " (87, 'Quanta Gente Veio ver--Bônus De Carnaval', 27),\n",
       " (88, 'Faceless', 87),\n",
       " (89, 'American Idiot', 54),\n",
       " (90, 'Appetite for Destruction', 88),\n",
       " (91, 'Use Your Illusion I', 88),\n",
       " (92, 'Use Your Illusion II', 88),\n",
       " (93, 'Blue Moods', 89),\n",
       " (94, 'A Matter of Life and Death', 90),\n",
       " (95, 'A Real Dead One', 90),\n",
       " (96, 'A Real Live One', 90),\n",
       " (97, 'Brave New World', 90),\n",
       " (98, 'Dance Of Death', 90),\n",
       " (99, 'Fear Of The Dark', 90),\n",
       " (100, 'Iron Maiden', 90),\n",
       " (101, 'Killers', 90),\n",
       " (102, 'Live After Death', 90),\n",
       " (103, 'Live At Donington 1992 (Disc 1)', 90),\n",
       " (104, 'Live At Donington 1992 (Disc 2)', 90),\n",
       " (105, 'No Prayer For The Dying', 90),\n",
       " (106, 'Piece Of Mind', 90),\n",
       " (107, 'Powerslave', 90),\n",
       " (108, 'Rock In Rio [CD1]', 90),\n",
       " (109, 'Rock In Rio [CD2]', 90),\n",
       " (110, 'Seventh Son of a Seventh Son', 90),\n",
       " (111, 'Somewhere in Time', 90),\n",
       " (112, 'The Number of The Beast', 90),\n",
       " (113, 'The X Factor', 90),\n",
       " (114, 'Virtual XI', 90),\n",
       " (115, 'Sex Machine', 91),\n",
       " (116, 'Emergency On Planet Earth', 92),\n",
       " (117, 'Synkronized', 92),\n",
       " (118, 'The Return Of The Space Cowboy', 92),\n",
       " (119, 'Get Born', 93),\n",
       " (120, 'Are You Experienced?', 94),\n",
       " (121, 'Surfing with the Alien (Remastered)', 95),\n",
       " (122, 'Jorge Ben Jor 25 Anos', 46),\n",
       " (123, 'Jota Quest-1995', 96),\n",
       " (124, 'Cafezinho', 97),\n",
       " (125, 'Living After Midnight', 98),\n",
       " (126, 'Unplugged [Live]', 52),\n",
       " (127, 'BBC Sessions [Disc 2] [Live]', 22),\n",
       " (128, 'Coda', 22),\n",
       " (129, 'Houses Of The Holy', 22),\n",
       " (130, 'In Through The Out Door', 22),\n",
       " (131, 'IV', 22),\n",
       " (132, 'Led Zeppelin I', 22),\n",
       " (133, 'Led Zeppelin II', 22),\n",
       " (134, 'Led Zeppelin III', 22),\n",
       " (135, 'Physical Graffiti [Disc 2]', 22),\n",
       " (136, 'Presence', 22),\n",
       " (137, 'The Song Remains The Same (Disc 1)', 22),\n",
       " (138, 'The Song Remains The Same (Disc 2)', 22),\n",
       " (139, 'A TempestadeTempestade Ou O Livro Dos Dias', 99),\n",
       " (140, 'Mais Do Mesmo', 99),\n",
       " (141, 'Greatest Hits', 100),\n",
       " (142, 'Lulu Santos - RCA 100 Anos De Música - Álbum 01', 101),\n",
       " (143, 'Lulu Santos - RCA 100 Anos De Música - Álbum 02', 101),\n",
       " (144, 'Misplaced Childhood', 102),\n",
       " (145, 'Barulhinho Bom', 103),\n",
       " (146, 'Seek And Shall Find: More Of The Best (1963-1981)', 104),\n",
       " (147, 'The Best Of Men At Work', 105),\n",
       " (148, 'Black Album', 50),\n",
       " (149, 'Garage Inc. (Disc 2)', 50),\n",
       " (150, \"Kill 'Em All\", 50),\n",
       " (151, 'Load', 50),\n",
       " (152, 'Master Of Puppets', 50),\n",
       " (153, 'ReLoad', 50),\n",
       " (154, 'Ride The Lightning', 50),\n",
       " (155, 'St. Anger', 50),\n",
       " (156, '...And Justice For All', 50),\n",
       " (157, 'Miles Ahead', 68),\n",
       " (158, 'Milton Nascimento Ao Vivo', 42),\n",
       " (159, 'Minas', 42),\n",
       " (160, 'Ace Of Spades', 106),\n",
       " (161, 'Demorou...', 108),\n",
       " (162, 'Motley Crue Greatest Hits', 109),\n",
       " (163, 'From The Muddy Banks Of The Wishkah [Live]', 110),\n",
       " (164, 'Nevermind', 110),\n",
       " (165, 'Compositores', 111),\n",
       " (166, 'Olodum', 112),\n",
       " (167, 'Acústico MTV', 113),\n",
       " (168, 'Arquivo II', 113),\n",
       " (169, 'Arquivo Os Paralamas Do Sucesso', 113),\n",
       " (170, 'Bark at the Moon (Remastered)', 114),\n",
       " (171, 'Blizzard of Ozz', 114),\n",
       " (172, 'Diary of a Madman (Remastered)', 114),\n",
       " (173, 'No More Tears (Remastered)', 114),\n",
       " (174, 'Tribute', 114),\n",
       " (175, 'Walking Into Clarksdale', 115),\n",
       " (176, 'Original Soundtracks 1', 116),\n",
       " (177, 'The Beast Live', 117),\n",
       " (178, 'Live On Two Legs [Live]', 118),\n",
       " (179, 'Pearl Jam', 118),\n",
       " (180, 'Riot Act', 118),\n",
       " (181, 'Ten', 118),\n",
       " (182, 'Vs.', 118),\n",
       " (183, 'Dark Side Of The Moon', 120),\n",
       " (184, 'Os Cães Ladram Mas A Caravana Não Pára', 121),\n",
       " (185, 'Greatest Hits I', 51),\n",
       " (186, 'News Of The World', 51),\n",
       " (187, 'Out Of Time', 122),\n",
       " (188, 'Green', 124),\n",
       " (189, 'New Adventures In Hi-Fi', 124),\n",
       " (190, 'The Best Of R.E.M.: The IRS Years', 124),\n",
       " (191, 'Cesta Básica', 125),\n",
       " (192, 'Raul Seixas', 126),\n",
       " (193, 'Blood Sugar Sex Magik', 127),\n",
       " (194, 'By The Way', 127),\n",
       " (195, 'Californication', 127),\n",
       " (196, 'Retrospective I (1974-1980)', 128),\n",
       " (197, 'Santana - As Years Go By', 59),\n",
       " (198, 'Santana Live', 59),\n",
       " (199, 'Maquinarama', 130),\n",
       " (200, 'O Samba Poconé', 130),\n",
       " (201, 'Judas 0: B-Sides and Rarities', 131),\n",
       " (202, 'Rotten Apples: Greatest Hits', 131),\n",
       " (203, 'A-Sides', 132),\n",
       " (204, 'Morning Dance', 53),\n",
       " (205, 'In Step', 133),\n",
       " (206, 'Core', 134),\n",
       " (207, 'Mezmerize', 135),\n",
       " (208, '[1997] Black Light Syndrome', 136),\n",
       " (209, 'Live [Disc 1]', 137),\n",
       " (210, 'Live [Disc 2]', 137),\n",
       " (211, 'The Singles', 138),\n",
       " (212, 'Beyond Good And Evil', 139),\n",
       " (213,\n",
       "  'Pure Cult: The Best Of The Cult (For Rockers, Ravers, Lovers & Sinners) [UK]',\n",
       "  139),\n",
       " (214, 'The Doors', 140),\n",
       " (215, 'The Police Greatest Hits', 141),\n",
       " (216, 'Hot Rocks, 1964-1971 (Disc 1)', 142),\n",
       " (217, 'No Security', 142),\n",
       " (218, 'Voodoo Lounge', 142),\n",
       " (219, 'Tangents', 143),\n",
       " (220, 'Transmission', 143),\n",
       " (221, 'My Generation - The Very Best Of The Who', 144),\n",
       " (222, 'Serie Sem Limite (Disc 1)', 145),\n",
       " (223, 'Serie Sem Limite (Disc 2)', 145),\n",
       " (224, 'Acústico', 146),\n",
       " (225, 'Volume Dois', 146),\n",
       " (226, 'Battlestar Galactica: The Story So Far', 147),\n",
       " (227, 'Battlestar Galactica, Season 3', 147),\n",
       " (228, 'Heroes, Season 1', 148),\n",
       " (229, 'Lost, Season 3', 149),\n",
       " (230, 'Lost, Season 1', 149),\n",
       " (231, 'Lost, Season 2', 149),\n",
       " (232, 'Achtung Baby', 150),\n",
       " (233, \"All That You Can't Leave Behind\", 150),\n",
       " (234, 'B-Sides 1980-1990', 150),\n",
       " (235, 'How To Dismantle An Atomic Bomb', 150),\n",
       " (236, 'Pop', 150),\n",
       " (237, 'Rattle And Hum', 150),\n",
       " (238, 'The Best Of 1980-1990', 150),\n",
       " (239, 'War', 150),\n",
       " (240, 'Zooropa', 150),\n",
       " (241, 'UB40 The Best Of - Volume Two [UK]', 151),\n",
       " (242, 'Diver Down', 152),\n",
       " (243, 'The Best Of Van Halen, Vol. I', 152),\n",
       " (244, 'Van Halen', 152),\n",
       " (245, 'Van Halen III', 152),\n",
       " (246, 'Contraband', 153),\n",
       " (247, 'Vinicius De Moraes', 72),\n",
       " (248, 'Ao Vivo [IMPORT]', 155),\n",
       " (249, 'The Office, Season 1', 156),\n",
       " (250, 'The Office, Season 2', 156),\n",
       " (251, 'The Office, Season 3', 156),\n",
       " (252, 'Un-Led-Ed', 157),\n",
       " (253, 'Battlestar Galactica (Classic), Season 1', 158),\n",
       " (254, 'Aquaman', 159),\n",
       " (255,\n",
       "  'Instant Karma: The Amnesty International Campaign to Save Darfur',\n",
       "  150),\n",
       " (256, 'Speak of the Devil', 114),\n",
       " (257,\n",
       "  '20th Century Masters - The Millennium Collection: The Best of Scorpions',\n",
       "  179),\n",
       " (258, 'House of Pain', 180),\n",
       " (259,\n",
       "  'Radio Brasil (O Som da Jovem Vanguarda) - Seleccao de Henrique Amaro',\n",
       "  36),\n",
       " (260, 'Cake: B-Sides and Rarities', 196),\n",
       " (261, 'LOST, Season 4', 149),\n",
       " (262, 'Quiet Songs', 197),\n",
       " (263, 'Muso Ko', 198),\n",
       " (264, 'Realize', 199),\n",
       " (265, 'Every Kind of Light', 200),\n",
       " (266, 'Duos II', 201),\n",
       " (267, 'Worlds', 202),\n",
       " (268, 'The Best of Beethoven', 203),\n",
       " (269, 'Temple of the Dog', 204),\n",
       " (270, 'Carry On', 205),\n",
       " (271, 'Revelations', 8),\n",
       " (272, 'Adorate Deum: Gregorian Chant from the Proper of the Mass', 206),\n",
       " (273, 'Allegri: Miserere', 207),\n",
       " (274, 'Pachelbel: Canon & Gigue', 208),\n",
       " (275, 'Vivaldi: The Four Seasons', 209),\n",
       " (276, 'Bach: Violin Concertos', 210),\n",
       " (277, 'Bach: Goldberg Variations', 211),\n",
       " (278, 'Bach: The Cello Suites', 212),\n",
       " (279, 'Handel: The Messiah (Highlights)', 213),\n",
       " (280, 'The World of Classical Favourites', 214),\n",
       " (281, 'Sir Neville Marriner: A Celebration', 215),\n",
       " (282, 'Mozart: Wind Concertos', 216),\n",
       " (283, 'Haydn: Symphonies 99 - 104', 217),\n",
       " (284, 'Beethoven: Symhonies Nos. 5 & 6', 218),\n",
       " (285, 'A Soprano Inspired', 219),\n",
       " (286, 'Great Opera Choruses', 220),\n",
       " (287, 'Wagner: Favourite Overtures', 221),\n",
       " (288, 'Fauré: Requiem, Ravel: Pavane & Others', 222),\n",
       " (289, 'Tchaikovsky: The Nutcracker', 223),\n",
       " (290, 'The Last Night of the Proms', 224),\n",
       " (291, 'Puccini: Madama Butterfly - Highlights', 225),\n",
       " (292, 'Holst: The Planets, Op. 32 & Vaughan Williams: Fantasies', 226),\n",
       " (293, \"Pavarotti's Opera Made Easy\", 227),\n",
       " (294,\n",
       "  \"Great Performances - Barber's Adagio and Other Romantic Favorites for Strings\",\n",
       "  228),\n",
       " (295, 'Carmina Burana', 229),\n",
       " (296, 'A Copland Celebration, Vol. I', 230),\n",
       " (297, 'Bach: Toccata & Fugue in D Minor', 231),\n",
       " (298, 'Prokofiev: Symphony No.1', 232),\n",
       " (299, 'Scheherazade', 233),\n",
       " (300, 'Bach: The Brandenburg Concertos', 234),\n",
       " (301, 'Chopin: Piano Concertos Nos. 1 & 2', 235),\n",
       " (302, 'Mascagni: Cavalleria Rusticana', 236),\n",
       " (303, 'Sibelius: Finlandia', 237),\n",
       " (304, 'Beethoven Piano Sonatas: Moonlight & Pastorale', 238),\n",
       " (305, 'Great Recordings of the Century - Mahler: Das Lied von der Erde', 240),\n",
       " (306, 'Elgar: Cello Concerto & Vaughan Williams: Fantasias', 241),\n",
       " (307, 'Adams, John: The Chairman Dances', 242),\n",
       " (308,\n",
       "  \"Tchaikovsky: 1812 Festival Overture, Op.49, Capriccio Italien & Beethoven: Wellington's Victory\",\n",
       "  243),\n",
       " (309, 'Palestrina: Missa Papae Marcelli & Allegri: Miserere', 244),\n",
       " (310, 'Prokofiev: Romeo & Juliet', 245),\n",
       " (311, 'Strauss: Waltzes', 226),\n",
       " (312, 'Berlioz: Symphonie Fantastique', 245),\n",
       " (313, 'Bizet: Carmen Highlights', 246),\n",
       " (314, 'English Renaissance', 247),\n",
       " (315, 'Handel: Music for the Royal Fireworks (Original Version 1749)', 208),\n",
       " (316, 'Grieg: Peer Gynt Suites & Sibelius: Pelléas et Mélisande', 248),\n",
       " (317, 'Mozart Gala: Famous Arias', 249),\n",
       " (318, 'SCRIABIN: Vers la flamme', 250),\n",
       " (319, 'Armada: Music from the Courts of England and Spain', 251),\n",
       " (320, 'Mozart: Symphonies Nos. 40 & 41', 248),\n",
       " (321, 'Back to Black', 252),\n",
       " (322, 'Frank', 252),\n",
       " (323, 'Carried to Dust (Bonus Track Version)', 253),\n",
       " (324, \"Beethoven: Symphony No. 6 'Pastoral' Etc.\", 254),\n",
       " (325, 'Bartok: Violin & Viola Concertos', 255),\n",
       " (326, \"Mendelssohn: A Midsummer Night's Dream\", 256),\n",
       " (327, 'Bach: Orchestral Suites Nos. 1 - 4', 257),\n",
       " (328, 'Charpentier: Divertissements, Airs & Concerts', 258),\n",
       " (329, 'South American Getaway', 259),\n",
       " (330, 'Górecki: Symphony No. 3', 260),\n",
       " (331, 'Purcell: The Fairy Queen', 261),\n",
       " (332, 'The Ultimate Relexation Album', 262),\n",
       " (333, 'Purcell: Music for the Queen Mary', 263),\n",
       " (334, 'Weill: The Seven Deadly Sins', 264),\n",
       " (335,\n",
       "  'J.S. Bach: Chaconne, Suite in E Minor, Partita in E Major & Prelude, Fugue and Allegro',\n",
       "  265),\n",
       " (336, 'Prokofiev: Symphony No.5 & Stravinksy: Le Sacre Du Printemps', 248),\n",
       " (337, 'Szymanowski: Piano Works, Vol. 1', 266),\n",
       " (338, 'Nielsen: The Six Symphonies', 267),\n",
       " (339, \"Great Recordings of the Century: Paganini's 24 Caprices\", 268),\n",
       " (340, \"Liszt - 12 Études D'Execution Transcendante\", 269),\n",
       " (341,\n",
       "  'Great Recordings of the Century - Shubert: Schwanengesang, 4 Lieder',\n",
       "  270),\n",
       " (342, 'Locatelli: Concertos for Violin, Strings and Continuo, Vol. 3', 271),\n",
       " (343, 'Respighi:Pines of Rome', 226),\n",
       " (344, \"Schubert: The Late String Quartets & String Quintet (3 CD's)\", 272),\n",
       " (345, \"Monteverdi: L'Orfeo\", 273),\n",
       " (346, 'Mozart: Chamber Music', 274),\n",
       " (347, 'Koyaanisqatsi (Soundtrack from the Motion Picture)', 275)]"
      ]
     },
     "execution_count": 10,
     "metadata": {},
     "output_type": "execute_result"
    }
   ],
   "source": [
    "al_list = return_query(album_query, cursor)\n",
    "al_list"
   ]
  },
  {
   "cell_type": "code",
   "execution_count": 11,
   "metadata": {
    "ExecuteTime": {
     "end_time": "2022-09-22T13:49:32.183873Z",
     "start_time": "2022-09-22T13:49:32.166372Z"
    }
   },
   "outputs": [],
   "source": [
    "# A reminder of how to read into pandas"
   ]
  },
  {
   "cell_type": "code",
   "execution_count": 12,
   "metadata": {
    "ExecuteTime": {
     "end_time": "2022-09-22T13:49:32.832369Z",
     "start_time": "2022-09-22T13:49:32.667449Z"
    }
   },
   "outputs": [
    {
     "data": {
      "text/html": [
       "<div>\n",
       "<style scoped>\n",
       "    .dataframe tbody tr th:only-of-type {\n",
       "        vertical-align: middle;\n",
       "    }\n",
       "\n",
       "    .dataframe tbody tr th {\n",
       "        vertical-align: top;\n",
       "    }\n",
       "\n",
       "    .dataframe thead th {\n",
       "        text-align: right;\n",
       "    }\n",
       "</style>\n",
       "<table border=\"1\" class=\"dataframe\">\n",
       "  <thead>\n",
       "    <tr style=\"text-align: right;\">\n",
       "      <th></th>\n",
       "      <th>AlbumId</th>\n",
       "      <th>Title</th>\n",
       "      <th>ArtistId</th>\n",
       "    </tr>\n",
       "  </thead>\n",
       "  <tbody>\n",
       "    <tr>\n",
       "      <th>0</th>\n",
       "      <td>1</td>\n",
       "      <td>For Those About To Rock We Salute You</td>\n",
       "      <td>1</td>\n",
       "    </tr>\n",
       "    <tr>\n",
       "      <th>1</th>\n",
       "      <td>2</td>\n",
       "      <td>Balls to the Wall</td>\n",
       "      <td>2</td>\n",
       "    </tr>\n",
       "    <tr>\n",
       "      <th>2</th>\n",
       "      <td>3</td>\n",
       "      <td>Restless and Wild</td>\n",
       "      <td>2</td>\n",
       "    </tr>\n",
       "    <tr>\n",
       "      <th>3</th>\n",
       "      <td>4</td>\n",
       "      <td>Let There Be Rock</td>\n",
       "      <td>1</td>\n",
       "    </tr>\n",
       "    <tr>\n",
       "      <th>4</th>\n",
       "      <td>5</td>\n",
       "      <td>Big Ones</td>\n",
       "      <td>3</td>\n",
       "    </tr>\n",
       "    <tr>\n",
       "      <th>...</th>\n",
       "      <td>...</td>\n",
       "      <td>...</td>\n",
       "      <td>...</td>\n",
       "    </tr>\n",
       "    <tr>\n",
       "      <th>342</th>\n",
       "      <td>343</td>\n",
       "      <td>Respighi:Pines of Rome</td>\n",
       "      <td>226</td>\n",
       "    </tr>\n",
       "    <tr>\n",
       "      <th>343</th>\n",
       "      <td>344</td>\n",
       "      <td>Schubert: The Late String Quartets &amp; String Qu...</td>\n",
       "      <td>272</td>\n",
       "    </tr>\n",
       "    <tr>\n",
       "      <th>344</th>\n",
       "      <td>345</td>\n",
       "      <td>Monteverdi: L'Orfeo</td>\n",
       "      <td>273</td>\n",
       "    </tr>\n",
       "    <tr>\n",
       "      <th>345</th>\n",
       "      <td>346</td>\n",
       "      <td>Mozart: Chamber Music</td>\n",
       "      <td>274</td>\n",
       "    </tr>\n",
       "    <tr>\n",
       "      <th>346</th>\n",
       "      <td>347</td>\n",
       "      <td>Koyaanisqatsi (Soundtrack from the Motion Pict...</td>\n",
       "      <td>275</td>\n",
       "    </tr>\n",
       "  </tbody>\n",
       "</table>\n",
       "<p>347 rows × 3 columns</p>\n",
       "</div>"
      ],
      "text/plain": [
       "     AlbumId                                              Title  ArtistId\n",
       "0          1              For Those About To Rock We Salute You         1\n",
       "1          2                                  Balls to the Wall         2\n",
       "2          3                                  Restless and Wild         2\n",
       "3          4                                  Let There Be Rock         1\n",
       "4          5                                           Big Ones         3\n",
       "..       ...                                                ...       ...\n",
       "342      343                             Respighi:Pines of Rome       226\n",
       "343      344  Schubert: The Late String Quartets & String Qu...       272\n",
       "344      345                                Monteverdi: L'Orfeo       273\n",
       "345      346                              Mozart: Chamber Music       274\n",
       "346      347  Koyaanisqatsi (Soundtrack from the Motion Pict...       275\n",
       "\n",
       "[347 rows x 3 columns]"
      ]
     },
     "execution_count": 12,
     "metadata": {},
     "output_type": "execute_result"
    }
   ],
   "source": [
    "albums_df = pd.read_sql(album_query, con)\n",
    "\n",
    "albums_df\n"
   ]
  },
  {
   "cell_type": "code",
   "execution_count": 13,
   "metadata": {
    "ExecuteTime": {
     "end_time": "2022-09-22T13:49:33.248848Z",
     "start_time": "2022-09-22T13:49:33.237341Z"
    }
   },
   "outputs": [
    {
     "data": {
      "text/plain": [
       "(1, 'For Those About To Rock We Salute You', 1)"
      ]
     },
     "execution_count": 13,
     "metadata": {},
     "output_type": "execute_result"
    }
   ],
   "source": [
    "al_list[0]"
   ]
  },
  {
   "cell_type": "code",
   "execution_count": 14,
   "metadata": {
    "ExecuteTime": {
     "end_time": "2022-09-22T13:49:33.727324Z",
     "start_time": "2022-09-22T13:49:33.713323Z"
    }
   },
   "outputs": [
    {
     "data": {
      "text/plain": [
       "'For Those About To Rock We Salute You'"
      ]
     },
     "execution_count": 14,
     "metadata": {},
     "output_type": "execute_result"
    }
   ],
   "source": [
    "al_list[0][1]"
   ]
  },
  {
   "cell_type": "code",
   "execution_count": 15,
   "metadata": {
    "ExecuteTime": {
     "end_time": "2022-09-22T13:49:34.313316Z",
     "start_time": "2022-09-22T13:49:34.290345Z"
    }
   },
   "outputs": [
    {
     "data": {
      "text/html": [
       "<div>\n",
       "<style scoped>\n",
       "    .dataframe tbody tr th:only-of-type {\n",
       "        vertical-align: middle;\n",
       "    }\n",
       "\n",
       "    .dataframe tbody tr th {\n",
       "        vertical-align: top;\n",
       "    }\n",
       "\n",
       "    .dataframe thead th {\n",
       "        text-align: right;\n",
       "    }\n",
       "</style>\n",
       "<table border=\"1\" class=\"dataframe\">\n",
       "  <thead>\n",
       "    <tr style=\"text-align: right;\">\n",
       "      <th></th>\n",
       "      <th>type</th>\n",
       "      <th>name</th>\n",
       "      <th>tbl_name</th>\n",
       "      <th>rootpage</th>\n",
       "      <th>sql</th>\n",
       "    </tr>\n",
       "  </thead>\n",
       "  <tbody>\n",
       "    <tr>\n",
       "      <th>0</th>\n",
       "      <td>table</td>\n",
       "      <td>Album</td>\n",
       "      <td>Album</td>\n",
       "      <td>19</td>\n",
       "      <td>CREATE TABLE [Album]\\n(\\n    [AlbumId] INTEGER...</td>\n",
       "    </tr>\n",
       "    <tr>\n",
       "      <th>1</th>\n",
       "      <td>table</td>\n",
       "      <td>Artist</td>\n",
       "      <td>Artist</td>\n",
       "      <td>281</td>\n",
       "      <td>CREATE TABLE [Artist]\\n(\\n    [ArtistId] INTEG...</td>\n",
       "    </tr>\n",
       "    <tr>\n",
       "      <th>2</th>\n",
       "      <td>table</td>\n",
       "      <td>Customer</td>\n",
       "      <td>Customer</td>\n",
       "      <td>386</td>\n",
       "      <td>CREATE TABLE [Customer]\\n(\\n    [CustomerId] I...</td>\n",
       "    </tr>\n",
       "    <tr>\n",
       "      <th>3</th>\n",
       "      <td>table</td>\n",
       "      <td>Employee</td>\n",
       "      <td>Employee</td>\n",
       "      <td>392</td>\n",
       "      <td>CREATE TABLE [Employee]\\n(\\n    [EmployeeId] I...</td>\n",
       "    </tr>\n",
       "    <tr>\n",
       "      <th>4</th>\n",
       "      <td>table</td>\n",
       "      <td>Genre</td>\n",
       "      <td>Genre</td>\n",
       "      <td>395</td>\n",
       "      <td>CREATE TABLE [Genre]\\n(\\n    [GenreId] INTEGER...</td>\n",
       "    </tr>\n",
       "    <tr>\n",
       "      <th>5</th>\n",
       "      <td>table</td>\n",
       "      <td>Invoice</td>\n",
       "      <td>Invoice</td>\n",
       "      <td>396</td>\n",
       "      <td>CREATE TABLE [Invoice]\\n(\\n    [InvoiceId] INT...</td>\n",
       "    </tr>\n",
       "    <tr>\n",
       "      <th>6</th>\n",
       "      <td>table</td>\n",
       "      <td>InvoiceLine</td>\n",
       "      <td>InvoiceLine</td>\n",
       "      <td>399</td>\n",
       "      <td>CREATE TABLE [InvoiceLine]\\n(\\n    [InvoiceLin...</td>\n",
       "    </tr>\n",
       "    <tr>\n",
       "      <th>7</th>\n",
       "      <td>table</td>\n",
       "      <td>MediaType</td>\n",
       "      <td>MediaType</td>\n",
       "      <td>402</td>\n",
       "      <td>CREATE TABLE [MediaType]\\n(\\n    [MediaTypeId]...</td>\n",
       "    </tr>\n",
       "    <tr>\n",
       "      <th>8</th>\n",
       "      <td>table</td>\n",
       "      <td>Playlist</td>\n",
       "      <td>Playlist</td>\n",
       "      <td>404</td>\n",
       "      <td>CREATE TABLE [Playlist]\\n(\\n    [PlaylistId] I...</td>\n",
       "    </tr>\n",
       "    <tr>\n",
       "      <th>9</th>\n",
       "      <td>table</td>\n",
       "      <td>PlaylistTrack</td>\n",
       "      <td>PlaylistTrack</td>\n",
       "      <td>405</td>\n",
       "      <td>CREATE TABLE [PlaylistTrack]\\n(\\n    [Playlist...</td>\n",
       "    </tr>\n",
       "    <tr>\n",
       "      <th>10</th>\n",
       "      <td>index</td>\n",
       "      <td>sqlite_autoindex_PlaylistTrack_1</td>\n",
       "      <td>PlaylistTrack</td>\n",
       "      <td>406</td>\n",
       "      <td>None</td>\n",
       "    </tr>\n",
       "    <tr>\n",
       "      <th>11</th>\n",
       "      <td>table</td>\n",
       "      <td>Track</td>\n",
       "      <td>Track</td>\n",
       "      <td>409</td>\n",
       "      <td>CREATE TABLE [Track]\\n(\\n    [TrackId] INTEGER...</td>\n",
       "    </tr>\n",
       "    <tr>\n",
       "      <th>12</th>\n",
       "      <td>index</td>\n",
       "      <td>IFK_AlbumArtistId</td>\n",
       "      <td>Album</td>\n",
       "      <td>415</td>\n",
       "      <td>CREATE INDEX [IFK_AlbumArtistId] ON [Album] ([...</td>\n",
       "    </tr>\n",
       "    <tr>\n",
       "      <th>13</th>\n",
       "      <td>index</td>\n",
       "      <td>IFK_CustomerSupportRepId</td>\n",
       "      <td>Customer</td>\n",
       "      <td>417</td>\n",
       "      <td>CREATE INDEX [IFK_CustomerSupportRepId] ON [Cu...</td>\n",
       "    </tr>\n",
       "    <tr>\n",
       "      <th>14</th>\n",
       "      <td>index</td>\n",
       "      <td>IFK_EmployeeReportsTo</td>\n",
       "      <td>Employee</td>\n",
       "      <td>418</td>\n",
       "      <td>CREATE INDEX [IFK_EmployeeReportsTo] ON [Emplo...</td>\n",
       "    </tr>\n",
       "    <tr>\n",
       "      <th>15</th>\n",
       "      <td>index</td>\n",
       "      <td>IFK_InvoiceCustomerId</td>\n",
       "      <td>Invoice</td>\n",
       "      <td>420</td>\n",
       "      <td>CREATE INDEX [IFK_InvoiceCustomerId] ON [Invoi...</td>\n",
       "    </tr>\n",
       "    <tr>\n",
       "      <th>16</th>\n",
       "      <td>index</td>\n",
       "      <td>IFK_InvoiceLineInvoiceId</td>\n",
       "      <td>InvoiceLine</td>\n",
       "      <td>424</td>\n",
       "      <td>CREATE INDEX [IFK_InvoiceLineInvoiceId] ON [In...</td>\n",
       "    </tr>\n",
       "    <tr>\n",
       "      <th>17</th>\n",
       "      <td>index</td>\n",
       "      <td>IFK_InvoiceLineTrackId</td>\n",
       "      <td>InvoiceLine</td>\n",
       "      <td>426</td>\n",
       "      <td>CREATE INDEX [IFK_InvoiceLineTrackId] ON [Invo...</td>\n",
       "    </tr>\n",
       "    <tr>\n",
       "      <th>18</th>\n",
       "      <td>index</td>\n",
       "      <td>IFK_PlaylistTrackTrackId</td>\n",
       "      <td>PlaylistTrack</td>\n",
       "      <td>427</td>\n",
       "      <td>CREATE INDEX [IFK_PlaylistTrackTrackId] ON [Pl...</td>\n",
       "    </tr>\n",
       "    <tr>\n",
       "      <th>19</th>\n",
       "      <td>index</td>\n",
       "      <td>IFK_TrackAlbumId</td>\n",
       "      <td>Track</td>\n",
       "      <td>428</td>\n",
       "      <td>CREATE INDEX [IFK_TrackAlbumId] ON [Track] ([A...</td>\n",
       "    </tr>\n",
       "    <tr>\n",
       "      <th>20</th>\n",
       "      <td>index</td>\n",
       "      <td>IFK_TrackGenreId</td>\n",
       "      <td>Track</td>\n",
       "      <td>430</td>\n",
       "      <td>CREATE INDEX [IFK_TrackGenreId] ON [Track] ([G...</td>\n",
       "    </tr>\n",
       "    <tr>\n",
       "      <th>21</th>\n",
       "      <td>index</td>\n",
       "      <td>IFK_TrackMediaTypeId</td>\n",
       "      <td>Track</td>\n",
       "      <td>432</td>\n",
       "      <td>CREATE INDEX [IFK_TrackMediaTypeId] ON [Track]...</td>\n",
       "    </tr>\n",
       "  </tbody>\n",
       "</table>\n",
       "</div>"
      ],
      "text/plain": [
       "     type                              name       tbl_name  rootpage  \\\n",
       "0   table                             Album          Album        19   \n",
       "1   table                            Artist         Artist       281   \n",
       "2   table                          Customer       Customer       386   \n",
       "3   table                          Employee       Employee       392   \n",
       "4   table                             Genre          Genre       395   \n",
       "5   table                           Invoice        Invoice       396   \n",
       "6   table                       InvoiceLine    InvoiceLine       399   \n",
       "7   table                         MediaType      MediaType       402   \n",
       "8   table                          Playlist       Playlist       404   \n",
       "9   table                     PlaylistTrack  PlaylistTrack       405   \n",
       "10  index  sqlite_autoindex_PlaylistTrack_1  PlaylistTrack       406   \n",
       "11  table                             Track          Track       409   \n",
       "12  index                 IFK_AlbumArtistId          Album       415   \n",
       "13  index          IFK_CustomerSupportRepId       Customer       417   \n",
       "14  index             IFK_EmployeeReportsTo       Employee       418   \n",
       "15  index             IFK_InvoiceCustomerId        Invoice       420   \n",
       "16  index          IFK_InvoiceLineInvoiceId    InvoiceLine       424   \n",
       "17  index            IFK_InvoiceLineTrackId    InvoiceLine       426   \n",
       "18  index          IFK_PlaylistTrackTrackId  PlaylistTrack       427   \n",
       "19  index                  IFK_TrackAlbumId          Track       428   \n",
       "20  index                  IFK_TrackGenreId          Track       430   \n",
       "21  index              IFK_TrackMediaTypeId          Track       432   \n",
       "\n",
       "                                                  sql  \n",
       "0   CREATE TABLE [Album]\\n(\\n    [AlbumId] INTEGER...  \n",
       "1   CREATE TABLE [Artist]\\n(\\n    [ArtistId] INTEG...  \n",
       "2   CREATE TABLE [Customer]\\n(\\n    [CustomerId] I...  \n",
       "3   CREATE TABLE [Employee]\\n(\\n    [EmployeeId] I...  \n",
       "4   CREATE TABLE [Genre]\\n(\\n    [GenreId] INTEGER...  \n",
       "5   CREATE TABLE [Invoice]\\n(\\n    [InvoiceId] INT...  \n",
       "6   CREATE TABLE [InvoiceLine]\\n(\\n    [InvoiceLin...  \n",
       "7   CREATE TABLE [MediaType]\\n(\\n    [MediaTypeId]...  \n",
       "8   CREATE TABLE [Playlist]\\n(\\n    [PlaylistId] I...  \n",
       "9   CREATE TABLE [PlaylistTrack]\\n(\\n    [Playlist...  \n",
       "10                                               None  \n",
       "11  CREATE TABLE [Track]\\n(\\n    [TrackId] INTEGER...  \n",
       "12  CREATE INDEX [IFK_AlbumArtistId] ON [Album] ([...  \n",
       "13  CREATE INDEX [IFK_CustomerSupportRepId] ON [Cu...  \n",
       "14  CREATE INDEX [IFK_EmployeeReportsTo] ON [Emplo...  \n",
       "15  CREATE INDEX [IFK_InvoiceCustomerId] ON [Invoi...  \n",
       "16  CREATE INDEX [IFK_InvoiceLineInvoiceId] ON [In...  \n",
       "17  CREATE INDEX [IFK_InvoiceLineTrackId] ON [Invo...  \n",
       "18  CREATE INDEX [IFK_PlaylistTrackTrackId] ON [Pl...  \n",
       "19  CREATE INDEX [IFK_TrackAlbumId] ON [Track] ([A...  \n",
       "20  CREATE INDEX [IFK_TrackGenreId] ON [Track] ([G...  \n",
       "21  CREATE INDEX [IFK_TrackMediaTypeId] ON [Track]...  "
      ]
     },
     "execution_count": 15,
     "metadata": {},
     "output_type": "execute_result"
    }
   ],
   "source": [
    "# Schema!\n",
    "schema_df = pd.read_sql(\"\"\"\n",
    "\n",
    "SELECT *\n",
    "FROM sqlite_master\n",
    "\n",
    "\"\"\", con)\n",
    "\n",
    "schema_df"
   ]
  },
  {
   "cell_type": "code",
   "execution_count": 16,
   "metadata": {
    "ExecuteTime": {
     "end_time": "2022-09-22T13:49:35.502128Z",
     "start_time": "2022-09-22T13:49:35.495133Z"
    }
   },
   "outputs": [],
   "source": [
    "name_list = list(schema_df[ schema_df['type'] == 'table']['name'].values)"
   ]
  },
  {
   "cell_type": "code",
   "execution_count": 17,
   "metadata": {
    "ExecuteTime": {
     "end_time": "2022-09-22T13:49:36.148465Z",
     "start_time": "2022-09-22T13:49:36.142493Z"
    }
   },
   "outputs": [
    {
     "data": {
      "text/plain": [
       "['Album',\n",
       " 'Artist',\n",
       " 'Customer',\n",
       " 'Employee',\n",
       " 'Genre',\n",
       " 'Invoice',\n",
       " 'InvoiceLine',\n",
       " 'MediaType',\n",
       " 'Playlist',\n",
       " 'PlaylistTrack',\n",
       " 'Track']"
      ]
     },
     "execution_count": 17,
     "metadata": {},
     "output_type": "execute_result"
    }
   ],
   "source": [
    "name_list"
   ]
  },
  {
   "cell_type": "code",
   "execution_count": 18,
   "metadata": {
    "ExecuteTime": {
     "end_time": "2022-09-22T13:49:36.889340Z",
     "start_time": "2022-09-22T13:49:36.811548Z"
    }
   },
   "outputs": [],
   "source": [
    "# This will create a new dataframe for each table in the database. This allows for easy exploration of the data.\n",
    "# First, create the query with the format statement\n",
    "# Create a temporary table with the pd.read_sql\n",
    "# Create the variable name by concatenating the table name and '_df'\n",
    "# Use the globals() to access the table_df name and assign the the temp df to it\n",
    "\n",
    "for name in name_list:\n",
    "    \n",
    "    query = 'SELECT * from {}'.format(name)\n",
    "    \n",
    "    table_df = pd.read_sql(query, con)\n",
    "    \n",
    "    df_name=name+'_df'\n",
    "    \n",
    "    globals()[df_name]=table_df\n",
    "    "
   ]
  },
  {
   "cell_type": "code",
   "execution_count": 19,
   "metadata": {
    "ExecuteTime": {
     "end_time": "2022-09-22T13:49:37.708266Z",
     "start_time": "2022-09-22T13:49:37.695237Z"
    }
   },
   "outputs": [],
   "source": [
    "# Create a list of dataframe names\n",
    "df_list = [name+'_df' for name in name_list]"
   ]
  },
  {
   "cell_type": "code",
   "execution_count": 31,
   "metadata": {
    "ExecuteTime": {
     "end_time": "2022-09-22T14:03:08.779378Z",
     "start_time": "2022-09-22T14:03:08.710912Z"
    },
    "scrolled": false
   },
   "outputs": [
    {
     "name": "stdout",
     "output_type": "stream",
     "text": [
      "Table Album_df\n"
     ]
    },
    {
     "data": {
      "text/html": [
       "<div>\n",
       "<style scoped>\n",
       "    .dataframe tbody tr th:only-of-type {\n",
       "        vertical-align: middle;\n",
       "    }\n",
       "\n",
       "    .dataframe tbody tr th {\n",
       "        vertical-align: top;\n",
       "    }\n",
       "\n",
       "    .dataframe thead th {\n",
       "        text-align: right;\n",
       "    }\n",
       "</style>\n",
       "<table border=\"1\" class=\"dataframe\">\n",
       "  <thead>\n",
       "    <tr style=\"text-align: right;\">\n",
       "      <th></th>\n",
       "      <th>AlbumId</th>\n",
       "      <th>Title</th>\n",
       "      <th>ArtistId</th>\n",
       "    </tr>\n",
       "  </thead>\n",
       "  <tbody>\n",
       "    <tr>\n",
       "      <th>0</th>\n",
       "      <td>1</td>\n",
       "      <td>For Those About To Rock We Salute You</td>\n",
       "      <td>1</td>\n",
       "    </tr>\n",
       "  </tbody>\n",
       "</table>\n",
       "</div>"
      ],
      "text/plain": [
       "   AlbumId                                  Title  ArtistId\n",
       "0        1  For Those About To Rock We Salute You         1"
      ]
     },
     "metadata": {},
     "output_type": "display_data"
    },
    {
     "name": "stdout",
     "output_type": "stream",
     "text": [
      "Table Artist_df\n"
     ]
    },
    {
     "data": {
      "text/html": [
       "<div>\n",
       "<style scoped>\n",
       "    .dataframe tbody tr th:only-of-type {\n",
       "        vertical-align: middle;\n",
       "    }\n",
       "\n",
       "    .dataframe tbody tr th {\n",
       "        vertical-align: top;\n",
       "    }\n",
       "\n",
       "    .dataframe thead th {\n",
       "        text-align: right;\n",
       "    }\n",
       "</style>\n",
       "<table border=\"1\" class=\"dataframe\">\n",
       "  <thead>\n",
       "    <tr style=\"text-align: right;\">\n",
       "      <th></th>\n",
       "      <th>ArtistId</th>\n",
       "      <th>Name</th>\n",
       "    </tr>\n",
       "  </thead>\n",
       "  <tbody>\n",
       "    <tr>\n",
       "      <th>0</th>\n",
       "      <td>1</td>\n",
       "      <td>AC/DC</td>\n",
       "    </tr>\n",
       "  </tbody>\n",
       "</table>\n",
       "</div>"
      ],
      "text/plain": [
       "   ArtistId   Name\n",
       "0         1  AC/DC"
      ]
     },
     "metadata": {},
     "output_type": "display_data"
    },
    {
     "name": "stdout",
     "output_type": "stream",
     "text": [
      "Table Customer_df\n"
     ]
    },
    {
     "data": {
      "text/html": [
       "<div>\n",
       "<style scoped>\n",
       "    .dataframe tbody tr th:only-of-type {\n",
       "        vertical-align: middle;\n",
       "    }\n",
       "\n",
       "    .dataframe tbody tr th {\n",
       "        vertical-align: top;\n",
       "    }\n",
       "\n",
       "    .dataframe thead th {\n",
       "        text-align: right;\n",
       "    }\n",
       "</style>\n",
       "<table border=\"1\" class=\"dataframe\">\n",
       "  <thead>\n",
       "    <tr style=\"text-align: right;\">\n",
       "      <th></th>\n",
       "      <th>CustomerId</th>\n",
       "      <th>FirstName</th>\n",
       "      <th>LastName</th>\n",
       "      <th>Company</th>\n",
       "      <th>Address</th>\n",
       "      <th>City</th>\n",
       "      <th>State</th>\n",
       "      <th>Country</th>\n",
       "      <th>PostalCode</th>\n",
       "      <th>Phone</th>\n",
       "      <th>Fax</th>\n",
       "      <th>Email</th>\n",
       "      <th>SupportRepId</th>\n",
       "    </tr>\n",
       "  </thead>\n",
       "  <tbody>\n",
       "    <tr>\n",
       "      <th>0</th>\n",
       "      <td>1</td>\n",
       "      <td>Luís</td>\n",
       "      <td>Gonçalves</td>\n",
       "      <td>Embraer - Empresa Brasileira de Aeronáutica S.A.</td>\n",
       "      <td>Av. Brigadeiro Faria Lima, 2170</td>\n",
       "      <td>São José dos Campos</td>\n",
       "      <td>SP</td>\n",
       "      <td>Brazil</td>\n",
       "      <td>12227-000</td>\n",
       "      <td>+55 (12) 3923-5555</td>\n",
       "      <td>+55 (12) 3923-5566</td>\n",
       "      <td>luisg@embraer.com.br</td>\n",
       "      <td>3</td>\n",
       "    </tr>\n",
       "  </tbody>\n",
       "</table>\n",
       "</div>"
      ],
      "text/plain": [
       "   CustomerId FirstName   LastName  \\\n",
       "0           1      Luís  Gonçalves   \n",
       "\n",
       "                                            Company  \\\n",
       "0  Embraer - Empresa Brasileira de Aeronáutica S.A.   \n",
       "\n",
       "                           Address                 City State Country  \\\n",
       "0  Av. Brigadeiro Faria Lima, 2170  São José dos Campos    SP  Brazil   \n",
       "\n",
       "  PostalCode               Phone                 Fax                 Email  \\\n",
       "0  12227-000  +55 (12) 3923-5555  +55 (12) 3923-5566  luisg@embraer.com.br   \n",
       "\n",
       "   SupportRepId  \n",
       "0             3  "
      ]
     },
     "metadata": {},
     "output_type": "display_data"
    },
    {
     "name": "stdout",
     "output_type": "stream",
     "text": [
      "Table Employee_df\n"
     ]
    },
    {
     "data": {
      "text/html": [
       "<div>\n",
       "<style scoped>\n",
       "    .dataframe tbody tr th:only-of-type {\n",
       "        vertical-align: middle;\n",
       "    }\n",
       "\n",
       "    .dataframe tbody tr th {\n",
       "        vertical-align: top;\n",
       "    }\n",
       "\n",
       "    .dataframe thead th {\n",
       "        text-align: right;\n",
       "    }\n",
       "</style>\n",
       "<table border=\"1\" class=\"dataframe\">\n",
       "  <thead>\n",
       "    <tr style=\"text-align: right;\">\n",
       "      <th></th>\n",
       "      <th>EmployeeId</th>\n",
       "      <th>LastName</th>\n",
       "      <th>FirstName</th>\n",
       "      <th>Title</th>\n",
       "      <th>ReportsTo</th>\n",
       "      <th>BirthDate</th>\n",
       "      <th>HireDate</th>\n",
       "      <th>Address</th>\n",
       "      <th>City</th>\n",
       "      <th>State</th>\n",
       "      <th>Country</th>\n",
       "      <th>PostalCode</th>\n",
       "      <th>Phone</th>\n",
       "      <th>Fax</th>\n",
       "      <th>Email</th>\n",
       "    </tr>\n",
       "  </thead>\n",
       "  <tbody>\n",
       "    <tr>\n",
       "      <th>0</th>\n",
       "      <td>1</td>\n",
       "      <td>Adams</td>\n",
       "      <td>Andrew</td>\n",
       "      <td>General Manager</td>\n",
       "      <td>NaN</td>\n",
       "      <td>1962-02-18 00:00:00</td>\n",
       "      <td>2002-08-14 00:00:00</td>\n",
       "      <td>11120 Jasper Ave NW</td>\n",
       "      <td>Edmonton</td>\n",
       "      <td>AB</td>\n",
       "      <td>Canada</td>\n",
       "      <td>T5K 2N1</td>\n",
       "      <td>+1 (780) 428-9482</td>\n",
       "      <td>+1 (780) 428-3457</td>\n",
       "      <td>andrew@chinookcorp.com</td>\n",
       "    </tr>\n",
       "  </tbody>\n",
       "</table>\n",
       "</div>"
      ],
      "text/plain": [
       "   EmployeeId LastName FirstName            Title  ReportsTo  \\\n",
       "0           1    Adams    Andrew  General Manager        NaN   \n",
       "\n",
       "             BirthDate             HireDate              Address      City  \\\n",
       "0  1962-02-18 00:00:00  2002-08-14 00:00:00  11120 Jasper Ave NW  Edmonton   \n",
       "\n",
       "  State Country PostalCode              Phone                Fax  \\\n",
       "0    AB  Canada    T5K 2N1  +1 (780) 428-9482  +1 (780) 428-3457   \n",
       "\n",
       "                    Email  \n",
       "0  andrew@chinookcorp.com  "
      ]
     },
     "metadata": {},
     "output_type": "display_data"
    },
    {
     "name": "stdout",
     "output_type": "stream",
     "text": [
      "Table Genre_df\n"
     ]
    },
    {
     "data": {
      "text/html": [
       "<div>\n",
       "<style scoped>\n",
       "    .dataframe tbody tr th:only-of-type {\n",
       "        vertical-align: middle;\n",
       "    }\n",
       "\n",
       "    .dataframe tbody tr th {\n",
       "        vertical-align: top;\n",
       "    }\n",
       "\n",
       "    .dataframe thead th {\n",
       "        text-align: right;\n",
       "    }\n",
       "</style>\n",
       "<table border=\"1\" class=\"dataframe\">\n",
       "  <thead>\n",
       "    <tr style=\"text-align: right;\">\n",
       "      <th></th>\n",
       "      <th>GenreId</th>\n",
       "      <th>Name</th>\n",
       "    </tr>\n",
       "  </thead>\n",
       "  <tbody>\n",
       "    <tr>\n",
       "      <th>0</th>\n",
       "      <td>1</td>\n",
       "      <td>Rock</td>\n",
       "    </tr>\n",
       "  </tbody>\n",
       "</table>\n",
       "</div>"
      ],
      "text/plain": [
       "   GenreId  Name\n",
       "0        1  Rock"
      ]
     },
     "metadata": {},
     "output_type": "display_data"
    },
    {
     "name": "stdout",
     "output_type": "stream",
     "text": [
      "Table Invoice_df\n"
     ]
    },
    {
     "data": {
      "text/html": [
       "<div>\n",
       "<style scoped>\n",
       "    .dataframe tbody tr th:only-of-type {\n",
       "        vertical-align: middle;\n",
       "    }\n",
       "\n",
       "    .dataframe tbody tr th {\n",
       "        vertical-align: top;\n",
       "    }\n",
       "\n",
       "    .dataframe thead th {\n",
       "        text-align: right;\n",
       "    }\n",
       "</style>\n",
       "<table border=\"1\" class=\"dataframe\">\n",
       "  <thead>\n",
       "    <tr style=\"text-align: right;\">\n",
       "      <th></th>\n",
       "      <th>InvoiceId</th>\n",
       "      <th>CustomerId</th>\n",
       "      <th>InvoiceDate</th>\n",
       "      <th>BillingAddress</th>\n",
       "      <th>BillingCity</th>\n",
       "      <th>BillingState</th>\n",
       "      <th>BillingCountry</th>\n",
       "      <th>BillingPostalCode</th>\n",
       "      <th>Total</th>\n",
       "    </tr>\n",
       "  </thead>\n",
       "  <tbody>\n",
       "    <tr>\n",
       "      <th>0</th>\n",
       "      <td>1</td>\n",
       "      <td>2</td>\n",
       "      <td>2009-01-01 00:00:00</td>\n",
       "      <td>Theodor-Heuss-Straße 34</td>\n",
       "      <td>Stuttgart</td>\n",
       "      <td>None</td>\n",
       "      <td>Germany</td>\n",
       "      <td>70174</td>\n",
       "      <td>1.98</td>\n",
       "    </tr>\n",
       "  </tbody>\n",
       "</table>\n",
       "</div>"
      ],
      "text/plain": [
       "   InvoiceId  CustomerId          InvoiceDate           BillingAddress  \\\n",
       "0          1           2  2009-01-01 00:00:00  Theodor-Heuss-Straße 34   \n",
       "\n",
       "  BillingCity BillingState BillingCountry BillingPostalCode  Total  \n",
       "0   Stuttgart         None        Germany             70174   1.98  "
      ]
     },
     "metadata": {},
     "output_type": "display_data"
    },
    {
     "name": "stdout",
     "output_type": "stream",
     "text": [
      "Table InvoiceLine_df\n"
     ]
    },
    {
     "data": {
      "text/html": [
       "<div>\n",
       "<style scoped>\n",
       "    .dataframe tbody tr th:only-of-type {\n",
       "        vertical-align: middle;\n",
       "    }\n",
       "\n",
       "    .dataframe tbody tr th {\n",
       "        vertical-align: top;\n",
       "    }\n",
       "\n",
       "    .dataframe thead th {\n",
       "        text-align: right;\n",
       "    }\n",
       "</style>\n",
       "<table border=\"1\" class=\"dataframe\">\n",
       "  <thead>\n",
       "    <tr style=\"text-align: right;\">\n",
       "      <th></th>\n",
       "      <th>InvoiceLineId</th>\n",
       "      <th>InvoiceId</th>\n",
       "      <th>TrackId</th>\n",
       "      <th>UnitPrice</th>\n",
       "      <th>Quantity</th>\n",
       "    </tr>\n",
       "  </thead>\n",
       "  <tbody>\n",
       "    <tr>\n",
       "      <th>0</th>\n",
       "      <td>1</td>\n",
       "      <td>1</td>\n",
       "      <td>2</td>\n",
       "      <td>0.99</td>\n",
       "      <td>1</td>\n",
       "    </tr>\n",
       "  </tbody>\n",
       "</table>\n",
       "</div>"
      ],
      "text/plain": [
       "   InvoiceLineId  InvoiceId  TrackId  UnitPrice  Quantity\n",
       "0              1          1        2       0.99         1"
      ]
     },
     "metadata": {},
     "output_type": "display_data"
    },
    {
     "name": "stdout",
     "output_type": "stream",
     "text": [
      "Table MediaType_df\n"
     ]
    },
    {
     "data": {
      "text/html": [
       "<div>\n",
       "<style scoped>\n",
       "    .dataframe tbody tr th:only-of-type {\n",
       "        vertical-align: middle;\n",
       "    }\n",
       "\n",
       "    .dataframe tbody tr th {\n",
       "        vertical-align: top;\n",
       "    }\n",
       "\n",
       "    .dataframe thead th {\n",
       "        text-align: right;\n",
       "    }\n",
       "</style>\n",
       "<table border=\"1\" class=\"dataframe\">\n",
       "  <thead>\n",
       "    <tr style=\"text-align: right;\">\n",
       "      <th></th>\n",
       "      <th>MediaTypeId</th>\n",
       "      <th>Name</th>\n",
       "    </tr>\n",
       "  </thead>\n",
       "  <tbody>\n",
       "    <tr>\n",
       "      <th>0</th>\n",
       "      <td>1</td>\n",
       "      <td>MPEG audio file</td>\n",
       "    </tr>\n",
       "  </tbody>\n",
       "</table>\n",
       "</div>"
      ],
      "text/plain": [
       "   MediaTypeId             Name\n",
       "0            1  MPEG audio file"
      ]
     },
     "metadata": {},
     "output_type": "display_data"
    },
    {
     "name": "stdout",
     "output_type": "stream",
     "text": [
      "Table Playlist_df\n"
     ]
    },
    {
     "data": {
      "text/html": [
       "<div>\n",
       "<style scoped>\n",
       "    .dataframe tbody tr th:only-of-type {\n",
       "        vertical-align: middle;\n",
       "    }\n",
       "\n",
       "    .dataframe tbody tr th {\n",
       "        vertical-align: top;\n",
       "    }\n",
       "\n",
       "    .dataframe thead th {\n",
       "        text-align: right;\n",
       "    }\n",
       "</style>\n",
       "<table border=\"1\" class=\"dataframe\">\n",
       "  <thead>\n",
       "    <tr style=\"text-align: right;\">\n",
       "      <th></th>\n",
       "      <th>PlaylistId</th>\n",
       "      <th>Name</th>\n",
       "    </tr>\n",
       "  </thead>\n",
       "  <tbody>\n",
       "    <tr>\n",
       "      <th>0</th>\n",
       "      <td>1</td>\n",
       "      <td>Music</td>\n",
       "    </tr>\n",
       "  </tbody>\n",
       "</table>\n",
       "</div>"
      ],
      "text/plain": [
       "   PlaylistId   Name\n",
       "0           1  Music"
      ]
     },
     "metadata": {},
     "output_type": "display_data"
    },
    {
     "name": "stdout",
     "output_type": "stream",
     "text": [
      "Table PlaylistTrack_df\n"
     ]
    },
    {
     "data": {
      "text/html": [
       "<div>\n",
       "<style scoped>\n",
       "    .dataframe tbody tr th:only-of-type {\n",
       "        vertical-align: middle;\n",
       "    }\n",
       "\n",
       "    .dataframe tbody tr th {\n",
       "        vertical-align: top;\n",
       "    }\n",
       "\n",
       "    .dataframe thead th {\n",
       "        text-align: right;\n",
       "    }\n",
       "</style>\n",
       "<table border=\"1\" class=\"dataframe\">\n",
       "  <thead>\n",
       "    <tr style=\"text-align: right;\">\n",
       "      <th></th>\n",
       "      <th>PlaylistId</th>\n",
       "      <th>TrackId</th>\n",
       "    </tr>\n",
       "  </thead>\n",
       "  <tbody>\n",
       "    <tr>\n",
       "      <th>0</th>\n",
       "      <td>1</td>\n",
       "      <td>3402</td>\n",
       "    </tr>\n",
       "  </tbody>\n",
       "</table>\n",
       "</div>"
      ],
      "text/plain": [
       "   PlaylistId  TrackId\n",
       "0           1     3402"
      ]
     },
     "metadata": {},
     "output_type": "display_data"
    },
    {
     "name": "stdout",
     "output_type": "stream",
     "text": [
      "Table Track_df\n"
     ]
    },
    {
     "data": {
      "text/html": [
       "<div>\n",
       "<style scoped>\n",
       "    .dataframe tbody tr th:only-of-type {\n",
       "        vertical-align: middle;\n",
       "    }\n",
       "\n",
       "    .dataframe tbody tr th {\n",
       "        vertical-align: top;\n",
       "    }\n",
       "\n",
       "    .dataframe thead th {\n",
       "        text-align: right;\n",
       "    }\n",
       "</style>\n",
       "<table border=\"1\" class=\"dataframe\">\n",
       "  <thead>\n",
       "    <tr style=\"text-align: right;\">\n",
       "      <th></th>\n",
       "      <th>TrackId</th>\n",
       "      <th>Name</th>\n",
       "      <th>AlbumId</th>\n",
       "      <th>MediaTypeId</th>\n",
       "      <th>GenreId</th>\n",
       "      <th>Composer</th>\n",
       "      <th>Milliseconds</th>\n",
       "      <th>Bytes</th>\n",
       "      <th>UnitPrice</th>\n",
       "    </tr>\n",
       "  </thead>\n",
       "  <tbody>\n",
       "    <tr>\n",
       "      <th>0</th>\n",
       "      <td>1</td>\n",
       "      <td>For Those About To Rock (We Salute You)</td>\n",
       "      <td>1</td>\n",
       "      <td>1</td>\n",
       "      <td>1</td>\n",
       "      <td>Angus Young, Malcolm Young, Brian Johnson</td>\n",
       "      <td>343719</td>\n",
       "      <td>11170334</td>\n",
       "      <td>0.99</td>\n",
       "    </tr>\n",
       "  </tbody>\n",
       "</table>\n",
       "</div>"
      ],
      "text/plain": [
       "   TrackId                                     Name  AlbumId  MediaTypeId  \\\n",
       "0        1  For Those About To Rock (We Salute You)        1            1   \n",
       "\n",
       "   GenreId                                   Composer  Milliseconds     Bytes  \\\n",
       "0        1  Angus Young, Malcolm Young, Brian Johnson        343719  11170334   \n",
       "\n",
       "   UnitPrice  \n",
       "0       0.99  "
      ]
     },
     "metadata": {},
     "output_type": "display_data"
    }
   ],
   "source": [
    "# Print out all the tables to provide a reference\n",
    "# Please note that the exec() command is a rather powerful tool, and should be used lightly\n",
    "\n",
    "for df in df_list:\n",
    "    command = 'display({}.head(1))'.format(df)\n",
    "    print(f'Table {df}')\n",
    "    exec(command)"
   ]
  },
  {
   "cell_type": "code",
   "execution_count": 21,
   "metadata": {
    "ExecuteTime": {
     "end_time": "2022-09-22T13:49:38.914407Z",
     "start_time": "2022-09-22T13:49:38.896906Z"
    }
   },
   "outputs": [],
   "source": [
    "# Create a dataframe with a count of each table and the table name\n",
    "count_df = pd.DataFrame()"
   ]
  },
  {
   "cell_type": "code",
   "execution_count": 22,
   "metadata": {
    "ExecuteTime": {
     "end_time": "2022-09-22T13:49:39.546158Z",
     "start_time": "2022-09-22T13:49:39.536128Z"
    }
   },
   "outputs": [],
   "source": [
    "count_df['name'] = df_list"
   ]
  },
  {
   "cell_type": "code",
   "execution_count": 23,
   "metadata": {
    "ExecuteTime": {
     "end_time": "2022-09-22T13:49:40.178285Z",
     "start_time": "2022-09-22T13:49:40.169254Z"
    }
   },
   "outputs": [],
   "source": [
    "size_list = [globals()[x].shape[0] for x in df_list]"
   ]
  },
  {
   "cell_type": "code",
   "execution_count": 24,
   "metadata": {
    "ExecuteTime": {
     "end_time": "2022-09-22T13:49:42.921211Z",
     "start_time": "2022-09-22T13:49:42.909181Z"
    }
   },
   "outputs": [
    {
     "data": {
      "text/plain": [
       "[347, 275, 59, 8, 25, 412, 2240, 5, 18, 8715, 3503]"
      ]
     },
     "execution_count": 24,
     "metadata": {},
     "output_type": "execute_result"
    }
   ],
   "source": [
    "size_list"
   ]
  },
  {
   "cell_type": "code",
   "execution_count": 25,
   "metadata": {
    "ExecuteTime": {
     "end_time": "2022-09-22T13:49:43.506291Z",
     "start_time": "2022-09-22T13:49:43.494261Z"
    }
   },
   "outputs": [],
   "source": [
    "count_df['size'] = size_list"
   ]
  },
  {
   "cell_type": "code",
   "execution_count": 26,
   "metadata": {
    "ExecuteTime": {
     "end_time": "2022-09-22T13:49:43.986477Z",
     "start_time": "2022-09-22T13:49:43.977502Z"
    }
   },
   "outputs": [
    {
     "data": {
      "text/html": [
       "<div>\n",
       "<style scoped>\n",
       "    .dataframe tbody tr th:only-of-type {\n",
       "        vertical-align: middle;\n",
       "    }\n",
       "\n",
       "    .dataframe tbody tr th {\n",
       "        vertical-align: top;\n",
       "    }\n",
       "\n",
       "    .dataframe thead th {\n",
       "        text-align: right;\n",
       "    }\n",
       "</style>\n",
       "<table border=\"1\" class=\"dataframe\">\n",
       "  <thead>\n",
       "    <tr style=\"text-align: right;\">\n",
       "      <th></th>\n",
       "      <th>name</th>\n",
       "      <th>size</th>\n",
       "    </tr>\n",
       "  </thead>\n",
       "  <tbody>\n",
       "    <tr>\n",
       "      <th>0</th>\n",
       "      <td>Album_df</td>\n",
       "      <td>347</td>\n",
       "    </tr>\n",
       "    <tr>\n",
       "      <th>1</th>\n",
       "      <td>Artist_df</td>\n",
       "      <td>275</td>\n",
       "    </tr>\n",
       "    <tr>\n",
       "      <th>2</th>\n",
       "      <td>Customer_df</td>\n",
       "      <td>59</td>\n",
       "    </tr>\n",
       "    <tr>\n",
       "      <th>3</th>\n",
       "      <td>Employee_df</td>\n",
       "      <td>8</td>\n",
       "    </tr>\n",
       "    <tr>\n",
       "      <th>4</th>\n",
       "      <td>Genre_df</td>\n",
       "      <td>25</td>\n",
       "    </tr>\n",
       "    <tr>\n",
       "      <th>5</th>\n",
       "      <td>Invoice_df</td>\n",
       "      <td>412</td>\n",
       "    </tr>\n",
       "    <tr>\n",
       "      <th>6</th>\n",
       "      <td>InvoiceLine_df</td>\n",
       "      <td>2240</td>\n",
       "    </tr>\n",
       "    <tr>\n",
       "      <th>7</th>\n",
       "      <td>MediaType_df</td>\n",
       "      <td>5</td>\n",
       "    </tr>\n",
       "    <tr>\n",
       "      <th>8</th>\n",
       "      <td>Playlist_df</td>\n",
       "      <td>18</td>\n",
       "    </tr>\n",
       "    <tr>\n",
       "      <th>9</th>\n",
       "      <td>PlaylistTrack_df</td>\n",
       "      <td>8715</td>\n",
       "    </tr>\n",
       "    <tr>\n",
       "      <th>10</th>\n",
       "      <td>Track_df</td>\n",
       "      <td>3503</td>\n",
       "    </tr>\n",
       "  </tbody>\n",
       "</table>\n",
       "</div>"
      ],
      "text/plain": [
       "                name  size\n",
       "0           Album_df   347\n",
       "1          Artist_df   275\n",
       "2        Customer_df    59\n",
       "3        Employee_df     8\n",
       "4           Genre_df    25\n",
       "5         Invoice_df   412\n",
       "6     InvoiceLine_df  2240\n",
       "7       MediaType_df     5\n",
       "8        Playlist_df    18\n",
       "9   PlaylistTrack_df  8715\n",
       "10          Track_df  3503"
      ]
     },
     "execution_count": 26,
     "metadata": {},
     "output_type": "execute_result"
    }
   ],
   "source": [
    "count_df"
   ]
  },
  {
   "cell_type": "code",
   "execution_count": 27,
   "metadata": {
    "ExecuteTime": {
     "end_time": "2022-09-22T13:49:44.557103Z",
     "start_time": "2022-09-22T13:49:44.546603Z"
    }
   },
   "outputs": [
    {
     "data": {
      "text/html": [
       "<div>\n",
       "<style scoped>\n",
       "    .dataframe tbody tr th:only-of-type {\n",
       "        vertical-align: middle;\n",
       "    }\n",
       "\n",
       "    .dataframe tbody tr th {\n",
       "        vertical-align: top;\n",
       "    }\n",
       "\n",
       "    .dataframe thead th {\n",
       "        text-align: right;\n",
       "    }\n",
       "</style>\n",
       "<table border=\"1\" class=\"dataframe\">\n",
       "  <thead>\n",
       "    <tr style=\"text-align: right;\">\n",
       "      <th></th>\n",
       "      <th>InvoiceId</th>\n",
       "      <th>CustomerId</th>\n",
       "      <th>InvoiceDate</th>\n",
       "      <th>BillingAddress</th>\n",
       "      <th>BillingCity</th>\n",
       "      <th>BillingState</th>\n",
       "      <th>BillingCountry</th>\n",
       "      <th>BillingPostalCode</th>\n",
       "      <th>Total</th>\n",
       "    </tr>\n",
       "  </thead>\n",
       "  <tbody>\n",
       "    <tr>\n",
       "      <th>0</th>\n",
       "      <td>1</td>\n",
       "      <td>2</td>\n",
       "      <td>2009-01-01 00:00:00</td>\n",
       "      <td>Theodor-Heuss-Straße 34</td>\n",
       "      <td>Stuttgart</td>\n",
       "      <td>None</td>\n",
       "      <td>Germany</td>\n",
       "      <td>70174</td>\n",
       "      <td>1.98</td>\n",
       "    </tr>\n",
       "  </tbody>\n",
       "</table>\n",
       "</div>"
      ],
      "text/plain": [
       "   InvoiceId  CustomerId          InvoiceDate           BillingAddress  \\\n",
       "0          1           2  2009-01-01 00:00:00  Theodor-Heuss-Straße 34   \n",
       "\n",
       "  BillingCity BillingState BillingCountry BillingPostalCode  Total  \n",
       "0   Stuttgart         None        Germany             70174   1.98  "
      ]
     },
     "execution_count": 27,
     "metadata": {},
     "output_type": "execute_result"
    }
   ],
   "source": [
    "Invoice_df.head(1)"
   ]
  },
  {
   "cell_type": "code",
   "execution_count": 28,
   "metadata": {
    "ExecuteTime": {
     "end_time": "2022-09-22T13:49:45.791146Z",
     "start_time": "2022-09-22T13:49:45.787615Z"
    }
   },
   "outputs": [],
   "source": [
    "# Which Customer_id has the largest number of invoices?\n",
    "\n",
    "query = \"\"\"\n",
    "SELECT\n",
    "    CustomerID, COUNT(CustomerID)\n",
    "FROM\n",
    "    Invoice\n",
    "GROUP BY\n",
    "    CustomerID\n",
    "ORDER BY\n",
    "    COUNT(CustomerID) DESC\n",
    "LIMIT 1\n",
    "\"\"\""
   ]
  },
  {
   "cell_type": "code",
   "execution_count": 29,
   "metadata": {
    "ExecuteTime": {
     "end_time": "2022-09-22T13:49:46.947094Z",
     "start_time": "2022-09-22T13:49:46.929564Z"
    }
   },
   "outputs": [
    {
     "data": {
      "text/html": [
       "<div>\n",
       "<style scoped>\n",
       "    .dataframe tbody tr th:only-of-type {\n",
       "        vertical-align: middle;\n",
       "    }\n",
       "\n",
       "    .dataframe tbody tr th {\n",
       "        vertical-align: top;\n",
       "    }\n",
       "\n",
       "    .dataframe thead th {\n",
       "        text-align: right;\n",
       "    }\n",
       "</style>\n",
       "<table border=\"1\" class=\"dataframe\">\n",
       "  <thead>\n",
       "    <tr style=\"text-align: right;\">\n",
       "      <th></th>\n",
       "      <th>CustomerId</th>\n",
       "      <th>COUNT(CustomerID)</th>\n",
       "    </tr>\n",
       "  </thead>\n",
       "  <tbody>\n",
       "    <tr>\n",
       "      <th>0</th>\n",
       "      <td>1</td>\n",
       "      <td>7</td>\n",
       "    </tr>\n",
       "  </tbody>\n",
       "</table>\n",
       "</div>"
      ],
      "text/plain": [
       "   CustomerId  COUNT(CustomerID)\n",
       "0           1                  7"
      ]
     },
     "execution_count": 29,
     "metadata": {},
     "output_type": "execute_result"
    }
   ],
   "source": [
    "max_customer = pd.read_sql(query, con)\n",
    "max_customer"
   ]
  },
  {
   "cell_type": "code",
   "execution_count": 32,
   "metadata": {
    "ExecuteTime": {
     "end_time": "2022-09-22T14:07:37.602861Z",
     "start_time": "2022-09-22T14:07:37.594361Z"
    }
   },
   "outputs": [
    {
     "data": {
      "text/html": [
       "<div>\n",
       "<style scoped>\n",
       "    .dataframe tbody tr th:only-of-type {\n",
       "        vertical-align: middle;\n",
       "    }\n",
       "\n",
       "    .dataframe tbody tr th {\n",
       "        vertical-align: top;\n",
       "    }\n",
       "\n",
       "    .dataframe thead th {\n",
       "        text-align: right;\n",
       "    }\n",
       "</style>\n",
       "<table border=\"1\" class=\"dataframe\">\n",
       "  <thead>\n",
       "    <tr style=\"text-align: right;\">\n",
       "      <th></th>\n",
       "      <th>InvoiceLineId</th>\n",
       "      <th>InvoiceId</th>\n",
       "      <th>TrackId</th>\n",
       "      <th>UnitPrice</th>\n",
       "      <th>Quantity</th>\n",
       "    </tr>\n",
       "  </thead>\n",
       "  <tbody>\n",
       "    <tr>\n",
       "      <th>0</th>\n",
       "      <td>1</td>\n",
       "      <td>1</td>\n",
       "      <td>2</td>\n",
       "      <td>0.99</td>\n",
       "      <td>1</td>\n",
       "    </tr>\n",
       "  </tbody>\n",
       "</table>\n",
       "</div>"
      ],
      "text/plain": [
       "   InvoiceLineId  InvoiceId  TrackId  UnitPrice  Quantity\n",
       "0              1          1        2       0.99         1"
      ]
     },
     "execution_count": 32,
     "metadata": {},
     "output_type": "execute_result"
    }
   ],
   "source": [
    "InvoiceLine_df.head(1)"
   ]
  },
  {
   "cell_type": "code",
   "execution_count": 59,
   "metadata": {
    "ExecuteTime": {
     "end_time": "2022-09-22T14:15:44.805853Z",
     "start_time": "2022-09-22T14:15:44.797344Z"
    }
   },
   "outputs": [
    {
     "data": {
      "text/html": [
       "<div>\n",
       "<style scoped>\n",
       "    .dataframe tbody tr th:only-of-type {\n",
       "        vertical-align: middle;\n",
       "    }\n",
       "\n",
       "    .dataframe tbody tr th {\n",
       "        vertical-align: top;\n",
       "    }\n",
       "\n",
       "    .dataframe thead th {\n",
       "        text-align: right;\n",
       "    }\n",
       "</style>\n",
       "<table border=\"1\" class=\"dataframe\">\n",
       "  <thead>\n",
       "    <tr style=\"text-align: right;\">\n",
       "      <th></th>\n",
       "      <th>TrackId</th>\n",
       "      <th>Name</th>\n",
       "      <th>AlbumId</th>\n",
       "      <th>MediaTypeId</th>\n",
       "      <th>GenreId</th>\n",
       "      <th>Composer</th>\n",
       "      <th>Milliseconds</th>\n",
       "      <th>Bytes</th>\n",
       "      <th>UnitPrice</th>\n",
       "    </tr>\n",
       "  </thead>\n",
       "  <tbody>\n",
       "    <tr>\n",
       "      <th>0</th>\n",
       "      <td>1</td>\n",
       "      <td>For Those About To Rock (We Salute You)</td>\n",
       "      <td>1</td>\n",
       "      <td>1</td>\n",
       "      <td>1</td>\n",
       "      <td>Angus Young, Malcolm Young, Brian Johnson</td>\n",
       "      <td>343719</td>\n",
       "      <td>11170334</td>\n",
       "      <td>0.99</td>\n",
       "    </tr>\n",
       "    <tr>\n",
       "      <th>1</th>\n",
       "      <td>2</td>\n",
       "      <td>Balls to the Wall</td>\n",
       "      <td>2</td>\n",
       "      <td>2</td>\n",
       "      <td>1</td>\n",
       "      <td>None</td>\n",
       "      <td>342562</td>\n",
       "      <td>5510424</td>\n",
       "      <td>0.99</td>\n",
       "    </tr>\n",
       "    <tr>\n",
       "      <th>2</th>\n",
       "      <td>3</td>\n",
       "      <td>Fast As a Shark</td>\n",
       "      <td>3</td>\n",
       "      <td>2</td>\n",
       "      <td>1</td>\n",
       "      <td>F. Baltes, S. Kaufman, U. Dirkscneider &amp; W. Ho...</td>\n",
       "      <td>230619</td>\n",
       "      <td>3990994</td>\n",
       "      <td>0.99</td>\n",
       "    </tr>\n",
       "  </tbody>\n",
       "</table>\n",
       "</div>"
      ],
      "text/plain": [
       "   TrackId                                     Name  AlbumId  MediaTypeId  \\\n",
       "0        1  For Those About To Rock (We Salute You)        1            1   \n",
       "1        2                        Balls to the Wall        2            2   \n",
       "2        3                          Fast As a Shark        3            2   \n",
       "\n",
       "   GenreId                                           Composer  Milliseconds  \\\n",
       "0        1          Angus Young, Malcolm Young, Brian Johnson        343719   \n",
       "1        1                                               None        342562   \n",
       "2        1  F. Baltes, S. Kaufman, U. Dirkscneider & W. Ho...        230619   \n",
       "\n",
       "      Bytes  UnitPrice  \n",
       "0  11170334       0.99  \n",
       "1   5510424       0.99  \n",
       "2   3990994       0.99  "
      ]
     },
     "execution_count": 59,
     "metadata": {},
     "output_type": "execute_result"
    }
   ],
   "source": [
    "Track_df.head(3)"
   ]
  },
  {
   "cell_type": "markdown",
   "metadata": {},
   "source": [
    "Questions:\n",
    "1. Where is the data?\n",
    "   - InvoiceLine\n",
    "   - Track\n",
    "   \n",
    "   \n",
    "2. What to display?\n",
    "    - Name of the Song\n",
    "   \n",
    "   \n",
    "3. Aggs?\n",
    "    - group on Song/trackid\n",
    "    - count on song/trackid\n",
    "   \n",
    "   \n",
    "from invoiceline get trackid group by track id count track id"
   ]
  },
  {
   "cell_type": "code",
   "execution_count": 60,
   "metadata": {
    "ExecuteTime": {
     "end_time": "2022-09-22T14:16:20.813444Z",
     "start_time": "2022-09-22T14:16:20.800442Z"
    }
   },
   "outputs": [],
   "source": [
    "query  = '''\n",
    "\n",
    "SELECT\n",
    "    tr.Name AS 'Track Name'\n",
    "FROM\n",
    "    InvoiceLine AS il\n",
    "    INNER JOIN\n",
    "        Track AS tr WHERE il.TrackID = tr.TrackID\n",
    "GROUP BY\n",
    "    il.TrackID\n",
    "ORDER BY\n",
    "    COUNT(il.TrackID) DESC\n",
    "LIMIT 1\n",
    "'''"
   ]
  },
  {
   "cell_type": "code",
   "execution_count": 61,
   "metadata": {
    "ExecuteTime": {
     "end_time": "2022-09-22T14:16:21.309443Z",
     "start_time": "2022-09-22T14:16:21.302470Z"
    }
   },
   "outputs": [],
   "source": [
    "trackcount = pd.read_sql(query, con)"
   ]
  },
  {
   "cell_type": "code",
   "execution_count": 62,
   "metadata": {
    "ExecuteTime": {
     "end_time": "2022-09-22T14:16:21.944943Z",
     "start_time": "2022-09-22T14:16:21.935443Z"
    }
   },
   "outputs": [
    {
     "data": {
      "text/html": [
       "<div>\n",
       "<style scoped>\n",
       "    .dataframe tbody tr th:only-of-type {\n",
       "        vertical-align: middle;\n",
       "    }\n",
       "\n",
       "    .dataframe tbody tr th {\n",
       "        vertical-align: top;\n",
       "    }\n",
       "\n",
       "    .dataframe thead th {\n",
       "        text-align: right;\n",
       "    }\n",
       "</style>\n",
       "<table border=\"1\" class=\"dataframe\">\n",
       "  <thead>\n",
       "    <tr style=\"text-align: right;\">\n",
       "      <th></th>\n",
       "      <th>Track Name</th>\n",
       "    </tr>\n",
       "  </thead>\n",
       "  <tbody>\n",
       "    <tr>\n",
       "      <th>0</th>\n",
       "      <td>Balls to the Wall</td>\n",
       "    </tr>\n",
       "  </tbody>\n",
       "</table>\n",
       "</div>"
      ],
      "text/plain": [
       "          Track Name\n",
       "0  Balls to the Wall"
      ]
     },
     "execution_count": 62,
     "metadata": {},
     "output_type": "execute_result"
    }
   ],
   "source": [
    "trackcount"
   ]
  },
  {
   "cell_type": "raw",
   "metadata": {},
   "source": []
  },
  {
   "cell_type": "code",
   "execution_count": null,
   "metadata": {},
   "outputs": [],
   "source": [
    "# What Song Name is most often purchased"
   ]
  },
  {
   "cell_type": "markdown",
   "metadata": {},
   "source": [
    "Questions.\n",
    "\n",
    "1. Where's the data\n",
    "    - song price in Track\n",
    "    \n",
    "    \n",
    "2. Display/Return\n",
    "    - ave track price\n",
    "    \n",
    "    \n",
    "3. Aggs?\n",
    "    - AVG"
   ]
  },
  {
   "cell_type": "code",
   "execution_count": 63,
   "metadata": {
    "ExecuteTime": {
     "end_time": "2022-09-22T14:21:39.288068Z",
     "start_time": "2022-09-22T14:21:39.279569Z"
    }
   },
   "outputs": [],
   "source": [
    "# What is the average price of a track?\n",
    "\n",
    "query = '''\n",
    "\n",
    "SELECT \n",
    "    AVG(UnitPrice)\n",
    "FROM\n",
    "    Track\n",
    "'''"
   ]
  },
  {
   "cell_type": "code",
   "execution_count": 64,
   "metadata": {
    "ExecuteTime": {
     "end_time": "2022-09-22T14:21:52.532492Z",
     "start_time": "2022-09-22T14:21:52.523960Z"
    }
   },
   "outputs": [
    {
     "data": {
      "text/html": [
       "<div>\n",
       "<style scoped>\n",
       "    .dataframe tbody tr th:only-of-type {\n",
       "        vertical-align: middle;\n",
       "    }\n",
       "\n",
       "    .dataframe tbody tr th {\n",
       "        vertical-align: top;\n",
       "    }\n",
       "\n",
       "    .dataframe thead th {\n",
       "        text-align: right;\n",
       "    }\n",
       "</style>\n",
       "<table border=\"1\" class=\"dataframe\">\n",
       "  <thead>\n",
       "    <tr style=\"text-align: right;\">\n",
       "      <th></th>\n",
       "      <th>AVG(UnitPrice)</th>\n",
       "    </tr>\n",
       "  </thead>\n",
       "  <tbody>\n",
       "    <tr>\n",
       "      <th>0</th>\n",
       "      <td>1.050805</td>\n",
       "    </tr>\n",
       "  </tbody>\n",
       "</table>\n",
       "</div>"
      ],
      "text/plain": [
       "   AVG(UnitPrice)\n",
       "0        1.050805"
      ]
     },
     "execution_count": 64,
     "metadata": {},
     "output_type": "execute_result"
    }
   ],
   "source": [
    "pd.read_sql(query, con)"
   ]
  },
  {
   "cell_type": "code",
   "execution_count": null,
   "metadata": {},
   "outputs": [],
   "source": [
    "# Which employee has the most direct reports?"
   ]
  },
  {
   "cell_type": "code",
   "execution_count": null,
   "metadata": {},
   "outputs": [],
   "source": [
    "# In what city does the customer with the largest purchase amount live?"
   ]
  },
  {
   "cell_type": "code",
   "execution_count": null,
   "metadata": {},
   "outputs": [],
   "source": [
    "# What country has the largest about of customers?"
   ]
  },
  {
   "cell_type": "code",
   "execution_count": null,
   "metadata": {},
   "outputs": [],
   "source": [
    "# What is the most popular song by country?\n",
    "\n",
    "# Who is the artist?"
   ]
  },
  {
   "cell_type": "code",
   "execution_count": null,
   "metadata": {},
   "outputs": [],
   "source": [
    "# What is the most common artist by playlist? \n",
    "\n",
    "# What is the name of their most popular song?\n"
   ]
  },
  {
   "cell_type": "code",
   "execution_count": null,
   "metadata": {},
   "outputs": [],
   "source": [
    "# What song is in the most playlists?\n",
    "\n",
    "# Who is the artist?"
   ]
  },
  {
   "cell_type": "code",
   "execution_count": null,
   "metadata": {},
   "outputs": [],
   "source": [
    "# What song is in the most playlists\n",
    "\n",
    "# Who is the artist?"
   ]
  },
  {
   "cell_type": "code",
   "execution_count": null,
   "metadata": {},
   "outputs": [],
   "source": [
    "# What is the most common media type by country?"
   ]
  },
  {
   "cell_type": "code",
   "execution_count": null,
   "metadata": {},
   "outputs": [],
   "source": [
    "# What is the most common media type by purchase?"
   ]
  },
  {
   "cell_type": "code",
   "execution_count": null,
   "metadata": {},
   "outputs": [],
   "source": [
    "# What is the average expenditure by media type by country?"
   ]
  },
  {
   "cell_type": "code",
   "execution_count": null,
   "metadata": {},
   "outputs": [],
   "source": []
  }
 ],
 "metadata": {
  "kernelspec": {
   "display_name": "learn-env",
   "language": "python",
   "name": "learn-env"
  },
  "language_info": {
   "codemirror_mode": {
    "name": "ipython",
    "version": 3
   },
   "file_extension": ".py",
   "mimetype": "text/x-python",
   "name": "python",
   "nbconvert_exporter": "python",
   "pygments_lexer": "ipython3",
   "version": "3.8.5"
  },
  "toc": {
   "base_numbering": 1,
   "nav_menu": {},
   "number_sections": true,
   "sideBar": true,
   "skip_h1_title": false,
   "title_cell": "Table of Contents",
   "title_sidebar": "Contents",
   "toc_cell": false,
   "toc_position": {},
   "toc_section_display": true,
   "toc_window_display": false
  },
  "varInspector": {
   "cols": {
    "lenName": 16,
    "lenType": 16,
    "lenVar": 40
   },
   "kernels_config": {
    "python": {
     "delete_cmd_postfix": "",
     "delete_cmd_prefix": "del ",
     "library": "var_list.py",
     "varRefreshCmd": "print(var_dic_list())"
    },
    "r": {
     "delete_cmd_postfix": ") ",
     "delete_cmd_prefix": "rm(",
     "library": "var_list.r",
     "varRefreshCmd": "cat(var_dic_list()) "
    }
   },
   "types_to_exclude": [
    "module",
    "function",
    "builtin_function_or_method",
    "instance",
    "_Feature"
   ],
   "window_display": false
  }
 },
 "nbformat": 4,
 "nbformat_minor": 4
}
